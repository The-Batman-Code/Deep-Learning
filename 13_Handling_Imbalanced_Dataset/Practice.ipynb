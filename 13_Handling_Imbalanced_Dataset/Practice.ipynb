{
  "cells": [
    {
      "cell_type": "code",
      "execution_count": 236,
      "metadata": {
        "id": "2eLFsZdiwq9W"
      },
      "outputs": [],
      "source": [
        "import pandas as pd\n",
        "import matplotlib.pyplot as plt\n",
        "import numpy as np\n",
        "import tensorflow as tf\n",
        "from tensorflow import keras\n",
        "%matplotlib inline"
      ]
    },
    {
      "cell_type": "markdown",
      "source": [
        "# Cleaning Data"
      ],
      "metadata": {
        "id": "UJUXbHYzln_p"
      }
    },
    {
      "cell_type": "code",
      "execution_count": 237,
      "metadata": {
        "colab": {
          "base_uri": "https://localhost:8080/",
          "height": 0
        },
        "id": "V1jYOPi8yM5t",
        "outputId": "ad134098-9eba-4a93-bae8-6b6e5bb020f2"
      },
      "outputs": [
        {
          "output_type": "execute_result",
          "data": {
            "text/plain": [
              "      customerID  gender  SeniorCitizen Partner Dependents  tenure  \\\n",
              "1434  1571-SAVHK    Male              0      No         No      12   \n",
              "1207  0013-MHZWF  Female              0      No        Yes       9   \n",
              "5085  7074-STDCN    Male              0      No         No      39   \n",
              "6939  2758-RNWXS    Male              0      No         No      35   \n",
              "5090  6502-HCJTI    Male              1     Yes         No       7   \n",
              "\n",
              "     PhoneService     MultipleLines InternetService OnlineSecurity  ...  \\\n",
              "1434          Yes               Yes     Fiber optic             No  ...   \n",
              "1207          Yes                No             DSL             No  ...   \n",
              "5085           No  No phone service             DSL             No  ...   \n",
              "6939          Yes                No     Fiber optic            Yes  ...   \n",
              "5090          Yes               Yes     Fiber optic            Yes  ...   \n",
              "\n",
              "     DeviceProtection TechSupport StreamingTV StreamingMovies        Contract  \\\n",
              "1434               No         Yes         Yes             Yes  Month-to-month   \n",
              "1207               No         Yes         Yes             Yes  Month-to-month   \n",
              "5085               No         Yes          No             Yes  Month-to-month   \n",
              "6939               No         Yes          No             Yes        One year   \n",
              "5090               No          No          No             Yes  Month-to-month   \n",
              "\n",
              "     PaperlessBilling            PaymentMethod MonthlyCharges  TotalCharges  \\\n",
              "1434              Yes             Mailed check          99.95       1132.75   \n",
              "1207              Yes  Credit card (automatic)          69.40        571.45   \n",
              "5085              Yes         Electronic check          40.60        1494.5   \n",
              "6939              Yes         Electronic check          89.20        3251.3   \n",
              "5090              Yes  Credit card (automatic)          94.70         673.1   \n",
              "\n",
              "     Churn  \n",
              "1434   Yes  \n",
              "1207    No  \n",
              "5085    No  \n",
              "6939    No  \n",
              "5090   Yes  \n",
              "\n",
              "[5 rows x 21 columns]"
            ],
            "text/html": [
              "\n",
              "  <div id=\"df-78f7568f-fc30-4fab-9c00-24932c8c8145\">\n",
              "    <div class=\"colab-df-container\">\n",
              "      <div>\n",
              "<style scoped>\n",
              "    .dataframe tbody tr th:only-of-type {\n",
              "        vertical-align: middle;\n",
              "    }\n",
              "\n",
              "    .dataframe tbody tr th {\n",
              "        vertical-align: top;\n",
              "    }\n",
              "\n",
              "    .dataframe thead th {\n",
              "        text-align: right;\n",
              "    }\n",
              "</style>\n",
              "<table border=\"1\" class=\"dataframe\">\n",
              "  <thead>\n",
              "    <tr style=\"text-align: right;\">\n",
              "      <th></th>\n",
              "      <th>customerID</th>\n",
              "      <th>gender</th>\n",
              "      <th>SeniorCitizen</th>\n",
              "      <th>Partner</th>\n",
              "      <th>Dependents</th>\n",
              "      <th>tenure</th>\n",
              "      <th>PhoneService</th>\n",
              "      <th>MultipleLines</th>\n",
              "      <th>InternetService</th>\n",
              "      <th>OnlineSecurity</th>\n",
              "      <th>...</th>\n",
              "      <th>DeviceProtection</th>\n",
              "      <th>TechSupport</th>\n",
              "      <th>StreamingTV</th>\n",
              "      <th>StreamingMovies</th>\n",
              "      <th>Contract</th>\n",
              "      <th>PaperlessBilling</th>\n",
              "      <th>PaymentMethod</th>\n",
              "      <th>MonthlyCharges</th>\n",
              "      <th>TotalCharges</th>\n",
              "      <th>Churn</th>\n",
              "    </tr>\n",
              "  </thead>\n",
              "  <tbody>\n",
              "    <tr>\n",
              "      <th>1434</th>\n",
              "      <td>1571-SAVHK</td>\n",
              "      <td>Male</td>\n",
              "      <td>0</td>\n",
              "      <td>No</td>\n",
              "      <td>No</td>\n",
              "      <td>12</td>\n",
              "      <td>Yes</td>\n",
              "      <td>Yes</td>\n",
              "      <td>Fiber optic</td>\n",
              "      <td>No</td>\n",
              "      <td>...</td>\n",
              "      <td>No</td>\n",
              "      <td>Yes</td>\n",
              "      <td>Yes</td>\n",
              "      <td>Yes</td>\n",
              "      <td>Month-to-month</td>\n",
              "      <td>Yes</td>\n",
              "      <td>Mailed check</td>\n",
              "      <td>99.95</td>\n",
              "      <td>1132.75</td>\n",
              "      <td>Yes</td>\n",
              "    </tr>\n",
              "    <tr>\n",
              "      <th>1207</th>\n",
              "      <td>0013-MHZWF</td>\n",
              "      <td>Female</td>\n",
              "      <td>0</td>\n",
              "      <td>No</td>\n",
              "      <td>Yes</td>\n",
              "      <td>9</td>\n",
              "      <td>Yes</td>\n",
              "      <td>No</td>\n",
              "      <td>DSL</td>\n",
              "      <td>No</td>\n",
              "      <td>...</td>\n",
              "      <td>No</td>\n",
              "      <td>Yes</td>\n",
              "      <td>Yes</td>\n",
              "      <td>Yes</td>\n",
              "      <td>Month-to-month</td>\n",
              "      <td>Yes</td>\n",
              "      <td>Credit card (automatic)</td>\n",
              "      <td>69.40</td>\n",
              "      <td>571.45</td>\n",
              "      <td>No</td>\n",
              "    </tr>\n",
              "    <tr>\n",
              "      <th>5085</th>\n",
              "      <td>7074-STDCN</td>\n",
              "      <td>Male</td>\n",
              "      <td>0</td>\n",
              "      <td>No</td>\n",
              "      <td>No</td>\n",
              "      <td>39</td>\n",
              "      <td>No</td>\n",
              "      <td>No phone service</td>\n",
              "      <td>DSL</td>\n",
              "      <td>No</td>\n",
              "      <td>...</td>\n",
              "      <td>No</td>\n",
              "      <td>Yes</td>\n",
              "      <td>No</td>\n",
              "      <td>Yes</td>\n",
              "      <td>Month-to-month</td>\n",
              "      <td>Yes</td>\n",
              "      <td>Electronic check</td>\n",
              "      <td>40.60</td>\n",
              "      <td>1494.5</td>\n",
              "      <td>No</td>\n",
              "    </tr>\n",
              "    <tr>\n",
              "      <th>6939</th>\n",
              "      <td>2758-RNWXS</td>\n",
              "      <td>Male</td>\n",
              "      <td>0</td>\n",
              "      <td>No</td>\n",
              "      <td>No</td>\n",
              "      <td>35</td>\n",
              "      <td>Yes</td>\n",
              "      <td>No</td>\n",
              "      <td>Fiber optic</td>\n",
              "      <td>Yes</td>\n",
              "      <td>...</td>\n",
              "      <td>No</td>\n",
              "      <td>Yes</td>\n",
              "      <td>No</td>\n",
              "      <td>Yes</td>\n",
              "      <td>One year</td>\n",
              "      <td>Yes</td>\n",
              "      <td>Electronic check</td>\n",
              "      <td>89.20</td>\n",
              "      <td>3251.3</td>\n",
              "      <td>No</td>\n",
              "    </tr>\n",
              "    <tr>\n",
              "      <th>5090</th>\n",
              "      <td>6502-HCJTI</td>\n",
              "      <td>Male</td>\n",
              "      <td>1</td>\n",
              "      <td>Yes</td>\n",
              "      <td>No</td>\n",
              "      <td>7</td>\n",
              "      <td>Yes</td>\n",
              "      <td>Yes</td>\n",
              "      <td>Fiber optic</td>\n",
              "      <td>Yes</td>\n",
              "      <td>...</td>\n",
              "      <td>No</td>\n",
              "      <td>No</td>\n",
              "      <td>No</td>\n",
              "      <td>Yes</td>\n",
              "      <td>Month-to-month</td>\n",
              "      <td>Yes</td>\n",
              "      <td>Credit card (automatic)</td>\n",
              "      <td>94.70</td>\n",
              "      <td>673.1</td>\n",
              "      <td>Yes</td>\n",
              "    </tr>\n",
              "  </tbody>\n",
              "</table>\n",
              "<p>5 rows × 21 columns</p>\n",
              "</div>\n",
              "      <button class=\"colab-df-convert\" onclick=\"convertToInteractive('df-78f7568f-fc30-4fab-9c00-24932c8c8145')\"\n",
              "              title=\"Convert this dataframe to an interactive table.\"\n",
              "              style=\"display:none;\">\n",
              "        \n",
              "  <svg xmlns=\"http://www.w3.org/2000/svg\" height=\"24px\"viewBox=\"0 0 24 24\"\n",
              "       width=\"24px\">\n",
              "    <path d=\"M0 0h24v24H0V0z\" fill=\"none\"/>\n",
              "    <path d=\"M18.56 5.44l.94 2.06.94-2.06 2.06-.94-2.06-.94-.94-2.06-.94 2.06-2.06.94zm-11 1L8.5 8.5l.94-2.06 2.06-.94-2.06-.94L8.5 2.5l-.94 2.06-2.06.94zm10 10l.94 2.06.94-2.06 2.06-.94-2.06-.94-.94-2.06-.94 2.06-2.06.94z\"/><path d=\"M17.41 7.96l-1.37-1.37c-.4-.4-.92-.59-1.43-.59-.52 0-1.04.2-1.43.59L10.3 9.45l-7.72 7.72c-.78.78-.78 2.05 0 2.83L4 21.41c.39.39.9.59 1.41.59.51 0 1.02-.2 1.41-.59l7.78-7.78 2.81-2.81c.8-.78.8-2.07 0-2.86zM5.41 20L4 18.59l7.72-7.72 1.47 1.35L5.41 20z\"/>\n",
              "  </svg>\n",
              "      </button>\n",
              "      \n",
              "  <style>\n",
              "    .colab-df-container {\n",
              "      display:flex;\n",
              "      flex-wrap:wrap;\n",
              "      gap: 12px;\n",
              "    }\n",
              "\n",
              "    .colab-df-convert {\n",
              "      background-color: #E8F0FE;\n",
              "      border: none;\n",
              "      border-radius: 50%;\n",
              "      cursor: pointer;\n",
              "      display: none;\n",
              "      fill: #1967D2;\n",
              "      height: 32px;\n",
              "      padding: 0 0 0 0;\n",
              "      width: 32px;\n",
              "    }\n",
              "\n",
              "    .colab-df-convert:hover {\n",
              "      background-color: #E2EBFA;\n",
              "      box-shadow: 0px 1px 2px rgba(60, 64, 67, 0.3), 0px 1px 3px 1px rgba(60, 64, 67, 0.15);\n",
              "      fill: #174EA6;\n",
              "    }\n",
              "\n",
              "    [theme=dark] .colab-df-convert {\n",
              "      background-color: #3B4455;\n",
              "      fill: #D2E3FC;\n",
              "    }\n",
              "\n",
              "    [theme=dark] .colab-df-convert:hover {\n",
              "      background-color: #434B5C;\n",
              "      box-shadow: 0px 1px 3px 1px rgba(0, 0, 0, 0.15);\n",
              "      filter: drop-shadow(0px 1px 2px rgba(0, 0, 0, 0.3));\n",
              "      fill: #FFFFFF;\n",
              "    }\n",
              "  </style>\n",
              "\n",
              "      <script>\n",
              "        const buttonEl =\n",
              "          document.querySelector('#df-78f7568f-fc30-4fab-9c00-24932c8c8145 button.colab-df-convert');\n",
              "        buttonEl.style.display =\n",
              "          google.colab.kernel.accessAllowed ? 'block' : 'none';\n",
              "\n",
              "        async function convertToInteractive(key) {\n",
              "          const element = document.querySelector('#df-78f7568f-fc30-4fab-9c00-24932c8c8145');\n",
              "          const dataTable =\n",
              "            await google.colab.kernel.invokeFunction('convertToInteractive',\n",
              "                                                     [key], {});\n",
              "          if (!dataTable) return;\n",
              "\n",
              "          const docLinkHtml = 'Like what you see? Visit the ' +\n",
              "            '<a target=\"_blank\" href=https://colab.research.google.com/notebooks/data_table.ipynb>data table notebook</a>'\n",
              "            + ' to learn more about interactive tables.';\n",
              "          element.innerHTML = '';\n",
              "          dataTable['output_type'] = 'display_data';\n",
              "          await google.colab.output.renderOutput(dataTable, element);\n",
              "          const docLink = document.createElement('div');\n",
              "          docLink.innerHTML = docLinkHtml;\n",
              "          element.appendChild(docLink);\n",
              "        }\n",
              "      </script>\n",
              "    </div>\n",
              "  </div>\n",
              "  "
            ]
          },
          "metadata": {},
          "execution_count": 237
        }
      ],
      "source": [
        "df=pd.read_csv('/content/customer_churn.csv')\n",
        "df.sample(5)"
      ]
    },
    {
      "cell_type": "code",
      "execution_count": 238,
      "metadata": {
        "id": "oqm7KUh3ySra"
      },
      "outputs": [],
      "source": [
        "df.drop('customerID',axis='columns', inplace=True)"
      ]
    },
    {
      "cell_type": "code",
      "execution_count": 239,
      "metadata": {
        "colab": {
          "base_uri": "https://localhost:8080/"
        },
        "id": "dCWQhtJNydvE",
        "outputId": "ef7c7483-12f2-4d65-99a2-83e8775f1a1c"
      },
      "outputs": [
        {
          "output_type": "execute_result",
          "data": {
            "text/plain": [
              "gender               object\n",
              "SeniorCitizen         int64\n",
              "Partner              object\n",
              "Dependents           object\n",
              "tenure                int64\n",
              "PhoneService         object\n",
              "MultipleLines        object\n",
              "InternetService      object\n",
              "OnlineSecurity       object\n",
              "OnlineBackup         object\n",
              "DeviceProtection     object\n",
              "TechSupport          object\n",
              "StreamingTV          object\n",
              "StreamingMovies      object\n",
              "Contract             object\n",
              "PaperlessBilling     object\n",
              "PaymentMethod        object\n",
              "MonthlyCharges      float64\n",
              "TotalCharges         object\n",
              "Churn                object\n",
              "dtype: object"
            ]
          },
          "metadata": {},
          "execution_count": 239
        }
      ],
      "source": [
        "df.dtypes"
      ]
    },
    {
      "cell_type": "code",
      "execution_count": 240,
      "metadata": {
        "colab": {
          "base_uri": "https://localhost:8080/"
        },
        "id": "mkyNqnsgyrvT",
        "outputId": "aaf67aa8-1c6a-49ce-95ad-6d3597be0255"
      },
      "outputs": [
        {
          "output_type": "execute_result",
          "data": {
            "text/plain": [
              "array(['29.85', '1889.5', '108.15', ..., '346.45', '306.6', '6844.5'],\n",
              "      dtype=object)"
            ]
          },
          "metadata": {},
          "execution_count": 240
        }
      ],
      "source": [
        "df['TotalCharges'].values"
      ]
    },
    {
      "cell_type": "code",
      "execution_count": 241,
      "metadata": {
        "colab": {
          "base_uri": "https://localhost:8080/"
        },
        "id": "LMud5QdQy0rb",
        "outputId": "2b2f3d87-011b-49f9-a0b3-220b9ad77d33"
      },
      "outputs": [
        {
          "output_type": "execute_result",
          "data": {
            "text/plain": [
              "array([ 29.85,  56.95,  53.85, ...,  29.6 ,  74.4 , 105.65])"
            ]
          },
          "metadata": {},
          "execution_count": 241
        }
      ],
      "source": [
        "df['MonthlyCharges'].values"
      ]
    },
    {
      "cell_type": "code",
      "execution_count": 242,
      "metadata": {
        "colab": {
          "base_uri": "https://localhost:8080/"
        },
        "id": "v3UcTWoxzABy",
        "outputId": "4fdf6b3b-bd82-4cb4-bfc4-e518f2373943"
      },
      "outputs": [
        {
          "output_type": "execute_result",
          "data": {
            "text/plain": [
              "0       False\n",
              "1       False\n",
              "2       False\n",
              "3       False\n",
              "4       False\n",
              "        ...  \n",
              "7038    False\n",
              "7039    False\n",
              "7040    False\n",
              "7041    False\n",
              "7042    False\n",
              "Name: TotalCharges, Length: 7043, dtype: bool"
            ]
          },
          "metadata": {},
          "execution_count": 242
        }
      ],
      "source": [
        "pd.to_numeric(df['TotalCharges'], errors='coerce').isnull()"
      ]
    },
    {
      "cell_type": "code",
      "execution_count": 243,
      "metadata": {
        "colab": {
          "base_uri": "https://localhost:8080/",
          "height": 0
        },
        "id": "bskhR6ATzWAC",
        "outputId": "04ff4014-86f7-48a0-a61d-c28282416f13"
      },
      "outputs": [
        {
          "output_type": "execute_result",
          "data": {
            "text/plain": [
              "      gender  SeniorCitizen Partner Dependents  tenure PhoneService  \\\n",
              "488   Female              0     Yes        Yes       0           No   \n",
              "753     Male              0      No        Yes       0          Yes   \n",
              "936   Female              0     Yes        Yes       0          Yes   \n",
              "1082    Male              0     Yes        Yes       0          Yes   \n",
              "1340  Female              0     Yes        Yes       0           No   \n",
              "3331    Male              0     Yes        Yes       0          Yes   \n",
              "3826    Male              0     Yes        Yes       0          Yes   \n",
              "4380  Female              0     Yes        Yes       0          Yes   \n",
              "5218    Male              0     Yes        Yes       0          Yes   \n",
              "6670  Female              0     Yes        Yes       0          Yes   \n",
              "6754    Male              0      No        Yes       0          Yes   \n",
              "\n",
              "         MultipleLines InternetService       OnlineSecurity  \\\n",
              "488   No phone service             DSL                  Yes   \n",
              "753                 No              No  No internet service   \n",
              "936                 No             DSL                  Yes   \n",
              "1082               Yes              No  No internet service   \n",
              "1340  No phone service             DSL                  Yes   \n",
              "3331                No              No  No internet service   \n",
              "3826               Yes              No  No internet service   \n",
              "4380                No              No  No internet service   \n",
              "5218                No              No  No internet service   \n",
              "6670               Yes             DSL                   No   \n",
              "6754               Yes             DSL                  Yes   \n",
              "\n",
              "             OnlineBackup     DeviceProtection          TechSupport  \\\n",
              "488                    No                  Yes                  Yes   \n",
              "753   No internet service  No internet service  No internet service   \n",
              "936                   Yes                  Yes                   No   \n",
              "1082  No internet service  No internet service  No internet service   \n",
              "1340                  Yes                  Yes                  Yes   \n",
              "3331  No internet service  No internet service  No internet service   \n",
              "3826  No internet service  No internet service  No internet service   \n",
              "4380  No internet service  No internet service  No internet service   \n",
              "5218  No internet service  No internet service  No internet service   \n",
              "6670                  Yes                  Yes                  Yes   \n",
              "6754                  Yes                   No                  Yes   \n",
              "\n",
              "              StreamingTV      StreamingMovies  Contract PaperlessBilling  \\\n",
              "488                   Yes                   No  Two year              Yes   \n",
              "753   No internet service  No internet service  Two year               No   \n",
              "936                   Yes                  Yes  Two year               No   \n",
              "1082  No internet service  No internet service  Two year               No   \n",
              "1340                  Yes                   No  Two year               No   \n",
              "3331  No internet service  No internet service  Two year               No   \n",
              "3826  No internet service  No internet service  Two year               No   \n",
              "4380  No internet service  No internet service  Two year               No   \n",
              "5218  No internet service  No internet service  One year              Yes   \n",
              "6670                  Yes                   No  Two year               No   \n",
              "6754                   No                   No  Two year              Yes   \n",
              "\n",
              "                  PaymentMethod  MonthlyCharges TotalCharges Churn  \n",
              "488   Bank transfer (automatic)           52.55                 No  \n",
              "753                Mailed check           20.25                 No  \n",
              "936                Mailed check           80.85                 No  \n",
              "1082               Mailed check           25.75                 No  \n",
              "1340    Credit card (automatic)           56.05                 No  \n",
              "3331               Mailed check           19.85                 No  \n",
              "3826               Mailed check           25.35                 No  \n",
              "4380               Mailed check           20.00                 No  \n",
              "5218               Mailed check           19.70                 No  \n",
              "6670               Mailed check           73.35                 No  \n",
              "6754  Bank transfer (automatic)           61.90                 No  "
            ],
            "text/html": [
              "\n",
              "  <div id=\"df-bc36f573-89f2-4480-a539-ab6c431bc942\">\n",
              "    <div class=\"colab-df-container\">\n",
              "      <div>\n",
              "<style scoped>\n",
              "    .dataframe tbody tr th:only-of-type {\n",
              "        vertical-align: middle;\n",
              "    }\n",
              "\n",
              "    .dataframe tbody tr th {\n",
              "        vertical-align: top;\n",
              "    }\n",
              "\n",
              "    .dataframe thead th {\n",
              "        text-align: right;\n",
              "    }\n",
              "</style>\n",
              "<table border=\"1\" class=\"dataframe\">\n",
              "  <thead>\n",
              "    <tr style=\"text-align: right;\">\n",
              "      <th></th>\n",
              "      <th>gender</th>\n",
              "      <th>SeniorCitizen</th>\n",
              "      <th>Partner</th>\n",
              "      <th>Dependents</th>\n",
              "      <th>tenure</th>\n",
              "      <th>PhoneService</th>\n",
              "      <th>MultipleLines</th>\n",
              "      <th>InternetService</th>\n",
              "      <th>OnlineSecurity</th>\n",
              "      <th>OnlineBackup</th>\n",
              "      <th>DeviceProtection</th>\n",
              "      <th>TechSupport</th>\n",
              "      <th>StreamingTV</th>\n",
              "      <th>StreamingMovies</th>\n",
              "      <th>Contract</th>\n",
              "      <th>PaperlessBilling</th>\n",
              "      <th>PaymentMethod</th>\n",
              "      <th>MonthlyCharges</th>\n",
              "      <th>TotalCharges</th>\n",
              "      <th>Churn</th>\n",
              "    </tr>\n",
              "  </thead>\n",
              "  <tbody>\n",
              "    <tr>\n",
              "      <th>488</th>\n",
              "      <td>Female</td>\n",
              "      <td>0</td>\n",
              "      <td>Yes</td>\n",
              "      <td>Yes</td>\n",
              "      <td>0</td>\n",
              "      <td>No</td>\n",
              "      <td>No phone service</td>\n",
              "      <td>DSL</td>\n",
              "      <td>Yes</td>\n",
              "      <td>No</td>\n",
              "      <td>Yes</td>\n",
              "      <td>Yes</td>\n",
              "      <td>Yes</td>\n",
              "      <td>No</td>\n",
              "      <td>Two year</td>\n",
              "      <td>Yes</td>\n",
              "      <td>Bank transfer (automatic)</td>\n",
              "      <td>52.55</td>\n",
              "      <td></td>\n",
              "      <td>No</td>\n",
              "    </tr>\n",
              "    <tr>\n",
              "      <th>753</th>\n",
              "      <td>Male</td>\n",
              "      <td>0</td>\n",
              "      <td>No</td>\n",
              "      <td>Yes</td>\n",
              "      <td>0</td>\n",
              "      <td>Yes</td>\n",
              "      <td>No</td>\n",
              "      <td>No</td>\n",
              "      <td>No internet service</td>\n",
              "      <td>No internet service</td>\n",
              "      <td>No internet service</td>\n",
              "      <td>No internet service</td>\n",
              "      <td>No internet service</td>\n",
              "      <td>No internet service</td>\n",
              "      <td>Two year</td>\n",
              "      <td>No</td>\n",
              "      <td>Mailed check</td>\n",
              "      <td>20.25</td>\n",
              "      <td></td>\n",
              "      <td>No</td>\n",
              "    </tr>\n",
              "    <tr>\n",
              "      <th>936</th>\n",
              "      <td>Female</td>\n",
              "      <td>0</td>\n",
              "      <td>Yes</td>\n",
              "      <td>Yes</td>\n",
              "      <td>0</td>\n",
              "      <td>Yes</td>\n",
              "      <td>No</td>\n",
              "      <td>DSL</td>\n",
              "      <td>Yes</td>\n",
              "      <td>Yes</td>\n",
              "      <td>Yes</td>\n",
              "      <td>No</td>\n",
              "      <td>Yes</td>\n",
              "      <td>Yes</td>\n",
              "      <td>Two year</td>\n",
              "      <td>No</td>\n",
              "      <td>Mailed check</td>\n",
              "      <td>80.85</td>\n",
              "      <td></td>\n",
              "      <td>No</td>\n",
              "    </tr>\n",
              "    <tr>\n",
              "      <th>1082</th>\n",
              "      <td>Male</td>\n",
              "      <td>0</td>\n",
              "      <td>Yes</td>\n",
              "      <td>Yes</td>\n",
              "      <td>0</td>\n",
              "      <td>Yes</td>\n",
              "      <td>Yes</td>\n",
              "      <td>No</td>\n",
              "      <td>No internet service</td>\n",
              "      <td>No internet service</td>\n",
              "      <td>No internet service</td>\n",
              "      <td>No internet service</td>\n",
              "      <td>No internet service</td>\n",
              "      <td>No internet service</td>\n",
              "      <td>Two year</td>\n",
              "      <td>No</td>\n",
              "      <td>Mailed check</td>\n",
              "      <td>25.75</td>\n",
              "      <td></td>\n",
              "      <td>No</td>\n",
              "    </tr>\n",
              "    <tr>\n",
              "      <th>1340</th>\n",
              "      <td>Female</td>\n",
              "      <td>0</td>\n",
              "      <td>Yes</td>\n",
              "      <td>Yes</td>\n",
              "      <td>0</td>\n",
              "      <td>No</td>\n",
              "      <td>No phone service</td>\n",
              "      <td>DSL</td>\n",
              "      <td>Yes</td>\n",
              "      <td>Yes</td>\n",
              "      <td>Yes</td>\n",
              "      <td>Yes</td>\n",
              "      <td>Yes</td>\n",
              "      <td>No</td>\n",
              "      <td>Two year</td>\n",
              "      <td>No</td>\n",
              "      <td>Credit card (automatic)</td>\n",
              "      <td>56.05</td>\n",
              "      <td></td>\n",
              "      <td>No</td>\n",
              "    </tr>\n",
              "    <tr>\n",
              "      <th>3331</th>\n",
              "      <td>Male</td>\n",
              "      <td>0</td>\n",
              "      <td>Yes</td>\n",
              "      <td>Yes</td>\n",
              "      <td>0</td>\n",
              "      <td>Yes</td>\n",
              "      <td>No</td>\n",
              "      <td>No</td>\n",
              "      <td>No internet service</td>\n",
              "      <td>No internet service</td>\n",
              "      <td>No internet service</td>\n",
              "      <td>No internet service</td>\n",
              "      <td>No internet service</td>\n",
              "      <td>No internet service</td>\n",
              "      <td>Two year</td>\n",
              "      <td>No</td>\n",
              "      <td>Mailed check</td>\n",
              "      <td>19.85</td>\n",
              "      <td></td>\n",
              "      <td>No</td>\n",
              "    </tr>\n",
              "    <tr>\n",
              "      <th>3826</th>\n",
              "      <td>Male</td>\n",
              "      <td>0</td>\n",
              "      <td>Yes</td>\n",
              "      <td>Yes</td>\n",
              "      <td>0</td>\n",
              "      <td>Yes</td>\n",
              "      <td>Yes</td>\n",
              "      <td>No</td>\n",
              "      <td>No internet service</td>\n",
              "      <td>No internet service</td>\n",
              "      <td>No internet service</td>\n",
              "      <td>No internet service</td>\n",
              "      <td>No internet service</td>\n",
              "      <td>No internet service</td>\n",
              "      <td>Two year</td>\n",
              "      <td>No</td>\n",
              "      <td>Mailed check</td>\n",
              "      <td>25.35</td>\n",
              "      <td></td>\n",
              "      <td>No</td>\n",
              "    </tr>\n",
              "    <tr>\n",
              "      <th>4380</th>\n",
              "      <td>Female</td>\n",
              "      <td>0</td>\n",
              "      <td>Yes</td>\n",
              "      <td>Yes</td>\n",
              "      <td>0</td>\n",
              "      <td>Yes</td>\n",
              "      <td>No</td>\n",
              "      <td>No</td>\n",
              "      <td>No internet service</td>\n",
              "      <td>No internet service</td>\n",
              "      <td>No internet service</td>\n",
              "      <td>No internet service</td>\n",
              "      <td>No internet service</td>\n",
              "      <td>No internet service</td>\n",
              "      <td>Two year</td>\n",
              "      <td>No</td>\n",
              "      <td>Mailed check</td>\n",
              "      <td>20.00</td>\n",
              "      <td></td>\n",
              "      <td>No</td>\n",
              "    </tr>\n",
              "    <tr>\n",
              "      <th>5218</th>\n",
              "      <td>Male</td>\n",
              "      <td>0</td>\n",
              "      <td>Yes</td>\n",
              "      <td>Yes</td>\n",
              "      <td>0</td>\n",
              "      <td>Yes</td>\n",
              "      <td>No</td>\n",
              "      <td>No</td>\n",
              "      <td>No internet service</td>\n",
              "      <td>No internet service</td>\n",
              "      <td>No internet service</td>\n",
              "      <td>No internet service</td>\n",
              "      <td>No internet service</td>\n",
              "      <td>No internet service</td>\n",
              "      <td>One year</td>\n",
              "      <td>Yes</td>\n",
              "      <td>Mailed check</td>\n",
              "      <td>19.70</td>\n",
              "      <td></td>\n",
              "      <td>No</td>\n",
              "    </tr>\n",
              "    <tr>\n",
              "      <th>6670</th>\n",
              "      <td>Female</td>\n",
              "      <td>0</td>\n",
              "      <td>Yes</td>\n",
              "      <td>Yes</td>\n",
              "      <td>0</td>\n",
              "      <td>Yes</td>\n",
              "      <td>Yes</td>\n",
              "      <td>DSL</td>\n",
              "      <td>No</td>\n",
              "      <td>Yes</td>\n",
              "      <td>Yes</td>\n",
              "      <td>Yes</td>\n",
              "      <td>Yes</td>\n",
              "      <td>No</td>\n",
              "      <td>Two year</td>\n",
              "      <td>No</td>\n",
              "      <td>Mailed check</td>\n",
              "      <td>73.35</td>\n",
              "      <td></td>\n",
              "      <td>No</td>\n",
              "    </tr>\n",
              "    <tr>\n",
              "      <th>6754</th>\n",
              "      <td>Male</td>\n",
              "      <td>0</td>\n",
              "      <td>No</td>\n",
              "      <td>Yes</td>\n",
              "      <td>0</td>\n",
              "      <td>Yes</td>\n",
              "      <td>Yes</td>\n",
              "      <td>DSL</td>\n",
              "      <td>Yes</td>\n",
              "      <td>Yes</td>\n",
              "      <td>No</td>\n",
              "      <td>Yes</td>\n",
              "      <td>No</td>\n",
              "      <td>No</td>\n",
              "      <td>Two year</td>\n",
              "      <td>Yes</td>\n",
              "      <td>Bank transfer (automatic)</td>\n",
              "      <td>61.90</td>\n",
              "      <td></td>\n",
              "      <td>No</td>\n",
              "    </tr>\n",
              "  </tbody>\n",
              "</table>\n",
              "</div>\n",
              "      <button class=\"colab-df-convert\" onclick=\"convertToInteractive('df-bc36f573-89f2-4480-a539-ab6c431bc942')\"\n",
              "              title=\"Convert this dataframe to an interactive table.\"\n",
              "              style=\"display:none;\">\n",
              "        \n",
              "  <svg xmlns=\"http://www.w3.org/2000/svg\" height=\"24px\"viewBox=\"0 0 24 24\"\n",
              "       width=\"24px\">\n",
              "    <path d=\"M0 0h24v24H0V0z\" fill=\"none\"/>\n",
              "    <path d=\"M18.56 5.44l.94 2.06.94-2.06 2.06-.94-2.06-.94-.94-2.06-.94 2.06-2.06.94zm-11 1L8.5 8.5l.94-2.06 2.06-.94-2.06-.94L8.5 2.5l-.94 2.06-2.06.94zm10 10l.94 2.06.94-2.06 2.06-.94-2.06-.94-.94-2.06-.94 2.06-2.06.94z\"/><path d=\"M17.41 7.96l-1.37-1.37c-.4-.4-.92-.59-1.43-.59-.52 0-1.04.2-1.43.59L10.3 9.45l-7.72 7.72c-.78.78-.78 2.05 0 2.83L4 21.41c.39.39.9.59 1.41.59.51 0 1.02-.2 1.41-.59l7.78-7.78 2.81-2.81c.8-.78.8-2.07 0-2.86zM5.41 20L4 18.59l7.72-7.72 1.47 1.35L5.41 20z\"/>\n",
              "  </svg>\n",
              "      </button>\n",
              "      \n",
              "  <style>\n",
              "    .colab-df-container {\n",
              "      display:flex;\n",
              "      flex-wrap:wrap;\n",
              "      gap: 12px;\n",
              "    }\n",
              "\n",
              "    .colab-df-convert {\n",
              "      background-color: #E8F0FE;\n",
              "      border: none;\n",
              "      border-radius: 50%;\n",
              "      cursor: pointer;\n",
              "      display: none;\n",
              "      fill: #1967D2;\n",
              "      height: 32px;\n",
              "      padding: 0 0 0 0;\n",
              "      width: 32px;\n",
              "    }\n",
              "\n",
              "    .colab-df-convert:hover {\n",
              "      background-color: #E2EBFA;\n",
              "      box-shadow: 0px 1px 2px rgba(60, 64, 67, 0.3), 0px 1px 3px 1px rgba(60, 64, 67, 0.15);\n",
              "      fill: #174EA6;\n",
              "    }\n",
              "\n",
              "    [theme=dark] .colab-df-convert {\n",
              "      background-color: #3B4455;\n",
              "      fill: #D2E3FC;\n",
              "    }\n",
              "\n",
              "    [theme=dark] .colab-df-convert:hover {\n",
              "      background-color: #434B5C;\n",
              "      box-shadow: 0px 1px 3px 1px rgba(0, 0, 0, 0.15);\n",
              "      filter: drop-shadow(0px 1px 2px rgba(0, 0, 0, 0.3));\n",
              "      fill: #FFFFFF;\n",
              "    }\n",
              "  </style>\n",
              "\n",
              "      <script>\n",
              "        const buttonEl =\n",
              "          document.querySelector('#df-bc36f573-89f2-4480-a539-ab6c431bc942 button.colab-df-convert');\n",
              "        buttonEl.style.display =\n",
              "          google.colab.kernel.accessAllowed ? 'block' : 'none';\n",
              "\n",
              "        async function convertToInteractive(key) {\n",
              "          const element = document.querySelector('#df-bc36f573-89f2-4480-a539-ab6c431bc942');\n",
              "          const dataTable =\n",
              "            await google.colab.kernel.invokeFunction('convertToInteractive',\n",
              "                                                     [key], {});\n",
              "          if (!dataTable) return;\n",
              "\n",
              "          const docLinkHtml = 'Like what you see? Visit the ' +\n",
              "            '<a target=\"_blank\" href=https://colab.research.google.com/notebooks/data_table.ipynb>data table notebook</a>'\n",
              "            + ' to learn more about interactive tables.';\n",
              "          element.innerHTML = '';\n",
              "          dataTable['output_type'] = 'display_data';\n",
              "          await google.colab.output.renderOutput(dataTable, element);\n",
              "          const docLink = document.createElement('div');\n",
              "          docLink.innerHTML = docLinkHtml;\n",
              "          element.appendChild(docLink);\n",
              "        }\n",
              "      </script>\n",
              "    </div>\n",
              "  </div>\n",
              "  "
            ]
          },
          "metadata": {},
          "execution_count": 243
        }
      ],
      "source": [
        "df[pd.to_numeric(df['TotalCharges'], errors='coerce').isnull()]"
      ]
    },
    {
      "cell_type": "code",
      "execution_count": 244,
      "metadata": {
        "colab": {
          "base_uri": "https://localhost:8080/"
        },
        "id": "jdSoufGTzhF7",
        "outputId": "489116d5-22bf-4c30-9bf6-c87f49eb8ff1"
      },
      "outputs": [
        {
          "output_type": "execute_result",
          "data": {
            "text/plain": [
              "(7032, 20)"
            ]
          },
          "metadata": {},
          "execution_count": 244
        }
      ],
      "source": [
        "df1=df[df['TotalCharges']!=' ']\n",
        "df1.shape"
      ]
    },
    {
      "cell_type": "code",
      "execution_count": 245,
      "metadata": {
        "colab": {
          "base_uri": "https://localhost:8080/"
        },
        "id": "YPFWRR3U0Fpb",
        "outputId": "593603c2-eded-4379-f558-b8144c789c50"
      },
      "outputs": [
        {
          "output_type": "execute_result",
          "data": {
            "text/plain": [
              "gender               object\n",
              "SeniorCitizen         int64\n",
              "Partner              object\n",
              "Dependents           object\n",
              "tenure                int64\n",
              "PhoneService         object\n",
              "MultipleLines        object\n",
              "InternetService      object\n",
              "OnlineSecurity       object\n",
              "OnlineBackup         object\n",
              "DeviceProtection     object\n",
              "TechSupport          object\n",
              "StreamingTV          object\n",
              "StreamingMovies      object\n",
              "Contract             object\n",
              "PaperlessBilling     object\n",
              "PaymentMethod        object\n",
              "MonthlyCharges      float64\n",
              "TotalCharges         object\n",
              "Churn                object\n",
              "dtype: object"
            ]
          },
          "metadata": {},
          "execution_count": 245
        }
      ],
      "source": [
        "df1.dtypes"
      ]
    },
    {
      "cell_type": "code",
      "execution_count": 246,
      "metadata": {
        "id": "uoUUhuFN0Um7",
        "colab": {
          "base_uri": "https://localhost:8080/"
        },
        "outputId": "b564896b-0d9d-472c-d484-94716eb1fd33"
      },
      "outputs": [
        {
          "output_type": "stream",
          "name": "stderr",
          "text": [
            "/usr/local/lib/python3.7/dist-packages/ipykernel_launcher.py:1: SettingWithCopyWarning: \n",
            "A value is trying to be set on a copy of a slice from a DataFrame.\n",
            "Try using .loc[row_indexer,col_indexer] = value instead\n",
            "\n",
            "See the caveats in the documentation: https://pandas.pydata.org/pandas-docs/stable/user_guide/indexing.html#returning-a-view-versus-a-copy\n",
            "  \"\"\"Entry point for launching an IPython kernel.\n"
          ]
        }
      ],
      "source": [
        "df1['TotalCharges']=pd.to_numeric(df1['TotalCharges'])"
      ]
    },
    {
      "cell_type": "code",
      "execution_count": 247,
      "metadata": {
        "colab": {
          "base_uri": "https://localhost:8080/"
        },
        "id": "7u5HsgeF0aej",
        "outputId": "02d25d57-ae29-4fc7-8838-ac67587ee40a"
      },
      "outputs": [
        {
          "output_type": "execute_result",
          "data": {
            "text/plain": [
              "gender               object\n",
              "SeniorCitizen         int64\n",
              "Partner              object\n",
              "Dependents           object\n",
              "tenure                int64\n",
              "PhoneService         object\n",
              "MultipleLines        object\n",
              "InternetService      object\n",
              "OnlineSecurity       object\n",
              "OnlineBackup         object\n",
              "DeviceProtection     object\n",
              "TechSupport          object\n",
              "StreamingTV          object\n",
              "StreamingMovies      object\n",
              "Contract             object\n",
              "PaperlessBilling     object\n",
              "PaymentMethod        object\n",
              "MonthlyCharges      float64\n",
              "TotalCharges        float64\n",
              "Churn                object\n",
              "dtype: object"
            ]
          },
          "metadata": {},
          "execution_count": 247
        }
      ],
      "source": [
        "df1.dtypes"
      ]
    },
    {
      "cell_type": "code",
      "source": [
        "tenure_churn_no=df1[df1['Churn']=='No']['tenure']\n",
        "tenure_churn_yes=df1[df1['Churn']=='Yes']['tenure']\n",
        "\n",
        "plt.xlabel('tenure')\n",
        "plt.ylabel('Number of Customers')\n",
        "plt.title('Customer Churn Prediction Visualization')\n",
        "\n",
        "plt.hist([tenure_churn_yes, tenure_churn_no], color=['green','red'], label=['Churn=Yes','Churn=No'])\n",
        "plt.legend()"
      ],
      "metadata": {
        "colab": {
          "base_uri": "https://localhost:8080/",
          "height": 0
        },
        "id": "nGeoy7755p_E",
        "outputId": "046beaad-9ecd-4112-8263-d69fd5cfb09d"
      },
      "execution_count": 248,
      "outputs": [
        {
          "output_type": "stream",
          "name": "stderr",
          "text": [
            "/usr/local/lib/python3.7/dist-packages/numpy/core/fromnumeric.py:3208: VisibleDeprecationWarning: Creating an ndarray from ragged nested sequences (which is a list-or-tuple of lists-or-tuples-or ndarrays with different lengths or shapes) is deprecated. If you meant to do this, you must specify 'dtype=object' when creating the ndarray.\n",
            "  return asarray(a).size\n",
            "/usr/local/lib/python3.7/dist-packages/matplotlib/cbook/__init__.py:1376: VisibleDeprecationWarning: Creating an ndarray from ragged nested sequences (which is a list-or-tuple of lists-or-tuples-or ndarrays with different lengths or shapes) is deprecated. If you meant to do this, you must specify 'dtype=object' when creating the ndarray.\n",
            "  X = np.atleast_1d(X.T if isinstance(X, np.ndarray) else np.asarray(X))\n"
          ]
        },
        {
          "output_type": "execute_result",
          "data": {
            "text/plain": [
              "<matplotlib.legend.Legend at 0x7f6eb7b2e490>"
            ]
          },
          "metadata": {},
          "execution_count": 248
        },
        {
          "output_type": "display_data",
          "data": {
            "text/plain": [
              "<Figure size 432x288 with 1 Axes>"
            ],
            "image/png": "[encoded data removed]"
          },
          "metadata": {
            "needs_background": "light"
          }
        }
      ]
    },
    {
      "cell_type": "code",
      "source": [
        "mc_churn_no = df1[df1.Churn=='No'].MonthlyCharges      \n",
        "mc_churn_yes = df1[df1.Churn=='Yes'].MonthlyCharges      \n",
        "\n",
        "plt.xlabel(\"Monthly Charges\")\n",
        "plt.ylabel(\"Number Of Customers\")\n",
        "plt.title(\"Customer Churn Prediction Visualiztion\")\n",
        "\n",
        "plt.hist([mc_churn_yes, mc_churn_no], rwidth=0.95, color=['green','red'],label=['Churn=Yes','Churn=No'])\n",
        "plt.legend()"
      ],
      "metadata": {
        "colab": {
          "base_uri": "https://localhost:8080/",
          "height": 0
        },
        "id": "-VTGF7Do7aBO",
        "outputId": "262cd32e-46c9-472a-9617-e765abf6c3cf"
      },
      "execution_count": 249,
      "outputs": [
        {
          "output_type": "execute_result",
          "data": {
            "text/plain": [
              "<matplotlib.legend.Legend at 0x7f6eb7834a10>"
            ]
          },
          "metadata": {},
          "execution_count": 249
        },
        {
          "output_type": "display_data",
          "data": {
            "text/plain": [
              "<Figure size 432x288 with 1 Axes>"
            ],
            "image/png": "[encoded data removed]"
          },
          "metadata": {
            "needs_background": "light"
          }
        }
      ]
    },
    {
      "cell_type": "code",
      "source": [
        "def print_unique_col_values(df):\n",
        "    for column in df:\n",
        "        if df[column].dtypes=='object':\n",
        "            print(f'{column} : {df[column].unique()}')"
      ],
      "metadata": {
        "id": "fLZqI1VJ-8As"
      },
      "execution_count": 250,
      "outputs": []
    },
    {
      "cell_type": "code",
      "source": [
        "print_unique_col_values(df1)"
      ],
      "metadata": {
        "colab": {
          "base_uri": "https://localhost:8080/"
        },
        "id": "3B95BLc6AtDd",
        "outputId": "a71652cf-be4e-4952-9fee-46f82460dced"
      },
      "execution_count": 251,
      "outputs": [
        {
          "output_type": "stream",
          "name": "stdout",
          "text": [
            "gender : ['Female' 'Male']\n",
            "Partner : ['Yes' 'No']\n",
            "Dependents : ['No' 'Yes']\n",
            "PhoneService : ['No' 'Yes']\n",
            "MultipleLines : ['No phone service' 'No' 'Yes']\n",
            "InternetService : ['DSL' 'Fiber optic' 'No']\n",
            "OnlineSecurity : ['No' 'Yes' 'No internet service']\n",
            "OnlineBackup : ['Yes' 'No' 'No internet service']\n",
            "DeviceProtection : ['No' 'Yes' 'No internet service']\n",
            "TechSupport : ['No' 'Yes' 'No internet service']\n",
            "StreamingTV : ['No' 'Yes' 'No internet service']\n",
            "StreamingMovies : ['No' 'Yes' 'No internet service']\n",
            "Contract : ['Month-to-month' 'One year' 'Two year']\n",
            "PaperlessBilling : ['Yes' 'No']\n",
            "PaymentMethod : ['Electronic check' 'Mailed check' 'Bank transfer (automatic)'\n",
            " 'Credit card (automatic)']\n",
            "Churn : ['No' 'Yes']\n"
          ]
        }
      ]
    },
    {
      "cell_type": "code",
      "source": [
        "df1.replace('No internet service','No', inplace=True)\n",
        "df1.replace('No phone service','No', inplace=True)"
      ],
      "metadata": {
        "id": "oKKt-pLIBeYU",
        "colab": {
          "base_uri": "https://localhost:8080/"
        },
        "outputId": "43eb3d30-a24a-4d11-cb11-ec08a711f395"
      },
      "execution_count": 252,
      "outputs": [
        {
          "output_type": "stream",
          "name": "stderr",
          "text": [
            "/usr/local/lib/python3.7/dist-packages/pandas/core/frame.py:5244: SettingWithCopyWarning: \n",
            "A value is trying to be set on a copy of a slice from a DataFrame\n",
            "\n",
            "See the caveats in the documentation: https://pandas.pydata.org/pandas-docs/stable/user_guide/indexing.html#returning-a-view-versus-a-copy\n",
            "  method=method,\n"
          ]
        }
      ]
    },
    {
      "cell_type": "code",
      "source": [
        "print_unique_col_values(df1)"
      ],
      "metadata": {
        "colab": {
          "base_uri": "https://localhost:8080/"
        },
        "id": "iAYhoUWXCms9",
        "outputId": "abc8f5eb-36a7-4764-f839-7a36a11f1c43"
      },
      "execution_count": 253,
      "outputs": [
        {
          "output_type": "stream",
          "name": "stdout",
          "text": [
            "gender : ['Female' 'Male']\n",
            "Partner : ['Yes' 'No']\n",
            "Dependents : ['No' 'Yes']\n",
            "PhoneService : ['No' 'Yes']\n",
            "MultipleLines : ['No' 'Yes']\n",
            "InternetService : ['DSL' 'Fiber optic' 'No']\n",
            "OnlineSecurity : ['No' 'Yes']\n",
            "OnlineBackup : ['Yes' 'No']\n",
            "DeviceProtection : ['No' 'Yes']\n",
            "TechSupport : ['No' 'Yes']\n",
            "StreamingTV : ['No' 'Yes']\n",
            "StreamingMovies : ['No' 'Yes']\n",
            "Contract : ['Month-to-month' 'One year' 'Two year']\n",
            "PaperlessBilling : ['Yes' 'No']\n",
            "PaymentMethod : ['Electronic check' 'Mailed check' 'Bank transfer (automatic)'\n",
            " 'Credit card (automatic)']\n",
            "Churn : ['No' 'Yes']\n"
          ]
        }
      ]
    },
    {
      "cell_type": "markdown",
      "source": [
        "# Changing strings to numeric form"
      ],
      "metadata": {
        "id": "VAs_RqKxmLI_"
      }
    },
    {
      "cell_type": "code",
      "source": [
        "df1.replace('Yes',1,inplace=True)\n",
        "df1.replace('No',0,inplace=True)"
      ],
      "metadata": {
        "id": "AqbK_ns7Cunc"
      },
      "execution_count": 254,
      "outputs": []
    },
    {
      "cell_type": "code",
      "source": [
        "df1.sample(5)"
      ],
      "metadata": {
        "colab": {
          "base_uri": "https://localhost:8080/",
          "height": 0
        },
        "id": "OktJMJoBDY4-",
        "outputId": "9bdf42cc-4db8-41e5-b450-00725ddbccf7"
      },
      "execution_count": 255,
      "outputs": [
        {
          "output_type": "execute_result",
          "data": {
            "text/plain": [
              "      gender  SeniorCitizen  Partner  Dependents  tenure  PhoneService  \\\n",
              "2354    Male              0        1           1       9             1   \n",
              "5149  Female              0        0           0      62             1   \n",
              "1196    Male              0        1           0      66             1   \n",
              "1031    Male              0        1           1      27             1   \n",
              "181   Female              0        0           0       1             1   \n",
              "\n",
              "      MultipleLines InternetService  OnlineSecurity  OnlineBackup  \\\n",
              "2354              0               0               0             0   \n",
              "5149              0               0               0             0   \n",
              "1196              1             DSL               1             1   \n",
              "1031              1             DSL               0             0   \n",
              "181               0             DSL               0             0   \n",
              "\n",
              "      DeviceProtection  TechSupport  StreamingTV  StreamingMovies  \\\n",
              "2354                 0            0            0                0   \n",
              "5149                 0            0            0                0   \n",
              "1196                 0            1            1                1   \n",
              "1031                 0            1            1                1   \n",
              "181                  0            0            0                0   \n",
              "\n",
              "            Contract  PaperlessBilling              PaymentMethod  \\\n",
              "2354        Two year                 0               Mailed check   \n",
              "5149        Two year                 1    Credit card (automatic)   \n",
              "1196        Two year                 0           Electronic check   \n",
              "1031  Month-to-month                 0  Bank transfer (automatic)   \n",
              "181   Month-to-month                 0               Mailed check   \n",
              "\n",
              "      MonthlyCharges  TotalCharges  Churn  \n",
              "2354           19.60        197.40      0  \n",
              "5149           19.20       1123.65      0  \n",
              "1196           85.25       5538.35      0  \n",
              "1031           71.60       1957.10      0  \n",
              "181            45.30         45.30      0  "
            ],
            "text/html": [
              "\n",
              "  <div id=\"df-2372beeb-f8d7-4a59-a879-6b26758167e8\">\n",
              "    <div class=\"colab-df-container\">\n",
              "      <div>\n",
              "<style scoped>\n",
              "    .dataframe tbody tr th:only-of-type {\n",
              "        vertical-align: middle;\n",
              "    }\n",
              "\n",
              "    .dataframe tbody tr th {\n",
              "        vertical-align: top;\n",
              "    }\n",
              "\n",
              "    .dataframe thead th {\n",
              "        text-align: right;\n",
              "    }\n",
              "</style>\n",
              "<table border=\"1\" class=\"dataframe\">\n",
              "  <thead>\n",
              "    <tr style=\"text-align: right;\">\n",
              "      <th></th>\n",
              "      <th>gender</th>\n",
              "      <th>SeniorCitizen</th>\n",
              "      <th>Partner</th>\n",
              "      <th>Dependents</th>\n",
              "      <th>tenure</th>\n",
              "      <th>PhoneService</th>\n",
              "      <th>MultipleLines</th>\n",
              "      <th>InternetService</th>\n",
              "      <th>OnlineSecurity</th>\n",
              "      <th>OnlineBackup</th>\n",
              "      <th>DeviceProtection</th>\n",
              "      <th>TechSupport</th>\n",
              "      <th>StreamingTV</th>\n",
              "      <th>StreamingMovies</th>\n",
              "      <th>Contract</th>\n",
              "      <th>PaperlessBilling</th>\n",
              "      <th>PaymentMethod</th>\n",
              "      <th>MonthlyCharges</th>\n",
              "      <th>TotalCharges</th>\n",
              "      <th>Churn</th>\n",
              "    </tr>\n",
              "  </thead>\n",
              "  <tbody>\n",
              "    <tr>\n",
              "      <th>2354</th>\n",
              "      <td>Male</td>\n",
              "      <td>0</td>\n",
              "      <td>1</td>\n",
              "      <td>1</td>\n",
              "      <td>9</td>\n",
              "      <td>1</td>\n",
              "      <td>0</td>\n",
              "      <td>0</td>\n",
              "      <td>0</td>\n",
              "      <td>0</td>\n",
              "      <td>0</td>\n",
              "      <td>0</td>\n",
              "      <td>0</td>\n",
              "      <td>0</td>\n",
              "      <td>Two year</td>\n",
              "      <td>0</td>\n",
              "      <td>Mailed check</td>\n",
              "      <td>19.60</td>\n",
              "      <td>197.40</td>\n",
              "      <td>0</td>\n",
              "    </tr>\n",
              "    <tr>\n",
              "      <th>5149</th>\n",
              "      <td>Female</td>\n",
              "      <td>0</td>\n",
              "      <td>0</td>\n",
              "      <td>0</td>\n",
              "      <td>62</td>\n",
              "      <td>1</td>\n",
              "      <td>0</td>\n",
              "      <td>0</td>\n",
              "      <td>0</td>\n",
              "      <td>0</td>\n",
              "      <td>0</td>\n",
              "      <td>0</td>\n",
              "      <td>0</td>\n",
              "      <td>0</td>\n",
              "      <td>Two year</td>\n",
              "      <td>1</td>\n",
              "      <td>Credit card (automatic)</td>\n",
              "      <td>19.20</td>\n",
              "      <td>1123.65</td>\n",
              "      <td>0</td>\n",
              "    </tr>\n",
              "    <tr>\n",
              "      <th>1196</th>\n",
              "      <td>Male</td>\n",
              "      <td>0</td>\n",
              "      <td>1</td>\n",
              "      <td>0</td>\n",
              "      <td>66</td>\n",
              "      <td>1</td>\n",
              "      <td>1</td>\n",
              "      <td>DSL</td>\n",
              "      <td>1</td>\n",
              "      <td>1</td>\n",
              "      <td>0</td>\n",
              "      <td>1</td>\n",
              "      <td>1</td>\n",
              "      <td>1</td>\n",
              "      <td>Two year</td>\n",
              "      <td>0</td>\n",
              "      <td>Electronic check</td>\n",
              "      <td>85.25</td>\n",
              "      <td>5538.35</td>\n",
              "      <td>0</td>\n",
              "    </tr>\n",
              "    <tr>\n",
              "      <th>1031</th>\n",
              "      <td>Male</td>\n",
              "      <td>0</td>\n",
              "      <td>1</td>\n",
              "      <td>1</td>\n",
              "      <td>27</td>\n",
              "      <td>1</td>\n",
              "      <td>1</td>\n",
              "      <td>DSL</td>\n",
              "      <td>0</td>\n",
              "      <td>0</td>\n",
              "      <td>0</td>\n",
              "      <td>1</td>\n",
              "      <td>1</td>\n",
              "      <td>1</td>\n",
              "      <td>Month-to-month</td>\n",
              "      <td>0</td>\n",
              "      <td>Bank transfer (automatic)</td>\n",
              "      <td>71.60</td>\n",
              "      <td>1957.10</td>\n",
              "      <td>0</td>\n",
              "    </tr>\n",
              "    <tr>\n",
              "      <th>181</th>\n",
              "      <td>Female</td>\n",
              "      <td>0</td>\n",
              "      <td>0</td>\n",
              "      <td>0</td>\n",
              "      <td>1</td>\n",
              "      <td>1</td>\n",
              "      <td>0</td>\n",
              "      <td>DSL</td>\n",
              "      <td>0</td>\n",
              "      <td>0</td>\n",
              "      <td>0</td>\n",
              "      <td>0</td>\n",
              "      <td>0</td>\n",
              "      <td>0</td>\n",
              "      <td>Month-to-month</td>\n",
              "      <td>0</td>\n",
              "      <td>Mailed check</td>\n",
              "      <td>45.30</td>\n",
              "      <td>45.30</td>\n",
              "      <td>0</td>\n",
              "    </tr>\n",
              "  </tbody>\n",
              "</table>\n",
              "</div>\n",
              "      <button class=\"colab-df-convert\" onclick=\"convertToInteractive('df-2372beeb-f8d7-4a59-a879-6b26758167e8')\"\n",
              "              title=\"Convert this dataframe to an interactive table.\"\n",
              "              style=\"display:none;\">\n",
              "        \n",
              "  <svg xmlns=\"http://www.w3.org/2000/svg\" height=\"24px\"viewBox=\"0 0 24 24\"\n",
              "       width=\"24px\">\n",
              "    <path d=\"M0 0h24v24H0V0z\" fill=\"none\"/>\n",
              "    <path d=\"M18.56 5.44l.94 2.06.94-2.06 2.06-.94-2.06-.94-.94-2.06-.94 2.06-2.06.94zm-11 1L8.5 8.5l.94-2.06 2.06-.94-2.06-.94L8.5 2.5l-.94 2.06-2.06.94zm10 10l.94 2.06.94-2.06 2.06-.94-2.06-.94-.94-2.06-.94 2.06-2.06.94z\"/><path d=\"M17.41 7.96l-1.37-1.37c-.4-.4-.92-.59-1.43-.59-.52 0-1.04.2-1.43.59L10.3 9.45l-7.72 7.72c-.78.78-.78 2.05 0 2.83L4 21.41c.39.39.9.59 1.41.59.51 0 1.02-.2 1.41-.59l7.78-7.78 2.81-2.81c.8-.78.8-2.07 0-2.86zM5.41 20L4 18.59l7.72-7.72 1.47 1.35L5.41 20z\"/>\n",
              "  </svg>\n",
              "      </button>\n",
              "      \n",
              "  <style>\n",
              "    .colab-df-container {\n",
              "      display:flex;\n",
              "      flex-wrap:wrap;\n",
              "      gap: 12px;\n",
              "    }\n",
              "\n",
              "    .colab-df-convert {\n",
              "      background-color: #E8F0FE;\n",
              "      border: none;\n",
              "      border-radius: 50%;\n",
              "      cursor: pointer;\n",
              "      display: none;\n",
              "      fill: #1967D2;\n",
              "      height: 32px;\n",
              "      padding: 0 0 0 0;\n",
              "      width: 32px;\n",
              "    }\n",
              "\n",
              "    .colab-df-convert:hover {\n",
              "      background-color: #E2EBFA;\n",
              "      box-shadow: 0px 1px 2px rgba(60, 64, 67, 0.3), 0px 1px 3px 1px rgba(60, 64, 67, 0.15);\n",
              "      fill: #174EA6;\n",
              "    }\n",
              "\n",
              "    [theme=dark] .colab-df-convert {\n",
              "      background-color: #3B4455;\n",
              "      fill: #D2E3FC;\n",
              "    }\n",
              "\n",
              "    [theme=dark] .colab-df-convert:hover {\n",
              "      background-color: #434B5C;\n",
              "      box-shadow: 0px 1px 3px 1px rgba(0, 0, 0, 0.15);\n",
              "      filter: drop-shadow(0px 1px 2px rgba(0, 0, 0, 0.3));\n",
              "      fill: #FFFFFF;\n",
              "    }\n",
              "  </style>\n",
              "\n",
              "      <script>\n",
              "        const buttonEl =\n",
              "          document.querySelector('#df-2372beeb-f8d7-4a59-a879-6b26758167e8 button.colab-df-convert');\n",
              "        buttonEl.style.display =\n",
              "          google.colab.kernel.accessAllowed ? 'block' : 'none';\n",
              "\n",
              "        async function convertToInteractive(key) {\n",
              "          const element = document.querySelector('#df-2372beeb-f8d7-4a59-a879-6b26758167e8');\n",
              "          const dataTable =\n",
              "            await google.colab.kernel.invokeFunction('convertToInteractive',\n",
              "                                                     [key], {});\n",
              "          if (!dataTable) return;\n",
              "\n",
              "          const docLinkHtml = 'Like what you see? Visit the ' +\n",
              "            '<a target=\"_blank\" href=https://colab.research.google.com/notebooks/data_table.ipynb>data table notebook</a>'\n",
              "            + ' to learn more about interactive tables.';\n",
              "          element.innerHTML = '';\n",
              "          dataTable['output_type'] = 'display_data';\n",
              "          await google.colab.output.renderOutput(dataTable, element);\n",
              "          const docLink = document.createElement('div');\n",
              "          docLink.innerHTML = docLinkHtml;\n",
              "          element.appendChild(docLink);\n",
              "        }\n",
              "      </script>\n",
              "    </div>\n",
              "  </div>\n",
              "  "
            ]
          },
          "metadata": {},
          "execution_count": 255
        }
      ]
    },
    {
      "cell_type": "code",
      "source": [
        "def print_unique_col_values(df):\n",
        "    for column in df:\n",
        "        print(f'{column} : {df[column].unique()}')"
      ],
      "metadata": {
        "id": "Rr4Av-zLDpyF"
      },
      "execution_count": 256,
      "outputs": []
    },
    {
      "cell_type": "code",
      "source": [
        "print_unique_col_values(df1)"
      ],
      "metadata": {
        "colab": {
          "base_uri": "https://localhost:8080/"
        },
        "id": "C7mDHl0IDQ8U",
        "outputId": "104452cb-5b73-41db-fe01-a62cf66f5acf"
      },
      "execution_count": 257,
      "outputs": [
        {
          "output_type": "stream",
          "name": "stdout",
          "text": [
            "gender : ['Female' 'Male']\n",
            "SeniorCitizen : [0 1]\n",
            "Partner : [1 0]\n",
            "Dependents : [0 1]\n",
            "tenure : [ 1 34  2 45  8 22 10 28 62 13 16 58 49 25 69 52 71 21 12 30 47 72 17 27\n",
            "  5 46 11 70 63 43 15 60 18 66  9  3 31 50 64 56  7 42 35 48 29 65 38 68\n",
            " 32 55 37 36 41  6  4 33 67 23 57 61 14 20 53 40 59 24 44 19 54 51 26 39]\n",
            "PhoneService : [0 1]\n",
            "MultipleLines : [0 1]\n",
            "InternetService : ['DSL' 'Fiber optic' 0]\n",
            "OnlineSecurity : [0 1]\n",
            "OnlineBackup : [1 0]\n",
            "DeviceProtection : [0 1]\n",
            "TechSupport : [0 1]\n",
            "StreamingTV : [0 1]\n",
            "StreamingMovies : [0 1]\n",
            "Contract : ['Month-to-month' 'One year' 'Two year']\n",
            "PaperlessBilling : [1 0]\n",
            "PaymentMethod : ['Electronic check' 'Mailed check' 'Bank transfer (automatic)'\n",
            " 'Credit card (automatic)']\n",
            "MonthlyCharges : [29.85 56.95 53.85 ... 63.1  44.2  78.7 ]\n",
            "TotalCharges : [  29.85 1889.5   108.15 ...  346.45  306.6  6844.5 ]\n",
            "Churn : [0 1]\n"
          ]
        }
      ]
    },
    {
      "cell_type": "code",
      "source": [
        "df1['InternetService'].replace(0,'No',inplace=True)\n",
        "print_unique_col_values(df1)"
      ],
      "metadata": {
        "colab": {
          "base_uri": "https://localhost:8080/"
        },
        "id": "zYPkhe9ADT-d",
        "outputId": "e953418f-92dc-4133-98e9-b2fbd38c1571"
      },
      "execution_count": 258,
      "outputs": [
        {
          "output_type": "stream",
          "name": "stdout",
          "text": [
            "gender : ['Female' 'Male']\n",
            "SeniorCitizen : [0 1]\n",
            "Partner : [1 0]\n",
            "Dependents : [0 1]\n",
            "tenure : [ 1 34  2 45  8 22 10 28 62 13 16 58 49 25 69 52 71 21 12 30 47 72 17 27\n",
            "  5 46 11 70 63 43 15 60 18 66  9  3 31 50 64 56  7 42 35 48 29 65 38 68\n",
            " 32 55 37 36 41  6  4 33 67 23 57 61 14 20 53 40 59 24 44 19 54 51 26 39]\n",
            "PhoneService : [0 1]\n",
            "MultipleLines : [0 1]\n",
            "InternetService : ['DSL' 'Fiber optic' 'No']\n",
            "OnlineSecurity : [0 1]\n",
            "OnlineBackup : [1 0]\n",
            "DeviceProtection : [0 1]\n",
            "TechSupport : [0 1]\n",
            "StreamingTV : [0 1]\n",
            "StreamingMovies : [0 1]\n",
            "Contract : ['Month-to-month' 'One year' 'Two year']\n",
            "PaperlessBilling : [1 0]\n",
            "PaymentMethod : ['Electronic check' 'Mailed check' 'Bank transfer (automatic)'\n",
            " 'Credit card (automatic)']\n",
            "MonthlyCharges : [29.85 56.95 53.85 ... 63.1  44.2  78.7 ]\n",
            "TotalCharges : [  29.85 1889.5   108.15 ...  346.45  306.6  6844.5 ]\n",
            "Churn : [0 1]\n"
          ]
        },
        {
          "output_type": "stream",
          "name": "stderr",
          "text": [
            "/usr/local/lib/python3.7/dist-packages/pandas/core/generic.py:6619: SettingWithCopyWarning: \n",
            "A value is trying to be set on a copy of a slice from a DataFrame\n",
            "\n",
            "See the caveats in the documentation: https://pandas.pydata.org/pandas-docs/stable/user_guide/indexing.html#returning-a-view-versus-a-copy\n",
            "  return self._update_inplace(result)\n"
          ]
        }
      ]
    },
    {
      "cell_type": "code",
      "source": [
        "df1['gender'].replace({'Female':1,'Male':0}, inplace=True)"
      ],
      "metadata": {
        "id": "Jv25erL9D45F"
      },
      "execution_count": 259,
      "outputs": []
    },
    {
      "cell_type": "code",
      "source": [
        "print_unique_col_values(df1)"
      ],
      "metadata": {
        "colab": {
          "base_uri": "https://localhost:8080/"
        },
        "id": "j8kWXKsHEqxN",
        "outputId": "ad9c5fca-c785-4e78-cda4-0cea4f631963"
      },
      "execution_count": 260,
      "outputs": [
        {
          "output_type": "stream",
          "name": "stdout",
          "text": [
            "gender : [1 0]\n",
            "SeniorCitizen : [0 1]\n",
            "Partner : [1 0]\n",
            "Dependents : [0 1]\n",
            "tenure : [ 1 34  2 45  8 22 10 28 62 13 16 58 49 25 69 52 71 21 12 30 47 72 17 27\n",
            "  5 46 11 70 63 43 15 60 18 66  9  3 31 50 64 56  7 42 35 48 29 65 38 68\n",
            " 32 55 37 36 41  6  4 33 67 23 57 61 14 20 53 40 59 24 44 19 54 51 26 39]\n",
            "PhoneService : [0 1]\n",
            "MultipleLines : [0 1]\n",
            "InternetService : ['DSL' 'Fiber optic' 'No']\n",
            "OnlineSecurity : [0 1]\n",
            "OnlineBackup : [1 0]\n",
            "DeviceProtection : [0 1]\n",
            "TechSupport : [0 1]\n",
            "StreamingTV : [0 1]\n",
            "StreamingMovies : [0 1]\n",
            "Contract : ['Month-to-month' 'One year' 'Two year']\n",
            "PaperlessBilling : [1 0]\n",
            "PaymentMethod : ['Electronic check' 'Mailed check' 'Bank transfer (automatic)'\n",
            " 'Credit card (automatic)']\n",
            "MonthlyCharges : [29.85 56.95 53.85 ... 63.1  44.2  78.7 ]\n",
            "TotalCharges : [  29.85 1889.5   108.15 ...  346.45  306.6  6844.5 ]\n",
            "Churn : [0 1]\n"
          ]
        }
      ]
    },
    {
      "cell_type": "markdown",
      "source": [
        "# One-Hot-Encoding Data"
      ],
      "metadata": {
        "id": "8K7Atu8GmU8J"
      }
    },
    {
      "cell_type": "code",
      "source": [
        "df2=pd.get_dummies(data=df1,columns=['InternetService','Contract','PaymentMethod'])\n",
        "df2.columns"
      ],
      "metadata": {
        "colab": {
          "base_uri": "https://localhost:8080/"
        },
        "id": "zEJbemT8E3Bd",
        "outputId": "8d12f64b-52e8-4bb7-f4ea-d053548ca170"
      },
      "execution_count": 261,
      "outputs": [
        {
          "output_type": "execute_result",
          "data": {
            "text/plain": [
              "Index(['gender', 'SeniorCitizen', 'Partner', 'Dependents', 'tenure',\n",
              "       'PhoneService', 'MultipleLines', 'OnlineSecurity', 'OnlineBackup',\n",
              "       'DeviceProtection', 'TechSupport', 'StreamingTV', 'StreamingMovies',\n",
              "       'PaperlessBilling', 'MonthlyCharges', 'TotalCharges', 'Churn',\n",
              "       'InternetService_DSL', 'InternetService_Fiber optic',\n",
              "       'InternetService_No', 'Contract_Month-to-month', 'Contract_One year',\n",
              "       'Contract_Two year', 'PaymentMethod_Bank transfer (automatic)',\n",
              "       'PaymentMethod_Credit card (automatic)',\n",
              "       'PaymentMethod_Electronic check', 'PaymentMethod_Mailed check'],\n",
              "      dtype='object')"
            ]
          },
          "metadata": {},
          "execution_count": 261
        }
      ]
    },
    {
      "cell_type": "code",
      "source": [
        "df2.sample(5)"
      ],
      "metadata": {
        "colab": {
          "base_uri": "https://localhost:8080/",
          "height": 0
        },
        "id": "cIMu8H4nFQGF",
        "outputId": "fd936d25-28ca-4335-8540-95ab807db518"
      },
      "execution_count": 262,
      "outputs": [
        {
          "output_type": "execute_result",
          "data": {
            "text/plain": [
              "      gender  SeniorCitizen  Partner  Dependents  tenure  PhoneService  \\\n",
              "2137       0              0        1           1      12             1   \n",
              "5530       1              0        0           0      66             1   \n",
              "6184       0              0        0           0      41             1   \n",
              "3466       0              0        1           1      72             1   \n",
              "3427       1              0        1           0      21             1   \n",
              "\n",
              "      MultipleLines  OnlineSecurity  OnlineBackup  DeviceProtection  ...  \\\n",
              "2137              1               0             0                 0  ...   \n",
              "5530              1               0             0                 1  ...   \n",
              "6184              1               0             0                 1  ...   \n",
              "3466              1               0             0                 0  ...   \n",
              "3427              1               0             0                 0  ...   \n",
              "\n",
              "      InternetService_DSL  InternetService_Fiber optic  InternetService_No  \\\n",
              "2137                    0                            0                   1   \n",
              "5530                    0                            1                   0   \n",
              "6184                    1                            0                   0   \n",
              "3466                    0                            0                   1   \n",
              "3427                    0                            1                   0   \n",
              "\n",
              "      Contract_Month-to-month  Contract_One year  Contract_Two year  \\\n",
              "2137                        0                  0                  1   \n",
              "5530                        0                  1                  0   \n",
              "6184                        1                  0                  0   \n",
              "3466                        0                  0                  1   \n",
              "3427                        1                  0                  0   \n",
              "\n",
              "      PaymentMethod_Bank transfer (automatic)  \\\n",
              "2137                                        1   \n",
              "5530                                        1   \n",
              "6184                                        1   \n",
              "3466                                        0   \n",
              "3427                                        0   \n",
              "\n",
              "      PaymentMethod_Credit card (automatic)  PaymentMethod_Electronic check  \\\n",
              "2137                                      0                               0   \n",
              "5530                                      0                               0   \n",
              "6184                                      0                               0   \n",
              "3466                                      1                               0   \n",
              "3427                                      0                               1   \n",
              "\n",
              "      PaymentMethod_Mailed check  \n",
              "2137                           0  \n",
              "5530                           0  \n",
              "6184                           0  \n",
              "3466                           0  \n",
              "3427                           0  \n",
              "\n",
              "[5 rows x 27 columns]"
            ],
            "text/html": [
              "\n",
              "  <div id=\"df-e901133e-044d-4332-8be9-303e154ea9f0\">\n",
              "    <div class=\"colab-df-container\">\n",
              "      <div>\n",
              "<style scoped>\n",
              "    .dataframe tbody tr th:only-of-type {\n",
              "        vertical-align: middle;\n",
              "    }\n",
              "\n",
              "    .dataframe tbody tr th {\n",
              "        vertical-align: top;\n",
              "    }\n",
              "\n",
              "    .dataframe thead th {\n",
              "        text-align: right;\n",
              "    }\n",
              "</style>\n",
              "<table border=\"1\" class=\"dataframe\">\n",
              "  <thead>\n",
              "    <tr style=\"text-align: right;\">\n",
              "      <th></th>\n",
              "      <th>gender</th>\n",
              "      <th>SeniorCitizen</th>\n",
              "      <th>Partner</th>\n",
              "      <th>Dependents</th>\n",
              "      <th>tenure</th>\n",
              "      <th>PhoneService</th>\n",
              "      <th>MultipleLines</th>\n",
              "      <th>OnlineSecurity</th>\n",
              "      <th>OnlineBackup</th>\n",
              "      <th>DeviceProtection</th>\n",
              "      <th>...</th>\n",
              "      <th>InternetService_DSL</th>\n",
              "      <th>InternetService_Fiber optic</th>\n",
              "      <th>InternetService_No</th>\n",
              "      <th>Contract_Month-to-month</th>\n",
              "      <th>Contract_One year</th>\n",
              "      <th>Contract_Two year</th>\n",
              "      <th>PaymentMethod_Bank transfer (automatic)</th>\n",
              "      <th>PaymentMethod_Credit card (automatic)</th>\n",
              "      <th>PaymentMethod_Electronic check</th>\n",
              "      <th>PaymentMethod_Mailed check</th>\n",
              "    </tr>\n",
              "  </thead>\n",
              "  <tbody>\n",
              "    <tr>\n",
              "      <th>2137</th>\n",
              "      <td>0</td>\n",
              "      <td>0</td>\n",
              "      <td>1</td>\n",
              "      <td>1</td>\n",
              "      <td>12</td>\n",
              "      <td>1</td>\n",
              "      <td>1</td>\n",
              "      <td>0</td>\n",
              "      <td>0</td>\n",
              "      <td>0</td>\n",
              "      <td>...</td>\n",
              "      <td>0</td>\n",
              "      <td>0</td>\n",
              "      <td>1</td>\n",
              "      <td>0</td>\n",
              "      <td>0</td>\n",
              "      <td>1</td>\n",
              "      <td>1</td>\n",
              "      <td>0</td>\n",
              "      <td>0</td>\n",
              "      <td>0</td>\n",
              "    </tr>\n",
              "    <tr>\n",
              "      <th>5530</th>\n",
              "      <td>1</td>\n",
              "      <td>0</td>\n",
              "      <td>0</td>\n",
              "      <td>0</td>\n",
              "      <td>66</td>\n",
              "      <td>1</td>\n",
              "      <td>1</td>\n",
              "      <td>0</td>\n",
              "      <td>0</td>\n",
              "      <td>1</td>\n",
              "      <td>...</td>\n",
              "      <td>0</td>\n",
              "      <td>1</td>\n",
              "      <td>0</td>\n",
              "      <td>0</td>\n",
              "      <td>1</td>\n",
              "      <td>0</td>\n",
              "      <td>1</td>\n",
              "      <td>0</td>\n",
              "      <td>0</td>\n",
              "      <td>0</td>\n",
              "    </tr>\n",
              "    <tr>\n",
              "      <th>6184</th>\n",
              "      <td>0</td>\n",
              "      <td>0</td>\n",
              "      <td>0</td>\n",
              "      <td>0</td>\n",
              "      <td>41</td>\n",
              "      <td>1</td>\n",
              "      <td>1</td>\n",
              "      <td>0</td>\n",
              "      <td>0</td>\n",
              "      <td>1</td>\n",
              "      <td>...</td>\n",
              "      <td>1</td>\n",
              "      <td>0</td>\n",
              "      <td>0</td>\n",
              "      <td>1</td>\n",
              "      <td>0</td>\n",
              "      <td>0</td>\n",
              "      <td>1</td>\n",
              "      <td>0</td>\n",
              "      <td>0</td>\n",
              "      <td>0</td>\n",
              "    </tr>\n",
              "    <tr>\n",
              "      <th>3466</th>\n",
              "      <td>0</td>\n",
              "      <td>0</td>\n",
              "      <td>1</td>\n",
              "      <td>1</td>\n",
              "      <td>72</td>\n",
              "      <td>1</td>\n",
              "      <td>1</td>\n",
              "      <td>0</td>\n",
              "      <td>0</td>\n",
              "      <td>0</td>\n",
              "      <td>...</td>\n",
              "      <td>0</td>\n",
              "      <td>0</td>\n",
              "      <td>1</td>\n",
              "      <td>0</td>\n",
              "      <td>0</td>\n",
              "      <td>1</td>\n",
              "      <td>0</td>\n",
              "      <td>1</td>\n",
              "      <td>0</td>\n",
              "      <td>0</td>\n",
              "    </tr>\n",
              "    <tr>\n",
              "      <th>3427</th>\n",
              "      <td>1</td>\n",
              "      <td>0</td>\n",
              "      <td>1</td>\n",
              "      <td>0</td>\n",
              "      <td>21</td>\n",
              "      <td>1</td>\n",
              "      <td>1</td>\n",
              "      <td>0</td>\n",
              "      <td>0</td>\n",
              "      <td>0</td>\n",
              "      <td>...</td>\n",
              "      <td>0</td>\n",
              "      <td>1</td>\n",
              "      <td>0</td>\n",
              "      <td>1</td>\n",
              "      <td>0</td>\n",
              "      <td>0</td>\n",
              "      <td>0</td>\n",
              "      <td>0</td>\n",
              "      <td>1</td>\n",
              "      <td>0</td>\n",
              "    </tr>\n",
              "  </tbody>\n",
              "</table>\n",
              "<p>5 rows × 27 columns</p>\n",
              "</div>\n",
              "      <button class=\"colab-df-convert\" onclick=\"convertToInteractive('df-e901133e-044d-4332-8be9-303e154ea9f0')\"\n",
              "              title=\"Convert this dataframe to an interactive table.\"\n",
              "              style=\"display:none;\">\n",
              "        \n",
              "  <svg xmlns=\"http://www.w3.org/2000/svg\" height=\"24px\"viewBox=\"0 0 24 24\"\n",
              "       width=\"24px\">\n",
              "    <path d=\"M0 0h24v24H0V0z\" fill=\"none\"/>\n",
              "    <path d=\"M18.56 5.44l.94 2.06.94-2.06 2.06-.94-2.06-.94-.94-2.06-.94 2.06-2.06.94zm-11 1L8.5 8.5l.94-2.06 2.06-.94-2.06-.94L8.5 2.5l-.94 2.06-2.06.94zm10 10l.94 2.06.94-2.06 2.06-.94-2.06-.94-.94-2.06-.94 2.06-2.06.94z\"/><path d=\"M17.41 7.96l-1.37-1.37c-.4-.4-.92-.59-1.43-.59-.52 0-1.04.2-1.43.59L10.3 9.45l-7.72 7.72c-.78.78-.78 2.05 0 2.83L4 21.41c.39.39.9.59 1.41.59.51 0 1.02-.2 1.41-.59l7.78-7.78 2.81-2.81c.8-.78.8-2.07 0-2.86zM5.41 20L4 18.59l7.72-7.72 1.47 1.35L5.41 20z\"/>\n",
              "  </svg>\n",
              "      </button>\n",
              "      \n",
              "  <style>\n",
              "    .colab-df-container {\n",
              "      display:flex;\n",
              "      flex-wrap:wrap;\n",
              "      gap: 12px;\n",
              "    }\n",
              "\n",
              "    .colab-df-convert {\n",
              "      background-color: #E8F0FE;\n",
              "      border: none;\n",
              "      border-radius: 50%;\n",
              "      cursor: pointer;\n",
              "      display: none;\n",
              "      fill: #1967D2;\n",
              "      height: 32px;\n",
              "      padding: 0 0 0 0;\n",
              "      width: 32px;\n",
              "    }\n",
              "\n",
              "    .colab-df-convert:hover {\n",
              "      background-color: #E2EBFA;\n",
              "      box-shadow: 0px 1px 2px rgba(60, 64, 67, 0.3), 0px 1px 3px 1px rgba(60, 64, 67, 0.15);\n",
              "      fill: #174EA6;\n",
              "    }\n",
              "\n",
              "    [theme=dark] .colab-df-convert {\n",
              "      background-color: #3B4455;\n",
              "      fill: #D2E3FC;\n",
              "    }\n",
              "\n",
              "    [theme=dark] .colab-df-convert:hover {\n",
              "      background-color: #434B5C;\n",
              "      box-shadow: 0px 1px 3px 1px rgba(0, 0, 0, 0.15);\n",
              "      filter: drop-shadow(0px 1px 2px rgba(0, 0, 0, 0.3));\n",
              "      fill: #FFFFFF;\n",
              "    }\n",
              "  </style>\n",
              "\n",
              "      <script>\n",
              "        const buttonEl =\n",
              "          document.querySelector('#df-e901133e-044d-4332-8be9-303e154ea9f0 button.colab-df-convert');\n",
              "        buttonEl.style.display =\n",
              "          google.colab.kernel.accessAllowed ? 'block' : 'none';\n",
              "\n",
              "        async function convertToInteractive(key) {\n",
              "          const element = document.querySelector('#df-e901133e-044d-4332-8be9-303e154ea9f0');\n",
              "          const dataTable =\n",
              "            await google.colab.kernel.invokeFunction('convertToInteractive',\n",
              "                                                     [key], {});\n",
              "          if (!dataTable) return;\n",
              "\n",
              "          const docLinkHtml = 'Like what you see? Visit the ' +\n",
              "            '<a target=\"_blank\" href=https://colab.research.google.com/notebooks/data_table.ipynb>data table notebook</a>'\n",
              "            + ' to learn more about interactive tables.';\n",
              "          element.innerHTML = '';\n",
              "          dataTable['output_type'] = 'display_data';\n",
              "          await google.colab.output.renderOutput(dataTable, element);\n",
              "          const docLink = document.createElement('div');\n",
              "          docLink.innerHTML = docLinkHtml;\n",
              "          element.appendChild(docLink);\n",
              "        }\n",
              "      </script>\n",
              "    </div>\n",
              "  </div>\n",
              "  "
            ]
          },
          "metadata": {},
          "execution_count": 262
        }
      ]
    },
    {
      "cell_type": "code",
      "source": [
        "df2.dtypes"
      ],
      "metadata": {
        "colab": {
          "base_uri": "https://localhost:8080/"
        },
        "id": "ufCMQka-FpXt",
        "outputId": "4661ba83-ea9b-4887-9039-1dde75b69ae8"
      },
      "execution_count": 263,
      "outputs": [
        {
          "output_type": "execute_result",
          "data": {
            "text/plain": [
              "gender                                       int64\n",
              "SeniorCitizen                                int64\n",
              "Partner                                      int64\n",
              "Dependents                                   int64\n",
              "tenure                                       int64\n",
              "PhoneService                                 int64\n",
              "MultipleLines                                int64\n",
              "OnlineSecurity                               int64\n",
              "OnlineBackup                                 int64\n",
              "DeviceProtection                             int64\n",
              "TechSupport                                  int64\n",
              "StreamingTV                                  int64\n",
              "StreamingMovies                              int64\n",
              "PaperlessBilling                             int64\n",
              "MonthlyCharges                             float64\n",
              "TotalCharges                               float64\n",
              "Churn                                        int64\n",
              "InternetService_DSL                          uint8\n",
              "InternetService_Fiber optic                  uint8\n",
              "InternetService_No                           uint8\n",
              "Contract_Month-to-month                      uint8\n",
              "Contract_One year                            uint8\n",
              "Contract_Two year                            uint8\n",
              "PaymentMethod_Bank transfer (automatic)      uint8\n",
              "PaymentMethod_Credit card (automatic)        uint8\n",
              "PaymentMethod_Electronic check               uint8\n",
              "PaymentMethod_Mailed check                   uint8\n",
              "dtype: object"
            ]
          },
          "metadata": {},
          "execution_count": 263
        }
      ]
    },
    {
      "cell_type": "markdown",
      "source": [
        "# Scaling Data"
      ],
      "metadata": {
        "id": "MlKX9LQnmaMi"
      }
    },
    {
      "cell_type": "code",
      "source": [
        "cols_to_scale=['tenure','MonthlyCharges','TotalCharges']\n",
        "\n",
        "from sklearn.preprocessing import MinMaxScaler\n",
        "scaler=MinMaxScaler()\n",
        "\n",
        "df2[cols_to_scale]=scaler.fit_transform(df2[cols_to_scale])"
      ],
      "metadata": {
        "id": "B65KbZdBF0cV"
      },
      "execution_count": 264,
      "outputs": []
    },
    {
      "cell_type": "code",
      "source": [
        "df2.sample(3)"
      ],
      "metadata": {
        "colab": {
          "base_uri": "https://localhost:8080/",
          "height": 271
        },
        "id": "9W9lTspaGRm0",
        "outputId": "2075743f-7235-4101-8249-28267ca29640"
      },
      "execution_count": 265,
      "outputs": [
        {
          "output_type": "execute_result",
          "data": {
            "text/plain": [
              "      gender  SeniorCitizen  Partner  Dependents    tenure  PhoneService  \\\n",
              "5334       1              0        1           1  0.676056             1   \n",
              "3572       1              1        0           0  0.436620             1   \n",
              "5556       0              0        0           0  0.169014             1   \n",
              "\n",
              "      MultipleLines  OnlineSecurity  OnlineBackup  DeviceProtection  ...  \\\n",
              "5334              1               0             1                 1  ...   \n",
              "3572              0               0             0                 0  ...   \n",
              "5556              0               0             1                 1  ...   \n",
              "\n",
              "      InternetService_DSL  InternetService_Fiber optic  InternetService_No  \\\n",
              "5334                    0                            1                   0   \n",
              "3572                    0                            1                   0   \n",
              "5556                    0                            1                   0   \n",
              "\n",
              "      Contract_Month-to-month  Contract_One year  Contract_Two year  \\\n",
              "5334                        0                  0                  1   \n",
              "3572                        1                  0                  0   \n",
              "5556                        1                  0                  0   \n",
              "\n",
              "      PaymentMethod_Bank transfer (automatic)  \\\n",
              "5334                                        1   \n",
              "3572                                        0   \n",
              "5556                                        0   \n",
              "\n",
              "      PaymentMethod_Credit card (automatic)  PaymentMethod_Electronic check  \\\n",
              "5334                                      0                               0   \n",
              "3572                                      0                               1   \n",
              "5556                                      0                               1   \n",
              "\n",
              "      PaymentMethod_Mailed check  \n",
              "5334                           0  \n",
              "3572                           0  \n",
              "5556                           0  \n",
              "\n",
              "[3 rows x 27 columns]"
            ],
            "text/html": [
              "\n",
              "  <div id=\"df-c585a73a-bde8-4df2-bd41-685729d72cd0\">\n",
              "    <div class=\"colab-df-container\">\n",
              "      <div>\n",
              "<style scoped>\n",
              "    .dataframe tbody tr th:only-of-type {\n",
              "        vertical-align: middle;\n",
              "    }\n",
              "\n",
              "    .dataframe tbody tr th {\n",
              "        vertical-align: top;\n",
              "    }\n",
              "\n",
              "    .dataframe thead th {\n",
              "        text-align: right;\n",
              "    }\n",
              "</style>\n",
              "<table border=\"1\" class=\"dataframe\">\n",
              "  <thead>\n",
              "    <tr style=\"text-align: right;\">\n",
              "      <th></th>\n",
              "      <th>gender</th>\n",
              "      <th>SeniorCitizen</th>\n",
              "      <th>Partner</th>\n",
              "      <th>Dependents</th>\n",
              "      <th>tenure</th>\n",
              "      <th>PhoneService</th>\n",
              "      <th>MultipleLines</th>\n",
              "      <th>OnlineSecurity</th>\n",
              "      <th>OnlineBackup</th>\n",
              "      <th>DeviceProtection</th>\n",
              "      <th>...</th>\n",
              "      <th>InternetService_DSL</th>\n",
              "      <th>InternetService_Fiber optic</th>\n",
              "      <th>InternetService_No</th>\n",
              "      <th>Contract_Month-to-month</th>\n",
              "      <th>Contract_One year</th>\n",
              "      <th>Contract_Two year</th>\n",
              "      <th>PaymentMethod_Bank transfer (automatic)</th>\n",
              "      <th>PaymentMethod_Credit card (automatic)</th>\n",
              "      <th>PaymentMethod_Electronic check</th>\n",
              "      <th>PaymentMethod_Mailed check</th>\n",
              "    </tr>\n",
              "  </thead>\n",
              "  <tbody>\n",
              "    <tr>\n",
              "      <th>5334</th>\n",
              "      <td>1</td>\n",
              "      <td>0</td>\n",
              "      <td>1</td>\n",
              "      <td>1</td>\n",
              "      <td>0.676056</td>\n",
              "      <td>1</td>\n",
              "      <td>1</td>\n",
              "      <td>0</td>\n",
              "      <td>1</td>\n",
              "      <td>1</td>\n",
              "      <td>...</td>\n",
              "      <td>0</td>\n",
              "      <td>1</td>\n",
              "      <td>0</td>\n",
              "      <td>0</td>\n",
              "      <td>0</td>\n",
              "      <td>1</td>\n",
              "      <td>1</td>\n",
              "      <td>0</td>\n",
              "      <td>0</td>\n",
              "      <td>0</td>\n",
              "    </tr>\n",
              "    <tr>\n",
              "      <th>3572</th>\n",
              "      <td>1</td>\n",
              "      <td>1</td>\n",
              "      <td>0</td>\n",
              "      <td>0</td>\n",
              "      <td>0.436620</td>\n",
              "      <td>1</td>\n",
              "      <td>0</td>\n",
              "      <td>0</td>\n",
              "      <td>0</td>\n",
              "      <td>0</td>\n",
              "      <td>...</td>\n",
              "      <td>0</td>\n",
              "      <td>1</td>\n",
              "      <td>0</td>\n",
              "      <td>1</td>\n",
              "      <td>0</td>\n",
              "      <td>0</td>\n",
              "      <td>0</td>\n",
              "      <td>0</td>\n",
              "      <td>1</td>\n",
              "      <td>0</td>\n",
              "    </tr>\n",
              "    <tr>\n",
              "      <th>5556</th>\n",
              "      <td>0</td>\n",
              "      <td>0</td>\n",
              "      <td>0</td>\n",
              "      <td>0</td>\n",
              "      <td>0.169014</td>\n",
              "      <td>1</td>\n",
              "      <td>0</td>\n",
              "      <td>0</td>\n",
              "      <td>1</td>\n",
              "      <td>1</td>\n",
              "      <td>...</td>\n",
              "      <td>0</td>\n",
              "      <td>1</td>\n",
              "      <td>0</td>\n",
              "      <td>1</td>\n",
              "      <td>0</td>\n",
              "      <td>0</td>\n",
              "      <td>0</td>\n",
              "      <td>0</td>\n",
              "      <td>1</td>\n",
              "      <td>0</td>\n",
              "    </tr>\n",
              "  </tbody>\n",
              "</table>\n",
              "<p>3 rows × 27 columns</p>\n",
              "</div>\n",
              "      <button class=\"colab-df-convert\" onclick=\"convertToInteractive('df-c585a73a-bde8-4df2-bd41-685729d72cd0')\"\n",
              "              title=\"Convert this dataframe to an interactive table.\"\n",
              "              style=\"display:none;\">\n",
              "        \n",
              "  <svg xmlns=\"http://www.w3.org/2000/svg\" height=\"24px\"viewBox=\"0 0 24 24\"\n",
              "       width=\"24px\">\n",
              "    <path d=\"M0 0h24v24H0V0z\" fill=\"none\"/>\n",
              "    <path d=\"M18.56 5.44l.94 2.06.94-2.06 2.06-.94-2.06-.94-.94-2.06-.94 2.06-2.06.94zm-11 1L8.5 8.5l.94-2.06 2.06-.94-2.06-.94L8.5 2.5l-.94 2.06-2.06.94zm10 10l.94 2.06.94-2.06 2.06-.94-2.06-.94-.94-2.06-.94 2.06-2.06.94z\"/><path d=\"M17.41 7.96l-1.37-1.37c-.4-.4-.92-.59-1.43-.59-.52 0-1.04.2-1.43.59L10.3 9.45l-7.72 7.72c-.78.78-.78 2.05 0 2.83L4 21.41c.39.39.9.59 1.41.59.51 0 1.02-.2 1.41-.59l7.78-7.78 2.81-2.81c.8-.78.8-2.07 0-2.86zM5.41 20L4 18.59l7.72-7.72 1.47 1.35L5.41 20z\"/>\n",
              "  </svg>\n",
              "      </button>\n",
              "      \n",
              "  <style>\n",
              "    .colab-df-container {\n",
              "      display:flex;\n",
              "      flex-wrap:wrap;\n",
              "      gap: 12px;\n",
              "    }\n",
              "\n",
              "    .colab-df-convert {\n",
              "      background-color: #E8F0FE;\n",
              "      border: none;\n",
              "      border-radius: 50%;\n",
              "      cursor: pointer;\n",
              "      display: none;\n",
              "      fill: #1967D2;\n",
              "      height: 32px;\n",
              "      padding: 0 0 0 0;\n",
              "      width: 32px;\n",
              "    }\n",
              "\n",
              "    .colab-df-convert:hover {\n",
              "      background-color: #E2EBFA;\n",
              "      box-shadow: 0px 1px 2px rgba(60, 64, 67, 0.3), 0px 1px 3px 1px rgba(60, 64, 67, 0.15);\n",
              "      fill: #174EA6;\n",
              "    }\n",
              "\n",
              "    [theme=dark] .colab-df-convert {\n",
              "      background-color: #3B4455;\n",
              "      fill: #D2E3FC;\n",
              "    }\n",
              "\n",
              "    [theme=dark] .colab-df-convert:hover {\n",
              "      background-color: #434B5C;\n",
              "      box-shadow: 0px 1px 3px 1px rgba(0, 0, 0, 0.15);\n",
              "      filter: drop-shadow(0px 1px 2px rgba(0, 0, 0, 0.3));\n",
              "      fill: #FFFFFF;\n",
              "    }\n",
              "  </style>\n",
              "\n",
              "      <script>\n",
              "        const buttonEl =\n",
              "          document.querySelector('#df-c585a73a-bde8-4df2-bd41-685729d72cd0 button.colab-df-convert');\n",
              "        buttonEl.style.display =\n",
              "          google.colab.kernel.accessAllowed ? 'block' : 'none';\n",
              "\n",
              "        async function convertToInteractive(key) {\n",
              "          const element = document.querySelector('#df-c585a73a-bde8-4df2-bd41-685729d72cd0');\n",
              "          const dataTable =\n",
              "            await google.colab.kernel.invokeFunction('convertToInteractive',\n",
              "                                                     [key], {});\n",
              "          if (!dataTable) return;\n",
              "\n",
              "          const docLinkHtml = 'Like what you see? Visit the ' +\n",
              "            '<a target=\"_blank\" href=https://colab.research.google.com/notebooks/data_table.ipynb>data table notebook</a>'\n",
              "            + ' to learn more about interactive tables.';\n",
              "          element.innerHTML = '';\n",
              "          dataTable['output_type'] = 'display_data';\n",
              "          await google.colab.output.renderOutput(dataTable, element);\n",
              "          const docLink = document.createElement('div');\n",
              "          docLink.innerHTML = docLinkHtml;\n",
              "          element.appendChild(docLink);\n",
              "        }\n",
              "      </script>\n",
              "    </div>\n",
              "  </div>\n",
              "  "
            ]
          },
          "metadata": {},
          "execution_count": 265
        }
      ]
    },
    {
      "cell_type": "code",
      "source": [
        "print_unique_col_values(df2)"
      ],
      "metadata": {
        "colab": {
          "base_uri": "https://localhost:8080/"
        },
        "id": "p5i3jbBvGq1-",
        "outputId": "1557ebf2-43fb-4be1-f40c-307ba818a33a"
      },
      "execution_count": 266,
      "outputs": [
        {
          "output_type": "stream",
          "name": "stdout",
          "text": [
            "gender : [1 0]\n",
            "SeniorCitizen : [0 1]\n",
            "Partner : [1 0]\n",
            "Dependents : [0 1]\n",
            "tenure : [0.         0.46478873 0.01408451 0.61971831 0.09859155 0.29577465\n",
            " 0.12676056 0.38028169 0.85915493 0.16901408 0.21126761 0.8028169\n",
            " 0.67605634 0.33802817 0.95774648 0.71830986 0.98591549 0.28169014\n",
            " 0.15492958 0.4084507  0.64788732 1.         0.22535211 0.36619718\n",
            " 0.05633803 0.63380282 0.14084507 0.97183099 0.87323944 0.5915493\n",
            " 0.1971831  0.83098592 0.23943662 0.91549296 0.11267606 0.02816901\n",
            " 0.42253521 0.69014085 0.88732394 0.77464789 0.08450704 0.57746479\n",
            " 0.47887324 0.66197183 0.3943662  0.90140845 0.52112676 0.94366197\n",
            " 0.43661972 0.76056338 0.50704225 0.49295775 0.56338028 0.07042254\n",
            " 0.04225352 0.45070423 0.92957746 0.30985915 0.78873239 0.84507042\n",
            " 0.18309859 0.26760563 0.73239437 0.54929577 0.81690141 0.32394366\n",
            " 0.6056338  0.25352113 0.74647887 0.70422535 0.35211268 0.53521127]\n",
            "PhoneService : [0 1]\n",
            "MultipleLines : [0 1]\n",
            "OnlineSecurity : [0 1]\n",
            "OnlineBackup : [1 0]\n",
            "DeviceProtection : [0 1]\n",
            "TechSupport : [0 1]\n",
            "StreamingTV : [0 1]\n",
            "StreamingMovies : [0 1]\n",
            "PaperlessBilling : [1 0]\n",
            "MonthlyCharges : [0.11542289 0.38507463 0.35422886 ... 0.44626866 0.25820896 0.60149254]\n",
            "TotalCharges : [0.0012751  0.21586661 0.01031041 ... 0.03780868 0.03321025 0.78764136]\n",
            "Churn : [0 1]\n",
            "InternetService_DSL : [1 0]\n",
            "InternetService_Fiber optic : [0 1]\n",
            "InternetService_No : [0 1]\n",
            "Contract_Month-to-month : [1 0]\n",
            "Contract_One year : [0 1]\n",
            "Contract_Two year : [0 1]\n",
            "PaymentMethod_Bank transfer (automatic) : [0 1]\n",
            "PaymentMethod_Credit card (automatic) : [0 1]\n",
            "PaymentMethod_Electronic check : [1 0]\n",
            "PaymentMethod_Mailed check : [0 1]\n"
          ]
        }
      ]
    },
    {
      "cell_type": "markdown",
      "source": [
        "# Splitting data into train and test datasets"
      ],
      "metadata": {
        "id": "iU7MlJ3ymeMv"
      }
    },
    {
      "cell_type": "code",
      "source": [
        "x=df2.drop('Churn', axis='columns')\n",
        "y=df2['Churn']"
      ],
      "metadata": {
        "id": "4xie7cj1HMHV"
      },
      "execution_count": 267,
      "outputs": []
    },
    {
      "cell_type": "code",
      "source": [
        "from sklearn.model_selection import train_test_split\n",
        "X_train, X_test, y_train, y_test=train_test_split(x,y,test_size=0.2,random_state=5)"
      ],
      "metadata": {
        "id": "drnVLZBCHaTW"
      },
      "execution_count": 268,
      "outputs": []
    },
    {
      "cell_type": "code",
      "source": [
        "df2['Churn'].value_counts()"
      ],
      "metadata": {
        "id": "p4ePuH3PSIe9",
        "outputId": "ea486ad1-290c-40c0-b89d-c671d2ba49ea",
        "colab": {
          "base_uri": "https://localhost:8080/"
        }
      },
      "execution_count": 269,
      "outputs": [
        {
          "output_type": "execute_result",
          "data": {
            "text/plain": [
              "0    5163\n",
              "1    1869\n",
              "Name: Churn, dtype: int64"
            ]
          },
          "metadata": {},
          "execution_count": 269
        }
      ]
    },
    {
      "cell_type": "markdown",
      "source": [
        "### Hence this dataset is imbalanced"
      ],
      "metadata": {
        "id": "GQM2fnQBSXme"
      }
    },
    {
      "cell_type": "markdown",
      "source": [
        "# Training Neural Network"
      ],
      "metadata": {
        "id": "q8Kvy_xWR89d"
      }
    },
    {
      "cell_type": "code",
      "source": [
        "def ANN(x_train,y_train,x_test,y_test,loss,weights):\n",
        "    model=keras.Sequential([\n",
        "        keras.layers.Dense(26, input_dim=26, activation='relu'),\n",
        "        keras.layers.Dense(15, activation='relu'),\n",
        "        keras.layers.Dense(1,activation='sigmoid')\n",
        "    ])\n",
        "\n",
        "    model.compile(\n",
        "        optimizer='adam',\n",
        "        loss=loss,\n",
        "        metrics=['accuracy']\n",
        "    )\n",
        "\n",
        "    if weights==-1:\n",
        "        model.fit(x_train,y_train,epochs=100)\n",
        "    else:\n",
        "        model.fit(x_train,y_train,epochs=100,class_weights=weights)\n",
        "\n",
        "    print(model.evaluate(x_test,y_test))\n",
        "\n",
        "    y_preds=model.predict(x_test)\n",
        "    y_preds=np.round(y_preds)\n",
        "\n",
        "    print(\"Classification Report: \\n\", classification_report(y_test,y_preds))\n",
        "\n",
        "    return y_preds"
      ],
      "metadata": {
        "id": "aA75HAlPPvAu"
      },
      "execution_count": 270,
      "outputs": []
    },
    {
      "cell_type": "code",
      "source": [
        "y_preds=ANN(X_train,y_train,X_test,y_test,'binary_crossentropy',-1)"
      ],
      "metadata": {
        "colab": {
          "base_uri": "https://localhost:8080/"
        },
        "id": "3PaUEvu7TOJI",
        "outputId": "cd5fe238-a910-46f9-e34e-48f6c86df531"
      },
      "execution_count": 271,
      "outputs": [
        {
          "output_type": "stream",
          "name": "stdout",
          "text": [
            "Epoch 1/100\n",
            "176/176 [==============================] - 1s 3ms/step - loss: 0.4801 - accuracy: 0.7724\n",
            "Epoch 2/100\n",
            "176/176 [==============================] - 1s 3ms/step - loss: 0.4269 - accuracy: 0.8004\n",
            "Epoch 3/100\n",
            "176/176 [==============================] - 1s 3ms/step - loss: 0.4201 - accuracy: 0.8028\n",
            "Epoch 4/100\n",
            "176/176 [==============================] - 1s 3ms/step - loss: 0.4155 - accuracy: 0.8048\n",
            "Epoch 5/100\n",
            "176/176 [==============================] - 1s 3ms/step - loss: 0.4128 - accuracy: 0.8041\n",
            "Epoch 6/100\n",
            "176/176 [==============================] - 1s 3ms/step - loss: 0.4103 - accuracy: 0.8052\n",
            "Epoch 7/100\n",
            "176/176 [==============================] - 1s 3ms/step - loss: 0.4080 - accuracy: 0.8087\n",
            "Epoch 8/100\n",
            "176/176 [==============================] - 1s 3ms/step - loss: 0.4078 - accuracy: 0.8105\n",
            "Epoch 9/100\n",
            "176/176 [==============================] - 1s 3ms/step - loss: 0.4048 - accuracy: 0.8107\n",
            "Epoch 10/100\n",
            "176/176 [==============================] - 1s 3ms/step - loss: 0.4034 - accuracy: 0.8119\n",
            "Epoch 11/100\n",
            "176/176 [==============================] - 1s 3ms/step - loss: 0.4017 - accuracy: 0.8124\n",
            "Epoch 12/100\n",
            "176/176 [==============================] - 0s 3ms/step - loss: 0.4009 - accuracy: 0.8114\n",
            "Epoch 13/100\n",
            "176/176 [==============================] - 1s 3ms/step - loss: 0.4007 - accuracy: 0.8108\n",
            "Epoch 14/100\n",
            "176/176 [==============================] - 1s 3ms/step - loss: 0.3980 - accuracy: 0.8164\n",
            "Epoch 15/100\n",
            "176/176 [==============================] - 0s 3ms/step - loss: 0.3978 - accuracy: 0.8169\n",
            "Epoch 16/100\n",
            "176/176 [==============================] - 0s 3ms/step - loss: 0.3961 - accuracy: 0.8183\n",
            "Epoch 17/100\n",
            "176/176 [==============================] - 1s 3ms/step - loss: 0.3955 - accuracy: 0.8156\n",
            "Epoch 18/100\n",
            "176/176 [==============================] - 1s 3ms/step - loss: 0.3948 - accuracy: 0.8155\n",
            "Epoch 19/100\n",
            "176/176 [==============================] - 1s 3ms/step - loss: 0.3929 - accuracy: 0.8167\n",
            "Epoch 20/100\n",
            "176/176 [==============================] - 1s 3ms/step - loss: 0.3923 - accuracy: 0.8192\n",
            "Epoch 21/100\n",
            "176/176 [==============================] - 1s 3ms/step - loss: 0.3915 - accuracy: 0.8171\n",
            "Epoch 22/100\n",
            "176/176 [==============================] - 1s 3ms/step - loss: 0.3893 - accuracy: 0.8187\n",
            "Epoch 23/100\n",
            "176/176 [==============================] - 1s 3ms/step - loss: 0.3883 - accuracy: 0.8178\n",
            "Epoch 24/100\n",
            "176/176 [==============================] - 1s 3ms/step - loss: 0.3884 - accuracy: 0.8190\n",
            "Epoch 25/100\n",
            "176/176 [==============================] - 1s 3ms/step - loss: 0.3876 - accuracy: 0.8197\n",
            "Epoch 26/100\n",
            "176/176 [==============================] - 0s 3ms/step - loss: 0.3858 - accuracy: 0.8201\n",
            "Epoch 27/100\n",
            "176/176 [==============================] - 1s 3ms/step - loss: 0.3856 - accuracy: 0.8196\n",
            "Epoch 28/100\n",
            "176/176 [==============================] - 1s 3ms/step - loss: 0.3846 - accuracy: 0.8210\n",
            "Epoch 29/100\n",
            "176/176 [==============================] - 0s 3ms/step - loss: 0.3832 - accuracy: 0.8229\n",
            "Epoch 30/100\n",
            "176/176 [==============================] - 1s 3ms/step - loss: 0.3829 - accuracy: 0.8217\n",
            "Epoch 31/100\n",
            "176/176 [==============================] - 1s 3ms/step - loss: 0.3815 - accuracy: 0.8210\n",
            "Epoch 32/100\n",
            "176/176 [==============================] - 0s 3ms/step - loss: 0.3816 - accuracy: 0.8206\n",
            "Epoch 33/100\n",
            "176/176 [==============================] - 1s 3ms/step - loss: 0.3814 - accuracy: 0.8220\n",
            "Epoch 34/100\n",
            "176/176 [==============================] - 1s 3ms/step - loss: 0.3796 - accuracy: 0.8196\n",
            "Epoch 35/100\n",
            "176/176 [==============================] - 1s 3ms/step - loss: 0.3798 - accuracy: 0.8219\n",
            "Epoch 36/100\n",
            "176/176 [==============================] - 1s 3ms/step - loss: 0.3788 - accuracy: 0.8235\n",
            "Epoch 37/100\n",
            "176/176 [==============================] - 1s 3ms/step - loss: 0.3778 - accuracy: 0.8235\n",
            "Epoch 38/100\n",
            "176/176 [==============================] - 0s 3ms/step - loss: 0.3779 - accuracy: 0.8206\n",
            "Epoch 39/100\n",
            "176/176 [==============================] - 1s 3ms/step - loss: 0.3764 - accuracy: 0.8212\n",
            "Epoch 40/100\n",
            "176/176 [==============================] - 0s 3ms/step - loss: 0.3760 - accuracy: 0.8242\n",
            "Epoch 41/100\n",
            "176/176 [==============================] - 1s 3ms/step - loss: 0.3748 - accuracy: 0.8235\n",
            "Epoch 42/100\n",
            "176/176 [==============================] - 0s 3ms/step - loss: 0.3745 - accuracy: 0.8249\n",
            "Epoch 43/100\n",
            "176/176 [==============================] - 1s 3ms/step - loss: 0.3743 - accuracy: 0.8247\n",
            "Epoch 44/100\n",
            "176/176 [==============================] - 0s 3ms/step - loss: 0.3738 - accuracy: 0.8242\n",
            "Epoch 45/100\n",
            "176/176 [==============================] - 1s 3ms/step - loss: 0.3731 - accuracy: 0.8247\n",
            "Epoch 46/100\n",
            "176/176 [==============================] - 1s 3ms/step - loss: 0.3716 - accuracy: 0.8274\n",
            "Epoch 47/100\n",
            "176/176 [==============================] - 1s 3ms/step - loss: 0.3711 - accuracy: 0.8272\n",
            "Epoch 48/100\n",
            "176/176 [==============================] - 1s 3ms/step - loss: 0.3713 - accuracy: 0.8261\n",
            "Epoch 49/100\n",
            "176/176 [==============================] - 1s 3ms/step - loss: 0.3708 - accuracy: 0.8284\n",
            "Epoch 50/100\n",
            "176/176 [==============================] - 1s 3ms/step - loss: 0.3698 - accuracy: 0.8249\n",
            "Epoch 51/100\n",
            "176/176 [==============================] - 1s 3ms/step - loss: 0.3699 - accuracy: 0.8256\n",
            "Epoch 52/100\n",
            "176/176 [==============================] - 0s 3ms/step - loss: 0.3691 - accuracy: 0.8261\n",
            "Epoch 53/100\n",
            "176/176 [==============================] - 1s 3ms/step - loss: 0.3691 - accuracy: 0.8277\n",
            "Epoch 54/100\n",
            "176/176 [==============================] - 0s 3ms/step - loss: 0.3683 - accuracy: 0.8251\n",
            "Epoch 55/100\n",
            "176/176 [==============================] - 1s 3ms/step - loss: 0.3668 - accuracy: 0.8284\n",
            "Epoch 56/100\n",
            "176/176 [==============================] - 0s 3ms/step - loss: 0.3661 - accuracy: 0.8284\n",
            "Epoch 57/100\n",
            "176/176 [==============================] - 1s 3ms/step - loss: 0.3662 - accuracy: 0.8281\n",
            "Epoch 58/100\n",
            "176/176 [==============================] - 0s 3ms/step - loss: 0.3655 - accuracy: 0.8299\n",
            "Epoch 59/100\n",
            "176/176 [==============================] - 1s 3ms/step - loss: 0.3649 - accuracy: 0.8267\n",
            "Epoch 60/100\n",
            "176/176 [==============================] - 0s 3ms/step - loss: 0.3658 - accuracy: 0.8279\n",
            "Epoch 61/100\n",
            "176/176 [==============================] - 1s 3ms/step - loss: 0.3633 - accuracy: 0.8290\n",
            "Epoch 62/100\n",
            "176/176 [==============================] - 0s 3ms/step - loss: 0.3639 - accuracy: 0.8276\n",
            "Epoch 63/100\n",
            "176/176 [==============================] - 1s 3ms/step - loss: 0.3628 - accuracy: 0.8251\n",
            "Epoch 64/100\n",
            "176/176 [==============================] - 0s 3ms/step - loss: 0.3628 - accuracy: 0.8267\n",
            "Epoch 65/100\n",
            "176/176 [==============================] - 1s 3ms/step - loss: 0.3622 - accuracy: 0.8247\n",
            "Epoch 66/100\n",
            "176/176 [==============================] - 0s 3ms/step - loss: 0.3612 - accuracy: 0.8292\n",
            "Epoch 67/100\n",
            "176/176 [==============================] - 1s 3ms/step - loss: 0.3627 - accuracy: 0.8295\n",
            "Epoch 68/100\n",
            "176/176 [==============================] - 0s 3ms/step - loss: 0.3610 - accuracy: 0.8279\n",
            "Epoch 69/100\n",
            "176/176 [==============================] - 1s 3ms/step - loss: 0.3604 - accuracy: 0.8283\n",
            "Epoch 70/100\n",
            "176/176 [==============================] - 0s 3ms/step - loss: 0.3597 - accuracy: 0.8290\n",
            "Epoch 71/100\n",
            "176/176 [==============================] - 1s 3ms/step - loss: 0.3598 - accuracy: 0.8281\n",
            "Epoch 72/100\n",
            "176/176 [==============================] - 0s 3ms/step - loss: 0.3604 - accuracy: 0.8267\n",
            "Epoch 73/100\n",
            "176/176 [==============================] - 1s 3ms/step - loss: 0.3588 - accuracy: 0.8311\n",
            "Epoch 74/100\n",
            "176/176 [==============================] - 1s 3ms/step - loss: 0.3590 - accuracy: 0.8316\n",
            "Epoch 75/100\n",
            "176/176 [==============================] - 0s 3ms/step - loss: 0.3579 - accuracy: 0.8316\n",
            "Epoch 76/100\n",
            "176/176 [==============================] - 1s 3ms/step - loss: 0.3579 - accuracy: 0.8290\n",
            "Epoch 77/100\n",
            "176/176 [==============================] - 1s 3ms/step - loss: 0.3555 - accuracy: 0.8329\n",
            "Epoch 78/100\n",
            "176/176 [==============================] - 0s 3ms/step - loss: 0.3569 - accuracy: 0.8309\n",
            "Epoch 79/100\n",
            "176/176 [==============================] - 1s 3ms/step - loss: 0.3564 - accuracy: 0.8272\n",
            "Epoch 80/100\n",
            "176/176 [==============================] - 0s 3ms/step - loss: 0.3555 - accuracy: 0.8329\n",
            "Epoch 81/100\n",
            "176/176 [==============================] - 0s 3ms/step - loss: 0.3558 - accuracy: 0.8322\n",
            "Epoch 82/100\n",
            "176/176 [==============================] - 0s 3ms/step - loss: 0.3546 - accuracy: 0.8313\n",
            "Epoch 83/100\n",
            "176/176 [==============================] - 1s 3ms/step - loss: 0.3546 - accuracy: 0.8311\n",
            "Epoch 84/100\n",
            "176/176 [==============================] - 0s 3ms/step - loss: 0.3531 - accuracy: 0.8322\n",
            "Epoch 85/100\n",
            "176/176 [==============================] - 1s 3ms/step - loss: 0.3540 - accuracy: 0.8304\n",
            "Epoch 86/100\n",
            "176/176 [==============================] - 0s 3ms/step - loss: 0.3528 - accuracy: 0.8343\n",
            "Epoch 87/100\n",
            "176/176 [==============================] - 0s 3ms/step - loss: 0.3524 - accuracy: 0.8329\n",
            "Epoch 88/100\n",
            "176/176 [==============================] - 1s 3ms/step - loss: 0.3516 - accuracy: 0.8343\n",
            "Epoch 89/100\n",
            "176/176 [==============================] - 1s 3ms/step - loss: 0.3522 - accuracy: 0.8331\n",
            "Epoch 90/100\n",
            "176/176 [==============================] - 1s 3ms/step - loss: 0.3523 - accuracy: 0.8324\n",
            "Epoch 91/100\n",
            "176/176 [==============================] - 1s 3ms/step - loss: 0.3516 - accuracy: 0.8334\n",
            "Epoch 92/100\n",
            "176/176 [==============================] - 0s 3ms/step - loss: 0.3513 - accuracy: 0.8320\n",
            "Epoch 93/100\n",
            "176/176 [==============================] - 1s 3ms/step - loss: 0.3505 - accuracy: 0.8309\n",
            "Epoch 94/100\n",
            "176/176 [==============================] - 0s 3ms/step - loss: 0.3505 - accuracy: 0.8311\n",
            "Epoch 95/100\n",
            "176/176 [==============================] - 1s 3ms/step - loss: 0.3492 - accuracy: 0.8332\n",
            "Epoch 96/100\n",
            "176/176 [==============================] - 0s 3ms/step - loss: 0.3499 - accuracy: 0.8313\n",
            "Epoch 97/100\n",
            "176/176 [==============================] - 1s 3ms/step - loss: 0.3492 - accuracy: 0.8345\n",
            "Epoch 98/100\n",
            "176/176 [==============================] - 1s 3ms/step - loss: 0.3487 - accuracy: 0.8331\n",
            "Epoch 99/100\n",
            "176/176 [==============================] - 1s 3ms/step - loss: 0.3481 - accuracy: 0.8324\n",
            "Epoch 100/100\n",
            "176/176 [==============================] - 0s 3ms/step - loss: 0.3477 - accuracy: 0.8309\n",
            "44/44 [==============================] - 0s 2ms/step - loss: 0.5101 - accuracy: 0.7662\n",
            "[0.5100893378257751, 0.7661691308021545]\n",
            "Classification Report: \n",
            "               precision    recall  f1-score   support\n",
            "\n",
            "           0       0.81      0.88      0.84       999\n",
            "           1       0.63      0.48      0.54       408\n",
            "\n",
            "    accuracy                           0.77      1407\n",
            "   macro avg       0.72      0.68      0.69      1407\n",
            "weighted avg       0.75      0.77      0.76      1407\n",
            "\n"
          ]
        }
      ]
    },
    {
      "cell_type": "markdown",
      "source": [
        "# Method 1 : Undersampling the Majority class"
      ],
      "metadata": {
        "id": "HQxG0tqsSdTm"
      }
    },
    {
      "cell_type": "code",
      "source": [
        "count_class_0,count_class_1=df1['Churn'].value_counts()\n",
        "\n",
        "df_class_0=df2[df2['Churn']==0]\n",
        "df_class_1=df2[df2['Churn']==1]"
      ],
      "metadata": {
        "id": "-JHnEHBFTepn"
      },
      "execution_count": 272,
      "outputs": []
    },
    {
      "cell_type": "code",
      "source": [
        "count_class_0"
      ],
      "metadata": {
        "colab": {
          "base_uri": "https://localhost:8080/"
        },
        "id": "p42RmyN5U7wu",
        "outputId": "679870b0-ed7c-4290-d644-b1bd30b73727"
      },
      "execution_count": 273,
      "outputs": [
        {
          "output_type": "execute_result",
          "data": {
            "text/plain": [
              "5163"
            ]
          },
          "metadata": {},
          "execution_count": 273
        }
      ]
    },
    {
      "cell_type": "code",
      "source": [
        "count_class_1"
      ],
      "metadata": {
        "colab": {
          "base_uri": "https://localhost:8080/"
        },
        "id": "tbfHP_9ZU7pv",
        "outputId": "98aa3abf-e6a4-4c37-8f77-77bb3336bced"
      },
      "execution_count": 274,
      "outputs": [
        {
          "output_type": "execute_result",
          "data": {
            "text/plain": [
              "1869"
            ]
          },
          "metadata": {},
          "execution_count": 274
        }
      ]
    },
    {
      "cell_type": "code",
      "source": [
        "df_class_0.shape"
      ],
      "metadata": {
        "colab": {
          "base_uri": "https://localhost:8080/"
        },
        "id": "yq5drud-UqxQ",
        "outputId": "62d73ba0-b0a9-4a08-c32c-64fa1914fe6d"
      },
      "execution_count": 275,
      "outputs": [
        {
          "output_type": "execute_result",
          "data": {
            "text/plain": [
              "(5163, 27)"
            ]
          },
          "metadata": {},
          "execution_count": 275
        }
      ]
    },
    {
      "cell_type": "code",
      "source": [
        "df_class_1.shape"
      ],
      "metadata": {
        "colab": {
          "base_uri": "https://localhost:8080/"
        },
        "id": "Je1wK_kuUtqm",
        "outputId": "84929d9c-8e70-4e2f-d574-a46ed70955aa"
      },
      "execution_count": 276,
      "outputs": [
        {
          "output_type": "execute_result",
          "data": {
            "text/plain": [
              "(1869, 27)"
            ]
          },
          "metadata": {},
          "execution_count": 276
        }
      ]
    },
    {
      "cell_type": "code",
      "source": [
        "df_class_0_under=df_class_0.sample(count_class_1)"
      ],
      "metadata": {
        "id": "sue0WFAAUxY3"
      },
      "execution_count": 277,
      "outputs": []
    },
    {
      "cell_type": "code",
      "source": [
        "df_test_under=pd.concat([df_class_0_under,df_class_1],axis=0)"
      ],
      "metadata": {
        "id": "BcZMHip0U3wn"
      },
      "execution_count": 278,
      "outputs": []
    },
    {
      "cell_type": "code",
      "source": [
        "df_test_under.shape"
      ],
      "metadata": {
        "colab": {
          "base_uri": "https://localhost:8080/"
        },
        "id": "Kd7FzgxgVw3o",
        "outputId": "b5a68133-b580-4f69-926c-b51b04082580"
      },
      "execution_count": 279,
      "outputs": [
        {
          "output_type": "execute_result",
          "data": {
            "text/plain": [
              "(3738, 27)"
            ]
          },
          "metadata": {},
          "execution_count": 279
        }
      ]
    },
    {
      "cell_type": "code",
      "source": [
        "x=df_test_under.drop('Churn', axis='columns')\n",
        "y=df_test_under['Churn']\n",
        "\n",
        "X_train, X_test, y_train, y_test=train_test_split(x,y,test_size=0.2,random_state=15,stratify=y)"
      ],
      "metadata": {
        "id": "FIssMdqhV_z-"
      },
      "execution_count": 280,
      "outputs": []
    },
    {
      "cell_type": "code",
      "source": [
        "y_test.value_counts()"
      ],
      "metadata": {
        "colab": {
          "base_uri": "https://localhost:8080/"
        },
        "id": "JVz1WwzOWZuP",
        "outputId": "2ad1e7d5-3b95-473c-eaef-e851a38c04c7"
      },
      "execution_count": 281,
      "outputs": [
        {
          "output_type": "execute_result",
          "data": {
            "text/plain": [
              "1    374\n",
              "0    374\n",
              "Name: Churn, dtype: int64"
            ]
          },
          "metadata": {},
          "execution_count": 281
        }
      ]
    },
    {
      "cell_type": "code",
      "source": [
        "y_train.value_counts()"
      ],
      "metadata": {
        "colab": {
          "base_uri": "https://localhost:8080/"
        },
        "id": "kQOPTpPZW5cH",
        "outputId": "2cfa2f0c-899e-4fe8-acc9-3a047451f0d2"
      },
      "execution_count": 282,
      "outputs": [
        {
          "output_type": "execute_result",
          "data": {
            "text/plain": [
              "0    1495\n",
              "1    1495\n",
              "Name: Churn, dtype: int64"
            ]
          },
          "metadata": {},
          "execution_count": 282
        }
      ]
    },
    {
      "cell_type": "code",
      "source": [
        "y_preds=ANN(X_train,y_train,X_test,y_test,'binary_crossentropy',-1)"
      ],
      "metadata": {
        "colab": {
          "base_uri": "https://localhost:8080/"
        },
        "id": "BQjVCz7_W8Gu",
        "outputId": "7f7c0c3c-2adc-446b-dc24-0e22c46a2ca4"
      },
      "execution_count": 283,
      "outputs": [
        {
          "output_type": "stream",
          "name": "stdout",
          "text": [
            "Epoch 1/100\n",
            "94/94 [==============================] - 1s 3ms/step - loss: 0.6093 - accuracy: 0.6742\n",
            "Epoch 2/100\n",
            "94/94 [==============================] - 0s 3ms/step - loss: 0.5108 - accuracy: 0.7579\n",
            "Epoch 3/100\n",
            "94/94 [==============================] - 0s 3ms/step - loss: 0.4935 - accuracy: 0.7575\n",
            "Epoch 4/100\n",
            "94/94 [==============================] - 0s 3ms/step - loss: 0.4854 - accuracy: 0.7706\n",
            "Epoch 5/100\n",
            "94/94 [==============================] - 0s 3ms/step - loss: 0.4833 - accuracy: 0.7732\n",
            "Epoch 6/100\n",
            "94/94 [==============================] - 0s 3ms/step - loss: 0.4807 - accuracy: 0.7722\n",
            "Epoch 7/100\n",
            "94/94 [==============================] - 0s 3ms/step - loss: 0.4774 - accuracy: 0.7763\n",
            "Epoch 8/100\n",
            "94/94 [==============================] - 0s 3ms/step - loss: 0.4755 - accuracy: 0.7719\n",
            "Epoch 9/100\n",
            "94/94 [==============================] - 0s 3ms/step - loss: 0.4724 - accuracy: 0.7779\n",
            "Epoch 10/100\n",
            "94/94 [==============================] - 0s 3ms/step - loss: 0.4711 - accuracy: 0.7799\n",
            "Epoch 11/100\n",
            "94/94 [==============================] - 0s 3ms/step - loss: 0.4682 - accuracy: 0.7759\n",
            "Epoch 12/100\n",
            "94/94 [==============================] - 0s 3ms/step - loss: 0.4665 - accuracy: 0.7766\n",
            "Epoch 13/100\n",
            "94/94 [==============================] - 0s 3ms/step - loss: 0.4654 - accuracy: 0.7806\n",
            "Epoch 14/100\n",
            "94/94 [==============================] - 0s 3ms/step - loss: 0.4625 - accuracy: 0.7826\n",
            "Epoch 15/100\n",
            "94/94 [==============================] - 0s 3ms/step - loss: 0.4625 - accuracy: 0.7803\n",
            "Epoch 16/100\n",
            "94/94 [==============================] - 0s 3ms/step - loss: 0.4608 - accuracy: 0.7833\n",
            "Epoch 17/100\n",
            "94/94 [==============================] - 0s 3ms/step - loss: 0.4575 - accuracy: 0.7829\n",
            "Epoch 18/100\n",
            "94/94 [==============================] - 0s 3ms/step - loss: 0.4573 - accuracy: 0.7896\n",
            "Epoch 19/100\n",
            "94/94 [==============================] - 0s 3ms/step - loss: 0.4572 - accuracy: 0.7826\n",
            "Epoch 20/100\n",
            "94/94 [==============================] - 0s 3ms/step - loss: 0.4549 - accuracy: 0.7876\n",
            "Epoch 21/100\n",
            "94/94 [==============================] - 0s 3ms/step - loss: 0.4541 - accuracy: 0.7876\n",
            "Epoch 22/100\n",
            "94/94 [==============================] - 0s 3ms/step - loss: 0.4526 - accuracy: 0.7913\n",
            "Epoch 23/100\n",
            "94/94 [==============================] - 1s 6ms/step - loss: 0.4516 - accuracy: 0.7836\n",
            "Epoch 24/100\n",
            "94/94 [==============================] - 1s 6ms/step - loss: 0.4495 - accuracy: 0.7866\n",
            "Epoch 25/100\n",
            "94/94 [==============================] - 0s 3ms/step - loss: 0.4495 - accuracy: 0.7890\n",
            "Epoch 26/100\n",
            "94/94 [==============================] - 0s 5ms/step - loss: 0.4483 - accuracy: 0.7863\n",
            "Epoch 27/100\n",
            "94/94 [==============================] - 1s 6ms/step - loss: 0.4463 - accuracy: 0.7896\n",
            "Epoch 28/100\n",
            "94/94 [==============================] - 0s 4ms/step - loss: 0.4462 - accuracy: 0.7900\n",
            "Epoch 29/100\n",
            "94/94 [==============================] - 0s 3ms/step - loss: 0.4453 - accuracy: 0.7926\n",
            "Epoch 30/100\n",
            "94/94 [==============================] - 1s 7ms/step - loss: 0.4459 - accuracy: 0.7876\n",
            "Epoch 31/100\n",
            "94/94 [==============================] - 0s 4ms/step - loss: 0.4422 - accuracy: 0.7967\n",
            "Epoch 32/100\n",
            "94/94 [==============================] - 0s 3ms/step - loss: 0.4430 - accuracy: 0.7893\n",
            "Epoch 33/100\n",
            "94/94 [==============================] - 0s 3ms/step - loss: 0.4412 - accuracy: 0.7923\n",
            "Epoch 34/100\n",
            "94/94 [==============================] - 0s 3ms/step - loss: 0.4402 - accuracy: 0.7933\n",
            "Epoch 35/100\n",
            "94/94 [==============================] - 0s 3ms/step - loss: 0.4399 - accuracy: 0.7893\n",
            "Epoch 36/100\n",
            "94/94 [==============================] - 0s 3ms/step - loss: 0.4394 - accuracy: 0.7893\n",
            "Epoch 37/100\n",
            "94/94 [==============================] - 0s 3ms/step - loss: 0.4379 - accuracy: 0.7936\n",
            "Epoch 38/100\n",
            "94/94 [==============================] - 0s 3ms/step - loss: 0.4373 - accuracy: 0.7933\n",
            "Epoch 39/100\n",
            "94/94 [==============================] - 0s 3ms/step - loss: 0.4366 - accuracy: 0.7943\n",
            "Epoch 40/100\n",
            "94/94 [==============================] - 0s 3ms/step - loss: 0.4370 - accuracy: 0.7926\n",
            "Epoch 41/100\n",
            "94/94 [==============================] - 0s 3ms/step - loss: 0.4347 - accuracy: 0.7923\n",
            "Epoch 42/100\n",
            "94/94 [==============================] - 0s 3ms/step - loss: 0.4328 - accuracy: 0.7943\n",
            "Epoch 43/100\n",
            "94/94 [==============================] - 0s 3ms/step - loss: 0.4331 - accuracy: 0.7993\n",
            "Epoch 44/100\n",
            "94/94 [==============================] - 0s 3ms/step - loss: 0.4319 - accuracy: 0.7950\n",
            "Epoch 45/100\n",
            "94/94 [==============================] - 0s 3ms/step - loss: 0.4314 - accuracy: 0.7997\n",
            "Epoch 46/100\n",
            "94/94 [==============================] - 0s 3ms/step - loss: 0.4299 - accuracy: 0.8000\n",
            "Epoch 47/100\n",
            "94/94 [==============================] - 0s 3ms/step - loss: 0.4307 - accuracy: 0.7946\n",
            "Epoch 48/100\n",
            "94/94 [==============================] - 0s 3ms/step - loss: 0.4303 - accuracy: 0.8007\n",
            "Epoch 49/100\n",
            "94/94 [==============================] - 0s 3ms/step - loss: 0.4308 - accuracy: 0.8007\n",
            "Epoch 50/100\n",
            "94/94 [==============================] - 0s 3ms/step - loss: 0.4286 - accuracy: 0.7980\n",
            "Epoch 51/100\n",
            "94/94 [==============================] - 0s 3ms/step - loss: 0.4266 - accuracy: 0.7997\n",
            "Epoch 52/100\n",
            "94/94 [==============================] - 0s 3ms/step - loss: 0.4285 - accuracy: 0.7990\n",
            "Epoch 53/100\n",
            "94/94 [==============================] - 0s 3ms/step - loss: 0.4276 - accuracy: 0.8020\n",
            "Epoch 54/100\n",
            "94/94 [==============================] - 0s 3ms/step - loss: 0.4287 - accuracy: 0.7957\n",
            "Epoch 55/100\n",
            "94/94 [==============================] - 0s 3ms/step - loss: 0.4239 - accuracy: 0.8013\n",
            "Epoch 56/100\n",
            "94/94 [==============================] - 0s 3ms/step - loss: 0.4226 - accuracy: 0.8060\n",
            "Epoch 57/100\n",
            "94/94 [==============================] - 0s 3ms/step - loss: 0.4232 - accuracy: 0.7997\n",
            "Epoch 58/100\n",
            "94/94 [==============================] - 0s 3ms/step - loss: 0.4219 - accuracy: 0.8023\n",
            "Epoch 59/100\n",
            "94/94 [==============================] - 0s 3ms/step - loss: 0.4212 - accuracy: 0.8023\n",
            "Epoch 60/100\n",
            "94/94 [==============================] - 0s 3ms/step - loss: 0.4197 - accuracy: 0.8040\n",
            "Epoch 61/100\n",
            "94/94 [==============================] - 0s 3ms/step - loss: 0.4202 - accuracy: 0.8040\n",
            "Epoch 62/100\n",
            "94/94 [==============================] - 0s 3ms/step - loss: 0.4179 - accuracy: 0.8067\n",
            "Epoch 63/100\n",
            "94/94 [==============================] - 0s 3ms/step - loss: 0.4190 - accuracy: 0.8064\n",
            "Epoch 64/100\n",
            "94/94 [==============================] - 0s 3ms/step - loss: 0.4187 - accuracy: 0.8097\n",
            "Epoch 65/100\n",
            "94/94 [==============================] - 0s 3ms/step - loss: 0.4168 - accuracy: 0.8090\n",
            "Epoch 66/100\n",
            "94/94 [==============================] - 0s 3ms/step - loss: 0.4165 - accuracy: 0.8064\n",
            "Epoch 67/100\n",
            "94/94 [==============================] - 0s 3ms/step - loss: 0.4162 - accuracy: 0.8047\n",
            "Epoch 68/100\n",
            "94/94 [==============================] - 0s 3ms/step - loss: 0.4154 - accuracy: 0.8070\n",
            "Epoch 69/100\n",
            "94/94 [==============================] - 0s 3ms/step - loss: 0.4151 - accuracy: 0.8094\n",
            "Epoch 70/100\n",
            "94/94 [==============================] - 0s 3ms/step - loss: 0.4140 - accuracy: 0.8117\n",
            "Epoch 71/100\n",
            "94/94 [==============================] - 0s 3ms/step - loss: 0.4122 - accuracy: 0.8117\n",
            "Epoch 72/100\n",
            "94/94 [==============================] - 0s 3ms/step - loss: 0.4130 - accuracy: 0.8090\n",
            "Epoch 73/100\n",
            "94/94 [==============================] - 0s 3ms/step - loss: 0.4105 - accuracy: 0.8117\n",
            "Epoch 74/100\n",
            "94/94 [==============================] - 0s 3ms/step - loss: 0.4100 - accuracy: 0.8140\n",
            "Epoch 75/100\n",
            "94/94 [==============================] - 0s 3ms/step - loss: 0.4094 - accuracy: 0.8094\n",
            "Epoch 76/100\n",
            "94/94 [==============================] - 0s 3ms/step - loss: 0.4088 - accuracy: 0.8127\n",
            "Epoch 77/100\n",
            "94/94 [==============================] - 0s 3ms/step - loss: 0.4083 - accuracy: 0.8130\n",
            "Epoch 78/100\n",
            "94/94 [==============================] - 0s 3ms/step - loss: 0.4092 - accuracy: 0.8097\n",
            "Epoch 79/100\n",
            "94/94 [==============================] - 0s 3ms/step - loss: 0.4060 - accuracy: 0.8134\n",
            "Epoch 80/100\n",
            "94/94 [==============================] - 0s 3ms/step - loss: 0.4093 - accuracy: 0.8167\n",
            "Epoch 81/100\n",
            "94/94 [==============================] - 0s 3ms/step - loss: 0.4052 - accuracy: 0.8117\n",
            "Epoch 82/100\n",
            "94/94 [==============================] - 0s 3ms/step - loss: 0.4072 - accuracy: 0.8147\n",
            "Epoch 83/100\n",
            "94/94 [==============================] - 0s 3ms/step - loss: 0.4043 - accuracy: 0.8151\n",
            "Epoch 84/100\n",
            "94/94 [==============================] - 0s 3ms/step - loss: 0.4058 - accuracy: 0.8164\n",
            "Epoch 85/100\n",
            "94/94 [==============================] - 0s 3ms/step - loss: 0.4052 - accuracy: 0.8157\n",
            "Epoch 86/100\n",
            "94/94 [==============================] - 0s 3ms/step - loss: 0.4034 - accuracy: 0.8204\n",
            "Epoch 87/100\n",
            "94/94 [==============================] - 0s 3ms/step - loss: 0.4038 - accuracy: 0.8174\n",
            "Epoch 88/100\n",
            "94/94 [==============================] - 0s 3ms/step - loss: 0.4008 - accuracy: 0.8127\n",
            "Epoch 89/100\n",
            "94/94 [==============================] - 0s 3ms/step - loss: 0.4048 - accuracy: 0.8124\n",
            "Epoch 90/100\n",
            "94/94 [==============================] - 0s 3ms/step - loss: 0.4018 - accuracy: 0.8191\n",
            "Epoch 91/100\n",
            "94/94 [==============================] - 0s 3ms/step - loss: 0.4000 - accuracy: 0.8177\n",
            "Epoch 92/100\n",
            "94/94 [==============================] - 0s 3ms/step - loss: 0.4012 - accuracy: 0.8174\n",
            "Epoch 93/100\n",
            "94/94 [==============================] - 0s 3ms/step - loss: 0.3998 - accuracy: 0.8157\n",
            "Epoch 94/100\n",
            "94/94 [==============================] - 0s 3ms/step - loss: 0.3974 - accuracy: 0.8167\n",
            "Epoch 95/100\n",
            "94/94 [==============================] - 0s 3ms/step - loss: 0.3979 - accuracy: 0.8187\n",
            "Epoch 96/100\n",
            "94/94 [==============================] - 0s 3ms/step - loss: 0.3984 - accuracy: 0.8191\n",
            "Epoch 97/100\n",
            "94/94 [==============================] - 0s 3ms/step - loss: 0.3960 - accuracy: 0.8177\n",
            "Epoch 98/100\n",
            "94/94 [==============================] - 0s 3ms/step - loss: 0.3967 - accuracy: 0.8184\n",
            "Epoch 99/100\n",
            "94/94 [==============================] - 0s 3ms/step - loss: 0.3953 - accuracy: 0.8201\n",
            "Epoch 100/100\n",
            "94/94 [==============================] - 0s 3ms/step - loss: 0.3951 - accuracy: 0.8207\n",
            "24/24 [==============================] - 0s 2ms/step - loss: 0.5362 - accuracy: 0.7527\n",
            "[0.536192774772644, 0.7526738047599792]\n",
            "Classification Report: \n",
            "               precision    recall  f1-score   support\n",
            "\n",
            "           0       0.76      0.73      0.75       374\n",
            "           1       0.74      0.78      0.76       374\n",
            "\n",
            "    accuracy                           0.75       748\n",
            "   macro avg       0.75      0.75      0.75       748\n",
            "weighted avg       0.75      0.75      0.75       748\n",
            "\n"
          ]
        }
      ]
    },
    {
      "cell_type": "markdown",
      "source": [
        "# Comparison with normal Neural Network Model\n",
        "\n",
        "![image.png](data:image/png;base64,iVBORw0KGgoAAAANSUhEUgAAAicAAADXCAYAAADBXfHtAAAAAXNSR0IArs4c6QAAAARnQU1BAACxjwv8YQUAAAAJcEhZcwAAEnQAABJ0Ad5mH3gAADMXSURBVHhe7Z3PSxvf9//P57tzIUihBRdGKAh1o5uCwYU7G/+C4MZVwJW0r/9A/Q9elq6ErLqR/AVady6KgddGNxaEQuNCqFACLrJ8f8+5987MnTt3JjNJtGPm+YDUThwnk/vj3Oc959y5/1ev1/9Hf4HmQZsac9d0/M8Rdc17Cbb3qb1ZMwfMY/r56noLRIOrY9r7HD9j7eMX2l2dMUea3nmLDk/MgSG4hpe7M2oddMzBGn36d5dWZs0h47serX+iL60Vij65R2etQwquokicIzjn5bkO47v/5H01ab/dIKtUGf/1gnLzfreQZFkIsb9x6zHGgK7be3T0PX89hd8hoz0ognKL1V2cZJlF9xPhK7OI5D1GZeJrj/nJ2c6EsI346zJ3meX9zKF9s0CZ5Wjfbj15y9XblwKy21laPeX6XF/79pXzsDLLvP+ozHz3H2JdM1/bTqL+zrHNI13LfJ+HtDYLQAblFicAvFDyCTsAphiIEzAG/8/8BABMCjbKOzKzvTuDUQYAgBGAOAFgYkhIpE1tni3S1XFqKAkAAEA2fzesY8cwM/ICAAAAvASSuUYIbYJR+GviBAAAAADAB8I6AAAAACgVECcAAAAAKBUQJwAAAAAoFeXNOXEfWFS6hNnoYVVDE74SD1dKPsAoSBAe76FdT0B472kP9wIAAAAmS3k9JyeH1Gq1+HVM14/mvZdIMLiLuFLfR17Dn9L41MhDwtrtfWqaY/DMSLtot2l/2xwDAAAI+Xuek4Q3Ic0DYTwU/Ze51Fg/KZRyPTb6OdH39fACvSEpj0V/aUvRTfvH0zMBACDJX/GcqFk7G2b1oKrQm9Cim3fTOpN/oPsSCZNpQMJfYds57xEtNKh9AD8QAABMA8/vOTEzRhEm+XIrhntO8j3QzZ1xp2xclfDouLkW7sZo2RtgDfNQuPeenb/ifgdPHkhiEzL7nOzN2GLnuuWQtWHcsDJTv1+iWy6n+w/W9826Zir6O7yOtZ+gTpLlocvfyvZx2p0qf+L28m0+9h189eBeK9HOVNm/Vu0h9j2t8ki0VQff5+q/ybdpGwAATAPPLk60gS8S5sgWJ3K9rd97kUEPBsrYwGEGZfe9f+fp1B4czd/GhJO89+Ge9jyfbQ9Gse+SEAgOPvFkPjvVzR9c0/0OB0SHwXHiXocN2vnCOmpwTNmkMRiw7UE1MZgGdcL/jcSBr07ykCFOyLeTalJw2fUbiYXofpNt1FeO5v5tgWXXe/i9/Pc2tL5DzOfw/0qXLA0AAE/EM4d11qj+loeox1u6zCVMhtP9bAkT4fsRXdzxz4VlNuuG9Xl6zT96P+xBsEOH7mBbm+MBdEC3/1nv8vW8wiSLMJm3RcdXA35DBrUofFVsMBZ4gKu7wkTg72AfJ+61S0eXPf5Zo+UnSbxs0hYLExk07TroHJzxN56hlQ9OmIXvPxpcO3Qj9TQ3z99uPNY+7ihP1uDnZWzw32DR0Tu3xBeXz1euj5nVrahtKOJeie7nC3X/S+/NnW1v8fXlHFvIcdlLOGl2hbacslUhp7AeunT5k9vA7BwtmneKYcrJbZcAADDFTOVzTn79EUFg8f2eHvhHbXPI6ohen4cAHlRbX+jTunmvDKzXaUmWLMfEVU7Ud3oitpfVjP7htzto+oXHSPefwszqLrXbbfXSXo5WzKuw9n6Ja7JHN45XovtbWsJrmrfrNyGWf1H/kT/jlZYTzXfqWybzhk5u+BP4am/i8sotDxHQrRweqjQ6ByJqHe8cAABMMVMgTsTtrQepaLCy8gIUPMs1S5JFoOjzPAJEPA8tM+tvBeeVIEnXeHT6MhIOQcIUdllI4rFbGpMl475G9hYMR3knxAsl3gupL8dLs/hKvnWNGnZZyCsr3JbFY58li59AxAAAAJgMzyxOunTf5x+zS1SfiGfCivtbYRMdSnHp0tE/5pz2dYaHRISMOU8NfDLA/WWBYjw6c0PG1SjXw9x/+F3/EhkD+sQ4OaQzFcbbiNWl9p454bTwNVkvxODPk39LAACoFM/uOen80DPdMJ4/Dias0LtMJmpmIh4SI1AyB3zJHVECxQkDPDdBWOpdlkRq0rIkdt5d5Bp4veGNoqiwhq8u9b3EckCekM43IzYt78lY388Jo6k26xPUqv2NmAti6tQNCfnQ3rCShRoBAOAJef6wjpnpSs7Al49xw9w8KOihMPkU9qAthjwR1tneT3yWzkmIhyRklYabk5Kab/CsdOhUvEELDed7NGk/fLaHzpOIJQLL6pG0sE6QX+MmrRZC39fM6k5s4GweyOqSHl0818oSFps6Cdrynpyc0vWjeMeKer3W6FOTy+zxmk6DfJXgWs1PVg4Nl71aPZVPDCYxeS2J5FwXIzq9IhAAAKaTv/eEWM9y2+RyVP1/l9izIJzrSC7CV9phgRJfJhsseY1ILq8VEp/rPovDWhabwPPcjuwlu9Ey0SSe+0uUmXuOcz25H/7lTtqS1YzrJcsrwl3Smjg3pczce1BlnbJEOR39HeNLiZmgXpwVTd52ZJ0z7PcRwXJic8i45RCUp+9ZJX6S9Y/nnAAAQJk3/gPgGRhNIAEAAHhKpnIpMQAAAABeLhAnAAAAACgVECcAAAAAKBXIOQEAAABAqYDnBAAAAAClAuIEAAAAAKUC4gQAAAAApQLiBAAAAAClAgmxAEya8CnC/qcQFyN6Mm3+J8+C58N9cnDKk3zdpzF7n0L8hAx9ujQA5QKeEwAAGBlrt3O1SWgKsomo2hH7mK5lD6znxAgT2W4h2pkbwgQ8P/JE7va/9h5l6UCcADBpZNfriQ0A0eAHrwkYBb156bCNOMUDJLtftxObpALwN4A4AQCAaeexT7/Mf11k4852e4fo8lrt8g5AGUDOCXhh6J186bxFp2/s3ZD9OzSr3Yt/b8Xi7cncDXd34LR4/JD8AnfHas8u1SGJ3a3dz8yZy6Bw7989N2+ZlZdod+9TmrfLJXUn8KhkE7tHB+TIA0nsWp2VK6Ku93rI7tGmXvvPl3OSubml3HO9r39n2iSllVdOEruUp5VZjvIf3k+K9PMifep5GVZmUftP+e6mvlRdE//tt/lYucXKQpXpEt3yd7//YLVvr70aZlus9ux8ZtjvEnXokGIn4TkBL5LaZpt2397ScRjHr1HDE8ucWd1lg0XcqXVo5PhqwH/7hT6tmxOk45gOHsTjz+74Wu197pYW6jzuhMQdyZzXan0l+mB9ZhjOkWuY93yYziqDQPCZrXafNg7sT8yZyyAG3rn/4yuilVab9rfNOQZVZq8uzHnpZVZepF52aeln8F3PqDe7QrtWuYlx1kbclF37mojbgBuqULFvHsjEaAfl1vqxHCszGRCWf1i/52sNFhrUjtVTOZF7lxCNvNTgI+VkjmOhG8mF8YmWEdGDKPEAFpXb8Z+NRFvMW/5t7icP1jm6b1r91zC0n6tB1gyi4TnST5LXem7ylllupI0q8ZFWFsKMshFKyKjPTPalIrbF/UyxWVIn6jzXLooYMcfqldL+IE7AyySmtnkgv+QBfHaJ6q6hUR0hmm10/7tl7T9Dc2Yq0PzAip7P+WrNFDsH3FF5INywBrTgvLjC5889GMGw1+b4DgZ0+5/1l9KBC8+kedZS5y/Csyx7ptv9/FUlXdbqjvCQ+w8/o0uXPwdcZnO0aN55CchgFn3XDt2IsZub19+TRd8GD8S9c2t2yeX6lY3zzOpWJDbD85yZNQ/U9nH3817893ytC/m8heW4cC0hcu+B8fcNCON4RrJYfMXz48dburS8EYlyzFX+Tdpa5V7CA6N9ju6bPLB+cGpgSD9f+7jBPbpHZ1Yf0/3Ec61nJleZFSLu3eh+vlBltvQ+LtDj3pkOnXI/idp2QduiPFqWR+Xkht8hev3G+cwCQJyAF8ng52VcFPT6MWMU0r+Pn2dUvO74TVpmI5m4Fv2iPnfAmVfBsJ123oiYex171rZep6VZvq8/bjaBX3hM7P7/GgPqO06kzkE081p7v8Sl2qMbx6h3fz/wv69p3pR12nl5+PUHWRlZqPKRGXiGRy5X+W8vq1DCw2+3xTqCNCCzn69R/S0LgLubSLQqunTf5x/utZ6ZPGVWCEfoJO2ZpvfDKQ27nxS0Lcmcpg4djimCIU5AdVmf565oXMKWy7st7t8wLs2Y85KGckSU4TQzwFbwmU4YqQDp9xUNyFVAzUBV6MeuS37ZeQ2MnqmmJ4hGSCggfq1YXkClkNyCeFnIy3XvK4+NhCHtMJITBstf/kkxGlLI47dIc9KfJfRg3bu8YvlEf4k8Zfa3+Ju2BeIEVJfv9yRzhfjzH6xX4PI0543jokyiZxbqc1ROiSfPZWwe6D42g5putFdD3MtWHYavyOWsZ6rDBjeTCOiEQyR+X02sHCjr5Q09hM90MSElJ08nX/kPIZe4CdCeAxXGsO49fE0w52ZkhpRZ+Xh62wJxAqaC0Vz1fndnEnPe2/rTuH/FMCmBUnA28v2Sbvm+au9cI5bmxp5u3PBNGvq8Gi1nJRyasELvsgQD1wtGwm5qsLVCJ7nKX+UsePIkRgqxliN8kxdfmXkxbXQoJkTjhnFc1PNwgpDQE9mWIsIU4gS8fNY/0Y5Knjst2GFMIi3PUrIfPBUk3DrZ7NxRPx0UjxNLdr7rDtcPyio6G4nu377e2scdWpkd0PW3KkkT5uRUJzi2hnig1HlseN0VDNv7UTmqvKC4cdYrgaoa1smDhH7cstdiIpYTkqf8uSdLgubM6k7snOaBLGsd9kC5JJ1v1zRI9N8ykK/MEoLOXYadCl+/qZP5TzNzfPZViCsS409jW4LvYS82SAPPOQEvDHfdvSaR+R+c5zwvwItZ2hsfdjzPQEicFz9HLwn0D17uszbU8wjseLeED2z3sveeDO65CUOV8SwI6x70/brPTign0XJLp048JMpW8LSDxHnuOU65Sh1+pZ14meWsJ+89GZJtd7Koz057zknW/fv6wFCS/dNt+wFDy59J9Cm37Rfp57ltx3OTr8ziZSF9XD/zR5bWB+fmavt57Z0w1LaIuDKPWPC1Lw/D61QDcQJeGP6BFgAAqk6mEA0w4kSeH/N3RVk2COsAAAAAoFRAnAAAAACgVECcAAAAAKBUIOcEAAAAAKUCnhMAAAAAlAqIEwAAAACUCogTAAAAAJQKiBMAAAAAlAqIEwAAAACUCogTAAAAAJQKiBMAAAAAlAqIEwAAAACUCogTAAAAAJQKiBMAAAAAlAqIEwAAAACUCogTAAAAAJQKiBMAAAAAlAqIEwAAAACUCogTAAAAAJQKiBMAAAAAlAqIEwAAAACUCogTAAAAAJQKiBMAAAAAlAqIEwAAAACUCogTAAAAAJQKiBMAAAAAlAqIEwAAAACUCogTAAAAAJQKiBMAAAAAlAqIEwAAAACUCogTAAAAAJSK/6vX6/8z/wfAoUn77QbVzBHRgK7be3T03RwCD5MsszX69O8urcyaQ+Hxmo7/OaKuOQxZ/0RfWis0gzqi5kGbGgvmgBlcHdPe50SJ5cK9FlGPzlqH1DFHmgL1VAHWPn6h3dUZc8TcnVHrIF5iudnep/Zm1JuE3nmLDk/MgUNYXxUu/3y4bTbFboR2xZBSrm4/yaqjvMBzAvxIo5RBVgxLq6VeZ3cztNL6Qp/WzTkgzkTLTEQOG49+dK1W64x6syu0++8nNi0BYmTa1G4SXVwNzHtVRZdFY0EEhCmz8x7NrO7Sl49RieXDXGuOjXFY/sd0/VijRnufaycgbz1VAxmkdleJBzpTFu1rGiw0qH0QlVheROS0N19H1+LXMbfx2mab9rfNSTYsZOJCEvjxtNnzB7ZTTrmKMGRh8sBCIzjvrM/tOtb+Pf2E6/w111HxPhcH4gR4aX5gtSwq2ZrxdA7EOPNg+6G4oakCEy2z7WWqyWzmmz3j7NCpCJDZOVo07zQPdmnp5zG1eDbzy7xXWba3eCYoM0DLs3FyqAa0mdUty6DmYL1OSzyr7F3as8QuHV32+Odrmg/EZs56qgQszjdYHPTOrRn49yPaY4FICxsFBfoa1d/yfP3uIjab736+IFUDb9yBjwfJek15ac7uzFvAS/OAJ1COnaKTU7ZTRLV6IKhZwGxyy746jnlAOt9YbHKL3zDCY+3jDvc5ngzY3hSu8wuug8J9zgHiBHho0jIbmcHPy7j7Thl//rmwPFajm06eosxmaC7u0abFV2ywH/uhEOkctEYOWUwbzXdcWI+3dBlzTTdpS4UYarTsm20PwR0E19685n8f6D72GcPrqQqsvV/ikujRTcydb0QD/2bp/Qgz6bl5M1ga1udZGnIN/I63+XCQHDV8VBnWaH6Of/Tv43aKjy5/WoI6pZzp+yXdsoiZeaVld1o77/xwRPwIQJyAJJ6GqV2sRGcyCxqz0U0lky4znvHLDFBc2IF7VMd1eZbeQSw9icfomjAbnZ+lzLYz4NnfV+Vx2Q1DEkEuRe887plBPWmSA5UOHyz9PFOz8mBAy0eXjjo8S5fwWBBGCPIf7s7i+Qz8/o5bLyCFLt33+Ycr+kKMnfp+zxI8o8+Yv//1J8tDmBTtRYA4AUPQMcXdVxfUSiQCAj+TKTPxigQ5E+12kEuBhOQ8KGHYmqOL1uiJed3Pe1HOBJd/kEvhXg/15EHyFdob1Ofy2vs8ov9IQkJhnk9b5T/Q1XEiuTYIp56OWM9VQ3k1WPTt2DkhRuBFdOhGhWZ2YuE47aEyB0z3v1sV5mnEcop0SGhcIE5ABsHMJ2kQQBqTKzOZgctKBcl8j5Ixx080m3ZUUubbWzoeU0xrgWMGREkGVMnNXCdOcifqKc5i4DEcV6Apz9curZBJtgwFoJWQqZJg4U0sxMlhTEyrFxeoTqiPQpYiusM2b87boQvlBQs9lCIgLQGvX8t0o7zFA+rLjxGBOAFJjEuvtiku8XhOgz/mDiZdZjIwysqDaElel47+EWORnM0Awbir2Ug26EwlCIc1kBY/z4IHPQnh2MuQxVhLcq18RrCqAfUUoV38K9RICMNFmuPZ9uBPEQ8Ki3wJ4dhLV2VQlYEwnKnrGfrg6iu8iUWRsgxW18iLy5g8+SPKK2idt/eZknWpPFz2eYf0awLjBMQJ8KBderKmPe4qDTLob8aakU4nI5SZcn3zTMOz5FTF7z0zDzUAjBnLnVZ0Ep67coZrwJuoyaiZucz07KWRGi0ok4Km+1skaBSLRz1FaBe/u8KJMSuabv9zxGFG+QeCMpG4aSYBKudBXVdEoOUB4JdaTqxyVfx9C/jQCf2JunNRZd6ji8wkfG3zBlenY40TECfAi1oy5sQlZdkqMuLTKVpmanWJMLtEdWeGrQdadwlysPLEM9ACng3Kckgus6Y1IBkPiC9ZUosWIbmSJxhoo6WVQrDyJBpoUU8WZglpbdMSGyJAUrwbWeUfrApxlyCvfdxQgkStinNn/+allhKLx0WObQ8a8KMmSQ167SwbdtHhS3nuTEa4NAjF9c9i3uNRwBNiQTrS0MS1ag7F2CafjgliFCkzMQqSOGa7rm2C39s45wYrSLykXXeqkWRkEYTmkEl9WmVYVyl1lKhLwXNujnqqEnq1kjlgUp/QO6z8PXUppNanQX2+PBQMwsRPThuVsC3eJ/1Kjt3TPEUc4gQAAAAApQJhHQAAAACUCogTAAAAAJQKiBMAAAAAlAqIEwAAAACUCogTAAAAAJQKiBMAAAAAlAqIEwAAAACUCogTAAAAAJQKiBMAAAAAlAqIEwAAAACUCjy+HmQT7sMwuT0TppvJ7zXh7lUS21sE+7okyL23SwGifUZ8+5B49oCpcB3k25NlOKn7RmWUbVj3Fe8DRcgus3z2zO1zafv1FAHiBKRgDC5d09nPJWqsEsTJMAIhZxlj3WlHFCie6w3HGJNKGudAJFiG0Yi3sQRKbKM01+ia8o7VUXXrINHeR2rDGi1OHvIPcrZQhzjJR1aZ5bJn0TgR/a2nH44AwjrAi2z1v/TzWG05/su8B7JpfuCOLB3cMsKdg2O9jX9sS/08cAdvjmLUO3R6NSCanaNF805l2N5igyiG0zKIJ4d0zOUxs7rFkmE0gno9k3J12V7mWSV/5je7jipaBzyYbfDsuXduCfHvR7R33iNa2KBP6+a9J4H7S50HWe4vZ3fmLTCE7DLLZc/W67Q0y3V+aQvBLh1dcp3Ta5ofo84hToCXzkFrbFd4tWjSMhvmwc/L+GxNDZj8c2G52OAYDLSxQQ9k0XzHhvbxli5jHqombanQQI2Wt/U7heCZpZopdrJE+gzNmclnwOIr/szHfqWE/dr7JS6JHt0EIUeFGQD5N0vv1/RbT8Daxx09Uy/onaky2WVWzJ69fhOv27U3r/nfB7ov6i22gDgBYBKsz/M8gbvj76gri1u6vUl0JjPHgrOIsHPX9qndbkevfz+xuc+AZ687PBgPrk5Hdqe+TNZofo5/9O8jYypu6XaD6PyMh8ykAR1Ok/ZVSOhrekju5FDNOmubbfryUV8/dH2zoKmSvE8KMglviQf2jGfbLE9ejeJHqlFjWPs3bb53PnoIoXIMK7O89uz7EX1Vnsldah9ouRLkCo1bHxAnAEwcibm2affVBbVGjLkqQy+G+d0NX6NlXjzIzq7Qrmug1SBsjLeJEVfd66UMaWuOLrjcwuThgqx93OAa6NHFkLIUL2OLDbYy0FwHjQWJtVc8P0tyGdob1G+LB3Y0/1H3857V9q32396PzdqD8MPpiPVcRYqVWbY9U/XUvqbBQkO1/12Vnzh6vwuAOAFgogSzxePCCYBJXJdrhw5l1jK7RHXbCyNxfcuIn5EYiS9PHOMvL+K52H17S8djJOMVmY3L50lSoayiarUkJq9n+4EnpWosBjPsiQs00/7tEJ0Vdqu2HC9AoTIbbs/0RGCF6IrPEftzN0MrLe4TxpMyKhAnAEyC7/f0wD9qmxJGiOfrjBJ//fXHk3yZk86BhDGeNsZfPrp03+cfPHtrsDyTRO6wBjwu6mx4pmiSkYfN/sQwyxLKaHl3l47+EQNNNLO6UymBqNrs7Ao1EsJwkeZmiQZ/JpCB0+uT9AwdossRdgMOOcssrz1joSMhHHs1nHgSJQld+uL+KHleBogTACZCh24k4z3hKl2j+tsZorub5Axcub79cfTubzENyTyVSSSaTSudHzKrTiYR+xM1mTAcFg8TBCsQxLiq+jEv/cyNIAdC/40Ovw2oLx9tocVlMlF2mun+d6uEQ3zlBmNWNN3+54jDtPLPQNeluZa6rohAHU4LXup5Gyr8w8fDcrSqRu4yy2fPtD1KCn9tv0bJ84qAOAFgQnS+XdOAO/iO5c6XJdlpGfFqdYnghmmEk1O9ZK9pGVcTashOdpX4sDw0aXiuxNThKzMzs/OFZ/RAJzgreZwwWfBSs0EJtaljfT0tiNyl4sEKIY8gmma43C5UcrAlNkSApMzUU8s/jXCWbq51cpioI3mpZbGyBFaO8ayTOAXKLI89CwRprW6LwGCFlkeQFgAPYQNegoxrL9KI0en9iDEOH9glyGCWkrcgnhM23OnlKUJDjIE5ZGJPh2V89TSJJ6K+XIaXWUhYVxl1ZKHL2vNQsKAebSrcR/RqJXPApLbHIeXvXkd5xXI8zFD93RxsVBFSyyyPPUucI+TrU1lAnAAAAACgVCCsAwAAAIBSAXECAAAAgFIBcQIAAACAUgFxAgAAAIBSAXECAAAAgFIBcQIAAACAUgFxAgAAAIBSAXECAAAAgFIBcQIAAACAUgFxAgAAAIBSAXECAAAAgFIBcQIAAACAUgFxAgAAAIBSAXECAAAAgFIBcQIAAACAUgFxAgAAAIBSAXECAAAAgFIBcQIAAACAUgFxAgAAAIBSAXECAAAAgFIBcQIAAACAUgFxAgAAAIBSAXECAAAAgFIBcQIAAACAUgFxAgAAAIBSAXECAAAAgFIBcQIAAACAUgFxAgAAAIBSAXECAAAAgFIBcQIAAACAUgFxAgAAAIBS8X/1ev1/5v8AAADAWKx9/EK7qzPmiLk7o9ZBxxzkZP0TfWmtkHWVOOaazYM2NRbMewkGdN3eo6Pv5rBKbO9Te7PG/+nRWeuQsko/LMPHazr+54i6+m1Dk/bbDZIraeJlmqhrh955iw5PzEFBIE4AAABMBD3QWQNYIDJGESg+zPUehgx66j7mfIPttGPEBJf3GTW4LoaIk1DEMK448dRdon5T0KLlYagwygJhHReprHbbeu1zdfuQRpDjPPd6B/ZZ+hpfPq6ZY41UbPx61nnO9fa3zSkBue9/jT79a5/3hT6tm1+Za7j3JUjjTL8mAKCy8GC2wTPw3rk1cH0/or3zHtHCRmRfxqD5QbwpPbrJmo2b+xj8vKyYMBGb3iBi4ZZPCPL5dRYmImTuzFsWqqxFsFjX6hwc0/XjDK18yBoBmrQl3pS7m5GFiQBxYiNK8d0NtVpcueolFVGjhjsYq8Fbq9Po3BtajgkPM5CzKhXXVnjej+WkoMjJzOouX49YjeprHV8NqLZpiYq89y/ntXdphbjhhed+JfrwiZsrc3LKf8ef97auj0OatCzuvzEbHQBg+lh7v+QRDmYA5N8svU9OdgoRiI6r0+wwhREwF5+rJU2IpdjRP/nDKGsfd2hltkdnXiGjbX1C4G1v8d/wz4Xl+JhisfZxg2oS/vk23igBcWIjKj9WUVzZl6z6uaiXQ0ERqc24Ou3QoX1sOlIi5nZyOHIMTrndLDdZ979bbgIzNBcEBHPdv+m8ifgin3sQHHfp8ueAaHaJ6vZsZ3t5Io0OADB9LL7i2fJjn36ZYxng9nkStPTzTE92Xi2a90cjl+jIKWAqD5fTziqX5nlK2GV9nl7zj4ffUVkrj75MjsUTxr+d93rCAq/Jxdi5PhAnw+j1eTi2WK/TEivH3o/spu+fRYxJ/94SE4yIkdYQpezef5oidgiEjz3bab5jFfR4S5djNjoAwJSjvMsb1G+3aO9zJFdGBl6TiRJMUE9zjU86BWD31QW1huSQTMprIkCcOOicCuvlZozX5vh4QH0RjxkkZxHPw9D79yhiLyx8Lu7s0I4WNb3LqiWYAQCKsBjMsFuTWykDr8kEYeGoklo7eWx54P06zpHHMjmviQBxYhFlIgd5GPxqX8c9D8oTYYVSUvj1R8IiczSeI7MYue7/+z098I/Xb4bHfzs/WIEFoR0V0pmwJwgAMDVom7dCjbe3sfAzyxWam2XR8GfEqRq8JhOExcZmjcvya7aAMONEbVMn2O5ZZbr2Rk1v6d75+0l6TQSIk5Ag2XOI6gsq7V1WtjJR97c6K5brkY81qr+N+TpykvP+6Rf1vcmuHlRirA7tqJAOEmEBACnoULDHu2py1W7/c0QDi44vysObvfoPXpMJouqC7b8srrA87Oo5Jywsd+X4X1kY0aEbWcGTCP2Y8SkxFkzWayJAnIToQTuWhSxxUzcswlVyesVdcKHhLLVlRWqv1jErXmKraQS+ZrRaxxUKEtvb1dnQhcl7/yZJVhpibHURf/aBWa0TohNjpSErjwwSYQEAaZhQcG3TEhsiQFJm6jovT8iYxMFrMllODiOvuvVSS4nVggs+NgslOt+uacDjxI41zjUPZHxKrvCZtNdEwEPYYkh8zXoanlQWl/UOD/CJh/7IwB88vEbhf9iNDrWYAyGxyif+mYOrY9r7vWVitsH1zDmJv3UpcP9iNGLCRcJBnhhxcJ5cq3IPNAIAFMW1ecqm+URDaIPSHxQWhaoz8leC6wy1j9NPYryxySgf9Xe+h9YlxglfXZlxZ8JjBMQJyMY0TkozMAAAAMCEQVgHZBIsiYa7FAAAwHMBcQLS2d5XmzqlPqgHAAAAeAIQ1gEJ7J0mx9lVEgAAABgFiBMAAAAAlAqEdQAAAABQKiBOAAAAAFAqIE4AAAAAUCogTgAAAABQKiBOAAAAAFAqIE4AAAAAUCqwlBiAieLsb5S2Z9EQMvfIcK5pP5dGUfF9kHLv7ZITt3yT1/Ns2FnhOki0x3H3vHH3d0mUrVv+o/W5qSLc+y1936KAsL9422y2PUvUtcM4z8mCOAFgUng2INMdf3LG0t2gSxmHt7eWUXmaTbheBsEgZRlkY6RHEyh5ytKcExuAq1sHifY+5qZ8w/uPp/xNnVfzAZJReZxRg8tuiDixN7B12+sY9kyLloehwiiL6Q/rSAG3v9Cndam0NrXV/3Uht+X4309s0iykstR5wcva/jtGcL2U89R1nM9KuZ5UZPR7fh34PzEXQ+5f34vvO5nvY3+2Kjv7WsFLfy8QR23bLh3cMsKdg2O6fpyhlQ9j1GkA14faPv7nZWhAup/3wi3ONR06vRoQzS5RvWp1tL3FwkQMp2UQTw7pmMtjZnXL0+azaR7kEBjbyzyr5M+MbRUf1MEcLZp3KoFpn71za+D6fkR75z2ihY3iNoNt2bCBMKwjW/icnHKfI6rVHds+9Yg4bxCxKMsnBPn8OgsTETJ35i2L0e1Zk7bEm3J3M7IwESqTc7LU3KB+WxfsUvMLa0pWg9JpbCMug/G7G2q1uHLVS86vUcMrPIxaD8+9oeWEqOBKbLHSlM+yrxcKImlMbaMwg+ucUW+hkRRNechx/50f/J3ZnC5v6+MQ18jKtcxuxNG15BeixLNVczVp0rIjHBRqwOSfC8uFB0cXZSywCWMqzXdsaB9v6TLWNo2h9LX5LIKB9jKP52OG5iK/t2LxFX/mY59+meMqEGwSehPzVpgBkH+z9L6IRQsGzosMW7NG83P8o3/v1FGXLn9WUBzy9z76J7+3aO3jjvYyeoXM6PZs7eOGR7AXpyLiZIZm+lEjn5llMRBWiGVYROXHKoor+9IdzCO1GVenHTr0VLK4k6PznE7jm+nJdZRoWqGtIsZUyHP/JzdsPvidd/Gm5Rr25G7EvrIAIevz9Jp/PPyOurLyiG0SnUl98m/nx/FkmMFycHU6dDaiBkZ6oPtKCUjPQCUCmycRdM6Cnw9fvykwONbmuP0PqE+u99CZqJwcqllnbbNNXz7q64eu7061QjpJQSbe2F1a+nmmJjYzr4pIhUWa40Fw8IfUBM723O6H9qdL933+MTfPte9jzD43zXDf2GHRnrqp68j2LPCaZInKfFTGc9L7YVVBkRlNr88mymK9TkvcaWLXy8CuXEG54U0cTgkC3yBiBEQhY5qGe//8ycrlHFO+SZWsBzgfbLDl5kAGxiP26iKs63HJ7TVRrnD+OaZL9aWjDGlrji5ao+UdrL0R0zxDK3WirxmeSKFzwL9jgz2zuqsGTx3nr7h3UXmXxVvdor3PI/iPzOA4s7rBBRyUf0uF6EQIBgJFeYJ5IrdjhKHCDLwgnSBkc5qrb+S3Z5PymghYSuwQzw/hl50lLgQzqkkN0BlCqdhMQzP0/pnuf7f8DSwPiArpxAe+zrdrdc5G2OmNxyjhNgdxgtmi7TEbk7xeExkQJLnNjcFXDOkDKkl4bGHoej+6dNTR/cL2Hqo+ZxIwIwETeVKqxmIww56AQBtcfY1do/v5q/LChJ7fk8OYMFQv/tWFTMAq5z3MSZDLk8uzV8SeTc5rIkCcWITuWFb7gVJvtcUYWShPRDLG/BQM/hSbceS6f+H7Jd1aHVx5cNyZthJhMnMJOv0urdCQ5MAq8/2eTaG493VCmr0yRM/CRzeUubwmEsJQWfc8a69kHRkX/0JD53jFVh0kXdTD6P6W2hyOeGjEUxWtDNFxfwn1zKzuVCpx/NcftjSzK9RICMMgRFPAnpn+lAsRKIG9kxfXPVUw5ycfLDbYTriiL8EI9mySXhMB4iREhzaGqr6g0pycjVHQLknPqgqTnHr7X5EhJuf9K0z+iArt6L+Lh6msvBqn01dv0MtLh24k4z3hKl2j+luZTXjCLMr1zcIvK/k5j9dEhInykA1ZNjjl6GTvpHH0J2oyUm5KeHtWr6VNQhzPqQ5/Jj2paqD2/f0Uoz2yXHRuEnGaPcsqf5YVfW+eSh6hY2xarmTmiqHqwp506pcKBbOw3JVjZY+K2rPJek0EiJMQ3RliuRgyeCTCIkHORsNx27IiLboEWC15m6GVpj04aWVbvJLz3r9B5bXUaPmAG2uiAQ5LNAM+VCjMiX83D8xzNzwuUZ1zxGQs+x3qNYEwifD1J+4D8pAoX+KfFi2CJ8n7+xFdqERXe+BM9k0tiNyllcEKIY8gmmZ8ZSbtM2Wmnln+4QSqYSXASn9q8NkZ/UEJ/ga9vjqu4DNOcuB6mcxLLSWWcLAcm0loEXs2aa+JMP0PYTPG+0G5XSWxxwpPSEPmjhO5ZCW+Jo3fIJXFZb0T/r15XzB/G+EMDolrp2HuSZZnGUZ/omWB+2d0GCjt85xrWVTz4UY5CcVCQIZoCNqQ1JPPKxVcK7EyLCKoQy9p151qkv0ptb3mEHZu+Xr7SsIWMJUse02uMhNylH+ibN1yLdLfKkCmPRhmR6yHO4bkKl8zVky4zeMJscBDemPTjV/yWvCsEwAAAE8DwjogiUkgTDyAh9GxdAAAAODpgDgBSUzS78zbejznZN08PwDLiQEAADwhCOuAFPw5J6PnwwAAAAD5gDgBAAAAQKlAWAcAAAAApQLiBAAAAAClAuIEAAAAAKUC4gQAAAAApWJqxIk8HEz2CBhnJ1B1jax9Tp6JstwHAAAA8DeA52REICAAAACApwFLiS3Uo9l9+wt4KHJuUZ7y2uCpcZ8PM9qj/lUbSNsjw76mb18XRXX3GHHLbpRn86x9/KI2DEwj2K8ndz1ViETZZezpkkpiTxcHzzXduqj0HmChXRhuB8Jy8+6Nk23P8vaTUYA4sVCVBHECRiUwqJbh1B1/coNUom0oI/S6koNgkmDTP8sgGyM9qYcHamP8kM/gV7APJ9q7p0+MhblebCPTSX/Gi8aICS6LM2pwXQwRJ/bkJm1TxRHsWd5+ksXzhnWkINpf6FPa9vD8xeOhEilonUuiX/b25Rr1N9Y59vbaMaSgrfOil+d+nHPDa1rvK6U5u0K71nnJMI8YS+v3Kd9dKjI6x1x7VFQZ258ZLzNdXslyDMv6wPpNkTID1PzAHVk6uGUgOwfHehv/2Jb6I8L1scFtw7fnEWC2t1iYiOG0DOLJIR1fDWhmdcvT5ovSpC2ZJd7dZBvcqtaT+d69c2vg+n5Ee+c9ooWNidgM1ceoRzfhbJxtbBPCRCPjTYOIhVu+suDz6yxMRMjcmbcsRrdnOfvJEJ5XnPT6xGaC5nxe6ID+ve7QamBs0Gue8bRaXNj8OrurUcMZWDsH+net9jVfOwW5FitACq8lBSy/EFXpKEARHK0lum3r64phq22az5SOFt4LH0vFmWP1is2SZLDnWVyfO435/fEV0UorPrCLWNAKM7qOr6HkQr7nu5vwOvp7xsus84MNBdVo2RVx28v8Lhv2b6Y5FSkzwDRp2TcgqQGTfy4sx9rtKASG+QLbB3hpvmPDktj3yRhKX5svyNrHjXgfSaGq9bT2fskRDoIZAPk3S+/HzNAz4mdwdRoNeoEgHVIn1aBLR//kD6OsfdzRXkavkBndnuXtJ8N4XnFiNpQL0B6DYOBco/k5Low/v9RRoNq+Wh28c3DGTb9GGwVX5ASdJjIWXImXKYO0FKrlsur+d8vvFDdsuoLiFd/9/DWuOk1n652P7vqKIeIp1tA83/Pkhu+K33kXb1quYS9WZiDYyfnhd9ReVfveJDqTmSP/dn6cmaPPMIdwm2rZni2fZ2za0fYjnNwIIrB5gkPnYje4Bt6MMzgGs8GLbGGeWU/TzeIrLp/HPmkLLugJ2tLPMzWxmXm1aN4fDZ/oW3ujeh3d1xyPMRYrZMPtVDZxTR17RrZnOftJDp55tc4v6nMjDYyEaszhYLdIc6LIFCmqzfx90UauP8fHgPpSzjYT2XF3jepvpYJct1aX7vv8Y25edRz/TGPCKG+VTYdOr/idmPJNlnehMgMOOpy3++qCWmPEXG1SZ+Mnh8az5XrLqh16U4a0NUcXXCaTSIqE16QgKry8Qf12i/Y+R3JlZFJEXzCGNGIeYxaj4gGHQEklmPyf5uob+e3ZpLwmwjOLEz04a3EhA2KPrnmgtGc0SqkZ1TazuhtXwxImCQVMfjrfJORje1yMq/HJtv43Qmuh4dz/mPkkOXBzcNqS0GR+F5DwBqmQTtygPn+ZTQvBbPF4cjHwQrPxLh11pO4m4EZ/oahQ6dtbOp6QMJQ6hdckP4vBDHuC4d9s0eeGJjp0KLP72SWqV1igp8LCUSW1dvIkaxexZ5PzmgjPLE4M4jkQAXJ3Q0e/H2jmbV0fs0lVs3IT/pEM+/is0LyKGv3anBqgI7HDIoeeMpNee3jUcjff/T/R54pR1pnU1mf5cnG+X9It318Q2lEhHdfL8+xl9sIxbba2qRPS7JUhoet5xA5beDZu7mVcN/rLwngleULQIO53sVUHSRd1EeA1ycevP2xpZleokRCGerIWhOwLkyH61GeCArDYUKvXvmYLiBHs2SS9JsKzi5OgMS2+XyKSxio5EKJwJWcq/MKjhW/8mBm/KxTGHGR1R5zjbucjHr5Jo8vCLBG7Mx2xODo0k0+1mvwRFdrRf9f7YTeopymz6aZDNyZJOu4qTQvxMcHKqiz38yizceUJc+t0+tHJ3knjmBo+5bLVq9GycnTgNcmL9shyu7t07IRJtr/9z7Eeuco/W/R5bSgz7oRgajG2wY1KxFafKntU1J5N1msiPLs4UY1J1PUqmcYqhTBDK5vcAMNkqmDwbIz1OHpNPqFQFN0p0pNzVVhEKttemuuiklPtZVmsamWFzOMoswHjrbFzSWTw84R1FOqza7R8wI010QCfpsymnaDOd6w20Twwz93wePuUx0rIcD8Xno2LwZfnFrCwrNwDqE5OdcJ50xJ73AfkIVG+xD8tWoT0JG94TQrw/YgueEALVzcKpj36Zup5yn+o6PPVOf+NJHtWPbzmJZGjpl+x1admElrEnk3aayI8/0PYpLHKgCkFEczEZRA1BjUWsgnONYcaLoBwNY3Ew+yn19lwAYauxfTz7CfYqbCI++Akcw+xh/4YJOku9nQ8+zsp/J8be2pe7Dvq73b5nq8rrtHCngrn8+R+uAB2Uu5fh4Gk4/seUJWvzIBDos3a7dAhaPeJdmMIruX2C4tEG2SqXT+SvBfPTUstj7Cu0urI9IG0+gnIUU9VIrArAakPwBta/sG1bJvvo0CdTzlu2cfIaJ/esU/IZc9y9pOCVOAJsekFl6/hVxGUGQAAgL/H30mIfU5MMpzvaY1IpkoBZQYAAOAvMv3iJFi5ICuC9DuadR2XxNJYDygzAAAAf5GKbPznz5+Y1GZg0wnKDAAAwN8BuxIDAAAAoFRMf1gHAAAAAC8KiBMAAAAAlAqIEwAAAACUCogTAAAAAJQKiBMAAAAAlAqIEwAAAACUCogTAAAAAJQKiBMAAAAAlAqIEwAAAACUCogTAAAAAJQKiBMAAAAAlAqIEwAAAACUCogTAAAAAJQKiBMAAAAAlAii/w+ytzA/9a82QwAAAABJRU5ErkJggg==)"
      ],
      "metadata": {
        "id": "wSUaUKKJXwVH"
      }
    },
    {
      "cell_type": "markdown",
      "source": [
        "# Method 2 : Oversampling the minority class through duplication"
      ],
      "metadata": {
        "id": "a5widqQ7YAio"
      }
    },
    {
      "cell_type": "code",
      "source": [
        "count_class_0,count_class_1"
      ],
      "metadata": {
        "colab": {
          "base_uri": "https://localhost:8080/"
        },
        "id": "fSN2QG9QXCNt",
        "outputId": "662d9031-6102-47b0-899d-a3ddf51f0f09"
      },
      "execution_count": 284,
      "outputs": [
        {
          "output_type": "execute_result",
          "data": {
            "text/plain": [
              "(5163, 1869)"
            ]
          },
          "metadata": {},
          "execution_count": 284
        }
      ]
    },
    {
      "cell_type": "code",
      "source": [
        "df_class_1_over=df_class_1.sample(count_class_0,replace=True)"
      ],
      "metadata": {
        "id": "tPzZayxmYKwe"
      },
      "execution_count": 285,
      "outputs": []
    },
    {
      "cell_type": "code",
      "source": [
        "df_test_over=pd.concat([df_class_0,df_class_1_over],axis=0)"
      ],
      "metadata": {
        "id": "j99U9WjVY6CO"
      },
      "execution_count": 286,
      "outputs": []
    },
    {
      "cell_type": "code",
      "source": [
        "df_test_over['Churn'].value_counts()"
      ],
      "metadata": {
        "colab": {
          "base_uri": "https://localhost:8080/"
        },
        "id": "Wu3b9Y6JZmg9",
        "outputId": "4d894c90-7e38-41d8-c918-175a6d881018"
      },
      "execution_count": 287,
      "outputs": [
        {
          "output_type": "execute_result",
          "data": {
            "text/plain": [
              "0    5163\n",
              "1    5163\n",
              "Name: Churn, dtype: int64"
            ]
          },
          "metadata": {},
          "execution_count": 287
        }
      ]
    },
    {
      "cell_type": "code",
      "source": [
        "x=df_test_over.drop('Churn', axis='columns')\n",
        "y=df_test_over['Churn']\n",
        "\n",
        "X_train, X_test, y_train, y_test=train_test_split(x,y,test_size=0.2,random_state=15,stratify=y)"
      ],
      "metadata": {
        "id": "qsAFS_GQaHsd"
      },
      "execution_count": 288,
      "outputs": []
    },
    {
      "cell_type": "code",
      "source": [
        "y_train.value_counts()"
      ],
      "metadata": {
        "colab": {
          "base_uri": "https://localhost:8080/"
        },
        "id": "tEgwd2ojamcW",
        "outputId": "96a0e576-087d-4a6c-fcfe-38f05317ed00"
      },
      "execution_count": 289,
      "outputs": [
        {
          "output_type": "execute_result",
          "data": {
            "text/plain": [
              "1    4130\n",
              "0    4130\n",
              "Name: Churn, dtype: int64"
            ]
          },
          "metadata": {},
          "execution_count": 289
        }
      ]
    },
    {
      "cell_type": "code",
      "source": [
        "y_test.value_counts()"
      ],
      "metadata": {
        "colab": {
          "base_uri": "https://localhost:8080/"
        },
        "id": "xpfntO1bavLO",
        "outputId": "b3c090e3-0eba-4041-c3e6-2f597b3278d3"
      },
      "execution_count": 290,
      "outputs": [
        {
          "output_type": "execute_result",
          "data": {
            "text/plain": [
              "1    1033\n",
              "0    1033\n",
              "Name: Churn, dtype: int64"
            ]
          },
          "metadata": {},
          "execution_count": 290
        }
      ]
    },
    {
      "cell_type": "code",
      "source": [
        "y_preds=ANN(X_train,y_train,X_test,y_test,'binary_crossentropy',-1)"
      ],
      "metadata": {
        "colab": {
          "base_uri": "https://localhost:8080/"
        },
        "id": "Wx5Hs2pSa9L3",
        "outputId": "95f1a470-b8c6-4c6e-cdde-78d7736b2056"
      },
      "execution_count": 291,
      "outputs": [
        {
          "output_type": "stream",
          "name": "stdout",
          "text": [
            "Epoch 1/100\n",
            "259/259 [==============================] - 1s 3ms/step - loss: 0.5428 - accuracy: 0.7217\n",
            "Epoch 2/100\n",
            "259/259 [==============================] - 1s 3ms/step - loss: 0.4938 - accuracy: 0.7605\n",
            "Epoch 3/100\n",
            "259/259 [==============================] - 1s 3ms/step - loss: 0.4845 - accuracy: 0.7666\n",
            "Epoch 4/100\n",
            "259/259 [==============================] - 1s 3ms/step - loss: 0.4791 - accuracy: 0.7679\n",
            "Epoch 5/100\n",
            "259/259 [==============================] - 1s 3ms/step - loss: 0.4745 - accuracy: 0.7735\n",
            "Epoch 6/100\n",
            "259/259 [==============================] - 1s 3ms/step - loss: 0.4713 - accuracy: 0.7768\n",
            "Epoch 7/100\n",
            "259/259 [==============================] - 1s 3ms/step - loss: 0.4666 - accuracy: 0.7775\n",
            "Epoch 8/100\n",
            "259/259 [==============================] - 1s 3ms/step - loss: 0.4624 - accuracy: 0.7799\n",
            "Epoch 9/100\n",
            "259/259 [==============================] - 1s 3ms/step - loss: 0.4603 - accuracy: 0.7832\n",
            "Epoch 10/100\n",
            "259/259 [==============================] - 1s 3ms/step - loss: 0.4581 - accuracy: 0.7812\n",
            "Epoch 11/100\n",
            "259/259 [==============================] - 1s 3ms/step - loss: 0.4554 - accuracy: 0.7839\n",
            "Epoch 12/100\n",
            "259/259 [==============================] - 1s 3ms/step - loss: 0.4527 - accuracy: 0.7850\n",
            "Epoch 13/100\n",
            "259/259 [==============================] - 1s 3ms/step - loss: 0.4503 - accuracy: 0.7862\n",
            "Epoch 14/100\n",
            "259/259 [==============================] - 1s 3ms/step - loss: 0.4483 - accuracy: 0.7906\n",
            "Epoch 15/100\n",
            "259/259 [==============================] - 1s 3ms/step - loss: 0.4463 - accuracy: 0.7900\n",
            "Epoch 16/100\n",
            "259/259 [==============================] - 1s 3ms/step - loss: 0.4438 - accuracy: 0.7916\n",
            "Epoch 17/100\n",
            "259/259 [==============================] - 1s 3ms/step - loss: 0.4429 - accuracy: 0.7901\n",
            "Epoch 18/100\n",
            "259/259 [==============================] - 1s 3ms/step - loss: 0.4405 - accuracy: 0.7921\n",
            "Epoch 19/100\n",
            "259/259 [==============================] - 1s 3ms/step - loss: 0.4387 - accuracy: 0.7954\n",
            "Epoch 20/100\n",
            "259/259 [==============================] - 1s 3ms/step - loss: 0.4374 - accuracy: 0.7959\n",
            "Epoch 21/100\n",
            "259/259 [==============================] - 1s 3ms/step - loss: 0.4347 - accuracy: 0.7966\n",
            "Epoch 22/100\n",
            "259/259 [==============================] - 1s 3ms/step - loss: 0.4336 - accuracy: 0.7976\n",
            "Epoch 23/100\n",
            "259/259 [==============================] - 1s 3ms/step - loss: 0.4319 - accuracy: 0.7992\n",
            "Epoch 24/100\n",
            "259/259 [==============================] - 1s 3ms/step - loss: 0.4314 - accuracy: 0.7993\n",
            "Epoch 25/100\n",
            "259/259 [==============================] - 1s 3ms/step - loss: 0.4296 - accuracy: 0.8016\n",
            "Epoch 26/100\n",
            "259/259 [==============================] - 1s 3ms/step - loss: 0.4276 - accuracy: 0.8005\n",
            "Epoch 27/100\n",
            "259/259 [==============================] - 1s 3ms/step - loss: 0.4263 - accuracy: 0.8008\n",
            "Epoch 28/100\n",
            "259/259 [==============================] - 1s 4ms/step - loss: 0.4253 - accuracy: 0.8057\n",
            "Epoch 29/100\n",
            "259/259 [==============================] - 1s 4ms/step - loss: 0.4241 - accuracy: 0.8023\n",
            "Epoch 30/100\n",
            "259/259 [==============================] - 1s 3ms/step - loss: 0.4228 - accuracy: 0.8035\n",
            "Epoch 31/100\n",
            "259/259 [==============================] - 1s 3ms/step - loss: 0.4223 - accuracy: 0.8069\n",
            "Epoch 32/100\n",
            "259/259 [==============================] - 1s 3ms/step - loss: 0.4207 - accuracy: 0.8035\n",
            "Epoch 33/100\n",
            "259/259 [==============================] - 1s 3ms/step - loss: 0.4195 - accuracy: 0.8075\n",
            "Epoch 34/100\n",
            "259/259 [==============================] - 1s 3ms/step - loss: 0.4192 - accuracy: 0.8069\n",
            "Epoch 35/100\n",
            "259/259 [==============================] - 1s 3ms/step - loss: 0.4170 - accuracy: 0.8077\n",
            "Epoch 36/100\n",
            "259/259 [==============================] - 1s 3ms/step - loss: 0.4171 - accuracy: 0.8091\n",
            "Epoch 37/100\n",
            "259/259 [==============================] - 1s 3ms/step - loss: 0.4157 - accuracy: 0.8092\n",
            "Epoch 38/100\n",
            "259/259 [==============================] - 1s 3ms/step - loss: 0.4140 - accuracy: 0.8127\n",
            "Epoch 39/100\n",
            "259/259 [==============================] - 1s 3ms/step - loss: 0.4131 - accuracy: 0.8109\n",
            "Epoch 40/100\n",
            "259/259 [==============================] - 1s 3ms/step - loss: 0.4135 - accuracy: 0.8100\n",
            "Epoch 41/100\n",
            "259/259 [==============================] - 1s 3ms/step - loss: 0.4125 - accuracy: 0.8103\n",
            "Epoch 42/100\n",
            "259/259 [==============================] - 1s 3ms/step - loss: 0.4101 - accuracy: 0.8156\n",
            "Epoch 43/100\n",
            "259/259 [==============================] - 1s 3ms/step - loss: 0.4110 - accuracy: 0.8110\n",
            "Epoch 44/100\n",
            "259/259 [==============================] - 1s 3ms/step - loss: 0.4094 - accuracy: 0.8119\n",
            "Epoch 45/100\n",
            "259/259 [==============================] - 1s 3ms/step - loss: 0.4094 - accuracy: 0.8142\n",
            "Epoch 46/100\n",
            "259/259 [==============================] - 1s 3ms/step - loss: 0.4082 - accuracy: 0.8125\n",
            "Epoch 47/100\n",
            "259/259 [==============================] - 1s 3ms/step - loss: 0.4079 - accuracy: 0.8153\n",
            "Epoch 48/100\n",
            "259/259 [==============================] - 1s 3ms/step - loss: 0.4071 - accuracy: 0.8142\n",
            "Epoch 49/100\n",
            "259/259 [==============================] - 1s 3ms/step - loss: 0.4058 - accuracy: 0.8155\n",
            "Epoch 50/100\n",
            "259/259 [==============================] - 1s 3ms/step - loss: 0.4058 - accuracy: 0.8169\n",
            "Epoch 51/100\n",
            "259/259 [==============================] - 1s 3ms/step - loss: 0.4043 - accuracy: 0.8186\n",
            "Epoch 52/100\n",
            "259/259 [==============================] - 1s 3ms/step - loss: 0.4041 - accuracy: 0.8165\n",
            "Epoch 53/100\n",
            "259/259 [==============================] - 1s 3ms/step - loss: 0.4031 - accuracy: 0.8177\n",
            "Epoch 54/100\n",
            "259/259 [==============================] - 1s 3ms/step - loss: 0.4018 - accuracy: 0.8185\n",
            "Epoch 55/100\n",
            "259/259 [==============================] - 1s 3ms/step - loss: 0.4016 - accuracy: 0.8178\n",
            "Epoch 56/100\n",
            "259/259 [==============================] - 1s 3ms/step - loss: 0.4005 - accuracy: 0.8208\n",
            "Epoch 57/100\n",
            "259/259 [==============================] - 1s 3ms/step - loss: 0.3988 - accuracy: 0.8206\n",
            "Epoch 58/100\n",
            "259/259 [==============================] - 1s 3ms/step - loss: 0.4000 - accuracy: 0.8194\n",
            "Epoch 59/100\n",
            "259/259 [==============================] - 1s 3ms/step - loss: 0.3999 - accuracy: 0.8213\n",
            "Epoch 60/100\n",
            "259/259 [==============================] - 1s 3ms/step - loss: 0.3982 - accuracy: 0.8171\n",
            "Epoch 61/100\n",
            "259/259 [==============================] - 1s 3ms/step - loss: 0.3990 - accuracy: 0.8182\n",
            "Epoch 62/100\n",
            "259/259 [==============================] - 1s 3ms/step - loss: 0.3969 - accuracy: 0.8207\n",
            "Epoch 63/100\n",
            "259/259 [==============================] - 1s 3ms/step - loss: 0.3959 - accuracy: 0.8228\n",
            "Epoch 64/100\n",
            "259/259 [==============================] - 1s 3ms/step - loss: 0.3953 - accuracy: 0.8220\n",
            "Epoch 65/100\n",
            "259/259 [==============================] - 1s 3ms/step - loss: 0.3946 - accuracy: 0.8232\n",
            "Epoch 66/100\n",
            "259/259 [==============================] - 1s 3ms/step - loss: 0.3953 - accuracy: 0.8213\n",
            "Epoch 67/100\n",
            "259/259 [==============================] - 1s 3ms/step - loss: 0.3936 - accuracy: 0.8231\n",
            "Epoch 68/100\n",
            "259/259 [==============================] - 1s 3ms/step - loss: 0.3945 - accuracy: 0.8202\n",
            "Epoch 69/100\n",
            "259/259 [==============================] - 1s 3ms/step - loss: 0.3926 - accuracy: 0.8249\n",
            "Epoch 70/100\n",
            "259/259 [==============================] - 1s 3ms/step - loss: 0.3923 - accuracy: 0.8222\n",
            "Epoch 71/100\n",
            "259/259 [==============================] - 1s 3ms/step - loss: 0.3914 - accuracy: 0.8235\n",
            "Epoch 72/100\n",
            "259/259 [==============================] - 1s 3ms/step - loss: 0.3915 - accuracy: 0.8236\n",
            "Epoch 73/100\n",
            "259/259 [==============================] - 1s 3ms/step - loss: 0.3922 - accuracy: 0.8241\n",
            "Epoch 74/100\n",
            "259/259 [==============================] - 1s 3ms/step - loss: 0.3905 - accuracy: 0.8234\n",
            "Epoch 75/100\n",
            "259/259 [==============================] - 1s 3ms/step - loss: 0.3897 - accuracy: 0.8249\n",
            "Epoch 76/100\n",
            "259/259 [==============================] - 1s 3ms/step - loss: 0.3894 - accuracy: 0.8251\n",
            "Epoch 77/100\n",
            "259/259 [==============================] - 1s 3ms/step - loss: 0.3881 - accuracy: 0.8257\n",
            "Epoch 78/100\n",
            "259/259 [==============================] - 1s 3ms/step - loss: 0.3879 - accuracy: 0.8263\n",
            "Epoch 79/100\n",
            "259/259 [==============================] - 1s 3ms/step - loss: 0.3882 - accuracy: 0.8265\n",
            "Epoch 80/100\n",
            "259/259 [==============================] - 1s 3ms/step - loss: 0.3873 - accuracy: 0.8266\n",
            "Epoch 81/100\n",
            "259/259 [==============================] - 1s 3ms/step - loss: 0.3851 - accuracy: 0.8275\n",
            "Epoch 82/100\n",
            "259/259 [==============================] - 1s 3ms/step - loss: 0.3855 - accuracy: 0.8259\n",
            "Epoch 83/100\n",
            "259/259 [==============================] - 1s 3ms/step - loss: 0.3842 - accuracy: 0.8268\n",
            "Epoch 84/100\n",
            "259/259 [==============================] - 1s 3ms/step - loss: 0.3865 - accuracy: 0.8304\n",
            "Epoch 85/100\n",
            "259/259 [==============================] - 1s 3ms/step - loss: 0.3835 - accuracy: 0.8306\n",
            "Epoch 86/100\n",
            "259/259 [==============================] - 1s 3ms/step - loss: 0.3835 - accuracy: 0.8297\n",
            "Epoch 87/100\n",
            "259/259 [==============================] - 1s 3ms/step - loss: 0.3821 - accuracy: 0.8301\n",
            "Epoch 88/100\n",
            "259/259 [==============================] - 1s 3ms/step - loss: 0.3824 - accuracy: 0.8275\n",
            "Epoch 89/100\n",
            "259/259 [==============================] - 1s 3ms/step - loss: 0.3823 - accuracy: 0.8262\n",
            "Epoch 90/100\n",
            "259/259 [==============================] - 1s 3ms/step - loss: 0.3802 - accuracy: 0.8301\n",
            "Epoch 91/100\n",
            "259/259 [==============================] - 1s 3ms/step - loss: 0.3822 - accuracy: 0.8298\n",
            "Epoch 92/100\n",
            "259/259 [==============================] - 1s 3ms/step - loss: 0.3801 - accuracy: 0.8327\n",
            "Epoch 93/100\n",
            "259/259 [==============================] - 1s 3ms/step - loss: 0.3809 - accuracy: 0.8300\n",
            "Epoch 94/100\n",
            "259/259 [==============================] - 1s 3ms/step - loss: 0.3780 - accuracy: 0.8314\n",
            "Epoch 95/100\n",
            "259/259 [==============================] - 1s 3ms/step - loss: 0.3783 - accuracy: 0.8289\n",
            "Epoch 96/100\n",
            "259/259 [==============================] - 1s 3ms/step - loss: 0.3767 - accuracy: 0.8356\n",
            "Epoch 97/100\n",
            "259/259 [==============================] - 1s 3ms/step - loss: 0.3780 - accuracy: 0.8335\n",
            "Epoch 98/100\n",
            "259/259 [==============================] - 1s 3ms/step - loss: 0.3759 - accuracy: 0.8310\n",
            "Epoch 99/100\n",
            "259/259 [==============================] - 1s 3ms/step - loss: 0.3760 - accuracy: 0.8346\n",
            "Epoch 100/100\n",
            "259/259 [==============================] - 1s 3ms/step - loss: 0.3739 - accuracy: 0.8324\n",
            "65/65 [==============================] - 0s 2ms/step - loss: 0.4864 - accuracy: 0.7846\n",
            "[0.48637881875038147, 0.7846079468727112]\n",
            "Classification Report: \n",
            "               precision    recall  f1-score   support\n",
            "\n",
            "           0       0.79      0.78      0.78      1033\n",
            "           1       0.78      0.79      0.78      1033\n",
            "\n",
            "    accuracy                           0.78      2066\n",
            "   macro avg       0.78      0.78      0.78      2066\n",
            "weighted avg       0.78      0.78      0.78      2066\n",
            "\n"
          ]
        }
      ]
    },
    {
      "cell_type": "markdown",
      "source": [
        "# Comparison with normal Neural Network Model\n",
        "\n",
        "![image.png](data:image/png;base64,iVBORw0KGgoAAAANSUhEUgAAAicAAADXCAYAAADBXfHtAAAAAXNSR0IArs4c6QAAAARnQU1BAACxjwv8YQUAAAAJcEhZcwAAEnQAABJ0Ad5mH3gAADMXSURBVHhe7Z3PSxvf9//P57tzIUihBRdGKAh1o5uCwYU7G/+C4MZVwJW0r/9A/Q9elq6ErLqR/AVady6KgddGNxaEQuNCqFACLrJ8f8+5987MnTt3JjNJtGPm+YDUThwnk/vj3Oc959y5/1ev1/9Hf4HmQZsac9d0/M8Rdc17Cbb3qb1ZMwfMY/r56noLRIOrY9r7HD9j7eMX2l2dMUea3nmLDk/MgSG4hpe7M2oddMzBGn36d5dWZs0h47serX+iL60Vij65R2etQwquokicIzjn5bkO47v/5H01ab/dIKtUGf/1gnLzfreQZFkIsb9x6zHGgK7be3T0PX89hd8hoz0ognKL1V2cZJlF9xPhK7OI5D1GZeJrj/nJ2c6EsI346zJ3meX9zKF9s0CZ5Wjfbj15y9XblwKy21laPeX6XF/79pXzsDLLvP+ozHz3H2JdM1/bTqL+zrHNI13LfJ+HtDYLQAblFicAvFDyCTsAphiIEzAG/8/8BABMCjbKOzKzvTuDUQYAgBGAOAFgYkhIpE1tni3S1XFqKAkAAEA2fzesY8cwM/ICAAAAvASSuUYIbYJR+GviBAAAAADAB8I6AAAAACgVECcAAAAAKBUQJwAAAAAoFeXNOXEfWFS6hNnoYVVDE74SD1dKPsAoSBAe76FdT0B472kP9wIAAAAmS3k9JyeH1Gq1+HVM14/mvZdIMLiLuFLfR17Dn9L41MhDwtrtfWqaY/DMSLtot2l/2xwDAAAI+Xuek4Q3Ic0DYTwU/Ze51Fg/KZRyPTb6OdH39fACvSEpj0V/aUvRTfvH0zMBACDJX/GcqFk7G2b1oKrQm9Cim3fTOpN/oPsSCZNpQMJfYds57xEtNKh9AD8QAABMA8/vOTEzRhEm+XIrhntO8j3QzZ1xp2xclfDouLkW7sZo2RtgDfNQuPeenb/ifgdPHkhiEzL7nOzN2GLnuuWQtWHcsDJTv1+iWy6n+w/W9826Zir6O7yOtZ+gTpLlocvfyvZx2p0qf+L28m0+9h189eBeK9HOVNm/Vu0h9j2t8ki0VQff5+q/ybdpGwAATAPPLk60gS8S5sgWJ3K9rd97kUEPBsrYwGEGZfe9f+fp1B4czd/GhJO89+Ge9jyfbQ9Gse+SEAgOPvFkPjvVzR9c0/0OB0SHwXHiXocN2vnCOmpwTNmkMRiw7UE1MZgGdcL/jcSBr07ykCFOyLeTalJw2fUbiYXofpNt1FeO5v5tgWXXe/i9/Pc2tL5DzOfw/0qXLA0AAE/EM4d11qj+loeox1u6zCVMhtP9bAkT4fsRXdzxz4VlNuuG9Xl6zT96P+xBsEOH7mBbm+MBdEC3/1nv8vW8wiSLMJm3RcdXA35DBrUofFVsMBZ4gKu7wkTg72AfJ+61S0eXPf5Zo+UnSbxs0hYLExk07TroHJzxN56hlQ9OmIXvPxpcO3Qj9TQ3z99uPNY+7ihP1uDnZWzw32DR0Tu3xBeXz1euj5nVrahtKOJeie7nC3X/S+/NnW1v8fXlHFvIcdlLOGl2hbacslUhp7AeunT5k9vA7BwtmneKYcrJbZcAADDFTOVzTn79EUFg8f2eHvhHbXPI6ohen4cAHlRbX+jTunmvDKzXaUmWLMfEVU7Ud3oitpfVjP7htzto+oXHSPefwszqLrXbbfXSXo5WzKuw9n6Ja7JHN45XovtbWsJrmrfrNyGWf1H/kT/jlZYTzXfqWybzhk5u+BP4am/i8sotDxHQrRweqjQ6ByJqHe8cAABMMVMgTsTtrQepaLCy8gIUPMs1S5JFoOjzPAJEPA8tM+tvBeeVIEnXeHT6MhIOQcIUdllI4rFbGpMl475G9hYMR3knxAsl3gupL8dLs/hKvnWNGnZZyCsr3JbFY58li59AxAAAAJgMzyxOunTf5x+zS1SfiGfCivtbYRMdSnHp0tE/5pz2dYaHRISMOU8NfDLA/WWBYjw6c0PG1SjXw9x/+F3/EhkD+sQ4OaQzFcbbiNWl9p454bTwNVkvxODPk39LAACoFM/uOen80DPdMJ4/Dias0LtMJmpmIh4SI1AyB3zJHVECxQkDPDdBWOpdlkRq0rIkdt5d5Bp4veGNoqiwhq8u9b3EckCekM43IzYt78lY388Jo6k26xPUqv2NmAti6tQNCfnQ3rCShRoBAOAJef6wjpnpSs7Al49xw9w8KOihMPkU9qAthjwR1tneT3yWzkmIhyRklYabk5Kab/CsdOhUvEELDed7NGk/fLaHzpOIJQLL6pG0sE6QX+MmrRZC39fM6k5s4GweyOqSHl0818oSFps6Cdrynpyc0vWjeMeKer3W6FOTy+zxmk6DfJXgWs1PVg4Nl71aPZVPDCYxeS2J5FwXIzq9IhAAAKaTv/eEWM9y2+RyVP1/l9izIJzrSC7CV9phgRJfJhsseY1ILq8VEp/rPovDWhabwPPcjuwlu9Ey0SSe+0uUmXuOcz25H/7lTtqS1YzrJcsrwl3Smjg3pczce1BlnbJEOR39HeNLiZmgXpwVTd52ZJ0z7PcRwXJic8i45RCUp+9ZJX6S9Y/nnAAAQJk3/gPgGRhNIAEAAHhKpnIpMQAAAABeLhAnAAAAACgVECcAAAAAKBXIOQEAAABAqYDnBAAAAAClAuIEAAAAAKUC4gQAAAAApQLiBAAAAAClAgmxAEya8CnC/qcQFyN6Mm3+J8+C58N9cnDKk3zdpzF7n0L8hAx9ujQA5QKeEwAAGBlrt3O1SWgKsomo2hH7mK5lD6znxAgT2W4h2pkbwgQ8P/JE7va/9h5l6UCcADBpZNfriQ0A0eAHrwkYBb156bCNOMUDJLtftxObpALwN4A4AQCAaeexT7/Mf11k4852e4fo8lrt8g5AGUDOCXhh6J186bxFp2/s3ZD9OzSr3Yt/b8Xi7cncDXd34LR4/JD8AnfHas8u1SGJ3a3dz8yZy6Bw7989N2+ZlZdod+9TmrfLJXUn8KhkE7tHB+TIA0nsWp2VK6Ku93rI7tGmXvvPl3OSubml3HO9r39n2iSllVdOEruUp5VZjvIf3k+K9PMifep5GVZmUftP+e6mvlRdE//tt/lYucXKQpXpEt3yd7//YLVvr70aZlus9ux8ZtjvEnXokGIn4TkBL5LaZpt2397ScRjHr1HDE8ucWd1lg0XcqXVo5PhqwH/7hT6tmxOk45gOHsTjz+74Wu197pYW6jzuhMQdyZzXan0l+mB9ZhjOkWuY93yYziqDQPCZrXafNg7sT8yZyyAG3rn/4yuilVab9rfNOQZVZq8uzHnpZVZepF52aeln8F3PqDe7QrtWuYlx1kbclF37mojbgBuqULFvHsjEaAfl1vqxHCszGRCWf1i/52sNFhrUjtVTOZF7lxCNvNTgI+VkjmOhG8mF8YmWEdGDKPEAFpXb8Z+NRFvMW/5t7icP1jm6b1r91zC0n6tB1gyi4TnST5LXem7ylllupI0q8ZFWFsKMshFKyKjPTPalIrbF/UyxWVIn6jzXLooYMcfqldL+IE7AyySmtnkgv+QBfHaJ6q6hUR0hmm10/7tl7T9Dc2Yq0PzAip7P+WrNFDsH3FF5INywBrTgvLjC5889GMGw1+b4DgZ0+5/1l9KBC8+kedZS5y/Csyx7ptv9/FUlXdbqjvCQ+w8/o0uXPwdcZnO0aN55CchgFn3XDt2IsZub19+TRd8GD8S9c2t2yeX6lY3zzOpWJDbD85yZNQ/U9nH3817893ytC/m8heW4cC0hcu+B8fcNCON4RrJYfMXz48dburS8EYlyzFX+Tdpa5V7CA6N9ju6bPLB+cGpgSD9f+7jBPbpHZ1Yf0/3Ec61nJleZFSLu3eh+vlBltvQ+LtDj3pkOnXI/idp2QduiPFqWR+Xkht8hev3G+cwCQJyAF8ng52VcFPT6MWMU0r+Pn2dUvO74TVpmI5m4Fv2iPnfAmVfBsJ123oiYex171rZep6VZvq8/bjaBX3hM7P7/GgPqO06kzkE081p7v8Sl2qMbx6h3fz/wv69p3pR12nl5+PUHWRlZqPKRGXiGRy5X+W8vq1DCw2+3xTqCNCCzn69R/S0LgLubSLQqunTf5x/utZ6ZPGVWCEfoJO2ZpvfDKQ27nxS0Lcmcpg4djimCIU5AdVmf565oXMKWy7st7t8wLs2Y85KGckSU4TQzwFbwmU4YqQDp9xUNyFVAzUBV6MeuS37ZeQ2MnqmmJ4hGSCggfq1YXkClkNyCeFnIy3XvK4+NhCHtMJITBstf/kkxGlLI47dIc9KfJfRg3bu8YvlEf4k8Zfa3+Ju2BeIEVJfv9yRzhfjzH6xX4PI0543jokyiZxbqc1ROiSfPZWwe6D42g5putFdD3MtWHYavyOWsZ6rDBjeTCOiEQyR+X02sHCjr5Q09hM90MSElJ08nX/kPIZe4CdCeAxXGsO49fE0w52ZkhpRZ+Xh62wJxAqaC0Vz1fndnEnPe2/rTuH/FMCmBUnA28v2Sbvm+au9cI5bmxp5u3PBNGvq8Gi1nJRyasELvsgQD1wtGwm5qsLVCJ7nKX+UsePIkRgqxliN8kxdfmXkxbXQoJkTjhnFc1PNwgpDQE9mWIsIU4gS8fNY/0Y5Knjst2GFMIi3PUrIfPBUk3DrZ7NxRPx0UjxNLdr7rDtcPyio6G4nu377e2scdWpkd0PW3KkkT5uRUJzi2hnig1HlseN0VDNv7UTmqvKC4cdYrgaoa1smDhH7cstdiIpYTkqf8uSdLgubM6k7snOaBLGsd9kC5JJ1v1zRI9N8ykK/MEoLOXYadCl+/qZP5TzNzfPZViCsS409jW4LvYS82SAPPOQEvDHfdvSaR+R+c5zwvwItZ2hsfdjzPQEicFz9HLwn0D17uszbU8wjseLeED2z3sveeDO65CUOV8SwI6x70/brPTign0XJLp048JMpW8LSDxHnuOU65Sh1+pZ14meWsJ+89GZJtd7Koz057zknW/fv6wFCS/dNt+wFDy59J9Cm37Rfp57ltx3OTr8ziZSF9XD/zR5bWB+fmavt57Z0w1LaIuDKPWPC1Lw/D61QDcQJeGP6BFgAAqk6mEA0w4kSeH/N3RVk2COsAAAAAoFRAnAAAAACgVECcAAAAAKBUIOcEAAAAAKUCnhMAAAAAlAqIEwAAAACUCogTAAAAAJQKiBMAAAAAlAqIEwAAAACUCogTAAAAAJQKiBMAAAAAlAqIEwAAAACUCogTAAAAAJQKiBMAAAAAlAqIEwAAAACUCogTAAAAAJQKiBMAAAAAlAqIEwAAAACUCogTAAAAAJQKiBMAAAAAlAqIEwAAAACUCogTAAAAAJQKiBMAAAAAlAqIEwAAAACUCogTAAAAAJQKiBMAAAAAlAqIEwAAAACUCogTAAAAAJQKiBMAAAAAlAqIEwAAAACUCogTAAAAAJSK/6vX6/8z/wfAoUn77QbVzBHRgK7be3T03RwCD5MsszX69O8urcyaQ+Hxmo7/OaKuOQxZ/0RfWis0gzqi5kGbGgvmgBlcHdPe50SJ5cK9FlGPzlqH1DFHmgL1VAHWPn6h3dUZc8TcnVHrIF5iudnep/Zm1JuE3nmLDk/MgUNYXxUu/3y4bTbFboR2xZBSrm4/yaqjvMBzAvxIo5RBVgxLq6VeZ3cztNL6Qp/WzTkgzkTLTEQOG49+dK1W64x6syu0++8nNi0BYmTa1G4SXVwNzHtVRZdFY0EEhCmz8x7NrO7Sl49RieXDXGuOjXFY/sd0/VijRnufaycgbz1VAxmkdleJBzpTFu1rGiw0qH0QlVheROS0N19H1+LXMbfx2mab9rfNSTYsZOJCEvjxtNnzB7ZTTrmKMGRh8sBCIzjvrM/tOtb+Pf2E6/w111HxPhcH4gR4aX5gtSwq2ZrxdA7EOPNg+6G4oakCEy2z7WWqyWzmmz3j7NCpCJDZOVo07zQPdmnp5zG1eDbzy7xXWba3eCYoM0DLs3FyqAa0mdUty6DmYL1OSzyr7F3as8QuHV32+Odrmg/EZs56qgQszjdYHPTOrRn49yPaY4FICxsFBfoa1d/yfP3uIjab736+IFUDb9yBjwfJek15ac7uzFvAS/OAJ1COnaKTU7ZTRLV6IKhZwGxyy746jnlAOt9YbHKL3zDCY+3jDvc5ngzY3hSu8wuug8J9zgHiBHho0jIbmcHPy7j7Thl//rmwPFajm06eosxmaC7u0abFV2ywH/uhEOkctEYOWUwbzXdcWI+3dBlzTTdpS4UYarTsm20PwR0E19685n8f6D72GcPrqQqsvV/ikujRTcydb0QD/2bp/Qgz6bl5M1ga1udZGnIN/I63+XCQHDV8VBnWaH6Of/Tv43aKjy5/WoI6pZzp+yXdsoiZeaVld1o77/xwRPwIQJyAJJ6GqV2sRGcyCxqz0U0lky4znvHLDFBc2IF7VMd1eZbeQSw9icfomjAbnZ+lzLYz4NnfV+Vx2Q1DEkEuRe887plBPWmSA5UOHyz9PFOz8mBAy0eXjjo8S5fwWBBGCPIf7s7i+Qz8/o5bLyCFLt33+Ycr+kKMnfp+zxI8o8+Yv//1J8tDmBTtRYA4AUPQMcXdVxfUSiQCAj+TKTPxigQ5E+12kEuBhOQ8KGHYmqOL1uiJed3Pe1HOBJd/kEvhXg/15EHyFdob1Ofy2vs8ov9IQkJhnk9b5T/Q1XEiuTYIp56OWM9VQ3k1WPTt2DkhRuBFdOhGhWZ2YuE47aEyB0z3v1sV5mnEcop0SGhcIE5ABsHMJ2kQQBqTKzOZgctKBcl8j5Ixx080m3ZUUubbWzoeU0xrgWMGREkGVMnNXCdOcifqKc5i4DEcV6Apz9curZBJtgwFoJWQqZJg4U0sxMlhTEyrFxeoTqiPQpYiusM2b87boQvlBQs9lCIgLQGvX8t0o7zFA+rLjxGBOAFJjEuvtiku8XhOgz/mDiZdZjIwysqDaElel47+EWORnM0Awbir2Ug26EwlCIc1kBY/z4IHPQnh2MuQxVhLcq18RrCqAfUUoV38K9RICMNFmuPZ9uBPEQ8Ki3wJ4dhLV2VQlYEwnKnrGfrg6iu8iUWRsgxW18iLy5g8+SPKK2idt/eZknWpPFz2eYf0awLjBMQJ8KBderKmPe4qDTLob8aakU4nI5SZcn3zTMOz5FTF7z0zDzUAjBnLnVZ0Ep67coZrwJuoyaiZucz07KWRGi0ok4Km+1skaBSLRz1FaBe/u8KJMSuabv9zxGFG+QeCMpG4aSYBKudBXVdEoOUB4JdaTqxyVfx9C/jQCf2JunNRZd6ji8wkfG3zBlenY40TECfAi1oy5sQlZdkqMuLTKVpmanWJMLtEdWeGrQdadwlysPLEM9ACng3Kckgus6Y1IBkPiC9ZUosWIbmSJxhoo6WVQrDyJBpoUU8WZglpbdMSGyJAUrwbWeUfrApxlyCvfdxQgkStinNn/+allhKLx0WObQ8a8KMmSQ167SwbdtHhS3nuTEa4NAjF9c9i3uNRwBNiQTrS0MS1ag7F2CafjgliFCkzMQqSOGa7rm2C39s45wYrSLykXXeqkWRkEYTmkEl9WmVYVyl1lKhLwXNujnqqEnq1kjlgUp/QO6z8PXUppNanQX2+PBQMwsRPThuVsC3eJ/1Kjt3TPEUc4gQAAAAApQJhHQAAAACUCogTAAAAAJQKiBMAAAAAlAqIEwAAAACUCogTAAAAAJQKiBMAAAAAlAqIEwAAAACUCogTAAAAAJQKiBMAAAAAlAqIEwAAAACUCjy+HmQT7sMwuT0TppvJ7zXh7lUS21sE+7okyL23SwGifUZ8+5B49oCpcB3k25NlOKn7RmWUbVj3Fe8DRcgus3z2zO1zafv1FAHiBKRgDC5d09nPJWqsEsTJMAIhZxlj3WlHFCie6w3HGJNKGudAJFiG0Yi3sQRKbKM01+ia8o7VUXXrINHeR2rDGi1OHvIPcrZQhzjJR1aZ5bJn0TgR/a2nH44AwjrAi2z1v/TzWG05/su8B7JpfuCOLB3cMsKdg2O9jX9sS/08cAdvjmLUO3R6NSCanaNF805l2N5igyiG0zKIJ4d0zOUxs7rFkmE0gno9k3J12V7mWSV/5je7jipaBzyYbfDsuXduCfHvR7R33iNa2KBP6+a9J4H7S50HWe4vZ3fmLTCE7DLLZc/W67Q0y3V+aQvBLh1dcp3Ta5ofo84hToCXzkFrbFd4tWjSMhvmwc/L+GxNDZj8c2G52OAYDLSxQQ9k0XzHhvbxli5jHqombanQQI2Wt/U7heCZpZopdrJE+gzNmclnwOIr/szHfqWE/dr7JS6JHt0EIUeFGQD5N0vv1/RbT8Daxx09Uy/onaky2WVWzJ69fhOv27U3r/nfB7ov6i22gDgBYBKsz/M8gbvj76gri1u6vUl0JjPHgrOIsHPX9qndbkevfz+xuc+AZ687PBgPrk5Hdqe+TNZofo5/9O8jYypu6XaD6PyMh8ykAR1Ok/ZVSOhrekju5FDNOmubbfryUV8/dH2zoKmSvE8KMglviQf2jGfbLE9ejeJHqlFjWPs3bb53PnoIoXIMK7O89uz7EX1Vnsldah9ouRLkCo1bHxAnAEwcibm2affVBbVGjLkqQy+G+d0NX6NlXjzIzq7Qrmug1SBsjLeJEVfd66UMaWuOLrjcwuThgqx93OAa6NHFkLIUL2OLDbYy0FwHjQWJtVc8P0tyGdob1G+LB3Y0/1H3857V9q32396PzdqD8MPpiPVcRYqVWbY9U/XUvqbBQkO1/12Vnzh6vwuAOAFgogSzxePCCYBJXJdrhw5l1jK7RHXbCyNxfcuIn5EYiS9PHOMvL+K52H17S8djJOMVmY3L50lSoayiarUkJq9n+4EnpWosBjPsiQs00/7tEJ0Vdqu2HC9AoTIbbs/0RGCF6IrPEftzN0MrLe4TxpMyKhAnAEyC7/f0wD9qmxJGiOfrjBJ//fXHk3yZk86BhDGeNsZfPrp03+cfPHtrsDyTRO6wBjwu6mx4pmiSkYfN/sQwyxLKaHl3l47+EQNNNLO6UymBqNrs7Ao1EsJwkeZmiQZ/JpCB0+uT9AwdossRdgMOOcssrz1joSMhHHs1nHgSJQld+uL+KHleBogTACZCh24k4z3hKl2j+tsZorub5Axcub79cfTubzENyTyVSSSaTSudHzKrTiYR+xM1mTAcFg8TBCsQxLiq+jEv/cyNIAdC/40Ovw2oLx9tocVlMlF2mun+d6uEQ3zlBmNWNN3+54jDtPLPQNeluZa6rohAHU4LXup5Gyr8w8fDcrSqRu4yy2fPtD1KCn9tv0bJ84qAOAFgQnS+XdOAO/iO5c6XJdlpGfFqdYnghmmEk1O9ZK9pGVcTashOdpX4sDw0aXiuxNThKzMzs/OFZ/RAJzgreZwwWfBSs0EJtaljfT0tiNyl4sEKIY8gmma43C5UcrAlNkSApMzUU8s/jXCWbq51cpioI3mpZbGyBFaO8ayTOAXKLI89CwRprW6LwGCFlkeQFgAPYQNegoxrL9KI0en9iDEOH9glyGCWkrcgnhM23OnlKUJDjIE5ZGJPh2V89TSJJ6K+XIaXWUhYVxl1ZKHL2vNQsKAebSrcR/RqJXPApLbHIeXvXkd5xXI8zFD93RxsVBFSyyyPPUucI+TrU1lAnAAAAACgVCCsAwAAAIBSAXECAAAAgFIBcQIAAACAUgFxAgAAAIBSAXECAAAAgFIBcQIAAACAUgFxAgAAAIBSAXECAAAAgFIBcQIAAACAUgFxAgAAAIBSAXECAAAAgFIBcQIAAACAUgFxAgAAAIBSAXECAAAAgFIBcQIAAACAUgFxAgAAAIBSAXECAAAAgFIBcQIAAACAUgFxAgAAAIBSAXECAAAAgFIBcQIAAACAUgFxAgAAAIBSAXECAAAAgFIBcQIAAACAUgFxAgAAAIBSAXECAAAAgFIBcQIAAACAUgFxAgAAAIBSAXECAAAAgFIBcQIAAACAUgFxAgAAAIBS8X/1ev1/5v8AAADAWKx9/EK7qzPmiLk7o9ZBxxzkZP0TfWmtkHWVOOaazYM2NRbMewkGdN3eo6Pv5rBKbO9Te7PG/+nRWeuQsko/LMPHazr+54i6+m1Dk/bbDZIraeJlmqhrh955iw5PzEFBIE4AAABMBD3QWQNYIDJGESg+zPUehgx66j7mfIPttGPEBJf3GTW4LoaIk1DEMK448dRdon5T0KLlYagwygJhHReprHbbeu1zdfuQRpDjPPd6B/ZZ+hpfPq6ZY41UbPx61nnO9fa3zSkBue9/jT79a5/3hT6tm1+Za7j3JUjjTL8mAKCy8GC2wTPw3rk1cH0/or3zHtHCRmRfxqD5QbwpPbrJmo2b+xj8vKyYMBGb3iBi4ZZPCPL5dRYmImTuzFsWqqxFsFjX6hwc0/XjDK18yBoBmrQl3pS7m5GFiQBxYiNK8d0NtVpcueolFVGjhjsYq8Fbq9Po3BtajgkPM5CzKhXXVnjej+WkoMjJzOouX49YjeprHV8NqLZpiYq89y/ntXdphbjhhed+JfrwiZsrc3LKf8ef97auj0OatCzuvzEbHQBg+lh7v+QRDmYA5N8svU9OdgoRiI6r0+wwhREwF5+rJU2IpdjRP/nDKGsfd2hltkdnXiGjbX1C4G1v8d/wz4Xl+JhisfZxg2oS/vk23igBcWIjKj9WUVzZl6z6uaiXQ0ERqc24Ou3QoX1sOlIi5nZyOHIMTrndLDdZ979bbgIzNBcEBHPdv+m8ifgin3sQHHfp8ueAaHaJ6vZsZ3t5Io0OADB9LL7i2fJjn36ZYxng9nkStPTzTE92Xi2a90cjl+jIKWAqD5fTziqX5nlK2GV9nl7zj4ffUVkrj75MjsUTxr+d93rCAq/Jxdi5PhAnw+j1eTi2WK/TEivH3o/spu+fRYxJ/94SE4yIkdYQpezef5oidgiEjz3bab5jFfR4S5djNjoAwJSjvMsb1G+3aO9zJFdGBl6TiRJMUE9zjU86BWD31QW1huSQTMprIkCcOOicCuvlZozX5vh4QH0RjxkkZxHPw9D79yhiLyx8Lu7s0I4WNb3LqiWYAQCKsBjMsFuTWykDr8kEYeGoklo7eWx54P06zpHHMjmviQBxYhFlIgd5GPxqX8c9D8oTYYVSUvj1R8IiczSeI7MYue7/+z098I/Xb4bHfzs/WIEFoR0V0pmwJwgAMDVom7dCjbe3sfAzyxWam2XR8GfEqRq8JhOExcZmjcvya7aAMONEbVMn2O5ZZbr2Rk1v6d75+0l6TQSIk5Ag2XOI6gsq7V1WtjJR97c6K5brkY81qr+N+TpykvP+6Rf1vcmuHlRirA7tqJAOEmEBACnoULDHu2py1W7/c0QDi44vysObvfoPXpMJouqC7b8srrA87Oo5Jywsd+X4X1kY0aEbWcGTCP2Y8SkxFkzWayJAnIToQTuWhSxxUzcswlVyesVdcKHhLLVlRWqv1jErXmKraQS+ZrRaxxUKEtvb1dnQhcl7/yZJVhpibHURf/aBWa0TohNjpSErjwwSYQEAaZhQcG3TEhsiQFJm6jovT8iYxMFrMllODiOvuvVSS4nVggs+NgslOt+uacDjxI41zjUPZHxKrvCZtNdEwEPYYkh8zXoanlQWl/UOD/CJh/7IwB88vEbhf9iNDrWYAyGxyif+mYOrY9r7vWVitsH1zDmJv3UpcP9iNGLCRcJBnhhxcJ5cq3IPNAIAFMW1ecqm+URDaIPSHxQWhaoz8leC6wy1j9NPYryxySgf9Xe+h9YlxglfXZlxZ8JjBMQJyMY0TkozMAAAAMCEQVgHZBIsiYa7FAAAwHMBcQLS2d5XmzqlPqgHAAAAeAIQ1gEJ7J0mx9lVEgAAABgFiBMAAAAAlAqEdQAAAABQKiBOAAAAAFAqIE4AAAAAUCogTgAAAABQKiBOAAAAAFAqIE4AAAAAUCqwlBiAieLsb5S2Z9EQMvfIcK5pP5dGUfF9kHLv7ZITt3yT1/Ns2FnhOki0x3H3vHH3d0mUrVv+o/W5qSLc+y1936KAsL9422y2PUvUtcM4z8mCOAFgUng2INMdf3LG0t2gSxmHt7eWUXmaTbheBsEgZRlkY6RHEyh5ytKcExuAq1sHifY+5qZ8w/uPp/xNnVfzAZJReZxRg8tuiDixN7B12+sY9kyLloehwiiL6Q/rSAG3v9Cndam0NrXV/3Uht+X4309s0iykstR5wcva/jtGcL2U89R1nM9KuZ5UZPR7fh34PzEXQ+5f34vvO5nvY3+2Kjv7WsFLfy8QR23bLh3cMsKdg2O6fpyhlQ9j1GkA14faPv7nZWhAup/3wi3ONR06vRoQzS5RvWp1tL3FwkQMp2UQTw7pmMtjZnXL0+azaR7kEBjbyzyr5M+MbRUf1MEcLZp3KoFpn71za+D6fkR75z2ihY3iNoNt2bCBMKwjW/icnHKfI6rVHds+9Yg4bxCxKMsnBPn8OgsTETJ35i2L0e1Zk7bEm3J3M7IwESqTc7LU3KB+WxfsUvMLa0pWg9JpbCMug/G7G2q1uHLVS86vUcMrPIxaD8+9oeWEqOBKbLHSlM+yrxcKImlMbaMwg+ucUW+hkRRNechx/50f/J3ZnC5v6+MQ18jKtcxuxNG15BeixLNVczVp0rIjHBRqwOSfC8uFB0cXZSywCWMqzXdsaB9v6TLWNo2h9LX5LIKB9jKP52OG5iK/t2LxFX/mY59+meMqEGwSehPzVpgBkH+z9L6IRQsGzosMW7NG83P8o3/v1FGXLn9WUBzy9z76J7+3aO3jjvYyeoXM6PZs7eOGR7AXpyLiZIZm+lEjn5llMRBWiGVYROXHKoor+9IdzCO1GVenHTr0VLK4k6PznE7jm+nJdZRoWqGtIsZUyHP/JzdsPvidd/Gm5Rr25G7EvrIAIevz9Jp/PPyOurLyiG0SnUl98m/nx/FkmMFycHU6dDaiBkZ6oPtKCUjPQCUCmycRdM6Cnw9fvykwONbmuP0PqE+u99CZqJwcqllnbbNNXz7q64eu7061QjpJQSbe2F1a+nmmJjYzr4pIhUWa40Fw8IfUBM723O6H9qdL933+MTfPte9jzD43zXDf2GHRnrqp68j2LPCaZInKfFTGc9L7YVVBkRlNr88mymK9TkvcaWLXy8CuXEG54U0cTgkC3yBiBEQhY5qGe//8ycrlHFO+SZWsBzgfbLDl5kAGxiP26iKs63HJ7TVRrnD+OaZL9aWjDGlrji5ao+UdrL0R0zxDK3WirxmeSKFzwL9jgz2zuqsGTx3nr7h3UXmXxVvdor3PI/iPzOA4s7rBBRyUf0uF6EQIBgJFeYJ5IrdjhKHCDLwgnSBkc5qrb+S3Z5PymghYSuwQzw/hl50lLgQzqkkN0BlCqdhMQzP0/pnuf7f8DSwPiArpxAe+zrdrdc5G2OmNxyjhNgdxgtmi7TEbk7xeExkQJLnNjcFXDOkDKkl4bGHoej+6dNTR/cL2Hqo+ZxIwIwETeVKqxmIww56AQBtcfY1do/v5q/LChJ7fk8OYMFQv/tWFTMAq5z3MSZDLk8uzV8SeTc5rIkCcWITuWFb7gVJvtcUYWShPRDLG/BQM/hSbceS6f+H7Jd1aHVx5cNyZthJhMnMJOv0urdCQ5MAq8/2eTaG493VCmr0yRM/CRzeUubwmEsJQWfc8a69kHRkX/0JD53jFVh0kXdTD6P6W2hyOeGjEUxWtDNFxfwn1zKzuVCpx/NcftjSzK9RICMMgRFPAnpn+lAsRKIG9kxfXPVUw5ycfLDbYTriiL8EI9mySXhMB4iREhzaGqr6g0pycjVHQLknPqgqTnHr7X5EhJuf9K0z+iArt6L+Lh6msvBqn01dv0MtLh24k4z3hKl2j+luZTXjCLMr1zcIvK/k5j9dEhInykA1ZNjjl6GTvpHH0J2oyUm5KeHtWr6VNQhzPqQ5/Jj2paqD2/f0Uoz2yXHRuEnGaPcsqf5YVfW+eSh6hY2xarmTmiqHqwp506pcKBbOw3JVjZY+K2rPJek0EiJMQ3RliuRgyeCTCIkHORsNx27IiLboEWC15m6GVpj04aWVbvJLz3r9B5bXUaPmAG2uiAQ5LNAM+VCjMiX83D8xzNzwuUZ1zxGQs+x3qNYEwifD1J+4D8pAoX+KfFi2CJ8n7+xFdqERXe+BM9k0tiNyllcEKIY8gmmZ8ZSbtM2Wmnln+4QSqYSXASn9q8NkZ/UEJ/ga9vjqu4DNOcuB6mcxLLSWWcLAcm0loEXs2aa+JMP0PYTPG+0G5XSWxxwpPSEPmjhO5ZCW+Jo3fIJXFZb0T/r15XzB/G+EMDolrp2HuSZZnGUZ/omWB+2d0GCjt85xrWVTz4UY5CcVCQIZoCNqQ1JPPKxVcK7EyLCKoQy9p151qkv0ptb3mEHZu+Xr7SsIWMJUse02uMhNylH+ibN1yLdLfKkCmPRhmR6yHO4bkKl8zVky4zeMJscBDemPTjV/yWvCsEwAAAE8DwjogiUkgTDyAh9GxdAAAAODpgDgBSUzS78zbejznZN08PwDLiQEAADwhCOuAFPw5J6PnwwAAAAD5gDgBAAAAQKlAWAcAAAAApQLiBAAAAAClAuIEAAAAAKUC4gQAAAAApWJqxIk8HEz2CBhnJ1B1jax9Tp6JstwHAAAA8DeA52REICAAAACApwFLiS3Uo9l9+wt4KHJuUZ7y2uCpcZ8PM9qj/lUbSNsjw76mb18XRXX3GHHLbpRn86x9/KI2DEwj2K8ndz1ViETZZezpkkpiTxcHzzXduqj0HmChXRhuB8Jy8+6Nk23P8vaTUYA4sVCVBHECRiUwqJbh1B1/coNUom0oI/S6koNgkmDTP8sgGyM9qYcHamP8kM/gV7APJ9q7p0+MhblebCPTSX/Gi8aICS6LM2pwXQwRJ/bkJm1TxRHsWd5+ksXzhnWkINpf6FPa9vD8xeOhEilonUuiX/b25Rr1N9Y59vbaMaSgrfOil+d+nHPDa1rvK6U5u0K71nnJMI8YS+v3Kd9dKjI6x1x7VFQZ258ZLzNdXslyDMv6wPpNkTID1PzAHVk6uGUgOwfHehv/2Jb6I8L1scFtw7fnEWC2t1iYiOG0DOLJIR1fDWhmdcvT5ovSpC2ZJd7dZBvcqtaT+d69c2vg+n5Ee+c9ooWNidgM1ceoRzfhbJxtbBPCRCPjTYOIhVu+suDz6yxMRMjcmbcsRrdnOfvJEJ5XnPT6xGaC5nxe6ID+ve7QamBs0Gue8bRaXNj8OrurUcMZWDsH+net9jVfOwW5FitACq8lBSy/EFXpKEARHK0lum3r64phq22az5SOFt4LH0vFmWP1is2SZLDnWVyfO435/fEV0UorPrCLWNAKM7qOr6HkQr7nu5vwOvp7xsus84MNBdVo2RVx28v8Lhv2b6Y5FSkzwDRp2TcgqQGTfy4sx9rtKASG+QLbB3hpvmPDktj3yRhKX5svyNrHjXgfSaGq9bT2fskRDoIZAPk3S+/HzNAz4mdwdRoNeoEgHVIn1aBLR//kD6OsfdzRXkavkBndnuXtJ8N4XnFiNpQL0B6DYOBco/k5Low/v9RRoNq+Wh28c3DGTb9GGwVX5ASdJjIWXImXKYO0FKrlsur+d8vvFDdsuoLiFd/9/DWuOk1n652P7vqKIeIp1tA83/Pkhu+K33kXb1quYS9WZiDYyfnhd9ReVfveJDqTmSP/dn6cmaPPMIdwm2rZni2fZ2za0fYjnNwIIrB5gkPnYje4Bt6MMzgGs8GLbGGeWU/TzeIrLp/HPmkLLugJ2tLPMzWxmXm1aN4fDZ/oW3ujeh3d1xyPMRYrZMPtVDZxTR17RrZnOftJDp55tc4v6nMjDYyEaszhYLdIc6LIFCmqzfx90UauP8fHgPpSzjYT2XF3jepvpYJct1aX7vv8Y25edRz/TGPCKG+VTYdOr/idmPJNlnehMgMOOpy3++qCWmPEXG1SZ+Mnh8az5XrLqh16U4a0NUcXXCaTSIqE16QgKry8Qf12i/Y+R3JlZFJEXzCGNGIeYxaj4gGHQEklmPyf5uob+e3ZpLwmwjOLEz04a3EhA2KPrnmgtGc0SqkZ1TazuhtXwxImCQVMfjrfJORje1yMq/HJtv43Qmuh4dz/mPkkOXBzcNqS0GR+F5DwBqmQTtygPn+ZTQvBbPF4cjHwQrPxLh11pO4m4EZ/oahQ6dtbOp6QMJQ6hdckP4vBDHuC4d9s0eeGJjp0KLP72SWqV1igp8LCUSW1dvIkaxexZ5PzmgjPLE4M4jkQAXJ3Q0e/H2jmbV0fs0lVs3IT/pEM+/is0LyKGv3anBqgI7HDIoeeMpNee3jUcjff/T/R54pR1pnU1mf5cnG+X9It318Q2lEhHdfL8+xl9sIxbba2qRPS7JUhoet5xA5beDZu7mVcN/rLwngleULQIO53sVUHSRd1EeA1ycevP2xpZleokRCGerIWhOwLkyH61GeCArDYUKvXvmYLiBHs2SS9JsKzi5OgMS2+XyKSxio5EKJwJWcq/MKjhW/8mBm/KxTGHGR1R5zjbucjHr5Jo8vCLBG7Mx2xODo0k0+1mvwRFdrRf9f7YTeopymz6aZDNyZJOu4qTQvxMcHKqiz38yizceUJc+t0+tHJ3knjmBo+5bLVq9GycnTgNcmL9shyu7t07IRJtr/9z7Eeuco/W/R5bSgz7oRgajG2wY1KxFafKntU1J5N1msiPLs4UY1J1PUqmcYqhTBDK5vcAMNkqmDwbIz1OHpNPqFQFN0p0pNzVVhEKttemuuiklPtZVmsamWFzOMoswHjrbFzSWTw84R1FOqza7R8wI010QCfpsymnaDOd6w20Twwz93wePuUx0rIcD8Xno2LwZfnFrCwrNwDqE5OdcJ50xJ73AfkIVG+xD8tWoT0JG94TQrw/YgueEALVzcKpj36Zup5yn+o6PPVOf+NJHtWPbzmJZGjpl+x1admElrEnk3aayI8/0PYpLHKgCkFEczEZRA1BjUWsgnONYcaLoBwNY3Ew+yn19lwAYauxfTz7CfYqbCI++Akcw+xh/4YJOku9nQ8+zsp/J8be2pe7Dvq73b5nq8rrtHCngrn8+R+uAB2Uu5fh4Gk4/seUJWvzIBDos3a7dAhaPeJdmMIruX2C4tEG2SqXT+SvBfPTUstj7Cu0urI9IG0+gnIUU9VIrArAakPwBta/sG1bJvvo0CdTzlu2cfIaJ/esU/IZc9y9pOCVOAJsekFl6/hVxGUGQAAgL/H30mIfU5MMpzvaY1IpkoBZQYAAOAvMv3iJFi5ICuC9DuadR2XxNJYDygzAAAAf5GKbPznz5+Y1GZg0wnKDAAAwN8BuxIDAAAAoFRMf1gHAAAAAC8KiBMAAAAAlAqIEwAAAACUCogTAAAAAJQKiBMAAAAAlAqIEwAAAACUCogTAAAAAJQKiBMAAAAAlAqIEwAAAACUCogTAAAAAJQKiBMAAAAAlAqIEwAAAACUCogTAAAAAJQKiBMAAAAAlAii/w+ytzA/9a82QwAAAABJRU5ErkJggg==)"
      ],
      "metadata": {
        "id": "6rJ2ely-b5U1"
      }
    },
    {
      "cell_type": "markdown",
      "source": [
        "# Method 3 : Oversampling minority class using SMOTE"
      ],
      "metadata": {
        "id": "rfFf-qLccSyV"
      }
    },
    {
      "cell_type": "code",
      "source": [
        "x=df2.drop('Churn', axis='columns')\n",
        "y=df2['Churn']"
      ],
      "metadata": {
        "id": "E_prCI82bGOF"
      },
      "execution_count": 292,
      "outputs": []
    },
    {
      "cell_type": "code",
      "source": [
        "y.value_counts()"
      ],
      "metadata": {
        "colab": {
          "base_uri": "https://localhost:8080/"
        },
        "id": "ZF03srFTgCDs",
        "outputId": "49fcc40b-1d4a-4ab3-a822-99a2d7fc2c46"
      },
      "execution_count": 293,
      "outputs": [
        {
          "output_type": "execute_result",
          "data": {
            "text/plain": [
              "0    5163\n",
              "1    1869\n",
              "Name: Churn, dtype: int64"
            ]
          },
          "metadata": {},
          "execution_count": 293
        }
      ]
    },
    {
      "cell_type": "code",
      "source": [
        "from imblearn.over_sampling import SMOTE\n",
        "\n",
        "smote=SMOTE(sampling_strategy='minority')\n",
        "X_sm,y_sm=smote.fit_resample(x,y)\n",
        "\n",
        "y_sm.value_counts()"
      ],
      "metadata": {
        "colab": {
          "base_uri": "https://localhost:8080/"
        },
        "id": "UR6C16FPeyX1",
        "outputId": "6aa46ab9-e27e-491b-e2ef-13f4211f3ead"
      },
      "execution_count": 294,
      "outputs": [
        {
          "output_type": "execute_result",
          "data": {
            "text/plain": [
              "0    5163\n",
              "1    5163\n",
              "Name: Churn, dtype: int64"
            ]
          },
          "metadata": {},
          "execution_count": 294
        }
      ]
    },
    {
      "cell_type": "code",
      "source": [
        "X_train, X_test, y_train, y_test=train_test_split(X_sm,y_sm,test_size=0.2,random_state=15,stratify=y_sm)"
      ],
      "metadata": {
        "id": "FC70-qGMe4p8"
      },
      "execution_count": 295,
      "outputs": []
    },
    {
      "cell_type": "code",
      "source": [
        "y_train.value_counts()"
      ],
      "metadata": {
        "colab": {
          "base_uri": "https://localhost:8080/"
        },
        "id": "3dBOJQ73g3J9",
        "outputId": "91db86b7-c7ac-490f-e69c-c22fe8c3735b"
      },
      "execution_count": 296,
      "outputs": [
        {
          "output_type": "execute_result",
          "data": {
            "text/plain": [
              "1    4130\n",
              "0    4130\n",
              "Name: Churn, dtype: int64"
            ]
          },
          "metadata": {},
          "execution_count": 296
        }
      ]
    },
    {
      "cell_type": "code",
      "source": [
        "y_test.value_counts()"
      ],
      "metadata": {
        "colab": {
          "base_uri": "https://localhost:8080/"
        },
        "id": "VGlzum28g_C0",
        "outputId": "ccdbc87e-f192-49c0-999c-f07c2b6985b8"
      },
      "execution_count": 297,
      "outputs": [
        {
          "output_type": "execute_result",
          "data": {
            "text/plain": [
              "1    1033\n",
              "0    1033\n",
              "Name: Churn, dtype: int64"
            ]
          },
          "metadata": {},
          "execution_count": 297
        }
      ]
    },
    {
      "cell_type": "code",
      "source": [
        "y_preds=ANN(X_train,y_train,X_test,y_test,'binary_crossentropy',-1)"
      ],
      "metadata": {
        "colab": {
          "base_uri": "https://localhost:8080/"
        },
        "id": "u-wX3GDbhDvU",
        "outputId": "e6a39c7c-64c3-4ca9-9464-bbbe36306289"
      },
      "execution_count": 298,
      "outputs": [
        {
          "output_type": "stream",
          "name": "stdout",
          "text": [
            "Epoch 1/100\n",
            "259/259 [==============================] - 1s 3ms/step - loss: 0.5435 - accuracy: 0.7315\n",
            "Epoch 2/100\n",
            "259/259 [==============================] - 1s 3ms/step - loss: 0.4718 - accuracy: 0.7770\n",
            "Epoch 3/100\n",
            "259/259 [==============================] - 1s 3ms/step - loss: 0.4619 - accuracy: 0.7826\n",
            "Epoch 4/100\n",
            "259/259 [==============================] - 1s 3ms/step - loss: 0.4563 - accuracy: 0.7843\n",
            "Epoch 5/100\n",
            "259/259 [==============================] - 1s 3ms/step - loss: 0.4515 - accuracy: 0.7898\n",
            "Epoch 6/100\n",
            "259/259 [==============================] - 1s 3ms/step - loss: 0.4467 - accuracy: 0.7923\n",
            "Epoch 7/100\n",
            "259/259 [==============================] - 1s 3ms/step - loss: 0.4411 - accuracy: 0.7962\n",
            "Epoch 8/100\n",
            "259/259 [==============================] - 1s 3ms/step - loss: 0.4373 - accuracy: 0.7984\n",
            "Epoch 9/100\n",
            "259/259 [==============================] - 1s 3ms/step - loss: 0.4345 - accuracy: 0.7982\n",
            "Epoch 10/100\n",
            "259/259 [==============================] - 1s 3ms/step - loss: 0.4305 - accuracy: 0.8028\n",
            "Epoch 11/100\n",
            "259/259 [==============================] - 1s 3ms/step - loss: 0.4274 - accuracy: 0.8047\n",
            "Epoch 12/100\n",
            "259/259 [==============================] - 1s 4ms/step - loss: 0.4236 - accuracy: 0.8056\n",
            "Epoch 13/100\n",
            "259/259 [==============================] - 1s 4ms/step - loss: 0.4225 - accuracy: 0.8074\n",
            "Epoch 14/100\n",
            "259/259 [==============================] - 1s 3ms/step - loss: 0.4184 - accuracy: 0.8110\n",
            "Epoch 15/100\n",
            "259/259 [==============================] - 1s 3ms/step - loss: 0.4159 - accuracy: 0.8108\n",
            "Epoch 16/100\n",
            "259/259 [==============================] - 1s 3ms/step - loss: 0.4135 - accuracy: 0.8132\n",
            "Epoch 17/100\n",
            "259/259 [==============================] - 1s 3ms/step - loss: 0.4110 - accuracy: 0.8120\n",
            "Epoch 18/100\n",
            "259/259 [==============================] - 1s 3ms/step - loss: 0.4080 - accuracy: 0.8149\n",
            "Epoch 19/100\n",
            "259/259 [==============================] - 1s 3ms/step - loss: 0.4067 - accuracy: 0.8177\n",
            "Epoch 20/100\n",
            "259/259 [==============================] - 1s 3ms/step - loss: 0.4048 - accuracy: 0.8184\n",
            "Epoch 21/100\n",
            "259/259 [==============================] - 1s 3ms/step - loss: 0.4022 - accuracy: 0.8177\n",
            "Epoch 22/100\n",
            "259/259 [==============================] - 1s 3ms/step - loss: 0.4007 - accuracy: 0.8190\n",
            "Epoch 23/100\n",
            "259/259 [==============================] - 1s 3ms/step - loss: 0.4002 - accuracy: 0.8203\n",
            "Epoch 24/100\n",
            "259/259 [==============================] - 1s 3ms/step - loss: 0.3981 - accuracy: 0.8207\n",
            "Epoch 25/100\n",
            "259/259 [==============================] - 1s 3ms/step - loss: 0.3955 - accuracy: 0.8222\n",
            "Epoch 26/100\n",
            "259/259 [==============================] - 1s 3ms/step - loss: 0.3934 - accuracy: 0.8265\n",
            "Epoch 27/100\n",
            "259/259 [==============================] - 1s 3ms/step - loss: 0.3928 - accuracy: 0.8249\n",
            "Epoch 28/100\n",
            "259/259 [==============================] - 1s 3ms/step - loss: 0.3913 - accuracy: 0.8270\n",
            "Epoch 29/100\n",
            "259/259 [==============================] - 1s 3ms/step - loss: 0.3892 - accuracy: 0.8266\n",
            "Epoch 30/100\n",
            "259/259 [==============================] - 1s 3ms/step - loss: 0.3870 - accuracy: 0.8287\n",
            "Epoch 31/100\n",
            "259/259 [==============================] - 1s 3ms/step - loss: 0.3841 - accuracy: 0.8295\n",
            "Epoch 32/100\n",
            "259/259 [==============================] - 1s 3ms/step - loss: 0.3834 - accuracy: 0.8320\n",
            "Epoch 33/100\n",
            "259/259 [==============================] - 1s 3ms/step - loss: 0.3830 - accuracy: 0.8341\n",
            "Epoch 34/100\n",
            "259/259 [==============================] - 1s 3ms/step - loss: 0.3819 - accuracy: 0.8301\n",
            "Epoch 35/100\n",
            "259/259 [==============================] - 1s 3ms/step - loss: 0.3765 - accuracy: 0.8337\n",
            "Epoch 36/100\n",
            "259/259 [==============================] - 1s 3ms/step - loss: 0.3779 - accuracy: 0.8339\n",
            "Epoch 37/100\n",
            "259/259 [==============================] - 1s 3ms/step - loss: 0.3774 - accuracy: 0.8332\n",
            "Epoch 38/100\n",
            "259/259 [==============================] - 1s 3ms/step - loss: 0.3728 - accuracy: 0.8392\n",
            "Epoch 39/100\n",
            "259/259 [==============================] - 1s 3ms/step - loss: 0.3734 - accuracy: 0.8367\n",
            "Epoch 40/100\n",
            "259/259 [==============================] - 1s 3ms/step - loss: 0.3725 - accuracy: 0.8398\n",
            "Epoch 41/100\n",
            "259/259 [==============================] - 1s 3ms/step - loss: 0.3698 - accuracy: 0.8386\n",
            "Epoch 42/100\n",
            "259/259 [==============================] - 1s 3ms/step - loss: 0.3692 - accuracy: 0.8372\n",
            "Epoch 43/100\n",
            "259/259 [==============================] - 1s 3ms/step - loss: 0.3691 - accuracy: 0.8419\n",
            "Epoch 44/100\n",
            "259/259 [==============================] - 1s 3ms/step - loss: 0.3690 - accuracy: 0.8402\n",
            "Epoch 45/100\n",
            "259/259 [==============================] - 1s 3ms/step - loss: 0.3683 - accuracy: 0.8406\n",
            "Epoch 46/100\n",
            "259/259 [==============================] - 1s 3ms/step - loss: 0.3648 - accuracy: 0.8442\n",
            "Epoch 47/100\n",
            "259/259 [==============================] - 1s 3ms/step - loss: 0.3657 - accuracy: 0.8419\n",
            "Epoch 48/100\n",
            "259/259 [==============================] - 1s 3ms/step - loss: 0.3639 - accuracy: 0.8460\n",
            "Epoch 49/100\n",
            "259/259 [==============================] - 1s 3ms/step - loss: 0.3626 - accuracy: 0.8432\n",
            "Epoch 50/100\n",
            "259/259 [==============================] - 1s 3ms/step - loss: 0.3613 - accuracy: 0.8438\n",
            "Epoch 51/100\n",
            "259/259 [==============================] - 1s 3ms/step - loss: 0.3620 - accuracy: 0.8470\n",
            "Epoch 52/100\n",
            "259/259 [==============================] - 1s 3ms/step - loss: 0.3608 - accuracy: 0.8437\n",
            "Epoch 53/100\n",
            "259/259 [==============================] - 1s 3ms/step - loss: 0.3610 - accuracy: 0.8419\n",
            "Epoch 54/100\n",
            "259/259 [==============================] - 1s 3ms/step - loss: 0.3567 - accuracy: 0.8449\n",
            "Epoch 55/100\n",
            "259/259 [==============================] - 1s 3ms/step - loss: 0.3587 - accuracy: 0.8467\n",
            "Epoch 56/100\n",
            "259/259 [==============================] - 1s 3ms/step - loss: 0.3573 - accuracy: 0.8476\n",
            "Epoch 57/100\n",
            "259/259 [==============================] - 1s 3ms/step - loss: 0.3569 - accuracy: 0.8478\n",
            "Epoch 58/100\n",
            "259/259 [==============================] - 1s 3ms/step - loss: 0.3575 - accuracy: 0.8466\n",
            "Epoch 59/100\n",
            "259/259 [==============================] - 1s 3ms/step - loss: 0.3547 - accuracy: 0.8464\n",
            "Epoch 60/100\n",
            "259/259 [==============================] - 1s 3ms/step - loss: 0.3527 - accuracy: 0.8492\n",
            "Epoch 61/100\n",
            "259/259 [==============================] - 1s 3ms/step - loss: 0.3556 - accuracy: 0.8454\n",
            "Epoch 62/100\n",
            "259/259 [==============================] - 1s 3ms/step - loss: 0.3527 - accuracy: 0.8485\n",
            "Epoch 63/100\n",
            "259/259 [==============================] - 1s 3ms/step - loss: 0.3524 - accuracy: 0.8450\n",
            "Epoch 64/100\n",
            "259/259 [==============================] - 1s 3ms/step - loss: 0.3516 - accuracy: 0.8472\n",
            "Epoch 65/100\n",
            "259/259 [==============================] - 1s 3ms/step - loss: 0.3507 - accuracy: 0.8484\n",
            "Epoch 66/100\n",
            "259/259 [==============================] - 1s 3ms/step - loss: 0.3499 - accuracy: 0.8502\n",
            "Epoch 67/100\n",
            "259/259 [==============================] - 1s 3ms/step - loss: 0.3484 - accuracy: 0.8495\n",
            "Epoch 68/100\n",
            "259/259 [==============================] - 1s 3ms/step - loss: 0.3488 - accuracy: 0.8496\n",
            "Epoch 69/100\n",
            "259/259 [==============================] - 1s 3ms/step - loss: 0.3464 - accuracy: 0.8507\n",
            "Epoch 70/100\n",
            "259/259 [==============================] - 1s 3ms/step - loss: 0.3477 - accuracy: 0.8518\n",
            "Epoch 71/100\n",
            "259/259 [==============================] - 1s 3ms/step - loss: 0.3474 - accuracy: 0.8494\n",
            "Epoch 72/100\n",
            "259/259 [==============================] - 1s 3ms/step - loss: 0.3471 - accuracy: 0.8490\n",
            "Epoch 73/100\n",
            "259/259 [==============================] - 1s 3ms/step - loss: 0.3450 - accuracy: 0.8519\n",
            "Epoch 74/100\n",
            "259/259 [==============================] - 1s 3ms/step - loss: 0.3475 - accuracy: 0.8510\n",
            "Epoch 75/100\n",
            "259/259 [==============================] - 1s 3ms/step - loss: 0.3440 - accuracy: 0.8524\n",
            "Epoch 76/100\n",
            "259/259 [==============================] - 1s 3ms/step - loss: 0.3446 - accuracy: 0.8493\n",
            "Epoch 77/100\n",
            "259/259 [==============================] - 1s 3ms/step - loss: 0.3428 - accuracy: 0.8561\n",
            "Epoch 78/100\n",
            "259/259 [==============================] - 1s 3ms/step - loss: 0.3430 - accuracy: 0.8499\n",
            "Epoch 79/100\n",
            "259/259 [==============================] - 1s 3ms/step - loss: 0.3443 - accuracy: 0.8521\n",
            "Epoch 80/100\n",
            "259/259 [==============================] - 1s 3ms/step - loss: 0.3426 - accuracy: 0.8523\n",
            "Epoch 81/100\n",
            "259/259 [==============================] - 1s 3ms/step - loss: 0.3431 - accuracy: 0.8515\n",
            "Epoch 82/100\n",
            "259/259 [==============================] - 1s 3ms/step - loss: 0.3412 - accuracy: 0.8538\n",
            "Epoch 83/100\n",
            "259/259 [==============================] - 1s 3ms/step - loss: 0.3430 - accuracy: 0.8518\n",
            "Epoch 84/100\n",
            "259/259 [==============================] - 1s 3ms/step - loss: 0.3391 - accuracy: 0.8551\n",
            "Epoch 85/100\n",
            "259/259 [==============================] - 1s 3ms/step - loss: 0.3381 - accuracy: 0.8542\n",
            "Epoch 86/100\n",
            "259/259 [==============================] - 1s 3ms/step - loss: 0.3428 - accuracy: 0.8518\n",
            "Epoch 87/100\n",
            "259/259 [==============================] - 1s 3ms/step - loss: 0.3379 - accuracy: 0.8548\n",
            "Epoch 88/100\n",
            "259/259 [==============================] - 1s 3ms/step - loss: 0.3403 - accuracy: 0.8515\n",
            "Epoch 89/100\n",
            "259/259 [==============================] - 1s 3ms/step - loss: 0.3396 - accuracy: 0.8519\n",
            "Epoch 90/100\n",
            "259/259 [==============================] - 1s 3ms/step - loss: 0.3404 - accuracy: 0.8551\n",
            "Epoch 91/100\n",
            "259/259 [==============================] - 1s 3ms/step - loss: 0.3384 - accuracy: 0.8536\n",
            "Epoch 92/100\n",
            "259/259 [==============================] - 1s 3ms/step - loss: 0.3366 - accuracy: 0.8545\n",
            "Epoch 93/100\n",
            "259/259 [==============================] - 1s 3ms/step - loss: 0.3357 - accuracy: 0.8576\n",
            "Epoch 94/100\n",
            "259/259 [==============================] - 1s 3ms/step - loss: 0.3364 - accuracy: 0.8535\n",
            "Epoch 95/100\n",
            "259/259 [==============================] - 1s 3ms/step - loss: 0.3352 - accuracy: 0.8571\n",
            "Epoch 96/100\n",
            "259/259 [==============================] - 1s 3ms/step - loss: 0.3353 - accuracy: 0.8588\n",
            "Epoch 97/100\n",
            "259/259 [==============================] - 1s 3ms/step - loss: 0.3356 - accuracy: 0.8563\n",
            "Epoch 98/100\n",
            "259/259 [==============================] - 1s 3ms/step - loss: 0.3352 - accuracy: 0.8559\n",
            "Epoch 99/100\n",
            "259/259 [==============================] - 1s 3ms/step - loss: 0.3336 - accuracy: 0.8559\n",
            "Epoch 100/100\n",
            "259/259 [==============================] - 1s 3ms/step - loss: 0.3342 - accuracy: 0.8552\n",
            "65/65 [==============================] - 0s 2ms/step - loss: 0.4396 - accuracy: 0.8040\n",
            "[0.4396449327468872, 0.8039690256118774]\n",
            "Classification Report: \n",
            "               precision    recall  f1-score   support\n",
            "\n",
            "           0       0.82      0.79      0.80      1033\n",
            "           1       0.79      0.82      0.81      1033\n",
            "\n",
            "    accuracy                           0.80      2066\n",
            "   macro avg       0.80      0.80      0.80      2066\n",
            "weighted avg       0.80      0.80      0.80      2066\n",
            "\n"
          ]
        }
      ]
    },
    {
      "cell_type": "markdown",
      "source": [
        "# Comparison with normal Neural Network Model\n",
        "\n",
        "![image.png](data:image/png;base64,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)"
      ],
      "metadata": {
        "id": "yaxzkvK2iJ0L"
      }
    },
    {
      "cell_type": "markdown",
      "source": [
        "# Method 4 : Use of ensemble with undersampling"
      ],
      "metadata": {
        "id": "ueZTCVE2iQmM"
      }
    },
    {
      "cell_type": "code",
      "source": [
        "df2['Churn'].value_counts()"
      ],
      "metadata": {
        "colab": {
          "base_uri": "https://localhost:8080/"
        },
        "id": "BhVuXKvdhIQb",
        "outputId": "f923b60e-5e3b-4ba8-9d38-1ed0d561f425"
      },
      "execution_count": 299,
      "outputs": [
        {
          "output_type": "execute_result",
          "data": {
            "text/plain": [
              "0    5163\n",
              "1    1869\n",
              "Name: Churn, dtype: int64"
            ]
          },
          "metadata": {},
          "execution_count": 299
        }
      ]
    },
    {
      "cell_type": "code",
      "source": [
        "x=df2.drop('Churn', axis='columns')\n",
        "y=df2['Churn']"
      ],
      "metadata": {
        "id": "fI6opbAJicyL"
      },
      "execution_count": 300,
      "outputs": []
    },
    {
      "cell_type": "code",
      "source": [
        "X_train, X_test, y_train, y_test=train_test_split(x,y,test_size=0.2,random_state=15,stratify=y)"
      ],
      "metadata": {
        "id": "RGEIFEJVikcT"
      },
      "execution_count": 301,
      "outputs": []
    },
    {
      "cell_type": "code",
      "source": [
        "y_train.value_counts()"
      ],
      "metadata": {
        "colab": {
          "base_uri": "https://localhost:8080/"
        },
        "id": "Yp7gndXUiq-7",
        "outputId": "03b9a9d3-9dae-4a86-e637-04425b965c4d"
      },
      "execution_count": 302,
      "outputs": [
        {
          "output_type": "execute_result",
          "data": {
            "text/plain": [
              "0    4130\n",
              "1    1495\n",
              "Name: Churn, dtype: int64"
            ]
          },
          "metadata": {},
          "execution_count": 302
        }
      ]
    },
    {
      "cell_type": "code",
      "source": [
        "4130/3"
      ],
      "metadata": {
        "colab": {
          "base_uri": "https://localhost:8080/"
        },
        "id": "Rww864XJiu3b",
        "outputId": "88995ce6-0609-4b34-d755-648e6cf98c10"
      },
      "execution_count": 303,
      "outputs": [
        {
          "output_type": "execute_result",
          "data": {
            "text/plain": [
              "1376.6666666666667"
            ]
          },
          "metadata": {},
          "execution_count": 303
        }
      ]
    },
    {
      "cell_type": "code",
      "source": [
        "df3=X_train.copy()\n",
        "df3['Churn']=y_train"
      ],
      "metadata": {
        "id": "TzHZbi-Ai_RM"
      },
      "execution_count": 304,
      "outputs": []
    },
    {
      "cell_type": "code",
      "source": [
        "df3_class_0=df3[df3['Churn']==0]\n",
        "df3_class_1=df3[df3['Churn']==1]"
      ],
      "metadata": {
        "id": "8U9GuiPjjQLL"
      },
      "execution_count": 305,
      "outputs": []
    },
    {
      "cell_type": "code",
      "source": [
        "df3_class_0[:1495].shape"
      ],
      "metadata": {
        "colab": {
          "base_uri": "https://localhost:8080/"
        },
        "id": "hV_AckQvjcKT",
        "outputId": "fbc3274f-be4b-4a2f-e52f-03ef4510dd7f"
      },
      "execution_count": 306,
      "outputs": [
        {
          "output_type": "execute_result",
          "data": {
            "text/plain": [
              "(1495, 27)"
            ]
          },
          "metadata": {},
          "execution_count": 306
        }
      ]
    },
    {
      "cell_type": "code",
      "source": [
        "df_train=pd.concat([df3_class_0[:1495],df3_class_1],axis=0)"
      ],
      "metadata": {
        "id": "0NcgmNgjj6Y7"
      },
      "execution_count": 307,
      "outputs": []
    },
    {
      "cell_type": "code",
      "source": [
        "df_train.shape"
      ],
      "metadata": {
        "colab": {
          "base_uri": "https://localhost:8080/"
        },
        "id": "2KmJGnDGkeHE",
        "outputId": "fa56e5ef-0367-4a0b-b86a-24058872d6dc"
      },
      "execution_count": 308,
      "outputs": [
        {
          "output_type": "execute_result",
          "data": {
            "text/plain": [
              "(2990, 27)"
            ]
          },
          "metadata": {},
          "execution_count": 308
        }
      ]
    },
    {
      "cell_type": "code",
      "source": [
        "def get_train_batch(df_majority,df_minority,start,end):\n",
        "    df_train=pd.concat([df_majority[start:end],df_minority],axis=0)\n",
        "\n",
        "    X_train=df_train.drop('Churn',axis='columns')\n",
        "    y_train=df_train['Churn']\n",
        "\n",
        "    return X_train,y_train"
      ],
      "metadata": {
        "id": "1kaOtCmmkmb6"
      },
      "execution_count": 309,
      "outputs": []
    },
    {
      "cell_type": "code",
      "source": [
        "X_train,y_train=get_train_batch(df3_class_0,df3_class_1,0,1495)\n",
        "\n",
        "y_pred1=ANN(X_train,y_train,X_test,y_test,'binary_crossentropy',-1)"
      ],
      "metadata": {
        "colab": {
          "base_uri": "https://localhost:8080/"
        },
        "id": "Q7DknfQh01YA",
        "outputId": "b7e39be0-584a-452a-b44b-791501ffe0de"
      },
      "execution_count": 310,
      "outputs": [
        {
          "output_type": "stream",
          "name": "stdout",
          "text": [
            "Epoch 1/100\n",
            "94/94 [==============================] - 1s 3ms/step - loss: 0.5894 - accuracy: 0.7171\n",
            "Epoch 2/100\n",
            "94/94 [==============================] - 0s 3ms/step - loss: 0.5065 - accuracy: 0.7559\n",
            "Epoch 3/100\n",
            "94/94 [==============================] - 0s 3ms/step - loss: 0.4961 - accuracy: 0.7602\n",
            "Epoch 4/100\n",
            "94/94 [==============================] - 0s 3ms/step - loss: 0.4894 - accuracy: 0.7679\n",
            "Epoch 5/100\n",
            "94/94 [==============================] - 0s 3ms/step - loss: 0.4847 - accuracy: 0.7706\n",
            "Epoch 6/100\n",
            "94/94 [==============================] - 0s 3ms/step - loss: 0.4835 - accuracy: 0.7672\n",
            "Epoch 7/100\n",
            "94/94 [==============================] - 0s 3ms/step - loss: 0.4825 - accuracy: 0.7709\n",
            "Epoch 8/100\n",
            "94/94 [==============================] - 0s 3ms/step - loss: 0.4808 - accuracy: 0.7736\n",
            "Epoch 9/100\n",
            "94/94 [==============================] - 0s 3ms/step - loss: 0.4775 - accuracy: 0.7716\n",
            "Epoch 10/100\n",
            "94/94 [==============================] - 0s 3ms/step - loss: 0.4752 - accuracy: 0.7742\n",
            "Epoch 11/100\n",
            "94/94 [==============================] - 0s 3ms/step - loss: 0.4744 - accuracy: 0.7726\n",
            "Epoch 12/100\n",
            "94/94 [==============================] - 0s 3ms/step - loss: 0.4758 - accuracy: 0.7719\n",
            "Epoch 13/100\n",
            "94/94 [==============================] - 0s 3ms/step - loss: 0.4727 - accuracy: 0.7729\n",
            "Epoch 14/100\n",
            "94/94 [==============================] - 0s 3ms/step - loss: 0.4705 - accuracy: 0.7759\n",
            "Epoch 15/100\n",
            "94/94 [==============================] - 0s 3ms/step - loss: 0.4690 - accuracy: 0.7766\n",
            "Epoch 16/100\n",
            "94/94 [==============================] - 0s 3ms/step - loss: 0.4681 - accuracy: 0.7776\n",
            "Epoch 17/100\n",
            "94/94 [==============================] - 0s 3ms/step - loss: 0.4669 - accuracy: 0.7799\n",
            "Epoch 18/100\n",
            "94/94 [==============================] - 0s 3ms/step - loss: 0.4653 - accuracy: 0.7796\n",
            "Epoch 19/100\n",
            "94/94 [==============================] - 0s 3ms/step - loss: 0.4668 - accuracy: 0.7779\n",
            "Epoch 20/100\n",
            "94/94 [==============================] - 0s 3ms/step - loss: 0.4630 - accuracy: 0.7786\n",
            "Epoch 21/100\n",
            "94/94 [==============================] - 0s 3ms/step - loss: 0.4604 - accuracy: 0.7826\n",
            "Epoch 22/100\n",
            "94/94 [==============================] - 0s 3ms/step - loss: 0.4585 - accuracy: 0.7846\n",
            "Epoch 23/100\n",
            "94/94 [==============================] - 0s 3ms/step - loss: 0.4578 - accuracy: 0.7849\n",
            "Epoch 24/100\n",
            "94/94 [==============================] - 0s 3ms/step - loss: 0.4567 - accuracy: 0.7843\n",
            "Epoch 25/100\n",
            "94/94 [==============================] - 0s 3ms/step - loss: 0.4566 - accuracy: 0.7863\n",
            "Epoch 26/100\n",
            "94/94 [==============================] - 0s 3ms/step - loss: 0.4542 - accuracy: 0.7870\n",
            "Epoch 27/100\n",
            "94/94 [==============================] - 0s 3ms/step - loss: 0.4558 - accuracy: 0.7873\n",
            "Epoch 28/100\n",
            "94/94 [==============================] - 0s 3ms/step - loss: 0.4527 - accuracy: 0.7883\n",
            "Epoch 29/100\n",
            "94/94 [==============================] - 0s 3ms/step - loss: 0.4495 - accuracy: 0.7873\n",
            "Epoch 30/100\n",
            "94/94 [==============================] - 0s 3ms/step - loss: 0.4484 - accuracy: 0.7923\n",
            "Epoch 31/100\n",
            "94/94 [==============================] - 0s 3ms/step - loss: 0.4475 - accuracy: 0.7916\n",
            "Epoch 32/100\n",
            "94/94 [==============================] - 0s 3ms/step - loss: 0.4456 - accuracy: 0.7890\n",
            "Epoch 33/100\n",
            "94/94 [==============================] - 0s 3ms/step - loss: 0.4458 - accuracy: 0.7950\n",
            "Epoch 34/100\n",
            "94/94 [==============================] - 0s 3ms/step - loss: 0.4439 - accuracy: 0.7930\n",
            "Epoch 35/100\n",
            "94/94 [==============================] - 0s 3ms/step - loss: 0.4424 - accuracy: 0.7950\n",
            "Epoch 36/100\n",
            "94/94 [==============================] - 0s 3ms/step - loss: 0.4429 - accuracy: 0.7920\n",
            "Epoch 37/100\n",
            "94/94 [==============================] - 0s 3ms/step - loss: 0.4401 - accuracy: 0.7960\n",
            "Epoch 38/100\n",
            "94/94 [==============================] - 0s 3ms/step - loss: 0.4397 - accuracy: 0.7940\n",
            "Epoch 39/100\n",
            "94/94 [==============================] - 0s 3ms/step - loss: 0.4380 - accuracy: 0.7950\n",
            "Epoch 40/100\n",
            "94/94 [==============================] - 0s 3ms/step - loss: 0.4355 - accuracy: 0.7987\n",
            "Epoch 41/100\n",
            "94/94 [==============================] - 0s 3ms/step - loss: 0.4359 - accuracy: 0.7980\n",
            "Epoch 42/100\n",
            "94/94 [==============================] - 0s 3ms/step - loss: 0.4339 - accuracy: 0.7963\n",
            "Epoch 43/100\n",
            "94/94 [==============================] - 0s 3ms/step - loss: 0.4329 - accuracy: 0.7980\n",
            "Epoch 44/100\n",
            "94/94 [==============================] - 0s 3ms/step - loss: 0.4321 - accuracy: 0.8007\n",
            "Epoch 45/100\n",
            "94/94 [==============================] - 0s 3ms/step - loss: 0.4310 - accuracy: 0.8013\n",
            "Epoch 46/100\n",
            "94/94 [==============================] - 0s 3ms/step - loss: 0.4310 - accuracy: 0.8037\n",
            "Epoch 47/100\n",
            "94/94 [==============================] - 0s 3ms/step - loss: 0.4302 - accuracy: 0.8033\n",
            "Epoch 48/100\n",
            "94/94 [==============================] - 0s 3ms/step - loss: 0.4280 - accuracy: 0.7993\n",
            "Epoch 49/100\n",
            "94/94 [==============================] - 0s 3ms/step - loss: 0.4283 - accuracy: 0.8010\n",
            "Epoch 50/100\n",
            "94/94 [==============================] - 0s 3ms/step - loss: 0.4257 - accuracy: 0.8017\n",
            "Epoch 51/100\n",
            "94/94 [==============================] - 0s 3ms/step - loss: 0.4240 - accuracy: 0.8054\n",
            "Epoch 52/100\n",
            "94/94 [==============================] - 0s 3ms/step - loss: 0.4264 - accuracy: 0.8017\n",
            "Epoch 53/100\n",
            "94/94 [==============================] - 0s 3ms/step - loss: 0.4243 - accuracy: 0.8037\n",
            "Epoch 54/100\n",
            "94/94 [==============================] - 0s 3ms/step - loss: 0.4216 - accuracy: 0.8054\n",
            "Epoch 55/100\n",
            "94/94 [==============================] - 0s 3ms/step - loss: 0.4215 - accuracy: 0.8090\n",
            "Epoch 56/100\n",
            "94/94 [==============================] - 0s 3ms/step - loss: 0.4220 - accuracy: 0.8074\n",
            "Epoch 57/100\n",
            "94/94 [==============================] - 0s 3ms/step - loss: 0.4202 - accuracy: 0.8090\n",
            "Epoch 58/100\n",
            "94/94 [==============================] - 0s 3ms/step - loss: 0.4192 - accuracy: 0.8087\n",
            "Epoch 59/100\n",
            "94/94 [==============================] - 0s 3ms/step - loss: 0.4174 - accuracy: 0.8077\n",
            "Epoch 60/100\n",
            "94/94 [==============================] - 0s 3ms/step - loss: 0.4183 - accuracy: 0.8064\n",
            "Epoch 61/100\n",
            "94/94 [==============================] - 0s 3ms/step - loss: 0.4159 - accuracy: 0.8074\n",
            "Epoch 62/100\n",
            "94/94 [==============================] - 0s 3ms/step - loss: 0.4164 - accuracy: 0.8097\n",
            "Epoch 63/100\n",
            "94/94 [==============================] - 0s 3ms/step - loss: 0.4164 - accuracy: 0.8057\n",
            "Epoch 64/100\n",
            "94/94 [==============================] - 0s 3ms/step - loss: 0.4144 - accuracy: 0.8094\n",
            "Epoch 65/100\n",
            "94/94 [==============================] - 0s 3ms/step - loss: 0.4126 - accuracy: 0.8104\n",
            "Epoch 66/100\n",
            "94/94 [==============================] - 0s 3ms/step - loss: 0.4128 - accuracy: 0.8110\n",
            "Epoch 67/100\n",
            "94/94 [==============================] - 0s 3ms/step - loss: 0.4119 - accuracy: 0.8070\n",
            "Epoch 68/100\n",
            "94/94 [==============================] - 0s 3ms/step - loss: 0.4115 - accuracy: 0.8084\n",
            "Epoch 69/100\n",
            "94/94 [==============================] - 0s 3ms/step - loss: 0.4100 - accuracy: 0.8157\n",
            "Epoch 70/100\n",
            "94/94 [==============================] - 0s 3ms/step - loss: 0.4082 - accuracy: 0.8137\n",
            "Epoch 71/100\n",
            "94/94 [==============================] - 0s 3ms/step - loss: 0.4094 - accuracy: 0.8124\n",
            "Epoch 72/100\n",
            "94/94 [==============================] - 0s 3ms/step - loss: 0.4074 - accuracy: 0.8164\n",
            "Epoch 73/100\n",
            "94/94 [==============================] - 0s 3ms/step - loss: 0.4067 - accuracy: 0.8174\n",
            "Epoch 74/100\n",
            "94/94 [==============================] - 0s 3ms/step - loss: 0.4064 - accuracy: 0.8197\n",
            "Epoch 75/100\n",
            "94/94 [==============================] - 0s 3ms/step - loss: 0.4033 - accuracy: 0.8187\n",
            "Epoch 76/100\n",
            "94/94 [==============================] - 0s 3ms/step - loss: 0.4037 - accuracy: 0.8161\n",
            "Epoch 77/100\n",
            "94/94 [==============================] - 0s 3ms/step - loss: 0.4024 - accuracy: 0.8204\n",
            "Epoch 78/100\n",
            "94/94 [==============================] - 0s 3ms/step - loss: 0.4020 - accuracy: 0.8161\n",
            "Epoch 79/100\n",
            "94/94 [==============================] - 0s 3ms/step - loss: 0.4044 - accuracy: 0.8120\n",
            "Epoch 80/100\n",
            "94/94 [==============================] - 0s 3ms/step - loss: 0.3999 - accuracy: 0.8191\n",
            "Epoch 81/100\n",
            "94/94 [==============================] - 0s 3ms/step - loss: 0.4003 - accuracy: 0.8184\n",
            "Epoch 82/100\n",
            "94/94 [==============================] - 0s 3ms/step - loss: 0.3973 - accuracy: 0.8201\n",
            "Epoch 83/100\n",
            "94/94 [==============================] - 0s 3ms/step - loss: 0.3963 - accuracy: 0.8251\n",
            "Epoch 84/100\n",
            "94/94 [==============================] - 0s 3ms/step - loss: 0.3964 - accuracy: 0.8221\n",
            "Epoch 85/100\n",
            "94/94 [==============================] - 0s 3ms/step - loss: 0.3954 - accuracy: 0.8211\n",
            "Epoch 86/100\n",
            "94/94 [==============================] - 0s 3ms/step - loss: 0.3941 - accuracy: 0.8231\n",
            "Epoch 87/100\n",
            "94/94 [==============================] - 0s 3ms/step - loss: 0.3966 - accuracy: 0.8221\n",
            "Epoch 88/100\n",
            "94/94 [==============================] - 0s 3ms/step - loss: 0.3914 - accuracy: 0.8237\n",
            "Epoch 89/100\n",
            "94/94 [==============================] - 0s 3ms/step - loss: 0.3951 - accuracy: 0.8217\n",
            "Epoch 90/100\n",
            "94/94 [==============================] - 0s 3ms/step - loss: 0.3923 - accuracy: 0.8247\n",
            "Epoch 91/100\n",
            "94/94 [==============================] - 0s 3ms/step - loss: 0.3899 - accuracy: 0.8201\n",
            "Epoch 92/100\n",
            "94/94 [==============================] - 0s 3ms/step - loss: 0.3909 - accuracy: 0.8207\n",
            "Epoch 93/100\n",
            "94/94 [==============================] - 0s 3ms/step - loss: 0.3898 - accuracy: 0.8224\n",
            "Epoch 94/100\n",
            "94/94 [==============================] - 0s 3ms/step - loss: 0.3879 - accuracy: 0.8247\n",
            "Epoch 95/100\n",
            "94/94 [==============================] - 0s 3ms/step - loss: 0.3890 - accuracy: 0.8197\n",
            "Epoch 96/100\n",
            "94/94 [==============================] - 0s 3ms/step - loss: 0.3861 - accuracy: 0.8261\n",
            "Epoch 97/100\n",
            "94/94 [==============================] - 0s 3ms/step - loss: 0.3864 - accuracy: 0.8214\n",
            "Epoch 98/100\n",
            "94/94 [==============================] - 0s 3ms/step - loss: 0.3866 - accuracy: 0.8261\n",
            "Epoch 99/100\n",
            "94/94 [==============================] - 0s 3ms/step - loss: 0.3851 - accuracy: 0.8294\n",
            "Epoch 100/100\n",
            "94/94 [==============================] - 0s 3ms/step - loss: 0.3842 - accuracy: 0.8271\n",
            "44/44 [==============================] - 0s 2ms/step - loss: 0.5718 - accuracy: 0.7278\n",
            "[0.5717936754226685, 0.7277896404266357]\n",
            "Classification Report: \n",
            "               precision    recall  f1-score   support\n",
            "\n",
            "           0       0.89      0.72      0.80      1033\n",
            "           1       0.49      0.74      0.59       374\n",
            "\n",
            "    accuracy                           0.73      1407\n",
            "   macro avg       0.69      0.73      0.69      1407\n",
            "weighted avg       0.78      0.73      0.74      1407\n",
            "\n"
          ]
        }
      ]
    },
    {
      "cell_type": "code",
      "source": [
        "X_train,y_train=get_train_batch(df3_class_0,df3_class_1,1495,2990)\n",
        "\n",
        "y_pred2=ANN(X_train,y_train,X_test,y_test,'binary_crossentropy',-1)"
      ],
      "metadata": {
        "colab": {
          "base_uri": "https://localhost:8080/"
        },
        "id": "900jo_wy64l9",
        "outputId": "15686050-5cb1-4323-bf45-f9540f2a0543"
      },
      "execution_count": 311,
      "outputs": [
        {
          "output_type": "stream",
          "name": "stdout",
          "text": [
            "Epoch 1/100\n",
            "94/94 [==============================] - 1s 3ms/step - loss: 0.6635 - accuracy: 0.6087\n",
            "Epoch 2/100\n",
            "94/94 [==============================] - 0s 3ms/step - loss: 0.5643 - accuracy: 0.7298\n",
            "Epoch 3/100\n",
            "94/94 [==============================] - 0s 3ms/step - loss: 0.5176 - accuracy: 0.7441\n",
            "Epoch 4/100\n",
            "94/94 [==============================] - 0s 3ms/step - loss: 0.4982 - accuracy: 0.7548\n",
            "Epoch 5/100\n",
            "94/94 [==============================] - 0s 3ms/step - loss: 0.4903 - accuracy: 0.7599\n",
            "Epoch 6/100\n",
            "94/94 [==============================] - 0s 3ms/step - loss: 0.4840 - accuracy: 0.7672\n",
            "Epoch 7/100\n",
            "94/94 [==============================] - 0s 3ms/step - loss: 0.4786 - accuracy: 0.7666\n",
            "Epoch 8/100\n",
            "94/94 [==============================] - 0s 3ms/step - loss: 0.4757 - accuracy: 0.7696\n",
            "Epoch 9/100\n",
            "94/94 [==============================] - 0s 3ms/step - loss: 0.4736 - accuracy: 0.7682\n",
            "Epoch 10/100\n",
            "94/94 [==============================] - 0s 3ms/step - loss: 0.4703 - accuracy: 0.7712\n",
            "Epoch 11/100\n",
            "94/94 [==============================] - 0s 3ms/step - loss: 0.4683 - accuracy: 0.7722\n",
            "Epoch 12/100\n",
            "94/94 [==============================] - 0s 3ms/step - loss: 0.4653 - accuracy: 0.7759\n",
            "Epoch 13/100\n",
            "94/94 [==============================] - 0s 3ms/step - loss: 0.4655 - accuracy: 0.7749\n",
            "Epoch 14/100\n",
            "94/94 [==============================] - 0s 3ms/step - loss: 0.4623 - accuracy: 0.7769\n",
            "Epoch 15/100\n",
            "94/94 [==============================] - 0s 3ms/step - loss: 0.4619 - accuracy: 0.7796\n",
            "Epoch 16/100\n",
            "94/94 [==============================] - 0s 3ms/step - loss: 0.4582 - accuracy: 0.7799\n",
            "Epoch 17/100\n",
            "94/94 [==============================] - 0s 3ms/step - loss: 0.4570 - accuracy: 0.7806\n",
            "Epoch 18/100\n",
            "94/94 [==============================] - 0s 3ms/step - loss: 0.4562 - accuracy: 0.7769\n",
            "Epoch 19/100\n",
            "94/94 [==============================] - 0s 3ms/step - loss: 0.4538 - accuracy: 0.7843\n",
            "Epoch 20/100\n",
            "94/94 [==============================] - 0s 3ms/step - loss: 0.4518 - accuracy: 0.7846\n",
            "Epoch 21/100\n",
            "94/94 [==============================] - 0s 3ms/step - loss: 0.4508 - accuracy: 0.7829\n",
            "Epoch 22/100\n",
            "94/94 [==============================] - 0s 3ms/step - loss: 0.4502 - accuracy: 0.7866\n",
            "Epoch 23/100\n",
            "94/94 [==============================] - 0s 3ms/step - loss: 0.4491 - accuracy: 0.7853\n",
            "Epoch 24/100\n",
            "94/94 [==============================] - 0s 3ms/step - loss: 0.4472 - accuracy: 0.7866\n",
            "Epoch 25/100\n",
            "94/94 [==============================] - 0s 3ms/step - loss: 0.4452 - accuracy: 0.7883\n",
            "Epoch 26/100\n",
            "94/94 [==============================] - 0s 3ms/step - loss: 0.4444 - accuracy: 0.7893\n",
            "Epoch 27/100\n",
            "94/94 [==============================] - 0s 3ms/step - loss: 0.4439 - accuracy: 0.7900\n",
            "Epoch 28/100\n",
            "94/94 [==============================] - 0s 3ms/step - loss: 0.4414 - accuracy: 0.7863\n",
            "Epoch 29/100\n",
            "94/94 [==============================] - 0s 3ms/step - loss: 0.4422 - accuracy: 0.7890\n",
            "Epoch 30/100\n",
            "94/94 [==============================] - 0s 3ms/step - loss: 0.4411 - accuracy: 0.7863\n",
            "Epoch 31/100\n",
            "94/94 [==============================] - 0s 3ms/step - loss: 0.4386 - accuracy: 0.7903\n",
            "Epoch 32/100\n",
            "94/94 [==============================] - 0s 3ms/step - loss: 0.4371 - accuracy: 0.7936\n",
            "Epoch 33/100\n",
            "94/94 [==============================] - 0s 3ms/step - loss: 0.4364 - accuracy: 0.7926\n",
            "Epoch 34/100\n",
            "94/94 [==============================] - 0s 3ms/step - loss: 0.4373 - accuracy: 0.7933\n",
            "Epoch 35/100\n",
            "94/94 [==============================] - 0s 3ms/step - loss: 0.4348 - accuracy: 0.7940\n",
            "Epoch 36/100\n",
            "94/94 [==============================] - 0s 3ms/step - loss: 0.4332 - accuracy: 0.7973\n",
            "Epoch 37/100\n",
            "94/94 [==============================] - 0s 3ms/step - loss: 0.4310 - accuracy: 0.7963\n",
            "Epoch 38/100\n",
            "94/94 [==============================] - 0s 3ms/step - loss: 0.4295 - accuracy: 0.7987\n",
            "Epoch 39/100\n",
            "94/94 [==============================] - 0s 3ms/step - loss: 0.4298 - accuracy: 0.8023\n",
            "Epoch 40/100\n",
            "94/94 [==============================] - 0s 3ms/step - loss: 0.4276 - accuracy: 0.7987\n",
            "Epoch 41/100\n",
            "94/94 [==============================] - 0s 3ms/step - loss: 0.4278 - accuracy: 0.7980\n",
            "Epoch 42/100\n",
            "94/94 [==============================] - 0s 3ms/step - loss: 0.4261 - accuracy: 0.8023\n",
            "Epoch 43/100\n",
            "94/94 [==============================] - 0s 3ms/step - loss: 0.4241 - accuracy: 0.8067\n",
            "Epoch 44/100\n",
            "94/94 [==============================] - 0s 3ms/step - loss: 0.4237 - accuracy: 0.7980\n",
            "Epoch 45/100\n",
            "94/94 [==============================] - 0s 3ms/step - loss: 0.4229 - accuracy: 0.8027\n",
            "Epoch 46/100\n",
            "94/94 [==============================] - 0s 3ms/step - loss: 0.4199 - accuracy: 0.8037\n",
            "Epoch 47/100\n",
            "94/94 [==============================] - 0s 3ms/step - loss: 0.4212 - accuracy: 0.8023\n",
            "Epoch 48/100\n",
            "94/94 [==============================] - 0s 3ms/step - loss: 0.4198 - accuracy: 0.8010\n",
            "Epoch 49/100\n",
            "94/94 [==============================] - 0s 3ms/step - loss: 0.4190 - accuracy: 0.8033\n",
            "Epoch 50/100\n",
            "94/94 [==============================] - 0s 3ms/step - loss: 0.4169 - accuracy: 0.8080\n",
            "Epoch 51/100\n",
            "94/94 [==============================] - 0s 3ms/step - loss: 0.4168 - accuracy: 0.8094\n",
            "Epoch 52/100\n",
            "94/94 [==============================] - 0s 3ms/step - loss: 0.4185 - accuracy: 0.8043\n",
            "Epoch 53/100\n",
            "94/94 [==============================] - 0s 3ms/step - loss: 0.4159 - accuracy: 0.8037\n",
            "Epoch 54/100\n",
            "94/94 [==============================] - 0s 3ms/step - loss: 0.4140 - accuracy: 0.8140\n",
            "Epoch 55/100\n",
            "94/94 [==============================] - 0s 3ms/step - loss: 0.4123 - accuracy: 0.8060\n",
            "Epoch 56/100\n",
            "94/94 [==============================] - 0s 3ms/step - loss: 0.4115 - accuracy: 0.8117\n",
            "Epoch 57/100\n",
            "94/94 [==============================] - 0s 3ms/step - loss: 0.4108 - accuracy: 0.8110\n",
            "Epoch 58/100\n",
            "94/94 [==============================] - 0s 3ms/step - loss: 0.4106 - accuracy: 0.8104\n",
            "Epoch 59/100\n",
            "94/94 [==============================] - 0s 3ms/step - loss: 0.4091 - accuracy: 0.8104\n",
            "Epoch 60/100\n",
            "94/94 [==============================] - 0s 3ms/step - loss: 0.4108 - accuracy: 0.8067\n",
            "Epoch 61/100\n",
            "94/94 [==============================] - 0s 3ms/step - loss: 0.4058 - accuracy: 0.8127\n",
            "Epoch 62/100\n",
            "94/94 [==============================] - 0s 3ms/step - loss: 0.4077 - accuracy: 0.8114\n",
            "Epoch 63/100\n",
            "94/94 [==============================] - 0s 3ms/step - loss: 0.4064 - accuracy: 0.8124\n",
            "Epoch 64/100\n",
            "94/94 [==============================] - 0s 3ms/step - loss: 0.4078 - accuracy: 0.8110\n",
            "Epoch 65/100\n",
            "94/94 [==============================] - 0s 3ms/step - loss: 0.4046 - accuracy: 0.8087\n",
            "Epoch 66/100\n",
            "94/94 [==============================] - 0s 3ms/step - loss: 0.4042 - accuracy: 0.8137\n",
            "Epoch 67/100\n",
            "94/94 [==============================] - 0s 3ms/step - loss: 0.4034 - accuracy: 0.8137\n",
            "Epoch 68/100\n",
            "94/94 [==============================] - 0s 3ms/step - loss: 0.4012 - accuracy: 0.8114\n",
            "Epoch 69/100\n",
            "94/94 [==============================] - 0s 3ms/step - loss: 0.4005 - accuracy: 0.8117\n",
            "Epoch 70/100\n",
            "94/94 [==============================] - 0s 3ms/step - loss: 0.3998 - accuracy: 0.8164\n",
            "Epoch 71/100\n",
            "94/94 [==============================] - 0s 4ms/step - loss: 0.4006 - accuracy: 0.8124\n",
            "Epoch 72/100\n",
            "94/94 [==============================] - 0s 4ms/step - loss: 0.3996 - accuracy: 0.8120\n",
            "Epoch 73/100\n",
            "94/94 [==============================] - 0s 4ms/step - loss: 0.3998 - accuracy: 0.8151\n",
            "Epoch 74/100\n",
            "94/94 [==============================] - 0s 4ms/step - loss: 0.4023 - accuracy: 0.8060\n",
            "Epoch 75/100\n",
            "94/94 [==============================] - 0s 4ms/step - loss: 0.3960 - accuracy: 0.8137\n",
            "Epoch 76/100\n",
            "94/94 [==============================] - 0s 3ms/step - loss: 0.3966 - accuracy: 0.8140\n",
            "Epoch 77/100\n",
            "94/94 [==============================] - 0s 3ms/step - loss: 0.3972 - accuracy: 0.8120\n",
            "Epoch 78/100\n",
            "94/94 [==============================] - 0s 3ms/step - loss: 0.3963 - accuracy: 0.8167\n",
            "Epoch 79/100\n",
            "94/94 [==============================] - 0s 3ms/step - loss: 0.3947 - accuracy: 0.8144\n",
            "Epoch 80/100\n",
            "94/94 [==============================] - 0s 3ms/step - loss: 0.3943 - accuracy: 0.8140\n",
            "Epoch 81/100\n",
            "94/94 [==============================] - 0s 3ms/step - loss: 0.3940 - accuracy: 0.8184\n",
            "Epoch 82/100\n",
            "94/94 [==============================] - 0s 3ms/step - loss: 0.3941 - accuracy: 0.8147\n",
            "Epoch 83/100\n",
            "94/94 [==============================] - 0s 3ms/step - loss: 0.3915 - accuracy: 0.8191\n",
            "Epoch 84/100\n",
            "94/94 [==============================] - 0s 3ms/step - loss: 0.3933 - accuracy: 0.8130\n",
            "Epoch 85/100\n",
            "94/94 [==============================] - 0s 3ms/step - loss: 0.3909 - accuracy: 0.8171\n",
            "Epoch 86/100\n",
            "94/94 [==============================] - 0s 3ms/step - loss: 0.3918 - accuracy: 0.8187\n",
            "Epoch 87/100\n",
            "94/94 [==============================] - 0s 3ms/step - loss: 0.3901 - accuracy: 0.8167\n",
            "Epoch 88/100\n",
            "94/94 [==============================] - 0s 3ms/step - loss: 0.3894 - accuracy: 0.8204\n",
            "Epoch 89/100\n",
            "94/94 [==============================] - 0s 3ms/step - loss: 0.3898 - accuracy: 0.8194\n",
            "Epoch 90/100\n",
            "94/94 [==============================] - 0s 3ms/step - loss: 0.3876 - accuracy: 0.8194\n",
            "Epoch 91/100\n",
            "94/94 [==============================] - 0s 3ms/step - loss: 0.3870 - accuracy: 0.8204\n",
            "Epoch 92/100\n",
            "94/94 [==============================] - 0s 3ms/step - loss: 0.3885 - accuracy: 0.8187\n",
            "Epoch 93/100\n",
            "94/94 [==============================] - 0s 3ms/step - loss: 0.3868 - accuracy: 0.8194\n",
            "Epoch 94/100\n",
            "94/94 [==============================] - 0s 3ms/step - loss: 0.3849 - accuracy: 0.8184\n",
            "Epoch 95/100\n",
            "94/94 [==============================] - 0s 3ms/step - loss: 0.3844 - accuracy: 0.8241\n",
            "Epoch 96/100\n",
            "94/94 [==============================] - 0s 3ms/step - loss: 0.3881 - accuracy: 0.8194\n",
            "Epoch 97/100\n",
            "94/94 [==============================] - 0s 3ms/step - loss: 0.3879 - accuracy: 0.8184\n",
            "Epoch 98/100\n",
            "94/94 [==============================] - 0s 3ms/step - loss: 0.3839 - accuracy: 0.8227\n",
            "Epoch 99/100\n",
            "94/94 [==============================] - 0s 3ms/step - loss: 0.3817 - accuracy: 0.8181\n",
            "Epoch 100/100\n",
            "94/94 [==============================] - 0s 3ms/step - loss: 0.3828 - accuracy: 0.8231\n",
            "44/44 [==============================] - 0s 2ms/step - loss: 0.6059 - accuracy: 0.6944\n",
            "[0.605879545211792, 0.6943852305412292]\n",
            "Classification Report: \n",
            "               precision    recall  f1-score   support\n",
            "\n",
            "           0       0.87      0.68      0.77      1033\n",
            "           1       0.45      0.73      0.56       374\n",
            "\n",
            "    accuracy                           0.69      1407\n",
            "   macro avg       0.66      0.70      0.66      1407\n",
            "weighted avg       0.76      0.69      0.71      1407\n",
            "\n"
          ]
        }
      ]
    },
    {
      "cell_type": "code",
      "source": [
        "X_train,y_train=get_train_batch(df3_class_0,df3_class_1,2990,4130)\n",
        "\n",
        "y_pred3=ANN(X_train,y_train,X_test,y_test,'binary_crossentropy',-1)"
      ],
      "metadata": {
        "colab": {
          "base_uri": "https://localhost:8080/"
        },
        "id": "zw5CEVIsBQU_",
        "outputId": "8deebe45-99a4-42bc-915f-f04940252b50"
      },
      "execution_count": 312,
      "outputs": [
        {
          "output_type": "stream",
          "name": "stdout",
          "text": [
            "Epoch 1/100\n",
            "83/83 [==============================] - 1s 3ms/step - loss: 0.6335 - accuracy: 0.6717\n",
            "Epoch 2/100\n",
            "83/83 [==============================] - 0s 3ms/step - loss: 0.5225 - accuracy: 0.7602\n",
            "Epoch 3/100\n",
            "83/83 [==============================] - 0s 3ms/step - loss: 0.4931 - accuracy: 0.7628\n",
            "Epoch 4/100\n",
            "83/83 [==============================] - 0s 3ms/step - loss: 0.4842 - accuracy: 0.7715\n",
            "Epoch 5/100\n",
            "83/83 [==============================] - 0s 3ms/step - loss: 0.4797 - accuracy: 0.7689\n",
            "Epoch 6/100\n",
            "83/83 [==============================] - 0s 3ms/step - loss: 0.4765 - accuracy: 0.7731\n",
            "Epoch 7/100\n",
            "83/83 [==============================] - 0s 3ms/step - loss: 0.4722 - accuracy: 0.7799\n",
            "Epoch 8/100\n",
            "83/83 [==============================] - 0s 3ms/step - loss: 0.4696 - accuracy: 0.7791\n",
            "Epoch 9/100\n",
            "83/83 [==============================] - 0s 3ms/step - loss: 0.4686 - accuracy: 0.7776\n",
            "Epoch 10/100\n",
            "83/83 [==============================] - 0s 3ms/step - loss: 0.4667 - accuracy: 0.7791\n",
            "Epoch 11/100\n",
            "83/83 [==============================] - 0s 3ms/step - loss: 0.4647 - accuracy: 0.7841\n",
            "Epoch 12/100\n",
            "83/83 [==============================] - 0s 3ms/step - loss: 0.4624 - accuracy: 0.7795\n",
            "Epoch 13/100\n",
            "83/83 [==============================] - 0s 3ms/step - loss: 0.4614 - accuracy: 0.7860\n",
            "Epoch 14/100\n",
            "83/83 [==============================] - 0s 3ms/step - loss: 0.4589 - accuracy: 0.7848\n",
            "Epoch 15/100\n",
            "83/83 [==============================] - 0s 3ms/step - loss: 0.4582 - accuracy: 0.7825\n",
            "Epoch 16/100\n",
            "83/83 [==============================] - 0s 3ms/step - loss: 0.4559 - accuracy: 0.7848\n",
            "Epoch 17/100\n",
            "83/83 [==============================] - 0s 3ms/step - loss: 0.4552 - accuracy: 0.7833\n",
            "Epoch 18/100\n",
            "83/83 [==============================] - 0s 3ms/step - loss: 0.4538 - accuracy: 0.7913\n",
            "Epoch 19/100\n",
            "83/83 [==============================] - 0s 3ms/step - loss: 0.4521 - accuracy: 0.7894\n",
            "Epoch 20/100\n",
            "83/83 [==============================] - 0s 3ms/step - loss: 0.4508 - accuracy: 0.7924\n",
            "Epoch 21/100\n",
            "83/83 [==============================] - 0s 3ms/step - loss: 0.4496 - accuracy: 0.7917\n",
            "Epoch 22/100\n",
            "83/83 [==============================] - 0s 3ms/step - loss: 0.4496 - accuracy: 0.7898\n",
            "Epoch 23/100\n",
            "83/83 [==============================] - 0s 3ms/step - loss: 0.4466 - accuracy: 0.7958\n",
            "Epoch 24/100\n",
            "83/83 [==============================] - 0s 3ms/step - loss: 0.4453 - accuracy: 0.7939\n",
            "Epoch 25/100\n",
            "83/83 [==============================] - 0s 3ms/step - loss: 0.4431 - accuracy: 0.7985\n",
            "Epoch 26/100\n",
            "83/83 [==============================] - 0s 3ms/step - loss: 0.4430 - accuracy: 0.7966\n",
            "Epoch 27/100\n",
            "83/83 [==============================] - 0s 3ms/step - loss: 0.4420 - accuracy: 0.7992\n",
            "Epoch 28/100\n",
            "83/83 [==============================] - 0s 3ms/step - loss: 0.4399 - accuracy: 0.7962\n",
            "Epoch 29/100\n",
            "83/83 [==============================] - 0s 3ms/step - loss: 0.4372 - accuracy: 0.7985\n",
            "Epoch 30/100\n",
            "83/83 [==============================] - 0s 3ms/step - loss: 0.4365 - accuracy: 0.8015\n",
            "Epoch 31/100\n",
            "83/83 [==============================] - 0s 3ms/step - loss: 0.4358 - accuracy: 0.8008\n",
            "Epoch 32/100\n",
            "83/83 [==============================] - 0s 3ms/step - loss: 0.4348 - accuracy: 0.8008\n",
            "Epoch 33/100\n",
            "83/83 [==============================] - 0s 3ms/step - loss: 0.4328 - accuracy: 0.7954\n",
            "Epoch 34/100\n",
            "83/83 [==============================] - 0s 3ms/step - loss: 0.4349 - accuracy: 0.8030\n",
            "Epoch 35/100\n",
            "83/83 [==============================] - 0s 3ms/step - loss: 0.4339 - accuracy: 0.7970\n",
            "Epoch 36/100\n",
            "83/83 [==============================] - 0s 3ms/step - loss: 0.4319 - accuracy: 0.8046\n",
            "Epoch 37/100\n",
            "83/83 [==============================] - 0s 3ms/step - loss: 0.4305 - accuracy: 0.8049\n",
            "Epoch 38/100\n",
            "83/83 [==============================] - 0s 3ms/step - loss: 0.4301 - accuracy: 0.7992\n",
            "Epoch 39/100\n",
            "83/83 [==============================] - 0s 3ms/step - loss: 0.4267 - accuracy: 0.8068\n",
            "Epoch 40/100\n",
            "83/83 [==============================] - 0s 3ms/step - loss: 0.4279 - accuracy: 0.7973\n",
            "Epoch 41/100\n",
            "83/83 [==============================] - 0s 3ms/step - loss: 0.4268 - accuracy: 0.8042\n",
            "Epoch 42/100\n",
            "83/83 [==============================] - 0s 3ms/step - loss: 0.4251 - accuracy: 0.8065\n",
            "Epoch 43/100\n",
            "83/83 [==============================] - 0s 3ms/step - loss: 0.4244 - accuracy: 0.8061\n",
            "Epoch 44/100\n",
            "83/83 [==============================] - 0s 3ms/step - loss: 0.4228 - accuracy: 0.8053\n",
            "Epoch 45/100\n",
            "83/83 [==============================] - 0s 3ms/step - loss: 0.4216 - accuracy: 0.8049\n",
            "Epoch 46/100\n",
            "83/83 [==============================] - 0s 3ms/step - loss: 0.4208 - accuracy: 0.8049\n",
            "Epoch 47/100\n",
            "83/83 [==============================] - 0s 3ms/step - loss: 0.4204 - accuracy: 0.8046\n",
            "Epoch 48/100\n",
            "83/83 [==============================] - 0s 3ms/step - loss: 0.4197 - accuracy: 0.8072\n",
            "Epoch 49/100\n",
            "83/83 [==============================] - 0s 3ms/step - loss: 0.4195 - accuracy: 0.8102\n",
            "Epoch 50/100\n",
            "83/83 [==============================] - 0s 3ms/step - loss: 0.4170 - accuracy: 0.8072\n",
            "Epoch 51/100\n",
            "83/83 [==============================] - 0s 3ms/step - loss: 0.4168 - accuracy: 0.8099\n",
            "Epoch 52/100\n",
            "83/83 [==============================] - 0s 3ms/step - loss: 0.4163 - accuracy: 0.8140\n",
            "Epoch 53/100\n",
            "83/83 [==============================] - 0s 3ms/step - loss: 0.4149 - accuracy: 0.8099\n",
            "Epoch 54/100\n",
            "83/83 [==============================] - 0s 3ms/step - loss: 0.4136 - accuracy: 0.8080\n",
            "Epoch 55/100\n",
            "83/83 [==============================] - 0s 3ms/step - loss: 0.4132 - accuracy: 0.8102\n",
            "Epoch 56/100\n",
            "83/83 [==============================] - 0s 3ms/step - loss: 0.4125 - accuracy: 0.8110\n",
            "Epoch 57/100\n",
            "83/83 [==============================] - 0s 3ms/step - loss: 0.4114 - accuracy: 0.8121\n",
            "Epoch 58/100\n",
            "83/83 [==============================] - 0s 3ms/step - loss: 0.4109 - accuracy: 0.8129\n",
            "Epoch 59/100\n",
            "83/83 [==============================] - 0s 3ms/step - loss: 0.4105 - accuracy: 0.8087\n",
            "Epoch 60/100\n",
            "83/83 [==============================] - 0s 3ms/step - loss: 0.4100 - accuracy: 0.8080\n",
            "Epoch 61/100\n",
            "83/83 [==============================] - 0s 3ms/step - loss: 0.4068 - accuracy: 0.8125\n",
            "Epoch 62/100\n",
            "83/83 [==============================] - 0s 3ms/step - loss: 0.4069 - accuracy: 0.8099\n",
            "Epoch 63/100\n",
            "83/83 [==============================] - 0s 3ms/step - loss: 0.4059 - accuracy: 0.8095\n",
            "Epoch 64/100\n",
            "83/83 [==============================] - 0s 3ms/step - loss: 0.4048 - accuracy: 0.8102\n",
            "Epoch 65/100\n",
            "83/83 [==============================] - 0s 3ms/step - loss: 0.4043 - accuracy: 0.8156\n",
            "Epoch 66/100\n",
            "83/83 [==============================] - 0s 3ms/step - loss: 0.4055 - accuracy: 0.8106\n",
            "Epoch 67/100\n",
            "83/83 [==============================] - 0s 3ms/step - loss: 0.4036 - accuracy: 0.8091\n",
            "Epoch 68/100\n",
            "83/83 [==============================] - 0s 3ms/step - loss: 0.4037 - accuracy: 0.8178\n",
            "Epoch 69/100\n",
            "83/83 [==============================] - 0s 3ms/step - loss: 0.4009 - accuracy: 0.8140\n",
            "Epoch 70/100\n",
            "83/83 [==============================] - 0s 3ms/step - loss: 0.4011 - accuracy: 0.8148\n",
            "Epoch 71/100\n",
            "83/83 [==============================] - 0s 3ms/step - loss: 0.3986 - accuracy: 0.8167\n",
            "Epoch 72/100\n",
            "83/83 [==============================] - 0s 3ms/step - loss: 0.3988 - accuracy: 0.8163\n",
            "Epoch 73/100\n",
            "83/83 [==============================] - 0s 3ms/step - loss: 0.3963 - accuracy: 0.8140\n",
            "Epoch 74/100\n",
            "83/83 [==============================] - 0s 3ms/step - loss: 0.3970 - accuracy: 0.8213\n",
            "Epoch 75/100\n",
            "83/83 [==============================] - 0s 3ms/step - loss: 0.3956 - accuracy: 0.8224\n",
            "Epoch 76/100\n",
            "83/83 [==============================] - 0s 3ms/step - loss: 0.3964 - accuracy: 0.8121\n",
            "Epoch 77/100\n",
            "83/83 [==============================] - 0s 3ms/step - loss: 0.3958 - accuracy: 0.8144\n",
            "Epoch 78/100\n",
            "83/83 [==============================] - 0s 3ms/step - loss: 0.3938 - accuracy: 0.8194\n",
            "Epoch 79/100\n",
            "83/83 [==============================] - 0s 3ms/step - loss: 0.3924 - accuracy: 0.8186\n",
            "Epoch 80/100\n",
            "83/83 [==============================] - 0s 3ms/step - loss: 0.3935 - accuracy: 0.8190\n",
            "Epoch 81/100\n",
            "83/83 [==============================] - 0s 3ms/step - loss: 0.3916 - accuracy: 0.8239\n",
            "Epoch 82/100\n",
            "83/83 [==============================] - 0s 3ms/step - loss: 0.3915 - accuracy: 0.8190\n",
            "Epoch 83/100\n",
            "83/83 [==============================] - 0s 3ms/step - loss: 0.3890 - accuracy: 0.8194\n",
            "Epoch 84/100\n",
            "83/83 [==============================] - 0s 3ms/step - loss: 0.3888 - accuracy: 0.8220\n",
            "Epoch 85/100\n",
            "83/83 [==============================] - 0s 3ms/step - loss: 0.3869 - accuracy: 0.8235\n",
            "Epoch 86/100\n",
            "83/83 [==============================] - 0s 3ms/step - loss: 0.3864 - accuracy: 0.8201\n",
            "Epoch 87/100\n",
            "83/83 [==============================] - 0s 3ms/step - loss: 0.3857 - accuracy: 0.8220\n",
            "Epoch 88/100\n",
            "83/83 [==============================] - 0s 3ms/step - loss: 0.3845 - accuracy: 0.8228\n",
            "Epoch 89/100\n",
            "83/83 [==============================] - 0s 3ms/step - loss: 0.3860 - accuracy: 0.8254\n",
            "Epoch 90/100\n",
            "83/83 [==============================] - 0s 3ms/step - loss: 0.3841 - accuracy: 0.8235\n",
            "Epoch 91/100\n",
            "83/83 [==============================] - 0s 3ms/step - loss: 0.3843 - accuracy: 0.8205\n",
            "Epoch 92/100\n",
            "83/83 [==============================] - 0s 3ms/step - loss: 0.3815 - accuracy: 0.8216\n",
            "Epoch 93/100\n",
            "83/83 [==============================] - 0s 3ms/step - loss: 0.3810 - accuracy: 0.8250\n",
            "Epoch 94/100\n",
            "83/83 [==============================] - 0s 3ms/step - loss: 0.3828 - accuracy: 0.8213\n",
            "Epoch 95/100\n",
            "83/83 [==============================] - 0s 3ms/step - loss: 0.3809 - accuracy: 0.8262\n",
            "Epoch 96/100\n",
            "83/83 [==============================] - 0s 3ms/step - loss: 0.3785 - accuracy: 0.8258\n",
            "Epoch 97/100\n",
            "83/83 [==============================] - 0s 3ms/step - loss: 0.3798 - accuracy: 0.8262\n",
            "Epoch 98/100\n",
            "83/83 [==============================] - 0s 3ms/step - loss: 0.3782 - accuracy: 0.8239\n",
            "Epoch 99/100\n",
            "83/83 [==============================] - 0s 3ms/step - loss: 0.3780 - accuracy: 0.8239\n",
            "Epoch 100/100\n",
            "83/83 [==============================] - 0s 3ms/step - loss: 0.3766 - accuracy: 0.8269\n",
            "44/44 [==============================] - 0s 2ms/step - loss: 0.6370 - accuracy: 0.6802\n",
            "[0.6370003819465637, 0.6801705956459045]\n",
            "Classification Report: \n",
            "               precision    recall  f1-score   support\n",
            "\n",
            "           0       0.90      0.64      0.74      1033\n",
            "           1       0.44      0.80      0.57       374\n",
            "\n",
            "    accuracy                           0.68      1407\n",
            "   macro avg       0.67      0.72      0.66      1407\n",
            "weighted avg       0.78      0.68      0.70      1407\n",
            "\n"
          ]
        }
      ]
    },
    {
      "cell_type": "code",
      "source": [
        "y_pred_final=y_pred1.copy()\n",
        "\n",
        "for i in range(len(y_pred1)):\n",
        "    n_ones=y_pred1[i]+y_pred2[i]+y_pred3[i]\n",
        "    if n_ones>1:\n",
        "        y_pred_final[i]=1\n",
        "    else:\n",
        "        y_pred_final[i]=0"
      ],
      "metadata": {
        "id": "aM8E6DzbB-Qo"
      },
      "execution_count": 313,
      "outputs": []
    },
    {
      "cell_type": "code",
      "source": [
        "print(classification_report(y_test,y_pred_final))"
      ],
      "metadata": {
        "colab": {
          "base_uri": "https://localhost:8080/"
        },
        "id": "XXU57RCwEPvP",
        "outputId": "3c998934-ff62-4361-acf5-93affcf6876f"
      },
      "execution_count": 314,
      "outputs": [
        {
          "output_type": "stream",
          "name": "stdout",
          "text": [
            "              precision    recall  f1-score   support\n",
            "\n",
            "           0       0.89      0.68      0.77      1033\n",
            "           1       0.46      0.77      0.58       374\n",
            "\n",
            "    accuracy                           0.70      1407\n",
            "   macro avg       0.68      0.72      0.67      1407\n",
            "weighted avg       0.78      0.70      0.72      1407\n",
            "\n"
          ]
        }
      ]
    },
    {
      "cell_type": "markdown",
      "source": [
        "# Comparison with normal Neural Network Model\n",
        "\n",
        "![image.png](data:image/png;base64,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)"
      ],
      "metadata": {
        "id": "HnL9ZeXgTw_2"
      }
    },
    {
      "cell_type": "markdown",
      "source": [
        "# Method 5 : Use of focal loss as loss"
      ],
      "metadata": {
        "id": "6XJr0mXMFO0v"
      }
    },
    {
      "cell_type": "code",
      "source": [
        "import tensorflow_addons as tfa"
      ],
      "metadata": {
        "id": "tuihpmRlH7JH"
      },
      "execution_count": 315,
      "outputs": []
    },
    {
      "cell_type": "code",
      "source": [
        "x=df2.drop('Churn', axis='columns')\n",
        "y=df2['Churn']"
      ],
      "metadata": {
        "id": "ai-xzjWXGHVA"
      },
      "execution_count": 316,
      "outputs": []
    },
    {
      "cell_type": "code",
      "source": [
        "X_train, X_test, y_train, y_test=train_test_split(x,y,test_size=0.2,random_state=5)"
      ],
      "metadata": {
        "id": "t15SNZHtGIWX"
      },
      "execution_count": 317,
      "outputs": []
    },
    {
      "cell_type": "code",
      "source": [
        "model=keras.Sequential([\n",
        "    keras.layers.Dense(20, input_shape=(26,),activation='relu'),\n",
        "    keras.layers.Dense(1, activation='sigmoid')\n",
        "])\n",
        "\n",
        "model.compile(\n",
        "    optimizer='adam',\n",
        "    loss=tfa.losses.SigmoidFocalCrossEntropy(alpha=0.25,gamma=2),\n",
        "    metrics=['accuracy']\n",
        ")\n",
        "\n",
        "model.fit(X_train,y_train, epochs=100)\n",
        "y_pred=model.predict(X_test)\n",
        "y_pred=np.round(y_pred)\n",
        "print(classification_report(y_test,y_pred))"
      ],
      "metadata": {
        "colab": {
          "base_uri": "https://localhost:8080/"
        },
        "id": "jFv5gZ6xEXMW",
        "outputId": "991ed776-e912-46ea-aff3-38a90368efe4"
      },
      "execution_count": 318,
      "outputs": [
        {
          "output_type": "stream",
          "name": "stdout",
          "text": [
            "Epoch 1/100\n",
            "176/176 [==============================] - 1s 3ms/step - loss: 0.0586 - accuracy: 0.7246\n",
            "Epoch 2/100\n",
            "176/176 [==============================] - 1s 3ms/step - loss: 0.0448 - accuracy: 0.7593\n",
            "Epoch 3/100\n",
            "176/176 [==============================] - 1s 3ms/step - loss: 0.0431 - accuracy: 0.7643\n",
            "Epoch 4/100\n",
            "176/176 [==============================] - 1s 3ms/step - loss: 0.0425 - accuracy: 0.7662\n",
            "Epoch 5/100\n",
            "176/176 [==============================] - 1s 3ms/step - loss: 0.0421 - accuracy: 0.7675\n",
            "Epoch 6/100\n",
            "176/176 [==============================] - 1s 3ms/step - loss: 0.0420 - accuracy: 0.7751\n",
            "Epoch 7/100\n",
            "176/176 [==============================] - 1s 3ms/step - loss: 0.0417 - accuracy: 0.7710\n",
            "Epoch 8/100\n",
            "176/176 [==============================] - 1s 3ms/step - loss: 0.0416 - accuracy: 0.7712\n",
            "Epoch 9/100\n",
            "176/176 [==============================] - 1s 3ms/step - loss: 0.0415 - accuracy: 0.7756\n",
            "Epoch 10/100\n",
            "176/176 [==============================] - 1s 3ms/step - loss: 0.0414 - accuracy: 0.7735\n",
            "Epoch 11/100\n",
            "176/176 [==============================] - 1s 3ms/step - loss: 0.0411 - accuracy: 0.7755\n",
            "Epoch 12/100\n",
            "176/176 [==============================] - 1s 3ms/step - loss: 0.0411 - accuracy: 0.7751\n",
            "Epoch 13/100\n",
            "176/176 [==============================] - 0s 3ms/step - loss: 0.0411 - accuracy: 0.7790\n",
            "Epoch 14/100\n",
            "176/176 [==============================] - 1s 3ms/step - loss: 0.0410 - accuracy: 0.7803\n",
            "Epoch 15/100\n",
            "176/176 [==============================] - 1s 3ms/step - loss: 0.0408 - accuracy: 0.7801\n",
            "Epoch 16/100\n",
            "176/176 [==============================] - 1s 3ms/step - loss: 0.0408 - accuracy: 0.7792\n",
            "Epoch 17/100\n",
            "176/176 [==============================] - 1s 3ms/step - loss: 0.0407 - accuracy: 0.7767\n",
            "Epoch 18/100\n",
            "176/176 [==============================] - 1s 3ms/step - loss: 0.0406 - accuracy: 0.7840\n",
            "Epoch 19/100\n",
            "176/176 [==============================] - 1s 3ms/step - loss: 0.0407 - accuracy: 0.7785\n",
            "Epoch 20/100\n",
            "176/176 [==============================] - 1s 3ms/step - loss: 0.0405 - accuracy: 0.7831\n",
            "Epoch 21/100\n",
            "176/176 [==============================] - 1s 3ms/step - loss: 0.0405 - accuracy: 0.7810\n",
            "Epoch 22/100\n",
            "176/176 [==============================] - 1s 3ms/step - loss: 0.0403 - accuracy: 0.7824\n",
            "Epoch 23/100\n",
            "176/176 [==============================] - 1s 3ms/step - loss: 0.0403 - accuracy: 0.7835\n",
            "Epoch 24/100\n",
            "176/176 [==============================] - 1s 3ms/step - loss: 0.0402 - accuracy: 0.7817\n",
            "Epoch 25/100\n",
            "176/176 [==============================] - 1s 3ms/step - loss: 0.0402 - accuracy: 0.7831\n",
            "Epoch 26/100\n",
            "176/176 [==============================] - 1s 3ms/step - loss: 0.0401 - accuracy: 0.7884\n",
            "Epoch 27/100\n",
            "176/176 [==============================] - 1s 3ms/step - loss: 0.0401 - accuracy: 0.7872\n",
            "Epoch 28/100\n",
            "176/176 [==============================] - 1s 3ms/step - loss: 0.0400 - accuracy: 0.7792\n",
            "Epoch 29/100\n",
            "176/176 [==============================] - 1s 3ms/step - loss: 0.0400 - accuracy: 0.7844\n",
            "Epoch 30/100\n",
            "176/176 [==============================] - 1s 3ms/step - loss: 0.0400 - accuracy: 0.7833\n",
            "Epoch 31/100\n",
            "176/176 [==============================] - 1s 3ms/step - loss: 0.0399 - accuracy: 0.7817\n",
            "Epoch 32/100\n",
            "176/176 [==============================] - 1s 3ms/step - loss: 0.0399 - accuracy: 0.7870\n",
            "Epoch 33/100\n",
            "176/176 [==============================] - 1s 3ms/step - loss: 0.0397 - accuracy: 0.7884\n",
            "Epoch 34/100\n",
            "176/176 [==============================] - 1s 3ms/step - loss: 0.0398 - accuracy: 0.7860\n",
            "Epoch 35/100\n",
            "176/176 [==============================] - 1s 3ms/step - loss: 0.0397 - accuracy: 0.7849\n",
            "Epoch 36/100\n",
            "176/176 [==============================] - 1s 4ms/step - loss: 0.0397 - accuracy: 0.7849\n",
            "Epoch 37/100\n",
            "176/176 [==============================] - 1s 4ms/step - loss: 0.0398 - accuracy: 0.7868\n",
            "Epoch 38/100\n",
            "176/176 [==============================] - 1s 4ms/step - loss: 0.0397 - accuracy: 0.7886\n",
            "Epoch 39/100\n",
            "176/176 [==============================] - 1s 4ms/step - loss: 0.0396 - accuracy: 0.7844\n",
            "Epoch 40/100\n",
            "176/176 [==============================] - 1s 3ms/step - loss: 0.0396 - accuracy: 0.7856\n",
            "Epoch 41/100\n",
            "176/176 [==============================] - 1s 3ms/step - loss: 0.0394 - accuracy: 0.7877\n",
            "Epoch 42/100\n",
            "176/176 [==============================] - 1s 3ms/step - loss: 0.0396 - accuracy: 0.7886\n",
            "Epoch 43/100\n",
            "176/176 [==============================] - 0s 3ms/step - loss: 0.0395 - accuracy: 0.7899\n",
            "Epoch 44/100\n",
            "176/176 [==============================] - 1s 3ms/step - loss: 0.0395 - accuracy: 0.7890\n",
            "Epoch 45/100\n",
            "176/176 [==============================] - 1s 3ms/step - loss: 0.0394 - accuracy: 0.7876\n",
            "Epoch 46/100\n",
            "176/176 [==============================] - 1s 3ms/step - loss: 0.0394 - accuracy: 0.7899\n",
            "Epoch 47/100\n",
            "176/176 [==============================] - 1s 3ms/step - loss: 0.0393 - accuracy: 0.7902\n",
            "Epoch 48/100\n",
            "176/176 [==============================] - 1s 3ms/step - loss: 0.0392 - accuracy: 0.7888\n",
            "Epoch 49/100\n",
            "176/176 [==============================] - 1s 3ms/step - loss: 0.0394 - accuracy: 0.7895\n",
            "Epoch 50/100\n",
            "176/176 [==============================] - 1s 3ms/step - loss: 0.0392 - accuracy: 0.7874\n",
            "Epoch 51/100\n",
            "176/176 [==============================] - 1s 3ms/step - loss: 0.0393 - accuracy: 0.7916\n",
            "Epoch 52/100\n",
            "176/176 [==============================] - 1s 3ms/step - loss: 0.0392 - accuracy: 0.7943\n",
            "Epoch 53/100\n",
            "176/176 [==============================] - 1s 3ms/step - loss: 0.0392 - accuracy: 0.7906\n",
            "Epoch 54/100\n",
            "176/176 [==============================] - 1s 3ms/step - loss: 0.0393 - accuracy: 0.7909\n",
            "Epoch 55/100\n",
            "176/176 [==============================] - 1s 3ms/step - loss: 0.0392 - accuracy: 0.7908\n",
            "Epoch 56/100\n",
            "176/176 [==============================] - 1s 3ms/step - loss: 0.0391 - accuracy: 0.7908\n",
            "Epoch 57/100\n",
            "176/176 [==============================] - 1s 3ms/step - loss: 0.0391 - accuracy: 0.7934\n",
            "Epoch 58/100\n",
            "176/176 [==============================] - 1s 3ms/step - loss: 0.0390 - accuracy: 0.7929\n",
            "Epoch 59/100\n",
            "176/176 [==============================] - 1s 3ms/step - loss: 0.0391 - accuracy: 0.7936\n",
            "Epoch 60/100\n",
            "176/176 [==============================] - 1s 3ms/step - loss: 0.0389 - accuracy: 0.7913\n",
            "Epoch 61/100\n",
            "176/176 [==============================] - 1s 3ms/step - loss: 0.0390 - accuracy: 0.7941\n",
            "Epoch 62/100\n",
            "176/176 [==============================] - 1s 3ms/step - loss: 0.0390 - accuracy: 0.7922\n",
            "Epoch 63/100\n",
            "176/176 [==============================] - 1s 3ms/step - loss: 0.0390 - accuracy: 0.7940\n",
            "Epoch 64/100\n",
            "176/176 [==============================] - 1s 3ms/step - loss: 0.0389 - accuracy: 0.7924\n",
            "Epoch 65/100\n",
            "176/176 [==============================] - 1s 3ms/step - loss: 0.0390 - accuracy: 0.7940\n",
            "Epoch 66/100\n",
            "176/176 [==============================] - 1s 3ms/step - loss: 0.0388 - accuracy: 0.7959\n",
            "Epoch 67/100\n",
            "176/176 [==============================] - 1s 3ms/step - loss: 0.0388 - accuracy: 0.7952\n",
            "Epoch 68/100\n",
            "176/176 [==============================] - 1s 3ms/step - loss: 0.0388 - accuracy: 0.7934\n",
            "Epoch 69/100\n",
            "176/176 [==============================] - 1s 3ms/step - loss: 0.0388 - accuracy: 0.7940\n",
            "Epoch 70/100\n",
            "176/176 [==============================] - 1s 3ms/step - loss: 0.0387 - accuracy: 0.7941\n",
            "Epoch 71/100\n",
            "176/176 [==============================] - 1s 3ms/step - loss: 0.0389 - accuracy: 0.7948\n",
            "Epoch 72/100\n",
            "176/176 [==============================] - 1s 3ms/step - loss: 0.0388 - accuracy: 0.7966\n",
            "Epoch 73/100\n",
            "176/176 [==============================] - 1s 3ms/step - loss: 0.0388 - accuracy: 0.7934\n",
            "Epoch 74/100\n",
            "176/176 [==============================] - 1s 3ms/step - loss: 0.0387 - accuracy: 0.7950\n",
            "Epoch 75/100\n",
            "176/176 [==============================] - 1s 3ms/step - loss: 0.0387 - accuracy: 0.7986\n",
            "Epoch 76/100\n",
            "176/176 [==============================] - 1s 3ms/step - loss: 0.0386 - accuracy: 0.7948\n",
            "Epoch 77/100\n",
            "176/176 [==============================] - 1s 3ms/step - loss: 0.0388 - accuracy: 0.7943\n",
            "Epoch 78/100\n",
            "176/176 [==============================] - 1s 3ms/step - loss: 0.0386 - accuracy: 0.7972\n",
            "Epoch 79/100\n",
            "176/176 [==============================] - 1s 3ms/step - loss: 0.0387 - accuracy: 0.7950\n",
            "Epoch 80/100\n",
            "176/176 [==============================] - 1s 3ms/step - loss: 0.0386 - accuracy: 0.7979\n",
            "Epoch 81/100\n",
            "176/176 [==============================] - 1s 3ms/step - loss: 0.0386 - accuracy: 0.7959\n",
            "Epoch 82/100\n",
            "176/176 [==============================] - 1s 3ms/step - loss: 0.0387 - accuracy: 0.7952\n",
            "Epoch 83/100\n",
            "176/176 [==============================] - 1s 3ms/step - loss: 0.0386 - accuracy: 0.7979\n",
            "Epoch 84/100\n",
            "176/176 [==============================] - 1s 3ms/step - loss: 0.0386 - accuracy: 0.7940\n",
            "Epoch 85/100\n",
            "176/176 [==============================] - 1s 3ms/step - loss: 0.0385 - accuracy: 0.7973\n",
            "Epoch 86/100\n",
            "176/176 [==============================] - 1s 3ms/step - loss: 0.0385 - accuracy: 0.7954\n",
            "Epoch 87/100\n",
            "176/176 [==============================] - 1s 3ms/step - loss: 0.0385 - accuracy: 0.7972\n",
            "Epoch 88/100\n",
            "176/176 [==============================] - 1s 3ms/step - loss: 0.0385 - accuracy: 0.7973\n",
            "Epoch 89/100\n",
            "176/176 [==============================] - 1s 3ms/step - loss: 0.0385 - accuracy: 0.7977\n",
            "Epoch 90/100\n",
            "176/176 [==============================] - 1s 3ms/step - loss: 0.0386 - accuracy: 0.7968\n",
            "Epoch 91/100\n",
            "176/176 [==============================] - 1s 3ms/step - loss: 0.0385 - accuracy: 0.7947\n",
            "Epoch 92/100\n",
            "176/176 [==============================] - 1s 3ms/step - loss: 0.0386 - accuracy: 0.7943\n",
            "Epoch 93/100\n",
            "176/176 [==============================] - 1s 3ms/step - loss: 0.0384 - accuracy: 0.7991\n",
            "Epoch 94/100\n",
            "176/176 [==============================] - 1s 3ms/step - loss: 0.0385 - accuracy: 0.7979\n",
            "Epoch 95/100\n",
            "176/176 [==============================] - 1s 3ms/step - loss: 0.0384 - accuracy: 0.7970\n",
            "Epoch 96/100\n",
            "176/176 [==============================] - 1s 3ms/step - loss: 0.0384 - accuracy: 0.7956\n",
            "Epoch 97/100\n",
            "176/176 [==============================] - 1s 3ms/step - loss: 0.0384 - accuracy: 0.7954\n",
            "Epoch 98/100\n",
            "176/176 [==============================] - 1s 3ms/step - loss: 0.0384 - accuracy: 0.7968\n",
            "Epoch 99/100\n",
            "176/176 [==============================] - 1s 3ms/step - loss: 0.0383 - accuracy: 0.7996\n",
            "Epoch 100/100\n",
            "176/176 [==============================] - 1s 3ms/step - loss: 0.0384 - accuracy: 0.7970\n",
            "              precision    recall  f1-score   support\n",
            "\n",
            "           0       0.74      0.98      0.84       999\n",
            "           1       0.78      0.16      0.26       408\n",
            "\n",
            "    accuracy                           0.74      1407\n",
            "   macro avg       0.76      0.57      0.55      1407\n",
            "weighted avg       0.75      0.74      0.68      1407\n",
            "\n"
          ]
        }
      ]
    },
    {
      "cell_type": "markdown",
      "source": [
        "# Comparion with normal Neural Network Model\n",
        "\n",
        "![image.png](data:image/png;base64,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)"
      ],
      "metadata": {
        "id": "PBPoiG9YWRC9"
      }
    },
    {
      "cell_type": "markdown",
      "source": [
        "# Hence we can conclude that of all methods, the training of neural network model using SMOTE method improved the model to the greatest extent"
      ],
      "metadata": {
        "id": "JCdMZjoTWpNs"
      }
    },
    {
      "cell_type": "code",
      "source": [],
      "metadata": {
        "id": "eXY0ABBcGfl4"
      },
      "execution_count": 318,
      "outputs": []
    }
  ],
  "metadata": {
    "accelerator": "GPU",
    "colab": {
      "provenance": []
    },
    "kernelspec": {
      "display_name": "Python 3",
      "name": "python3"
    },
    "language_info": {
      "name": "python"
    }
  },
  "nbformat": 4,
  "nbformat_minor": 0
}