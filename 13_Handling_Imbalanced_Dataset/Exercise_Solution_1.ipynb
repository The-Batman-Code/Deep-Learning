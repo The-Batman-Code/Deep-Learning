{
  "cells": [
    {
      "cell_type": "code",
      "execution_count": 104,
      "metadata": {
        "id": "2eLFsZdiwq9W"
      },
      "outputs": [],
      "source": [
        "import pandas as pd\n",
        "import matplotlib.pyplot as plt\n",
        "import numpy as np\n",
        "import tensorflow as tf\n",
        "from tensorflow import keras\n",
        "%matplotlib inline"
      ]
    },
    {
      "cell_type": "markdown",
      "source": [
        "# Cleaning Data"
      ],
      "metadata": {
        "id": "UJUXbHYzln_p"
      }
    },
    {
      "cell_type": "code",
      "execution_count": 105,
      "metadata": {
        "colab": {
          "base_uri": "https://localhost:8080/",
          "height": 386
        },
        "id": "V1jYOPi8yM5t",
        "outputId": "6ea1e181-09b8-4395-cb2b-2b39a15a6d5d"
      },
      "outputs": [
        {
          "output_type": "execute_result",
          "data": {
            "text/plain": [
              "      customerID  gender  SeniorCitizen Partner Dependents  tenure  \\\n",
              "200   9323-HGFWY  Female              0     Yes         No      27   \n",
              "2516  8245-UMPYT  Female              1      No         No      16   \n",
              "6119  0080-EMYVY  Female              0      No         No      14   \n",
              "6572  6258-PVZWJ    Male              0     Yes         No      68   \n",
              "1188  0080-OROZO  Female              0      No         No      35   \n",
              "\n",
              "     PhoneService MultipleLines InternetService OnlineSecurity  ...  \\\n",
              "200           Yes            No     Fiber optic            Yes  ...   \n",
              "2516          Yes           Yes     Fiber optic             No  ...   \n",
              "6119          Yes            No             DSL             No  ...   \n",
              "6572          Yes           Yes             DSL            Yes  ...   \n",
              "1188          Yes            No     Fiber optic             No  ...   \n",
              "\n",
              "     DeviceProtection TechSupport StreamingTV StreamingMovies        Contract  \\\n",
              "200                No         Yes         Yes             Yes        One year   \n",
              "2516               No          No         Yes             Yes  Month-to-month   \n",
              "6119               No          No          No              No        One year   \n",
              "6572              Yes         Yes         Yes             Yes        Two year   \n",
              "1188              Yes         Yes         Yes             Yes        One year   \n",
              "\n",
              "     PaperlessBilling            PaymentMethod MonthlyCharges  TotalCharges  \\\n",
              "200               Yes  Credit card (automatic)         101.90       2681.15   \n",
              "2516              Yes         Electronic check          96.40        1581.2   \n",
              "6119               No  Credit card (automatic)          51.45        727.85   \n",
              "6572              Yes  Credit card (automatic)          90.80       6302.85   \n",
              "1188              Yes         Electronic check          99.25          3532   \n",
              "\n",
              "     Churn  \n",
              "200     No  \n",
              "2516   Yes  \n",
              "6119    No  \n",
              "6572    No  \n",
              "1188    No  \n",
              "\n",
              "[5 rows x 21 columns]"
            ],
            "text/html": [
              "\n",
              "  <div id=\"df-ecf9c6db-5e6e-4f4b-9c93-95046f98d161\">\n",
              "    <div class=\"colab-df-container\">\n",
              "      <div>\n",
              "<style scoped>\n",
              "    .dataframe tbody tr th:only-of-type {\n",
              "        vertical-align: middle;\n",
              "    }\n",
              "\n",
              "    .dataframe tbody tr th {\n",
              "        vertical-align: top;\n",
              "    }\n",
              "\n",
              "    .dataframe thead th {\n",
              "        text-align: right;\n",
              "    }\n",
              "</style>\n",
              "<table border=\"1\" class=\"dataframe\">\n",
              "  <thead>\n",
              "    <tr style=\"text-align: right;\">\n",
              "      <th></th>\n",
              "      <th>customerID</th>\n",
              "      <th>gender</th>\n",
              "      <th>SeniorCitizen</th>\n",
              "      <th>Partner</th>\n",
              "      <th>Dependents</th>\n",
              "      <th>tenure</th>\n",
              "      <th>PhoneService</th>\n",
              "      <th>MultipleLines</th>\n",
              "      <th>InternetService</th>\n",
              "      <th>OnlineSecurity</th>\n",
              "      <th>...</th>\n",
              "      <th>DeviceProtection</th>\n",
              "      <th>TechSupport</th>\n",
              "      <th>StreamingTV</th>\n",
              "      <th>StreamingMovies</th>\n",
              "      <th>Contract</th>\n",
              "      <th>PaperlessBilling</th>\n",
              "      <th>PaymentMethod</th>\n",
              "      <th>MonthlyCharges</th>\n",
              "      <th>TotalCharges</th>\n",
              "      <th>Churn</th>\n",
              "    </tr>\n",
              "  </thead>\n",
              "  <tbody>\n",
              "    <tr>\n",
              "      <th>200</th>\n",
              "      <td>9323-HGFWY</td>\n",
              "      <td>Female</td>\n",
              "      <td>0</td>\n",
              "      <td>Yes</td>\n",
              "      <td>No</td>\n",
              "      <td>27</td>\n",
              "      <td>Yes</td>\n",
              "      <td>No</td>\n",
              "      <td>Fiber optic</td>\n",
              "      <td>Yes</td>\n",
              "      <td>...</td>\n",
              "      <td>No</td>\n",
              "      <td>Yes</td>\n",
              "      <td>Yes</td>\n",
              "      <td>Yes</td>\n",
              "      <td>One year</td>\n",
              "      <td>Yes</td>\n",
              "      <td>Credit card (automatic)</td>\n",
              "      <td>101.90</td>\n",
              "      <td>2681.15</td>\n",
              "      <td>No</td>\n",
              "    </tr>\n",
              "    <tr>\n",
              "      <th>2516</th>\n",
              "      <td>8245-UMPYT</td>\n",
              "      <td>Female</td>\n",
              "      <td>1</td>\n",
              "      <td>No</td>\n",
              "      <td>No</td>\n",
              "      <td>16</td>\n",
              "      <td>Yes</td>\n",
              "      <td>Yes</td>\n",
              "      <td>Fiber optic</td>\n",
              "      <td>No</td>\n",
              "      <td>...</td>\n",
              "      <td>No</td>\n",
              "      <td>No</td>\n",
              "      <td>Yes</td>\n",
              "      <td>Yes</td>\n",
              "      <td>Month-to-month</td>\n",
              "      <td>Yes</td>\n",
              "      <td>Electronic check</td>\n",
              "      <td>96.40</td>\n",
              "      <td>1581.2</td>\n",
              "      <td>Yes</td>\n",
              "    </tr>\n",
              "    <tr>\n",
              "      <th>6119</th>\n",
              "      <td>0080-EMYVY</td>\n",
              "      <td>Female</td>\n",
              "      <td>0</td>\n",
              "      <td>No</td>\n",
              "      <td>No</td>\n",
              "      <td>14</td>\n",
              "      <td>Yes</td>\n",
              "      <td>No</td>\n",
              "      <td>DSL</td>\n",
              "      <td>No</td>\n",
              "      <td>...</td>\n",
              "      <td>No</td>\n",
              "      <td>No</td>\n",
              "      <td>No</td>\n",
              "      <td>No</td>\n",
              "      <td>One year</td>\n",
              "      <td>No</td>\n",
              "      <td>Credit card (automatic)</td>\n",
              "      <td>51.45</td>\n",
              "      <td>727.85</td>\n",
              "      <td>No</td>\n",
              "    </tr>\n",
              "    <tr>\n",
              "      <th>6572</th>\n",
              "      <td>6258-PVZWJ</td>\n",
              "      <td>Male</td>\n",
              "      <td>0</td>\n",
              "      <td>Yes</td>\n",
              "      <td>No</td>\n",
              "      <td>68</td>\n",
              "      <td>Yes</td>\n",
              "      <td>Yes</td>\n",
              "      <td>DSL</td>\n",
              "      <td>Yes</td>\n",
              "      <td>...</td>\n",
              "      <td>Yes</td>\n",
              "      <td>Yes</td>\n",
              "      <td>Yes</td>\n",
              "      <td>Yes</td>\n",
              "      <td>Two year</td>\n",
              "      <td>Yes</td>\n",
              "      <td>Credit card (automatic)</td>\n",
              "      <td>90.80</td>\n",
              "      <td>6302.85</td>\n",
              "      <td>No</td>\n",
              "    </tr>\n",
              "    <tr>\n",
              "      <th>1188</th>\n",
              "      <td>0080-OROZO</td>\n",
              "      <td>Female</td>\n",
              "      <td>0</td>\n",
              "      <td>No</td>\n",
              "      <td>No</td>\n",
              "      <td>35</td>\n",
              "      <td>Yes</td>\n",
              "      <td>No</td>\n",
              "      <td>Fiber optic</td>\n",
              "      <td>No</td>\n",
              "      <td>...</td>\n",
              "      <td>Yes</td>\n",
              "      <td>Yes</td>\n",
              "      <td>Yes</td>\n",
              "      <td>Yes</td>\n",
              "      <td>One year</td>\n",
              "      <td>Yes</td>\n",
              "      <td>Electronic check</td>\n",
              "      <td>99.25</td>\n",
              "      <td>3532</td>\n",
              "      <td>No</td>\n",
              "    </tr>\n",
              "  </tbody>\n",
              "</table>\n",
              "<p>5 rows × 21 columns</p>\n",
              "</div>\n",
              "      <button class=\"colab-df-convert\" onclick=\"convertToInteractive('df-ecf9c6db-5e6e-4f4b-9c93-95046f98d161')\"\n",
              "              title=\"Convert this dataframe to an interactive table.\"\n",
              "              style=\"display:none;\">\n",
              "        \n",
              "  <svg xmlns=\"http://www.w3.org/2000/svg\" height=\"24px\"viewBox=\"0 0 24 24\"\n",
              "       width=\"24px\">\n",
              "    <path d=\"M0 0h24v24H0V0z\" fill=\"none\"/>\n",
              "    <path d=\"M18.56 5.44l.94 2.06.94-2.06 2.06-.94-2.06-.94-.94-2.06-.94 2.06-2.06.94zm-11 1L8.5 8.5l.94-2.06 2.06-.94-2.06-.94L8.5 2.5l-.94 2.06-2.06.94zm10 10l.94 2.06.94-2.06 2.06-.94-2.06-.94-.94-2.06-.94 2.06-2.06.94z\"/><path d=\"M17.41 7.96l-1.37-1.37c-.4-.4-.92-.59-1.43-.59-.52 0-1.04.2-1.43.59L10.3 9.45l-7.72 7.72c-.78.78-.78 2.05 0 2.83L4 21.41c.39.39.9.59 1.41.59.51 0 1.02-.2 1.41-.59l7.78-7.78 2.81-2.81c.8-.78.8-2.07 0-2.86zM5.41 20L4 18.59l7.72-7.72 1.47 1.35L5.41 20z\"/>\n",
              "  </svg>\n",
              "      </button>\n",
              "      \n",
              "  <style>\n",
              "    .colab-df-container {\n",
              "      display:flex;\n",
              "      flex-wrap:wrap;\n",
              "      gap: 12px;\n",
              "    }\n",
              "\n",
              "    .colab-df-convert {\n",
              "      background-color: #E8F0FE;\n",
              "      border: none;\n",
              "      border-radius: 50%;\n",
              "      cursor: pointer;\n",
              "      display: none;\n",
              "      fill: #1967D2;\n",
              "      height: 32px;\n",
              "      padding: 0 0 0 0;\n",
              "      width: 32px;\n",
              "    }\n",
              "\n",
              "    .colab-df-convert:hover {\n",
              "      background-color: #E2EBFA;\n",
              "      box-shadow: 0px 1px 2px rgba(60, 64, 67, 0.3), 0px 1px 3px 1px rgba(60, 64, 67, 0.15);\n",
              "      fill: #174EA6;\n",
              "    }\n",
              "\n",
              "    [theme=dark] .colab-df-convert {\n",
              "      background-color: #3B4455;\n",
              "      fill: #D2E3FC;\n",
              "    }\n",
              "\n",
              "    [theme=dark] .colab-df-convert:hover {\n",
              "      background-color: #434B5C;\n",
              "      box-shadow: 0px 1px 3px 1px rgba(0, 0, 0, 0.15);\n",
              "      filter: drop-shadow(0px 1px 2px rgba(0, 0, 0, 0.3));\n",
              "      fill: #FFFFFF;\n",
              "    }\n",
              "  </style>\n",
              "\n",
              "      <script>\n",
              "        const buttonEl =\n",
              "          document.querySelector('#df-ecf9c6db-5e6e-4f4b-9c93-95046f98d161 button.colab-df-convert');\n",
              "        buttonEl.style.display =\n",
              "          google.colab.kernel.accessAllowed ? 'block' : 'none';\n",
              "\n",
              "        async function convertToInteractive(key) {\n",
              "          const element = document.querySelector('#df-ecf9c6db-5e6e-4f4b-9c93-95046f98d161');\n",
              "          const dataTable =\n",
              "            await google.colab.kernel.invokeFunction('convertToInteractive',\n",
              "                                                     [key], {});\n",
              "          if (!dataTable) return;\n",
              "\n",
              "          const docLinkHtml = 'Like what you see? Visit the ' +\n",
              "            '<a target=\"_blank\" href=https://colab.research.google.com/notebooks/data_table.ipynb>data table notebook</a>'\n",
              "            + ' to learn more about interactive tables.';\n",
              "          element.innerHTML = '';\n",
              "          dataTable['output_type'] = 'display_data';\n",
              "          await google.colab.output.renderOutput(dataTable, element);\n",
              "          const docLink = document.createElement('div');\n",
              "          docLink.innerHTML = docLinkHtml;\n",
              "          element.appendChild(docLink);\n",
              "        }\n",
              "      </script>\n",
              "    </div>\n",
              "  </div>\n",
              "  "
            ]
          },
          "metadata": {},
          "execution_count": 105
        }
      ],
      "source": [
        "df=pd.read_csv('/content/customer_churn.csv')\n",
        "df.sample(5)"
      ]
    },
    {
      "cell_type": "code",
      "execution_count": 106,
      "metadata": {
        "id": "oqm7KUh3ySra"
      },
      "outputs": [],
      "source": [
        "df.drop('customerID',axis='columns', inplace=True)"
      ]
    },
    {
      "cell_type": "code",
      "execution_count": 107,
      "metadata": {
        "colab": {
          "base_uri": "https://localhost:8080/"
        },
        "id": "dCWQhtJNydvE",
        "outputId": "24b86ae4-24a3-4eec-b6f7-d26620e99020"
      },
      "outputs": [
        {
          "output_type": "execute_result",
          "data": {
            "text/plain": [
              "gender               object\n",
              "SeniorCitizen         int64\n",
              "Partner              object\n",
              "Dependents           object\n",
              "tenure                int64\n",
              "PhoneService         object\n",
              "MultipleLines        object\n",
              "InternetService      object\n",
              "OnlineSecurity       object\n",
              "OnlineBackup         object\n",
              "DeviceProtection     object\n",
              "TechSupport          object\n",
              "StreamingTV          object\n",
              "StreamingMovies      object\n",
              "Contract             object\n",
              "PaperlessBilling     object\n",
              "PaymentMethod        object\n",
              "MonthlyCharges      float64\n",
              "TotalCharges         object\n",
              "Churn                object\n",
              "dtype: object"
            ]
          },
          "metadata": {},
          "execution_count": 107
        }
      ],
      "source": [
        "df.dtypes"
      ]
    },
    {
      "cell_type": "code",
      "execution_count": 108,
      "metadata": {
        "colab": {
          "base_uri": "https://localhost:8080/"
        },
        "id": "mkyNqnsgyrvT",
        "outputId": "64220325-7026-4e89-dd10-48b078478f43"
      },
      "outputs": [
        {
          "output_type": "execute_result",
          "data": {
            "text/plain": [
              "array(['29.85', '1889.5', '108.15', ..., '346.45', '306.6', '6844.5'],\n",
              "      dtype=object)"
            ]
          },
          "metadata": {},
          "execution_count": 108
        }
      ],
      "source": [
        "df['TotalCharges'].values"
      ]
    },
    {
      "cell_type": "code",
      "execution_count": 109,
      "metadata": {
        "colab": {
          "base_uri": "https://localhost:8080/"
        },
        "id": "LMud5QdQy0rb",
        "outputId": "326ebb03-c55f-4370-cbdc-dee16ae18924"
      },
      "outputs": [
        {
          "output_type": "execute_result",
          "data": {
            "text/plain": [
              "array([ 29.85,  56.95,  53.85, ...,  29.6 ,  74.4 , 105.65])"
            ]
          },
          "metadata": {},
          "execution_count": 109
        }
      ],
      "source": [
        "df['MonthlyCharges'].values"
      ]
    },
    {
      "cell_type": "code",
      "execution_count": 110,
      "metadata": {
        "colab": {
          "base_uri": "https://localhost:8080/"
        },
        "id": "v3UcTWoxzABy",
        "outputId": "5c514480-854e-4391-f471-8898218f6487"
      },
      "outputs": [
        {
          "output_type": "execute_result",
          "data": {
            "text/plain": [
              "0       False\n",
              "1       False\n",
              "2       False\n",
              "3       False\n",
              "4       False\n",
              "        ...  \n",
              "7038    False\n",
              "7039    False\n",
              "7040    False\n",
              "7041    False\n",
              "7042    False\n",
              "Name: TotalCharges, Length: 7043, dtype: bool"
            ]
          },
          "metadata": {},
          "execution_count": 110
        }
      ],
      "source": [
        "pd.to_numeric(df['TotalCharges'], errors='coerce').isnull()"
      ]
    },
    {
      "cell_type": "code",
      "execution_count": 111,
      "metadata": {
        "colab": {
          "base_uri": "https://localhost:8080/",
          "height": 614
        },
        "id": "bskhR6ATzWAC",
        "outputId": "10fece8c-9bdc-443a-f7c3-651fe1aa572f"
      },
      "outputs": [
        {
          "output_type": "execute_result",
          "data": {
            "text/plain": [
              "      gender  SeniorCitizen Partner Dependents  tenure PhoneService  \\\n",
              "488   Female              0     Yes        Yes       0           No   \n",
              "753     Male              0      No        Yes       0          Yes   \n",
              "936   Female              0     Yes        Yes       0          Yes   \n",
              "1082    Male              0     Yes        Yes       0          Yes   \n",
              "1340  Female              0     Yes        Yes       0           No   \n",
              "3331    Male              0     Yes        Yes       0          Yes   \n",
              "3826    Male              0     Yes        Yes       0          Yes   \n",
              "4380  Female              0     Yes        Yes       0          Yes   \n",
              "5218    Male              0     Yes        Yes       0          Yes   \n",
              "6670  Female              0     Yes        Yes       0          Yes   \n",
              "6754    Male              0      No        Yes       0          Yes   \n",
              "\n",
              "         MultipleLines InternetService       OnlineSecurity  \\\n",
              "488   No phone service             DSL                  Yes   \n",
              "753                 No              No  No internet service   \n",
              "936                 No             DSL                  Yes   \n",
              "1082               Yes              No  No internet service   \n",
              "1340  No phone service             DSL                  Yes   \n",
              "3331                No              No  No internet service   \n",
              "3826               Yes              No  No internet service   \n",
              "4380                No              No  No internet service   \n",
              "5218                No              No  No internet service   \n",
              "6670               Yes             DSL                   No   \n",
              "6754               Yes             DSL                  Yes   \n",
              "\n",
              "             OnlineBackup     DeviceProtection          TechSupport  \\\n",
              "488                    No                  Yes                  Yes   \n",
              "753   No internet service  No internet service  No internet service   \n",
              "936                   Yes                  Yes                   No   \n",
              "1082  No internet service  No internet service  No internet service   \n",
              "1340                  Yes                  Yes                  Yes   \n",
              "3331  No internet service  No internet service  No internet service   \n",
              "3826  No internet service  No internet service  No internet service   \n",
              "4380  No internet service  No internet service  No internet service   \n",
              "5218  No internet service  No internet service  No internet service   \n",
              "6670                  Yes                  Yes                  Yes   \n",
              "6754                  Yes                   No                  Yes   \n",
              "\n",
              "              StreamingTV      StreamingMovies  Contract PaperlessBilling  \\\n",
              "488                   Yes                   No  Two year              Yes   \n",
              "753   No internet service  No internet service  Two year               No   \n",
              "936                   Yes                  Yes  Two year               No   \n",
              "1082  No internet service  No internet service  Two year               No   \n",
              "1340                  Yes                   No  Two year               No   \n",
              "3331  No internet service  No internet service  Two year               No   \n",
              "3826  No internet service  No internet service  Two year               No   \n",
              "4380  No internet service  No internet service  Two year               No   \n",
              "5218  No internet service  No internet service  One year              Yes   \n",
              "6670                  Yes                   No  Two year               No   \n",
              "6754                   No                   No  Two year              Yes   \n",
              "\n",
              "                  PaymentMethod  MonthlyCharges TotalCharges Churn  \n",
              "488   Bank transfer (automatic)           52.55                 No  \n",
              "753                Mailed check           20.25                 No  \n",
              "936                Mailed check           80.85                 No  \n",
              "1082               Mailed check           25.75                 No  \n",
              "1340    Credit card (automatic)           56.05                 No  \n",
              "3331               Mailed check           19.85                 No  \n",
              "3826               Mailed check           25.35                 No  \n",
              "4380               Mailed check           20.00                 No  \n",
              "5218               Mailed check           19.70                 No  \n",
              "6670               Mailed check           73.35                 No  \n",
              "6754  Bank transfer (automatic)           61.90                 No  "
            ],
            "text/html": [
              "\n",
              "  <div id=\"df-3dbde031-7dbd-44f8-84a0-bef5f35ba398\">\n",
              "    <div class=\"colab-df-container\">\n",
              "      <div>\n",
              "<style scoped>\n",
              "    .dataframe tbody tr th:only-of-type {\n",
              "        vertical-align: middle;\n",
              "    }\n",
              "\n",
              "    .dataframe tbody tr th {\n",
              "        vertical-align: top;\n",
              "    }\n",
              "\n",
              "    .dataframe thead th {\n",
              "        text-align: right;\n",
              "    }\n",
              "</style>\n",
              "<table border=\"1\" class=\"dataframe\">\n",
              "  <thead>\n",
              "    <tr style=\"text-align: right;\">\n",
              "      <th></th>\n",
              "      <th>gender</th>\n",
              "      <th>SeniorCitizen</th>\n",
              "      <th>Partner</th>\n",
              "      <th>Dependents</th>\n",
              "      <th>tenure</th>\n",
              "      <th>PhoneService</th>\n",
              "      <th>MultipleLines</th>\n",
              "      <th>InternetService</th>\n",
              "      <th>OnlineSecurity</th>\n",
              "      <th>OnlineBackup</th>\n",
              "      <th>DeviceProtection</th>\n",
              "      <th>TechSupport</th>\n",
              "      <th>StreamingTV</th>\n",
              "      <th>StreamingMovies</th>\n",
              "      <th>Contract</th>\n",
              "      <th>PaperlessBilling</th>\n",
              "      <th>PaymentMethod</th>\n",
              "      <th>MonthlyCharges</th>\n",
              "      <th>TotalCharges</th>\n",
              "      <th>Churn</th>\n",
              "    </tr>\n",
              "  </thead>\n",
              "  <tbody>\n",
              "    <tr>\n",
              "      <th>488</th>\n",
              "      <td>Female</td>\n",
              "      <td>0</td>\n",
              "      <td>Yes</td>\n",
              "      <td>Yes</td>\n",
              "      <td>0</td>\n",
              "      <td>No</td>\n",
              "      <td>No phone service</td>\n",
              "      <td>DSL</td>\n",
              "      <td>Yes</td>\n",
              "      <td>No</td>\n",
              "      <td>Yes</td>\n",
              "      <td>Yes</td>\n",
              "      <td>Yes</td>\n",
              "      <td>No</td>\n",
              "      <td>Two year</td>\n",
              "      <td>Yes</td>\n",
              "      <td>Bank transfer (automatic)</td>\n",
              "      <td>52.55</td>\n",
              "      <td></td>\n",
              "      <td>No</td>\n",
              "    </tr>\n",
              "    <tr>\n",
              "      <th>753</th>\n",
              "      <td>Male</td>\n",
              "      <td>0</td>\n",
              "      <td>No</td>\n",
              "      <td>Yes</td>\n",
              "      <td>0</td>\n",
              "      <td>Yes</td>\n",
              "      <td>No</td>\n",
              "      <td>No</td>\n",
              "      <td>No internet service</td>\n",
              "      <td>No internet service</td>\n",
              "      <td>No internet service</td>\n",
              "      <td>No internet service</td>\n",
              "      <td>No internet service</td>\n",
              "      <td>No internet service</td>\n",
              "      <td>Two year</td>\n",
              "      <td>No</td>\n",
              "      <td>Mailed check</td>\n",
              "      <td>20.25</td>\n",
              "      <td></td>\n",
              "      <td>No</td>\n",
              "    </tr>\n",
              "    <tr>\n",
              "      <th>936</th>\n",
              "      <td>Female</td>\n",
              "      <td>0</td>\n",
              "      <td>Yes</td>\n",
              "      <td>Yes</td>\n",
              "      <td>0</td>\n",
              "      <td>Yes</td>\n",
              "      <td>No</td>\n",
              "      <td>DSL</td>\n",
              "      <td>Yes</td>\n",
              "      <td>Yes</td>\n",
              "      <td>Yes</td>\n",
              "      <td>No</td>\n",
              "      <td>Yes</td>\n",
              "      <td>Yes</td>\n",
              "      <td>Two year</td>\n",
              "      <td>No</td>\n",
              "      <td>Mailed check</td>\n",
              "      <td>80.85</td>\n",
              "      <td></td>\n",
              "      <td>No</td>\n",
              "    </tr>\n",
              "    <tr>\n",
              "      <th>1082</th>\n",
              "      <td>Male</td>\n",
              "      <td>0</td>\n",
              "      <td>Yes</td>\n",
              "      <td>Yes</td>\n",
              "      <td>0</td>\n",
              "      <td>Yes</td>\n",
              "      <td>Yes</td>\n",
              "      <td>No</td>\n",
              "      <td>No internet service</td>\n",
              "      <td>No internet service</td>\n",
              "      <td>No internet service</td>\n",
              "      <td>No internet service</td>\n",
              "      <td>No internet service</td>\n",
              "      <td>No internet service</td>\n",
              "      <td>Two year</td>\n",
              "      <td>No</td>\n",
              "      <td>Mailed check</td>\n",
              "      <td>25.75</td>\n",
              "      <td></td>\n",
              "      <td>No</td>\n",
              "    </tr>\n",
              "    <tr>\n",
              "      <th>1340</th>\n",
              "      <td>Female</td>\n",
              "      <td>0</td>\n",
              "      <td>Yes</td>\n",
              "      <td>Yes</td>\n",
              "      <td>0</td>\n",
              "      <td>No</td>\n",
              "      <td>No phone service</td>\n",
              "      <td>DSL</td>\n",
              "      <td>Yes</td>\n",
              "      <td>Yes</td>\n",
              "      <td>Yes</td>\n",
              "      <td>Yes</td>\n",
              "      <td>Yes</td>\n",
              "      <td>No</td>\n",
              "      <td>Two year</td>\n",
              "      <td>No</td>\n",
              "      <td>Credit card (automatic)</td>\n",
              "      <td>56.05</td>\n",
              "      <td></td>\n",
              "      <td>No</td>\n",
              "    </tr>\n",
              "    <tr>\n",
              "      <th>3331</th>\n",
              "      <td>Male</td>\n",
              "      <td>0</td>\n",
              "      <td>Yes</td>\n",
              "      <td>Yes</td>\n",
              "      <td>0</td>\n",
              "      <td>Yes</td>\n",
              "      <td>No</td>\n",
              "      <td>No</td>\n",
              "      <td>No internet service</td>\n",
              "      <td>No internet service</td>\n",
              "      <td>No internet service</td>\n",
              "      <td>No internet service</td>\n",
              "      <td>No internet service</td>\n",
              "      <td>No internet service</td>\n",
              "      <td>Two year</td>\n",
              "      <td>No</td>\n",
              "      <td>Mailed check</td>\n",
              "      <td>19.85</td>\n",
              "      <td></td>\n",
              "      <td>No</td>\n",
              "    </tr>\n",
              "    <tr>\n",
              "      <th>3826</th>\n",
              "      <td>Male</td>\n",
              "      <td>0</td>\n",
              "      <td>Yes</td>\n",
              "      <td>Yes</td>\n",
              "      <td>0</td>\n",
              "      <td>Yes</td>\n",
              "      <td>Yes</td>\n",
              "      <td>No</td>\n",
              "      <td>No internet service</td>\n",
              "      <td>No internet service</td>\n",
              "      <td>No internet service</td>\n",
              "      <td>No internet service</td>\n",
              "      <td>No internet service</td>\n",
              "      <td>No internet service</td>\n",
              "      <td>Two year</td>\n",
              "      <td>No</td>\n",
              "      <td>Mailed check</td>\n",
              "      <td>25.35</td>\n",
              "      <td></td>\n",
              "      <td>No</td>\n",
              "    </tr>\n",
              "    <tr>\n",
              "      <th>4380</th>\n",
              "      <td>Female</td>\n",
              "      <td>0</td>\n",
              "      <td>Yes</td>\n",
              "      <td>Yes</td>\n",
              "      <td>0</td>\n",
              "      <td>Yes</td>\n",
              "      <td>No</td>\n",
              "      <td>No</td>\n",
              "      <td>No internet service</td>\n",
              "      <td>No internet service</td>\n",
              "      <td>No internet service</td>\n",
              "      <td>No internet service</td>\n",
              "      <td>No internet service</td>\n",
              "      <td>No internet service</td>\n",
              "      <td>Two year</td>\n",
              "      <td>No</td>\n",
              "      <td>Mailed check</td>\n",
              "      <td>20.00</td>\n",
              "      <td></td>\n",
              "      <td>No</td>\n",
              "    </tr>\n",
              "    <tr>\n",
              "      <th>5218</th>\n",
              "      <td>Male</td>\n",
              "      <td>0</td>\n",
              "      <td>Yes</td>\n",
              "      <td>Yes</td>\n",
              "      <td>0</td>\n",
              "      <td>Yes</td>\n",
              "      <td>No</td>\n",
              "      <td>No</td>\n",
              "      <td>No internet service</td>\n",
              "      <td>No internet service</td>\n",
              "      <td>No internet service</td>\n",
              "      <td>No internet service</td>\n",
              "      <td>No internet service</td>\n",
              "      <td>No internet service</td>\n",
              "      <td>One year</td>\n",
              "      <td>Yes</td>\n",
              "      <td>Mailed check</td>\n",
              "      <td>19.70</td>\n",
              "      <td></td>\n",
              "      <td>No</td>\n",
              "    </tr>\n",
              "    <tr>\n",
              "      <th>6670</th>\n",
              "      <td>Female</td>\n",
              "      <td>0</td>\n",
              "      <td>Yes</td>\n",
              "      <td>Yes</td>\n",
              "      <td>0</td>\n",
              "      <td>Yes</td>\n",
              "      <td>Yes</td>\n",
              "      <td>DSL</td>\n",
              "      <td>No</td>\n",
              "      <td>Yes</td>\n",
              "      <td>Yes</td>\n",
              "      <td>Yes</td>\n",
              "      <td>Yes</td>\n",
              "      <td>No</td>\n",
              "      <td>Two year</td>\n",
              "      <td>No</td>\n",
              "      <td>Mailed check</td>\n",
              "      <td>73.35</td>\n",
              "      <td></td>\n",
              "      <td>No</td>\n",
              "    </tr>\n",
              "    <tr>\n",
              "      <th>6754</th>\n",
              "      <td>Male</td>\n",
              "      <td>0</td>\n",
              "      <td>No</td>\n",
              "      <td>Yes</td>\n",
              "      <td>0</td>\n",
              "      <td>Yes</td>\n",
              "      <td>Yes</td>\n",
              "      <td>DSL</td>\n",
              "      <td>Yes</td>\n",
              "      <td>Yes</td>\n",
              "      <td>No</td>\n",
              "      <td>Yes</td>\n",
              "      <td>No</td>\n",
              "      <td>No</td>\n",
              "      <td>Two year</td>\n",
              "      <td>Yes</td>\n",
              "      <td>Bank transfer (automatic)</td>\n",
              "      <td>61.90</td>\n",
              "      <td></td>\n",
              "      <td>No</td>\n",
              "    </tr>\n",
              "  </tbody>\n",
              "</table>\n",
              "</div>\n",
              "      <button class=\"colab-df-convert\" onclick=\"convertToInteractive('df-3dbde031-7dbd-44f8-84a0-bef5f35ba398')\"\n",
              "              title=\"Convert this dataframe to an interactive table.\"\n",
              "              style=\"display:none;\">\n",
              "        \n",
              "  <svg xmlns=\"http://www.w3.org/2000/svg\" height=\"24px\"viewBox=\"0 0 24 24\"\n",
              "       width=\"24px\">\n",
              "    <path d=\"M0 0h24v24H0V0z\" fill=\"none\"/>\n",
              "    <path d=\"M18.56 5.44l.94 2.06.94-2.06 2.06-.94-2.06-.94-.94-2.06-.94 2.06-2.06.94zm-11 1L8.5 8.5l.94-2.06 2.06-.94-2.06-.94L8.5 2.5l-.94 2.06-2.06.94zm10 10l.94 2.06.94-2.06 2.06-.94-2.06-.94-.94-2.06-.94 2.06-2.06.94z\"/><path d=\"M17.41 7.96l-1.37-1.37c-.4-.4-.92-.59-1.43-.59-.52 0-1.04.2-1.43.59L10.3 9.45l-7.72 7.72c-.78.78-.78 2.05 0 2.83L4 21.41c.39.39.9.59 1.41.59.51 0 1.02-.2 1.41-.59l7.78-7.78 2.81-2.81c.8-.78.8-2.07 0-2.86zM5.41 20L4 18.59l7.72-7.72 1.47 1.35L5.41 20z\"/>\n",
              "  </svg>\n",
              "      </button>\n",
              "      \n",
              "  <style>\n",
              "    .colab-df-container {\n",
              "      display:flex;\n",
              "      flex-wrap:wrap;\n",
              "      gap: 12px;\n",
              "    }\n",
              "\n",
              "    .colab-df-convert {\n",
              "      background-color: #E8F0FE;\n",
              "      border: none;\n",
              "      border-radius: 50%;\n",
              "      cursor: pointer;\n",
              "      display: none;\n",
              "      fill: #1967D2;\n",
              "      height: 32px;\n",
              "      padding: 0 0 0 0;\n",
              "      width: 32px;\n",
              "    }\n",
              "\n",
              "    .colab-df-convert:hover {\n",
              "      background-color: #E2EBFA;\n",
              "      box-shadow: 0px 1px 2px rgba(60, 64, 67, 0.3), 0px 1px 3px 1px rgba(60, 64, 67, 0.15);\n",
              "      fill: #174EA6;\n",
              "    }\n",
              "\n",
              "    [theme=dark] .colab-df-convert {\n",
              "      background-color: #3B4455;\n",
              "      fill: #D2E3FC;\n",
              "    }\n",
              "\n",
              "    [theme=dark] .colab-df-convert:hover {\n",
              "      background-color: #434B5C;\n",
              "      box-shadow: 0px 1px 3px 1px rgba(0, 0, 0, 0.15);\n",
              "      filter: drop-shadow(0px 1px 2px rgba(0, 0, 0, 0.3));\n",
              "      fill: #FFFFFF;\n",
              "    }\n",
              "  </style>\n",
              "\n",
              "      <script>\n",
              "        const buttonEl =\n",
              "          document.querySelector('#df-3dbde031-7dbd-44f8-84a0-bef5f35ba398 button.colab-df-convert');\n",
              "        buttonEl.style.display =\n",
              "          google.colab.kernel.accessAllowed ? 'block' : 'none';\n",
              "\n",
              "        async function convertToInteractive(key) {\n",
              "          const element = document.querySelector('#df-3dbde031-7dbd-44f8-84a0-bef5f35ba398');\n",
              "          const dataTable =\n",
              "            await google.colab.kernel.invokeFunction('convertToInteractive',\n",
              "                                                     [key], {});\n",
              "          if (!dataTable) return;\n",
              "\n",
              "          const docLinkHtml = 'Like what you see? Visit the ' +\n",
              "            '<a target=\"_blank\" href=https://colab.research.google.com/notebooks/data_table.ipynb>data table notebook</a>'\n",
              "            + ' to learn more about interactive tables.';\n",
              "          element.innerHTML = '';\n",
              "          dataTable['output_type'] = 'display_data';\n",
              "          await google.colab.output.renderOutput(dataTable, element);\n",
              "          const docLink = document.createElement('div');\n",
              "          docLink.innerHTML = docLinkHtml;\n",
              "          element.appendChild(docLink);\n",
              "        }\n",
              "      </script>\n",
              "    </div>\n",
              "  </div>\n",
              "  "
            ]
          },
          "metadata": {},
          "execution_count": 111
        }
      ],
      "source": [
        "df[pd.to_numeric(df['TotalCharges'], errors='coerce').isnull()]"
      ]
    },
    {
      "cell_type": "code",
      "execution_count": 112,
      "metadata": {
        "colab": {
          "base_uri": "https://localhost:8080/"
        },
        "id": "jdSoufGTzhF7",
        "outputId": "2cc39123-0636-434b-bf6b-651d8d6a134f"
      },
      "outputs": [
        {
          "output_type": "execute_result",
          "data": {
            "text/plain": [
              "(7032, 20)"
            ]
          },
          "metadata": {},
          "execution_count": 112
        }
      ],
      "source": [
        "df1=df[df['TotalCharges']!=' ']\n",
        "df1.shape"
      ]
    },
    {
      "cell_type": "code",
      "execution_count": 113,
      "metadata": {
        "colab": {
          "base_uri": "https://localhost:8080/"
        },
        "id": "YPFWRR3U0Fpb",
        "outputId": "88aa21cb-3cd8-41f7-b663-0353ff1f8b77"
      },
      "outputs": [
        {
          "output_type": "execute_result",
          "data": {
            "text/plain": [
              "gender               object\n",
              "SeniorCitizen         int64\n",
              "Partner              object\n",
              "Dependents           object\n",
              "tenure                int64\n",
              "PhoneService         object\n",
              "MultipleLines        object\n",
              "InternetService      object\n",
              "OnlineSecurity       object\n",
              "OnlineBackup         object\n",
              "DeviceProtection     object\n",
              "TechSupport          object\n",
              "StreamingTV          object\n",
              "StreamingMovies      object\n",
              "Contract             object\n",
              "PaperlessBilling     object\n",
              "PaymentMethod        object\n",
              "MonthlyCharges      float64\n",
              "TotalCharges         object\n",
              "Churn                object\n",
              "dtype: object"
            ]
          },
          "metadata": {},
          "execution_count": 113
        }
      ],
      "source": [
        "df1.dtypes"
      ]
    },
    {
      "cell_type": "code",
      "execution_count": 114,
      "metadata": {
        "id": "uoUUhuFN0Um7",
        "colab": {
          "base_uri": "https://localhost:8080/"
        },
        "outputId": "07d6382a-587e-480f-b58e-28341d59e85c"
      },
      "outputs": [
        {
          "output_type": "stream",
          "name": "stderr",
          "text": [
            "/usr/local/lib/python3.7/dist-packages/ipykernel_launcher.py:1: SettingWithCopyWarning: \n",
            "A value is trying to be set on a copy of a slice from a DataFrame.\n",
            "Try using .loc[row_indexer,col_indexer] = value instead\n",
            "\n",
            "See the caveats in the documentation: https://pandas.pydata.org/pandas-docs/stable/user_guide/indexing.html#returning-a-view-versus-a-copy\n",
            "  \"\"\"Entry point for launching an IPython kernel.\n"
          ]
        }
      ],
      "source": [
        "df1['TotalCharges']=pd.to_numeric(df1['TotalCharges'])"
      ]
    },
    {
      "cell_type": "code",
      "execution_count": 115,
      "metadata": {
        "colab": {
          "base_uri": "https://localhost:8080/"
        },
        "id": "7u5HsgeF0aej",
        "outputId": "e95a3824-7e21-4cf9-ea5a-165118e85a4a"
      },
      "outputs": [
        {
          "output_type": "execute_result",
          "data": {
            "text/plain": [
              "gender               object\n",
              "SeniorCitizen         int64\n",
              "Partner              object\n",
              "Dependents           object\n",
              "tenure                int64\n",
              "PhoneService         object\n",
              "MultipleLines        object\n",
              "InternetService      object\n",
              "OnlineSecurity       object\n",
              "OnlineBackup         object\n",
              "DeviceProtection     object\n",
              "TechSupport          object\n",
              "StreamingTV          object\n",
              "StreamingMovies      object\n",
              "Contract             object\n",
              "PaperlessBilling     object\n",
              "PaymentMethod        object\n",
              "MonthlyCharges      float64\n",
              "TotalCharges        float64\n",
              "Churn                object\n",
              "dtype: object"
            ]
          },
          "metadata": {},
          "execution_count": 115
        }
      ],
      "source": [
        "df1.dtypes"
      ]
    },
    {
      "cell_type": "code",
      "source": [
        "tenure_churn_no=df1[df1['Churn']=='No']['tenure']\n",
        "tenure_churn_yes=df1[df1['Churn']=='Yes']['tenure']\n",
        "\n",
        "plt.xlabel('tenure')\n",
        "plt.ylabel('Number of Customers')\n",
        "plt.title('Customer Churn Prediction Visualization')\n",
        "\n",
        "plt.hist([tenure_churn_yes, tenure_churn_no], color=['green','red'], label=['Churn=Yes','Churn=No'])\n",
        "plt.legend()"
      ],
      "metadata": {
        "colab": {
          "base_uri": "https://localhost:8080/",
          "height": 402
        },
        "id": "nGeoy7755p_E",
        "outputId": "750941fc-a128-4334-ad0b-be18b17aae0b"
      },
      "execution_count": 116,
      "outputs": [
        {
          "output_type": "stream",
          "name": "stderr",
          "text": [
            "/usr/local/lib/python3.7/dist-packages/numpy/core/fromnumeric.py:3208: VisibleDeprecationWarning: Creating an ndarray from ragged nested sequences (which is a list-or-tuple of lists-or-tuples-or ndarrays with different lengths or shapes) is deprecated. If you meant to do this, you must specify 'dtype=object' when creating the ndarray.\n",
            "  return asarray(a).size\n",
            "/usr/local/lib/python3.7/dist-packages/matplotlib/cbook/__init__.py:1376: VisibleDeprecationWarning: Creating an ndarray from ragged nested sequences (which is a list-or-tuple of lists-or-tuples-or ndarrays with different lengths or shapes) is deprecated. If you meant to do this, you must specify 'dtype=object' when creating the ndarray.\n",
            "  X = np.atleast_1d(X.T if isinstance(X, np.ndarray) else np.asarray(X))\n"
          ]
        },
        {
          "output_type": "execute_result",
          "data": {
            "text/plain": [
              "<matplotlib.legend.Legend at 0x7f0a96d20810>"
            ]
          },
          "metadata": {},
          "execution_count": 116
        },
        {
          "output_type": "display_data",
          "data": {
            "text/plain": [
              "<Figure size 432x288 with 1 Axes>"
            ],
            "image/png": "[encoded data removed]"
          },
          "metadata": {
            "needs_background": "light"
          }
        }
      ]
    },
    {
      "cell_type": "code",
      "source": [
        "mc_churn_no = df1[df1.Churn=='No'].MonthlyCharges      \n",
        "mc_churn_yes = df1[df1.Churn=='Yes'].MonthlyCharges      \n",
        "\n",
        "plt.xlabel(\"Monthly Charges\")\n",
        "plt.ylabel(\"Number Of Customers\")\n",
        "plt.title(\"Customer Churn Prediction Visualiztion\")\n",
        "\n",
        "plt.hist([mc_churn_yes, mc_churn_no], rwidth=0.95, color=['green','red'],label=['Churn=Yes','Churn=No'])\n",
        "plt.legend()"
      ],
      "metadata": {
        "colab": {
          "base_uri": "https://localhost:8080/",
          "height": 312
        },
        "id": "-VTGF7Do7aBO",
        "outputId": "b4dd1626-31e6-47c5-e056-013ef0936dbf"
      },
      "execution_count": 117,
      "outputs": [
        {
          "output_type": "execute_result",
          "data": {
            "text/plain": [
              "<matplotlib.legend.Legend at 0x7f0a96bce790>"
            ]
          },
          "metadata": {},
          "execution_count": 117
        },
        {
          "output_type": "display_data",
          "data": {
            "text/plain": [
              "<Figure size 432x288 with 1 Axes>"
            ],
            "image/png": "[encoded data removed]"
          },
          "metadata": {
            "needs_background": "light"
          }
        }
      ]
    },
    {
      "cell_type": "code",
      "source": [
        "def print_unique_col_values(df):\n",
        "    for column in df:\n",
        "        if df[column].dtypes=='object':\n",
        "            print(f'{column} : {df[column].unique()}')"
      ],
      "metadata": {
        "id": "fLZqI1VJ-8As"
      },
      "execution_count": 118,
      "outputs": []
    },
    {
      "cell_type": "code",
      "source": [
        "print_unique_col_values(df1)"
      ],
      "metadata": {
        "colab": {
          "base_uri": "https://localhost:8080/"
        },
        "id": "3B95BLc6AtDd",
        "outputId": "cc2a38e0-2e7d-4853-a54b-94895d976dca"
      },
      "execution_count": 119,
      "outputs": [
        {
          "output_type": "stream",
          "name": "stdout",
          "text": [
            "gender : ['Female' 'Male']\n",
            "Partner : ['Yes' 'No']\n",
            "Dependents : ['No' 'Yes']\n",
            "PhoneService : ['No' 'Yes']\n",
            "MultipleLines : ['No phone service' 'No' 'Yes']\n",
            "InternetService : ['DSL' 'Fiber optic' 'No']\n",
            "OnlineSecurity : ['No' 'Yes' 'No internet service']\n",
            "OnlineBackup : ['Yes' 'No' 'No internet service']\n",
            "DeviceProtection : ['No' 'Yes' 'No internet service']\n",
            "TechSupport : ['No' 'Yes' 'No internet service']\n",
            "StreamingTV : ['No' 'Yes' 'No internet service']\n",
            "StreamingMovies : ['No' 'Yes' 'No internet service']\n",
            "Contract : ['Month-to-month' 'One year' 'Two year']\n",
            "PaperlessBilling : ['Yes' 'No']\n",
            "PaymentMethod : ['Electronic check' 'Mailed check' 'Bank transfer (automatic)'\n",
            " 'Credit card (automatic)']\n",
            "Churn : ['No' 'Yes']\n"
          ]
        }
      ]
    },
    {
      "cell_type": "code",
      "source": [
        "df1.replace('No internet service','No', inplace=True)\n",
        "df1.replace('No phone service','No', inplace=True)"
      ],
      "metadata": {
        "id": "oKKt-pLIBeYU",
        "colab": {
          "base_uri": "https://localhost:8080/"
        },
        "outputId": "70858ee2-b66b-454c-faa0-5e7bf6ef5229"
      },
      "execution_count": 120,
      "outputs": [
        {
          "output_type": "stream",
          "name": "stderr",
          "text": [
            "/usr/local/lib/python3.7/dist-packages/pandas/core/frame.py:5244: SettingWithCopyWarning: \n",
            "A value is trying to be set on a copy of a slice from a DataFrame\n",
            "\n",
            "See the caveats in the documentation: https://pandas.pydata.org/pandas-docs/stable/user_guide/indexing.html#returning-a-view-versus-a-copy\n",
            "  method=method,\n"
          ]
        }
      ]
    },
    {
      "cell_type": "code",
      "source": [
        "print_unique_col_values(df1)"
      ],
      "metadata": {
        "colab": {
          "base_uri": "https://localhost:8080/"
        },
        "id": "iAYhoUWXCms9",
        "outputId": "ef1dc240-f805-49c8-c504-ec66b4e16883"
      },
      "execution_count": 121,
      "outputs": [
        {
          "output_type": "stream",
          "name": "stdout",
          "text": [
            "gender : ['Female' 'Male']\n",
            "Partner : ['Yes' 'No']\n",
            "Dependents : ['No' 'Yes']\n",
            "PhoneService : ['No' 'Yes']\n",
            "MultipleLines : ['No' 'Yes']\n",
            "InternetService : ['DSL' 'Fiber optic' 'No']\n",
            "OnlineSecurity : ['No' 'Yes']\n",
            "OnlineBackup : ['Yes' 'No']\n",
            "DeviceProtection : ['No' 'Yes']\n",
            "TechSupport : ['No' 'Yes']\n",
            "StreamingTV : ['No' 'Yes']\n",
            "StreamingMovies : ['No' 'Yes']\n",
            "Contract : ['Month-to-month' 'One year' 'Two year']\n",
            "PaperlessBilling : ['Yes' 'No']\n",
            "PaymentMethod : ['Electronic check' 'Mailed check' 'Bank transfer (automatic)'\n",
            " 'Credit card (automatic)']\n",
            "Churn : ['No' 'Yes']\n"
          ]
        }
      ]
    },
    {
      "cell_type": "markdown",
      "source": [
        "# Changing strings to numeric form"
      ],
      "metadata": {
        "id": "VAs_RqKxmLI_"
      }
    },
    {
      "cell_type": "code",
      "source": [
        "df1.replace('Yes',1,inplace=True)\n",
        "df1.replace('No',0,inplace=True)"
      ],
      "metadata": {
        "id": "AqbK_ns7Cunc"
      },
      "execution_count": 122,
      "outputs": []
    },
    {
      "cell_type": "code",
      "source": [
        "df1.sample(5)"
      ],
      "metadata": {
        "colab": {
          "base_uri": "https://localhost:8080/",
          "height": 0
        },
        "id": "OktJMJoBDY4-",
        "outputId": "23d07873-c9a9-4bed-e522-b217dfbe2464"
      },
      "execution_count": 123,
      "outputs": [
        {
          "output_type": "execute_result",
          "data": {
            "text/plain": [
              "      gender  SeniorCitizen  Partner  Dependents  tenure  PhoneService  \\\n",
              "9       Male              0        0           1      62             1   \n",
              "793   Female              0        0           1      34             1   \n",
              "6809    Male              1        1           0       4             1   \n",
              "2978    Male              0        0           0      24             1   \n",
              "2207  Female              0        1           0       7             1   \n",
              "\n",
              "      MultipleLines InternetService  OnlineSecurity  OnlineBackup  \\\n",
              "9                 0             DSL               1             1   \n",
              "793               0             DSL               1             0   \n",
              "6809              1     Fiber optic               0             0   \n",
              "2978              0     Fiber optic               0             1   \n",
              "2207              0     Fiber optic               0             0   \n",
              "\n",
              "      DeviceProtection  TechSupport  StreamingTV  StreamingMovies  \\\n",
              "9                    0            0            0                0   \n",
              "793                  1            1            1                0   \n",
              "6809                 0            0            0                0   \n",
              "2978                 1            1            0                0   \n",
              "2207                 1            0            1                0   \n",
              "\n",
              "            Contract  PaperlessBilling              PaymentMethod  \\\n",
              "9           One year                 0  Bank transfer (automatic)   \n",
              "793         Two year                 0    Credit card (automatic)   \n",
              "6809  Month-to-month                 0           Electronic check   \n",
              "2978  Month-to-month                 1           Electronic check   \n",
              "2207  Month-to-month                 1           Electronic check   \n",
              "\n",
              "      MonthlyCharges  TotalCharges  Churn  \n",
              "9              56.15       3487.95      0  \n",
              "793            67.65       2339.30      0  \n",
              "6809           74.95        308.70      1  \n",
              "2978           85.95       2107.15      0  \n",
              "2207           86.25        587.10      1  "
            ],
            "text/html": [
              "\n",
              "  <div id=\"df-9d24b208-b811-4f59-b71c-0541043b405a\">\n",
              "    <div class=\"colab-df-container\">\n",
              "      <div>\n",
              "<style scoped>\n",
              "    .dataframe tbody tr th:only-of-type {\n",
              "        vertical-align: middle;\n",
              "    }\n",
              "\n",
              "    .dataframe tbody tr th {\n",
              "        vertical-align: top;\n",
              "    }\n",
              "\n",
              "    .dataframe thead th {\n",
              "        text-align: right;\n",
              "    }\n",
              "</style>\n",
              "<table border=\"1\" class=\"dataframe\">\n",
              "  <thead>\n",
              "    <tr style=\"text-align: right;\">\n",
              "      <th></th>\n",
              "      <th>gender</th>\n",
              "      <th>SeniorCitizen</th>\n",
              "      <th>Partner</th>\n",
              "      <th>Dependents</th>\n",
              "      <th>tenure</th>\n",
              "      <th>PhoneService</th>\n",
              "      <th>MultipleLines</th>\n",
              "      <th>InternetService</th>\n",
              "      <th>OnlineSecurity</th>\n",
              "      <th>OnlineBackup</th>\n",
              "      <th>DeviceProtection</th>\n",
              "      <th>TechSupport</th>\n",
              "      <th>StreamingTV</th>\n",
              "      <th>StreamingMovies</th>\n",
              "      <th>Contract</th>\n",
              "      <th>PaperlessBilling</th>\n",
              "      <th>PaymentMethod</th>\n",
              "      <th>MonthlyCharges</th>\n",
              "      <th>TotalCharges</th>\n",
              "      <th>Churn</th>\n",
              "    </tr>\n",
              "  </thead>\n",
              "  <tbody>\n",
              "    <tr>\n",
              "      <th>9</th>\n",
              "      <td>Male</td>\n",
              "      <td>0</td>\n",
              "      <td>0</td>\n",
              "      <td>1</td>\n",
              "      <td>62</td>\n",
              "      <td>1</td>\n",
              "      <td>0</td>\n",
              "      <td>DSL</td>\n",
              "      <td>1</td>\n",
              "      <td>1</td>\n",
              "      <td>0</td>\n",
              "      <td>0</td>\n",
              "      <td>0</td>\n",
              "      <td>0</td>\n",
              "      <td>One year</td>\n",
              "      <td>0</td>\n",
              "      <td>Bank transfer (automatic)</td>\n",
              "      <td>56.15</td>\n",
              "      <td>3487.95</td>\n",
              "      <td>0</td>\n",
              "    </tr>\n",
              "    <tr>\n",
              "      <th>793</th>\n",
              "      <td>Female</td>\n",
              "      <td>0</td>\n",
              "      <td>0</td>\n",
              "      <td>1</td>\n",
              "      <td>34</td>\n",
              "      <td>1</td>\n",
              "      <td>0</td>\n",
              "      <td>DSL</td>\n",
              "      <td>1</td>\n",
              "      <td>0</td>\n",
              "      <td>1</td>\n",
              "      <td>1</td>\n",
              "      <td>1</td>\n",
              "      <td>0</td>\n",
              "      <td>Two year</td>\n",
              "      <td>0</td>\n",
              "      <td>Credit card (automatic)</td>\n",
              "      <td>67.65</td>\n",
              "      <td>2339.30</td>\n",
              "      <td>0</td>\n",
              "    </tr>\n",
              "    <tr>\n",
              "      <th>6809</th>\n",
              "      <td>Male</td>\n",
              "      <td>1</td>\n",
              "      <td>1</td>\n",
              "      <td>0</td>\n",
              "      <td>4</td>\n",
              "      <td>1</td>\n",
              "      <td>1</td>\n",
              "      <td>Fiber optic</td>\n",
              "      <td>0</td>\n",
              "      <td>0</td>\n",
              "      <td>0</td>\n",
              "      <td>0</td>\n",
              "      <td>0</td>\n",
              "      <td>0</td>\n",
              "      <td>Month-to-month</td>\n",
              "      <td>0</td>\n",
              "      <td>Electronic check</td>\n",
              "      <td>74.95</td>\n",
              "      <td>308.70</td>\n",
              "      <td>1</td>\n",
              "    </tr>\n",
              "    <tr>\n",
              "      <th>2978</th>\n",
              "      <td>Male</td>\n",
              "      <td>0</td>\n",
              "      <td>0</td>\n",
              "      <td>0</td>\n",
              "      <td>24</td>\n",
              "      <td>1</td>\n",
              "      <td>0</td>\n",
              "      <td>Fiber optic</td>\n",
              "      <td>0</td>\n",
              "      <td>1</td>\n",
              "      <td>1</td>\n",
              "      <td>1</td>\n",
              "      <td>0</td>\n",
              "      <td>0</td>\n",
              "      <td>Month-to-month</td>\n",
              "      <td>1</td>\n",
              "      <td>Electronic check</td>\n",
              "      <td>85.95</td>\n",
              "      <td>2107.15</td>\n",
              "      <td>0</td>\n",
              "    </tr>\n",
              "    <tr>\n",
              "      <th>2207</th>\n",
              "      <td>Female</td>\n",
              "      <td>0</td>\n",
              "      <td>1</td>\n",
              "      <td>0</td>\n",
              "      <td>7</td>\n",
              "      <td>1</td>\n",
              "      <td>0</td>\n",
              "      <td>Fiber optic</td>\n",
              "      <td>0</td>\n",
              "      <td>0</td>\n",
              "      <td>1</td>\n",
              "      <td>0</td>\n",
              "      <td>1</td>\n",
              "      <td>0</td>\n",
              "      <td>Month-to-month</td>\n",
              "      <td>1</td>\n",
              "      <td>Electronic check</td>\n",
              "      <td>86.25</td>\n",
              "      <td>587.10</td>\n",
              "      <td>1</td>\n",
              "    </tr>\n",
              "  </tbody>\n",
              "</table>\n",
              "</div>\n",
              "      <button class=\"colab-df-convert\" onclick=\"convertToInteractive('df-9d24b208-b811-4f59-b71c-0541043b405a')\"\n",
              "              title=\"Convert this dataframe to an interactive table.\"\n",
              "              style=\"display:none;\">\n",
              "        \n",
              "  <svg xmlns=\"http://www.w3.org/2000/svg\" height=\"24px\"viewBox=\"0 0 24 24\"\n",
              "       width=\"24px\">\n",
              "    <path d=\"M0 0h24v24H0V0z\" fill=\"none\"/>\n",
              "    <path d=\"M18.56 5.44l.94 2.06.94-2.06 2.06-.94-2.06-.94-.94-2.06-.94 2.06-2.06.94zm-11 1L8.5 8.5l.94-2.06 2.06-.94-2.06-.94L8.5 2.5l-.94 2.06-2.06.94zm10 10l.94 2.06.94-2.06 2.06-.94-2.06-.94-.94-2.06-.94 2.06-2.06.94z\"/><path d=\"M17.41 7.96l-1.37-1.37c-.4-.4-.92-.59-1.43-.59-.52 0-1.04.2-1.43.59L10.3 9.45l-7.72 7.72c-.78.78-.78 2.05 0 2.83L4 21.41c.39.39.9.59 1.41.59.51 0 1.02-.2 1.41-.59l7.78-7.78 2.81-2.81c.8-.78.8-2.07 0-2.86zM5.41 20L4 18.59l7.72-7.72 1.47 1.35L5.41 20z\"/>\n",
              "  </svg>\n",
              "      </button>\n",
              "      \n",
              "  <style>\n",
              "    .colab-df-container {\n",
              "      display:flex;\n",
              "      flex-wrap:wrap;\n",
              "      gap: 12px;\n",
              "    }\n",
              "\n",
              "    .colab-df-convert {\n",
              "      background-color: #E8F0FE;\n",
              "      border: none;\n",
              "      border-radius: 50%;\n",
              "      cursor: pointer;\n",
              "      display: none;\n",
              "      fill: #1967D2;\n",
              "      height: 32px;\n",
              "      padding: 0 0 0 0;\n",
              "      width: 32px;\n",
              "    }\n",
              "\n",
              "    .colab-df-convert:hover {\n",
              "      background-color: #E2EBFA;\n",
              "      box-shadow: 0px 1px 2px rgba(60, 64, 67, 0.3), 0px 1px 3px 1px rgba(60, 64, 67, 0.15);\n",
              "      fill: #174EA6;\n",
              "    }\n",
              "\n",
              "    [theme=dark] .colab-df-convert {\n",
              "      background-color: #3B4455;\n",
              "      fill: #D2E3FC;\n",
              "    }\n",
              "\n",
              "    [theme=dark] .colab-df-convert:hover {\n",
              "      background-color: #434B5C;\n",
              "      box-shadow: 0px 1px 3px 1px rgba(0, 0, 0, 0.15);\n",
              "      filter: drop-shadow(0px 1px 2px rgba(0, 0, 0, 0.3));\n",
              "      fill: #FFFFFF;\n",
              "    }\n",
              "  </style>\n",
              "\n",
              "      <script>\n",
              "        const buttonEl =\n",
              "          document.querySelector('#df-9d24b208-b811-4f59-b71c-0541043b405a button.colab-df-convert');\n",
              "        buttonEl.style.display =\n",
              "          google.colab.kernel.accessAllowed ? 'block' : 'none';\n",
              "\n",
              "        async function convertToInteractive(key) {\n",
              "          const element = document.querySelector('#df-9d24b208-b811-4f59-b71c-0541043b405a');\n",
              "          const dataTable =\n",
              "            await google.colab.kernel.invokeFunction('convertToInteractive',\n",
              "                                                     [key], {});\n",
              "          if (!dataTable) return;\n",
              "\n",
              "          const docLinkHtml = 'Like what you see? Visit the ' +\n",
              "            '<a target=\"_blank\" href=https://colab.research.google.com/notebooks/data_table.ipynb>data table notebook</a>'\n",
              "            + ' to learn more about interactive tables.';\n",
              "          element.innerHTML = '';\n",
              "          dataTable['output_type'] = 'display_data';\n",
              "          await google.colab.output.renderOutput(dataTable, element);\n",
              "          const docLink = document.createElement('div');\n",
              "          docLink.innerHTML = docLinkHtml;\n",
              "          element.appendChild(docLink);\n",
              "        }\n",
              "      </script>\n",
              "    </div>\n",
              "  </div>\n",
              "  "
            ]
          },
          "metadata": {},
          "execution_count": 123
        }
      ]
    },
    {
      "cell_type": "code",
      "source": [
        "def print_unique_col_values(df):\n",
        "    for column in df:\n",
        "        print(f'{column} : {df[column].unique()}')"
      ],
      "metadata": {
        "id": "Rr4Av-zLDpyF"
      },
      "execution_count": 124,
      "outputs": []
    },
    {
      "cell_type": "code",
      "source": [
        "print_unique_col_values(df1)"
      ],
      "metadata": {
        "colab": {
          "base_uri": "https://localhost:8080/"
        },
        "id": "C7mDHl0IDQ8U",
        "outputId": "a8054af6-6452-4dcf-e1fc-66067184e96e"
      },
      "execution_count": 125,
      "outputs": [
        {
          "output_type": "stream",
          "name": "stdout",
          "text": [
            "gender : ['Female' 'Male']\n",
            "SeniorCitizen : [0 1]\n",
            "Partner : [1 0]\n",
            "Dependents : [0 1]\n",
            "tenure : [ 1 34  2 45  8 22 10 28 62 13 16 58 49 25 69 52 71 21 12 30 47 72 17 27\n",
            "  5 46 11 70 63 43 15 60 18 66  9  3 31 50 64 56  7 42 35 48 29 65 38 68\n",
            " 32 55 37 36 41  6  4 33 67 23 57 61 14 20 53 40 59 24 44 19 54 51 26 39]\n",
            "PhoneService : [0 1]\n",
            "MultipleLines : [0 1]\n",
            "InternetService : ['DSL' 'Fiber optic' 0]\n",
            "OnlineSecurity : [0 1]\n",
            "OnlineBackup : [1 0]\n",
            "DeviceProtection : [0 1]\n",
            "TechSupport : [0 1]\n",
            "StreamingTV : [0 1]\n",
            "StreamingMovies : [0 1]\n",
            "Contract : ['Month-to-month' 'One year' 'Two year']\n",
            "PaperlessBilling : [1 0]\n",
            "PaymentMethod : ['Electronic check' 'Mailed check' 'Bank transfer (automatic)'\n",
            " 'Credit card (automatic)']\n",
            "MonthlyCharges : [29.85 56.95 53.85 ... 63.1  44.2  78.7 ]\n",
            "TotalCharges : [  29.85 1889.5   108.15 ...  346.45  306.6  6844.5 ]\n",
            "Churn : [0 1]\n"
          ]
        }
      ]
    },
    {
      "cell_type": "code",
      "source": [
        "df1['InternetService'].replace(0,'No',inplace=True)\n",
        "print_unique_col_values(df1)"
      ],
      "metadata": {
        "colab": {
          "base_uri": "https://localhost:8080/"
        },
        "id": "zYPkhe9ADT-d",
        "outputId": "69a720c3-9fde-4ced-ee22-3928142f08c7"
      },
      "execution_count": 126,
      "outputs": [
        {
          "output_type": "stream",
          "name": "stdout",
          "text": [
            "gender : ['Female' 'Male']\n",
            "SeniorCitizen : [0 1]\n",
            "Partner : [1 0]\n",
            "Dependents : [0 1]\n",
            "tenure : [ 1 34  2 45  8 22 10 28 62 13 16 58 49 25 69 52 71 21 12 30 47 72 17 27\n",
            "  5 46 11 70 63 43 15 60 18 66  9  3 31 50 64 56  7 42 35 48 29 65 38 68\n",
            " 32 55 37 36 41  6  4 33 67 23 57 61 14 20 53 40 59 24 44 19 54 51 26 39]\n",
            "PhoneService : [0 1]\n",
            "MultipleLines : [0 1]\n",
            "InternetService : ['DSL' 'Fiber optic' 'No']\n",
            "OnlineSecurity : [0 1]\n",
            "OnlineBackup : [1 0]\n",
            "DeviceProtection : [0 1]\n",
            "TechSupport : [0 1]\n",
            "StreamingTV : [0 1]\n",
            "StreamingMovies : [0 1]\n",
            "Contract : ['Month-to-month' 'One year' 'Two year']\n",
            "PaperlessBilling : [1 0]\n",
            "PaymentMethod : ['Electronic check' 'Mailed check' 'Bank transfer (automatic)'\n",
            " 'Credit card (automatic)']\n",
            "MonthlyCharges : [29.85 56.95 53.85 ... 63.1  44.2  78.7 ]\n",
            "TotalCharges : [  29.85 1889.5   108.15 ...  346.45  306.6  6844.5 ]\n",
            "Churn : [0 1]\n"
          ]
        },
        {
          "output_type": "stream",
          "name": "stderr",
          "text": [
            "/usr/local/lib/python3.7/dist-packages/pandas/core/generic.py:6619: SettingWithCopyWarning: \n",
            "A value is trying to be set on a copy of a slice from a DataFrame\n",
            "\n",
            "See the caveats in the documentation: https://pandas.pydata.org/pandas-docs/stable/user_guide/indexing.html#returning-a-view-versus-a-copy\n",
            "  return self._update_inplace(result)\n"
          ]
        }
      ]
    },
    {
      "cell_type": "code",
      "source": [
        "df1['gender'].replace({'Female':1,'Male':0}, inplace=True)"
      ],
      "metadata": {
        "id": "Jv25erL9D45F"
      },
      "execution_count": 127,
      "outputs": []
    },
    {
      "cell_type": "code",
      "source": [
        "print_unique_col_values(df1)"
      ],
      "metadata": {
        "colab": {
          "base_uri": "https://localhost:8080/"
        },
        "id": "j8kWXKsHEqxN",
        "outputId": "4943b4f4-1a23-4c27-8785-985dee0024d9"
      },
      "execution_count": 128,
      "outputs": [
        {
          "output_type": "stream",
          "name": "stdout",
          "text": [
            "gender : [1 0]\n",
            "SeniorCitizen : [0 1]\n",
            "Partner : [1 0]\n",
            "Dependents : [0 1]\n",
            "tenure : [ 1 34  2 45  8 22 10 28 62 13 16 58 49 25 69 52 71 21 12 30 47 72 17 27\n",
            "  5 46 11 70 63 43 15 60 18 66  9  3 31 50 64 56  7 42 35 48 29 65 38 68\n",
            " 32 55 37 36 41  6  4 33 67 23 57 61 14 20 53 40 59 24 44 19 54 51 26 39]\n",
            "PhoneService : [0 1]\n",
            "MultipleLines : [0 1]\n",
            "InternetService : ['DSL' 'Fiber optic' 'No']\n",
            "OnlineSecurity : [0 1]\n",
            "OnlineBackup : [1 0]\n",
            "DeviceProtection : [0 1]\n",
            "TechSupport : [0 1]\n",
            "StreamingTV : [0 1]\n",
            "StreamingMovies : [0 1]\n",
            "Contract : ['Month-to-month' 'One year' 'Two year']\n",
            "PaperlessBilling : [1 0]\n",
            "PaymentMethod : ['Electronic check' 'Mailed check' 'Bank transfer (automatic)'\n",
            " 'Credit card (automatic)']\n",
            "MonthlyCharges : [29.85 56.95 53.85 ... 63.1  44.2  78.7 ]\n",
            "TotalCharges : [  29.85 1889.5   108.15 ...  346.45  306.6  6844.5 ]\n",
            "Churn : [0 1]\n"
          ]
        }
      ]
    },
    {
      "cell_type": "markdown",
      "source": [
        "# One-Hot-Encoding Data"
      ],
      "metadata": {
        "id": "8K7Atu8GmU8J"
      }
    },
    {
      "cell_type": "code",
      "source": [
        "df2=pd.get_dummies(data=df1,columns=['InternetService','Contract','PaymentMethod'])\n",
        "df2.columns"
      ],
      "metadata": {
        "colab": {
          "base_uri": "https://localhost:8080/"
        },
        "id": "zEJbemT8E3Bd",
        "outputId": "80fa953d-f324-41e4-db07-3ed458a72ab1"
      },
      "execution_count": 129,
      "outputs": [
        {
          "output_type": "execute_result",
          "data": {
            "text/plain": [
              "Index(['gender', 'SeniorCitizen', 'Partner', 'Dependents', 'tenure',\n",
              "       'PhoneService', 'MultipleLines', 'OnlineSecurity', 'OnlineBackup',\n",
              "       'DeviceProtection', 'TechSupport', 'StreamingTV', 'StreamingMovies',\n",
              "       'PaperlessBilling', 'MonthlyCharges', 'TotalCharges', 'Churn',\n",
              "       'InternetService_DSL', 'InternetService_Fiber optic',\n",
              "       'InternetService_No', 'Contract_Month-to-month', 'Contract_One year',\n",
              "       'Contract_Two year', 'PaymentMethod_Bank transfer (automatic)',\n",
              "       'PaymentMethod_Credit card (automatic)',\n",
              "       'PaymentMethod_Electronic check', 'PaymentMethod_Mailed check'],\n",
              "      dtype='object')"
            ]
          },
          "metadata": {},
          "execution_count": 129
        }
      ]
    },
    {
      "cell_type": "code",
      "source": [
        "df2.sample(5)"
      ],
      "metadata": {
        "colab": {
          "base_uri": "https://localhost:8080/",
          "height": 0
        },
        "id": "cIMu8H4nFQGF",
        "outputId": "90d28baa-f508-4495-c8a1-139e3db9067a"
      },
      "execution_count": 130,
      "outputs": [
        {
          "output_type": "execute_result",
          "data": {
            "text/plain": [
              "      gender  SeniorCitizen  Partner  Dependents  tenure  PhoneService  \\\n",
              "5120       0              0        1           1       7             1   \n",
              "2880       0              0        0           0      12             1   \n",
              "7028       1              0        1           0      68             1   \n",
              "6153       0              0        1           1      60             1   \n",
              "3853       0              0        0           0      46             1   \n",
              "\n",
              "      MultipleLines  OnlineSecurity  OnlineBackup  DeviceProtection  ...  \\\n",
              "5120              0               1             0                 0  ...   \n",
              "2880              0               0             0                 0  ...   \n",
              "7028              0               0             1                 0  ...   \n",
              "6153              0               0             0                 0  ...   \n",
              "3853              1               0             0                 0  ...   \n",
              "\n",
              "      InternetService_DSL  InternetService_Fiber optic  InternetService_No  \\\n",
              "5120                    1                            0                   0   \n",
              "2880                    0                            1                   0   \n",
              "7028                    1                            0                   0   \n",
              "6153                    0                            0                   1   \n",
              "3853                    0                            1                   0   \n",
              "\n",
              "      Contract_Month-to-month  Contract_One year  Contract_Two year  \\\n",
              "5120                        0                  1                  0   \n",
              "2880                        1                  0                  0   \n",
              "7028                        0                  0                  1   \n",
              "6153                        0                  0                  1   \n",
              "3853                        1                  0                  0   \n",
              "\n",
              "      PaymentMethod_Bank transfer (automatic)  \\\n",
              "5120                                        0   \n",
              "2880                                        1   \n",
              "7028                                        1   \n",
              "6153                                        1   \n",
              "3853                                        1   \n",
              "\n",
              "      PaymentMethod_Credit card (automatic)  PaymentMethod_Electronic check  \\\n",
              "5120                                      0                               1   \n",
              "2880                                      0                               0   \n",
              "7028                                      0                               0   \n",
              "6153                                      0                               0   \n",
              "3853                                      0                               0   \n",
              "\n",
              "      PaymentMethod_Mailed check  \n",
              "5120                           0  \n",
              "2880                           0  \n",
              "7028                           0  \n",
              "6153                           0  \n",
              "3853                           0  \n",
              "\n",
              "[5 rows x 27 columns]"
            ],
            "text/html": [
              "\n",
              "  <div id=\"df-8df7419c-0fc8-4591-8708-354cead679d7\">\n",
              "    <div class=\"colab-df-container\">\n",
              "      <div>\n",
              "<style scoped>\n",
              "    .dataframe tbody tr th:only-of-type {\n",
              "        vertical-align: middle;\n",
              "    }\n",
              "\n",
              "    .dataframe tbody tr th {\n",
              "        vertical-align: top;\n",
              "    }\n",
              "\n",
              "    .dataframe thead th {\n",
              "        text-align: right;\n",
              "    }\n",
              "</style>\n",
              "<table border=\"1\" class=\"dataframe\">\n",
              "  <thead>\n",
              "    <tr style=\"text-align: right;\">\n",
              "      <th></th>\n",
              "      <th>gender</th>\n",
              "      <th>SeniorCitizen</th>\n",
              "      <th>Partner</th>\n",
              "      <th>Dependents</th>\n",
              "      <th>tenure</th>\n",
              "      <th>PhoneService</th>\n",
              "      <th>MultipleLines</th>\n",
              "      <th>OnlineSecurity</th>\n",
              "      <th>OnlineBackup</th>\n",
              "      <th>DeviceProtection</th>\n",
              "      <th>...</th>\n",
              "      <th>InternetService_DSL</th>\n",
              "      <th>InternetService_Fiber optic</th>\n",
              "      <th>InternetService_No</th>\n",
              "      <th>Contract_Month-to-month</th>\n",
              "      <th>Contract_One year</th>\n",
              "      <th>Contract_Two year</th>\n",
              "      <th>PaymentMethod_Bank transfer (automatic)</th>\n",
              "      <th>PaymentMethod_Credit card (automatic)</th>\n",
              "      <th>PaymentMethod_Electronic check</th>\n",
              "      <th>PaymentMethod_Mailed check</th>\n",
              "    </tr>\n",
              "  </thead>\n",
              "  <tbody>\n",
              "    <tr>\n",
              "      <th>5120</th>\n",
              "      <td>0</td>\n",
              "      <td>0</td>\n",
              "      <td>1</td>\n",
              "      <td>1</td>\n",
              "      <td>7</td>\n",
              "      <td>1</td>\n",
              "      <td>0</td>\n",
              "      <td>1</td>\n",
              "      <td>0</td>\n",
              "      <td>0</td>\n",
              "      <td>...</td>\n",
              "      <td>1</td>\n",
              "      <td>0</td>\n",
              "      <td>0</td>\n",
              "      <td>0</td>\n",
              "      <td>1</td>\n",
              "      <td>0</td>\n",
              "      <td>0</td>\n",
              "      <td>0</td>\n",
              "      <td>1</td>\n",
              "      <td>0</td>\n",
              "    </tr>\n",
              "    <tr>\n",
              "      <th>2880</th>\n",
              "      <td>0</td>\n",
              "      <td>0</td>\n",
              "      <td>0</td>\n",
              "      <td>0</td>\n",
              "      <td>12</td>\n",
              "      <td>1</td>\n",
              "      <td>0</td>\n",
              "      <td>0</td>\n",
              "      <td>0</td>\n",
              "      <td>0</td>\n",
              "      <td>...</td>\n",
              "      <td>0</td>\n",
              "      <td>1</td>\n",
              "      <td>0</td>\n",
              "      <td>1</td>\n",
              "      <td>0</td>\n",
              "      <td>0</td>\n",
              "      <td>1</td>\n",
              "      <td>0</td>\n",
              "      <td>0</td>\n",
              "      <td>0</td>\n",
              "    </tr>\n",
              "    <tr>\n",
              "      <th>7028</th>\n",
              "      <td>1</td>\n",
              "      <td>0</td>\n",
              "      <td>1</td>\n",
              "      <td>0</td>\n",
              "      <td>68</td>\n",
              "      <td>1</td>\n",
              "      <td>0</td>\n",
              "      <td>0</td>\n",
              "      <td>1</td>\n",
              "      <td>0</td>\n",
              "      <td>...</td>\n",
              "      <td>1</td>\n",
              "      <td>0</td>\n",
              "      <td>0</td>\n",
              "      <td>0</td>\n",
              "      <td>0</td>\n",
              "      <td>1</td>\n",
              "      <td>1</td>\n",
              "      <td>0</td>\n",
              "      <td>0</td>\n",
              "      <td>0</td>\n",
              "    </tr>\n",
              "    <tr>\n",
              "      <th>6153</th>\n",
              "      <td>0</td>\n",
              "      <td>0</td>\n",
              "      <td>1</td>\n",
              "      <td>1</td>\n",
              "      <td>60</td>\n",
              "      <td>1</td>\n",
              "      <td>0</td>\n",
              "      <td>0</td>\n",
              "      <td>0</td>\n",
              "      <td>0</td>\n",
              "      <td>...</td>\n",
              "      <td>0</td>\n",
              "      <td>0</td>\n",
              "      <td>1</td>\n",
              "      <td>0</td>\n",
              "      <td>0</td>\n",
              "      <td>1</td>\n",
              "      <td>1</td>\n",
              "      <td>0</td>\n",
              "      <td>0</td>\n",
              "      <td>0</td>\n",
              "    </tr>\n",
              "    <tr>\n",
              "      <th>3853</th>\n",
              "      <td>0</td>\n",
              "      <td>0</td>\n",
              "      <td>0</td>\n",
              "      <td>0</td>\n",
              "      <td>46</td>\n",
              "      <td>1</td>\n",
              "      <td>1</td>\n",
              "      <td>0</td>\n",
              "      <td>0</td>\n",
              "      <td>0</td>\n",
              "      <td>...</td>\n",
              "      <td>0</td>\n",
              "      <td>1</td>\n",
              "      <td>0</td>\n",
              "      <td>1</td>\n",
              "      <td>0</td>\n",
              "      <td>0</td>\n",
              "      <td>1</td>\n",
              "      <td>0</td>\n",
              "      <td>0</td>\n",
              "      <td>0</td>\n",
              "    </tr>\n",
              "  </tbody>\n",
              "</table>\n",
              "<p>5 rows × 27 columns</p>\n",
              "</div>\n",
              "      <button class=\"colab-df-convert\" onclick=\"convertToInteractive('df-8df7419c-0fc8-4591-8708-354cead679d7')\"\n",
              "              title=\"Convert this dataframe to an interactive table.\"\n",
              "              style=\"display:none;\">\n",
              "        \n",
              "  <svg xmlns=\"http://www.w3.org/2000/svg\" height=\"24px\"viewBox=\"0 0 24 24\"\n",
              "       width=\"24px\">\n",
              "    <path d=\"M0 0h24v24H0V0z\" fill=\"none\"/>\n",
              "    <path d=\"M18.56 5.44l.94 2.06.94-2.06 2.06-.94-2.06-.94-.94-2.06-.94 2.06-2.06.94zm-11 1L8.5 8.5l.94-2.06 2.06-.94-2.06-.94L8.5 2.5l-.94 2.06-2.06.94zm10 10l.94 2.06.94-2.06 2.06-.94-2.06-.94-.94-2.06-.94 2.06-2.06.94z\"/><path d=\"M17.41 7.96l-1.37-1.37c-.4-.4-.92-.59-1.43-.59-.52 0-1.04.2-1.43.59L10.3 9.45l-7.72 7.72c-.78.78-.78 2.05 0 2.83L4 21.41c.39.39.9.59 1.41.59.51 0 1.02-.2 1.41-.59l7.78-7.78 2.81-2.81c.8-.78.8-2.07 0-2.86zM5.41 20L4 18.59l7.72-7.72 1.47 1.35L5.41 20z\"/>\n",
              "  </svg>\n",
              "      </button>\n",
              "      \n",
              "  <style>\n",
              "    .colab-df-container {\n",
              "      display:flex;\n",
              "      flex-wrap:wrap;\n",
              "      gap: 12px;\n",
              "    }\n",
              "\n",
              "    .colab-df-convert {\n",
              "      background-color: #E8F0FE;\n",
              "      border: none;\n",
              "      border-radius: 50%;\n",
              "      cursor: pointer;\n",
              "      display: none;\n",
              "      fill: #1967D2;\n",
              "      height: 32px;\n",
              "      padding: 0 0 0 0;\n",
              "      width: 32px;\n",
              "    }\n",
              "\n",
              "    .colab-df-convert:hover {\n",
              "      background-color: #E2EBFA;\n",
              "      box-shadow: 0px 1px 2px rgba(60, 64, 67, 0.3), 0px 1px 3px 1px rgba(60, 64, 67, 0.15);\n",
              "      fill: #174EA6;\n",
              "    }\n",
              "\n",
              "    [theme=dark] .colab-df-convert {\n",
              "      background-color: #3B4455;\n",
              "      fill: #D2E3FC;\n",
              "    }\n",
              "\n",
              "    [theme=dark] .colab-df-convert:hover {\n",
              "      background-color: #434B5C;\n",
              "      box-shadow: 0px 1px 3px 1px rgba(0, 0, 0, 0.15);\n",
              "      filter: drop-shadow(0px 1px 2px rgba(0, 0, 0, 0.3));\n",
              "      fill: #FFFFFF;\n",
              "    }\n",
              "  </style>\n",
              "\n",
              "      <script>\n",
              "        const buttonEl =\n",
              "          document.querySelector('#df-8df7419c-0fc8-4591-8708-354cead679d7 button.colab-df-convert');\n",
              "        buttonEl.style.display =\n",
              "          google.colab.kernel.accessAllowed ? 'block' : 'none';\n",
              "\n",
              "        async function convertToInteractive(key) {\n",
              "          const element = document.querySelector('#df-8df7419c-0fc8-4591-8708-354cead679d7');\n",
              "          const dataTable =\n",
              "            await google.colab.kernel.invokeFunction('convertToInteractive',\n",
              "                                                     [key], {});\n",
              "          if (!dataTable) return;\n",
              "\n",
              "          const docLinkHtml = 'Like what you see? Visit the ' +\n",
              "            '<a target=\"_blank\" href=https://colab.research.google.com/notebooks/data_table.ipynb>data table notebook</a>'\n",
              "            + ' to learn more about interactive tables.';\n",
              "          element.innerHTML = '';\n",
              "          dataTable['output_type'] = 'display_data';\n",
              "          await google.colab.output.renderOutput(dataTable, element);\n",
              "          const docLink = document.createElement('div');\n",
              "          docLink.innerHTML = docLinkHtml;\n",
              "          element.appendChild(docLink);\n",
              "        }\n",
              "      </script>\n",
              "    </div>\n",
              "  </div>\n",
              "  "
            ]
          },
          "metadata": {},
          "execution_count": 130
        }
      ]
    },
    {
      "cell_type": "code",
      "source": [
        "df2.dtypes"
      ],
      "metadata": {
        "colab": {
          "base_uri": "https://localhost:8080/"
        },
        "id": "ufCMQka-FpXt",
        "outputId": "35d5969d-2e9c-44d2-99b1-49e5a01f93db"
      },
      "execution_count": 131,
      "outputs": [
        {
          "output_type": "execute_result",
          "data": {
            "text/plain": [
              "gender                                       int64\n",
              "SeniorCitizen                                int64\n",
              "Partner                                      int64\n",
              "Dependents                                   int64\n",
              "tenure                                       int64\n",
              "PhoneService                                 int64\n",
              "MultipleLines                                int64\n",
              "OnlineSecurity                               int64\n",
              "OnlineBackup                                 int64\n",
              "DeviceProtection                             int64\n",
              "TechSupport                                  int64\n",
              "StreamingTV                                  int64\n",
              "StreamingMovies                              int64\n",
              "PaperlessBilling                             int64\n",
              "MonthlyCharges                             float64\n",
              "TotalCharges                               float64\n",
              "Churn                                        int64\n",
              "InternetService_DSL                          uint8\n",
              "InternetService_Fiber optic                  uint8\n",
              "InternetService_No                           uint8\n",
              "Contract_Month-to-month                      uint8\n",
              "Contract_One year                            uint8\n",
              "Contract_Two year                            uint8\n",
              "PaymentMethod_Bank transfer (automatic)      uint8\n",
              "PaymentMethod_Credit card (automatic)        uint8\n",
              "PaymentMethod_Electronic check               uint8\n",
              "PaymentMethod_Mailed check                   uint8\n",
              "dtype: object"
            ]
          },
          "metadata": {},
          "execution_count": 131
        }
      ]
    },
    {
      "cell_type": "markdown",
      "source": [
        "# Scaling Data"
      ],
      "metadata": {
        "id": "MlKX9LQnmaMi"
      }
    },
    {
      "cell_type": "code",
      "source": [
        "cols_to_scale=['tenure','MonthlyCharges','TotalCharges']\n",
        "\n",
        "from sklearn.preprocessing import MinMaxScaler\n",
        "scaler=MinMaxScaler()\n",
        "\n",
        "df2[cols_to_scale]=scaler.fit_transform(df2[cols_to_scale])"
      ],
      "metadata": {
        "id": "B65KbZdBF0cV"
      },
      "execution_count": 132,
      "outputs": []
    },
    {
      "cell_type": "code",
      "source": [
        "df2.sample(3)"
      ],
      "metadata": {
        "colab": {
          "base_uri": "https://localhost:8080/",
          "height": 271
        },
        "id": "9W9lTspaGRm0",
        "outputId": "d942a0b1-1d30-42cf-fc60-fa5f02b69a37"
      },
      "execution_count": 133,
      "outputs": [
        {
          "output_type": "execute_result",
          "data": {
            "text/plain": [
              "      gender  SeniorCitizen  Partner  Dependents    tenure  PhoneService  \\\n",
              "6172       0              0        1           0  0.126761             1   \n",
              "3037       0              0        0           0  0.436620             1   \n",
              "5535       1              0        1           1  0.760563             1   \n",
              "\n",
              "      MultipleLines  OnlineSecurity  OnlineBackup  DeviceProtection  ...  \\\n",
              "6172              0               0             0                 0  ...   \n",
              "3037              0               0             0                 0  ...   \n",
              "5535              1               1             0                 1  ...   \n",
              "\n",
              "      InternetService_DSL  InternetService_Fiber optic  InternetService_No  \\\n",
              "6172                    0                            1                   0   \n",
              "3037                    0                            0                   1   \n",
              "5535                    1                            0                   0   \n",
              "\n",
              "      Contract_Month-to-month  Contract_One year  Contract_Two year  \\\n",
              "6172                        1                  0                  0   \n",
              "3037                        0                  1                  0   \n",
              "5535                        0                  0                  1   \n",
              "\n",
              "      PaymentMethod_Bank transfer (automatic)  \\\n",
              "6172                                        0   \n",
              "3037                                        0   \n",
              "5535                                        1   \n",
              "\n",
              "      PaymentMethod_Credit card (automatic)  PaymentMethod_Electronic check  \\\n",
              "6172                                      0                               1   \n",
              "3037                                      1                               0   \n",
              "5535                                      0                               0   \n",
              "\n",
              "      PaymentMethod_Mailed check  \n",
              "6172                           0  \n",
              "3037                           0  \n",
              "5535                           0  \n",
              "\n",
              "[3 rows x 27 columns]"
            ],
            "text/html": [
              "\n",
              "  <div id=\"df-1a909068-f237-4319-9bf9-caa813637ed9\">\n",
              "    <div class=\"colab-df-container\">\n",
              "      <div>\n",
              "<style scoped>\n",
              "    .dataframe tbody tr th:only-of-type {\n",
              "        vertical-align: middle;\n",
              "    }\n",
              "\n",
              "    .dataframe tbody tr th {\n",
              "        vertical-align: top;\n",
              "    }\n",
              "\n",
              "    .dataframe thead th {\n",
              "        text-align: right;\n",
              "    }\n",
              "</style>\n",
              "<table border=\"1\" class=\"dataframe\">\n",
              "  <thead>\n",
              "    <tr style=\"text-align: right;\">\n",
              "      <th></th>\n",
              "      <th>gender</th>\n",
              "      <th>SeniorCitizen</th>\n",
              "      <th>Partner</th>\n",
              "      <th>Dependents</th>\n",
              "      <th>tenure</th>\n",
              "      <th>PhoneService</th>\n",
              "      <th>MultipleLines</th>\n",
              "      <th>OnlineSecurity</th>\n",
              "      <th>OnlineBackup</th>\n",
              "      <th>DeviceProtection</th>\n",
              "      <th>...</th>\n",
              "      <th>InternetService_DSL</th>\n",
              "      <th>InternetService_Fiber optic</th>\n",
              "      <th>InternetService_No</th>\n",
              "      <th>Contract_Month-to-month</th>\n",
              "      <th>Contract_One year</th>\n",
              "      <th>Contract_Two year</th>\n",
              "      <th>PaymentMethod_Bank transfer (automatic)</th>\n",
              "      <th>PaymentMethod_Credit card (automatic)</th>\n",
              "      <th>PaymentMethod_Electronic check</th>\n",
              "      <th>PaymentMethod_Mailed check</th>\n",
              "    </tr>\n",
              "  </thead>\n",
              "  <tbody>\n",
              "    <tr>\n",
              "      <th>6172</th>\n",
              "      <td>0</td>\n",
              "      <td>0</td>\n",
              "      <td>1</td>\n",
              "      <td>0</td>\n",
              "      <td>0.126761</td>\n",
              "      <td>1</td>\n",
              "      <td>0</td>\n",
              "      <td>0</td>\n",
              "      <td>0</td>\n",
              "      <td>0</td>\n",
              "      <td>...</td>\n",
              "      <td>0</td>\n",
              "      <td>1</td>\n",
              "      <td>0</td>\n",
              "      <td>1</td>\n",
              "      <td>0</td>\n",
              "      <td>0</td>\n",
              "      <td>0</td>\n",
              "      <td>0</td>\n",
              "      <td>1</td>\n",
              "      <td>0</td>\n",
              "    </tr>\n",
              "    <tr>\n",
              "      <th>3037</th>\n",
              "      <td>0</td>\n",
              "      <td>0</td>\n",
              "      <td>0</td>\n",
              "      <td>0</td>\n",
              "      <td>0.436620</td>\n",
              "      <td>1</td>\n",
              "      <td>0</td>\n",
              "      <td>0</td>\n",
              "      <td>0</td>\n",
              "      <td>0</td>\n",
              "      <td>...</td>\n",
              "      <td>0</td>\n",
              "      <td>0</td>\n",
              "      <td>1</td>\n",
              "      <td>0</td>\n",
              "      <td>1</td>\n",
              "      <td>0</td>\n",
              "      <td>0</td>\n",
              "      <td>1</td>\n",
              "      <td>0</td>\n",
              "      <td>0</td>\n",
              "    </tr>\n",
              "    <tr>\n",
              "      <th>5535</th>\n",
              "      <td>1</td>\n",
              "      <td>0</td>\n",
              "      <td>1</td>\n",
              "      <td>1</td>\n",
              "      <td>0.760563</td>\n",
              "      <td>1</td>\n",
              "      <td>1</td>\n",
              "      <td>1</td>\n",
              "      <td>0</td>\n",
              "      <td>1</td>\n",
              "      <td>...</td>\n",
              "      <td>1</td>\n",
              "      <td>0</td>\n",
              "      <td>0</td>\n",
              "      <td>0</td>\n",
              "      <td>0</td>\n",
              "      <td>1</td>\n",
              "      <td>1</td>\n",
              "      <td>0</td>\n",
              "      <td>0</td>\n",
              "      <td>0</td>\n",
              "    </tr>\n",
              "  </tbody>\n",
              "</table>\n",
              "<p>3 rows × 27 columns</p>\n",
              "</div>\n",
              "      <button class=\"colab-df-convert\" onclick=\"convertToInteractive('df-1a909068-f237-4319-9bf9-caa813637ed9')\"\n",
              "              title=\"Convert this dataframe to an interactive table.\"\n",
              "              style=\"display:none;\">\n",
              "        \n",
              "  <svg xmlns=\"http://www.w3.org/2000/svg\" height=\"24px\"viewBox=\"0 0 24 24\"\n",
              "       width=\"24px\">\n",
              "    <path d=\"M0 0h24v24H0V0z\" fill=\"none\"/>\n",
              "    <path d=\"M18.56 5.44l.94 2.06.94-2.06 2.06-.94-2.06-.94-.94-2.06-.94 2.06-2.06.94zm-11 1L8.5 8.5l.94-2.06 2.06-.94-2.06-.94L8.5 2.5l-.94 2.06-2.06.94zm10 10l.94 2.06.94-2.06 2.06-.94-2.06-.94-.94-2.06-.94 2.06-2.06.94z\"/><path d=\"M17.41 7.96l-1.37-1.37c-.4-.4-.92-.59-1.43-.59-.52 0-1.04.2-1.43.59L10.3 9.45l-7.72 7.72c-.78.78-.78 2.05 0 2.83L4 21.41c.39.39.9.59 1.41.59.51 0 1.02-.2 1.41-.59l7.78-7.78 2.81-2.81c.8-.78.8-2.07 0-2.86zM5.41 20L4 18.59l7.72-7.72 1.47 1.35L5.41 20z\"/>\n",
              "  </svg>\n",
              "      </button>\n",
              "      \n",
              "  <style>\n",
              "    .colab-df-container {\n",
              "      display:flex;\n",
              "      flex-wrap:wrap;\n",
              "      gap: 12px;\n",
              "    }\n",
              "\n",
              "    .colab-df-convert {\n",
              "      background-color: #E8F0FE;\n",
              "      border: none;\n",
              "      border-radius: 50%;\n",
              "      cursor: pointer;\n",
              "      display: none;\n",
              "      fill: #1967D2;\n",
              "      height: 32px;\n",
              "      padding: 0 0 0 0;\n",
              "      width: 32px;\n",
              "    }\n",
              "\n",
              "    .colab-df-convert:hover {\n",
              "      background-color: #E2EBFA;\n",
              "      box-shadow: 0px 1px 2px rgba(60, 64, 67, 0.3), 0px 1px 3px 1px rgba(60, 64, 67, 0.15);\n",
              "      fill: #174EA6;\n",
              "    }\n",
              "\n",
              "    [theme=dark] .colab-df-convert {\n",
              "      background-color: #3B4455;\n",
              "      fill: #D2E3FC;\n",
              "    }\n",
              "\n",
              "    [theme=dark] .colab-df-convert:hover {\n",
              "      background-color: #434B5C;\n",
              "      box-shadow: 0px 1px 3px 1px rgba(0, 0, 0, 0.15);\n",
              "      filter: drop-shadow(0px 1px 2px rgba(0, 0, 0, 0.3));\n",
              "      fill: #FFFFFF;\n",
              "    }\n",
              "  </style>\n",
              "\n",
              "      <script>\n",
              "        const buttonEl =\n",
              "          document.querySelector('#df-1a909068-f237-4319-9bf9-caa813637ed9 button.colab-df-convert');\n",
              "        buttonEl.style.display =\n",
              "          google.colab.kernel.accessAllowed ? 'block' : 'none';\n",
              "\n",
              "        async function convertToInteractive(key) {\n",
              "          const element = document.querySelector('#df-1a909068-f237-4319-9bf9-caa813637ed9');\n",
              "          const dataTable =\n",
              "            await google.colab.kernel.invokeFunction('convertToInteractive',\n",
              "                                                     [key], {});\n",
              "          if (!dataTable) return;\n",
              "\n",
              "          const docLinkHtml = 'Like what you see? Visit the ' +\n",
              "            '<a target=\"_blank\" href=https://colab.research.google.com/notebooks/data_table.ipynb>data table notebook</a>'\n",
              "            + ' to learn more about interactive tables.';\n",
              "          element.innerHTML = '';\n",
              "          dataTable['output_type'] = 'display_data';\n",
              "          await google.colab.output.renderOutput(dataTable, element);\n",
              "          const docLink = document.createElement('div');\n",
              "          docLink.innerHTML = docLinkHtml;\n",
              "          element.appendChild(docLink);\n",
              "        }\n",
              "      </script>\n",
              "    </div>\n",
              "  </div>\n",
              "  "
            ]
          },
          "metadata": {},
          "execution_count": 133
        }
      ]
    },
    {
      "cell_type": "code",
      "source": [
        "print_unique_col_values(df2)"
      ],
      "metadata": {
        "colab": {
          "base_uri": "https://localhost:8080/"
        },
        "id": "p5i3jbBvGq1-",
        "outputId": "79fbd483-5c3b-4019-b217-9062616d7c37"
      },
      "execution_count": 134,
      "outputs": [
        {
          "output_type": "stream",
          "name": "stdout",
          "text": [
            "gender : [1 0]\n",
            "SeniorCitizen : [0 1]\n",
            "Partner : [1 0]\n",
            "Dependents : [0 1]\n",
            "tenure : [0.         0.46478873 0.01408451 0.61971831 0.09859155 0.29577465\n",
            " 0.12676056 0.38028169 0.85915493 0.16901408 0.21126761 0.8028169\n",
            " 0.67605634 0.33802817 0.95774648 0.71830986 0.98591549 0.28169014\n",
            " 0.15492958 0.4084507  0.64788732 1.         0.22535211 0.36619718\n",
            " 0.05633803 0.63380282 0.14084507 0.97183099 0.87323944 0.5915493\n",
            " 0.1971831  0.83098592 0.23943662 0.91549296 0.11267606 0.02816901\n",
            " 0.42253521 0.69014085 0.88732394 0.77464789 0.08450704 0.57746479\n",
            " 0.47887324 0.66197183 0.3943662  0.90140845 0.52112676 0.94366197\n",
            " 0.43661972 0.76056338 0.50704225 0.49295775 0.56338028 0.07042254\n",
            " 0.04225352 0.45070423 0.92957746 0.30985915 0.78873239 0.84507042\n",
            " 0.18309859 0.26760563 0.73239437 0.54929577 0.81690141 0.32394366\n",
            " 0.6056338  0.25352113 0.74647887 0.70422535 0.35211268 0.53521127]\n",
            "PhoneService : [0 1]\n",
            "MultipleLines : [0 1]\n",
            "OnlineSecurity : [0 1]\n",
            "OnlineBackup : [1 0]\n",
            "DeviceProtection : [0 1]\n",
            "TechSupport : [0 1]\n",
            "StreamingTV : [0 1]\n",
            "StreamingMovies : [0 1]\n",
            "PaperlessBilling : [1 0]\n",
            "MonthlyCharges : [0.11542289 0.38507463 0.35422886 ... 0.44626866 0.25820896 0.60149254]\n",
            "TotalCharges : [0.0012751  0.21586661 0.01031041 ... 0.03780868 0.03321025 0.78764136]\n",
            "Churn : [0 1]\n",
            "InternetService_DSL : [1 0]\n",
            "InternetService_Fiber optic : [0 1]\n",
            "InternetService_No : [0 1]\n",
            "Contract_Month-to-month : [1 0]\n",
            "Contract_One year : [0 1]\n",
            "Contract_Two year : [0 1]\n",
            "PaymentMethod_Bank transfer (automatic) : [0 1]\n",
            "PaymentMethod_Credit card (automatic) : [0 1]\n",
            "PaymentMethod_Electronic check : [1 0]\n",
            "PaymentMethod_Mailed check : [0 1]\n"
          ]
        }
      ]
    },
    {
      "cell_type": "code",
      "source": [
        "df2['Churn'].value_counts()"
      ],
      "metadata": {
        "colab": {
          "base_uri": "https://localhost:8080/"
        },
        "id": "u0AYMRuXHPwc",
        "outputId": "dbce50ce-0a2f-4d7b-abe0-362975d86f8d"
      },
      "execution_count": 135,
      "outputs": [
        {
          "output_type": "execute_result",
          "data": {
            "text/plain": [
              "0    5163\n",
              "1    1869\n",
              "Name: Churn, dtype: int64"
            ]
          },
          "metadata": {},
          "execution_count": 135
        }
      ]
    },
    {
      "cell_type": "markdown",
      "source": [
        "Hence this dataset is imbalanced"
      ],
      "metadata": {
        "id": "mbxzgTKvHVZD"
      }
    },
    {
      "cell_type": "markdown",
      "source": [
        "# Splitting data into train and test datasets"
      ],
      "metadata": {
        "id": "iU7MlJ3ymeMv"
      }
    },
    {
      "cell_type": "code",
      "source": [
        "x=df2.drop('Churn', axis='columns')\n",
        "y=df2['Churn']"
      ],
      "metadata": {
        "id": "4xie7cj1HMHV"
      },
      "execution_count": 136,
      "outputs": []
    },
    {
      "cell_type": "code",
      "source": [
        "from sklearn.model_selection import train_test_split\n",
        "\n",
        "X_train,X_test,y_train,y_test=train_test_split(x,y,train_size=0.9)"
      ],
      "metadata": {
        "id": "Aq-3g4nvEd1U"
      },
      "execution_count": 137,
      "outputs": []
    },
    {
      "cell_type": "code",
      "source": [
        "X_train.shape, y_train.shape, y_test.shape"
      ],
      "metadata": {
        "colab": {
          "base_uri": "https://localhost:8080/"
        },
        "id": "Ej1s_BudFo3s",
        "outputId": "1fa69b00-3a86-452a-dabe-3cd78a78cfbf"
      },
      "execution_count": 138,
      "outputs": [
        {
          "output_type": "execute_result",
          "data": {
            "text/plain": [
              "((6328, 26), (6328,), (704,))"
            ]
          },
          "metadata": {},
          "execution_count": 138
        }
      ]
    },
    {
      "cell_type": "markdown",
      "source": [
        "# Training Logistic Regression Model"
      ],
      "metadata": {
        "id": "kxgF0LLycvp3"
      }
    },
    {
      "cell_type": "code",
      "source": [
        "from sklearn.linear_model import LogisticRegression\n",
        "\n",
        "model=LogisticRegression()"
      ],
      "metadata": {
        "id": "jERhG78qD73o"
      },
      "execution_count": 139,
      "outputs": []
    },
    {
      "cell_type": "code",
      "source": [
        "model.fit(X_train,y_train)"
      ],
      "metadata": {
        "colab": {
          "base_uri": "https://localhost:8080/"
        },
        "id": "Ec9HB0MKEELl",
        "outputId": "d68dc9c7-cc47-4f64-e08f-4835dcf81c8a"
      },
      "execution_count": 140,
      "outputs": [
        {
          "output_type": "execute_result",
          "data": {
            "text/plain": [
              "LogisticRegression()"
            ]
          },
          "metadata": {},
          "execution_count": 140
        }
      ]
    },
    {
      "cell_type": "code",
      "source": [
        "model.score(X_test,y_test)"
      ],
      "metadata": {
        "colab": {
          "base_uri": "https://localhost:8080/"
        },
        "id": "c4n8mnTHESGE",
        "outputId": "689c87e0-a936-4a9d-f6d5-9f8e7bb28c15"
      },
      "execution_count": 141,
      "outputs": [
        {
          "output_type": "execute_result",
          "data": {
            "text/plain": [
              "0.8110795454545454"
            ]
          },
          "metadata": {},
          "execution_count": 141
        }
      ]
    },
    {
      "cell_type": "code",
      "source": [
        "y_pred=model.predict(X_test)\n",
        "y_pred[:10]"
      ],
      "metadata": {
        "colab": {
          "base_uri": "https://localhost:8080/"
        },
        "id": "ekBDpXb-EVw1",
        "outputId": "0bc60f74-5d3a-46ca-ae4f-33edf54be105"
      },
      "execution_count": 142,
      "outputs": [
        {
          "output_type": "execute_result",
          "data": {
            "text/plain": [
              "array([0, 1, 0, 0, 0, 0, 1, 0, 0, 1])"
            ]
          },
          "metadata": {},
          "execution_count": 142
        }
      ]
    },
    {
      "cell_type": "code",
      "source": [
        "y_test[:10]"
      ],
      "metadata": {
        "colab": {
          "base_uri": "https://localhost:8080/"
        },
        "id": "UykC1lrOF4BL",
        "outputId": "abfb2688-271e-4c5d-87f0-167202da8adf"
      },
      "execution_count": 143,
      "outputs": [
        {
          "output_type": "execute_result",
          "data": {
            "text/plain": [
              "69      0\n",
              "353     1\n",
              "2476    0\n",
              "2805    0\n",
              "3747    0\n",
              "3355    0\n",
              "5594    0\n",
              "2456    0\n",
              "286     0\n",
              "6839    1\n",
              "Name: Churn, dtype: int64"
            ]
          },
          "metadata": {},
          "execution_count": 143
        }
      ]
    },
    {
      "cell_type": "code",
      "source": [
        "from sklearn.metrics import classification_report\n",
        "print(classification_report(y_pred,y_test))"
      ],
      "metadata": {
        "colab": {
          "base_uri": "https://localhost:8080/"
        },
        "id": "bNpl9i_xF8fc",
        "outputId": "3c7cc5be-228a-4f5c-f01d-e452a92d9bcc"
      },
      "execution_count": 144,
      "outputs": [
        {
          "output_type": "stream",
          "name": "stdout",
          "text": [
            "              precision    recall  f1-score   support\n",
            "\n",
            "           0       0.90      0.85      0.87       541\n",
            "           1       0.58      0.67      0.62       163\n",
            "\n",
            "    accuracy                           0.81       704\n",
            "   macro avg       0.74      0.76      0.75       704\n",
            "weighted avg       0.82      0.81      0.82       704\n",
            "\n"
          ]
        }
      ]
    },
    {
      "cell_type": "markdown",
      "source": [
        "# Function to get model Logistic Regression Model"
      ],
      "metadata": {
        "id": "V7L6fftCc8Zu"
      }
    },
    {
      "cell_type": "code",
      "source": [
        "def get_model(X_train,y_train):\n",
        "    model=LogisticRegression()\n",
        "    model.fit(X_train,y_train)\n",
        "\n",
        "    return model"
      ],
      "metadata": {
        "id": "0vbvYFiAQJv5"
      },
      "execution_count": 145,
      "outputs": []
    },
    {
      "cell_type": "markdown",
      "source": [
        "# Method 1 : Use of Undersampling"
      ],
      "metadata": {
        "id": "Q7vpcr82G3Gz"
      }
    },
    {
      "cell_type": "code",
      "source": [
        "count_class_0,count_class_1=df2['Churn'].value_counts()\n",
        "\n",
        "df_class_0=df2[df2['Churn']==0]\n",
        "df_class_1=df2[df2['Churn']==1]\n",
        "\n",
        "count_class_0,count_class_1"
      ],
      "metadata": {
        "colab": {
          "base_uri": "https://localhost:8080/"
        },
        "id": "uQz5o30sHJkD",
        "outputId": "2f2b2bc1-3b70-42d6-e88a-efd96c618b0a"
      },
      "execution_count": 146,
      "outputs": [
        {
          "output_type": "execute_result",
          "data": {
            "text/plain": [
              "(5163, 1869)"
            ]
          },
          "metadata": {},
          "execution_count": 146
        }
      ]
    },
    {
      "cell_type": "code",
      "source": [
        "df_class_0_under=df_class_0.sample(count_class_1)\n",
        "df_class_0_under.shape"
      ],
      "metadata": {
        "colab": {
          "base_uri": "https://localhost:8080/"
        },
        "id": "IDAzX7HCHjbb",
        "outputId": "6274d1e4-2daf-4ee1-dc00-1e9ca6d776d4"
      },
      "execution_count": 147,
      "outputs": [
        {
          "output_type": "execute_result",
          "data": {
            "text/plain": [
              "(1869, 27)"
            ]
          },
          "metadata": {},
          "execution_count": 147
        }
      ]
    },
    {
      "cell_type": "code",
      "source": [
        "df_final_under=pd.concat([df_class_0_under,df_class_1],axis=0)\n",
        "df_final_under.shape"
      ],
      "metadata": {
        "colab": {
          "base_uri": "https://localhost:8080/"
        },
        "id": "Cn-Eh_XoI_s7",
        "outputId": "6ab0b131-db7e-455e-f8db-6b3029700d4f"
      },
      "execution_count": 148,
      "outputs": [
        {
          "output_type": "execute_result",
          "data": {
            "text/plain": [
              "(3738, 27)"
            ]
          },
          "metadata": {},
          "execution_count": 148
        }
      ]
    },
    {
      "cell_type": "code",
      "source": [
        "df_final_under['Churn'].value_counts()"
      ],
      "metadata": {
        "colab": {
          "base_uri": "https://localhost:8080/"
        },
        "id": "K8-g0I-eJdX7",
        "outputId": "78935f82-c0a2-4ee1-ca01-1d739df02354"
      },
      "execution_count": 149,
      "outputs": [
        {
          "output_type": "execute_result",
          "data": {
            "text/plain": [
              "0    1869\n",
              "1    1869\n",
              "Name: Churn, dtype: int64"
            ]
          },
          "metadata": {},
          "execution_count": 149
        }
      ]
    },
    {
      "cell_type": "code",
      "source": [
        "X_train,X_test,y_train,y_test=train_test_split(df_final_under.drop('Churn', axis='columns'),df_final_under['Churn'],train_size=0.9,stratify=df_final_under['Churn'])\n",
        "\n",
        "X_train.shape,y_test.shape"
      ],
      "metadata": {
        "colab": {
          "base_uri": "https://localhost:8080/"
        },
        "id": "Od14JgKSJ50D",
        "outputId": "63395510-9f50-4eba-fb83-6d920099d495"
      },
      "execution_count": 150,
      "outputs": [
        {
          "output_type": "execute_result",
          "data": {
            "text/plain": [
              "((3364, 26), (374,))"
            ]
          },
          "metadata": {},
          "execution_count": 150
        }
      ]
    },
    {
      "cell_type": "code",
      "source": [
        "y_test.value_counts()"
      ],
      "metadata": {
        "colab": {
          "base_uri": "https://localhost:8080/"
        },
        "id": "Dn_MGVTZNsOb",
        "outputId": "7e10141a-8634-41ca-8039-9c0c37f3b395"
      },
      "execution_count": 151,
      "outputs": [
        {
          "output_type": "execute_result",
          "data": {
            "text/plain": [
              "0    187\n",
              "1    187\n",
              "Name: Churn, dtype: int64"
            ]
          },
          "metadata": {},
          "execution_count": 151
        }
      ]
    },
    {
      "cell_type": "code",
      "source": [
        "model1=get_model(X_train,y_train)\n",
        "\n",
        "y_pred=model1.predict(X_test)"
      ],
      "metadata": {
        "id": "R3_kfoEYQcfx"
      },
      "execution_count": 152,
      "outputs": []
    },
    {
      "cell_type": "code",
      "source": [
        "print(classification_report(y_pred,y_test))"
      ],
      "metadata": {
        "colab": {
          "base_uri": "https://localhost:8080/"
        },
        "id": "Ka25xMteKaLq",
        "outputId": "26e5b27b-8cb6-4182-c6af-72811b36a1ba"
      },
      "execution_count": 154,
      "outputs": [
        {
          "output_type": "stream",
          "name": "stdout",
          "text": [
            "              precision    recall  f1-score   support\n",
            "\n",
            "           0       0.70      0.78      0.74       169\n",
            "           1       0.80      0.73      0.76       205\n",
            "\n",
            "    accuracy                           0.75       374\n",
            "   macro avg       0.75      0.75      0.75       374\n",
            "weighted avg       0.75      0.75      0.75       374\n",
            "\n"
          ]
        }
      ]
    },
    {
      "cell_type": "markdown",
      "source": [
        "# Comparison with normal Logistic Regression Model\n",
        "\n",
        "![image.png](data:image/png;base64,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)"
      ],
      "metadata": {
        "id": "hkDKnrrWdHf9"
      }
    },
    {
      "cell_type": "markdown",
      "source": [
        "# Method 2 : Use of Oversampling"
      ],
      "metadata": {
        "id": "6_DyVnxNKvIz"
      }
    },
    {
      "cell_type": "code",
      "source": [
        "count_class_0,count_class_1"
      ],
      "metadata": {
        "colab": {
          "base_uri": "https://localhost:8080/"
        },
        "id": "BbjWrAtxKoN6",
        "outputId": "d32d264c-a1f1-43ea-def7-4795bfee8711"
      },
      "execution_count": 155,
      "outputs": [
        {
          "output_type": "execute_result",
          "data": {
            "text/plain": [
              "(5163, 1869)"
            ]
          },
          "metadata": {},
          "execution_count": 155
        }
      ]
    },
    {
      "cell_type": "code",
      "source": [
        "df_class_1_over=df_class_1.sample(count_class_0, replace=True)"
      ],
      "metadata": {
        "id": "VdaYYH0vLJ5z"
      },
      "execution_count": 156,
      "outputs": []
    },
    {
      "cell_type": "code",
      "source": [
        "df_final_over=pd.concat([df_class_0,df_class_1_over],axis=0)\n",
        "\n",
        "df_final_over['Churn'].value_counts()"
      ],
      "metadata": {
        "colab": {
          "base_uri": "https://localhost:8080/"
        },
        "id": "m3_3oNoEL-5y",
        "outputId": "057982c0-7db0-4e8d-bf4f-8d68b9404632"
      },
      "execution_count": 157,
      "outputs": [
        {
          "output_type": "execute_result",
          "data": {
            "text/plain": [
              "0    5163\n",
              "1    5163\n",
              "Name: Churn, dtype: int64"
            ]
          },
          "metadata": {},
          "execution_count": 157
        }
      ]
    },
    {
      "cell_type": "code",
      "source": [
        "X_train,X_test,y_train,y_test=train_test_split(df_final_over.drop('Churn', axis='columns'),df_final_over['Churn'],train_size=0.8,stratify=df_final_over['Churn'])"
      ],
      "metadata": {
        "id": "nluFjneTMPY6"
      },
      "execution_count": 158,
      "outputs": []
    },
    {
      "cell_type": "code",
      "source": [
        "y_train.value_counts(),y_test.value_counts()"
      ],
      "metadata": {
        "colab": {
          "base_uri": "https://localhost:8080/"
        },
        "id": "a-zGJlE_NWyJ",
        "outputId": "ae599b24-8368-41ef-e68e-21eb6afc1941"
      },
      "execution_count": 159,
      "outputs": [
        {
          "output_type": "execute_result",
          "data": {
            "text/plain": [
              "(0    4130\n",
              " 1    4130\n",
              " Name: Churn, dtype: int64, 1    1033\n",
              " 0    1033\n",
              " Name: Churn, dtype: int64)"
            ]
          },
          "metadata": {},
          "execution_count": 159
        }
      ]
    },
    {
      "cell_type": "code",
      "source": [
        "model2=get_model(X_train,y_train)\n",
        "\n",
        "y_pred=model2.predict(X_test)"
      ],
      "metadata": {
        "id": "pdU4J9H7MaoC"
      },
      "execution_count": 167,
      "outputs": []
    },
    {
      "cell_type": "code",
      "source": [
        "y_pred=model2.predict(X_test)\n",
        "\n",
        "print(classification_report(y_pred,y_test))"
      ],
      "metadata": {
        "colab": {
          "base_uri": "https://localhost:8080/"
        },
        "id": "bitbkgVRMnrR",
        "outputId": "57ca402d-8c97-43a1-ff4a-1d51b9d2621d"
      },
      "execution_count": 168,
      "outputs": [
        {
          "output_type": "stream",
          "name": "stdout",
          "text": [
            "              precision    recall  f1-score   support\n",
            "\n",
            "           0       0.75      0.84      0.79       931\n",
            "           1       0.85      0.78      0.81      1135\n",
            "\n",
            "    accuracy                           0.80      2066\n",
            "   macro avg       0.80      0.81      0.80      2066\n",
            "weighted avg       0.81      0.80      0.80      2066\n",
            "\n"
          ]
        }
      ]
    },
    {
      "cell_type": "markdown",
      "source": [
        "# Comparison with normal Logistic Regression Model\n",
        "\n",
        "![image.png](data:image/png;base64,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)"
      ],
      "metadata": {
        "id": "suR5cHiMdYL9"
      }
    },
    {
      "cell_type": "markdown",
      "source": [
        "# Method 3 : Use of SMOTE"
      ],
      "metadata": {
        "id": "Wf5zoIcWM-vh"
      }
    },
    {
      "cell_type": "code",
      "source": [
        "x=df2.drop('Churn',axis='columns')\n",
        "y=df2['Churn']"
      ],
      "metadata": {
        "id": "NCY3h3vjM1bK"
      },
      "execution_count": 162,
      "outputs": []
    },
    {
      "cell_type": "code",
      "source": [
        "y.value_counts()"
      ],
      "metadata": {
        "colab": {
          "base_uri": "https://localhost:8080/"
        },
        "id": "iaO1OKh_Ojkp",
        "outputId": "c0fef30b-b179-48c3-8efb-4606c184388a"
      },
      "execution_count": 163,
      "outputs": [
        {
          "output_type": "execute_result",
          "data": {
            "text/plain": [
              "0    5163\n",
              "1    1869\n",
              "Name: Churn, dtype: int64"
            ]
          },
          "metadata": {},
          "execution_count": 163
        }
      ]
    },
    {
      "cell_type": "code",
      "source": [
        "from imblearn.over_sampling import SMOTE\n",
        "\n",
        "smote=SMOTE(sampling_strategy='minority')\n",
        "X_sm,y_sm=smote.fit_resample(x,y)\n",
        "\n",
        "y_sm.value_counts()"
      ],
      "metadata": {
        "colab": {
          "base_uri": "https://localhost:8080/"
        },
        "id": "HYOxS2zYOmGq",
        "outputId": "244ec58a-4263-49d3-86f2-f3223f4e5376"
      },
      "execution_count": 164,
      "outputs": [
        {
          "output_type": "execute_result",
          "data": {
            "text/plain": [
              "0    5163\n",
              "1    5163\n",
              "Name: Churn, dtype: int64"
            ]
          },
          "metadata": {},
          "execution_count": 164
        }
      ]
    },
    {
      "cell_type": "code",
      "source": [
        "X_train,X_test,y_train,y_test=train_test_split(X_sm,y_sm,train_size=0.8,stratify=y_sm)\n",
        "\n",
        "y_test.value_counts()"
      ],
      "metadata": {
        "colab": {
          "base_uri": "https://localhost:8080/"
        },
        "id": "hbig_VIjPfvh",
        "outputId": "9bb69111-8bf6-46b3-934f-f5b26884dd8c"
      },
      "execution_count": 171,
      "outputs": [
        {
          "output_type": "execute_result",
          "data": {
            "text/plain": [
              "1    1033\n",
              "0    1033\n",
              "Name: Churn, dtype: int64"
            ]
          },
          "metadata": {},
          "execution_count": 171
        }
      ]
    },
    {
      "cell_type": "code",
      "source": [
        "model3=get_model(X_train,y_train)\n",
        "\n",
        "y_pred=model3.predict(X_test)\n",
        "\n",
        "print(classification_report(y_pred,y_test))"
      ],
      "metadata": {
        "colab": {
          "base_uri": "https://localhost:8080/"
        },
        "id": "klzAm3lRQFjJ",
        "outputId": "481a1c88-e369-4b7a-a6d9-de6388e81206"
      },
      "execution_count": 172,
      "outputs": [
        {
          "output_type": "stream",
          "name": "stdout",
          "text": [
            "              precision    recall  f1-score   support\n",
            "\n",
            "           0       0.78      0.82      0.80       982\n",
            "           1       0.83      0.79      0.81      1084\n",
            "\n",
            "    accuracy                           0.80      2066\n",
            "   macro avg       0.80      0.80      0.80      2066\n",
            "weighted avg       0.80      0.80      0.80      2066\n",
            "\n"
          ]
        }
      ]
    },
    {
      "cell_type": "markdown",
      "source": [
        "# Comparison with normal Logistic Regression Model\n",
        "\n",
        "![image.png](data:image/png;base64,iVBORw0KGgoAAAANSUhEUgAAAjkAAAC9CAYAAABRVWyKAAAgAElEQVR4nO3db2gb2X4//vd+v6r32oIr/xF1V6p8s9tFyJb24m5Mk8h1udgrDCVkqRFCFEooDl33wcTUF4Lh0uibPNiGwPWy9pPd4jxYuJRUiNzWT0o62LAYu6Q4rWEl24h7u8VGKqKSbREsEV3B/T3w74w1o5Esyf9H7xcEInl0NDozc+ZzzvnMzDs3b978LYiIiIgM5v9c9AoQERERnQUGOURERGRIDHKIiIjIkBjkEBERkSExyCEiIiJDMl30ChAZSSgUQk9PD9bX1zE3N3eisgKBAEZHR5HJZPDll18ikUic0lrSaRDbWnj58iXC4bBqGbvdjsnJSXR1dQEAisUiIpEIZFk+l3X0+Xzw+/0wmUwX8v1EF41BDhFRAx49egTgKJDQk0gk8ODBAwCHQevIyMi5rZ9Yr2Qyqawr0UWQJAlOpxNfffUVYrHYuX43gxyiU3SaJ5NwOFw2MkBUK5fLBQBYXV2tupwYMczlchdyEiI6SwxyiIgMqlAoIJlM6v7N7XZjYmIC6XQa29vbsFqt57x2RGePQQ5dGZIkweFw4Je//CX+/M//HG1tbQCgyn8RORAHBwdYXV1V5SPo5clIkoT+/n7ldaVcmuOWqyU/Azg6sYh118uRED1rYXt7u+IIkfZ7tetVS51dZmKKJxKJwOv1Kr9Vb9RBW7eVRiZqWc7ouSx2ux13797F8vIywuEwQqHQicvU1lml+q8lT6mW40RMgfzDP/wD/uzP/kwpTy+Hrdbj/LwdV2eiHuLxeNlxXTr9U+txLraztm3Ua6+Oa1uOOzYBqLYhAExNTSn/P6+Rw//7+7//+//vTL+B6JTcuHEDH3zwAT7++GMsLS3h7/7u7/CDH/wAf/zHf4wf/OAHiMVi+OEPf4ibN2/ivffeg8vlQiQSwRdffFG2HHB4EDscDszNzWF+fh75fB4/+clP8P777+Pf//3fARw2yH/7t3+Lnp4ehMNhfPHFF1hYWEB/fz86OzvxX//1XwCAb7/9FgsLC8jn83C5XPj+++8rnlzT6TSmpqawsLCA77//HqOjo/jVr36FN2/eAABisRgWFhbw+vVr/PjHP8ZvfvMbfPvtt2VlPXz4EO+88w6ePHmCX/ziF8r6X79+XVle1NmPf/xj/PKXv6xYF5eV2+2G0+mEx+NBNpvF1NQUXr9+jevXr6O/vx8bGxt48+YNfD4f/vIv/xKbm5v42c9+hoWFBfzRH/0R/uRP/gTb29v43//9XwCHDfNf/MVf4H/+53+UbbC9vY3R0VH827/9m/Kdo6Oj+OKLL/CLX/wCCwsLuH79Om7cuIG3b98q21z4gz/4A/T19eluc+1v+eCDD7CxsVFWxmkJBAKYmprCp59+it/7vd/D7/zO7+DWrVv49NNP8emnn+IP//AP8e233+LNmzeQZVlZ35/85Cdoa2vD2tqaUlf1ECfraDSq1H+xWMTw8DCWl5dVy/31X/813r59q+y3//mf/4mRkRFsb2/jzZs3yjaKxWJKWe+//z4++eQT1T5748YNOBwOfPzxx4jH4/jZz36GX//617h16xZcLpdyDNRynF+EWursd3/3dzEwMIBMJqNa1xs3bqCrq0vZXrW0jcDhdu7p6VG1jT/60Y9w8+ZNZd+utW057tj89ttv8Y//+I9YWFjAj370I/zwhz9UtsHCwgL+5V/+paF9rV68hJyunNJex8rKCjKZDHp7e1XL5HI5zM7OKj2/WCyGXC6H7u5uAIcNjM1mw/LystIAyLKMaDQKp9MJt9sNABgcHITFYinrRf793/993b16m82GlpYWbG5uKu/FYjE8evSo7iunhoeHAQDffPON8lmx/jabDT6fT7X84uJixbq4CtbX15XRrEQigZ2dHbS2tqK9vR0A4PV6kc1m8eLFC+UzkUgEwFFd2e12DAwMlI2MxWIxzMzMqF5rt4nIaxF5LpdVOBzG+Pg4xsfHsb6+jlwuh5mZGeW9s0pA7ujoAABsbW0p78myjM8//1y1nNhOpSMtiUQCP//5z5FIJFTbqHTU4MWLF8hkMhgYGIDdbleV+fLlS2XZWCyGdDoNs9kMu91e83F+EWqts3rU0jZqR8WWlpZQKBSUfbvetuW4Y/OicbqKrpRcLqfqLScSCRwcHCiNmpDP57G/v6+8FkO6gsvlQqFQKOt5p1IpeDwe2Gw2xGIx9Pb2IpvNYmNj48TrnkwmUSgUlKmoRpOK7XY7HA5H2W8EDhtMj8ejNKBAeZ1dRalUSvW69ATodrthtVoRj8dVgcn+/j7y+Tw6OzsBAH19fbBYLFhbW6v7+8W2I317e3sAoFxlptcBqLSdSolttLOzo3pfnDydTifa29uVzxeLReW7hdJAbmxsrKbj/CLUUmf1OK5tFHWmbc9Kj5N62xag+rF5GTDIoabU2dmJtrY21RyxUCwWARwGE2azGQcHB6dyj5pYLIYnT55gcnISo6OjGB0dPVGuR7X1ukqjNCclRsj6+/vx7Nmzsr8fHBwAOOo5a0+KerQ5HM1MmyMGlOe9yLKMZDKJiYkJBINBBIPBspwLsZ20J0U9lZZpaWmpKzCp5Ti/KLXU2UUxUtvCIIea0u7uLqxW67ENil5P6CRK75si5uRPqydXqpYTiVGIUZZoNFq1FymCG21PVEsEOKVD/yKfqhnVeiuD0tFSERhNTEwox5jYTic5SVa7WkxPrcf5RTmuzi6jq9a2MCeHrjQxBL6zs1NXEJJKpZReYTW7u7uwWCzo6+s76aqWkWVZyRs57sRbSgzdW63WspyCStNwRqadlqpEnGS1OQqlxHB9JpPBysrKaa9q0wiHw3j58qXqGBPbyeFwlOXVCBsbG8hms2XbSGyXdDpd175d63F+GejVmR5RF8eptW0UU4Sbm5tn1rZc5HZgkENXmhgFWVpaqutzKysryGazuHPnTtXkQ5GUp13ur/7qr8oS8I4TCARUeUHAUSJrLVMo2vUCoLrTrs/ng8fjQTweb6ogJ5FIYG1tDT09PWX1WyoWiyEej5ct53a7lekMkcdQGtj6fD7cv39fdSksqUmShEAgoHqvt7dXNfIitlNXVxfu3bunLGe32/HTn/5UGS0V27K0vLGxMVgslmNvbKhV63F+EWqpM21gqL38vppa2kaRnJ3NZpWg/izaFtG+eb3euj97Uu/cvHnzt+f+rUQN0MuT0OYGiEYAQE3Pe9LeCwIovy+NXsNSes8I7T09Smnn2LW/QW8OXm+dBL0plNLv1d7vQu926pXuvXEZiSH8SvcdKqW95whQ232ItNtAu71zuRz++Z//GZ9++qlSZ7Vuc711Es76mWTH3Uq/2n5W7d5MlWjLq/T7arkH0XHbSPw+j8dTU05bLcf5RailzrT72vr6OlKpFIaGhlT3yTmubdT7PkC/HmppW+o5NkuXF84r/4hBDl0ZF/n8EyKiy6rWtjEUCsFsNjfVA385XUVERESGxCCHiIiIDIlBDhERERkSc3KIiIjIkDiSQ0RERIbEIIeIiIgMiUEOERERGRKDHCIiIjIkBjlERERkSAxyiIiIyJAY5BAREZEhMcghIiIiQ2KQQ0RERIbEIIeIiIgMiUEOERERGRKDHCIiIjIkBjlERERkSAxyiIiIyJAY5BAREZEhMcghIiIiQ2KQQ0RERIbEIIeIiIgMiUEOERERGRKDHCIiIjIkBjlERERkSAxyiIiIyJAY5BAREZEhMcghIiIiQ2KQQ0RERIbEIIeIiIgMiUEOERERGZLpoleAri63242JiQm0tbUBAIrFIiKRCGRZvuA1u7xOs87sdjsmJyfR1dVVtSxuJ7VQKISenh7l9fr6Oubm5k6lrFwuh6+++gqxWAxAed2XevnyJcLhcEPfe5VJkoT+/n7l9fb2Nh49etRQWYFAAKOjo6r3SutVu31KNftxUEkj+2zpZyodT2JbnGR7N4JBDjXE5/PB7/cjmUwqO2woFILf7wcANhw6TrPORKOSTqfx4MEDAIcNfjAYREdHh9IQcTsdEUFha2srZmZmEIvFlJOkJEl1BTqiLAB4+PAhEomE8t7ExIQq0AFOFkgZSSgUgs1mw/PnzyHLsrJ/hkKhuk98kiTB4/EoZYn3RNATDocrlhkKhWA2m7GxsXGyH2Rg9eyzfr9fNygCjgLRV69ewWq1nuYq1oTTVdQQr9eLbDaL+fl55b35+Xlks1l4vd4LXLPL6zTrzO/3I5/Pq8paWVlBJpPBwMAA7Hb7qX/nVTc4OAiLxYKFhQUlAAmHw1hfX4fT6YTb7a65rL6+PlgsFqytrSGRSAAAEokE1tbW0NLSApvNdia/4Srz+Xyw2WxYXFxUghJZlrG4uAibzQafz1dzWXa7HQ6HA8lkUhWoLy0tIZfLobu7+9j12NnZUbYdNU7U56tXr5DL5cr+duvWLczMzGBlZeVC1o9BDtXN7XbDarWWNRKDg4Po6uqC1Wqt64TRDE6zzux2O8xmMw4ODlRlJRIJ7OzsoLW1Fe3t7dxOGr29vchms6reu9vthtPpRFtbW0N1oT2Zdnd3o1AoIJlMnnh9jcblcqFQKKhGuOx2OwYGBmAymeByueou02w2KwE9ANhsNrS0tCCVSlX8jNfrRaFQwNLSUt3fR2p2ux0+nw/JZFI3iJFlGX/zN3+j2ubnjUEO1U2vIZEkCUNDQ3j16hV7sjpOs84SiQQODg7KGnhBlMXtdEQvMPT5fLh//z6+++67Y3v/WrIsIxqNor+/H6FQCMBRrsny8nJZo97f349nz54p/wKBwOn9uCuis7MT+Xwe+/v7AA4DzOnpaaRSKWQyGXR2dtZcViKRgCzLsFgsmJ6ehtvtVk3NVsp1EqMO8Xj8Qk+8V0Et++zY2BhaW1sRiUQuYA1rw5wcOhGRh3BwcABJkpqy8a7XadTZ5uYmRkdHMTY2psyb+3w+eDyeM/tOI5EkCU6nE7OzswCAjz76qO4y5ubmlBPrs2fPUCwWVfkhABCLxSBJUtl3j46Ooru7u2nzdAKBAEZGRhCJRLCxsaHkN9VDlmXls1NTUwCOzyPhKM7xat1nxSioCBgv66gwR3KoYe3t7ZiensbOzs65ZstfZadVZ+FwGC9fvlT1tnw+H+LxeNl0CbeTWigUgsPhwJMnT07Um5ckCcFgENFoFOPj40gmkwgGg8rITiUvXrxAJpOBw+HQHYkzumAwiKGhIczOzp4o8d3n8+Hhw4cADpO/xfEwNzene8LlKE7j9PZZkRf44sWLC1676jiSQ3VLJpMoFAq4ceNG2SWFzEnQdxZ1Fg6Hy4blQ6GQakqA2+mQmOITl7CKK9KA2vI4tAKBAPr7+1UjB48ePVKmrAKBQMUpE7EuVqsV7e3tTZP8uru7q1zO/eTJE+V3t7e3o7W1FTs7OzWX5Xa7cefOHWSzWXz55ZdIJBIIh8PY29uD3++H3+8vC2Q4itM47T47ODgIm82GSCRy6fdfBjlUt1gshnQ6DbPZrEo2E1c8pNNp9pQ0GqkzcellJpNRGvJqRKLx8vIyEokEEokEt1OJzc1N2Gw2rK6uqt7XS4gFji6/LxQKZZeEi/wdbWAkXlfL7xHbqdnqf2trCx6PR3VFGnBYHy0tLdja2lItX63+RWCaTqdVZYnOhMhXK82/stlsiEajTVXnp0W7z/r9fphMJgSDQQSDQdWyYnT5stw2gdNV1JDV1VVYLBaMjY0p7927d+/SJ6FdpHrrrLe3FwBgsVjQ19dXtexAIICpqSnE43HVCAK305GVlRVks1n4fD5lyF2MyOglC7tcLphMJt0rr7a2tlAsFlWX64srhYrFYtkJW7Db7bh79y4ANF39y7KMZDKJoaEhpT59Ph9GRkYQjUbLpq6q1f/Gxgay2WzZpefDw8Noa2sru6KQoziN09tnHz16hPHxcdW/mZkZ5HI5rK+vY3x8/FIEOADwzs2bN3970StBV5PoaZlMhwOC2ru9Url66qzaSE495XA7HdHeJRqofBfXaiMJpX8X9QqU163eMud9x9fLptY7Th9X/3rbEijfnno3xKTKGt1nxQ1K4/G4Kjm50t2TgfO56zeDHCIiIjIkTlcRERGRITHIISIiIkNikENERESGxCCHiIiIDIlBDhERERkSgxwiIiIyJAY5REREZEgMcoiIiMiQGOQQERGRITHIISIiIkPiU8jpRMRzToDDh7dpH7JHatpnuRSLxYbqrdozYSo9u6f0WTSX5QnBF6HWZyfVSpIk9Pf365an/a5SjW77q05bXyd9lpd2/9Y+603792at93qVPhus2jGibYtKn99W6/PFzhKDHGqI2HkBIB6Pw+l0XvAaXX56DwoMhUJKkNhIo3vcCVo85LO0URHvSZLUVIGO2GdbW1sxMzODWCx2oroQjXs+n8fDhw9VD1AVKp28Q6EQzGYzNjY2GvotV1UoFILNZsPz588hy7JyTIRCoYYCHVFepaDF5/Phzp07qr+f9JhrBpIkwePx4PXr17BYLFWX6+/vrxi0JBIJPHjwoOwzo6OjAHAugQ6nq6gh9+7dw87ODh48eIBCoXDRq3MleL1eZLNZzM/PK+/Nz88jm83C6/WeyXf29vYik8lgZWVFeW9lZQWZTAadnZ1n8p2X1eDgICwWCxYWFpQnWofDYayvr8PpdMLtdtdVnt/vRz6fL3tC/HF8Ph9sNht2dnbq+txVJ3734uKiElzIsozFxUXYbDb4fL66ygsEAlUDHFG+JEmqv6+urgIAXC5Xg7/E2AKBABwOBx4/fozvv/++4nI+nw8ej6fuUZmlpSXkcjl0d3efxuoei0EONeTRo0dNNQpwUm63G1artezENjg4iK6uLlit1rpPsrVqbW1Fe3u78rq9vR2tra3Y3d09k++7rHp7e5HNZlWjJ263G06nE21tbXXVvzhhr62t1R2oeL1eFAoFLC0t1fW5q87lcqFQKCgBJnA4ujYwMACTyVRX0CE+l0wmORpzysLhMB48eHDsfi06baUdqMuI01VE58Bms6GlpQWpVEp5T5IkOJ1OvHr1CtevX4fNZlOdAGrR39+PZ8+eKa+1vapIJIKJiQncv38fkUgEyWRSmWJ58eLFyX/YFWG322E2m3FwcFCWq/H69Wt89NFHdfUsOzo6ABwGjF9//bWS71Gaj6BHBEfRaLTubX3VdXZ2Ip/PY39/H8DRdN9///d/K3+vlQjUU6kUnj59qsr5OG5koaOjAyaTSXUsUn1Kj6d79+7VleMmpgrPK8hnkEN0zkRuyMHBASRJQiAQqLuMWCwGSZJU74m57u7ubqWREcuFQiEEg0EAJ0/0NAIRYM7OzgIAPvroo7o+393dDZPJhA8//BCPHz9GIpFQtuvExETFQKdZR3G0AoEARkZGEIlEsLGxoeT31Up0GpxOp2q66rh8D7fbjaGhIeRyuaYLMk+TCDK7urrw8uVLpT2plONWmoAvEr/Pq/45XUV0jtrb2zE9PY2dnZ1TDzRevHiBTCYDh8MBu90O4LBRn5ubg9VqxczMDJ4/fw6bzYavv/667hwIowiFQnA4HHjy5MmJGtpisQhZlpWRoUQiAVmW0dLSojv1JUZx4vF4U59gg8EghoaGMDs7e+Kppmg0qipDHAO9vb1ly4qRo5aWFlVeFjVue3tbFUyGw2Fsb2+r2iDgML1hfHwc4+PjiEQiSrL5eWCQQ3QOkskkCoUCbty4geXlZVUvp7u7G4VCAclk8kTfkUgkcHBwoOTg2O123L17FwCUkQVZljE7O4tCoQCfz6dqiIxM1I3oTZbmHOhNJR6nkamOZh/F2d3dRVdXF7q7u1UBZiM5YuJ4qpU4Ftra2lSJz9SY/f195PP5hj4ryzKi0eiZ5iGWYpBDdA5isRjS6XTZlU52ux0OhwPpdLqsZxkIBPDs2TM8ffq0pmBEJDeLssTJozQPAjhqoLQJyUa3ubmJYrGoXF0j6CXEAocjL19//TXm5ubKGuO9vT0AR7k5gngt/l5aVrOP4mxtbaFYLJYla7vdbrS0tGBra0u1fLX6F/uwNo9HL2AqvVfLed6fxchEp8FsNqvaJr3ct4vGIIfonKyursJisWBsbEx57969e2htbUUkEilbXgy5WywW9PX1VS27dNRGlCUCq66uLgwODirLiiu69AIrI1tZWUE2m1WNYAUCAfT392N5ebmsLlwuF0wmk+6VV7IsI5lMYmhoSPmbyPfQu+Kn2UdxAP068/l8GBkZKZt2AqrXfyKRwNraGnp6elQ5bdqkVgY4Z0evPRsbG4PFYinrSJQSx9x5Bfzv3Lx587dn/i1kONq7lpbS3nGUjmjvvlrtahyRxKdXn3p3Ma6UUKx3191mveOx3h1YK538RB0XCoWK26iWuyfr3QSymdV6x+la6l8cI4L2WNH+vRTvfKxPr20RtHV2XHumd2f2465APG0McoiIiMiQOF1FREREhsQgh4iIiAyJQQ4REREZEoMcIiIiMiQGOURERGRIDHKIiIjIkBjkEBERkSExyCEiIiJDYpBDREREhsQgh4iIiAyJQQ4REREZEoMcIiIiMiQGOURERGRIDHKIiIjIkBjkEBERkSExyCEiIiJDYpBDREREhsQgh4iIiAyJQQ4REREZEoMcIiIiMiQGOURERGRIDHKIiIjIkBjkEBERkSExyCEiIiJDYpBDREREhsQgh4iIiAyJQQ4REREZEoMcIiIiMiQGOURERGRIDHKIiIjIkBjkEBERkSGZLnoFiIioeUiShP7+fuX19vY2Hj161FBZgUAAo6OjqvdevnyJcDises9ut2NychJdXV1YX1/H3NxcQ9/XDEKhEHp6enT/ViwWEYlEIMsyAMDtdmNiYgJtbW26f9cS2z6Xy+Grr75CLBY7mx9RgkEOERGdi1AoBJvNhufPn0OWZfh8Pvj9foRCoboDHUmS4PF4lLLEeyLoEYGOWO7169ewWCyn+4MMqNJ2CIVCMJvN2NjYAABl2yWTSeUzoVAIfr8fAMoCHZ/PB4/Hc4Zrro9BTp20PYdKEak2wq20nLa80l6NKCMej6t6HpIkwel0KuWVLpdKpVTlaXs1ta5/ac8HUEfoogy9HlEoFILVaj23KJ2IrgafzwebzYbFxUXlBCjLMjo6OjAyMgKfz1dxBEDLbrfD4XAgmUyqPrO0tASn04nu7m4Ah+2dw+HA48eP0dfXh+vXr5/+D2sCYttFo1EkEgkAgNfrRTabxfz8vLLc/Pw8Jicn4fV6y7alWD6VSuHatWvntu4Mcurg8/nw4YcfYnx8HMBRIDAxMaE6qYsgQBuwjI6Oqk78YliwNBAJBAIIBAJlw621EMOAMzMziMVikCQJIyMj2NvbU3pNtay/iNCz2SwePnyIRCIBu92OYDCIjY0NrKysYGBgAA6HA3a7Xdnp3W43rFYr0uk0AxwiUnG5XCgUCqq2wW63Y2BgACaTCS6Xq+YgRzCbzao2yGazoaWlBalUCsDhaI5oS/v6+k7plzQfr9eLQqGApaUlAEdtfTweV+oeAAYHB9HV1YXW1la43W7VOdFmsyESicDlcp3rujPxuA6yLOPzzz9XXicSCaytraGtrQ1utxvA0UGrnWeOxWKYmZlRXovIWDvSUnpQ1iuTyeDJkyfKjrW1tQUA6OjoqHn9gaOI+8svv1R24EQigZ///OdIJBJIJBLY2dmBxWJRNRxutxstLS1YXV1taP2JyLg6OzuRz+exv78P4LC9mJ6eRiqVQiaTQWdnZ81lJRIJyLIMi8WC6elpuN1u1fRJo20olRPnqng8rpxbtMEkcDjDMDQ0hFevXqGlpQU2mw3A4XYeGhpCNBqtO4g9DQxyTmhvbw/FYlF53dfXB4vFgs3Nzaqf0+vVnNTBwYEqqpZlGZ999lnVA167/iJC39nZUZWlJQKo0qi8t7cX2WxWmbMlItITCARw//59LCws4Pnz5w2VIcsyHj9+jHw+j6mpKQSDQUSj0YaTmEmfdhRHy2634+nTp+js7IQkSUoQKwwPDwNAxc+fNU5X1ala5jlwNGqyt7dXtRxtr+a8HLf+ehG6HlmW4fV6lSmr9vZ2WK1WLC8vVw2OiKi5BYNBXLt2DbOzs4jFYrDb7Q2Vo51WHxwcxOjoKObm5pgTeEpKc3H06rO9vR3T09NleaOln/d4PFhcXLyw7cEgpw7aKwOAowNNEMGNCHYq2d3dhdVqRXt7+7kFBbWsfzKZRKFQUBL3qtnc3MTIyAj6+vqU38uGhYj07O7uKh2sJ0+eKO1ee3s7WltbsbOzU3NZbrcbd+7cUU2rh8Nh7O3twe/3w+/3sy06BZVGccR54saNG2UpF93d3SgUCnj79i1u37594dOHDHJqJKZxtNn8WmLj9/b2Vi0vlUqhv79flZxVC3FVQb1qXf/9/X3k8/mypGI9IgHZ5XKhs7OTCcdEVNHW1hY8Hg/W1tZU7YrI5RNT4ILogBUKhbKRGTHinE6nVWWJ9lebkEz1qzaKE4vFkE6nYTabsbKyorwvzk/pdBrvvvsuLBYLurq68OzZs7Lyp6amzuV+OczJqZE4+VutViVJNxAIIBgMwmQ6ihVjsRji8Th6enogSZLyvtvtxtTUlPJ6ZWUFmUxGuXRSEFdXlX6nCDi0l3WfxfqLZOSuri7cu3dPed9ut+OnP/2pamhZJCD39/fDZrMx4ZiIKpJlGclkEkNDQ0ob5PP5MDIyopuU6nK5YDKZyi6MAICNjQ1ks1nYbDZV+zk8PIy2trZjcwrpeMfl4qyursJisWBsbEx57969e2htbVVuN/LZZ59hfHxc9W99fV25CliSpDPvGL9z8+bN357pNxiI9t43mUwGy8vLuH37NhYXFxu6H402R0Z7VZb2O9fX15FKpTA0NFR2n5x0Ol016a6e9Re9KBEAVbqTZem8eOnVWEREerRtXqU7EFcbyQHK7+UllE6faNuxUsfdnbeZ6d3or9pyon5rGZnR3uftrDHIoRMRO3k0GrBCNDEAABQPSURBVOWt0omI6FLhdBWdiLgU/qIuDyQiIqqEQQ41LBAIoL+/H8vLy0w4JiKiS4dXV1HdSp8irPfEXyIiosuAOTlERERkSJyuIiIiIkNikENERESGxCCHiIiIDIlBDhERERkSgxwiIiIyJAY5REREZEi8Tw7ROdI+P6zR5+don/9TqlKZpd9d6XlBzaDWZydVU3qvKD1694/Sfm+z3mNKW3fa5/XVotozqUrL1B5vpZq1/o9TT9tSb3smtv15PH1cYJBDdE70HnoXCoXg9/sBoK5Ap9JJIRQKwWw2Y2Njo+xvfr9ft7FvFuKBjq2trZiZmUEsFlMepCtJUl2BTqVlxcMHSxvv0u0+Pj5+4t9xlYVCIdhsNjx//hyyLCt1EwqF6gp0ZFnWPV5EeZubm6r3mzmor1etbUu97ZnP54PH4znDNdfX9EGOz+fDnTt3sLy8jKGhIbS0tCASicDr9aKnpweZTEb1dO1any6ujXC1ywUCAYyMjKi+q1J5p9HzEY5b/1AoBKvVWrYOek86r9Sb4tN99Xm9XmSzWczPzyvvzc/PY3JyEl6v98T15fP5YLPZEI1Gy54GL/726tUrfPTRRyf6nqtqcHAQFosFkUhE2bfD4TC6u7vhdDrhdrtP1LN0u91wOp1Ip9NKOXa7HT6f79inOTcDsQ8uLi4q+7osy+jo6MDIyAh8Pt+JjwGv14tCocDHzJwyvbal3vZMLJ9KpXDt2rVzW3fm5Pz/bt26hX/9139FNpvFn/7pnwI4HM60WCzo6+sDcLihP/zwQ4yPj2N8fBwPHz5EPp/HxMQE3G63UlYgEMDU1BTS6bSy7FdffaUKLgDAZDIhGAwCgKq8u3fvwm63w2634+nTp3A6nZiZmcH4+DhmZmZgtVrx9OlT2O32un5jLeu/ubmJtrY21e8BDhvwlpYWrK6uKmWJp4+LsjKZDHK5HGZnZxngaLjdblitVuzs7KgCkMHBQXR1dcFqtZbVeb1EA699WGrpiXZlZeVE33GV9fb2IpvNqka5RGCit8/Xa3h4WHWMAEeBVel7zUo8zLc0ALHb7RgYGIDJZILL5TpR+eJEHI/HGeScMm3bUm97FggEYLPZIMsyCoXCua47gxwALS0t2N/fx3/8x38AOAw+IpGI8v+Ojg4Ah72Ozz//XPlcIpHA2tqaqoEUB612tCUWi2FmZqbsu9fX15XlEokEdnZ20Nraivb2dqWBXFhYUA7aWCyG5eVldHV1YXBwsK7fWcv6x2Ix5HI59Pb2qj6rPUFonz6uVxYdsdlsaGlpQSqVUt6TJAlDQ0N49eoVWlpaYLPZGi6/WgM/NjaG1tZWZZ9uRna7HWazGQcHB0qj7PP5cP/+fXz33XfI5XLo7u5uuHwRLCWTSVWA393djUKhgPfffx/Pnj1T/jXSSbnqOjs7kc/nsb+/D+Cwzqanp5FKpZDJZNDZ2Xmi8isF+QDQ39+vqv9AIHCi72omem1LPe2Z2+3G0NAQotHohXR+m366Siidwy09EI+zt7eHYrGovO7r64PFYsHa2lpNny/dSQD1XL/f70ehUEAymVQtE4vFMDQ0dKJGWdCufywWQzweVw3fi6g9Ho8rJ4hKDVKxWMTe3t6J18vIRG7IwcEBJEk6lQa3UgMvTr6igWIAekjkzszOzgLAiafw9EZxgMPjpK2tDe+9956SjyOmficnJ1VT4c2kdLp+Y2MDk5OTJyqvdDqlNMiPxWKQJEm1rCRJGB0dRXd3N/N0alAteASOb8+Gh4cBoOLnzxqDnDpVyzwHoIz6nNaJvlrA1UjP57j1B4CtrS14PB5VkAOod9LV1VX4/X4MDw8jFospI1ja6QBSa29vx/T0NOLx+Kk1sJUaeOAwUM7n83jx4sWpfJcRiATKJ0+eIJFInDjwqzSKI+RyOdUomhiNHRkZQV9fX9MFOcFgENeuXcPs7KzSdpzUcSfiUi9evIDD4YDD4YDdbm+6+q9HtbYFOL49E8nGi4uLFzaFyCCnDtorA4Cj3BRBBDci2DlLu7u7dS1fy/oDwMbGBrLZrDJl1dvbq0qmBA5/n8lkUoaBAZQladORZDKJQqGAGzdulF26KqY0tCN2tarUwIt58Egk0vTbJJFI4ODgAD09Pdje3saDBw+Uv+kNvdej0igOcHiMWq3WhtfbSHZ3d5UOlggwgcMTZWtrK3Z2dhoq97gTsZbYF6xWK9rb25v+2KimUttSS3v29u1b3L59G8lk8kIv1WeQUyMxZVOptyaIja/NaWnE5uambm9PJAFvbW3VXFat6w8c5dcMDQ3hk08+gdVqxfLysvL3SnlHVFksFkM6nYbZbFYl/9rtdjgcjrIgEji6Eq5a8Fitge/t7VWS20WCuyCC02a6tHZzcxM2m60sGNFLiAWOOgCFQqHiPT2OG8VJpVLweDyw2Wyqz580sL2KxAjx2tpaTe1ZLfUP1DeKI77ParXqHnN0pFrbUkt79u6778JisaCrq0vpCJeampo6l/vlMPG4Rvv7+8jn86qs8UAggGAwqLqEWuS09PT0qOaC3W43pqam6vrOlZUVZLNZ+Hw+ZUhXJHHVEqw0sv6lvwM4zJbP5/OqHVn0hMxmc9MlT57E6uoqLBYLxsbGlPfu3btXMSlYBMqlV/hpVWvgHz16pFxJJ/7NzMwgl8thfX0d4+PjTRPgAPrHUyAQQH9/P5aXl8saWpfLBZPJVDWZvtooTqXvFEP4zXYVkCzLSCaTGBoaUurT5/NhZGRENym1lvqv94oqu92Ou3fvAkBTJ+LX4rjg8bj2TJZlfPbZZ2Vt0Pr6OnK5HGZmZiBJ0pkfAxzJqVEikcA333yDiYkJJVjJZDL4p3/6J9y+fVu17NzcnNILFxGsiFjr/c4vv/wSk5OTePz4sfJ+I73vetYfOIrUe3p6sL6+XjaKEIlEMDExoVovgXcS1Scacb/fX7Zf6B3om5ub6OnpqZjnJBr4ZDLZVCfLRlU6nirtr2LkodJ9V8QoTrU8tHq/0+gePXqEUCik6vBVas+Oq3/g8EQsltWjdy8v7XQllaulbam3Pbso79y8efO3F70SdLWIq0Py+XzZNIrI++HNAImI6KJxuorqJhI1tTeCAupPhiYiIjorDHKobiK5WlyCKYhcA15GTkRElwGnq6ghlZ7u20xX6xAR0eXGIIeIiIgMidNVREREZEgMcoiIiMiQGOQQERGRITXNzQDFgylPkhgrHux30c9nuizrQUREdJlxJOeMhEIhPH36lI89ICIiuiBNM5LDB0nSZaC99L5YLDZ8d2i73Y7JyUl0dXUp7+k9zFOSJPT391ddppmIUV3hpKO7pWVVuq196bZq9tssaPfHkzzoVzw+p5T2kRnaRzuc5JhrBtp9upS27uptz8S2P8/HPzRNkEN00URjm0wmlUY9FArB7/cDQF2Nrmhc0um08hwe8d7k5KQSxEiSBIfDgYcPHyKRSOgu0yxEoNHa2oqZmRnEYjHlJClJUl2BhygLgFK34r2JiQlVAy5JEjweD16/fg2LxXImv+2qEI99ef78OWRZVo6JUChUd6Aj6lWUJd4TQU84HIbP58OdO3dUJ95Gj7lmUWk7iDQJcaPXetszcbPY83apgpxAIICRkZGKkaA2F0UbRepFh9qotNKD8fQe5AboR6Yff/wxHj58qCwrytQro/ShfNoetLYnXikK1vZ8RFmN0PZ8tHUWCoVgtVrL6rH0pCp26HrqjA4fJpjNZjE/P6+8Nz8/j8nJSXi93rqDHO3Tr2OxGOLxOJxOJ9rb25FIJMpO3GIZj8eDvr6+pgpyBgcHYbFYEIlElH07HA6ju7sbTqcTbre75p5lX18fLBYLFhcXlTpMJBJYW1vDyMgIbDabEkQ5HA48fvwYfX19uH79+pn9vstOPPRxcXFR2ddlWUZHRwdGRkbg8/lqPgbsdjscDgeSyaTqM0tLS3A6neju7lbK15a5uroKv98Pl8vFNqpGYttFo1Flf6+3PRPLp1IpXLt27dzW/VIFOXt7ewCAjo6OisscHBwgkUgoJ9hoNKo05KFQqKwXpT0h69GWVdrj057su7q6cPv2beUkLkkShoaGEIvFVAfUccnBej1xSZLKomARdIieZ2nZ9fL5fPjwww8xPj4OALo9z83NTYyOjpY1+NqTaj11Rof1Z7VaEY/HVfvD4OAgurq60NraWtdJFgBMJlPZsdLZ2Yl8Po/9/f1TW3ej6O3tLXvkiHiSeFtbW931D0A5mZa+LhQKSCaTAA6DKNGp6uvrO+EvuNpcLlfZE8XtdjsGBgZgMpkaCjrMZjPsdrtyTInn6qVSqVNd92bn9XpRKBSwtLQEoP72LBAIKA9udrlc57rulyrxWDwTSRBDyG63G3a7HWazWXkApIgKX7x4oSwfiUQAAMPDw3V9rzj4xAYUPTLR8JXSjlJsbW2hpaWlbLnjiHUU6wwAL168QDabhdfrBXAUPS8vL59K0CDLMj7//HPltd7vjMViyOVy6O3tVX1We4Kop85Iv/EVAfKrV6/Q0tICm81Wc3nhcBjb29vKVAtwNBUgy3LVEZrOzk7VibgZiPZDdJKAw+Pr/v37+O6775DL5coClmpkWUY0GkV/fz9CoRCAoxHX0zpejUYbgLvdbkxPTyOVSiGTyaCzs7PmshKJBGRZhsViwfT0NNxut2r6RG+0Xujo6IDJZGIgVCNxHorH48p+XU975na7MTQ0hGg0eiEjZ5cqyNnf30c+n1cam87OTuWk2d7ejtbWVgBHUaT2Kdji8/UcLOJ79BSLRWV0STiNh0+KodZ0Oq1qDBOJBA4ODpTeiV7P57Tt7e2hWCwqr8V0htVqVYIVvfqup85IzW634+nTp+js7IQkSQ2Pujx69AgvX75Ef38/nj17BqvVitnZ2aoNSSAQQE9PT9m+12wkScKdO3cwOzuLlZWVhsqYm5vD8+fPYbPZ8OzZMyU/pNoJlg4FAgHcv38fCwsLeP78eUNlyLKMx48fI5/PY2pqCsFgENFotGpujzjh5nK5pt7/66EdxdE6rj0THfpKnz9rl2q6SpzkOzs74Xa7YTab8etf/xrd3d3KDplKpZQoUjTuWgcHB3V9r5ijHR4eRiwWU4ZQz+pp2iJg6+rq0l3/RvNtalEtc17Y2tqCx+NRhhtFsFO6k553nRlFe3s7pqenEY/HT3yFjdiWL1++xMrKCiYnJzE1NVXx6h2Rj5XJZFTz6M1GTPc+efJEye1rhBi5EfUdCoUQDAbh9Xp5NWcVwWAQ165dw+zsrNJ2NEKM3GSzWTx8+BCDg4MYHR3F3Nyc7pS5SBFoaWlR5WVRZaW5OHr1dVx7JpKNFxcXL6y+L1WQI5jNZnzwwQfY39/Hr371KwwMDOCDDz4AcDjyIKa1SvNxTkIMX5YGTWd5ma0YcSpN4j0P2isbAP1cpY2NDWSzWWXKqre3t6znf951dtWJffbGjRtlye/aPI5aSJKkBDiirAcPHiAUCsHj8ZQlcfp8PoyMjCCXy+Gbb75pum0kOlA9PT3Y3t5W8uCAxvI4AoGAKsABDkfWROATCAQ4oqOxu7urdLBEgAkcdfp2dnZqLsvtduPOnTvIZrNKmxMOh7G3twe/3w+/31+W+3P37l20tbXh5cuXTDiuUaVRnFras7dv3+L27dvHTh+etUsX5Ozu7sJsNsPpdOLNmzeIxWK4desW3nvvPRSLRSSTyYanpfSIEYiT3KtBz+7uLqxWq3KVSynttFSlE04qlYLH41Gu1ACOIutsNlvX+ogpJ+3VCHpEfs3Q0BA++eQTWK1WLC8vK38/qzozslgshnQ6DbPZrJoeqTR1CahHXrTBY2dnp+7UoDiRlCYki0C2UCg0dVL45uYmbDab6oo0QD8hFqheb2JKXRsYidf15Pc0CzFCvLa2ptqXxUUNW1tbquWr1b8ITNPptKoscfItbVtLr2KtdHUtlas2ilNLe/buu+/CYrFUnLGYmpo6l/vlXKqcHOCwkejq6oLT6cTW1hZisRj29/dx48YN/OY3v8H+/r5yEu7p6VGSLhulDThOSyqVQltbW8Uk6NXVVVgsFty7d69iGbFYDIVCQUlEFr2XXC5X9/qIwLA01yYQCCAYDJZdAi6+GzjMls/n86od+azqzOjENh8bG1Peu3fvHlpbW1UJ6IIYSbNYLGVX5mxubsJkMin7BnB0pVBpvgEDnCMrKyvIZrPw+XzKfitGZPSShV0uF0wmk24y/dbWForFIgYGBpSyRPBfLBbLTth0mEOTTCYxNDSk1KcYYdRLSq1W/2K02WazwefzKe8PDw+jra1NyR9kgNO443JxjmvPZFnGZ599hvHxcdW/9fV15HI5zMzMQJKkM2+T3rl58+Zvz/Qb6lQ6zyp6r6JHqx050LtPS+nVT9r76JQqjSCrLVd6YOhdFi7WYXFxsewAOu5Os5W+t/Q7S3+j+G0ulwsOh6PuqSHt92UyGSwvL+P27du661/teV+11hmpaffZaj2ZaiM5pX8vpV22Wg5WM04v6t0l+rh7Z1UKEPXaH+32rHQvKaB57ydV6x2nj6t/vW0JqLen3jEiNGv910LvRn/VlqulPRMkSYLT6Ty3TtelC3LOmzhZ5/P5sgZf5LDwQFBjnRER0VVw6aarzpuY29Vejg5AuScPqbHOiIjoKmj6IEckqjkcDlV+ibj0jZdEl2OdERHRVdD001VA5fySZn9acDWsMyIiuuwY5BAREZEhNf10FRERERkTgxwiIiIyJAY5REREZEgMcoiIiMiQGOQQERGRITHIISIiIkNikENERESGxCCHiIiIDIlBDhERERkSgxwiIiIyJAY5REREZEgMcoiIiMiQGOQQERGRITHIISIiIkP6/wB07OX6uFRQ9wAAAABJRU5ErkJggg==)"
      ],
      "metadata": {
        "id": "dp60qC-SddHd"
      }
    },
    {
      "cell_type": "markdown",
      "source": [
        "# Method 4 : Use of Ensemble"
      ],
      "metadata": {
        "id": "yO4AhN9MRgaB"
      }
    },
    {
      "cell_type": "code",
      "source": [
        "df2['Churn'].value_counts()"
      ],
      "metadata": {
        "colab": {
          "base_uri": "https://localhost:8080/"
        },
        "id": "GXmvrcZ2RVux",
        "outputId": "7720d653-092d-4f7a-9249-1dbe5b440ddf"
      },
      "execution_count": 173,
      "outputs": [
        {
          "output_type": "execute_result",
          "data": {
            "text/plain": [
              "0    5163\n",
              "1    1869\n",
              "Name: Churn, dtype: int64"
            ]
          },
          "metadata": {},
          "execution_count": 173
        }
      ]
    },
    {
      "cell_type": "code",
      "source": [
        "x=df2.drop('Churn', axis='columns')\n",
        "y=df2['Churn']\n",
        "\n",
        "X_train, X_test, y_train, y_test=train_test_split(x,y,test_size=0.2,random_state=15,stratify=y)"
      ],
      "metadata": {
        "id": "otlNpeFLRu4Z"
      },
      "execution_count": 175,
      "outputs": []
    },
    {
      "cell_type": "code",
      "source": [
        "y_train.value_counts()"
      ],
      "metadata": {
        "colab": {
          "base_uri": "https://localhost:8080/"
        },
        "id": "3JPLlhU_T8P_",
        "outputId": "60bcf2ef-52e4-4af0-f019-95df305ceb13"
      },
      "execution_count": 184,
      "outputs": [
        {
          "output_type": "execute_result",
          "data": {
            "text/plain": [
              "0    4130\n",
              "1    1495\n",
              "Name: Churn, dtype: int64"
            ]
          },
          "metadata": {},
          "execution_count": 184
        }
      ]
    },
    {
      "cell_type": "code",
      "source": [
        "y_test.shape"
      ],
      "metadata": {
        "colab": {
          "base_uri": "https://localhost:8080/"
        },
        "id": "rOouM0AsZbSH",
        "outputId": "3d7244ce-54b6-4f17-fa43-8ef58e319b80"
      },
      "execution_count": 203,
      "outputs": [
        {
          "output_type": "execute_result",
          "data": {
            "text/plain": [
              "(1407,)"
            ]
          },
          "metadata": {},
          "execution_count": 203
        }
      ]
    },
    {
      "cell_type": "code",
      "source": [
        "df3=X_train.copy()\n",
        "df3['Churn']=y_train\n",
        "\n",
        "df3_class_0=df3[df3['Churn']==0]\n",
        "df3_class_1=df3[df3['Churn']==1]"
      ],
      "metadata": {
        "id": "q2UcxrCVU26v"
      },
      "execution_count": 186,
      "outputs": []
    },
    {
      "cell_type": "code",
      "source": [
        "df3_class_1['Churn'].value_counts()"
      ],
      "metadata": {
        "colab": {
          "base_uri": "https://localhost:8080/"
        },
        "id": "dYBSGE-TWFkx",
        "outputId": "64a0e4d9-8386-4aa6-eb8e-72b47947f538"
      },
      "execution_count": 189,
      "outputs": [
        {
          "output_type": "execute_result",
          "data": {
            "text/plain": [
              "1    1495\n",
              "Name: Churn, dtype: int64"
            ]
          },
          "metadata": {},
          "execution_count": 189
        }
      ]
    },
    {
      "cell_type": "code",
      "source": [
        "df3.columns"
      ],
      "metadata": {
        "colab": {
          "base_uri": "https://localhost:8080/"
        },
        "id": "T_eifXL-Wkhn",
        "outputId": "7d87355e-53db-4081-9ff9-8e9f8a420bad"
      },
      "execution_count": 190,
      "outputs": [
        {
          "output_type": "execute_result",
          "data": {
            "text/plain": [
              "Index(['gender', 'SeniorCitizen', 'Partner', 'Dependents', 'tenure',\n",
              "       'PhoneService', 'MultipleLines', 'OnlineSecurity', 'OnlineBackup',\n",
              "       'DeviceProtection', 'TechSupport', 'StreamingTV', 'StreamingMovies',\n",
              "       'PaperlessBilling', 'MonthlyCharges', 'TotalCharges',\n",
              "       'InternetService_DSL', 'InternetService_Fiber optic',\n",
              "       'InternetService_No', 'Contract_Month-to-month', 'Contract_One year',\n",
              "       'Contract_Two year', 'PaymentMethod_Bank transfer (automatic)',\n",
              "       'PaymentMethod_Credit card (automatic)',\n",
              "       'PaymentMethod_Electronic check', 'PaymentMethod_Mailed check',\n",
              "       'Churn'],\n",
              "      dtype='object')"
            ]
          },
          "metadata": {},
          "execution_count": 190
        }
      ]
    },
    {
      "cell_type": "code",
      "source": [
        "def get_dataset(majority_data,minority_data,start,end):\n",
        "    df_train=pd.concat([majority_data[start:end],minority_data],axis=0)\n",
        "\n",
        "    X_train=df3.drop('Churn',axis='columns')\n",
        "    y_train=df3['Churn']\n",
        "\n",
        "    return X_train,y_train"
      ],
      "metadata": {
        "id": "qPOjwcPTUYO4"
      },
      "execution_count": 195,
      "outputs": []
    },
    {
      "cell_type": "code",
      "source": [
        "X_train,y_train=get_dataset(df3_class_0,df3_class_1,0,1495)\n",
        "model4_1=get_model(X_train,y_train)\n",
        "y_pred4_1=model4_1.predict(X_test)"
      ],
      "metadata": {
        "id": "F80ERqgFW3b_"
      },
      "execution_count": 206,
      "outputs": []
    },
    {
      "cell_type": "code",
      "source": [
        "X_train,y_train=get_dataset(df3_class_0,df3_class_1,1495,2990)\n",
        "model4_2=get_model(X_train,y_train)\n",
        "y_pred4_2=model4_2.predict(X_test)"
      ],
      "metadata": {
        "id": "WcYObAh6Xkwg"
      },
      "execution_count": 207,
      "outputs": []
    },
    {
      "cell_type": "code",
      "source": [
        "X_train,y_train=get_dataset(df3_class_0,df3_class_1,2990,4130)\n",
        "model4_3=get_model(X_train,y_train)\n",
        "y_pred4_3=model4_3.predict(X_test)"
      ],
      "metadata": {
        "id": "YFLu0e8uYzlW"
      },
      "execution_count": 208,
      "outputs": []
    },
    {
      "cell_type": "code",
      "source": [
        "y_pred_final=y_pred4_1\n",
        "for i in range(len(y_pred4_1)):\n",
        "    ones=y_pred4_1[i]+y_pred4_2[i]+y_pred4_3[i]\n",
        "    if ones>1:\n",
        "        y_pred_final[i]=1\n",
        "    else:\n",
        "        y_pred_final[i]=0"
      ],
      "metadata": {
        "id": "WrYxfH1JZDge"
      },
      "execution_count": 213,
      "outputs": []
    },
    {
      "cell_type": "code",
      "source": [
        "print(classification_report(y_pred_final,y_test))"
      ],
      "metadata": {
        "colab": {
          "base_uri": "https://localhost:8080/"
        },
        "id": "fm3zjXTgZTyn",
        "outputId": "8bf0991a-3418-4c36-d620-d0f5a4aa41b5"
      },
      "execution_count": 214,
      "outputs": [
        {
          "output_type": "stream",
          "name": "stdout",
          "text": [
            "              precision    recall  f1-score   support\n",
            "\n",
            "           0       0.90      0.84      0.87      1102\n",
            "           1       0.54      0.66      0.59       305\n",
            "\n",
            "    accuracy                           0.80      1407\n",
            "   macro avg       0.72      0.75      0.73      1407\n",
            "weighted avg       0.82      0.80      0.81      1407\n",
            "\n"
          ]
        }
      ]
    },
    {
      "cell_type": "markdown",
      "source": [
        "# Comparison with normal Logistic Regression Model\n",
        "\n",
        "![image.png](data:image/png;base64,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)"
      ],
      "metadata": {
        "id": "KtEAIm8odkNF"
      }
    },
    {
      "cell_type": "markdown",
      "source": [
        "Hence we can conclude that oversampling worked best to increase the performance metrics of our Logistic Regression Model"
      ],
      "metadata": {
        "id": "cavyiCnxd2OV"
      }
    },
    {
      "cell_type": "code",
      "source": [],
      "metadata": {
        "id": "iNJkdEYBapBm"
      },
      "execution_count": null,
      "outputs": []
    }
  ],
  "metadata": {
    "accelerator": "GPU",
    "colab": {
      "provenance": []
    },
    "kernelspec": {
      "display_name": "Python 3",
      "name": "python3"
    },
    "language_info": {
      "name": "python"
    }
  },
  "nbformat": 4,
  "nbformat_minor": 0
}