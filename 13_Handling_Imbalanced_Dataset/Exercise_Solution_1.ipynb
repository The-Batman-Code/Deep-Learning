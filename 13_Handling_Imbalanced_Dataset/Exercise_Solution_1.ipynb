{
  "cells": [
    {
      "cell_type": "code",
      "execution_count": 77,
      "metadata": {
        "id": "2eLFsZdiwq9W"
      },
      "outputs": [],
      "source": [
        "import pandas as pd\n",
        "import matplotlib.pyplot as plt\n",
        "import numpy as np\n",
        "import tensorflow as tf\n",
        "from tensorflow import keras\n",
        "%matplotlib inline"
      ]
    },
    {
      "cell_type": "markdown",
      "source": [
        "# Cleaning Data"
      ],
      "metadata": {
        "id": "UJUXbHYzln_p"
      }
    },
    {
      "cell_type": "code",
      "execution_count": 78,
      "metadata": {
        "colab": {
          "base_uri": "https://localhost:8080/",
          "height": 386
        },
        "id": "V1jYOPi8yM5t",
        "outputId": "5828e49f-4273-42fa-c6d5-382aed6e88fd"
      },
      "outputs": [
        {
          "output_type": "execute_result",
          "data": {
            "text/plain": [
              "      customerID  gender  SeniorCitizen Partner Dependents  tenure  \\\n",
              "3401  4299-OPXEJ  Female              0      No         No      56   \n",
              "3093  9931-DCEZH    Male              0      No        Yes      28   \n",
              "3244  7966-YOTQW    Male              0      No         No      10   \n",
              "3848  8805-JNRAZ  Female              0      No         No       2   \n",
              "6274  4685-ERGHK    Male              0      No         No      57   \n",
              "\n",
              "     PhoneService MultipleLines InternetService       OnlineSecurity  ...  \\\n",
              "3401          Yes            No              No  No internet service  ...   \n",
              "3093          Yes            No             DSL                   No  ...   \n",
              "3244          Yes           Yes             DSL                  Yes  ...   \n",
              "3848          Yes            No             DSL                   No  ...   \n",
              "6274          Yes           Yes     Fiber optic                   No  ...   \n",
              "\n",
              "         DeviceProtection          TechSupport          StreamingTV  \\\n",
              "3401  No internet service  No internet service  No internet service   \n",
              "3093                   No                  Yes                   No   \n",
              "3244                   No                   No                   No   \n",
              "3848                   No                   No                   No   \n",
              "6274                   No                   No                  Yes   \n",
              "\n",
              "          StreamingMovies        Contract PaperlessBilling  \\\n",
              "3401  No internet service        Two year              Yes   \n",
              "3093                   No        One year              Yes   \n",
              "3244                   No  Month-to-month              Yes   \n",
              "3848                   No  Month-to-month               No   \n",
              "6274                   No        One year              Yes   \n",
              "\n",
              "                  PaymentMethod MonthlyCharges  TotalCharges Churn  \n",
              "3401  Bank transfer (automatic)          19.55       1080.55    No  \n",
              "3093    Credit card (automatic)          54.40        1516.6    No  \n",
              "3244    Credit card (automatic)          54.50         568.2    No  \n",
              "3848               Mailed check          49.20         103.7    No  \n",
              "6274           Electronic check          86.90       4939.25    No  \n",
              "\n",
              "[5 rows x 21 columns]"
            ],
            "text/html": [
              "\n",
              "  <div id=\"df-2ab270bf-12e0-4ffe-ad98-fae8300fd71f\">\n",
              "    <div class=\"colab-df-container\">\n",
              "      <div>\n",
              "<style scoped>\n",
              "    .dataframe tbody tr th:only-of-type {\n",
              "        vertical-align: middle;\n",
              "    }\n",
              "\n",
              "    .dataframe tbody tr th {\n",
              "        vertical-align: top;\n",
              "    }\n",
              "\n",
              "    .dataframe thead th {\n",
              "        text-align: right;\n",
              "    }\n",
              "</style>\n",
              "<table border=\"1\" class=\"dataframe\">\n",
              "  <thead>\n",
              "    <tr style=\"text-align: right;\">\n",
              "      <th></th>\n",
              "      <th>customerID</th>\n",
              "      <th>gender</th>\n",
              "      <th>SeniorCitizen</th>\n",
              "      <th>Partner</th>\n",
              "      <th>Dependents</th>\n",
              "      <th>tenure</th>\n",
              "      <th>PhoneService</th>\n",
              "      <th>MultipleLines</th>\n",
              "      <th>InternetService</th>\n",
              "      <th>OnlineSecurity</th>\n",
              "      <th>...</th>\n",
              "      <th>DeviceProtection</th>\n",
              "      <th>TechSupport</th>\n",
              "      <th>StreamingTV</th>\n",
              "      <th>StreamingMovies</th>\n",
              "      <th>Contract</th>\n",
              "      <th>PaperlessBilling</th>\n",
              "      <th>PaymentMethod</th>\n",
              "      <th>MonthlyCharges</th>\n",
              "      <th>TotalCharges</th>\n",
              "      <th>Churn</th>\n",
              "    </tr>\n",
              "  </thead>\n",
              "  <tbody>\n",
              "    <tr>\n",
              "      <th>3401</th>\n",
              "      <td>4299-OPXEJ</td>\n",
              "      <td>Female</td>\n",
              "      <td>0</td>\n",
              "      <td>No</td>\n",
              "      <td>No</td>\n",
              "      <td>56</td>\n",
              "      <td>Yes</td>\n",
              "      <td>No</td>\n",
              "      <td>No</td>\n",
              "      <td>No internet service</td>\n",
              "      <td>...</td>\n",
              "      <td>No internet service</td>\n",
              "      <td>No internet service</td>\n",
              "      <td>No internet service</td>\n",
              "      <td>No internet service</td>\n",
              "      <td>Two year</td>\n",
              "      <td>Yes</td>\n",
              "      <td>Bank transfer (automatic)</td>\n",
              "      <td>19.55</td>\n",
              "      <td>1080.55</td>\n",
              "      <td>No</td>\n",
              "    </tr>\n",
              "    <tr>\n",
              "      <th>3093</th>\n",
              "      <td>9931-DCEZH</td>\n",
              "      <td>Male</td>\n",
              "      <td>0</td>\n",
              "      <td>No</td>\n",
              "      <td>Yes</td>\n",
              "      <td>28</td>\n",
              "      <td>Yes</td>\n",
              "      <td>No</td>\n",
              "      <td>DSL</td>\n",
              "      <td>No</td>\n",
              "      <td>...</td>\n",
              "      <td>No</td>\n",
              "      <td>Yes</td>\n",
              "      <td>No</td>\n",
              "      <td>No</td>\n",
              "      <td>One year</td>\n",
              "      <td>Yes</td>\n",
              "      <td>Credit card (automatic)</td>\n",
              "      <td>54.40</td>\n",
              "      <td>1516.6</td>\n",
              "      <td>No</td>\n",
              "    </tr>\n",
              "    <tr>\n",
              "      <th>3244</th>\n",
              "      <td>7966-YOTQW</td>\n",
              "      <td>Male</td>\n",
              "      <td>0</td>\n",
              "      <td>No</td>\n",
              "      <td>No</td>\n",
              "      <td>10</td>\n",
              "      <td>Yes</td>\n",
              "      <td>Yes</td>\n",
              "      <td>DSL</td>\n",
              "      <td>Yes</td>\n",
              "      <td>...</td>\n",
              "      <td>No</td>\n",
              "      <td>No</td>\n",
              "      <td>No</td>\n",
              "      <td>No</td>\n",
              "      <td>Month-to-month</td>\n",
              "      <td>Yes</td>\n",
              "      <td>Credit card (automatic)</td>\n",
              "      <td>54.50</td>\n",
              "      <td>568.2</td>\n",
              "      <td>No</td>\n",
              "    </tr>\n",
              "    <tr>\n",
              "      <th>3848</th>\n",
              "      <td>8805-JNRAZ</td>\n",
              "      <td>Female</td>\n",
              "      <td>0</td>\n",
              "      <td>No</td>\n",
              "      <td>No</td>\n",
              "      <td>2</td>\n",
              "      <td>Yes</td>\n",
              "      <td>No</td>\n",
              "      <td>DSL</td>\n",
              "      <td>No</td>\n",
              "      <td>...</td>\n",
              "      <td>No</td>\n",
              "      <td>No</td>\n",
              "      <td>No</td>\n",
              "      <td>No</td>\n",
              "      <td>Month-to-month</td>\n",
              "      <td>No</td>\n",
              "      <td>Mailed check</td>\n",
              "      <td>49.20</td>\n",
              "      <td>103.7</td>\n",
              "      <td>No</td>\n",
              "    </tr>\n",
              "    <tr>\n",
              "      <th>6274</th>\n",
              "      <td>4685-ERGHK</td>\n",
              "      <td>Male</td>\n",
              "      <td>0</td>\n",
              "      <td>No</td>\n",
              "      <td>No</td>\n",
              "      <td>57</td>\n",
              "      <td>Yes</td>\n",
              "      <td>Yes</td>\n",
              "      <td>Fiber optic</td>\n",
              "      <td>No</td>\n",
              "      <td>...</td>\n",
              "      <td>No</td>\n",
              "      <td>No</td>\n",
              "      <td>Yes</td>\n",
              "      <td>No</td>\n",
              "      <td>One year</td>\n",
              "      <td>Yes</td>\n",
              "      <td>Electronic check</td>\n",
              "      <td>86.90</td>\n",
              "      <td>4939.25</td>\n",
              "      <td>No</td>\n",
              "    </tr>\n",
              "  </tbody>\n",
              "</table>\n",
              "<p>5 rows × 21 columns</p>\n",
              "</div>\n",
              "      <button class=\"colab-df-convert\" onclick=\"convertToInteractive('df-2ab270bf-12e0-4ffe-ad98-fae8300fd71f')\"\n",
              "              title=\"Convert this dataframe to an interactive table.\"\n",
              "              style=\"display:none;\">\n",
              "        \n",
              "  <svg xmlns=\"http://www.w3.org/2000/svg\" height=\"24px\"viewBox=\"0 0 24 24\"\n",
              "       width=\"24px\">\n",
              "    <path d=\"M0 0h24v24H0V0z\" fill=\"none\"/>\n",
              "    <path d=\"M18.56 5.44l.94 2.06.94-2.06 2.06-.94-2.06-.94-.94-2.06-.94 2.06-2.06.94zm-11 1L8.5 8.5l.94-2.06 2.06-.94-2.06-.94L8.5 2.5l-.94 2.06-2.06.94zm10 10l.94 2.06.94-2.06 2.06-.94-2.06-.94-.94-2.06-.94 2.06-2.06.94z\"/><path d=\"M17.41 7.96l-1.37-1.37c-.4-.4-.92-.59-1.43-.59-.52 0-1.04.2-1.43.59L10.3 9.45l-7.72 7.72c-.78.78-.78 2.05 0 2.83L4 21.41c.39.39.9.59 1.41.59.51 0 1.02-.2 1.41-.59l7.78-7.78 2.81-2.81c.8-.78.8-2.07 0-2.86zM5.41 20L4 18.59l7.72-7.72 1.47 1.35L5.41 20z\"/>\n",
              "  </svg>\n",
              "      </button>\n",
              "      \n",
              "  <style>\n",
              "    .colab-df-container {\n",
              "      display:flex;\n",
              "      flex-wrap:wrap;\n",
              "      gap: 12px;\n",
              "    }\n",
              "\n",
              "    .colab-df-convert {\n",
              "      background-color: #E8F0FE;\n",
              "      border: none;\n",
              "      border-radius: 50%;\n",
              "      cursor: pointer;\n",
              "      display: none;\n",
              "      fill: #1967D2;\n",
              "      height: 32px;\n",
              "      padding: 0 0 0 0;\n",
              "      width: 32px;\n",
              "    }\n",
              "\n",
              "    .colab-df-convert:hover {\n",
              "      background-color: #E2EBFA;\n",
              "      box-shadow: 0px 1px 2px rgba(60, 64, 67, 0.3), 0px 1px 3px 1px rgba(60, 64, 67, 0.15);\n",
              "      fill: #174EA6;\n",
              "    }\n",
              "\n",
              "    [theme=dark] .colab-df-convert {\n",
              "      background-color: #3B4455;\n",
              "      fill: #D2E3FC;\n",
              "    }\n",
              "\n",
              "    [theme=dark] .colab-df-convert:hover {\n",
              "      background-color: #434B5C;\n",
              "      box-shadow: 0px 1px 3px 1px rgba(0, 0, 0, 0.15);\n",
              "      filter: drop-shadow(0px 1px 2px rgba(0, 0, 0, 0.3));\n",
              "      fill: #FFFFFF;\n",
              "    }\n",
              "  </style>\n",
              "\n",
              "      <script>\n",
              "        const buttonEl =\n",
              "          document.querySelector('#df-2ab270bf-12e0-4ffe-ad98-fae8300fd71f button.colab-df-convert');\n",
              "        buttonEl.style.display =\n",
              "          google.colab.kernel.accessAllowed ? 'block' : 'none';\n",
              "\n",
              "        async function convertToInteractive(key) {\n",
              "          const element = document.querySelector('#df-2ab270bf-12e0-4ffe-ad98-fae8300fd71f');\n",
              "          const dataTable =\n",
              "            await google.colab.kernel.invokeFunction('convertToInteractive',\n",
              "                                                     [key], {});\n",
              "          if (!dataTable) return;\n",
              "\n",
              "          const docLinkHtml = 'Like what you see? Visit the ' +\n",
              "            '<a target=\"_blank\" href=https://colab.research.google.com/notebooks/data_table.ipynb>data table notebook</a>'\n",
              "            + ' to learn more about interactive tables.';\n",
              "          element.innerHTML = '';\n",
              "          dataTable['output_type'] = 'display_data';\n",
              "          await google.colab.output.renderOutput(dataTable, element);\n",
              "          const docLink = document.createElement('div');\n",
              "          docLink.innerHTML = docLinkHtml;\n",
              "          element.appendChild(docLink);\n",
              "        }\n",
              "      </script>\n",
              "    </div>\n",
              "  </div>\n",
              "  "
            ]
          },
          "metadata": {},
          "execution_count": 78
        }
      ],
      "source": [
        "df=pd.read_csv('/content/customer_churn.csv')\n",
        "df.sample(5)"
      ]
    },
    {
      "cell_type": "code",
      "execution_count": 79,
      "metadata": {
        "id": "oqm7KUh3ySra"
      },
      "outputs": [],
      "source": [
        "df.drop('customerID',axis='columns', inplace=True)"
      ]
    },
    {
      "cell_type": "code",
      "execution_count": 80,
      "metadata": {
        "colab": {
          "base_uri": "https://localhost:8080/"
        },
        "id": "dCWQhtJNydvE",
        "outputId": "12b47019-0d2b-4b52-c885-29ffd378fc7f"
      },
      "outputs": [
        {
          "output_type": "execute_result",
          "data": {
            "text/plain": [
              "gender               object\n",
              "SeniorCitizen         int64\n",
              "Partner              object\n",
              "Dependents           object\n",
              "tenure                int64\n",
              "PhoneService         object\n",
              "MultipleLines        object\n",
              "InternetService      object\n",
              "OnlineSecurity       object\n",
              "OnlineBackup         object\n",
              "DeviceProtection     object\n",
              "TechSupport          object\n",
              "StreamingTV          object\n",
              "StreamingMovies      object\n",
              "Contract             object\n",
              "PaperlessBilling     object\n",
              "PaymentMethod        object\n",
              "MonthlyCharges      float64\n",
              "TotalCharges         object\n",
              "Churn                object\n",
              "dtype: object"
            ]
          },
          "metadata": {},
          "execution_count": 80
        }
      ],
      "source": [
        "df.dtypes"
      ]
    },
    {
      "cell_type": "code",
      "execution_count": 81,
      "metadata": {
        "colab": {
          "base_uri": "https://localhost:8080/"
        },
        "id": "mkyNqnsgyrvT",
        "outputId": "6f951f01-41e9-4697-fef7-b7840a7c5cf0"
      },
      "outputs": [
        {
          "output_type": "execute_result",
          "data": {
            "text/plain": [
              "array(['29.85', '1889.5', '108.15', ..., '346.45', '306.6', '6844.5'],\n",
              "      dtype=object)"
            ]
          },
          "metadata": {},
          "execution_count": 81
        }
      ],
      "source": [
        "df['TotalCharges'].values"
      ]
    },
    {
      "cell_type": "code",
      "execution_count": 82,
      "metadata": {
        "colab": {
          "base_uri": "https://localhost:8080/"
        },
        "id": "LMud5QdQy0rb",
        "outputId": "72d9c74b-2f43-4159-b3c5-69d38590f746"
      },
      "outputs": [
        {
          "output_type": "execute_result",
          "data": {
            "text/plain": [
              "array([ 29.85,  56.95,  53.85, ...,  29.6 ,  74.4 , 105.65])"
            ]
          },
          "metadata": {},
          "execution_count": 82
        }
      ],
      "source": [
        "df['MonthlyCharges'].values"
      ]
    },
    {
      "cell_type": "code",
      "execution_count": 83,
      "metadata": {
        "colab": {
          "base_uri": "https://localhost:8080/"
        },
        "id": "v3UcTWoxzABy",
        "outputId": "8e05991b-9d65-4d48-d7a4-aee4f3d08663"
      },
      "outputs": [
        {
          "output_type": "execute_result",
          "data": {
            "text/plain": [
              "0       False\n",
              "1       False\n",
              "2       False\n",
              "3       False\n",
              "4       False\n",
              "        ...  \n",
              "7038    False\n",
              "7039    False\n",
              "7040    False\n",
              "7041    False\n",
              "7042    False\n",
              "Name: TotalCharges, Length: 7043, dtype: bool"
            ]
          },
          "metadata": {},
          "execution_count": 83
        }
      ],
      "source": [
        "pd.to_numeric(df['TotalCharges'], errors='coerce').isnull()"
      ]
    },
    {
      "cell_type": "code",
      "execution_count": 84,
      "metadata": {
        "colab": {
          "base_uri": "https://localhost:8080/",
          "height": 614
        },
        "id": "bskhR6ATzWAC",
        "outputId": "9e0194ea-3fb1-4171-aacc-8333732475d2"
      },
      "outputs": [
        {
          "output_type": "execute_result",
          "data": {
            "text/plain": [
              "      gender  SeniorCitizen Partner Dependents  tenure PhoneService  \\\n",
              "488   Female              0     Yes        Yes       0           No   \n",
              "753     Male              0      No        Yes       0          Yes   \n",
              "936   Female              0     Yes        Yes       0          Yes   \n",
              "1082    Male              0     Yes        Yes       0          Yes   \n",
              "1340  Female              0     Yes        Yes       0           No   \n",
              "3331    Male              0     Yes        Yes       0          Yes   \n",
              "3826    Male              0     Yes        Yes       0          Yes   \n",
              "4380  Female              0     Yes        Yes       0          Yes   \n",
              "5218    Male              0     Yes        Yes       0          Yes   \n",
              "6670  Female              0     Yes        Yes       0          Yes   \n",
              "6754    Male              0      No        Yes       0          Yes   \n",
              "\n",
              "         MultipleLines InternetService       OnlineSecurity  \\\n",
              "488   No phone service             DSL                  Yes   \n",
              "753                 No              No  No internet service   \n",
              "936                 No             DSL                  Yes   \n",
              "1082               Yes              No  No internet service   \n",
              "1340  No phone service             DSL                  Yes   \n",
              "3331                No              No  No internet service   \n",
              "3826               Yes              No  No internet service   \n",
              "4380                No              No  No internet service   \n",
              "5218                No              No  No internet service   \n",
              "6670               Yes             DSL                   No   \n",
              "6754               Yes             DSL                  Yes   \n",
              "\n",
              "             OnlineBackup     DeviceProtection          TechSupport  \\\n",
              "488                    No                  Yes                  Yes   \n",
              "753   No internet service  No internet service  No internet service   \n",
              "936                   Yes                  Yes                   No   \n",
              "1082  No internet service  No internet service  No internet service   \n",
              "1340                  Yes                  Yes                  Yes   \n",
              "3331  No internet service  No internet service  No internet service   \n",
              "3826  No internet service  No internet service  No internet service   \n",
              "4380  No internet service  No internet service  No internet service   \n",
              "5218  No internet service  No internet service  No internet service   \n",
              "6670                  Yes                  Yes                  Yes   \n",
              "6754                  Yes                   No                  Yes   \n",
              "\n",
              "              StreamingTV      StreamingMovies  Contract PaperlessBilling  \\\n",
              "488                   Yes                   No  Two year              Yes   \n",
              "753   No internet service  No internet service  Two year               No   \n",
              "936                   Yes                  Yes  Two year               No   \n",
              "1082  No internet service  No internet service  Two year               No   \n",
              "1340                  Yes                   No  Two year               No   \n",
              "3331  No internet service  No internet service  Two year               No   \n",
              "3826  No internet service  No internet service  Two year               No   \n",
              "4380  No internet service  No internet service  Two year               No   \n",
              "5218  No internet service  No internet service  One year              Yes   \n",
              "6670                  Yes                   No  Two year               No   \n",
              "6754                   No                   No  Two year              Yes   \n",
              "\n",
              "                  PaymentMethod  MonthlyCharges TotalCharges Churn  \n",
              "488   Bank transfer (automatic)           52.55                 No  \n",
              "753                Mailed check           20.25                 No  \n",
              "936                Mailed check           80.85                 No  \n",
              "1082               Mailed check           25.75                 No  \n",
              "1340    Credit card (automatic)           56.05                 No  \n",
              "3331               Mailed check           19.85                 No  \n",
              "3826               Mailed check           25.35                 No  \n",
              "4380               Mailed check           20.00                 No  \n",
              "5218               Mailed check           19.70                 No  \n",
              "6670               Mailed check           73.35                 No  \n",
              "6754  Bank transfer (automatic)           61.90                 No  "
            ],
            "text/html": [
              "\n",
              "  <div id=\"df-2ec88cd6-6234-4e30-beb4-54f394fe281a\">\n",
              "    <div class=\"colab-df-container\">\n",
              "      <div>\n",
              "<style scoped>\n",
              "    .dataframe tbody tr th:only-of-type {\n",
              "        vertical-align: middle;\n",
              "    }\n",
              "\n",
              "    .dataframe tbody tr th {\n",
              "        vertical-align: top;\n",
              "    }\n",
              "\n",
              "    .dataframe thead th {\n",
              "        text-align: right;\n",
              "    }\n",
              "</style>\n",
              "<table border=\"1\" class=\"dataframe\">\n",
              "  <thead>\n",
              "    <tr style=\"text-align: right;\">\n",
              "      <th></th>\n",
              "      <th>gender</th>\n",
              "      <th>SeniorCitizen</th>\n",
              "      <th>Partner</th>\n",
              "      <th>Dependents</th>\n",
              "      <th>tenure</th>\n",
              "      <th>PhoneService</th>\n",
              "      <th>MultipleLines</th>\n",
              "      <th>InternetService</th>\n",
              "      <th>OnlineSecurity</th>\n",
              "      <th>OnlineBackup</th>\n",
              "      <th>DeviceProtection</th>\n",
              "      <th>TechSupport</th>\n",
              "      <th>StreamingTV</th>\n",
              "      <th>StreamingMovies</th>\n",
              "      <th>Contract</th>\n",
              "      <th>PaperlessBilling</th>\n",
              "      <th>PaymentMethod</th>\n",
              "      <th>MonthlyCharges</th>\n",
              "      <th>TotalCharges</th>\n",
              "      <th>Churn</th>\n",
              "    </tr>\n",
              "  </thead>\n",
              "  <tbody>\n",
              "    <tr>\n",
              "      <th>488</th>\n",
              "      <td>Female</td>\n",
              "      <td>0</td>\n",
              "      <td>Yes</td>\n",
              "      <td>Yes</td>\n",
              "      <td>0</td>\n",
              "      <td>No</td>\n",
              "      <td>No phone service</td>\n",
              "      <td>DSL</td>\n",
              "      <td>Yes</td>\n",
              "      <td>No</td>\n",
              "      <td>Yes</td>\n",
              "      <td>Yes</td>\n",
              "      <td>Yes</td>\n",
              "      <td>No</td>\n",
              "      <td>Two year</td>\n",
              "      <td>Yes</td>\n",
              "      <td>Bank transfer (automatic)</td>\n",
              "      <td>52.55</td>\n",
              "      <td></td>\n",
              "      <td>No</td>\n",
              "    </tr>\n",
              "    <tr>\n",
              "      <th>753</th>\n",
              "      <td>Male</td>\n",
              "      <td>0</td>\n",
              "      <td>No</td>\n",
              "      <td>Yes</td>\n",
              "      <td>0</td>\n",
              "      <td>Yes</td>\n",
              "      <td>No</td>\n",
              "      <td>No</td>\n",
              "      <td>No internet service</td>\n",
              "      <td>No internet service</td>\n",
              "      <td>No internet service</td>\n",
              "      <td>No internet service</td>\n",
              "      <td>No internet service</td>\n",
              "      <td>No internet service</td>\n",
              "      <td>Two year</td>\n",
              "      <td>No</td>\n",
              "      <td>Mailed check</td>\n",
              "      <td>20.25</td>\n",
              "      <td></td>\n",
              "      <td>No</td>\n",
              "    </tr>\n",
              "    <tr>\n",
              "      <th>936</th>\n",
              "      <td>Female</td>\n",
              "      <td>0</td>\n",
              "      <td>Yes</td>\n",
              "      <td>Yes</td>\n",
              "      <td>0</td>\n",
              "      <td>Yes</td>\n",
              "      <td>No</td>\n",
              "      <td>DSL</td>\n",
              "      <td>Yes</td>\n",
              "      <td>Yes</td>\n",
              "      <td>Yes</td>\n",
              "      <td>No</td>\n",
              "      <td>Yes</td>\n",
              "      <td>Yes</td>\n",
              "      <td>Two year</td>\n",
              "      <td>No</td>\n",
              "      <td>Mailed check</td>\n",
              "      <td>80.85</td>\n",
              "      <td></td>\n",
              "      <td>No</td>\n",
              "    </tr>\n",
              "    <tr>\n",
              "      <th>1082</th>\n",
              "      <td>Male</td>\n",
              "      <td>0</td>\n",
              "      <td>Yes</td>\n",
              "      <td>Yes</td>\n",
              "      <td>0</td>\n",
              "      <td>Yes</td>\n",
              "      <td>Yes</td>\n",
              "      <td>No</td>\n",
              "      <td>No internet service</td>\n",
              "      <td>No internet service</td>\n",
              "      <td>No internet service</td>\n",
              "      <td>No internet service</td>\n",
              "      <td>No internet service</td>\n",
              "      <td>No internet service</td>\n",
              "      <td>Two year</td>\n",
              "      <td>No</td>\n",
              "      <td>Mailed check</td>\n",
              "      <td>25.75</td>\n",
              "      <td></td>\n",
              "      <td>No</td>\n",
              "    </tr>\n",
              "    <tr>\n",
              "      <th>1340</th>\n",
              "      <td>Female</td>\n",
              "      <td>0</td>\n",
              "      <td>Yes</td>\n",
              "      <td>Yes</td>\n",
              "      <td>0</td>\n",
              "      <td>No</td>\n",
              "      <td>No phone service</td>\n",
              "      <td>DSL</td>\n",
              "      <td>Yes</td>\n",
              "      <td>Yes</td>\n",
              "      <td>Yes</td>\n",
              "      <td>Yes</td>\n",
              "      <td>Yes</td>\n",
              "      <td>No</td>\n",
              "      <td>Two year</td>\n",
              "      <td>No</td>\n",
              "      <td>Credit card (automatic)</td>\n",
              "      <td>56.05</td>\n",
              "      <td></td>\n",
              "      <td>No</td>\n",
              "    </tr>\n",
              "    <tr>\n",
              "      <th>3331</th>\n",
              "      <td>Male</td>\n",
              "      <td>0</td>\n",
              "      <td>Yes</td>\n",
              "      <td>Yes</td>\n",
              "      <td>0</td>\n",
              "      <td>Yes</td>\n",
              "      <td>No</td>\n",
              "      <td>No</td>\n",
              "      <td>No internet service</td>\n",
              "      <td>No internet service</td>\n",
              "      <td>No internet service</td>\n",
              "      <td>No internet service</td>\n",
              "      <td>No internet service</td>\n",
              "      <td>No internet service</td>\n",
              "      <td>Two year</td>\n",
              "      <td>No</td>\n",
              "      <td>Mailed check</td>\n",
              "      <td>19.85</td>\n",
              "      <td></td>\n",
              "      <td>No</td>\n",
              "    </tr>\n",
              "    <tr>\n",
              "      <th>3826</th>\n",
              "      <td>Male</td>\n",
              "      <td>0</td>\n",
              "      <td>Yes</td>\n",
              "      <td>Yes</td>\n",
              "      <td>0</td>\n",
              "      <td>Yes</td>\n",
              "      <td>Yes</td>\n",
              "      <td>No</td>\n",
              "      <td>No internet service</td>\n",
              "      <td>No internet service</td>\n",
              "      <td>No internet service</td>\n",
              "      <td>No internet service</td>\n",
              "      <td>No internet service</td>\n",
              "      <td>No internet service</td>\n",
              "      <td>Two year</td>\n",
              "      <td>No</td>\n",
              "      <td>Mailed check</td>\n",
              "      <td>25.35</td>\n",
              "      <td></td>\n",
              "      <td>No</td>\n",
              "    </tr>\n",
              "    <tr>\n",
              "      <th>4380</th>\n",
              "      <td>Female</td>\n",
              "      <td>0</td>\n",
              "      <td>Yes</td>\n",
              "      <td>Yes</td>\n",
              "      <td>0</td>\n",
              "      <td>Yes</td>\n",
              "      <td>No</td>\n",
              "      <td>No</td>\n",
              "      <td>No internet service</td>\n",
              "      <td>No internet service</td>\n",
              "      <td>No internet service</td>\n",
              "      <td>No internet service</td>\n",
              "      <td>No internet service</td>\n",
              "      <td>No internet service</td>\n",
              "      <td>Two year</td>\n",
              "      <td>No</td>\n",
              "      <td>Mailed check</td>\n",
              "      <td>20.00</td>\n",
              "      <td></td>\n",
              "      <td>No</td>\n",
              "    </tr>\n",
              "    <tr>\n",
              "      <th>5218</th>\n",
              "      <td>Male</td>\n",
              "      <td>0</td>\n",
              "      <td>Yes</td>\n",
              "      <td>Yes</td>\n",
              "      <td>0</td>\n",
              "      <td>Yes</td>\n",
              "      <td>No</td>\n",
              "      <td>No</td>\n",
              "      <td>No internet service</td>\n",
              "      <td>No internet service</td>\n",
              "      <td>No internet service</td>\n",
              "      <td>No internet service</td>\n",
              "      <td>No internet service</td>\n",
              "      <td>No internet service</td>\n",
              "      <td>One year</td>\n",
              "      <td>Yes</td>\n",
              "      <td>Mailed check</td>\n",
              "      <td>19.70</td>\n",
              "      <td></td>\n",
              "      <td>No</td>\n",
              "    </tr>\n",
              "    <tr>\n",
              "      <th>6670</th>\n",
              "      <td>Female</td>\n",
              "      <td>0</td>\n",
              "      <td>Yes</td>\n",
              "      <td>Yes</td>\n",
              "      <td>0</td>\n",
              "      <td>Yes</td>\n",
              "      <td>Yes</td>\n",
              "      <td>DSL</td>\n",
              "      <td>No</td>\n",
              "      <td>Yes</td>\n",
              "      <td>Yes</td>\n",
              "      <td>Yes</td>\n",
              "      <td>Yes</td>\n",
              "      <td>No</td>\n",
              "      <td>Two year</td>\n",
              "      <td>No</td>\n",
              "      <td>Mailed check</td>\n",
              "      <td>73.35</td>\n",
              "      <td></td>\n",
              "      <td>No</td>\n",
              "    </tr>\n",
              "    <tr>\n",
              "      <th>6754</th>\n",
              "      <td>Male</td>\n",
              "      <td>0</td>\n",
              "      <td>No</td>\n",
              "      <td>Yes</td>\n",
              "      <td>0</td>\n",
              "      <td>Yes</td>\n",
              "      <td>Yes</td>\n",
              "      <td>DSL</td>\n",
              "      <td>Yes</td>\n",
              "      <td>Yes</td>\n",
              "      <td>No</td>\n",
              "      <td>Yes</td>\n",
              "      <td>No</td>\n",
              "      <td>No</td>\n",
              "      <td>Two year</td>\n",
              "      <td>Yes</td>\n",
              "      <td>Bank transfer (automatic)</td>\n",
              "      <td>61.90</td>\n",
              "      <td></td>\n",
              "      <td>No</td>\n",
              "    </tr>\n",
              "  </tbody>\n",
              "</table>\n",
              "</div>\n",
              "      <button class=\"colab-df-convert\" onclick=\"convertToInteractive('df-2ec88cd6-6234-4e30-beb4-54f394fe281a')\"\n",
              "              title=\"Convert this dataframe to an interactive table.\"\n",
              "              style=\"display:none;\">\n",
              "        \n",
              "  <svg xmlns=\"http://www.w3.org/2000/svg\" height=\"24px\"viewBox=\"0 0 24 24\"\n",
              "       width=\"24px\">\n",
              "    <path d=\"M0 0h24v24H0V0z\" fill=\"none\"/>\n",
              "    <path d=\"M18.56 5.44l.94 2.06.94-2.06 2.06-.94-2.06-.94-.94-2.06-.94 2.06-2.06.94zm-11 1L8.5 8.5l.94-2.06 2.06-.94-2.06-.94L8.5 2.5l-.94 2.06-2.06.94zm10 10l.94 2.06.94-2.06 2.06-.94-2.06-.94-.94-2.06-.94 2.06-2.06.94z\"/><path d=\"M17.41 7.96l-1.37-1.37c-.4-.4-.92-.59-1.43-.59-.52 0-1.04.2-1.43.59L10.3 9.45l-7.72 7.72c-.78.78-.78 2.05 0 2.83L4 21.41c.39.39.9.59 1.41.59.51 0 1.02-.2 1.41-.59l7.78-7.78 2.81-2.81c.8-.78.8-2.07 0-2.86zM5.41 20L4 18.59l7.72-7.72 1.47 1.35L5.41 20z\"/>\n",
              "  </svg>\n",
              "      </button>\n",
              "      \n",
              "  <style>\n",
              "    .colab-df-container {\n",
              "      display:flex;\n",
              "      flex-wrap:wrap;\n",
              "      gap: 12px;\n",
              "    }\n",
              "\n",
              "    .colab-df-convert {\n",
              "      background-color: #E8F0FE;\n",
              "      border: none;\n",
              "      border-radius: 50%;\n",
              "      cursor: pointer;\n",
              "      display: none;\n",
              "      fill: #1967D2;\n",
              "      height: 32px;\n",
              "      padding: 0 0 0 0;\n",
              "      width: 32px;\n",
              "    }\n",
              "\n",
              "    .colab-df-convert:hover {\n",
              "      background-color: #E2EBFA;\n",
              "      box-shadow: 0px 1px 2px rgba(60, 64, 67, 0.3), 0px 1px 3px 1px rgba(60, 64, 67, 0.15);\n",
              "      fill: #174EA6;\n",
              "    }\n",
              "\n",
              "    [theme=dark] .colab-df-convert {\n",
              "      background-color: #3B4455;\n",
              "      fill: #D2E3FC;\n",
              "    }\n",
              "\n",
              "    [theme=dark] .colab-df-convert:hover {\n",
              "      background-color: #434B5C;\n",
              "      box-shadow: 0px 1px 3px 1px rgba(0, 0, 0, 0.15);\n",
              "      filter: drop-shadow(0px 1px 2px rgba(0, 0, 0, 0.3));\n",
              "      fill: #FFFFFF;\n",
              "    }\n",
              "  </style>\n",
              "\n",
              "      <script>\n",
              "        const buttonEl =\n",
              "          document.querySelector('#df-2ec88cd6-6234-4e30-beb4-54f394fe281a button.colab-df-convert');\n",
              "        buttonEl.style.display =\n",
              "          google.colab.kernel.accessAllowed ? 'block' : 'none';\n",
              "\n",
              "        async function convertToInteractive(key) {\n",
              "          const element = document.querySelector('#df-2ec88cd6-6234-4e30-beb4-54f394fe281a');\n",
              "          const dataTable =\n",
              "            await google.colab.kernel.invokeFunction('convertToInteractive',\n",
              "                                                     [key], {});\n",
              "          if (!dataTable) return;\n",
              "\n",
              "          const docLinkHtml = 'Like what you see? Visit the ' +\n",
              "            '<a target=\"_blank\" href=https://colab.research.google.com/notebooks/data_table.ipynb>data table notebook</a>'\n",
              "            + ' to learn more about interactive tables.';\n",
              "          element.innerHTML = '';\n",
              "          dataTable['output_type'] = 'display_data';\n",
              "          await google.colab.output.renderOutput(dataTable, element);\n",
              "          const docLink = document.createElement('div');\n",
              "          docLink.innerHTML = docLinkHtml;\n",
              "          element.appendChild(docLink);\n",
              "        }\n",
              "      </script>\n",
              "    </div>\n",
              "  </div>\n",
              "  "
            ]
          },
          "metadata": {},
          "execution_count": 84
        }
      ],
      "source": [
        "df[pd.to_numeric(df['TotalCharges'], errors='coerce').isnull()]"
      ]
    },
    {
      "cell_type": "code",
      "execution_count": 85,
      "metadata": {
        "colab": {
          "base_uri": "https://localhost:8080/"
        },
        "id": "jdSoufGTzhF7",
        "outputId": "9a340a6e-c781-4f55-9c68-151edd07cb73"
      },
      "outputs": [
        {
          "output_type": "execute_result",
          "data": {
            "text/plain": [
              "(7032, 20)"
            ]
          },
          "metadata": {},
          "execution_count": 85
        }
      ],
      "source": [
        "df1=df[df['TotalCharges']!=' ']\n",
        "df1.shape"
      ]
    },
    {
      "cell_type": "code",
      "execution_count": 86,
      "metadata": {
        "colab": {
          "base_uri": "https://localhost:8080/"
        },
        "id": "YPFWRR3U0Fpb",
        "outputId": "bb1ae385-6c6a-42fd-bf7f-644d49a12f49"
      },
      "outputs": [
        {
          "output_type": "execute_result",
          "data": {
            "text/plain": [
              "gender               object\n",
              "SeniorCitizen         int64\n",
              "Partner              object\n",
              "Dependents           object\n",
              "tenure                int64\n",
              "PhoneService         object\n",
              "MultipleLines        object\n",
              "InternetService      object\n",
              "OnlineSecurity       object\n",
              "OnlineBackup         object\n",
              "DeviceProtection     object\n",
              "TechSupport          object\n",
              "StreamingTV          object\n",
              "StreamingMovies      object\n",
              "Contract             object\n",
              "PaperlessBilling     object\n",
              "PaymentMethod        object\n",
              "MonthlyCharges      float64\n",
              "TotalCharges         object\n",
              "Churn                object\n",
              "dtype: object"
            ]
          },
          "metadata": {},
          "execution_count": 86
        }
      ],
      "source": [
        "df1.dtypes"
      ]
    },
    {
      "cell_type": "code",
      "execution_count": 87,
      "metadata": {
        "id": "uoUUhuFN0Um7",
        "colab": {
          "base_uri": "https://localhost:8080/"
        },
        "outputId": "5c13d15a-bccd-4499-a4ea-414a70d6f76c"
      },
      "outputs": [
        {
          "output_type": "stream",
          "name": "stderr",
          "text": [
            "/usr/local/lib/python3.7/dist-packages/ipykernel_launcher.py:1: SettingWithCopyWarning: \n",
            "A value is trying to be set on a copy of a slice from a DataFrame.\n",
            "Try using .loc[row_indexer,col_indexer] = value instead\n",
            "\n",
            "See the caveats in the documentation: https://pandas.pydata.org/pandas-docs/stable/user_guide/indexing.html#returning-a-view-versus-a-copy\n",
            "  \"\"\"Entry point for launching an IPython kernel.\n"
          ]
        }
      ],
      "source": [
        "df1['TotalCharges']=pd.to_numeric(df1['TotalCharges'])"
      ]
    },
    {
      "cell_type": "code",
      "execution_count": 88,
      "metadata": {
        "colab": {
          "base_uri": "https://localhost:8080/"
        },
        "id": "7u5HsgeF0aej",
        "outputId": "c0d45256-777c-467c-9901-69b09290e4da"
      },
      "outputs": [
        {
          "output_type": "execute_result",
          "data": {
            "text/plain": [
              "gender               object\n",
              "SeniorCitizen         int64\n",
              "Partner              object\n",
              "Dependents           object\n",
              "tenure                int64\n",
              "PhoneService         object\n",
              "MultipleLines        object\n",
              "InternetService      object\n",
              "OnlineSecurity       object\n",
              "OnlineBackup         object\n",
              "DeviceProtection     object\n",
              "TechSupport          object\n",
              "StreamingTV          object\n",
              "StreamingMovies      object\n",
              "Contract             object\n",
              "PaperlessBilling     object\n",
              "PaymentMethod        object\n",
              "MonthlyCharges      float64\n",
              "TotalCharges        float64\n",
              "Churn                object\n",
              "dtype: object"
            ]
          },
          "metadata": {},
          "execution_count": 88
        }
      ],
      "source": [
        "df1.dtypes"
      ]
    },
    {
      "cell_type": "code",
      "source": [
        "tenure_churn_no=df1[df1['Churn']=='No']['tenure']\n",
        "tenure_churn_yes=df1[df1['Churn']=='Yes']['tenure']\n",
        "\n",
        "plt.xlabel('tenure')\n",
        "plt.ylabel('Number of Customers')\n",
        "plt.title('Customer Churn Prediction Visualization')\n",
        "\n",
        "plt.hist([tenure_churn_yes, tenure_churn_no], color=['green','red'], label=['Churn=Yes','Churn=No'])\n",
        "plt.legend()"
      ],
      "metadata": {
        "colab": {
          "base_uri": "https://localhost:8080/",
          "height": 402
        },
        "id": "nGeoy7755p_E",
        "outputId": "ad877269-e259-4484-9952-d23e05451654"
      },
      "execution_count": 89,
      "outputs": [
        {
          "output_type": "stream",
          "name": "stderr",
          "text": [
            "/usr/local/lib/python3.7/dist-packages/numpy/core/fromnumeric.py:3208: VisibleDeprecationWarning: Creating an ndarray from ragged nested sequences (which is a list-or-tuple of lists-or-tuples-or ndarrays with different lengths or shapes) is deprecated. If you meant to do this, you must specify 'dtype=object' when creating the ndarray.\n",
            "  return asarray(a).size\n",
            "/usr/local/lib/python3.7/dist-packages/matplotlib/cbook/__init__.py:1376: VisibleDeprecationWarning: Creating an ndarray from ragged nested sequences (which is a list-or-tuple of lists-or-tuples-or ndarrays with different lengths or shapes) is deprecated. If you meant to do this, you must specify 'dtype=object' when creating the ndarray.\n",
            "  X = np.atleast_1d(X.T if isinstance(X, np.ndarray) else np.asarray(X))\n"
          ]
        },
        {
          "output_type": "execute_result",
          "data": {
            "text/plain": [
              "<matplotlib.legend.Legend at 0x7f759ae1e150>"
            ]
          },
          "metadata": {},
          "execution_count": 89
        },
        {
          "output_type": "display_data",
          "data": {
            "text/plain": [
              "<Figure size 432x288 with 1 Axes>"
            ],
            "image/png": "[encoded data removed]"
          },
          "metadata": {
            "needs_background": "light"
          }
        }
      ]
    },
    {
      "cell_type": "code",
      "source": [
        "mc_churn_no = df1[df1.Churn=='No'].MonthlyCharges      \n",
        "mc_churn_yes = df1[df1.Churn=='Yes'].MonthlyCharges      \n",
        "\n",
        "plt.xlabel(\"Monthly Charges\")\n",
        "plt.ylabel(\"Number Of Customers\")\n",
        "plt.title(\"Customer Churn Prediction Visualiztion\")\n",
        "\n",
        "plt.hist([mc_churn_yes, mc_churn_no], rwidth=0.95, color=['green','red'],label=['Churn=Yes','Churn=No'])\n",
        "plt.legend()"
      ],
      "metadata": {
        "colab": {
          "base_uri": "https://localhost:8080/",
          "height": 312
        },
        "id": "-VTGF7Do7aBO",
        "outputId": "0f126324-70cc-4162-d418-a34a36ae4b9a"
      },
      "execution_count": 90,
      "outputs": [
        {
          "output_type": "execute_result",
          "data": {
            "text/plain": [
              "<matplotlib.legend.Legend at 0x7f759b81a550>"
            ]
          },
          "metadata": {},
          "execution_count": 90
        },
        {
          "output_type": "display_data",
          "data": {
            "text/plain": [
              "<Figure size 432x288 with 1 Axes>"
            ],
            "image/png": "[encoded data removed]"
          },
          "metadata": {
            "needs_background": "light"
          }
        }
      ]
    },
    {
      "cell_type": "code",
      "source": [
        "def print_unique_col_values(df):\n",
        "    for column in df:\n",
        "        if df[column].dtypes=='object':\n",
        "            print(f'{column} : {df[column].unique()}')"
      ],
      "metadata": {
        "id": "fLZqI1VJ-8As"
      },
      "execution_count": 91,
      "outputs": []
    },
    {
      "cell_type": "code",
      "source": [
        "print_unique_col_values(df1)"
      ],
      "metadata": {
        "colab": {
          "base_uri": "https://localhost:8080/"
        },
        "id": "3B95BLc6AtDd",
        "outputId": "31cba058-af8d-47ca-ee0a-8e68545f2da0"
      },
      "execution_count": 92,
      "outputs": [
        {
          "output_type": "stream",
          "name": "stdout",
          "text": [
            "gender : ['Female' 'Male']\n",
            "Partner : ['Yes' 'No']\n",
            "Dependents : ['No' 'Yes']\n",
            "PhoneService : ['No' 'Yes']\n",
            "MultipleLines : ['No phone service' 'No' 'Yes']\n",
            "InternetService : ['DSL' 'Fiber optic' 'No']\n",
            "OnlineSecurity : ['No' 'Yes' 'No internet service']\n",
            "OnlineBackup : ['Yes' 'No' 'No internet service']\n",
            "DeviceProtection : ['No' 'Yes' 'No internet service']\n",
            "TechSupport : ['No' 'Yes' 'No internet service']\n",
            "StreamingTV : ['No' 'Yes' 'No internet service']\n",
            "StreamingMovies : ['No' 'Yes' 'No internet service']\n",
            "Contract : ['Month-to-month' 'One year' 'Two year']\n",
            "PaperlessBilling : ['Yes' 'No']\n",
            "PaymentMethod : ['Electronic check' 'Mailed check' 'Bank transfer (automatic)'\n",
            " 'Credit card (automatic)']\n",
            "Churn : ['No' 'Yes']\n"
          ]
        }
      ]
    },
    {
      "cell_type": "code",
      "source": [
        "df1.replace('No internet service','No', inplace=True)\n",
        "df1.replace('No phone service','No', inplace=True)"
      ],
      "metadata": {
        "id": "oKKt-pLIBeYU",
        "colab": {
          "base_uri": "https://localhost:8080/"
        },
        "outputId": "f0ac8bb6-3d8a-4993-88be-6b67405cf846"
      },
      "execution_count": 93,
      "outputs": [
        {
          "output_type": "stream",
          "name": "stderr",
          "text": [
            "/usr/local/lib/python3.7/dist-packages/pandas/core/frame.py:5244: SettingWithCopyWarning: \n",
            "A value is trying to be set on a copy of a slice from a DataFrame\n",
            "\n",
            "See the caveats in the documentation: https://pandas.pydata.org/pandas-docs/stable/user_guide/indexing.html#returning-a-view-versus-a-copy\n",
            "  method=method,\n"
          ]
        }
      ]
    },
    {
      "cell_type": "code",
      "source": [
        "print_unique_col_values(df1)"
      ],
      "metadata": {
        "colab": {
          "base_uri": "https://localhost:8080/"
        },
        "id": "iAYhoUWXCms9",
        "outputId": "630bc1c2-baa6-44ef-adc5-f86703bddf91"
      },
      "execution_count": 94,
      "outputs": [
        {
          "output_type": "stream",
          "name": "stdout",
          "text": [
            "gender : ['Female' 'Male']\n",
            "Partner : ['Yes' 'No']\n",
            "Dependents : ['No' 'Yes']\n",
            "PhoneService : ['No' 'Yes']\n",
            "MultipleLines : ['No' 'Yes']\n",
            "InternetService : ['DSL' 'Fiber optic' 'No']\n",
            "OnlineSecurity : ['No' 'Yes']\n",
            "OnlineBackup : ['Yes' 'No']\n",
            "DeviceProtection : ['No' 'Yes']\n",
            "TechSupport : ['No' 'Yes']\n",
            "StreamingTV : ['No' 'Yes']\n",
            "StreamingMovies : ['No' 'Yes']\n",
            "Contract : ['Month-to-month' 'One year' 'Two year']\n",
            "PaperlessBilling : ['Yes' 'No']\n",
            "PaymentMethod : ['Electronic check' 'Mailed check' 'Bank transfer (automatic)'\n",
            " 'Credit card (automatic)']\n",
            "Churn : ['No' 'Yes']\n"
          ]
        }
      ]
    },
    {
      "cell_type": "markdown",
      "source": [
        "# Changing strings to numeric form"
      ],
      "metadata": {
        "id": "VAs_RqKxmLI_"
      }
    },
    {
      "cell_type": "code",
      "source": [
        "df1.replace('Yes',1,inplace=True)\n",
        "df1.replace('No',0,inplace=True)"
      ],
      "metadata": {
        "id": "AqbK_ns7Cunc"
      },
      "execution_count": 95,
      "outputs": []
    },
    {
      "cell_type": "code",
      "source": [
        "df1.sample(5)"
      ],
      "metadata": {
        "colab": {
          "base_uri": "https://localhost:8080/",
          "height": 0
        },
        "id": "OktJMJoBDY4-",
        "outputId": "8a558b0f-6230-4dba-bedd-7658cf4636d7"
      },
      "execution_count": 96,
      "outputs": [
        {
          "output_type": "execute_result",
          "data": {
            "text/plain": [
              "      gender  SeniorCitizen  Partner  Dependents  tenure  PhoneService  \\\n",
              "6888  Female              0        1           1       3             1   \n",
              "4016  Female              0        0           0       1             1   \n",
              "3197  Female              0        1           1      22             1   \n",
              "3756    Male              0        0           0       1             0   \n",
              "79    Female              0        1           1      45             1   \n",
              "\n",
              "      MultipleLines InternetService  OnlineSecurity  OnlineBackup  \\\n",
              "6888              0     Fiber optic               0             0   \n",
              "4016              0             DSL               0             0   \n",
              "3197              0             DSL               0             1   \n",
              "3756              0             DSL               0             0   \n",
              "79                1               0               0             0   \n",
              "\n",
              "      DeviceProtection  TechSupport  StreamingTV  StreamingMovies  \\\n",
              "6888                 0            0            1                0   \n",
              "4016                 0            0            0                0   \n",
              "3197                 0            0            1                1   \n",
              "3756                 0            0            0                0   \n",
              "79                   0            0            0                0   \n",
              "\n",
              "            Contract  PaperlessBilling              PaymentMethod  \\\n",
              "6888  Month-to-month                 1           Electronic check   \n",
              "4016  Month-to-month                 0               Mailed check   \n",
              "3197        One year                 1  Bank transfer (automatic)   \n",
              "3756  Month-to-month                 1               Mailed check   \n",
              "79          One year                 1    Credit card (automatic)   \n",
              "\n",
              "      MonthlyCharges  TotalCharges  Churn  \n",
              "6888           80.70        239.45      0  \n",
              "4016           45.35         45.35      0  \n",
              "3197           69.50       1498.20      1  \n",
              "3756           24.45         24.45      1  \n",
              "79             25.90       1216.60      0  "
            ],
            "text/html": [
              "\n",
              "  <div id=\"df-3272cd86-7391-40c2-86ec-17a1b463cc82\">\n",
              "    <div class=\"colab-df-container\">\n",
              "      <div>\n",
              "<style scoped>\n",
              "    .dataframe tbody tr th:only-of-type {\n",
              "        vertical-align: middle;\n",
              "    }\n",
              "\n",
              "    .dataframe tbody tr th {\n",
              "        vertical-align: top;\n",
              "    }\n",
              "\n",
              "    .dataframe thead th {\n",
              "        text-align: right;\n",
              "    }\n",
              "</style>\n",
              "<table border=\"1\" class=\"dataframe\">\n",
              "  <thead>\n",
              "    <tr style=\"text-align: right;\">\n",
              "      <th></th>\n",
              "      <th>gender</th>\n",
              "      <th>SeniorCitizen</th>\n",
              "      <th>Partner</th>\n",
              "      <th>Dependents</th>\n",
              "      <th>tenure</th>\n",
              "      <th>PhoneService</th>\n",
              "      <th>MultipleLines</th>\n",
              "      <th>InternetService</th>\n",
              "      <th>OnlineSecurity</th>\n",
              "      <th>OnlineBackup</th>\n",
              "      <th>DeviceProtection</th>\n",
              "      <th>TechSupport</th>\n",
              "      <th>StreamingTV</th>\n",
              "      <th>StreamingMovies</th>\n",
              "      <th>Contract</th>\n",
              "      <th>PaperlessBilling</th>\n",
              "      <th>PaymentMethod</th>\n",
              "      <th>MonthlyCharges</th>\n",
              "      <th>TotalCharges</th>\n",
              "      <th>Churn</th>\n",
              "    </tr>\n",
              "  </thead>\n",
              "  <tbody>\n",
              "    <tr>\n",
              "      <th>6888</th>\n",
              "      <td>Female</td>\n",
              "      <td>0</td>\n",
              "      <td>1</td>\n",
              "      <td>1</td>\n",
              "      <td>3</td>\n",
              "      <td>1</td>\n",
              "      <td>0</td>\n",
              "      <td>Fiber optic</td>\n",
              "      <td>0</td>\n",
              "      <td>0</td>\n",
              "      <td>0</td>\n",
              "      <td>0</td>\n",
              "      <td>1</td>\n",
              "      <td>0</td>\n",
              "      <td>Month-to-month</td>\n",
              "      <td>1</td>\n",
              "      <td>Electronic check</td>\n",
              "      <td>80.70</td>\n",
              "      <td>239.45</td>\n",
              "      <td>0</td>\n",
              "    </tr>\n",
              "    <tr>\n",
              "      <th>4016</th>\n",
              "      <td>Female</td>\n",
              "      <td>0</td>\n",
              "      <td>0</td>\n",
              "      <td>0</td>\n",
              "      <td>1</td>\n",
              "      <td>1</td>\n",
              "      <td>0</td>\n",
              "      <td>DSL</td>\n",
              "      <td>0</td>\n",
              "      <td>0</td>\n",
              "      <td>0</td>\n",
              "      <td>0</td>\n",
              "      <td>0</td>\n",
              "      <td>0</td>\n",
              "      <td>Month-to-month</td>\n",
              "      <td>0</td>\n",
              "      <td>Mailed check</td>\n",
              "      <td>45.35</td>\n",
              "      <td>45.35</td>\n",
              "      <td>0</td>\n",
              "    </tr>\n",
              "    <tr>\n",
              "      <th>3197</th>\n",
              "      <td>Female</td>\n",
              "      <td>0</td>\n",
              "      <td>1</td>\n",
              "      <td>1</td>\n",
              "      <td>22</td>\n",
              "      <td>1</td>\n",
              "      <td>0</td>\n",
              "      <td>DSL</td>\n",
              "      <td>0</td>\n",
              "      <td>1</td>\n",
              "      <td>0</td>\n",
              "      <td>0</td>\n",
              "      <td>1</td>\n",
              "      <td>1</td>\n",
              "      <td>One year</td>\n",
              "      <td>1</td>\n",
              "      <td>Bank transfer (automatic)</td>\n",
              "      <td>69.50</td>\n",
              "      <td>1498.20</td>\n",
              "      <td>1</td>\n",
              "    </tr>\n",
              "    <tr>\n",
              "      <th>3756</th>\n",
              "      <td>Male</td>\n",
              "      <td>0</td>\n",
              "      <td>0</td>\n",
              "      <td>0</td>\n",
              "      <td>1</td>\n",
              "      <td>0</td>\n",
              "      <td>0</td>\n",
              "      <td>DSL</td>\n",
              "      <td>0</td>\n",
              "      <td>0</td>\n",
              "      <td>0</td>\n",
              "      <td>0</td>\n",
              "      <td>0</td>\n",
              "      <td>0</td>\n",
              "      <td>Month-to-month</td>\n",
              "      <td>1</td>\n",
              "      <td>Mailed check</td>\n",
              "      <td>24.45</td>\n",
              "      <td>24.45</td>\n",
              "      <td>1</td>\n",
              "    </tr>\n",
              "    <tr>\n",
              "      <th>79</th>\n",
              "      <td>Female</td>\n",
              "      <td>0</td>\n",
              "      <td>1</td>\n",
              "      <td>1</td>\n",
              "      <td>45</td>\n",
              "      <td>1</td>\n",
              "      <td>1</td>\n",
              "      <td>0</td>\n",
              "      <td>0</td>\n",
              "      <td>0</td>\n",
              "      <td>0</td>\n",
              "      <td>0</td>\n",
              "      <td>0</td>\n",
              "      <td>0</td>\n",
              "      <td>One year</td>\n",
              "      <td>1</td>\n",
              "      <td>Credit card (automatic)</td>\n",
              "      <td>25.90</td>\n",
              "      <td>1216.60</td>\n",
              "      <td>0</td>\n",
              "    </tr>\n",
              "  </tbody>\n",
              "</table>\n",
              "</div>\n",
              "      <button class=\"colab-df-convert\" onclick=\"convertToInteractive('df-3272cd86-7391-40c2-86ec-17a1b463cc82')\"\n",
              "              title=\"Convert this dataframe to an interactive table.\"\n",
              "              style=\"display:none;\">\n",
              "        \n",
              "  <svg xmlns=\"http://www.w3.org/2000/svg\" height=\"24px\"viewBox=\"0 0 24 24\"\n",
              "       width=\"24px\">\n",
              "    <path d=\"M0 0h24v24H0V0z\" fill=\"none\"/>\n",
              "    <path d=\"M18.56 5.44l.94 2.06.94-2.06 2.06-.94-2.06-.94-.94-2.06-.94 2.06-2.06.94zm-11 1L8.5 8.5l.94-2.06 2.06-.94-2.06-.94L8.5 2.5l-.94 2.06-2.06.94zm10 10l.94 2.06.94-2.06 2.06-.94-2.06-.94-.94-2.06-.94 2.06-2.06.94z\"/><path d=\"M17.41 7.96l-1.37-1.37c-.4-.4-.92-.59-1.43-.59-.52 0-1.04.2-1.43.59L10.3 9.45l-7.72 7.72c-.78.78-.78 2.05 0 2.83L4 21.41c.39.39.9.59 1.41.59.51 0 1.02-.2 1.41-.59l7.78-7.78 2.81-2.81c.8-.78.8-2.07 0-2.86zM5.41 20L4 18.59l7.72-7.72 1.47 1.35L5.41 20z\"/>\n",
              "  </svg>\n",
              "      </button>\n",
              "      \n",
              "  <style>\n",
              "    .colab-df-container {\n",
              "      display:flex;\n",
              "      flex-wrap:wrap;\n",
              "      gap: 12px;\n",
              "    }\n",
              "\n",
              "    .colab-df-convert {\n",
              "      background-color: #E8F0FE;\n",
              "      border: none;\n",
              "      border-radius: 50%;\n",
              "      cursor: pointer;\n",
              "      display: none;\n",
              "      fill: #1967D2;\n",
              "      height: 32px;\n",
              "      padding: 0 0 0 0;\n",
              "      width: 32px;\n",
              "    }\n",
              "\n",
              "    .colab-df-convert:hover {\n",
              "      background-color: #E2EBFA;\n",
              "      box-shadow: 0px 1px 2px rgba(60, 64, 67, 0.3), 0px 1px 3px 1px rgba(60, 64, 67, 0.15);\n",
              "      fill: #174EA6;\n",
              "    }\n",
              "\n",
              "    [theme=dark] .colab-df-convert {\n",
              "      background-color: #3B4455;\n",
              "      fill: #D2E3FC;\n",
              "    }\n",
              "\n",
              "    [theme=dark] .colab-df-convert:hover {\n",
              "      background-color: #434B5C;\n",
              "      box-shadow: 0px 1px 3px 1px rgba(0, 0, 0, 0.15);\n",
              "      filter: drop-shadow(0px 1px 2px rgba(0, 0, 0, 0.3));\n",
              "      fill: #FFFFFF;\n",
              "    }\n",
              "  </style>\n",
              "\n",
              "      <script>\n",
              "        const buttonEl =\n",
              "          document.querySelector('#df-3272cd86-7391-40c2-86ec-17a1b463cc82 button.colab-df-convert');\n",
              "        buttonEl.style.display =\n",
              "          google.colab.kernel.accessAllowed ? 'block' : 'none';\n",
              "\n",
              "        async function convertToInteractive(key) {\n",
              "          const element = document.querySelector('#df-3272cd86-7391-40c2-86ec-17a1b463cc82');\n",
              "          const dataTable =\n",
              "            await google.colab.kernel.invokeFunction('convertToInteractive',\n",
              "                                                     [key], {});\n",
              "          if (!dataTable) return;\n",
              "\n",
              "          const docLinkHtml = 'Like what you see? Visit the ' +\n",
              "            '<a target=\"_blank\" href=https://colab.research.google.com/notebooks/data_table.ipynb>data table notebook</a>'\n",
              "            + ' to learn more about interactive tables.';\n",
              "          element.innerHTML = '';\n",
              "          dataTable['output_type'] = 'display_data';\n",
              "          await google.colab.output.renderOutput(dataTable, element);\n",
              "          const docLink = document.createElement('div');\n",
              "          docLink.innerHTML = docLinkHtml;\n",
              "          element.appendChild(docLink);\n",
              "        }\n",
              "      </script>\n",
              "    </div>\n",
              "  </div>\n",
              "  "
            ]
          },
          "metadata": {},
          "execution_count": 96
        }
      ]
    },
    {
      "cell_type": "code",
      "source": [
        "def print_unique_col_values(df):\n",
        "    for column in df:\n",
        "        print(f'{column} : {df[column].unique()}')"
      ],
      "metadata": {
        "id": "Rr4Av-zLDpyF"
      },
      "execution_count": 97,
      "outputs": []
    },
    {
      "cell_type": "code",
      "source": [
        "print_unique_col_values(df1)"
      ],
      "metadata": {
        "colab": {
          "base_uri": "https://localhost:8080/"
        },
        "id": "C7mDHl0IDQ8U",
        "outputId": "60c8f9d2-7c17-4c20-ddf5-d0fedeae9b31"
      },
      "execution_count": 98,
      "outputs": [
        {
          "output_type": "stream",
          "name": "stdout",
          "text": [
            "gender : ['Female' 'Male']\n",
            "SeniorCitizen : [0 1]\n",
            "Partner : [1 0]\n",
            "Dependents : [0 1]\n",
            "tenure : [ 1 34  2 45  8 22 10 28 62 13 16 58 49 25 69 52 71 21 12 30 47 72 17 27\n",
            "  5 46 11 70 63 43 15 60 18 66  9  3 31 50 64 56  7 42 35 48 29 65 38 68\n",
            " 32 55 37 36 41  6  4 33 67 23 57 61 14 20 53 40 59 24 44 19 54 51 26 39]\n",
            "PhoneService : [0 1]\n",
            "MultipleLines : [0 1]\n",
            "InternetService : ['DSL' 'Fiber optic' 0]\n",
            "OnlineSecurity : [0 1]\n",
            "OnlineBackup : [1 0]\n",
            "DeviceProtection : [0 1]\n",
            "TechSupport : [0 1]\n",
            "StreamingTV : [0 1]\n",
            "StreamingMovies : [0 1]\n",
            "Contract : ['Month-to-month' 'One year' 'Two year']\n",
            "PaperlessBilling : [1 0]\n",
            "PaymentMethod : ['Electronic check' 'Mailed check' 'Bank transfer (automatic)'\n",
            " 'Credit card (automatic)']\n",
            "MonthlyCharges : [29.85 56.95 53.85 ... 63.1  44.2  78.7 ]\n",
            "TotalCharges : [  29.85 1889.5   108.15 ...  346.45  306.6  6844.5 ]\n",
            "Churn : [0 1]\n"
          ]
        }
      ]
    },
    {
      "cell_type": "code",
      "source": [
        "df1['InternetService'].replace(0,'No',inplace=True)\n",
        "print_unique_col_values(df1)"
      ],
      "metadata": {
        "colab": {
          "base_uri": "https://localhost:8080/"
        },
        "id": "zYPkhe9ADT-d",
        "outputId": "3e4e6436-cfff-4c1d-dfdd-2b35bcbf75ff"
      },
      "execution_count": 99,
      "outputs": [
        {
          "output_type": "stream",
          "name": "stdout",
          "text": [
            "gender : ['Female' 'Male']\n",
            "SeniorCitizen : [0 1]\n",
            "Partner : [1 0]\n",
            "Dependents : [0 1]\n",
            "tenure : [ 1 34  2 45  8 22 10 28 62 13 16 58 49 25 69 52 71 21 12 30 47 72 17 27\n",
            "  5 46 11 70 63 43 15 60 18 66  9  3 31 50 64 56  7 42 35 48 29 65 38 68\n",
            " 32 55 37 36 41  6  4 33 67 23 57 61 14 20 53 40 59 24 44 19 54 51 26 39]\n",
            "PhoneService : [0 1]\n",
            "MultipleLines : [0 1]\n",
            "InternetService : ['DSL' 'Fiber optic' 'No']\n",
            "OnlineSecurity : [0 1]\n",
            "OnlineBackup : [1 0]\n",
            "DeviceProtection : [0 1]\n",
            "TechSupport : [0 1]\n",
            "StreamingTV : [0 1]\n",
            "StreamingMovies : [0 1]\n",
            "Contract : ['Month-to-month' 'One year' 'Two year']\n",
            "PaperlessBilling : [1 0]\n",
            "PaymentMethod : ['Electronic check' 'Mailed check' 'Bank transfer (automatic)'\n",
            " 'Credit card (automatic)']\n",
            "MonthlyCharges : [29.85 56.95 53.85 ... 63.1  44.2  78.7 ]\n",
            "TotalCharges : [  29.85 1889.5   108.15 ...  346.45  306.6  6844.5 ]\n",
            "Churn : [0 1]\n"
          ]
        },
        {
          "output_type": "stream",
          "name": "stderr",
          "text": [
            "/usr/local/lib/python3.7/dist-packages/pandas/core/generic.py:6619: SettingWithCopyWarning: \n",
            "A value is trying to be set on a copy of a slice from a DataFrame\n",
            "\n",
            "See the caveats in the documentation: https://pandas.pydata.org/pandas-docs/stable/user_guide/indexing.html#returning-a-view-versus-a-copy\n",
            "  return self._update_inplace(result)\n"
          ]
        }
      ]
    },
    {
      "cell_type": "code",
      "source": [
        "df1['gender'].replace({'Female':1,'Male':0}, inplace=True)"
      ],
      "metadata": {
        "id": "Jv25erL9D45F"
      },
      "execution_count": 100,
      "outputs": []
    },
    {
      "cell_type": "code",
      "source": [
        "print_unique_col_values(df1)"
      ],
      "metadata": {
        "colab": {
          "base_uri": "https://localhost:8080/"
        },
        "id": "j8kWXKsHEqxN",
        "outputId": "0740b0b3-e070-435f-c19a-c9fb764a068b"
      },
      "execution_count": 101,
      "outputs": [
        {
          "output_type": "stream",
          "name": "stdout",
          "text": [
            "gender : [1 0]\n",
            "SeniorCitizen : [0 1]\n",
            "Partner : [1 0]\n",
            "Dependents : [0 1]\n",
            "tenure : [ 1 34  2 45  8 22 10 28 62 13 16 58 49 25 69 52 71 21 12 30 47 72 17 27\n",
            "  5 46 11 70 63 43 15 60 18 66  9  3 31 50 64 56  7 42 35 48 29 65 38 68\n",
            " 32 55 37 36 41  6  4 33 67 23 57 61 14 20 53 40 59 24 44 19 54 51 26 39]\n",
            "PhoneService : [0 1]\n",
            "MultipleLines : [0 1]\n",
            "InternetService : ['DSL' 'Fiber optic' 'No']\n",
            "OnlineSecurity : [0 1]\n",
            "OnlineBackup : [1 0]\n",
            "DeviceProtection : [0 1]\n",
            "TechSupport : [0 1]\n",
            "StreamingTV : [0 1]\n",
            "StreamingMovies : [0 1]\n",
            "Contract : ['Month-to-month' 'One year' 'Two year']\n",
            "PaperlessBilling : [1 0]\n",
            "PaymentMethod : ['Electronic check' 'Mailed check' 'Bank transfer (automatic)'\n",
            " 'Credit card (automatic)']\n",
            "MonthlyCharges : [29.85 56.95 53.85 ... 63.1  44.2  78.7 ]\n",
            "TotalCharges : [  29.85 1889.5   108.15 ...  346.45  306.6  6844.5 ]\n",
            "Churn : [0 1]\n"
          ]
        }
      ]
    },
    {
      "cell_type": "markdown",
      "source": [
        "# One-Hot-Encoding Data"
      ],
      "metadata": {
        "id": "8K7Atu8GmU8J"
      }
    },
    {
      "cell_type": "code",
      "source": [
        "df2=pd.get_dummies(data=df1,columns=['InternetService','Contract','PaymentMethod'])\n",
        "df2.columns"
      ],
      "metadata": {
        "colab": {
          "base_uri": "https://localhost:8080/"
        },
        "id": "zEJbemT8E3Bd",
        "outputId": "18cb214f-7030-4b31-9883-197d4a95eb91"
      },
      "execution_count": 102,
      "outputs": [
        {
          "output_type": "execute_result",
          "data": {
            "text/plain": [
              "Index(['gender', 'SeniorCitizen', 'Partner', 'Dependents', 'tenure',\n",
              "       'PhoneService', 'MultipleLines', 'OnlineSecurity', 'OnlineBackup',\n",
              "       'DeviceProtection', 'TechSupport', 'StreamingTV', 'StreamingMovies',\n",
              "       'PaperlessBilling', 'MonthlyCharges', 'TotalCharges', 'Churn',\n",
              "       'InternetService_DSL', 'InternetService_Fiber optic',\n",
              "       'InternetService_No', 'Contract_Month-to-month', 'Contract_One year',\n",
              "       'Contract_Two year', 'PaymentMethod_Bank transfer (automatic)',\n",
              "       'PaymentMethod_Credit card (automatic)',\n",
              "       'PaymentMethod_Electronic check', 'PaymentMethod_Mailed check'],\n",
              "      dtype='object')"
            ]
          },
          "metadata": {},
          "execution_count": 102
        }
      ]
    },
    {
      "cell_type": "code",
      "source": [
        "df2.sample(5)"
      ],
      "metadata": {
        "colab": {
          "base_uri": "https://localhost:8080/",
          "height": 0
        },
        "id": "cIMu8H4nFQGF",
        "outputId": "9da46311-1de6-46b6-83e6-04d024e8a170"
      },
      "execution_count": 103,
      "outputs": [
        {
          "output_type": "execute_result",
          "data": {
            "text/plain": [
              "      gender  SeniorCitizen  Partner  Dependents  tenure  PhoneService  \\\n",
              "1836       0              0        0           0      24             1   \n",
              "5679       0              0        0           0       8             1   \n",
              "2367       1              0        0           0       1             1   \n",
              "1950       0              0        1           0      65             1   \n",
              "5579       1              0        1           1      70             1   \n",
              "\n",
              "      MultipleLines  OnlineSecurity  OnlineBackup  DeviceProtection  ...  \\\n",
              "1836              0               0             0                 0  ...   \n",
              "5679              1               0             0                 0  ...   \n",
              "2367              0               0             0                 1  ...   \n",
              "1950              1               0             1                 0  ...   \n",
              "5579              1               1             1                 1  ...   \n",
              "\n",
              "      InternetService_DSL  InternetService_Fiber optic  InternetService_No  \\\n",
              "1836                    0                            1                   0   \n",
              "5679                    0                            1                   0   \n",
              "2367                    0                            1                   0   \n",
              "1950                    0                            1                   0   \n",
              "5579                    0                            1                   0   \n",
              "\n",
              "      Contract_Month-to-month  Contract_One year  Contract_Two year  \\\n",
              "1836                        1                  0                  0   \n",
              "5679                        1                  0                  0   \n",
              "2367                        1                  0                  0   \n",
              "1950                        1                  0                  0   \n",
              "5579                        0                  0                  1   \n",
              "\n",
              "      PaymentMethod_Bank transfer (automatic)  \\\n",
              "1836                                        0   \n",
              "5679                                        0   \n",
              "2367                                        0   \n",
              "1950                                        1   \n",
              "5579                                        1   \n",
              "\n",
              "      PaymentMethod_Credit card (automatic)  PaymentMethod_Electronic check  \\\n",
              "1836                                      0                               1   \n",
              "5679                                      0                               1   \n",
              "2367                                      1                               0   \n",
              "1950                                      0                               0   \n",
              "5579                                      0                               0   \n",
              "\n",
              "      PaymentMethod_Mailed check  \n",
              "1836                           0  \n",
              "5679                           0  \n",
              "2367                           0  \n",
              "1950                           0  \n",
              "5579                           0  \n",
              "\n",
              "[5 rows x 27 columns]"
            ],
            "text/html": [
              "\n",
              "  <div id=\"df-059329e2-543f-44ef-86d8-27b76a903e12\">\n",
              "    <div class=\"colab-df-container\">\n",
              "      <div>\n",
              "<style scoped>\n",
              "    .dataframe tbody tr th:only-of-type {\n",
              "        vertical-align: middle;\n",
              "    }\n",
              "\n",
              "    .dataframe tbody tr th {\n",
              "        vertical-align: top;\n",
              "    }\n",
              "\n",
              "    .dataframe thead th {\n",
              "        text-align: right;\n",
              "    }\n",
              "</style>\n",
              "<table border=\"1\" class=\"dataframe\">\n",
              "  <thead>\n",
              "    <tr style=\"text-align: right;\">\n",
              "      <th></th>\n",
              "      <th>gender</th>\n",
              "      <th>SeniorCitizen</th>\n",
              "      <th>Partner</th>\n",
              "      <th>Dependents</th>\n",
              "      <th>tenure</th>\n",
              "      <th>PhoneService</th>\n",
              "      <th>MultipleLines</th>\n",
              "      <th>OnlineSecurity</th>\n",
              "      <th>OnlineBackup</th>\n",
              "      <th>DeviceProtection</th>\n",
              "      <th>...</th>\n",
              "      <th>InternetService_DSL</th>\n",
              "      <th>InternetService_Fiber optic</th>\n",
              "      <th>InternetService_No</th>\n",
              "      <th>Contract_Month-to-month</th>\n",
              "      <th>Contract_One year</th>\n",
              "      <th>Contract_Two year</th>\n",
              "      <th>PaymentMethod_Bank transfer (automatic)</th>\n",
              "      <th>PaymentMethod_Credit card (automatic)</th>\n",
              "      <th>PaymentMethod_Electronic check</th>\n",
              "      <th>PaymentMethod_Mailed check</th>\n",
              "    </tr>\n",
              "  </thead>\n",
              "  <tbody>\n",
              "    <tr>\n",
              "      <th>1836</th>\n",
              "      <td>0</td>\n",
              "      <td>0</td>\n",
              "      <td>0</td>\n",
              "      <td>0</td>\n",
              "      <td>24</td>\n",
              "      <td>1</td>\n",
              "      <td>0</td>\n",
              "      <td>0</td>\n",
              "      <td>0</td>\n",
              "      <td>0</td>\n",
              "      <td>...</td>\n",
              "      <td>0</td>\n",
              "      <td>1</td>\n",
              "      <td>0</td>\n",
              "      <td>1</td>\n",
              "      <td>0</td>\n",
              "      <td>0</td>\n",
              "      <td>0</td>\n",
              "      <td>0</td>\n",
              "      <td>1</td>\n",
              "      <td>0</td>\n",
              "    </tr>\n",
              "    <tr>\n",
              "      <th>5679</th>\n",
              "      <td>0</td>\n",
              "      <td>0</td>\n",
              "      <td>0</td>\n",
              "      <td>0</td>\n",
              "      <td>8</td>\n",
              "      <td>1</td>\n",
              "      <td>1</td>\n",
              "      <td>0</td>\n",
              "      <td>0</td>\n",
              "      <td>0</td>\n",
              "      <td>...</td>\n",
              "      <td>0</td>\n",
              "      <td>1</td>\n",
              "      <td>0</td>\n",
              "      <td>1</td>\n",
              "      <td>0</td>\n",
              "      <td>0</td>\n",
              "      <td>0</td>\n",
              "      <td>0</td>\n",
              "      <td>1</td>\n",
              "      <td>0</td>\n",
              "    </tr>\n",
              "    <tr>\n",
              "      <th>2367</th>\n",
              "      <td>1</td>\n",
              "      <td>0</td>\n",
              "      <td>0</td>\n",
              "      <td>0</td>\n",
              "      <td>1</td>\n",
              "      <td>1</td>\n",
              "      <td>0</td>\n",
              "      <td>0</td>\n",
              "      <td>0</td>\n",
              "      <td>1</td>\n",
              "      <td>...</td>\n",
              "      <td>0</td>\n",
              "      <td>1</td>\n",
              "      <td>0</td>\n",
              "      <td>1</td>\n",
              "      <td>0</td>\n",
              "      <td>0</td>\n",
              "      <td>0</td>\n",
              "      <td>1</td>\n",
              "      <td>0</td>\n",
              "      <td>0</td>\n",
              "    </tr>\n",
              "    <tr>\n",
              "      <th>1950</th>\n",
              "      <td>0</td>\n",
              "      <td>0</td>\n",
              "      <td>1</td>\n",
              "      <td>0</td>\n",
              "      <td>65</td>\n",
              "      <td>1</td>\n",
              "      <td>1</td>\n",
              "      <td>0</td>\n",
              "      <td>1</td>\n",
              "      <td>0</td>\n",
              "      <td>...</td>\n",
              "      <td>0</td>\n",
              "      <td>1</td>\n",
              "      <td>0</td>\n",
              "      <td>1</td>\n",
              "      <td>0</td>\n",
              "      <td>0</td>\n",
              "      <td>1</td>\n",
              "      <td>0</td>\n",
              "      <td>0</td>\n",
              "      <td>0</td>\n",
              "    </tr>\n",
              "    <tr>\n",
              "      <th>5579</th>\n",
              "      <td>1</td>\n",
              "      <td>0</td>\n",
              "      <td>1</td>\n",
              "      <td>1</td>\n",
              "      <td>70</td>\n",
              "      <td>1</td>\n",
              "      <td>1</td>\n",
              "      <td>1</td>\n",
              "      <td>1</td>\n",
              "      <td>1</td>\n",
              "      <td>...</td>\n",
              "      <td>0</td>\n",
              "      <td>1</td>\n",
              "      <td>0</td>\n",
              "      <td>0</td>\n",
              "      <td>0</td>\n",
              "      <td>1</td>\n",
              "      <td>1</td>\n",
              "      <td>0</td>\n",
              "      <td>0</td>\n",
              "      <td>0</td>\n",
              "    </tr>\n",
              "  </tbody>\n",
              "</table>\n",
              "<p>5 rows × 27 columns</p>\n",
              "</div>\n",
              "      <button class=\"colab-df-convert\" onclick=\"convertToInteractive('df-059329e2-543f-44ef-86d8-27b76a903e12')\"\n",
              "              title=\"Convert this dataframe to an interactive table.\"\n",
              "              style=\"display:none;\">\n",
              "        \n",
              "  <svg xmlns=\"http://www.w3.org/2000/svg\" height=\"24px\"viewBox=\"0 0 24 24\"\n",
              "       width=\"24px\">\n",
              "    <path d=\"M0 0h24v24H0V0z\" fill=\"none\"/>\n",
              "    <path d=\"M18.56 5.44l.94 2.06.94-2.06 2.06-.94-2.06-.94-.94-2.06-.94 2.06-2.06.94zm-11 1L8.5 8.5l.94-2.06 2.06-.94-2.06-.94L8.5 2.5l-.94 2.06-2.06.94zm10 10l.94 2.06.94-2.06 2.06-.94-2.06-.94-.94-2.06-.94 2.06-2.06.94z\"/><path d=\"M17.41 7.96l-1.37-1.37c-.4-.4-.92-.59-1.43-.59-.52 0-1.04.2-1.43.59L10.3 9.45l-7.72 7.72c-.78.78-.78 2.05 0 2.83L4 21.41c.39.39.9.59 1.41.59.51 0 1.02-.2 1.41-.59l7.78-7.78 2.81-2.81c.8-.78.8-2.07 0-2.86zM5.41 20L4 18.59l7.72-7.72 1.47 1.35L5.41 20z\"/>\n",
              "  </svg>\n",
              "      </button>\n",
              "      \n",
              "  <style>\n",
              "    .colab-df-container {\n",
              "      display:flex;\n",
              "      flex-wrap:wrap;\n",
              "      gap: 12px;\n",
              "    }\n",
              "\n",
              "    .colab-df-convert {\n",
              "      background-color: #E8F0FE;\n",
              "      border: none;\n",
              "      border-radius: 50%;\n",
              "      cursor: pointer;\n",
              "      display: none;\n",
              "      fill: #1967D2;\n",
              "      height: 32px;\n",
              "      padding: 0 0 0 0;\n",
              "      width: 32px;\n",
              "    }\n",
              "\n",
              "    .colab-df-convert:hover {\n",
              "      background-color: #E2EBFA;\n",
              "      box-shadow: 0px 1px 2px rgba(60, 64, 67, 0.3), 0px 1px 3px 1px rgba(60, 64, 67, 0.15);\n",
              "      fill: #174EA6;\n",
              "    }\n",
              "\n",
              "    [theme=dark] .colab-df-convert {\n",
              "      background-color: #3B4455;\n",
              "      fill: #D2E3FC;\n",
              "    }\n",
              "\n",
              "    [theme=dark] .colab-df-convert:hover {\n",
              "      background-color: #434B5C;\n",
              "      box-shadow: 0px 1px 3px 1px rgba(0, 0, 0, 0.15);\n",
              "      filter: drop-shadow(0px 1px 2px rgba(0, 0, 0, 0.3));\n",
              "      fill: #FFFFFF;\n",
              "    }\n",
              "  </style>\n",
              "\n",
              "      <script>\n",
              "        const buttonEl =\n",
              "          document.querySelector('#df-059329e2-543f-44ef-86d8-27b76a903e12 button.colab-df-convert');\n",
              "        buttonEl.style.display =\n",
              "          google.colab.kernel.accessAllowed ? 'block' : 'none';\n",
              "\n",
              "        async function convertToInteractive(key) {\n",
              "          const element = document.querySelector('#df-059329e2-543f-44ef-86d8-27b76a903e12');\n",
              "          const dataTable =\n",
              "            await google.colab.kernel.invokeFunction('convertToInteractive',\n",
              "                                                     [key], {});\n",
              "          if (!dataTable) return;\n",
              "\n",
              "          const docLinkHtml = 'Like what you see? Visit the ' +\n",
              "            '<a target=\"_blank\" href=https://colab.research.google.com/notebooks/data_table.ipynb>data table notebook</a>'\n",
              "            + ' to learn more about interactive tables.';\n",
              "          element.innerHTML = '';\n",
              "          dataTable['output_type'] = 'display_data';\n",
              "          await google.colab.output.renderOutput(dataTable, element);\n",
              "          const docLink = document.createElement('div');\n",
              "          docLink.innerHTML = docLinkHtml;\n",
              "          element.appendChild(docLink);\n",
              "        }\n",
              "      </script>\n",
              "    </div>\n",
              "  </div>\n",
              "  "
            ]
          },
          "metadata": {},
          "execution_count": 103
        }
      ]
    },
    {
      "cell_type": "code",
      "source": [
        "df2.dtypes"
      ],
      "metadata": {
        "colab": {
          "base_uri": "https://localhost:8080/"
        },
        "id": "ufCMQka-FpXt",
        "outputId": "36928600-9b32-4a55-c638-1c7488e06a9d"
      },
      "execution_count": 104,
      "outputs": [
        {
          "output_type": "execute_result",
          "data": {
            "text/plain": [
              "gender                                       int64\n",
              "SeniorCitizen                                int64\n",
              "Partner                                      int64\n",
              "Dependents                                   int64\n",
              "tenure                                       int64\n",
              "PhoneService                                 int64\n",
              "MultipleLines                                int64\n",
              "OnlineSecurity                               int64\n",
              "OnlineBackup                                 int64\n",
              "DeviceProtection                             int64\n",
              "TechSupport                                  int64\n",
              "StreamingTV                                  int64\n",
              "StreamingMovies                              int64\n",
              "PaperlessBilling                             int64\n",
              "MonthlyCharges                             float64\n",
              "TotalCharges                               float64\n",
              "Churn                                        int64\n",
              "InternetService_DSL                          uint8\n",
              "InternetService_Fiber optic                  uint8\n",
              "InternetService_No                           uint8\n",
              "Contract_Month-to-month                      uint8\n",
              "Contract_One year                            uint8\n",
              "Contract_Two year                            uint8\n",
              "PaymentMethod_Bank transfer (automatic)      uint8\n",
              "PaymentMethod_Credit card (automatic)        uint8\n",
              "PaymentMethod_Electronic check               uint8\n",
              "PaymentMethod_Mailed check                   uint8\n",
              "dtype: object"
            ]
          },
          "metadata": {},
          "execution_count": 104
        }
      ]
    },
    {
      "cell_type": "markdown",
      "source": [
        "# Scaling Data"
      ],
      "metadata": {
        "id": "MlKX9LQnmaMi"
      }
    },
    {
      "cell_type": "code",
      "source": [
        "cols_to_scale=['tenure','MonthlyCharges','TotalCharges']\n",
        "\n",
        "from sklearn.preprocessing import MinMaxScaler\n",
        "scaler=MinMaxScaler()\n",
        "\n",
        "df2[cols_to_scale]=scaler.fit_transform(df2[cols_to_scale])"
      ],
      "metadata": {
        "id": "B65KbZdBF0cV"
      },
      "execution_count": 105,
      "outputs": []
    },
    {
      "cell_type": "code",
      "source": [
        "df2.sample(3)"
      ],
      "metadata": {
        "colab": {
          "base_uri": "https://localhost:8080/",
          "height": 0
        },
        "id": "9W9lTspaGRm0",
        "outputId": "2deccf43-10ac-46d3-8a9c-0cb97262a8f7"
      },
      "execution_count": 106,
      "outputs": [
        {
          "output_type": "execute_result",
          "data": {
            "text/plain": [
              "      gender  SeniorCitizen  Partner  Dependents    tenure  PhoneService  \\\n",
              "3985       0              1        1           0  0.211268             1   \n",
              "4186       0              0        0           1  0.859155             1   \n",
              "1961       1              0        0           0  0.577465             1   \n",
              "\n",
              "      MultipleLines  OnlineSecurity  OnlineBackup  DeviceProtection  ...  \\\n",
              "3985              0               1             1                 0  ...   \n",
              "4186              1               0             0                 1  ...   \n",
              "1961              1               1             1                 0  ...   \n",
              "\n",
              "      InternetService_DSL  InternetService_Fiber optic  InternetService_No  \\\n",
              "3985                    1                            0                   0   \n",
              "4186                    0                            1                   0   \n",
              "1961                    1                            0                   0   \n",
              "\n",
              "      Contract_Month-to-month  Contract_One year  Contract_Two year  \\\n",
              "3985                        1                  0                  0   \n",
              "4186                        0                  0                  1   \n",
              "1961                        0                  1                  0   \n",
              "\n",
              "      PaymentMethod_Bank transfer (automatic)  \\\n",
              "3985                                        1   \n",
              "4186                                        0   \n",
              "1961                                        1   \n",
              "\n",
              "      PaymentMethod_Credit card (automatic)  PaymentMethod_Electronic check  \\\n",
              "3985                                      0                               0   \n",
              "4186                                      0                               1   \n",
              "1961                                      0                               0   \n",
              "\n",
              "      PaymentMethod_Mailed check  \n",
              "3985                           0  \n",
              "4186                           0  \n",
              "1961                           0  \n",
              "\n",
              "[3 rows x 27 columns]"
            ],
            "text/html": [
              "\n",
              "  <div id=\"df-a98ebaf6-6784-4661-ad13-7608ccd1ff2c\">\n",
              "    <div class=\"colab-df-container\">\n",
              "      <div>\n",
              "<style scoped>\n",
              "    .dataframe tbody tr th:only-of-type {\n",
              "        vertical-align: middle;\n",
              "    }\n",
              "\n",
              "    .dataframe tbody tr th {\n",
              "        vertical-align: top;\n",
              "    }\n",
              "\n",
              "    .dataframe thead th {\n",
              "        text-align: right;\n",
              "    }\n",
              "</style>\n",
              "<table border=\"1\" class=\"dataframe\">\n",
              "  <thead>\n",
              "    <tr style=\"text-align: right;\">\n",
              "      <th></th>\n",
              "      <th>gender</th>\n",
              "      <th>SeniorCitizen</th>\n",
              "      <th>Partner</th>\n",
              "      <th>Dependents</th>\n",
              "      <th>tenure</th>\n",
              "      <th>PhoneService</th>\n",
              "      <th>MultipleLines</th>\n",
              "      <th>OnlineSecurity</th>\n",
              "      <th>OnlineBackup</th>\n",
              "      <th>DeviceProtection</th>\n",
              "      <th>...</th>\n",
              "      <th>InternetService_DSL</th>\n",
              "      <th>InternetService_Fiber optic</th>\n",
              "      <th>InternetService_No</th>\n",
              "      <th>Contract_Month-to-month</th>\n",
              "      <th>Contract_One year</th>\n",
              "      <th>Contract_Two year</th>\n",
              "      <th>PaymentMethod_Bank transfer (automatic)</th>\n",
              "      <th>PaymentMethod_Credit card (automatic)</th>\n",
              "      <th>PaymentMethod_Electronic check</th>\n",
              "      <th>PaymentMethod_Mailed check</th>\n",
              "    </tr>\n",
              "  </thead>\n",
              "  <tbody>\n",
              "    <tr>\n",
              "      <th>3985</th>\n",
              "      <td>0</td>\n",
              "      <td>1</td>\n",
              "      <td>1</td>\n",
              "      <td>0</td>\n",
              "      <td>0.211268</td>\n",
              "      <td>1</td>\n",
              "      <td>0</td>\n",
              "      <td>1</td>\n",
              "      <td>1</td>\n",
              "      <td>0</td>\n",
              "      <td>...</td>\n",
              "      <td>1</td>\n",
              "      <td>0</td>\n",
              "      <td>0</td>\n",
              "      <td>1</td>\n",
              "      <td>0</td>\n",
              "      <td>0</td>\n",
              "      <td>1</td>\n",
              "      <td>0</td>\n",
              "      <td>0</td>\n",
              "      <td>0</td>\n",
              "    </tr>\n",
              "    <tr>\n",
              "      <th>4186</th>\n",
              "      <td>0</td>\n",
              "      <td>0</td>\n",
              "      <td>0</td>\n",
              "      <td>1</td>\n",
              "      <td>0.859155</td>\n",
              "      <td>1</td>\n",
              "      <td>1</td>\n",
              "      <td>0</td>\n",
              "      <td>0</td>\n",
              "      <td>1</td>\n",
              "      <td>...</td>\n",
              "      <td>0</td>\n",
              "      <td>1</td>\n",
              "      <td>0</td>\n",
              "      <td>0</td>\n",
              "      <td>0</td>\n",
              "      <td>1</td>\n",
              "      <td>0</td>\n",
              "      <td>0</td>\n",
              "      <td>1</td>\n",
              "      <td>0</td>\n",
              "    </tr>\n",
              "    <tr>\n",
              "      <th>1961</th>\n",
              "      <td>1</td>\n",
              "      <td>0</td>\n",
              "      <td>0</td>\n",
              "      <td>0</td>\n",
              "      <td>0.577465</td>\n",
              "      <td>1</td>\n",
              "      <td>1</td>\n",
              "      <td>1</td>\n",
              "      <td>1</td>\n",
              "      <td>0</td>\n",
              "      <td>...</td>\n",
              "      <td>1</td>\n",
              "      <td>0</td>\n",
              "      <td>0</td>\n",
              "      <td>0</td>\n",
              "      <td>1</td>\n",
              "      <td>0</td>\n",
              "      <td>1</td>\n",
              "      <td>0</td>\n",
              "      <td>0</td>\n",
              "      <td>0</td>\n",
              "    </tr>\n",
              "  </tbody>\n",
              "</table>\n",
              "<p>3 rows × 27 columns</p>\n",
              "</div>\n",
              "      <button class=\"colab-df-convert\" onclick=\"convertToInteractive('df-a98ebaf6-6784-4661-ad13-7608ccd1ff2c')\"\n",
              "              title=\"Convert this dataframe to an interactive table.\"\n",
              "              style=\"display:none;\">\n",
              "        \n",
              "  <svg xmlns=\"http://www.w3.org/2000/svg\" height=\"24px\"viewBox=\"0 0 24 24\"\n",
              "       width=\"24px\">\n",
              "    <path d=\"M0 0h24v24H0V0z\" fill=\"none\"/>\n",
              "    <path d=\"M18.56 5.44l.94 2.06.94-2.06 2.06-.94-2.06-.94-.94-2.06-.94 2.06-2.06.94zm-11 1L8.5 8.5l.94-2.06 2.06-.94-2.06-.94L8.5 2.5l-.94 2.06-2.06.94zm10 10l.94 2.06.94-2.06 2.06-.94-2.06-.94-.94-2.06-.94 2.06-2.06.94z\"/><path d=\"M17.41 7.96l-1.37-1.37c-.4-.4-.92-.59-1.43-.59-.52 0-1.04.2-1.43.59L10.3 9.45l-7.72 7.72c-.78.78-.78 2.05 0 2.83L4 21.41c.39.39.9.59 1.41.59.51 0 1.02-.2 1.41-.59l7.78-7.78 2.81-2.81c.8-.78.8-2.07 0-2.86zM5.41 20L4 18.59l7.72-7.72 1.47 1.35L5.41 20z\"/>\n",
              "  </svg>\n",
              "      </button>\n",
              "      \n",
              "  <style>\n",
              "    .colab-df-container {\n",
              "      display:flex;\n",
              "      flex-wrap:wrap;\n",
              "      gap: 12px;\n",
              "    }\n",
              "\n",
              "    .colab-df-convert {\n",
              "      background-color: #E8F0FE;\n",
              "      border: none;\n",
              "      border-radius: 50%;\n",
              "      cursor: pointer;\n",
              "      display: none;\n",
              "      fill: #1967D2;\n",
              "      height: 32px;\n",
              "      padding: 0 0 0 0;\n",
              "      width: 32px;\n",
              "    }\n",
              "\n",
              "    .colab-df-convert:hover {\n",
              "      background-color: #E2EBFA;\n",
              "      box-shadow: 0px 1px 2px rgba(60, 64, 67, 0.3), 0px 1px 3px 1px rgba(60, 64, 67, 0.15);\n",
              "      fill: #174EA6;\n",
              "    }\n",
              "\n",
              "    [theme=dark] .colab-df-convert {\n",
              "      background-color: #3B4455;\n",
              "      fill: #D2E3FC;\n",
              "    }\n",
              "\n",
              "    [theme=dark] .colab-df-convert:hover {\n",
              "      background-color: #434B5C;\n",
              "      box-shadow: 0px 1px 3px 1px rgba(0, 0, 0, 0.15);\n",
              "      filter: drop-shadow(0px 1px 2px rgba(0, 0, 0, 0.3));\n",
              "      fill: #FFFFFF;\n",
              "    }\n",
              "  </style>\n",
              "\n",
              "      <script>\n",
              "        const buttonEl =\n",
              "          document.querySelector('#df-a98ebaf6-6784-4661-ad13-7608ccd1ff2c button.colab-df-convert');\n",
              "        buttonEl.style.display =\n",
              "          google.colab.kernel.accessAllowed ? 'block' : 'none';\n",
              "\n",
              "        async function convertToInteractive(key) {\n",
              "          const element = document.querySelector('#df-a98ebaf6-6784-4661-ad13-7608ccd1ff2c');\n",
              "          const dataTable =\n",
              "            await google.colab.kernel.invokeFunction('convertToInteractive',\n",
              "                                                     [key], {});\n",
              "          if (!dataTable) return;\n",
              "\n",
              "          const docLinkHtml = 'Like what you see? Visit the ' +\n",
              "            '<a target=\"_blank\" href=https://colab.research.google.com/notebooks/data_table.ipynb>data table notebook</a>'\n",
              "            + ' to learn more about interactive tables.';\n",
              "          element.innerHTML = '';\n",
              "          dataTable['output_type'] = 'display_data';\n",
              "          await google.colab.output.renderOutput(dataTable, element);\n",
              "          const docLink = document.createElement('div');\n",
              "          docLink.innerHTML = docLinkHtml;\n",
              "          element.appendChild(docLink);\n",
              "        }\n",
              "      </script>\n",
              "    </div>\n",
              "  </div>\n",
              "  "
            ]
          },
          "metadata": {},
          "execution_count": 106
        }
      ]
    },
    {
      "cell_type": "code",
      "source": [
        "print_unique_col_values(df2)"
      ],
      "metadata": {
        "colab": {
          "base_uri": "https://localhost:8080/"
        },
        "id": "p5i3jbBvGq1-",
        "outputId": "6fcd9e8c-d406-4048-f6e5-d380c692b0a0"
      },
      "execution_count": 107,
      "outputs": [
        {
          "output_type": "stream",
          "name": "stdout",
          "text": [
            "gender : [1 0]\n",
            "SeniorCitizen : [0 1]\n",
            "Partner : [1 0]\n",
            "Dependents : [0 1]\n",
            "tenure : [0.         0.46478873 0.01408451 0.61971831 0.09859155 0.29577465\n",
            " 0.12676056 0.38028169 0.85915493 0.16901408 0.21126761 0.8028169\n",
            " 0.67605634 0.33802817 0.95774648 0.71830986 0.98591549 0.28169014\n",
            " 0.15492958 0.4084507  0.64788732 1.         0.22535211 0.36619718\n",
            " 0.05633803 0.63380282 0.14084507 0.97183099 0.87323944 0.5915493\n",
            " 0.1971831  0.83098592 0.23943662 0.91549296 0.11267606 0.02816901\n",
            " 0.42253521 0.69014085 0.88732394 0.77464789 0.08450704 0.57746479\n",
            " 0.47887324 0.66197183 0.3943662  0.90140845 0.52112676 0.94366197\n",
            " 0.43661972 0.76056338 0.50704225 0.49295775 0.56338028 0.07042254\n",
            " 0.04225352 0.45070423 0.92957746 0.30985915 0.78873239 0.84507042\n",
            " 0.18309859 0.26760563 0.73239437 0.54929577 0.81690141 0.32394366\n",
            " 0.6056338  0.25352113 0.74647887 0.70422535 0.35211268 0.53521127]\n",
            "PhoneService : [0 1]\n",
            "MultipleLines : [0 1]\n",
            "OnlineSecurity : [0 1]\n",
            "OnlineBackup : [1 0]\n",
            "DeviceProtection : [0 1]\n",
            "TechSupport : [0 1]\n",
            "StreamingTV : [0 1]\n",
            "StreamingMovies : [0 1]\n",
            "PaperlessBilling : [1 0]\n",
            "MonthlyCharges : [0.11542289 0.38507463 0.35422886 ... 0.44626866 0.25820896 0.60149254]\n",
            "TotalCharges : [0.0012751  0.21586661 0.01031041 ... 0.03780868 0.03321025 0.78764136]\n",
            "Churn : [0 1]\n",
            "InternetService_DSL : [1 0]\n",
            "InternetService_Fiber optic : [0 1]\n",
            "InternetService_No : [0 1]\n",
            "Contract_Month-to-month : [1 0]\n",
            "Contract_One year : [0 1]\n",
            "Contract_Two year : [0 1]\n",
            "PaymentMethod_Bank transfer (automatic) : [0 1]\n",
            "PaymentMethod_Credit card (automatic) : [0 1]\n",
            "PaymentMethod_Electronic check : [1 0]\n",
            "PaymentMethod_Mailed check : [0 1]\n"
          ]
        }
      ]
    },
    {
      "cell_type": "code",
      "source": [
        "df2['Churn'].value_counts()"
      ],
      "metadata": {
        "colab": {
          "base_uri": "https://localhost:8080/"
        },
        "id": "u0AYMRuXHPwc",
        "outputId": "5ecb31c9-ec40-481d-8c13-8912c90fa5e9"
      },
      "execution_count": 108,
      "outputs": [
        {
          "output_type": "execute_result",
          "data": {
            "text/plain": [
              "0    5163\n",
              "1    1869\n",
              "Name: Churn, dtype: int64"
            ]
          },
          "metadata": {},
          "execution_count": 108
        }
      ]
    },
    {
      "cell_type": "markdown",
      "source": [
        "Hence this dataset is imbalanced"
      ],
      "metadata": {
        "id": "mbxzgTKvHVZD"
      }
    },
    {
      "cell_type": "markdown",
      "source": [
        "# Splitting data into train and test datasets"
      ],
      "metadata": {
        "id": "iU7MlJ3ymeMv"
      }
    },
    {
      "cell_type": "code",
      "source": [
        "x=df2.drop('Churn', axis='columns')\n",
        "y=df2['Churn']"
      ],
      "metadata": {
        "id": "4xie7cj1HMHV"
      },
      "execution_count": 109,
      "outputs": []
    },
    {
      "cell_type": "code",
      "source": [
        "from sklearn.model_selection import train_test_split\n",
        "\n",
        "X_train,X_test,y_train,y_test=train_test_split(x,y,train_size=0.9)"
      ],
      "metadata": {
        "id": "Aq-3g4nvEd1U"
      },
      "execution_count": 110,
      "outputs": []
    },
    {
      "cell_type": "code",
      "source": [
        "X_train.shape, y_train.shape, y_test.shape"
      ],
      "metadata": {
        "colab": {
          "base_uri": "https://localhost:8080/"
        },
        "id": "Ej1s_BudFo3s",
        "outputId": "e8e6743c-e9d4-4a08-944c-59fe8653f843"
      },
      "execution_count": 111,
      "outputs": [
        {
          "output_type": "execute_result",
          "data": {
            "text/plain": [
              "((6328, 26), (6328,), (704,))"
            ]
          },
          "metadata": {},
          "execution_count": 111
        }
      ]
    },
    {
      "cell_type": "markdown",
      "source": [
        "# Training Logistic Regression Model"
      ],
      "metadata": {
        "id": "kxgF0LLycvp3"
      }
    },
    {
      "cell_type": "code",
      "source": [
        "from sklearn.linear_model import LogisticRegression\n",
        "\n",
        "model=LogisticRegression()"
      ],
      "metadata": {
        "id": "jERhG78qD73o"
      },
      "execution_count": 112,
      "outputs": []
    },
    {
      "cell_type": "code",
      "source": [
        "model.fit(X_train,y_train)"
      ],
      "metadata": {
        "colab": {
          "base_uri": "https://localhost:8080/"
        },
        "id": "Ec9HB0MKEELl",
        "outputId": "358a3372-f3d9-44b1-d416-f39cbf60706d"
      },
      "execution_count": 113,
      "outputs": [
        {
          "output_type": "execute_result",
          "data": {
            "text/plain": [
              "LogisticRegression()"
            ]
          },
          "metadata": {},
          "execution_count": 113
        }
      ]
    },
    {
      "cell_type": "code",
      "source": [
        "model.score(X_test,y_test)"
      ],
      "metadata": {
        "colab": {
          "base_uri": "https://localhost:8080/"
        },
        "id": "c4n8mnTHESGE",
        "outputId": "2f00e174-dbd2-4cc7-f35e-8f9d06dc0601"
      },
      "execution_count": 114,
      "outputs": [
        {
          "output_type": "execute_result",
          "data": {
            "text/plain": [
              "0.8153409090909091"
            ]
          },
          "metadata": {},
          "execution_count": 114
        }
      ]
    },
    {
      "cell_type": "code",
      "source": [
        "y_pred=model.predict(X_test)\n",
        "y_pred[:10]"
      ],
      "metadata": {
        "colab": {
          "base_uri": "https://localhost:8080/"
        },
        "id": "ekBDpXb-EVw1",
        "outputId": "c5aa1439-f11f-457a-b532-be8ee7066aa9"
      },
      "execution_count": 115,
      "outputs": [
        {
          "output_type": "execute_result",
          "data": {
            "text/plain": [
              "array([0, 0, 1, 0, 0, 1, 0, 0, 0, 0])"
            ]
          },
          "metadata": {},
          "execution_count": 115
        }
      ]
    },
    {
      "cell_type": "code",
      "source": [
        "y_test[:10]"
      ],
      "metadata": {
        "colab": {
          "base_uri": "https://localhost:8080/"
        },
        "id": "UykC1lrOF4BL",
        "outputId": "c3f3472a-2edb-410e-9eca-714ff14c4013"
      },
      "execution_count": 116,
      "outputs": [
        {
          "output_type": "execute_result",
          "data": {
            "text/plain": [
              "181     0\n",
              "5728    1\n",
              "2708    1\n",
              "3827    0\n",
              "5109    0\n",
              "6385    1\n",
              "387     0\n",
              "6410    0\n",
              "4929    0\n",
              "30      0\n",
              "Name: Churn, dtype: int64"
            ]
          },
          "metadata": {},
          "execution_count": 116
        }
      ]
    },
    {
      "cell_type": "code",
      "source": [
        "from sklearn.metrics import classification_report\n",
        "print(classification_report(y_test,y_pred))"
      ],
      "metadata": {
        "colab": {
          "base_uri": "https://localhost:8080/"
        },
        "id": "bNpl9i_xF8fc",
        "outputId": "9d592e99-ffe2-44cf-ac5c-092a37e6cc97"
      },
      "execution_count": 117,
      "outputs": [
        {
          "output_type": "stream",
          "name": "stdout",
          "text": [
            "              precision    recall  f1-score   support\n",
            "\n",
            "           0       0.86      0.90      0.88       511\n",
            "           1       0.69      0.60      0.64       193\n",
            "\n",
            "    accuracy                           0.82       704\n",
            "   macro avg       0.77      0.75      0.76       704\n",
            "weighted avg       0.81      0.82      0.81       704\n",
            "\n"
          ]
        }
      ]
    },
    {
      "cell_type": "markdown",
      "source": [
        "# Function to get model Logistic Regression Model"
      ],
      "metadata": {
        "id": "V7L6fftCc8Zu"
      }
    },
    {
      "cell_type": "code",
      "source": [
        "def get_model(X_train,y_train):\n",
        "    model=LogisticRegression()\n",
        "    model.fit(X_train,y_train)\n",
        "\n",
        "    return model"
      ],
      "metadata": {
        "id": "0vbvYFiAQJv5"
      },
      "execution_count": 118,
      "outputs": []
    },
    {
      "cell_type": "markdown",
      "source": [
        "# Method 1 : Use of Undersampling"
      ],
      "metadata": {
        "id": "Q7vpcr82G3Gz"
      }
    },
    {
      "cell_type": "code",
      "source": [
        "count_class_0,count_class_1=df2['Churn'].value_counts()\n",
        "\n",
        "df_class_0=df2[df2['Churn']==0]\n",
        "df_class_1=df2[df2['Churn']==1]\n",
        "\n",
        "count_class_0,count_class_1"
      ],
      "metadata": {
        "colab": {
          "base_uri": "https://localhost:8080/"
        },
        "id": "uQz5o30sHJkD",
        "outputId": "0fec4c8f-83f9-426f-ffcb-a64e09351c10"
      },
      "execution_count": 119,
      "outputs": [
        {
          "output_type": "execute_result",
          "data": {
            "text/plain": [
              "(5163, 1869)"
            ]
          },
          "metadata": {},
          "execution_count": 119
        }
      ]
    },
    {
      "cell_type": "code",
      "source": [
        "df_class_0_under=df_class_0.sample(count_class_1)\n",
        "df_class_0_under.shape"
      ],
      "metadata": {
        "colab": {
          "base_uri": "https://localhost:8080/"
        },
        "id": "IDAzX7HCHjbb",
        "outputId": "b6b9ebf6-045f-4040-c060-ef7815bee3d7"
      },
      "execution_count": 120,
      "outputs": [
        {
          "output_type": "execute_result",
          "data": {
            "text/plain": [
              "(1869, 27)"
            ]
          },
          "metadata": {},
          "execution_count": 120
        }
      ]
    },
    {
      "cell_type": "code",
      "source": [
        "df_final_under=pd.concat([df_class_0_under,df_class_1],axis=0)\n",
        "df_final_under.shape"
      ],
      "metadata": {
        "colab": {
          "base_uri": "https://localhost:8080/"
        },
        "id": "Cn-Eh_XoI_s7",
        "outputId": "ee64707e-432b-4ffd-dae5-a8efa5489eb6"
      },
      "execution_count": 121,
      "outputs": [
        {
          "output_type": "execute_result",
          "data": {
            "text/plain": [
              "(3738, 27)"
            ]
          },
          "metadata": {},
          "execution_count": 121
        }
      ]
    },
    {
      "cell_type": "code",
      "source": [
        "df_final_under['Churn'].value_counts()"
      ],
      "metadata": {
        "colab": {
          "base_uri": "https://localhost:8080/"
        },
        "id": "K8-g0I-eJdX7",
        "outputId": "bbada83a-3b8c-43b7-db2c-8cb2fe2f32bd"
      },
      "execution_count": 122,
      "outputs": [
        {
          "output_type": "execute_result",
          "data": {
            "text/plain": [
              "0    1869\n",
              "1    1869\n",
              "Name: Churn, dtype: int64"
            ]
          },
          "metadata": {},
          "execution_count": 122
        }
      ]
    },
    {
      "cell_type": "code",
      "source": [
        "X_train,X_test,y_train,y_test=train_test_split(df_final_under.drop('Churn', axis='columns'),df_final_under['Churn'],train_size=0.9,stratify=df_final_under['Churn'])\n",
        "\n",
        "X_train.shape,y_test.shape"
      ],
      "metadata": {
        "colab": {
          "base_uri": "https://localhost:8080/"
        },
        "id": "Od14JgKSJ50D",
        "outputId": "b9dae7ca-772a-4bfa-d028-53a6ece7515d"
      },
      "execution_count": 123,
      "outputs": [
        {
          "output_type": "execute_result",
          "data": {
            "text/plain": [
              "((3364, 26), (374,))"
            ]
          },
          "metadata": {},
          "execution_count": 123
        }
      ]
    },
    {
      "cell_type": "code",
      "source": [
        "y_test.value_counts()"
      ],
      "metadata": {
        "colab": {
          "base_uri": "https://localhost:8080/"
        },
        "id": "Dn_MGVTZNsOb",
        "outputId": "d8c2b4d0-88e0-4702-ac19-136d45ca02bd"
      },
      "execution_count": 124,
      "outputs": [
        {
          "output_type": "execute_result",
          "data": {
            "text/plain": [
              "1    187\n",
              "0    187\n",
              "Name: Churn, dtype: int64"
            ]
          },
          "metadata": {},
          "execution_count": 124
        }
      ]
    },
    {
      "cell_type": "code",
      "source": [
        "model1=get_model(X_train,y_train)\n",
        "\n",
        "y_pred=model1.predict(X_test)"
      ],
      "metadata": {
        "id": "R3_kfoEYQcfx"
      },
      "execution_count": 125,
      "outputs": []
    },
    {
      "cell_type": "code",
      "source": [
        "print(classification_report(y_test,y_pred))"
      ],
      "metadata": {
        "colab": {
          "base_uri": "https://localhost:8080/"
        },
        "id": "Ka25xMteKaLq",
        "outputId": "29f9616d-d955-4cee-b92d-b52b753a6d3e"
      },
      "execution_count": 126,
      "outputs": [
        {
          "output_type": "stream",
          "name": "stdout",
          "text": [
            "              precision    recall  f1-score   support\n",
            "\n",
            "           0       0.78      0.73      0.75       187\n",
            "           1       0.74      0.80      0.77       187\n",
            "\n",
            "    accuracy                           0.76       374\n",
            "   macro avg       0.76      0.76      0.76       374\n",
            "weighted avg       0.76      0.76      0.76       374\n",
            "\n"
          ]
        }
      ]
    },
    {
      "cell_type": "markdown",
      "source": [
        "# Comparison with normal Logistic Regression Model\n",
        "\n",
        "![image.png](data:image/png;base64,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)"
      ],
      "metadata": {
        "id": "hkDKnrrWdHf9"
      }
    },
    {
      "cell_type": "markdown",
      "source": [
        "# Method 2 : Use of Oversampling"
      ],
      "metadata": {
        "id": "6_DyVnxNKvIz"
      }
    },
    {
      "cell_type": "code",
      "source": [
        "count_class_0,count_class_1"
      ],
      "metadata": {
        "colab": {
          "base_uri": "https://localhost:8080/"
        },
        "id": "BbjWrAtxKoN6",
        "outputId": "77e53b97-3be5-4bd9-de5e-68c2bcd3cdf9"
      },
      "execution_count": 127,
      "outputs": [
        {
          "output_type": "execute_result",
          "data": {
            "text/plain": [
              "(5163, 1869)"
            ]
          },
          "metadata": {},
          "execution_count": 127
        }
      ]
    },
    {
      "cell_type": "code",
      "source": [
        "df_class_1_over=df_class_1.sample(count_class_0, replace=True)"
      ],
      "metadata": {
        "id": "VdaYYH0vLJ5z"
      },
      "execution_count": 128,
      "outputs": []
    },
    {
      "cell_type": "code",
      "source": [
        "df_final_over=pd.concat([df_class_0,df_class_1_over],axis=0)\n",
        "\n",
        "df_final_over['Churn'].value_counts()"
      ],
      "metadata": {
        "colab": {
          "base_uri": "https://localhost:8080/"
        },
        "id": "m3_3oNoEL-5y",
        "outputId": "9957a0dc-f6e6-497c-a688-6f589ef99353"
      },
      "execution_count": 129,
      "outputs": [
        {
          "output_type": "execute_result",
          "data": {
            "text/plain": [
              "0    5163\n",
              "1    5163\n",
              "Name: Churn, dtype: int64"
            ]
          },
          "metadata": {},
          "execution_count": 129
        }
      ]
    },
    {
      "cell_type": "code",
      "source": [
        "X_train,X_test,y_train,y_test=train_test_split(df_final_over.drop('Churn', axis='columns'),df_final_over['Churn'],train_size=0.8,stratify=df_final_over['Churn'])"
      ],
      "metadata": {
        "id": "nluFjneTMPY6"
      },
      "execution_count": 130,
      "outputs": []
    },
    {
      "cell_type": "code",
      "source": [
        "y_train.value_counts(),y_test.value_counts()"
      ],
      "metadata": {
        "colab": {
          "base_uri": "https://localhost:8080/"
        },
        "id": "a-zGJlE_NWyJ",
        "outputId": "d4022bc6-acd1-4e85-ed4e-f14955004b72"
      },
      "execution_count": 131,
      "outputs": [
        {
          "output_type": "execute_result",
          "data": {
            "text/plain": [
              "(0    4130\n",
              " 1    4130\n",
              " Name: Churn, dtype: int64, 0    1033\n",
              " 1    1033\n",
              " Name: Churn, dtype: int64)"
            ]
          },
          "metadata": {},
          "execution_count": 131
        }
      ]
    },
    {
      "cell_type": "code",
      "source": [
        "model2=get_model(X_train,y_train)\n",
        "\n",
        "y_pred=model2.predict(X_test)"
      ],
      "metadata": {
        "id": "pdU4J9H7MaoC"
      },
      "execution_count": 132,
      "outputs": []
    },
    {
      "cell_type": "code",
      "source": [
        "y_pred=model2.predict(X_test)\n",
        "\n",
        "print(classification_report(y_test,y_pred))"
      ],
      "metadata": {
        "colab": {
          "base_uri": "https://localhost:8080/"
        },
        "id": "bitbkgVRMnrR",
        "outputId": "4330cd3a-2adc-4f0c-e2d1-d6adae7bc234"
      },
      "execution_count": 133,
      "outputs": [
        {
          "output_type": "stream",
          "name": "stdout",
          "text": [
            "              precision    recall  f1-score   support\n",
            "\n",
            "           0       0.78      0.72      0.75      1033\n",
            "           1       0.74      0.80      0.77      1033\n",
            "\n",
            "    accuracy                           0.76      2066\n",
            "   macro avg       0.76      0.76      0.76      2066\n",
            "weighted avg       0.76      0.76      0.76      2066\n",
            "\n"
          ]
        }
      ]
    },
    {
      "cell_type": "markdown",
      "source": [
        "# Comparison with normal Logistic Regression Model\n",
        "\n",
        "![image.png](data:image/png;base64,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)"
      ],
      "metadata": {
        "id": "suR5cHiMdYL9"
      }
    },
    {
      "cell_type": "markdown",
      "source": [
        "# Method 3 : Use of SMOTE"
      ],
      "metadata": {
        "id": "Wf5zoIcWM-vh"
      }
    },
    {
      "cell_type": "code",
      "source": [
        "x=df2.drop('Churn',axis='columns')\n",
        "y=df2['Churn']"
      ],
      "metadata": {
        "id": "NCY3h3vjM1bK"
      },
      "execution_count": 134,
      "outputs": []
    },
    {
      "cell_type": "code",
      "source": [
        "y.value_counts()"
      ],
      "metadata": {
        "colab": {
          "base_uri": "https://localhost:8080/"
        },
        "id": "iaO1OKh_Ojkp",
        "outputId": "5441a68a-04d8-4bd9-8ec1-e5d203dd32ba"
      },
      "execution_count": 135,
      "outputs": [
        {
          "output_type": "execute_result",
          "data": {
            "text/plain": [
              "0    5163\n",
              "1    1869\n",
              "Name: Churn, dtype: int64"
            ]
          },
          "metadata": {},
          "execution_count": 135
        }
      ]
    },
    {
      "cell_type": "code",
      "source": [
        "from imblearn.over_sampling import SMOTE\n",
        "\n",
        "smote=SMOTE(sampling_strategy='minority')\n",
        "X_sm,y_sm=smote.fit_resample(x,y)\n",
        "\n",
        "y_sm.value_counts()"
      ],
      "metadata": {
        "colab": {
          "base_uri": "https://localhost:8080/"
        },
        "id": "HYOxS2zYOmGq",
        "outputId": "dcdbd463-e81c-4475-dd44-b76bcd1574eb"
      },
      "execution_count": 136,
      "outputs": [
        {
          "output_type": "execute_result",
          "data": {
            "text/plain": [
              "0    5163\n",
              "1    5163\n",
              "Name: Churn, dtype: int64"
            ]
          },
          "metadata": {},
          "execution_count": 136
        }
      ]
    },
    {
      "cell_type": "code",
      "source": [
        "X_train,X_test,y_train,y_test=train_test_split(X_sm,y_sm,train_size=0.8,stratify=y_sm)\n",
        "\n",
        "y_test.value_counts()"
      ],
      "metadata": {
        "colab": {
          "base_uri": "https://localhost:8080/"
        },
        "id": "hbig_VIjPfvh",
        "outputId": "45e4bc65-6b15-4794-a300-12179725b33a"
      },
      "execution_count": 137,
      "outputs": [
        {
          "output_type": "execute_result",
          "data": {
            "text/plain": [
              "0    1033\n",
              "1    1033\n",
              "Name: Churn, dtype: int64"
            ]
          },
          "metadata": {},
          "execution_count": 137
        }
      ]
    },
    {
      "cell_type": "code",
      "source": [
        "model3=get_model(X_train,y_train)\n",
        "\n",
        "y_pred=model3.predict(X_test)\n",
        "\n",
        "print(classification_report(y_test,y_pred))"
      ],
      "metadata": {
        "colab": {
          "base_uri": "https://localhost:8080/"
        },
        "id": "klzAm3lRQFjJ",
        "outputId": "c6e5aa91-a5bd-4a15-915f-a71882cfa75e"
      },
      "execution_count": 138,
      "outputs": [
        {
          "output_type": "stream",
          "name": "stdout",
          "text": [
            "              precision    recall  f1-score   support\n",
            "\n",
            "           0       0.83      0.79      0.81      1033\n",
            "           1       0.80      0.84      0.82      1033\n",
            "\n",
            "    accuracy                           0.82      2066\n",
            "   macro avg       0.82      0.82      0.82      2066\n",
            "weighted avg       0.82      0.82      0.82      2066\n",
            "\n"
          ]
        }
      ]
    },
    {
      "cell_type": "markdown",
      "source": [
        "# Comparison with normal Logistic Regression Model\n",
        "\n",
        "![image.png](data:image/png;base64,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)"
      ],
      "metadata": {
        "id": "dp60qC-SddHd"
      }
    },
    {
      "cell_type": "markdown",
      "source": [
        "# Method 4 : Use of Ensemble"
      ],
      "metadata": {
        "id": "yO4AhN9MRgaB"
      }
    },
    {
      "cell_type": "code",
      "source": [
        "df2['Churn'].value_counts()"
      ],
      "metadata": {
        "colab": {
          "base_uri": "https://localhost:8080/"
        },
        "id": "GXmvrcZ2RVux",
        "outputId": "20f25ada-7f08-4029-e556-f665ccdf6347"
      },
      "execution_count": 139,
      "outputs": [
        {
          "output_type": "execute_result",
          "data": {
            "text/plain": [
              "0    5163\n",
              "1    1869\n",
              "Name: Churn, dtype: int64"
            ]
          },
          "metadata": {},
          "execution_count": 139
        }
      ]
    },
    {
      "cell_type": "code",
      "source": [
        "x=df2.drop('Churn', axis='columns')\n",
        "y=df2['Churn']\n",
        "\n",
        "X_train, X_test, y_train, y_test=train_test_split(x,y,test_size=0.2,random_state=15,stratify=y)"
      ],
      "metadata": {
        "id": "otlNpeFLRu4Z"
      },
      "execution_count": 140,
      "outputs": []
    },
    {
      "cell_type": "code",
      "source": [
        "y_train.value_counts()"
      ],
      "metadata": {
        "colab": {
          "base_uri": "https://localhost:8080/"
        },
        "id": "3JPLlhU_T8P_",
        "outputId": "286748e4-fac4-4bf3-b072-5ee6dfbc583c"
      },
      "execution_count": 141,
      "outputs": [
        {
          "output_type": "execute_result",
          "data": {
            "text/plain": [
              "0    4130\n",
              "1    1495\n",
              "Name: Churn, dtype: int64"
            ]
          },
          "metadata": {},
          "execution_count": 141
        }
      ]
    },
    {
      "cell_type": "code",
      "source": [
        "y_test.shape"
      ],
      "metadata": {
        "colab": {
          "base_uri": "https://localhost:8080/"
        },
        "id": "rOouM0AsZbSH",
        "outputId": "23bcff98-c89a-452f-e618-9131dbd8cadb"
      },
      "execution_count": 142,
      "outputs": [
        {
          "output_type": "execute_result",
          "data": {
            "text/plain": [
              "(1407,)"
            ]
          },
          "metadata": {},
          "execution_count": 142
        }
      ]
    },
    {
      "cell_type": "code",
      "source": [
        "df3=X_train.copy()\n",
        "df3['Churn']=y_train\n",
        "\n",
        "df3_class_0=df3[df3['Churn']==0]\n",
        "df3_class_1=df3[df3['Churn']==1]"
      ],
      "metadata": {
        "id": "q2UcxrCVU26v"
      },
      "execution_count": 143,
      "outputs": []
    },
    {
      "cell_type": "code",
      "source": [
        "df3_class_1['Churn'].value_counts()"
      ],
      "metadata": {
        "colab": {
          "base_uri": "https://localhost:8080/"
        },
        "id": "dYBSGE-TWFkx",
        "outputId": "783a2805-ade7-458b-cba7-1b540cba3784"
      },
      "execution_count": 144,
      "outputs": [
        {
          "output_type": "execute_result",
          "data": {
            "text/plain": [
              "1    1495\n",
              "Name: Churn, dtype: int64"
            ]
          },
          "metadata": {},
          "execution_count": 144
        }
      ]
    },
    {
      "cell_type": "code",
      "source": [
        "df3.columns"
      ],
      "metadata": {
        "colab": {
          "base_uri": "https://localhost:8080/"
        },
        "id": "T_eifXL-Wkhn",
        "outputId": "6ed44d8d-7990-42ac-9a9b-65b0f33e6e3b"
      },
      "execution_count": 145,
      "outputs": [
        {
          "output_type": "execute_result",
          "data": {
            "text/plain": [
              "Index(['gender', 'SeniorCitizen', 'Partner', 'Dependents', 'tenure',\n",
              "       'PhoneService', 'MultipleLines', 'OnlineSecurity', 'OnlineBackup',\n",
              "       'DeviceProtection', 'TechSupport', 'StreamingTV', 'StreamingMovies',\n",
              "       'PaperlessBilling', 'MonthlyCharges', 'TotalCharges',\n",
              "       'InternetService_DSL', 'InternetService_Fiber optic',\n",
              "       'InternetService_No', 'Contract_Month-to-month', 'Contract_One year',\n",
              "       'Contract_Two year', 'PaymentMethod_Bank transfer (automatic)',\n",
              "       'PaymentMethod_Credit card (automatic)',\n",
              "       'PaymentMethod_Electronic check', 'PaymentMethod_Mailed check',\n",
              "       'Churn'],\n",
              "      dtype='object')"
            ]
          },
          "metadata": {},
          "execution_count": 145
        }
      ]
    },
    {
      "cell_type": "code",
      "source": [
        "def get_dataset(majority_data,minority_data,start,end):\n",
        "    df_train=pd.concat([majority_data[start:end],minority_data],axis=0)\n",
        "\n",
        "    X_train=df3.drop('Churn',axis='columns')\n",
        "    y_train=df3['Churn']\n",
        "\n",
        "    return X_train,y_train"
      ],
      "metadata": {
        "id": "qPOjwcPTUYO4"
      },
      "execution_count": 146,
      "outputs": []
    },
    {
      "cell_type": "code",
      "source": [
        "X_train,y_train=get_dataset(df3_class_0,df3_class_1,0,1495)\n",
        "model4_1=get_model(X_train,y_train)\n",
        "y_pred4_1=model4_1.predict(X_test)"
      ],
      "metadata": {
        "id": "F80ERqgFW3b_"
      },
      "execution_count": 147,
      "outputs": []
    },
    {
      "cell_type": "code",
      "source": [
        "X_train,y_train=get_dataset(df3_class_0,df3_class_1,1495,2990)\n",
        "model4_2=get_model(X_train,y_train)\n",
        "y_pred4_2=model4_2.predict(X_test)"
      ],
      "metadata": {
        "id": "WcYObAh6Xkwg"
      },
      "execution_count": 148,
      "outputs": []
    },
    {
      "cell_type": "code",
      "source": [
        "X_train,y_train=get_dataset(df3_class_0,df3_class_1,2990,4130)\n",
        "model4_3=get_model(X_train,y_train)\n",
        "y_pred4_3=model4_3.predict(X_test)"
      ],
      "metadata": {
        "id": "YFLu0e8uYzlW"
      },
      "execution_count": 149,
      "outputs": []
    },
    {
      "cell_type": "code",
      "source": [
        "y_pred_final=y_pred4_1\n",
        "for i in range(len(y_pred4_1)):\n",
        "    ones=y_pred4_1[i]+y_pred4_2[i]+y_pred4_3[i]\n",
        "    if ones>1:\n",
        "        y_pred_final[i]=1\n",
        "    else:\n",
        "        y_pred_final[i]=0"
      ],
      "metadata": {
        "id": "WrYxfH1JZDge"
      },
      "execution_count": 150,
      "outputs": []
    },
    {
      "cell_type": "code",
      "source": [
        "print(classification_report(y_test,y_pred_final))"
      ],
      "metadata": {
        "colab": {
          "base_uri": "https://localhost:8080/"
        },
        "id": "fm3zjXTgZTyn",
        "outputId": "0ee63a59-316e-4b20-d94d-2f6bff6add85"
      },
      "execution_count": 151,
      "outputs": [
        {
          "output_type": "stream",
          "name": "stdout",
          "text": [
            "              precision    recall  f1-score   support\n",
            "\n",
            "           0       0.84      0.90      0.87      1033\n",
            "           1       0.66      0.54      0.59       374\n",
            "\n",
            "    accuracy                           0.80      1407\n",
            "   macro avg       0.75      0.72      0.73      1407\n",
            "weighted avg       0.79      0.80      0.80      1407\n",
            "\n"
          ]
        }
      ]
    },
    {
      "cell_type": "markdown",
      "source": [
        "# Comparison with normal Logistic Regression Model\n",
        "\n",
        "![image.png](data:image/png;base64,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)"
      ],
      "metadata": {
        "id": "KtEAIm8odkNF"
      }
    },
    {
      "cell_type": "markdown",
      "source": [
        "Hence we can conclude that use of SMOTE worked best to increase the performance metrics of our Logistic Regression Model"
      ],
      "metadata": {
        "id": "cavyiCnxd2OV"
      }
    },
    {
      "cell_type": "code",
      "source": [],
      "metadata": {
        "id": "iNJkdEYBapBm"
      },
      "execution_count": 151,
      "outputs": []
    }
  ],
  "metadata": {
    "accelerator": "GPU",
    "colab": {
      "provenance": []
    },
    "kernelspec": {
      "display_name": "Python 3",
      "name": "python3"
    },
    "language_info": {
      "name": "python"
    }
  },
  "nbformat": 4,
  "nbformat_minor": 0
}