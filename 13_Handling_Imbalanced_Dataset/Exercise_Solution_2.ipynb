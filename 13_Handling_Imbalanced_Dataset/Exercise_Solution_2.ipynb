{
  "nbformat": 4,
  "nbformat_minor": 0,
  "metadata": {
    "colab": {
      "provenance": []
    },
    "kernelspec": {
      "name": "python3",
      "display_name": "Python 3"
    },
    "language_info": {
      "name": "python"
    },
    "accelerator": "GPU"
  },
  "cells": [
    {
      "cell_type": "code",
      "source": [
        "import pandas as pd"
      ],
      "metadata": {
        "id": "7laI338BDzC_"
      },
      "execution_count": 1,
      "outputs": []
    },
    {
      "cell_type": "code",
      "source": [
        "df=pd.read_csv('/content/Churn_Modelling.csv')\n",
        "df.sample(5)"
      ],
      "metadata": {
        "colab": {
          "base_uri": "https://localhost:8080/",
          "height": 206
        },
        "id": "xTG9NSyYD09n",
        "outputId": "32f81860-1332-4700-d185-ce3f1824bbd2"
      },
      "execution_count": 2,
      "outputs": [
        {
          "output_type": "execute_result",
          "data": {
            "text/plain": [
              "      RowNumber  CustomerId  Surname  CreditScore Geography  Gender  Age  \\\n",
              "8782       8783    15809057       Lu          600     Spain  Female   27   \n",
              "5523       5524    15625586  Monaldo          717    France    Male   35   \n",
              "2701       2702    15797010     Shen          649    France  Female   31   \n",
              "7411       7412    15698749       He          626   Germany  Female   23   \n",
              "3705       3706    15769645   Senior          612    France  Female   35   \n",
              "\n",
              "      Tenure   Balance  NumOfProducts  HasCrCard  IsActiveMember  \\\n",
              "8782       6      0.00              2          1               1   \n",
              "5523       4      0.00              1          1               1   \n",
              "2701       2      0.00              2          1               0   \n",
              "7411       6  85897.95              1          1               0   \n",
              "3705       3      0.00              1          1               1   \n",
              "\n",
              "      EstimatedSalary  Exited  \n",
              "8782        172031.22       0  \n",
              "5523        167573.06       0  \n",
              "2701         15200.61       0  \n",
              "7411        109742.80       0  \n",
              "3705         48108.72       0  "
            ],
            "text/html": [
              "\n",
              "  <div id=\"df-e92795ae-b074-4360-aa3b-31128c84e6cd\">\n",
              "    <div class=\"colab-df-container\">\n",
              "      <div>\n",
              "<style scoped>\n",
              "    .dataframe tbody tr th:only-of-type {\n",
              "        vertical-align: middle;\n",
              "    }\n",
              "\n",
              "    .dataframe tbody tr th {\n",
              "        vertical-align: top;\n",
              "    }\n",
              "\n",
              "    .dataframe thead th {\n",
              "        text-align: right;\n",
              "    }\n",
              "</style>\n",
              "<table border=\"1\" class=\"dataframe\">\n",
              "  <thead>\n",
              "    <tr style=\"text-align: right;\">\n",
              "      <th></th>\n",
              "      <th>RowNumber</th>\n",
              "      <th>CustomerId</th>\n",
              "      <th>Surname</th>\n",
              "      <th>CreditScore</th>\n",
              "      <th>Geography</th>\n",
              "      <th>Gender</th>\n",
              "      <th>Age</th>\n",
              "      <th>Tenure</th>\n",
              "      <th>Balance</th>\n",
              "      <th>NumOfProducts</th>\n",
              "      <th>HasCrCard</th>\n",
              "      <th>IsActiveMember</th>\n",
              "      <th>EstimatedSalary</th>\n",
              "      <th>Exited</th>\n",
              "    </tr>\n",
              "  </thead>\n",
              "  <tbody>\n",
              "    <tr>\n",
              "      <th>8782</th>\n",
              "      <td>8783</td>\n",
              "      <td>15809057</td>\n",
              "      <td>Lu</td>\n",
              "      <td>600</td>\n",
              "      <td>Spain</td>\n",
              "      <td>Female</td>\n",
              "      <td>27</td>\n",
              "      <td>6</td>\n",
              "      <td>0.00</td>\n",
              "      <td>2</td>\n",
              "      <td>1</td>\n",
              "      <td>1</td>\n",
              "      <td>172031.22</td>\n",
              "      <td>0</td>\n",
              "    </tr>\n",
              "    <tr>\n",
              "      <th>5523</th>\n",
              "      <td>5524</td>\n",
              "      <td>15625586</td>\n",
              "      <td>Monaldo</td>\n",
              "      <td>717</td>\n",
              "      <td>France</td>\n",
              "      <td>Male</td>\n",
              "      <td>35</td>\n",
              "      <td>4</td>\n",
              "      <td>0.00</td>\n",
              "      <td>1</td>\n",
              "      <td>1</td>\n",
              "      <td>1</td>\n",
              "      <td>167573.06</td>\n",
              "      <td>0</td>\n",
              "    </tr>\n",
              "    <tr>\n",
              "      <th>2701</th>\n",
              "      <td>2702</td>\n",
              "      <td>15797010</td>\n",
              "      <td>Shen</td>\n",
              "      <td>649</td>\n",
              "      <td>France</td>\n",
              "      <td>Female</td>\n",
              "      <td>31</td>\n",
              "      <td>2</td>\n",
              "      <td>0.00</td>\n",
              "      <td>2</td>\n",
              "      <td>1</td>\n",
              "      <td>0</td>\n",
              "      <td>15200.61</td>\n",
              "      <td>0</td>\n",
              "    </tr>\n",
              "    <tr>\n",
              "      <th>7411</th>\n",
              "      <td>7412</td>\n",
              "      <td>15698749</td>\n",
              "      <td>He</td>\n",
              "      <td>626</td>\n",
              "      <td>Germany</td>\n",
              "      <td>Female</td>\n",
              "      <td>23</td>\n",
              "      <td>6</td>\n",
              "      <td>85897.95</td>\n",
              "      <td>1</td>\n",
              "      <td>1</td>\n",
              "      <td>0</td>\n",
              "      <td>109742.80</td>\n",
              "      <td>0</td>\n",
              "    </tr>\n",
              "    <tr>\n",
              "      <th>3705</th>\n",
              "      <td>3706</td>\n",
              "      <td>15769645</td>\n",
              "      <td>Senior</td>\n",
              "      <td>612</td>\n",
              "      <td>France</td>\n",
              "      <td>Female</td>\n",
              "      <td>35</td>\n",
              "      <td>3</td>\n",
              "      <td>0.00</td>\n",
              "      <td>1</td>\n",
              "      <td>1</td>\n",
              "      <td>1</td>\n",
              "      <td>48108.72</td>\n",
              "      <td>0</td>\n",
              "    </tr>\n",
              "  </tbody>\n",
              "</table>\n",
              "</div>\n",
              "      <button class=\"colab-df-convert\" onclick=\"convertToInteractive('df-e92795ae-b074-4360-aa3b-31128c84e6cd')\"\n",
              "              title=\"Convert this dataframe to an interactive table.\"\n",
              "              style=\"display:none;\">\n",
              "        \n",
              "  <svg xmlns=\"http://www.w3.org/2000/svg\" height=\"24px\"viewBox=\"0 0 24 24\"\n",
              "       width=\"24px\">\n",
              "    <path d=\"M0 0h24v24H0V0z\" fill=\"none\"/>\n",
              "    <path d=\"M18.56 5.44l.94 2.06.94-2.06 2.06-.94-2.06-.94-.94-2.06-.94 2.06-2.06.94zm-11 1L8.5 8.5l.94-2.06 2.06-.94-2.06-.94L8.5 2.5l-.94 2.06-2.06.94zm10 10l.94 2.06.94-2.06 2.06-.94-2.06-.94-.94-2.06-.94 2.06-2.06.94z\"/><path d=\"M17.41 7.96l-1.37-1.37c-.4-.4-.92-.59-1.43-.59-.52 0-1.04.2-1.43.59L10.3 9.45l-7.72 7.72c-.78.78-.78 2.05 0 2.83L4 21.41c.39.39.9.59 1.41.59.51 0 1.02-.2 1.41-.59l7.78-7.78 2.81-2.81c.8-.78.8-2.07 0-2.86zM5.41 20L4 18.59l7.72-7.72 1.47 1.35L5.41 20z\"/>\n",
              "  </svg>\n",
              "      </button>\n",
              "      \n",
              "  <style>\n",
              "    .colab-df-container {\n",
              "      display:flex;\n",
              "      flex-wrap:wrap;\n",
              "      gap: 12px;\n",
              "    }\n",
              "\n",
              "    .colab-df-convert {\n",
              "      background-color: #E8F0FE;\n",
              "      border: none;\n",
              "      border-radius: 50%;\n",
              "      cursor: pointer;\n",
              "      display: none;\n",
              "      fill: #1967D2;\n",
              "      height: 32px;\n",
              "      padding: 0 0 0 0;\n",
              "      width: 32px;\n",
              "    }\n",
              "\n",
              "    .colab-df-convert:hover {\n",
              "      background-color: #E2EBFA;\n",
              "      box-shadow: 0px 1px 2px rgba(60, 64, 67, 0.3), 0px 1px 3px 1px rgba(60, 64, 67, 0.15);\n",
              "      fill: #174EA6;\n",
              "    }\n",
              "\n",
              "    [theme=dark] .colab-df-convert {\n",
              "      background-color: #3B4455;\n",
              "      fill: #D2E3FC;\n",
              "    }\n",
              "\n",
              "    [theme=dark] .colab-df-convert:hover {\n",
              "      background-color: #434B5C;\n",
              "      box-shadow: 0px 1px 3px 1px rgba(0, 0, 0, 0.15);\n",
              "      filter: drop-shadow(0px 1px 2px rgba(0, 0, 0, 0.3));\n",
              "      fill: #FFFFFF;\n",
              "    }\n",
              "  </style>\n",
              "\n",
              "      <script>\n",
              "        const buttonEl =\n",
              "          document.querySelector('#df-e92795ae-b074-4360-aa3b-31128c84e6cd button.colab-df-convert');\n",
              "        buttonEl.style.display =\n",
              "          google.colab.kernel.accessAllowed ? 'block' : 'none';\n",
              "\n",
              "        async function convertToInteractive(key) {\n",
              "          const element = document.querySelector('#df-e92795ae-b074-4360-aa3b-31128c84e6cd');\n",
              "          const dataTable =\n",
              "            await google.colab.kernel.invokeFunction('convertToInteractive',\n",
              "                                                     [key], {});\n",
              "          if (!dataTable) return;\n",
              "\n",
              "          const docLinkHtml = 'Like what you see? Visit the ' +\n",
              "            '<a target=\"_blank\" href=https://colab.research.google.com/notebooks/data_table.ipynb>data table notebook</a>'\n",
              "            + ' to learn more about interactive tables.';\n",
              "          element.innerHTML = '';\n",
              "          dataTable['output_type'] = 'display_data';\n",
              "          await google.colab.output.renderOutput(dataTable, element);\n",
              "          const docLink = document.createElement('div');\n",
              "          docLink.innerHTML = docLinkHtml;\n",
              "          element.appendChild(docLink);\n",
              "        }\n",
              "      </script>\n",
              "    </div>\n",
              "  </div>\n",
              "  "
            ]
          },
          "metadata": {},
          "execution_count": 2
        }
      ]
    },
    {
      "cell_type": "code",
      "source": [
        "df.shape"
      ],
      "metadata": {
        "colab": {
          "base_uri": "https://localhost:8080/"
        },
        "id": "pdW2sdiCHicd",
        "outputId": "0836bd24-2cf0-45c7-8d68-341b1562a972"
      },
      "execution_count": 3,
      "outputs": [
        {
          "output_type": "execute_result",
          "data": {
            "text/plain": [
              "(10000, 14)"
            ]
          },
          "metadata": {},
          "execution_count": 3
        }
      ]
    },
    {
      "cell_type": "code",
      "source": [
        "df1=df.drop(['RowNumber','CustomerId','Surname'], axis='columns')"
      ],
      "metadata": {
        "id": "Om-KKCa6ElGV"
      },
      "execution_count": 4,
      "outputs": []
    },
    {
      "cell_type": "code",
      "source": [
        "df1.sample(5)"
      ],
      "metadata": {
        "colab": {
          "base_uri": "https://localhost:8080/",
          "height": 206
        },
        "id": "jNK_6UsHExBO",
        "outputId": "6695f2f9-3ba8-4d03-b255-ee2cd5d4bee9"
      },
      "execution_count": 5,
      "outputs": [
        {
          "output_type": "execute_result",
          "data": {
            "text/plain": [
              "      CreditScore Geography  Gender  Age  Tenure    Balance  NumOfProducts  \\\n",
              "1501          661    France  Female   31       7  144162.30              2   \n",
              "4571          598   Germany    Male   20       8  180293.84              2   \n",
              "2206          609    France    Male   34       1       0.00              1   \n",
              "7810          756   Germany  Female   34       2  148200.72              1   \n",
              "5572          565    France    Male   34       6       0.00              1   \n",
              "\n",
              "      HasCrCard  IsActiveMember  EstimatedSalary  Exited  \n",
              "1501          1               1         14490.79       0  \n",
              "4571          1               1         29552.70       0  \n",
              "2206          1               1        181177.90       0  \n",
              "7810          0               0        194584.48       0  \n",
              "5572          1               1         63173.64       0  "
            ],
            "text/html": [
              "\n",
              "  <div id=\"df-60c3650d-7738-460c-9ce8-3da824ff6871\">\n",
              "    <div class=\"colab-df-container\">\n",
              "      <div>\n",
              "<style scoped>\n",
              "    .dataframe tbody tr th:only-of-type {\n",
              "        vertical-align: middle;\n",
              "    }\n",
              "\n",
              "    .dataframe tbody tr th {\n",
              "        vertical-align: top;\n",
              "    }\n",
              "\n",
              "    .dataframe thead th {\n",
              "        text-align: right;\n",
              "    }\n",
              "</style>\n",
              "<table border=\"1\" class=\"dataframe\">\n",
              "  <thead>\n",
              "    <tr style=\"text-align: right;\">\n",
              "      <th></th>\n",
              "      <th>CreditScore</th>\n",
              "      <th>Geography</th>\n",
              "      <th>Gender</th>\n",
              "      <th>Age</th>\n",
              "      <th>Tenure</th>\n",
              "      <th>Balance</th>\n",
              "      <th>NumOfProducts</th>\n",
              "      <th>HasCrCard</th>\n",
              "      <th>IsActiveMember</th>\n",
              "      <th>EstimatedSalary</th>\n",
              "      <th>Exited</th>\n",
              "    </tr>\n",
              "  </thead>\n",
              "  <tbody>\n",
              "    <tr>\n",
              "      <th>1501</th>\n",
              "      <td>661</td>\n",
              "      <td>France</td>\n",
              "      <td>Female</td>\n",
              "      <td>31</td>\n",
              "      <td>7</td>\n",
              "      <td>144162.30</td>\n",
              "      <td>2</td>\n",
              "      <td>1</td>\n",
              "      <td>1</td>\n",
              "      <td>14490.79</td>\n",
              "      <td>0</td>\n",
              "    </tr>\n",
              "    <tr>\n",
              "      <th>4571</th>\n",
              "      <td>598</td>\n",
              "      <td>Germany</td>\n",
              "      <td>Male</td>\n",
              "      <td>20</td>\n",
              "      <td>8</td>\n",
              "      <td>180293.84</td>\n",
              "      <td>2</td>\n",
              "      <td>1</td>\n",
              "      <td>1</td>\n",
              "      <td>29552.70</td>\n",
              "      <td>0</td>\n",
              "    </tr>\n",
              "    <tr>\n",
              "      <th>2206</th>\n",
              "      <td>609</td>\n",
              "      <td>France</td>\n",
              "      <td>Male</td>\n",
              "      <td>34</td>\n",
              "      <td>1</td>\n",
              "      <td>0.00</td>\n",
              "      <td>1</td>\n",
              "      <td>1</td>\n",
              "      <td>1</td>\n",
              "      <td>181177.90</td>\n",
              "      <td>0</td>\n",
              "    </tr>\n",
              "    <tr>\n",
              "      <th>7810</th>\n",
              "      <td>756</td>\n",
              "      <td>Germany</td>\n",
              "      <td>Female</td>\n",
              "      <td>34</td>\n",
              "      <td>2</td>\n",
              "      <td>148200.72</td>\n",
              "      <td>1</td>\n",
              "      <td>0</td>\n",
              "      <td>0</td>\n",
              "      <td>194584.48</td>\n",
              "      <td>0</td>\n",
              "    </tr>\n",
              "    <tr>\n",
              "      <th>5572</th>\n",
              "      <td>565</td>\n",
              "      <td>France</td>\n",
              "      <td>Male</td>\n",
              "      <td>34</td>\n",
              "      <td>6</td>\n",
              "      <td>0.00</td>\n",
              "      <td>1</td>\n",
              "      <td>1</td>\n",
              "      <td>1</td>\n",
              "      <td>63173.64</td>\n",
              "      <td>0</td>\n",
              "    </tr>\n",
              "  </tbody>\n",
              "</table>\n",
              "</div>\n",
              "      <button class=\"colab-df-convert\" onclick=\"convertToInteractive('df-60c3650d-7738-460c-9ce8-3da824ff6871')\"\n",
              "              title=\"Convert this dataframe to an interactive table.\"\n",
              "              style=\"display:none;\">\n",
              "        \n",
              "  <svg xmlns=\"http://www.w3.org/2000/svg\" height=\"24px\"viewBox=\"0 0 24 24\"\n",
              "       width=\"24px\">\n",
              "    <path d=\"M0 0h24v24H0V0z\" fill=\"none\"/>\n",
              "    <path d=\"M18.56 5.44l.94 2.06.94-2.06 2.06-.94-2.06-.94-.94-2.06-.94 2.06-2.06.94zm-11 1L8.5 8.5l.94-2.06 2.06-.94-2.06-.94L8.5 2.5l-.94 2.06-2.06.94zm10 10l.94 2.06.94-2.06 2.06-.94-2.06-.94-.94-2.06-.94 2.06-2.06.94z\"/><path d=\"M17.41 7.96l-1.37-1.37c-.4-.4-.92-.59-1.43-.59-.52 0-1.04.2-1.43.59L10.3 9.45l-7.72 7.72c-.78.78-.78 2.05 0 2.83L4 21.41c.39.39.9.59 1.41.59.51 0 1.02-.2 1.41-.59l7.78-7.78 2.81-2.81c.8-.78.8-2.07 0-2.86zM5.41 20L4 18.59l7.72-7.72 1.47 1.35L5.41 20z\"/>\n",
              "  </svg>\n",
              "      </button>\n",
              "      \n",
              "  <style>\n",
              "    .colab-df-container {\n",
              "      display:flex;\n",
              "      flex-wrap:wrap;\n",
              "      gap: 12px;\n",
              "    }\n",
              "\n",
              "    .colab-df-convert {\n",
              "      background-color: #E8F0FE;\n",
              "      border: none;\n",
              "      border-radius: 50%;\n",
              "      cursor: pointer;\n",
              "      display: none;\n",
              "      fill: #1967D2;\n",
              "      height: 32px;\n",
              "      padding: 0 0 0 0;\n",
              "      width: 32px;\n",
              "    }\n",
              "\n",
              "    .colab-df-convert:hover {\n",
              "      background-color: #E2EBFA;\n",
              "      box-shadow: 0px 1px 2px rgba(60, 64, 67, 0.3), 0px 1px 3px 1px rgba(60, 64, 67, 0.15);\n",
              "      fill: #174EA6;\n",
              "    }\n",
              "\n",
              "    [theme=dark] .colab-df-convert {\n",
              "      background-color: #3B4455;\n",
              "      fill: #D2E3FC;\n",
              "    }\n",
              "\n",
              "    [theme=dark] .colab-df-convert:hover {\n",
              "      background-color: #434B5C;\n",
              "      box-shadow: 0px 1px 3px 1px rgba(0, 0, 0, 0.15);\n",
              "      filter: drop-shadow(0px 1px 2px rgba(0, 0, 0, 0.3));\n",
              "      fill: #FFFFFF;\n",
              "    }\n",
              "  </style>\n",
              "\n",
              "      <script>\n",
              "        const buttonEl =\n",
              "          document.querySelector('#df-60c3650d-7738-460c-9ce8-3da824ff6871 button.colab-df-convert');\n",
              "        buttonEl.style.display =\n",
              "          google.colab.kernel.accessAllowed ? 'block' : 'none';\n",
              "\n",
              "        async function convertToInteractive(key) {\n",
              "          const element = document.querySelector('#df-60c3650d-7738-460c-9ce8-3da824ff6871');\n",
              "          const dataTable =\n",
              "            await google.colab.kernel.invokeFunction('convertToInteractive',\n",
              "                                                     [key], {});\n",
              "          if (!dataTable) return;\n",
              "\n",
              "          const docLinkHtml = 'Like what you see? Visit the ' +\n",
              "            '<a target=\"_blank\" href=https://colab.research.google.com/notebooks/data_table.ipynb>data table notebook</a>'\n",
              "            + ' to learn more about interactive tables.';\n",
              "          element.innerHTML = '';\n",
              "          dataTable['output_type'] = 'display_data';\n",
              "          await google.colab.output.renderOutput(dataTable, element);\n",
              "          const docLink = document.createElement('div');\n",
              "          docLink.innerHTML = docLinkHtml;\n",
              "          element.appendChild(docLink);\n",
              "        }\n",
              "      </script>\n",
              "    </div>\n",
              "  </div>\n",
              "  "
            ]
          },
          "metadata": {},
          "execution_count": 5
        }
      ]
    },
    {
      "cell_type": "code",
      "source": [
        "df1.dtypes"
      ],
      "metadata": {
        "colab": {
          "base_uri": "https://localhost:8080/"
        },
        "id": "FpYPxCuwFpbF",
        "outputId": "c4c7744f-b6dc-4816-b777-4f350bda1d6f"
      },
      "execution_count": 6,
      "outputs": [
        {
          "output_type": "execute_result",
          "data": {
            "text/plain": [
              "CreditScore          int64\n",
              "Geography           object\n",
              "Gender              object\n",
              "Age                  int64\n",
              "Tenure               int64\n",
              "Balance            float64\n",
              "NumOfProducts        int64\n",
              "HasCrCard            int64\n",
              "IsActiveMember       int64\n",
              "EstimatedSalary    float64\n",
              "Exited               int64\n",
              "dtype: object"
            ]
          },
          "metadata": {},
          "execution_count": 6
        }
      ]
    },
    {
      "cell_type": "code",
      "source": [
        "df1.isnull().sum()"
      ],
      "metadata": {
        "colab": {
          "base_uri": "https://localhost:8080/"
        },
        "id": "rGxkRmwyFwmt",
        "outputId": "5338b2a8-5f7d-492a-9db1-7af7ece40ff2"
      },
      "execution_count": 7,
      "outputs": [
        {
          "output_type": "execute_result",
          "data": {
            "text/plain": [
              "CreditScore        0\n",
              "Geography          0\n",
              "Gender             0\n",
              "Age                0\n",
              "Tenure             0\n",
              "Balance            0\n",
              "NumOfProducts      0\n",
              "HasCrCard          0\n",
              "IsActiveMember     0\n",
              "EstimatedSalary    0\n",
              "Exited             0\n",
              "dtype: int64"
            ]
          },
          "metadata": {},
          "execution_count": 7
        }
      ]
    },
    {
      "cell_type": "code",
      "source": [
        "from sklearn.preprocessing import MinMaxScaler\n",
        "\n",
        "scaler=MinMaxScaler()\n",
        "\n",
        "cols_to_scale=['CreditScore','Age','Tenure','Balance','NumOfProducts','EstimatedSalary']\n",
        "\n",
        "df1[cols_to_scale]=scaler.fit_transform(df1[cols_to_scale])"
      ],
      "metadata": {
        "id": "2Ogh3V3XEyoF"
      },
      "execution_count": 8,
      "outputs": []
    },
    {
      "cell_type": "code",
      "source": [
        "def get_unique(df):\n",
        "    for cols in df.columns:\n",
        "        print(f'{cols} : {df[cols].unique()}\\n')"
      ],
      "metadata": {
        "id": "a_dyCkzHFkmn"
      },
      "execution_count": 9,
      "outputs": []
    },
    {
      "cell_type": "code",
      "source": [
        "get_unique(df1)"
      ],
      "metadata": {
        "colab": {
          "base_uri": "https://localhost:8080/"
        },
        "id": "ZdX-7UDUGiEE",
        "outputId": "45aae066-0826-45a5-e6f4-e957fd737740"
      },
      "execution_count": 10,
      "outputs": [
        {
          "output_type": "stream",
          "name": "stdout",
          "text": [
            "CreditScore : [0.538 0.516 0.304 0.698 1.    0.59  0.944 0.052 0.302 0.668 0.356 0.294\n",
            " 0.252 0.398 0.57  0.532 0.606 0.474 0.752 0.764 0.572 0.32  0.638 0.992\n",
            " 0.454 0.812 0.442 0.448 0.122 0.482 0.366 0.406 0.34  0.744 0.25  0.28\n",
            " 0.908 0.464 0.244 0.23  0.412 0.968 0.62  0.852 0.958 0.574 0.4   0.696\n",
            " 0.47  0.876 0.61  0.502 0.612 0.75  0.322 0.528 0.784 0.674 0.41  0.506\n",
            " 0.802 0.462 0.77  0.622 0.65  0.776 0.926 0.614 0.508 0.338 0.628 0.656\n",
            " 0.814 0.132 0.63  0.854 0.386 0.312 0.286 0.604 0.8   0.758 0.592 0.594\n",
            " 0.916 0.348 0.838 0.76  0.33  0.846 0.928 0.72  0.126 0.546 0.64  0.544\n",
            " 0.87  0.51  0.258 0.67  0.376 0.424 0.742 0.556 0.636 0.956 0.648 0.55\n",
            " 0.164 0.84  0.816 0.89  0.672 0.878 0.478 0.222 0.468 0.458 0.626 0.664\n",
            " 0.886 0.682 0.27  0.6   0.808 0.37  0.732 0.378 0.712 0.472 0.562 0.734\n",
            " 0.9   0.666 0.708 0.53  0.634 0.268 0.26  0.456 0.324 0.512 0.494 0.856\n",
            " 0.328 0.35  0.73  0.46  0.914 0.342 0.818 0.332 0.722 0.536 0.586 0.642\n",
            " 0.678 0.54  0.652 0.444 0.69  0.484 0.434 0.688 0.394 0.488 0.646 0.52\n",
            " 0.834 0.826 0.724 0.706 0.624 0.618 0.346 0.844 0.39  0.568 0.778 0.842\n",
            " 0.662 0.388 0.692 0.832 0.754 0.686 0.414 0.362 0.296 0.602 0.882 0.766\n",
            " 0.922 0.714 0.728 0.864 0.85  0.898 0.504 0.788 0.476 0.794 0.466 0.554\n",
            " 0.762 0.558 0.176 0.584 0.912 0.248 0.418 0.158 0.66  0.798 0.768 0.588\n",
            " 0.552 0.598 0.91  0.736 0.98  0.56  0.608 0.824 0.436 0.526 0.344 0.774\n",
            " 0.596 0.186 0.58  0.38  0.22  0.486 0.902 0.522 0.904 0.79  0.266 0.68\n",
            " 0.284 0.718 0.71  0.42  0.804 0.702 0.374 0.274 0.492 0.704 0.272 0.748\n",
            " 0.396 0.228 0.88  0.368 0.796 0.288 0.48  0.236 0.318 0.936 0.932 0.372\n",
            " 0.806 0.848 0.542 0.438 0.616 0.896 0.582 0.384 0.684 0.578 0.83  0.44\n",
            " 0.576 0.498 0.564 0.858 0.354 0.428 0.966 0.308 0.984 0.316 0.134 0.496\n",
            " 0.782 0.514 0.822 0.996 0.392 0.178 0.81  0.82  0.352 0.726 0.7   0.632\n",
            " 0.432 0.29  0.676 0.524 0.254 0.154 0.978 0.938 0.74  0.218 0.306 0.548\n",
            " 0.358 0.426 0.264 0.892 0.19  0.792 0.872 0.408 0.644 0.874 0.298 0.988\n",
            " 0.2   0.93  0.976 0.906 0.772 0.566 0.5   0.658 0.334 0.884 0.786 0.276\n",
            " 0.142 0.982 0.716 0.314 0.31  0.212 0.17  0.422 0.336 0.43  0.756 0.868\n",
            " 0.404 0.518 0.828 0.694 0.746 0.402 0.188 0.738 0.292 0.382 0.96  0.924\n",
            " 0.654 0.14  0.49  0.534 0.918 0.3   0.952 0.168 0.326 0.256 0.894 0.026\n",
            " 0.098 0.226 0.86  0.204 0.45  0.974 0.888 0.948 0.156 0.946 0.862 0.998\n",
            " 0.278 0.162 0.214 0.836 0.962 0.018 0.94  0.446 0.452 0.416 0.934 0.198\n",
            " 0.18  0.13  0.942 0.36  0.    0.192 0.15  0.78  0.262 0.866 0.016 0.99\n",
            " 0.202 0.216 0.238 0.146 0.108 0.972 0.246 0.97  0.232 0.282 0.002 0.954\n",
            " 0.986 0.03  0.364 0.128 0.206 0.242 0.102 0.92  0.964 0.24  0.194 0.144\n",
            " 0.95  0.16  0.172 0.152 0.116 0.994 0.136 0.174 0.12  0.208 0.114 0.21\n",
            " 0.224 0.072 0.11  0.066 0.09  0.234 0.166 0.184 0.148 0.196 0.182 0.034\n",
            " 0.124 0.064 0.046 0.138]\n",
            "\n",
            "Geography : ['France' 'Spain' 'Germany']\n",
            "\n",
            "Gender : ['Female' 'Male']\n",
            "\n",
            "Age : [0.32432432 0.31081081 0.28378378 0.33783784 0.35135135 0.43243243\n",
            " 0.14864865 0.12162162 0.17567568 0.08108108 0.21621622 0.09459459\n",
            " 0.22972973 0.36486486 0.54054054 0.18918919 0.27027027 0.37837838\n",
            " 0.24324324 0.2027027  0.2972973  0.44594595 0.58108108 0.41891892\n",
            " 0.25675676 0.01351351 0.64864865 0.51351351 0.10810811 0.04054054\n",
            " 0.5        0.77027027 0.05405405 0.16216216 0.13513514 0.63513514\n",
            " 0.40540541 0.45945946 0.52702703 0.74324324 0.39189189 0.48648649\n",
            " 0.72972973 0.02702703 0.66216216 0.82432432 0.59459459 0.47297297\n",
            " 0.83783784 0.55405405 0.67567568 0.06756757 0.56756757 0.7027027\n",
            " 0.60810811 0.62162162 0.         0.86486486 0.68918919 0.75675676\n",
            " 0.71621622 0.78378378 0.7972973  0.94594595 0.90540541 0.89189189\n",
            " 0.81081081 0.85135135 1.         0.87837838]\n",
            "\n",
            "Tenure : [0.2 0.1 0.8 0.7 0.4 0.6 0.3 1.  0.5 0.9 0. ]\n",
            "\n",
            "Balance : [0.         0.33403148 0.63635718 ... 0.22865702 0.29922631 0.51870777]\n",
            "\n",
            "NumOfProducts : [0.         0.66666667 0.33333333 1.        ]\n",
            "\n",
            "HasCrCard : [1 0]\n",
            "\n",
            "IsActiveMember : [1 0]\n",
            "\n",
            "EstimatedSalary : [0.50673489 0.56270874 0.56965435 ... 0.21039009 0.46442905 0.19091423]\n",
            "\n",
            "Exited : [1 0]\n",
            "\n"
          ]
        }
      ]
    },
    {
      "cell_type": "code",
      "source": [
        "df2=pd.get_dummies(data=df1,columns=['Geography','Gender'])"
      ],
      "metadata": {
        "id": "4aHoKRdOGkVk"
      },
      "execution_count": 11,
      "outputs": []
    },
    {
      "cell_type": "code",
      "source": [
        "get_unique(df2)"
      ],
      "metadata": {
        "colab": {
          "base_uri": "https://localhost:8080/"
        },
        "id": "viB3_m7JG8y9",
        "outputId": "7e47741b-428f-4c2d-d4c3-1c3a3e97a429"
      },
      "execution_count": 12,
      "outputs": [
        {
          "output_type": "stream",
          "name": "stdout",
          "text": [
            "CreditScore : [0.538 0.516 0.304 0.698 1.    0.59  0.944 0.052 0.302 0.668 0.356 0.294\n",
            " 0.252 0.398 0.57  0.532 0.606 0.474 0.752 0.764 0.572 0.32  0.638 0.992\n",
            " 0.454 0.812 0.442 0.448 0.122 0.482 0.366 0.406 0.34  0.744 0.25  0.28\n",
            " 0.908 0.464 0.244 0.23  0.412 0.968 0.62  0.852 0.958 0.574 0.4   0.696\n",
            " 0.47  0.876 0.61  0.502 0.612 0.75  0.322 0.528 0.784 0.674 0.41  0.506\n",
            " 0.802 0.462 0.77  0.622 0.65  0.776 0.926 0.614 0.508 0.338 0.628 0.656\n",
            " 0.814 0.132 0.63  0.854 0.386 0.312 0.286 0.604 0.8   0.758 0.592 0.594\n",
            " 0.916 0.348 0.838 0.76  0.33  0.846 0.928 0.72  0.126 0.546 0.64  0.544\n",
            " 0.87  0.51  0.258 0.67  0.376 0.424 0.742 0.556 0.636 0.956 0.648 0.55\n",
            " 0.164 0.84  0.816 0.89  0.672 0.878 0.478 0.222 0.468 0.458 0.626 0.664\n",
            " 0.886 0.682 0.27  0.6   0.808 0.37  0.732 0.378 0.712 0.472 0.562 0.734\n",
            " 0.9   0.666 0.708 0.53  0.634 0.268 0.26  0.456 0.324 0.512 0.494 0.856\n",
            " 0.328 0.35  0.73  0.46  0.914 0.342 0.818 0.332 0.722 0.536 0.586 0.642\n",
            " 0.678 0.54  0.652 0.444 0.69  0.484 0.434 0.688 0.394 0.488 0.646 0.52\n",
            " 0.834 0.826 0.724 0.706 0.624 0.618 0.346 0.844 0.39  0.568 0.778 0.842\n",
            " 0.662 0.388 0.692 0.832 0.754 0.686 0.414 0.362 0.296 0.602 0.882 0.766\n",
            " 0.922 0.714 0.728 0.864 0.85  0.898 0.504 0.788 0.476 0.794 0.466 0.554\n",
            " 0.762 0.558 0.176 0.584 0.912 0.248 0.418 0.158 0.66  0.798 0.768 0.588\n",
            " 0.552 0.598 0.91  0.736 0.98  0.56  0.608 0.824 0.436 0.526 0.344 0.774\n",
            " 0.596 0.186 0.58  0.38  0.22  0.486 0.902 0.522 0.904 0.79  0.266 0.68\n",
            " 0.284 0.718 0.71  0.42  0.804 0.702 0.374 0.274 0.492 0.704 0.272 0.748\n",
            " 0.396 0.228 0.88  0.368 0.796 0.288 0.48  0.236 0.318 0.936 0.932 0.372\n",
            " 0.806 0.848 0.542 0.438 0.616 0.896 0.582 0.384 0.684 0.578 0.83  0.44\n",
            " 0.576 0.498 0.564 0.858 0.354 0.428 0.966 0.308 0.984 0.316 0.134 0.496\n",
            " 0.782 0.514 0.822 0.996 0.392 0.178 0.81  0.82  0.352 0.726 0.7   0.632\n",
            " 0.432 0.29  0.676 0.524 0.254 0.154 0.978 0.938 0.74  0.218 0.306 0.548\n",
            " 0.358 0.426 0.264 0.892 0.19  0.792 0.872 0.408 0.644 0.874 0.298 0.988\n",
            " 0.2   0.93  0.976 0.906 0.772 0.566 0.5   0.658 0.334 0.884 0.786 0.276\n",
            " 0.142 0.982 0.716 0.314 0.31  0.212 0.17  0.422 0.336 0.43  0.756 0.868\n",
            " 0.404 0.518 0.828 0.694 0.746 0.402 0.188 0.738 0.292 0.382 0.96  0.924\n",
            " 0.654 0.14  0.49  0.534 0.918 0.3   0.952 0.168 0.326 0.256 0.894 0.026\n",
            " 0.098 0.226 0.86  0.204 0.45  0.974 0.888 0.948 0.156 0.946 0.862 0.998\n",
            " 0.278 0.162 0.214 0.836 0.962 0.018 0.94  0.446 0.452 0.416 0.934 0.198\n",
            " 0.18  0.13  0.942 0.36  0.    0.192 0.15  0.78  0.262 0.866 0.016 0.99\n",
            " 0.202 0.216 0.238 0.146 0.108 0.972 0.246 0.97  0.232 0.282 0.002 0.954\n",
            " 0.986 0.03  0.364 0.128 0.206 0.242 0.102 0.92  0.964 0.24  0.194 0.144\n",
            " 0.95  0.16  0.172 0.152 0.116 0.994 0.136 0.174 0.12  0.208 0.114 0.21\n",
            " 0.224 0.072 0.11  0.066 0.09  0.234 0.166 0.184 0.148 0.196 0.182 0.034\n",
            " 0.124 0.064 0.046 0.138]\n",
            "\n",
            "Age : [0.32432432 0.31081081 0.28378378 0.33783784 0.35135135 0.43243243\n",
            " 0.14864865 0.12162162 0.17567568 0.08108108 0.21621622 0.09459459\n",
            " 0.22972973 0.36486486 0.54054054 0.18918919 0.27027027 0.37837838\n",
            " 0.24324324 0.2027027  0.2972973  0.44594595 0.58108108 0.41891892\n",
            " 0.25675676 0.01351351 0.64864865 0.51351351 0.10810811 0.04054054\n",
            " 0.5        0.77027027 0.05405405 0.16216216 0.13513514 0.63513514\n",
            " 0.40540541 0.45945946 0.52702703 0.74324324 0.39189189 0.48648649\n",
            " 0.72972973 0.02702703 0.66216216 0.82432432 0.59459459 0.47297297\n",
            " 0.83783784 0.55405405 0.67567568 0.06756757 0.56756757 0.7027027\n",
            " 0.60810811 0.62162162 0.         0.86486486 0.68918919 0.75675676\n",
            " 0.71621622 0.78378378 0.7972973  0.94594595 0.90540541 0.89189189\n",
            " 0.81081081 0.85135135 1.         0.87837838]\n",
            "\n",
            "Tenure : [0.2 0.1 0.8 0.7 0.4 0.6 0.3 1.  0.5 0.9 0. ]\n",
            "\n",
            "Balance : [0.         0.33403148 0.63635718 ... 0.22865702 0.29922631 0.51870777]\n",
            "\n",
            "NumOfProducts : [0.         0.66666667 0.33333333 1.        ]\n",
            "\n",
            "HasCrCard : [1 0]\n",
            "\n",
            "IsActiveMember : [1 0]\n",
            "\n",
            "EstimatedSalary : [0.50673489 0.56270874 0.56965435 ... 0.21039009 0.46442905 0.19091423]\n",
            "\n",
            "Exited : [1 0]\n",
            "\n",
            "Geography_France : [1 0]\n",
            "\n",
            "Geography_Germany : [0 1]\n",
            "\n",
            "Geography_Spain : [0 1]\n",
            "\n",
            "Gender_Female : [1 0]\n",
            "\n",
            "Gender_Male : [0 1]\n",
            "\n"
          ]
        }
      ]
    },
    {
      "cell_type": "code",
      "source": [
        "df2['Exited'].value_counts()"
      ],
      "metadata": {
        "colab": {
          "base_uri": "https://localhost:8080/"
        },
        "id": "I7IM26NcIXFM",
        "outputId": "495b95bc-aadc-40f3-8e28-d21ee6a5e175"
      },
      "execution_count": 13,
      "outputs": [
        {
          "output_type": "execute_result",
          "data": {
            "text/plain": [
              "0    7963\n",
              "1    2037\n",
              "Name: Exited, dtype: int64"
            ]
          },
          "metadata": {},
          "execution_count": 13
        }
      ]
    },
    {
      "cell_type": "code",
      "source": [
        "from sklearn.model_selection import train_test_split\n",
        "\n",
        "X_train, X_test, y_train, y_test=train_test_split(df2.drop('Exited',axis='columns'),df2['Exited'],train_size=0.9,stratify=df2['Exited'])"
      ],
      "metadata": {
        "id": "QIiPptTzG_W9"
      },
      "execution_count": 14,
      "outputs": []
    },
    {
      "cell_type": "code",
      "source": [
        "X_train.shape,y_test.shape"
      ],
      "metadata": {
        "colab": {
          "base_uri": "https://localhost:8080/"
        },
        "id": "dz9Prl5bHdkA",
        "outputId": "155520c5-5932-4514-fac1-33e1464c0279"
      },
      "execution_count": 15,
      "outputs": [
        {
          "output_type": "execute_result",
          "data": {
            "text/plain": [
              "((9000, 13), (1000,))"
            ]
          },
          "metadata": {},
          "execution_count": 15
        }
      ]
    },
    {
      "cell_type": "code",
      "source": [
        "y_train.value_counts()"
      ],
      "metadata": {
        "colab": {
          "base_uri": "https://localhost:8080/"
        },
        "id": "m-VVS_EzHoT8",
        "outputId": "65664b76-9f8f-4260-d548-2dd9dc4fde22"
      },
      "execution_count": 16,
      "outputs": [
        {
          "output_type": "execute_result",
          "data": {
            "text/plain": [
              "0    7167\n",
              "1    1833\n",
              "Name: Exited, dtype: int64"
            ]
          },
          "metadata": {},
          "execution_count": 16
        }
      ]
    },
    {
      "cell_type": "code",
      "source": [
        "import tensorflow as tf\n",
        "from tensorflow import keras\n",
        "\n",
        "model=tf.keras.Sequential([\n",
        "    keras.layers.Dense(13,input_dim=13,activation='relu'),\n",
        "    keras.layers.Dense(6,activation='relu'),\n",
        "    keras.layers.Dense(3,activation='relu'),\n",
        "    keras.layers.Dense(1,activation='sigmoid')\n",
        "])\n",
        "\n",
        "model.compile(\n",
        "    loss='binary_crossentropy',\n",
        "    metrics=['accuracy'],\n",
        "    optimizer='adam'\n",
        ")\n",
        "\n",
        "model.fit(X_train,y_train,epochs=100)"
      ],
      "metadata": {
        "colab": {
          "base_uri": "https://localhost:8080/"
        },
        "id": "BNuUeJMsHx7M",
        "outputId": "d2dde5a4-4023-4dec-a265-512bc65c81be"
      },
      "execution_count": 17,
      "outputs": [
        {
          "output_type": "stream",
          "name": "stdout",
          "text": [
            "Epoch 1/100\n",
            "282/282 [==============================] - 4s 3ms/step - loss: 0.5380 - accuracy: 0.7646\n",
            "Epoch 2/100\n",
            "282/282 [==============================] - 1s 3ms/step - loss: 0.4742 - accuracy: 0.7961\n",
            "Epoch 3/100\n",
            "282/282 [==============================] - 1s 3ms/step - loss: 0.4627 - accuracy: 0.7963\n",
            "Epoch 4/100\n",
            "282/282 [==============================] - 1s 3ms/step - loss: 0.4529 - accuracy: 0.7963\n",
            "Epoch 5/100\n",
            "282/282 [==============================] - 1s 3ms/step - loss: 0.4439 - accuracy: 0.7984\n",
            "Epoch 6/100\n",
            "282/282 [==============================] - 1s 3ms/step - loss: 0.4334 - accuracy: 0.8101\n",
            "Epoch 7/100\n",
            "282/282 [==============================] - 1s 3ms/step - loss: 0.4249 - accuracy: 0.8152\n",
            "Epoch 8/100\n",
            "282/282 [==============================] - 1s 3ms/step - loss: 0.4191 - accuracy: 0.8180\n",
            "Epoch 9/100\n",
            "282/282 [==============================] - 1s 3ms/step - loss: 0.4131 - accuracy: 0.8196\n",
            "Epoch 10/100\n",
            "282/282 [==============================] - 1s 3ms/step - loss: 0.4094 - accuracy: 0.8226\n",
            "Epoch 11/100\n",
            "282/282 [==============================] - 1s 3ms/step - loss: 0.4043 - accuracy: 0.8249\n",
            "Epoch 12/100\n",
            "282/282 [==============================] - 1s 3ms/step - loss: 0.3998 - accuracy: 0.8286\n",
            "Epoch 13/100\n",
            "282/282 [==============================] - 1s 3ms/step - loss: 0.3961 - accuracy: 0.8276\n",
            "Epoch 14/100\n",
            "282/282 [==============================] - 1s 3ms/step - loss: 0.3908 - accuracy: 0.8316\n",
            "Epoch 15/100\n",
            "282/282 [==============================] - 1s 3ms/step - loss: 0.3863 - accuracy: 0.8349\n",
            "Epoch 16/100\n",
            "282/282 [==============================] - 1s 3ms/step - loss: 0.3820 - accuracy: 0.8359\n",
            "Epoch 17/100\n",
            "282/282 [==============================] - 1s 3ms/step - loss: 0.3782 - accuracy: 0.8384\n",
            "Epoch 18/100\n",
            "282/282 [==============================] - 1s 3ms/step - loss: 0.3752 - accuracy: 0.8407\n",
            "Epoch 19/100\n",
            "282/282 [==============================] - 1s 3ms/step - loss: 0.3709 - accuracy: 0.8447\n",
            "Epoch 20/100\n",
            "282/282 [==============================] - 1s 3ms/step - loss: 0.3672 - accuracy: 0.8461\n",
            "Epoch 21/100\n",
            "282/282 [==============================] - 1s 3ms/step - loss: 0.3639 - accuracy: 0.8473\n",
            "Epoch 22/100\n",
            "282/282 [==============================] - 1s 5ms/step - loss: 0.3619 - accuracy: 0.8493\n",
            "Epoch 23/100\n",
            "282/282 [==============================] - 1s 4ms/step - loss: 0.3593 - accuracy: 0.8500\n",
            "Epoch 24/100\n",
            "282/282 [==============================] - 1s 5ms/step - loss: 0.3585 - accuracy: 0.8499\n",
            "Epoch 25/100\n",
            "282/282 [==============================] - 2s 6ms/step - loss: 0.3560 - accuracy: 0.8526\n",
            "Epoch 26/100\n",
            "282/282 [==============================] - 2s 5ms/step - loss: 0.3548 - accuracy: 0.8517\n",
            "Epoch 27/100\n",
            "282/282 [==============================] - 1s 5ms/step - loss: 0.3540 - accuracy: 0.8538\n",
            "Epoch 28/100\n",
            "282/282 [==============================] - 1s 5ms/step - loss: 0.3512 - accuracy: 0.8563\n",
            "Epoch 29/100\n",
            "282/282 [==============================] - 2s 5ms/step - loss: 0.3507 - accuracy: 0.8554\n",
            "Epoch 30/100\n",
            "282/282 [==============================] - 2s 6ms/step - loss: 0.3492 - accuracy: 0.8560\n",
            "Epoch 31/100\n",
            "282/282 [==============================] - 1s 4ms/step - loss: 0.3493 - accuracy: 0.8544\n",
            "Epoch 32/100\n",
            "282/282 [==============================] - 1s 5ms/step - loss: 0.3478 - accuracy: 0.8577\n",
            "Epoch 33/100\n",
            "282/282 [==============================] - 1s 5ms/step - loss: 0.3459 - accuracy: 0.8593\n",
            "Epoch 34/100\n",
            "282/282 [==============================] - 2s 5ms/step - loss: 0.3455 - accuracy: 0.8586\n",
            "Epoch 35/100\n",
            "282/282 [==============================] - 1s 5ms/step - loss: 0.3452 - accuracy: 0.8579\n",
            "Epoch 36/100\n",
            "282/282 [==============================] - 1s 5ms/step - loss: 0.3441 - accuracy: 0.8586\n",
            "Epoch 37/100\n",
            "282/282 [==============================] - 1s 5ms/step - loss: 0.3456 - accuracy: 0.8576\n",
            "Epoch 38/100\n",
            "282/282 [==============================] - 1s 5ms/step - loss: 0.3428 - accuracy: 0.8613\n",
            "Epoch 39/100\n",
            "282/282 [==============================] - 2s 6ms/step - loss: 0.3427 - accuracy: 0.8597\n",
            "Epoch 40/100\n",
            "282/282 [==============================] - 1s 4ms/step - loss: 0.3425 - accuracy: 0.8600\n",
            "Epoch 41/100\n",
            "282/282 [==============================] - 1s 3ms/step - loss: 0.3417 - accuracy: 0.8601\n",
            "Epoch 42/100\n",
            "282/282 [==============================] - 2s 6ms/step - loss: 0.3423 - accuracy: 0.8574\n",
            "Epoch 43/100\n",
            "282/282 [==============================] - 2s 7ms/step - loss: 0.3397 - accuracy: 0.8589\n",
            "Epoch 44/100\n",
            "282/282 [==============================] - 2s 6ms/step - loss: 0.3393 - accuracy: 0.8604\n",
            "Epoch 45/100\n",
            "282/282 [==============================] - 1s 5ms/step - loss: 0.3403 - accuracy: 0.8603\n",
            "Epoch 46/100\n",
            "282/282 [==============================] - 1s 3ms/step - loss: 0.3395 - accuracy: 0.8597\n",
            "Epoch 47/100\n",
            "282/282 [==============================] - 1s 3ms/step - loss: 0.3394 - accuracy: 0.8607\n",
            "Epoch 48/100\n",
            "282/282 [==============================] - 1s 3ms/step - loss: 0.3382 - accuracy: 0.8610\n",
            "Epoch 49/100\n",
            "282/282 [==============================] - 1s 3ms/step - loss: 0.3399 - accuracy: 0.8607\n",
            "Epoch 50/100\n",
            "282/282 [==============================] - 1s 3ms/step - loss: 0.3400 - accuracy: 0.8582\n",
            "Epoch 51/100\n",
            "282/282 [==============================] - 2s 5ms/step - loss: 0.3392 - accuracy: 0.8623\n",
            "Epoch 52/100\n",
            "282/282 [==============================] - 1s 5ms/step - loss: 0.3378 - accuracy: 0.8638\n",
            "Epoch 53/100\n",
            "282/282 [==============================] - 1s 5ms/step - loss: 0.3383 - accuracy: 0.8613\n",
            "Epoch 54/100\n",
            "282/282 [==============================] - 1s 3ms/step - loss: 0.3371 - accuracy: 0.8611\n",
            "Epoch 55/100\n",
            "282/282 [==============================] - 1s 4ms/step - loss: 0.3372 - accuracy: 0.8633\n",
            "Epoch 56/100\n",
            "282/282 [==============================] - 1s 5ms/step - loss: 0.3370 - accuracy: 0.8627\n",
            "Epoch 57/100\n",
            "282/282 [==============================] - 2s 8ms/step - loss: 0.3377 - accuracy: 0.8606\n",
            "Epoch 58/100\n",
            "282/282 [==============================] - 2s 7ms/step - loss: 0.3362 - accuracy: 0.8598\n",
            "Epoch 59/100\n",
            "282/282 [==============================] - 1s 4ms/step - loss: 0.3357 - accuracy: 0.8624\n",
            "Epoch 60/100\n",
            "282/282 [==============================] - 1s 4ms/step - loss: 0.3357 - accuracy: 0.8621\n",
            "Epoch 61/100\n",
            "282/282 [==============================] - 1s 4ms/step - loss: 0.3351 - accuracy: 0.8630\n",
            "Epoch 62/100\n",
            "282/282 [==============================] - 1s 5ms/step - loss: 0.3348 - accuracy: 0.8630\n",
            "Epoch 63/100\n",
            "282/282 [==============================] - 1s 3ms/step - loss: 0.3347 - accuracy: 0.8650\n",
            "Epoch 64/100\n",
            "282/282 [==============================] - 1s 4ms/step - loss: 0.3356 - accuracy: 0.8621\n",
            "Epoch 65/100\n",
            "282/282 [==============================] - 1s 4ms/step - loss: 0.3351 - accuracy: 0.8622\n",
            "Epoch 66/100\n",
            "282/282 [==============================] - 1s 4ms/step - loss: 0.3349 - accuracy: 0.8604\n",
            "Epoch 67/100\n",
            "282/282 [==============================] - 2s 6ms/step - loss: 0.3339 - accuracy: 0.8644\n",
            "Epoch 68/100\n",
            "282/282 [==============================] - 2s 6ms/step - loss: 0.3332 - accuracy: 0.8646\n",
            "Epoch 69/100\n",
            "282/282 [==============================] - 2s 6ms/step - loss: 0.3343 - accuracy: 0.8640\n",
            "Epoch 70/100\n",
            "282/282 [==============================] - 2s 6ms/step - loss: 0.3331 - accuracy: 0.8634\n",
            "Epoch 71/100\n",
            "282/282 [==============================] - 1s 5ms/step - loss: 0.3352 - accuracy: 0.8628\n",
            "Epoch 72/100\n",
            "282/282 [==============================] - 1s 4ms/step - loss: 0.3341 - accuracy: 0.8631\n",
            "Epoch 73/100\n",
            "282/282 [==============================] - 1s 3ms/step - loss: 0.3330 - accuracy: 0.8646\n",
            "Epoch 74/100\n",
            "282/282 [==============================] - 1s 3ms/step - loss: 0.3339 - accuracy: 0.8630\n",
            "Epoch 75/100\n",
            "282/282 [==============================] - 1s 5ms/step - loss: 0.3331 - accuracy: 0.8630\n",
            "Epoch 76/100\n",
            "282/282 [==============================] - 2s 6ms/step - loss: 0.3330 - accuracy: 0.8632\n",
            "Epoch 77/100\n",
            "282/282 [==============================] - 2s 5ms/step - loss: 0.3325 - accuracy: 0.8620\n",
            "Epoch 78/100\n",
            "282/282 [==============================] - 2s 7ms/step - loss: 0.3332 - accuracy: 0.8632\n",
            "Epoch 79/100\n",
            "282/282 [==============================] - 2s 6ms/step - loss: 0.3323 - accuracy: 0.8656\n",
            "Epoch 80/100\n",
            "282/282 [==============================] - 1s 4ms/step - loss: 0.3320 - accuracy: 0.8638\n",
            "Epoch 81/100\n",
            "282/282 [==============================] - 1s 3ms/step - loss: 0.3316 - accuracy: 0.8651\n",
            "Epoch 82/100\n",
            "282/282 [==============================] - 1s 3ms/step - loss: 0.3317 - accuracy: 0.8650\n",
            "Epoch 83/100\n",
            "282/282 [==============================] - 1s 3ms/step - loss: 0.3323 - accuracy: 0.8646\n",
            "Epoch 84/100\n",
            "282/282 [==============================] - 1s 3ms/step - loss: 0.3316 - accuracy: 0.8646\n",
            "Epoch 85/100\n",
            "282/282 [==============================] - 1s 3ms/step - loss: 0.3321 - accuracy: 0.8633\n",
            "Epoch 86/100\n",
            "282/282 [==============================] - 1s 3ms/step - loss: 0.3320 - accuracy: 0.8638\n",
            "Epoch 87/100\n",
            "282/282 [==============================] - 1s 3ms/step - loss: 0.3315 - accuracy: 0.8644\n",
            "Epoch 88/100\n",
            "282/282 [==============================] - 1s 3ms/step - loss: 0.3313 - accuracy: 0.8652\n",
            "Epoch 89/100\n",
            "282/282 [==============================] - 1s 3ms/step - loss: 0.3311 - accuracy: 0.8668\n",
            "Epoch 90/100\n",
            "282/282 [==============================] - 1s 3ms/step - loss: 0.3308 - accuracy: 0.8678\n",
            "Epoch 91/100\n",
            "282/282 [==============================] - 1s 3ms/step - loss: 0.3302 - accuracy: 0.8678\n",
            "Epoch 92/100\n",
            "282/282 [==============================] - 1s 3ms/step - loss: 0.3317 - accuracy: 0.8654\n",
            "Epoch 93/100\n",
            "282/282 [==============================] - 1s 3ms/step - loss: 0.3316 - accuracy: 0.8636\n",
            "Epoch 94/100\n",
            "282/282 [==============================] - 1s 3ms/step - loss: 0.3311 - accuracy: 0.8656\n",
            "Epoch 95/100\n",
            "282/282 [==============================] - 1s 3ms/step - loss: 0.3328 - accuracy: 0.8658\n",
            "Epoch 96/100\n",
            "282/282 [==============================] - 1s 3ms/step - loss: 0.3306 - accuracy: 0.8660\n",
            "Epoch 97/100\n",
            "282/282 [==============================] - 1s 3ms/step - loss: 0.3311 - accuracy: 0.8669\n",
            "Epoch 98/100\n",
            "282/282 [==============================] - 1s 3ms/step - loss: 0.3306 - accuracy: 0.8664\n",
            "Epoch 99/100\n",
            "282/282 [==============================] - 1s 3ms/step - loss: 0.3309 - accuracy: 0.8663\n",
            "Epoch 100/100\n",
            "282/282 [==============================] - 1s 3ms/step - loss: 0.3299 - accuracy: 0.8666\n"
          ]
        },
        {
          "output_type": "execute_result",
          "data": {
            "text/plain": [
              "<keras.callbacks.History at 0x7fd1a047d890>"
            ]
          },
          "metadata": {},
          "execution_count": 17
        }
      ]
    },
    {
      "cell_type": "code",
      "source": [
        "import numpy as np\n",
        "y_pred=model.predict(X_test)\n",
        "y_pred_final=np.round(y_pred)\n",
        "y_pred[:10]"
      ],
      "metadata": {
        "colab": {
          "base_uri": "https://localhost:8080/"
        },
        "id": "jvG3nyx-Jwm9",
        "outputId": "9a4bc88a-b4d1-4545-ec42-20470d14fb80"
      },
      "execution_count": 18,
      "outputs": [
        {
          "output_type": "stream",
          "name": "stdout",
          "text": [
            "32/32 [==============================] - 0s 2ms/step\n"
          ]
        },
        {
          "output_type": "execute_result",
          "data": {
            "text/plain": [
              "array([[0.14462002],\n",
              "       [0.10701113],\n",
              "       [0.59645486],\n",
              "       [0.09329557],\n",
              "       [0.47008845],\n",
              "       [0.00863363],\n",
              "       [0.323548  ],\n",
              "       [0.18532065],\n",
              "       [0.04172442],\n",
              "       [0.8657882 ]], dtype=float32)"
            ]
          },
          "metadata": {},
          "execution_count": 18
        }
      ]
    },
    {
      "cell_type": "code",
      "source": [
        "y_pred_final[:10]"
      ],
      "metadata": {
        "colab": {
          "base_uri": "https://localhost:8080/"
        },
        "id": "E_Qv30n0KO91",
        "outputId": "dfebb937-7302-4bbb-85b6-041711d080bf"
      },
      "execution_count": 19,
      "outputs": [
        {
          "output_type": "execute_result",
          "data": {
            "text/plain": [
              "array([[0.],\n",
              "       [0.],\n",
              "       [1.],\n",
              "       [0.],\n",
              "       [0.],\n",
              "       [0.],\n",
              "       [0.],\n",
              "       [0.],\n",
              "       [0.],\n",
              "       [1.]], dtype=float32)"
            ]
          },
          "metadata": {},
          "execution_count": 19
        }
      ]
    },
    {
      "cell_type": "code",
      "source": [
        "from sklearn.metrics import classification_report\n",
        "\n",
        "print(classification_report(y_test,y_pred_final))"
      ],
      "metadata": {
        "colab": {
          "base_uri": "https://localhost:8080/"
        },
        "id": "D_1rjtHRK6XL",
        "outputId": "ca046aa9-2077-4b9e-de5e-b05fbef87149"
      },
      "execution_count": 20,
      "outputs": [
        {
          "output_type": "stream",
          "name": "stdout",
          "text": [
            "              precision    recall  f1-score   support\n",
            "\n",
            "           0       0.87      0.97      0.92       796\n",
            "           1       0.78      0.46      0.57       204\n",
            "\n",
            "    accuracy                           0.86      1000\n",
            "   macro avg       0.82      0.71      0.75      1000\n",
            "weighted avg       0.85      0.86      0.85      1000\n",
            "\n"
          ]
        }
      ]
    },
    {
      "cell_type": "code",
      "source": [
        "def get_model(X_train,y_train,X_test,y_test):\n",
        "    model=tf.keras.Sequential([\n",
        "        keras.layers.Dense(13,input_dim=13,activation='relu'),\n",
        "        keras.layers.Dense(6,activation='relu'),\n",
        "        keras.layers.Dense(3,activation='relu'),\n",
        "        keras.layers.Dense(1,activation='sigmoid')\n",
        "    ])\n",
        "\n",
        "    model.compile(\n",
        "        loss='binary_crossentropy',\n",
        "        metrics=['accuracy'],\n",
        "        optimizer='adam'\n",
        "    )\n",
        "\n",
        "    model.fit(X_train,y_train,epochs=100)\n",
        "\n",
        "    y_pred=np.round(model.predict(X_test))\n",
        "\n",
        "    print(classification_report(y_test,y_pred))\n",
        "\n",
        "    return model"
      ],
      "metadata": {
        "id": "-sCxlqCLOiMK"
      },
      "execution_count": 21,
      "outputs": []
    },
    {
      "cell_type": "markdown",
      "source": [
        "# Method 1 : Use of Undersampling"
      ],
      "metadata": {
        "id": "KDPZAnJRL-lL"
      }
    },
    {
      "cell_type": "code",
      "source": [
        "count_class_0,count_class_1=df2['Exited'].value_counts()\n",
        "\n",
        "df_class_1=df2[df2['Exited']==1]\n",
        "df_class_0=df2[df2['Exited']==0]"
      ],
      "metadata": {
        "id": "u_Kj5DReLwek"
      },
      "execution_count": 22,
      "outputs": []
    },
    {
      "cell_type": "code",
      "source": [
        "count_class_0,count_class_1"
      ],
      "metadata": {
        "colab": {
          "base_uri": "https://localhost:8080/"
        },
        "id": "eCPyqqMOM2_T",
        "outputId": "17acd0ef-4729-4634-a2cd-48b0e9aa4a2f"
      },
      "execution_count": 23,
      "outputs": [
        {
          "output_type": "execute_result",
          "data": {
            "text/plain": [
              "(7963, 2037)"
            ]
          },
          "metadata": {},
          "execution_count": 23
        }
      ]
    },
    {
      "cell_type": "code",
      "source": [
        "df_class_0_under=df_class_0.sample(count_class_1)"
      ],
      "metadata": {
        "id": "pk-3_HEPNOrD"
      },
      "execution_count": 24,
      "outputs": []
    },
    {
      "cell_type": "code",
      "source": [
        "df_class_0_under.shape,df_class_1.shape"
      ],
      "metadata": {
        "colab": {
          "base_uri": "https://localhost:8080/"
        },
        "id": "nbNwyShyNshz",
        "outputId": "a48ca0a8-95f5-414d-86e6-b9dbb04f8699"
      },
      "execution_count": 25,
      "outputs": [
        {
          "output_type": "execute_result",
          "data": {
            "text/plain": [
              "((2037, 14), (2037, 14))"
            ]
          },
          "metadata": {},
          "execution_count": 25
        }
      ]
    },
    {
      "cell_type": "code",
      "source": [
        "dfm1=pd.concat([df_class_0_under,df_class_1],axis=0)\n",
        "\n",
        "X_train, X_test, y_train, y_test=train_test_split(dfm1.drop('Exited',axis='columns'),dfm1['Exited'],train_size=0.9,stratify=dfm1['Exited'])"
      ],
      "metadata": {
        "id": "0wUhrgRDN67i"
      },
      "execution_count": 26,
      "outputs": []
    },
    {
      "cell_type": "code",
      "source": [
        "model=get_model(X_train,y_train,X_test,y_test)"
      ],
      "metadata": {
        "colab": {
          "base_uri": "https://localhost:8080/"
        },
        "id": "eQF01h_gOTiz",
        "outputId": "eed1f700-79b1-49d7-9cf3-6ab29ea8bc5c"
      },
      "execution_count": 27,
      "outputs": [
        {
          "output_type": "stream",
          "name": "stdout",
          "text": [
            "Epoch 1/100\n",
            "115/115 [==============================] - 1s 3ms/step - loss: 0.6843 - accuracy: 0.5927\n",
            "Epoch 2/100\n",
            "115/115 [==============================] - 0s 3ms/step - loss: 0.6722 - accuracy: 0.6227\n",
            "Epoch 3/100\n",
            "115/115 [==============================] - 0s 3ms/step - loss: 0.6622 - accuracy: 0.6298\n",
            "Epoch 4/100\n",
            "115/115 [==============================] - 0s 3ms/step - loss: 0.6525 - accuracy: 0.6451\n",
            "Epoch 5/100\n",
            "115/115 [==============================] - 0s 3ms/step - loss: 0.6421 - accuracy: 0.6607\n",
            "Epoch 6/100\n",
            "115/115 [==============================] - 0s 3ms/step - loss: 0.6333 - accuracy: 0.6656\n",
            "Epoch 7/100\n",
            "115/115 [==============================] - 0s 3ms/step - loss: 0.6243 - accuracy: 0.6768\n",
            "Epoch 8/100\n",
            "115/115 [==============================] - 0s 3ms/step - loss: 0.6176 - accuracy: 0.6841\n",
            "Epoch 9/100\n",
            "115/115 [==============================] - 0s 3ms/step - loss: 0.6088 - accuracy: 0.6869\n",
            "Epoch 10/100\n",
            "115/115 [==============================] - 0s 3ms/step - loss: 0.6004 - accuracy: 0.6983\n",
            "Epoch 11/100\n",
            "115/115 [==============================] - 0s 3ms/step - loss: 0.5943 - accuracy: 0.6989\n",
            "Epoch 12/100\n",
            "115/115 [==============================] - 0s 3ms/step - loss: 0.5908 - accuracy: 0.7035\n",
            "Epoch 13/100\n",
            "115/115 [==============================] - 0s 3ms/step - loss: 0.5858 - accuracy: 0.7100\n",
            "Epoch 14/100\n",
            "115/115 [==============================] - 0s 3ms/step - loss: 0.5794 - accuracy: 0.7125\n",
            "Epoch 15/100\n",
            "115/115 [==============================] - 0s 3ms/step - loss: 0.5737 - accuracy: 0.7177\n",
            "Epoch 16/100\n",
            "115/115 [==============================] - 0s 3ms/step - loss: 0.5712 - accuracy: 0.7193\n",
            "Epoch 17/100\n",
            "115/115 [==============================] - 0s 4ms/step - loss: 0.5688 - accuracy: 0.7185\n",
            "Epoch 18/100\n",
            "115/115 [==============================] - 0s 3ms/step - loss: 0.5621 - accuracy: 0.7300\n",
            "Epoch 19/100\n",
            "115/115 [==============================] - 0s 3ms/step - loss: 0.5605 - accuracy: 0.7278\n",
            "Epoch 20/100\n",
            "115/115 [==============================] - 0s 3ms/step - loss: 0.5543 - accuracy: 0.7324\n",
            "Epoch 21/100\n",
            "115/115 [==============================] - 0s 3ms/step - loss: 0.5521 - accuracy: 0.7289\n",
            "Epoch 22/100\n",
            "115/115 [==============================] - 0s 3ms/step - loss: 0.5483 - accuracy: 0.7338\n",
            "Epoch 23/100\n",
            "115/115 [==============================] - 0s 3ms/step - loss: 0.5425 - accuracy: 0.7409\n",
            "Epoch 24/100\n",
            "115/115 [==============================] - 0s 3ms/step - loss: 0.5392 - accuracy: 0.7463\n",
            "Epoch 25/100\n",
            "115/115 [==============================] - 0s 3ms/step - loss: 0.5364 - accuracy: 0.7450\n",
            "Epoch 26/100\n",
            "115/115 [==============================] - 0s 3ms/step - loss: 0.5312 - accuracy: 0.7531\n",
            "Epoch 27/100\n",
            "115/115 [==============================] - 0s 3ms/step - loss: 0.5280 - accuracy: 0.7507\n",
            "Epoch 28/100\n",
            "115/115 [==============================] - 0s 3ms/step - loss: 0.5257 - accuracy: 0.7583\n",
            "Epoch 29/100\n",
            "115/115 [==============================] - 0s 3ms/step - loss: 0.5247 - accuracy: 0.7545\n",
            "Epoch 30/100\n",
            "115/115 [==============================] - 0s 3ms/step - loss: 0.5179 - accuracy: 0.7630\n",
            "Epoch 31/100\n",
            "115/115 [==============================] - 0s 3ms/step - loss: 0.5157 - accuracy: 0.7619\n",
            "Epoch 32/100\n",
            "115/115 [==============================] - 0s 3ms/step - loss: 0.5129 - accuracy: 0.7624\n",
            "Epoch 33/100\n",
            "115/115 [==============================] - 0s 3ms/step - loss: 0.5119 - accuracy: 0.7640\n",
            "Epoch 34/100\n",
            "115/115 [==============================] - 0s 3ms/step - loss: 0.5104 - accuracy: 0.7646\n",
            "Epoch 35/100\n",
            "115/115 [==============================] - 0s 3ms/step - loss: 0.5097 - accuracy: 0.7594\n",
            "Epoch 36/100\n",
            "115/115 [==============================] - 0s 3ms/step - loss: 0.5072 - accuracy: 0.7630\n",
            "Epoch 37/100\n",
            "115/115 [==============================] - 0s 3ms/step - loss: 0.5055 - accuracy: 0.7640\n",
            "Epoch 38/100\n",
            "115/115 [==============================] - 0s 3ms/step - loss: 0.5033 - accuracy: 0.7646\n",
            "Epoch 39/100\n",
            "115/115 [==============================] - 0s 3ms/step - loss: 0.5016 - accuracy: 0.7662\n",
            "Epoch 40/100\n",
            "115/115 [==============================] - 0s 3ms/step - loss: 0.5003 - accuracy: 0.7660\n",
            "Epoch 41/100\n",
            "115/115 [==============================] - 0s 3ms/step - loss: 0.4982 - accuracy: 0.7654\n",
            "Epoch 42/100\n",
            "115/115 [==============================] - 0s 3ms/step - loss: 0.4973 - accuracy: 0.7662\n",
            "Epoch 43/100\n",
            "115/115 [==============================] - 0s 3ms/step - loss: 0.4952 - accuracy: 0.7706\n",
            "Epoch 44/100\n",
            "115/115 [==============================] - 0s 3ms/step - loss: 0.4960 - accuracy: 0.7681\n",
            "Epoch 45/100\n",
            "115/115 [==============================] - 0s 3ms/step - loss: 0.4927 - accuracy: 0.7739\n",
            "Epoch 46/100\n",
            "115/115 [==============================] - 0s 3ms/step - loss: 0.4925 - accuracy: 0.7673\n",
            "Epoch 47/100\n",
            "115/115 [==============================] - 0s 3ms/step - loss: 0.4929 - accuracy: 0.7684\n",
            "Epoch 48/100\n",
            "115/115 [==============================] - 0s 3ms/step - loss: 0.4913 - accuracy: 0.7703\n",
            "Epoch 49/100\n",
            "115/115 [==============================] - 0s 3ms/step - loss: 0.4931 - accuracy: 0.7651\n",
            "Epoch 50/100\n",
            "115/115 [==============================] - 0s 3ms/step - loss: 0.4882 - accuracy: 0.7673\n",
            "Epoch 51/100\n",
            "115/115 [==============================] - 0s 3ms/step - loss: 0.4888 - accuracy: 0.7711\n",
            "Epoch 52/100\n",
            "115/115 [==============================] - 0s 3ms/step - loss: 0.4867 - accuracy: 0.7706\n",
            "Epoch 53/100\n",
            "115/115 [==============================] - 0s 3ms/step - loss: 0.4875 - accuracy: 0.7709\n",
            "Epoch 54/100\n",
            "115/115 [==============================] - 0s 3ms/step - loss: 0.4867 - accuracy: 0.7670\n",
            "Epoch 55/100\n",
            "115/115 [==============================] - 0s 3ms/step - loss: 0.4868 - accuracy: 0.7684\n",
            "Epoch 56/100\n",
            "115/115 [==============================] - 0s 3ms/step - loss: 0.4850 - accuracy: 0.7788\n",
            "Epoch 57/100\n",
            "115/115 [==============================] - 0s 3ms/step - loss: 0.4849 - accuracy: 0.7681\n",
            "Epoch 58/100\n",
            "115/115 [==============================] - 0s 3ms/step - loss: 0.4855 - accuracy: 0.7722\n",
            "Epoch 59/100\n",
            "115/115 [==============================] - 0s 3ms/step - loss: 0.4859 - accuracy: 0.7670\n",
            "Epoch 60/100\n",
            "115/115 [==============================] - 0s 3ms/step - loss: 0.4845 - accuracy: 0.7761\n",
            "Epoch 61/100\n",
            "115/115 [==============================] - 0s 3ms/step - loss: 0.4850 - accuracy: 0.7681\n",
            "Epoch 62/100\n",
            "115/115 [==============================] - 0s 3ms/step - loss: 0.4844 - accuracy: 0.7736\n",
            "Epoch 63/100\n",
            "115/115 [==============================] - 0s 3ms/step - loss: 0.4832 - accuracy: 0.7687\n",
            "Epoch 64/100\n",
            "115/115 [==============================] - 0s 3ms/step - loss: 0.4815 - accuracy: 0.7766\n",
            "Epoch 65/100\n",
            "115/115 [==============================] - 0s 3ms/step - loss: 0.4818 - accuracy: 0.7714\n",
            "Epoch 66/100\n",
            "115/115 [==============================] - 0s 3ms/step - loss: 0.4807 - accuracy: 0.7684\n",
            "Epoch 67/100\n",
            "115/115 [==============================] - 0s 3ms/step - loss: 0.4836 - accuracy: 0.7624\n",
            "Epoch 68/100\n",
            "115/115 [==============================] - 0s 3ms/step - loss: 0.4800 - accuracy: 0.7728\n",
            "Epoch 69/100\n",
            "115/115 [==============================] - 0s 3ms/step - loss: 0.4787 - accuracy: 0.7730\n",
            "Epoch 70/100\n",
            "115/115 [==============================] - 0s 3ms/step - loss: 0.4799 - accuracy: 0.7725\n",
            "Epoch 71/100\n",
            "115/115 [==============================] - 0s 3ms/step - loss: 0.4818 - accuracy: 0.7684\n",
            "Epoch 72/100\n",
            "115/115 [==============================] - 0s 3ms/step - loss: 0.4793 - accuracy: 0.7676\n",
            "Epoch 73/100\n",
            "115/115 [==============================] - 0s 3ms/step - loss: 0.4785 - accuracy: 0.7728\n",
            "Epoch 74/100\n",
            "115/115 [==============================] - 0s 3ms/step - loss: 0.4783 - accuracy: 0.7720\n",
            "Epoch 75/100\n",
            "115/115 [==============================] - 1s 6ms/step - loss: 0.4777 - accuracy: 0.7700\n",
            "Epoch 76/100\n",
            "115/115 [==============================] - 0s 3ms/step - loss: 0.4779 - accuracy: 0.7720\n",
            "Epoch 77/100\n",
            "115/115 [==============================] - 0s 3ms/step - loss: 0.4778 - accuracy: 0.7709\n",
            "Epoch 78/100\n",
            "115/115 [==============================] - 0s 3ms/step - loss: 0.4787 - accuracy: 0.7660\n",
            "Epoch 79/100\n",
            "115/115 [==============================] - 0s 3ms/step - loss: 0.4813 - accuracy: 0.7670\n",
            "Epoch 80/100\n",
            "115/115 [==============================] - 0s 3ms/step - loss: 0.4747 - accuracy: 0.7752\n",
            "Epoch 81/100\n",
            "115/115 [==============================] - 0s 3ms/step - loss: 0.4771 - accuracy: 0.7739\n",
            "Epoch 82/100\n",
            "115/115 [==============================] - 0s 3ms/step - loss: 0.4750 - accuracy: 0.7739\n",
            "Epoch 83/100\n",
            "115/115 [==============================] - 0s 3ms/step - loss: 0.4767 - accuracy: 0.7692\n",
            "Epoch 84/100\n",
            "115/115 [==============================] - 0s 3ms/step - loss: 0.4756 - accuracy: 0.7703\n",
            "Epoch 85/100\n",
            "115/115 [==============================] - 0s 3ms/step - loss: 0.4758 - accuracy: 0.7730\n",
            "Epoch 86/100\n",
            "115/115 [==============================] - 0s 3ms/step - loss: 0.4754 - accuracy: 0.7728\n",
            "Epoch 87/100\n",
            "115/115 [==============================] - 0s 3ms/step - loss: 0.4757 - accuracy: 0.7744\n",
            "Epoch 88/100\n",
            "115/115 [==============================] - 0s 3ms/step - loss: 0.4733 - accuracy: 0.7706\n",
            "Epoch 89/100\n",
            "115/115 [==============================] - 0s 3ms/step - loss: 0.4740 - accuracy: 0.7722\n",
            "Epoch 90/100\n",
            "115/115 [==============================] - 0s 3ms/step - loss: 0.4748 - accuracy: 0.7709\n",
            "Epoch 91/100\n",
            "115/115 [==============================] - 0s 3ms/step - loss: 0.4732 - accuracy: 0.7730\n",
            "Epoch 92/100\n",
            "115/115 [==============================] - 0s 3ms/step - loss: 0.4724 - accuracy: 0.7752\n",
            "Epoch 93/100\n",
            "115/115 [==============================] - 0s 3ms/step - loss: 0.4720 - accuracy: 0.7750\n",
            "Epoch 94/100\n",
            "115/115 [==============================] - 0s 3ms/step - loss: 0.4721 - accuracy: 0.7758\n",
            "Epoch 95/100\n",
            "115/115 [==============================] - 0s 3ms/step - loss: 0.4738 - accuracy: 0.7698\n",
            "Epoch 96/100\n",
            "115/115 [==============================] - 0s 3ms/step - loss: 0.4718 - accuracy: 0.7739\n",
            "Epoch 97/100\n",
            "115/115 [==============================] - 0s 3ms/step - loss: 0.4709 - accuracy: 0.7728\n",
            "Epoch 98/100\n",
            "115/115 [==============================] - 0s 3ms/step - loss: 0.4709 - accuracy: 0.7788\n",
            "Epoch 99/100\n",
            "115/115 [==============================] - 0s 3ms/step - loss: 0.4719 - accuracy: 0.7763\n",
            "Epoch 100/100\n",
            "115/115 [==============================] - 0s 3ms/step - loss: 0.4691 - accuracy: 0.7777\n",
            "13/13 [==============================] - 0s 2ms/step\n",
            "              precision    recall  f1-score   support\n",
            "\n",
            "           0       0.71      0.78      0.74       204\n",
            "           1       0.75      0.68      0.71       204\n",
            "\n",
            "    accuracy                           0.73       408\n",
            "   macro avg       0.73      0.73      0.73       408\n",
            "weighted avg       0.73      0.73      0.73       408\n",
            "\n"
          ]
        }
      ]
    },
    {
      "cell_type": "markdown",
      "source": [
        "# Comparison with Normal Neural Network Model\n",
        "\n",
        "![image.png](data:image/png;base64,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)"
      ],
      "metadata": {
        "id": "gy7mPs2gpvr5"
      }
    },
    {
      "cell_type": "markdown",
      "source": [
        "# Method 2 : Use of Oversampling"
      ],
      "metadata": {
        "id": "TsxwHgQsPsvR"
      }
    },
    {
      "cell_type": "code",
      "source": [
        "count_class_0,count_class_1"
      ],
      "metadata": {
        "colab": {
          "base_uri": "https://localhost:8080/"
        },
        "id": "HQesGhMCPbrb",
        "outputId": "e7eb353d-bc02-4ba3-f6cf-9ed01bc6df31"
      },
      "execution_count": 28,
      "outputs": [
        {
          "output_type": "execute_result",
          "data": {
            "text/plain": [
              "(7963, 2037)"
            ]
          },
          "metadata": {},
          "execution_count": 28
        }
      ]
    },
    {
      "cell_type": "code",
      "source": [
        "df_class_1_over=df_class_1.sample(count_class_0,replace=True)"
      ],
      "metadata": {
        "id": "r8BbM4n9SKIq"
      },
      "execution_count": 29,
      "outputs": []
    },
    {
      "cell_type": "code",
      "source": [
        "df_class_1_over.shape,df_class_0.shape"
      ],
      "metadata": {
        "colab": {
          "base_uri": "https://localhost:8080/"
        },
        "id": "OEAkNdvgStea",
        "outputId": "04c91349-3d4f-4a5f-d437-edd7792e4ef8"
      },
      "execution_count": 30,
      "outputs": [
        {
          "output_type": "execute_result",
          "data": {
            "text/plain": [
              "((7963, 14), (7963, 14))"
            ]
          },
          "metadata": {},
          "execution_count": 30
        }
      ]
    },
    {
      "cell_type": "code",
      "source": [
        "df_final_over=pd.concat([df_class_1_over,df_class_0],axis=0)\n",
        "\n",
        "df_final_over['Exited'].value_counts()"
      ],
      "metadata": {
        "colab": {
          "base_uri": "https://localhost:8080/"
        },
        "id": "kJaXVlhXSzyy",
        "outputId": "cdcaeb9f-8cba-4d6d-b613-05c8e050fd53"
      },
      "execution_count": 31,
      "outputs": [
        {
          "output_type": "execute_result",
          "data": {
            "text/plain": [
              "1    7963\n",
              "0    7963\n",
              "Name: Exited, dtype: int64"
            ]
          },
          "metadata": {},
          "execution_count": 31
        }
      ]
    },
    {
      "cell_type": "code",
      "source": [
        "X_train, X_test, y_train, y_test=train_test_split(df_final_over.drop('Exited',axis='columns'),df_final_over['Exited'],train_size=0.9,stratify=df_final_over['Exited'])\n",
        "\n",
        "get_model(X_train,y_train,X_test,y_test)"
      ],
      "metadata": {
        "colab": {
          "base_uri": "https://localhost:8080/"
        },
        "id": "85gCLgbGTNjy",
        "outputId": "4a5a58bd-639e-4449-b66c-001538de3879"
      },
      "execution_count": 32,
      "outputs": [
        {
          "output_type": "stream",
          "name": "stdout",
          "text": [
            "Epoch 1/100\n",
            "448/448 [==============================] - 2s 3ms/step - loss: 0.6700 - accuracy: 0.6028\n",
            "Epoch 2/100\n",
            "448/448 [==============================] - 1s 3ms/step - loss: 0.6012 - accuracy: 0.6815\n",
            "Epoch 3/100\n",
            "448/448 [==============================] - 1s 3ms/step - loss: 0.5514 - accuracy: 0.7197\n",
            "Epoch 4/100\n",
            "448/448 [==============================] - 1s 3ms/step - loss: 0.5230 - accuracy: 0.7474\n",
            "Epoch 5/100\n",
            "448/448 [==============================] - 1s 3ms/step - loss: 0.5068 - accuracy: 0.7548\n",
            "Epoch 6/100\n",
            "448/448 [==============================] - 1s 3ms/step - loss: 0.4971 - accuracy: 0.7590\n",
            "Epoch 7/100\n",
            "448/448 [==============================] - 2s 4ms/step - loss: 0.4898 - accuracy: 0.7625\n",
            "Epoch 8/100\n",
            "448/448 [==============================] - 2s 4ms/step - loss: 0.4860 - accuracy: 0.7636\n",
            "Epoch 9/100\n",
            "448/448 [==============================] - 2s 4ms/step - loss: 0.4826 - accuracy: 0.7645\n",
            "Epoch 10/100\n",
            "448/448 [==============================] - 1s 3ms/step - loss: 0.4798 - accuracy: 0.7667\n",
            "Epoch 11/100\n",
            "448/448 [==============================] - 1s 3ms/step - loss: 0.4783 - accuracy: 0.7667\n",
            "Epoch 12/100\n",
            "448/448 [==============================] - 1s 3ms/step - loss: 0.4778 - accuracy: 0.7635\n",
            "Epoch 13/100\n",
            "448/448 [==============================] - 1s 3ms/step - loss: 0.4780 - accuracy: 0.7660\n",
            "Epoch 14/100\n",
            "448/448 [==============================] - 1s 3ms/step - loss: 0.4752 - accuracy: 0.7661\n",
            "Epoch 15/100\n",
            "448/448 [==============================] - 1s 3ms/step - loss: 0.4741 - accuracy: 0.7673\n",
            "Epoch 16/100\n",
            "448/448 [==============================] - 1s 3ms/step - loss: 0.4737 - accuracy: 0.7668\n",
            "Epoch 17/100\n",
            "448/448 [==============================] - 1s 3ms/step - loss: 0.4733 - accuracy: 0.7683\n",
            "Epoch 18/100\n",
            "448/448 [==============================] - 1s 3ms/step - loss: 0.4714 - accuracy: 0.7657\n",
            "Epoch 19/100\n",
            "448/448 [==============================] - 1s 3ms/step - loss: 0.4708 - accuracy: 0.7679\n",
            "Epoch 20/100\n",
            "448/448 [==============================] - 2s 4ms/step - loss: 0.4700 - accuracy: 0.7689\n",
            "Epoch 21/100\n",
            "448/448 [==============================] - 1s 3ms/step - loss: 0.4692 - accuracy: 0.7701\n",
            "Epoch 22/100\n",
            "448/448 [==============================] - 1s 3ms/step - loss: 0.4684 - accuracy: 0.7700\n",
            "Epoch 23/100\n",
            "448/448 [==============================] - 2s 5ms/step - loss: 0.4673 - accuracy: 0.7730\n",
            "Epoch 24/100\n",
            "448/448 [==============================] - 1s 3ms/step - loss: 0.4672 - accuracy: 0.7703\n",
            "Epoch 25/100\n",
            "448/448 [==============================] - 1s 3ms/step - loss: 0.4665 - accuracy: 0.7712\n",
            "Epoch 26/100\n",
            "448/448 [==============================] - 1s 3ms/step - loss: 0.4666 - accuracy: 0.7706\n",
            "Epoch 27/100\n",
            "448/448 [==============================] - 1s 3ms/step - loss: 0.4656 - accuracy: 0.7711\n",
            "Epoch 28/100\n",
            "448/448 [==============================] - 1s 3ms/step - loss: 0.4654 - accuracy: 0.7705\n",
            "Epoch 29/100\n",
            "448/448 [==============================] - 1s 3ms/step - loss: 0.4648 - accuracy: 0.7699\n",
            "Epoch 30/100\n",
            "448/448 [==============================] - 1s 3ms/step - loss: 0.4642 - accuracy: 0.7721\n",
            "Epoch 31/100\n",
            "448/448 [==============================] - 1s 3ms/step - loss: 0.4635 - accuracy: 0.7717\n",
            "Epoch 32/100\n",
            "448/448 [==============================] - 1s 3ms/step - loss: 0.4626 - accuracy: 0.7720\n",
            "Epoch 33/100\n",
            "448/448 [==============================] - 1s 3ms/step - loss: 0.4619 - accuracy: 0.7751\n",
            "Epoch 34/100\n",
            "448/448 [==============================] - 1s 3ms/step - loss: 0.4621 - accuracy: 0.7731\n",
            "Epoch 35/100\n",
            "448/448 [==============================] - 1s 3ms/step - loss: 0.4614 - accuracy: 0.7725\n",
            "Epoch 36/100\n",
            "448/448 [==============================] - 1s 3ms/step - loss: 0.4612 - accuracy: 0.7707\n",
            "Epoch 37/100\n",
            "448/448 [==============================] - 1s 3ms/step - loss: 0.4604 - accuracy: 0.7763\n",
            "Epoch 38/100\n",
            "448/448 [==============================] - 1s 3ms/step - loss: 0.4606 - accuracy: 0.7720\n",
            "Epoch 39/100\n",
            "448/448 [==============================] - 1s 3ms/step - loss: 0.4598 - accuracy: 0.7737\n",
            "Epoch 40/100\n",
            "448/448 [==============================] - 1s 3ms/step - loss: 0.4606 - accuracy: 0.7745\n",
            "Epoch 41/100\n",
            "448/448 [==============================] - 1s 3ms/step - loss: 0.4594 - accuracy: 0.7755\n",
            "Epoch 42/100\n",
            "448/448 [==============================] - 1s 3ms/step - loss: 0.4610 - accuracy: 0.7750\n",
            "Epoch 43/100\n",
            "448/448 [==============================] - 1s 3ms/step - loss: 0.4600 - accuracy: 0.7733\n",
            "Epoch 44/100\n",
            "448/448 [==============================] - 1s 3ms/step - loss: 0.4584 - accuracy: 0.7769\n",
            "Epoch 45/100\n",
            "448/448 [==============================] - 1s 3ms/step - loss: 0.4589 - accuracy: 0.7755\n",
            "Epoch 46/100\n",
            "448/448 [==============================] - 1s 3ms/step - loss: 0.4577 - accuracy: 0.7762\n",
            "Epoch 47/100\n",
            "448/448 [==============================] - 1s 3ms/step - loss: 0.4587 - accuracy: 0.7749\n",
            "Epoch 48/100\n",
            "448/448 [==============================] - 1s 3ms/step - loss: 0.4587 - accuracy: 0.7724\n",
            "Epoch 49/100\n",
            "448/448 [==============================] - 1s 3ms/step - loss: 0.4585 - accuracy: 0.7737\n",
            "Epoch 50/100\n",
            "448/448 [==============================] - 1s 3ms/step - loss: 0.4576 - accuracy: 0.7760\n",
            "Epoch 51/100\n",
            "448/448 [==============================] - 1s 3ms/step - loss: 0.4594 - accuracy: 0.7737\n",
            "Epoch 52/100\n",
            "448/448 [==============================] - 1s 3ms/step - loss: 0.4577 - accuracy: 0.7754\n",
            "Epoch 53/100\n",
            "448/448 [==============================] - 1s 3ms/step - loss: 0.4596 - accuracy: 0.7742\n",
            "Epoch 54/100\n",
            "448/448 [==============================] - 1s 3ms/step - loss: 0.4582 - accuracy: 0.7767\n",
            "Epoch 55/100\n",
            "448/448 [==============================] - 1s 3ms/step - loss: 0.4574 - accuracy: 0.7774\n",
            "Epoch 56/100\n",
            "448/448 [==============================] - 1s 3ms/step - loss: 0.4575 - accuracy: 0.7776\n",
            "Epoch 57/100\n",
            "448/448 [==============================] - 1s 3ms/step - loss: 0.4572 - accuracy: 0.7741\n",
            "Epoch 58/100\n",
            "448/448 [==============================] - 1s 3ms/step - loss: 0.4567 - accuracy: 0.7767\n",
            "Epoch 59/100\n",
            "448/448 [==============================] - 1s 3ms/step - loss: 0.4559 - accuracy: 0.7791\n",
            "Epoch 60/100\n",
            "448/448 [==============================] - 1s 3ms/step - loss: 0.4564 - accuracy: 0.7758\n",
            "Epoch 61/100\n",
            "448/448 [==============================] - 1s 3ms/step - loss: 0.4570 - accuracy: 0.7770\n",
            "Epoch 62/100\n",
            "448/448 [==============================] - 1s 3ms/step - loss: 0.4556 - accuracy: 0.7766\n",
            "Epoch 63/100\n",
            "448/448 [==============================] - 1s 3ms/step - loss: 0.4564 - accuracy: 0.7784\n",
            "Epoch 64/100\n",
            "448/448 [==============================] - 1s 3ms/step - loss: 0.4554 - accuracy: 0.7793\n",
            "Epoch 65/100\n",
            "448/448 [==============================] - 1s 3ms/step - loss: 0.4563 - accuracy: 0.7778\n",
            "Epoch 66/100\n",
            "448/448 [==============================] - 1s 3ms/step - loss: 0.4560 - accuracy: 0.7791\n",
            "Epoch 67/100\n",
            "448/448 [==============================] - 1s 3ms/step - loss: 0.4569 - accuracy: 0.7788\n",
            "Epoch 68/100\n",
            "448/448 [==============================] - 1s 3ms/step - loss: 0.4573 - accuracy: 0.7748\n",
            "Epoch 69/100\n",
            "448/448 [==============================] - 1s 3ms/step - loss: 0.4564 - accuracy: 0.7776\n",
            "Epoch 70/100\n",
            "448/448 [==============================] - 1s 3ms/step - loss: 0.4564 - accuracy: 0.7774\n",
            "Epoch 71/100\n",
            "448/448 [==============================] - 1s 3ms/step - loss: 0.4558 - accuracy: 0.7775\n",
            "Epoch 72/100\n",
            "448/448 [==============================] - 1s 3ms/step - loss: 0.4555 - accuracy: 0.7758\n",
            "Epoch 73/100\n",
            "448/448 [==============================] - 1s 3ms/step - loss: 0.4562 - accuracy: 0.7782\n",
            "Epoch 74/100\n",
            "448/448 [==============================] - 1s 3ms/step - loss: 0.4556 - accuracy: 0.7768\n",
            "Epoch 75/100\n",
            "448/448 [==============================] - 1s 3ms/step - loss: 0.4548 - accuracy: 0.7769\n",
            "Epoch 76/100\n",
            "448/448 [==============================] - 1s 3ms/step - loss: 0.4561 - accuracy: 0.7791\n",
            "Epoch 77/100\n",
            "448/448 [==============================] - 1s 3ms/step - loss: 0.4551 - accuracy: 0.7770\n",
            "Epoch 78/100\n",
            "448/448 [==============================] - 1s 3ms/step - loss: 0.4553 - accuracy: 0.7798\n",
            "Epoch 79/100\n",
            "448/448 [==============================] - 1s 3ms/step - loss: 0.4546 - accuracy: 0.7804\n",
            "Epoch 80/100\n",
            "448/448 [==============================] - 2s 3ms/step - loss: 0.4554 - accuracy: 0.7765\n",
            "Epoch 81/100\n",
            "448/448 [==============================] - 1s 3ms/step - loss: 0.4543 - accuracy: 0.7793\n",
            "Epoch 82/100\n",
            "448/448 [==============================] - 1s 3ms/step - loss: 0.4560 - accuracy: 0.7797\n",
            "Epoch 83/100\n",
            "448/448 [==============================] - 1s 3ms/step - loss: 0.4551 - accuracy: 0.7789\n",
            "Epoch 84/100\n",
            "448/448 [==============================] - 1s 3ms/step - loss: 0.4551 - accuracy: 0.7784\n",
            "Epoch 85/100\n",
            "448/448 [==============================] - 1s 3ms/step - loss: 0.4549 - accuracy: 0.7782\n",
            "Epoch 86/100\n",
            "448/448 [==============================] - 1s 3ms/step - loss: 0.4553 - accuracy: 0.7781\n",
            "Epoch 87/100\n",
            "448/448 [==============================] - 1s 3ms/step - loss: 0.4550 - accuracy: 0.7823\n",
            "Epoch 88/100\n",
            "448/448 [==============================] - 1s 3ms/step - loss: 0.4538 - accuracy: 0.7809\n",
            "Epoch 89/100\n",
            "448/448 [==============================] - 1s 3ms/step - loss: 0.4540 - accuracy: 0.7785\n",
            "Epoch 90/100\n",
            "448/448 [==============================] - 1s 3ms/step - loss: 0.4541 - accuracy: 0.7815\n",
            "Epoch 91/100\n",
            "448/448 [==============================] - 1s 3ms/step - loss: 0.4538 - accuracy: 0.7809\n",
            "Epoch 92/100\n",
            "448/448 [==============================] - 1s 3ms/step - loss: 0.4541 - accuracy: 0.7802\n",
            "Epoch 93/100\n",
            "448/448 [==============================] - 1s 3ms/step - loss: 0.4540 - accuracy: 0.7785\n",
            "Epoch 94/100\n",
            "448/448 [==============================] - 1s 3ms/step - loss: 0.4543 - accuracy: 0.7789\n",
            "Epoch 95/100\n",
            "448/448 [==============================] - 1s 3ms/step - loss: 0.4532 - accuracy: 0.7796\n",
            "Epoch 96/100\n",
            "448/448 [==============================] - 1s 3ms/step - loss: 0.4548 - accuracy: 0.7792\n",
            "Epoch 97/100\n",
            "448/448 [==============================] - 1s 3ms/step - loss: 0.4535 - accuracy: 0.7799\n",
            "Epoch 98/100\n",
            "448/448 [==============================] - 1s 3ms/step - loss: 0.4526 - accuracy: 0.7802\n",
            "Epoch 99/100\n",
            "448/448 [==============================] - 1s 3ms/step - loss: 0.4536 - accuracy: 0.7818\n",
            "Epoch 100/100\n",
            "448/448 [==============================] - 1s 3ms/step - loss: 0.4535 - accuracy: 0.7797\n",
            "50/50 [==============================] - 0s 2ms/step\n",
            "              precision    recall  f1-score   support\n",
            "\n",
            "           0       0.77      0.81      0.79       796\n",
            "           1       0.80      0.75      0.78       797\n",
            "\n",
            "    accuracy                           0.78      1593\n",
            "   macro avg       0.78      0.78      0.78      1593\n",
            "weighted avg       0.78      0.78      0.78      1593\n",
            "\n"
          ]
        },
        {
          "output_type": "execute_result",
          "data": {
            "text/plain": [
              "<keras.engine.sequential.Sequential at 0x7fd15260c4d0>"
            ]
          },
          "metadata": {},
          "execution_count": 32
        }
      ]
    },
    {
      "cell_type": "markdown",
      "source": [
        "# Comparison with Normal Neural Network\n",
        "\n",
        "![image.png](data:image/png;base64,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)"
      ],
      "metadata": {
        "id": "oWsZoMUtp2mw"
      }
    },
    {
      "cell_type": "markdown",
      "source": [
        "# Method 3 : Use of SMOTE"
      ],
      "metadata": {
        "id": "DhTGsmonUV7S"
      }
    },
    {
      "cell_type": "code",
      "source": [
        "from imblearn.over_sampling import SMOTE\n",
        "\n",
        "smote=SMOTE(sampling_strategy='minority')"
      ],
      "metadata": {
        "id": "o673odtNToGZ"
      },
      "execution_count": 33,
      "outputs": []
    },
    {
      "cell_type": "code",
      "source": [
        "X_sm,y_sm=smote.fit_resample(df2.drop('Exited',axis='columns'),df2['Exited'])"
      ],
      "metadata": {
        "id": "CR_-XBTqUjry"
      },
      "execution_count": 34,
      "outputs": []
    },
    {
      "cell_type": "code",
      "source": [
        "X_train, X_test, y_train, y_test=train_test_split(X_sm,y_sm,train_size=0.9,stratify=y_sm)"
      ],
      "metadata": {
        "id": "PbDn_lzuU65h"
      },
      "execution_count": 35,
      "outputs": []
    },
    {
      "cell_type": "code",
      "source": [
        "y_sm.value_counts()"
      ],
      "metadata": {
        "colab": {
          "base_uri": "https://localhost:8080/"
        },
        "id": "RfYg2_knWGLq",
        "outputId": "0cb5fc2f-663b-47f6-fe6f-543f2d7995a3"
      },
      "execution_count": 36,
      "outputs": [
        {
          "output_type": "execute_result",
          "data": {
            "text/plain": [
              "1    7963\n",
              "0    7963\n",
              "Name: Exited, dtype: int64"
            ]
          },
          "metadata": {},
          "execution_count": 36
        }
      ]
    },
    {
      "cell_type": "code",
      "source": [
        "get_model(X_train,y_train,X_test,y_test)"
      ],
      "metadata": {
        "colab": {
          "base_uri": "https://localhost:8080/"
        },
        "id": "-4sjCo1TVEJQ",
        "outputId": "b93b77db-49a3-49f6-87b9-7c1ee5c8dcdc"
      },
      "execution_count": 37,
      "outputs": [
        {
          "output_type": "stream",
          "name": "stdout",
          "text": [
            "Epoch 1/100\n",
            "448/448 [==============================] - 2s 3ms/step - loss: 0.6731 - accuracy: 0.5894\n",
            "Epoch 2/100\n",
            "448/448 [==============================] - 1s 3ms/step - loss: 0.6185 - accuracy: 0.6883\n",
            "Epoch 3/100\n",
            "448/448 [==============================] - 1s 3ms/step - loss: 0.5856 - accuracy: 0.7157\n",
            "Epoch 4/100\n",
            "448/448 [==============================] - 1s 3ms/step - loss: 0.5576 - accuracy: 0.7404\n",
            "Epoch 5/100\n",
            "448/448 [==============================] - 1s 3ms/step - loss: 0.5365 - accuracy: 0.7530\n",
            "Epoch 6/100\n",
            "448/448 [==============================] - 1s 3ms/step - loss: 0.5209 - accuracy: 0.7575\n",
            "Epoch 7/100\n",
            "448/448 [==============================] - 1s 3ms/step - loss: 0.5093 - accuracy: 0.7605\n",
            "Epoch 8/100\n",
            "448/448 [==============================] - 1s 3ms/step - loss: 0.4990 - accuracy: 0.7636\n",
            "Epoch 9/100\n",
            "448/448 [==============================] - 1s 3ms/step - loss: 0.4934 - accuracy: 0.7638\n",
            "Epoch 10/100\n",
            "448/448 [==============================] - 2s 4ms/step - loss: 0.4882 - accuracy: 0.7685\n",
            "Epoch 11/100\n",
            "448/448 [==============================] - 2s 4ms/step - loss: 0.4836 - accuracy: 0.7699\n",
            "Epoch 12/100\n",
            "448/448 [==============================] - 1s 3ms/step - loss: 0.4798 - accuracy: 0.7710\n",
            "Epoch 13/100\n",
            "448/448 [==============================] - 1s 3ms/step - loss: 0.4772 - accuracy: 0.7704\n",
            "Epoch 14/100\n",
            "448/448 [==============================] - 1s 3ms/step - loss: 0.4733 - accuracy: 0.7760\n",
            "Epoch 15/100\n",
            "448/448 [==============================] - 1s 3ms/step - loss: 0.4712 - accuracy: 0.7743\n",
            "Epoch 16/100\n",
            "448/448 [==============================] - 1s 3ms/step - loss: 0.4696 - accuracy: 0.7765\n",
            "Epoch 17/100\n",
            "448/448 [==============================] - 1s 3ms/step - loss: 0.4678 - accuracy: 0.7771\n",
            "Epoch 18/100\n",
            "448/448 [==============================] - 1s 3ms/step - loss: 0.4657 - accuracy: 0.7776\n",
            "Epoch 19/100\n",
            "448/448 [==============================] - 1s 3ms/step - loss: 0.4649 - accuracy: 0.7781\n",
            "Epoch 20/100\n",
            "448/448 [==============================] - 1s 3ms/step - loss: 0.4636 - accuracy: 0.7768\n",
            "Epoch 21/100\n",
            "448/448 [==============================] - 1s 3ms/step - loss: 0.4630 - accuracy: 0.7785\n",
            "Epoch 22/100\n",
            "448/448 [==============================] - 1s 3ms/step - loss: 0.4607 - accuracy: 0.7784\n",
            "Epoch 23/100\n",
            "448/448 [==============================] - 1s 3ms/step - loss: 0.4592 - accuracy: 0.7823\n",
            "Epoch 24/100\n",
            "448/448 [==============================] - 1s 3ms/step - loss: 0.4585 - accuracy: 0.7800\n",
            "Epoch 25/100\n",
            "448/448 [==============================] - 1s 3ms/step - loss: 0.4571 - accuracy: 0.7816\n",
            "Epoch 26/100\n",
            "448/448 [==============================] - 1s 3ms/step - loss: 0.4557 - accuracy: 0.7848\n",
            "Epoch 27/100\n",
            "448/448 [==============================] - 1s 3ms/step - loss: 0.4548 - accuracy: 0.7837\n",
            "Epoch 28/100\n",
            "448/448 [==============================] - 1s 3ms/step - loss: 0.4548 - accuracy: 0.7847\n",
            "Epoch 29/100\n",
            "448/448 [==============================] - 1s 3ms/step - loss: 0.4532 - accuracy: 0.7835\n",
            "Epoch 30/100\n",
            "448/448 [==============================] - 1s 3ms/step - loss: 0.4526 - accuracy: 0.7848\n",
            "Epoch 31/100\n",
            "448/448 [==============================] - 1s 3ms/step - loss: 0.4526 - accuracy: 0.7847\n",
            "Epoch 32/100\n",
            "448/448 [==============================] - 1s 3ms/step - loss: 0.4514 - accuracy: 0.7842\n",
            "Epoch 33/100\n",
            "448/448 [==============================] - 1s 3ms/step - loss: 0.4505 - accuracy: 0.7842\n",
            "Epoch 34/100\n",
            "448/448 [==============================] - 1s 3ms/step - loss: 0.4505 - accuracy: 0.7846\n",
            "Epoch 35/100\n",
            "448/448 [==============================] - 1s 3ms/step - loss: 0.4504 - accuracy: 0.7852\n",
            "Epoch 36/100\n",
            "448/448 [==============================] - 1s 3ms/step - loss: 0.4484 - accuracy: 0.7845\n",
            "Epoch 37/100\n",
            "448/448 [==============================] - 1s 3ms/step - loss: 0.4496 - accuracy: 0.7874\n",
            "Epoch 38/100\n",
            "448/448 [==============================] - 1s 3ms/step - loss: 0.4495 - accuracy: 0.7848\n",
            "Epoch 39/100\n",
            "448/448 [==============================] - 1s 3ms/step - loss: 0.4485 - accuracy: 0.7882\n",
            "Epoch 40/100\n",
            "448/448 [==============================] - 1s 3ms/step - loss: 0.4466 - accuracy: 0.7876\n",
            "Epoch 41/100\n",
            "448/448 [==============================] - 1s 3ms/step - loss: 0.4463 - accuracy: 0.7888\n",
            "Epoch 42/100\n",
            "448/448 [==============================] - 1s 3ms/step - loss: 0.4465 - accuracy: 0.7886\n",
            "Epoch 43/100\n",
            "448/448 [==============================] - 1s 3ms/step - loss: 0.4456 - accuracy: 0.7901\n",
            "Epoch 44/100\n",
            "448/448 [==============================] - 1s 3ms/step - loss: 0.4447 - accuracy: 0.7903\n",
            "Epoch 45/100\n",
            "448/448 [==============================] - 1s 3ms/step - loss: 0.4462 - accuracy: 0.7893\n",
            "Epoch 46/100\n",
            "448/448 [==============================] - 1s 3ms/step - loss: 0.4452 - accuracy: 0.7905\n",
            "Epoch 47/100\n",
            "448/448 [==============================] - 1s 3ms/step - loss: 0.4450 - accuracy: 0.7893\n",
            "Epoch 48/100\n",
            "448/448 [==============================] - 1s 3ms/step - loss: 0.4439 - accuracy: 0.7890\n",
            "Epoch 49/100\n",
            "448/448 [==============================] - 1s 3ms/step - loss: 0.4435 - accuracy: 0.7924\n",
            "Epoch 50/100\n",
            "448/448 [==============================] - 1s 3ms/step - loss: 0.4432 - accuracy: 0.7917\n",
            "Epoch 51/100\n",
            "448/448 [==============================] - 1s 3ms/step - loss: 0.4435 - accuracy: 0.7909\n",
            "Epoch 52/100\n",
            "448/448 [==============================] - 1s 3ms/step - loss: 0.4428 - accuracy: 0.7904\n",
            "Epoch 53/100\n",
            "448/448 [==============================] - 1s 3ms/step - loss: 0.4422 - accuracy: 0.7913\n",
            "Epoch 54/100\n",
            "448/448 [==============================] - 1s 3ms/step - loss: 0.4425 - accuracy: 0.7889\n",
            "Epoch 55/100\n",
            "448/448 [==============================] - 1s 3ms/step - loss: 0.4426 - accuracy: 0.7914\n",
            "Epoch 56/100\n",
            "448/448 [==============================] - 1s 3ms/step - loss: 0.4417 - accuracy: 0.7899\n",
            "Epoch 57/100\n",
            "448/448 [==============================] - 1s 3ms/step - loss: 0.4414 - accuracy: 0.7906\n",
            "Epoch 58/100\n",
            "448/448 [==============================] - 1s 3ms/step - loss: 0.4425 - accuracy: 0.7930\n",
            "Epoch 59/100\n",
            "448/448 [==============================] - 1s 3ms/step - loss: 0.4411 - accuracy: 0.7921\n",
            "Epoch 60/100\n",
            "448/448 [==============================] - 1s 3ms/step - loss: 0.4406 - accuracy: 0.7908\n",
            "Epoch 61/100\n",
            "448/448 [==============================] - 1s 3ms/step - loss: 0.4404 - accuracy: 0.7917\n",
            "Epoch 62/100\n",
            "448/448 [==============================] - 1s 3ms/step - loss: 0.4407 - accuracy: 0.7906\n",
            "Epoch 63/100\n",
            "448/448 [==============================] - 1s 3ms/step - loss: 0.4397 - accuracy: 0.7936\n",
            "Epoch 64/100\n",
            "448/448 [==============================] - 1s 3ms/step - loss: 0.4397 - accuracy: 0.7919\n",
            "Epoch 65/100\n",
            "448/448 [==============================] - 1s 3ms/step - loss: 0.4396 - accuracy: 0.7924\n",
            "Epoch 66/100\n",
            "448/448 [==============================] - 1s 3ms/step - loss: 0.4397 - accuracy: 0.7917\n",
            "Epoch 67/100\n",
            "448/448 [==============================] - 1s 3ms/step - loss: 0.4399 - accuracy: 0.7928\n",
            "Epoch 68/100\n",
            "448/448 [==============================] - 1s 3ms/step - loss: 0.4398 - accuracy: 0.7931\n",
            "Epoch 69/100\n",
            "448/448 [==============================] - 1s 3ms/step - loss: 0.4392 - accuracy: 0.7908\n",
            "Epoch 70/100\n",
            "448/448 [==============================] - 1s 3ms/step - loss: 0.4395 - accuracy: 0.7920\n",
            "Epoch 71/100\n",
            "448/448 [==============================] - 1s 3ms/step - loss: 0.4399 - accuracy: 0.7930\n",
            "Epoch 72/100\n",
            "448/448 [==============================] - 1s 3ms/step - loss: 0.4398 - accuracy: 0.7919\n",
            "Epoch 73/100\n",
            "448/448 [==============================] - 1s 3ms/step - loss: 0.4399 - accuracy: 0.7933\n",
            "Epoch 74/100\n",
            "448/448 [==============================] - 1s 3ms/step - loss: 0.4391 - accuracy: 0.7938\n",
            "Epoch 75/100\n",
            "448/448 [==============================] - 1s 3ms/step - loss: 0.4397 - accuracy: 0.7894\n",
            "Epoch 76/100\n",
            "448/448 [==============================] - 1s 3ms/step - loss: 0.4379 - accuracy: 0.7946\n",
            "Epoch 77/100\n",
            "448/448 [==============================] - 1s 3ms/step - loss: 0.4381 - accuracy: 0.7936\n",
            "Epoch 78/100\n",
            "448/448 [==============================] - 1s 3ms/step - loss: 0.4385 - accuracy: 0.7932\n",
            "Epoch 79/100\n",
            "448/448 [==============================] - 1s 3ms/step - loss: 0.4386 - accuracy: 0.7937\n",
            "Epoch 80/100\n",
            "448/448 [==============================] - 1s 3ms/step - loss: 0.4376 - accuracy: 0.7935\n",
            "Epoch 81/100\n",
            "448/448 [==============================] - 1s 3ms/step - loss: 0.4380 - accuracy: 0.7919\n",
            "Epoch 82/100\n",
            "448/448 [==============================] - 1s 3ms/step - loss: 0.4376 - accuracy: 0.7941\n",
            "Epoch 83/100\n",
            "448/448 [==============================] - 1s 3ms/step - loss: 0.4364 - accuracy: 0.7955\n",
            "Epoch 84/100\n",
            "448/448 [==============================] - 1s 3ms/step - loss: 0.4376 - accuracy: 0.7914\n",
            "Epoch 85/100\n",
            "448/448 [==============================] - 1s 3ms/step - loss: 0.4365 - accuracy: 0.7950\n",
            "Epoch 86/100\n",
            "448/448 [==============================] - 1s 3ms/step - loss: 0.4377 - accuracy: 0.7938\n",
            "Epoch 87/100\n",
            "448/448 [==============================] - 1s 3ms/step - loss: 0.4371 - accuracy: 0.7931\n",
            "Epoch 88/100\n",
            "448/448 [==============================] - 1s 3ms/step - loss: 0.4376 - accuracy: 0.7940\n",
            "Epoch 89/100\n",
            "448/448 [==============================] - 1s 3ms/step - loss: 0.4372 - accuracy: 0.7918\n",
            "Epoch 90/100\n",
            "448/448 [==============================] - 1s 3ms/step - loss: 0.4363 - accuracy: 0.7941\n",
            "Epoch 91/100\n",
            "448/448 [==============================] - 1s 3ms/step - loss: 0.4364 - accuracy: 0.7912\n",
            "Epoch 92/100\n",
            "448/448 [==============================] - 1s 3ms/step - loss: 0.4367 - accuracy: 0.7954\n",
            "Epoch 93/100\n",
            "448/448 [==============================] - 1s 3ms/step - loss: 0.4372 - accuracy: 0.7915\n",
            "Epoch 94/100\n",
            "448/448 [==============================] - 1s 3ms/step - loss: 0.4361 - accuracy: 0.7938\n",
            "Epoch 95/100\n",
            "448/448 [==============================] - 1s 3ms/step - loss: 0.4354 - accuracy: 0.7973\n",
            "Epoch 96/100\n",
            "448/448 [==============================] - 1s 3ms/step - loss: 0.4358 - accuracy: 0.7956\n",
            "Epoch 97/100\n",
            "448/448 [==============================] - 1s 3ms/step - loss: 0.4346 - accuracy: 0.7944\n",
            "Epoch 98/100\n",
            "448/448 [==============================] - 1s 3ms/step - loss: 0.4369 - accuracy: 0.7925\n",
            "Epoch 99/100\n",
            "448/448 [==============================] - 1s 3ms/step - loss: 0.4352 - accuracy: 0.7947\n",
            "Epoch 100/100\n",
            "448/448 [==============================] - 2s 4ms/step - loss: 0.4360 - accuracy: 0.7933\n",
            "50/50 [==============================] - 0s 3ms/step\n",
            "              precision    recall  f1-score   support\n",
            "\n",
            "           0       0.78      0.79      0.78       796\n",
            "           1       0.78      0.78      0.78       797\n",
            "\n",
            "    accuracy                           0.78      1593\n",
            "   macro avg       0.78      0.78      0.78      1593\n",
            "weighted avg       0.78      0.78      0.78      1593\n",
            "\n"
          ]
        },
        {
          "output_type": "execute_result",
          "data": {
            "text/plain": [
              "<keras.engine.sequential.Sequential at 0x7fd12af59410>"
            ]
          },
          "metadata": {},
          "execution_count": 37
        }
      ]
    },
    {
      "cell_type": "markdown",
      "source": [
        "# Comparison with Normal Neural Network\n",
        "\n",
        "![image.png](data:image/png;base64,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)"
      ],
      "metadata": {
        "id": "UP7Co8-EqEjw"
      }
    },
    {
      "cell_type": "markdown",
      "source": [
        "# Method 4 : Use of Ensemble"
      ],
      "metadata": {
        "id": "8VL0e4GFWpqg"
      }
    },
    {
      "cell_type": "code",
      "source": [
        "count_class_0,count_class_1"
      ],
      "metadata": {
        "colab": {
          "base_uri": "https://localhost:8080/"
        },
        "id": "XIP9ikkQXSg4",
        "outputId": "a9c9b149-699e-4598-8c71-f3246ec05ea7"
      },
      "execution_count": 38,
      "outputs": [
        {
          "output_type": "execute_result",
          "data": {
            "text/plain": [
              "(7963, 2037)"
            ]
          },
          "metadata": {},
          "execution_count": 38
        }
      ]
    },
    {
      "cell_type": "code",
      "source": [
        "X_train, X_test, y_train, y_test=train_test_split(df2.drop('Exited',axis='columns'),df2['Exited'],train_size=0.9,stratify=df2['Exited'],)"
      ],
      "metadata": {
        "id": "9rN7VCVim3IR"
      },
      "execution_count": 40,
      "outputs": []
    },
    {
      "cell_type": "code",
      "source": [
        "def get_batch(df_majority,df_minority,start,end):\n",
        "#    df_class_1=df2[df2['Exited']==1]\n",
        "#    df_class_0=df2[df2['Exited']==0]\n",
        "    df_batch=pd.concat([df_majority[start:end],df_minority],axis=0)\n",
        "\n",
        "    X_train=df_batch.drop('Exited',axis='columns')\n",
        "    y_train=df_batch['Exited']\n",
        "\n",
        "    return X_train,y_train"
      ],
      "metadata": {
        "id": "KbBXl4tDVLfp"
      },
      "execution_count": 41,
      "outputs": []
    },
    {
      "cell_type": "code",
      "source": [
        "X_train,y_train=get_batch(df_class_0,df_class_1,0,2037)\n",
        "model4v1=get_model(X_train,y_train,X_test,y_test)"
      ],
      "metadata": {
        "colab": {
          "base_uri": "https://localhost:8080/"
        },
        "id": "18FUIc_8nXQm",
        "outputId": "83347a90-ab8f-4e07-f372-9638f65ca3ec"
      },
      "execution_count": 45,
      "outputs": [
        {
          "output_type": "stream",
          "name": "stdout",
          "text": [
            "Epoch 1/100\n",
            "128/128 [==============================] - 1s 3ms/step - loss: 0.6883 - accuracy: 0.5859\n",
            "Epoch 2/100\n",
            "128/128 [==============================] - 0s 3ms/step - loss: 0.6747 - accuracy: 0.6122\n",
            "Epoch 3/100\n",
            "128/128 [==============================] - 0s 3ms/step - loss: 0.6629 - accuracy: 0.6325\n",
            "Epoch 4/100\n",
            "128/128 [==============================] - 0s 3ms/step - loss: 0.6520 - accuracy: 0.6524\n",
            "Epoch 5/100\n",
            "128/128 [==============================] - 0s 3ms/step - loss: 0.6429 - accuracy: 0.6645\n",
            "Epoch 6/100\n",
            "128/128 [==============================] - 0s 3ms/step - loss: 0.6351 - accuracy: 0.6743\n",
            "Epoch 7/100\n",
            "128/128 [==============================] - 0s 3ms/step - loss: 0.6271 - accuracy: 0.6745\n",
            "Epoch 8/100\n",
            "128/128 [==============================] - 0s 3ms/step - loss: 0.6205 - accuracy: 0.6865\n",
            "Epoch 9/100\n",
            "128/128 [==============================] - 0s 3ms/step - loss: 0.6122 - accuracy: 0.6870\n",
            "Epoch 10/100\n",
            "128/128 [==============================] - 0s 3ms/step - loss: 0.6028 - accuracy: 0.6981\n",
            "Epoch 11/100\n",
            "128/128 [==============================] - 0s 3ms/step - loss: 0.5911 - accuracy: 0.7045\n",
            "Epoch 12/100\n",
            "128/128 [==============================] - 0s 3ms/step - loss: 0.5758 - accuracy: 0.7160\n",
            "Epoch 13/100\n",
            "128/128 [==============================] - 0s 3ms/step - loss: 0.5604 - accuracy: 0.7317\n",
            "Epoch 14/100\n",
            "128/128 [==============================] - 0s 3ms/step - loss: 0.5490 - accuracy: 0.7474\n",
            "Epoch 15/100\n",
            "128/128 [==============================] - 0s 3ms/step - loss: 0.5404 - accuracy: 0.7516\n",
            "Epoch 16/100\n",
            "128/128 [==============================] - 0s 3ms/step - loss: 0.5316 - accuracy: 0.7541\n",
            "Epoch 17/100\n",
            "128/128 [==============================] - 0s 3ms/step - loss: 0.5248 - accuracy: 0.7629\n",
            "Epoch 18/100\n",
            "128/128 [==============================] - 0s 3ms/step - loss: 0.5204 - accuracy: 0.7629\n",
            "Epoch 19/100\n",
            "128/128 [==============================] - 0s 3ms/step - loss: 0.5167 - accuracy: 0.7651\n",
            "Epoch 20/100\n",
            "128/128 [==============================] - 0s 3ms/step - loss: 0.5106 - accuracy: 0.7671\n",
            "Epoch 21/100\n",
            "128/128 [==============================] - 0s 3ms/step - loss: 0.5091 - accuracy: 0.7646\n",
            "Epoch 22/100\n",
            "128/128 [==============================] - 0s 3ms/step - loss: 0.5054 - accuracy: 0.7678\n",
            "Epoch 23/100\n",
            "128/128 [==============================] - 0s 3ms/step - loss: 0.5025 - accuracy: 0.7656\n",
            "Epoch 24/100\n",
            "128/128 [==============================] - 0s 3ms/step - loss: 0.5000 - accuracy: 0.7668\n",
            "Epoch 25/100\n",
            "128/128 [==============================] - 0s 3ms/step - loss: 0.4979 - accuracy: 0.7668\n",
            "Epoch 26/100\n",
            "128/128 [==============================] - 0s 3ms/step - loss: 0.4967 - accuracy: 0.7688\n",
            "Epoch 27/100\n",
            "128/128 [==============================] - 0s 3ms/step - loss: 0.4940 - accuracy: 0.7688\n",
            "Epoch 28/100\n",
            "128/128 [==============================] - 0s 3ms/step - loss: 0.4925 - accuracy: 0.7695\n",
            "Epoch 29/100\n",
            "128/128 [==============================] - 0s 3ms/step - loss: 0.4905 - accuracy: 0.7725\n",
            "Epoch 30/100\n",
            "128/128 [==============================] - 0s 3ms/step - loss: 0.4907 - accuracy: 0.7678\n",
            "Epoch 31/100\n",
            "128/128 [==============================] - 0s 3ms/step - loss: 0.4892 - accuracy: 0.7680\n",
            "Epoch 32/100\n",
            "128/128 [==============================] - 0s 3ms/step - loss: 0.4883 - accuracy: 0.7676\n",
            "Epoch 33/100\n",
            "128/128 [==============================] - 0s 3ms/step - loss: 0.4864 - accuracy: 0.7744\n",
            "Epoch 34/100\n",
            "128/128 [==============================] - 0s 3ms/step - loss: 0.4860 - accuracy: 0.7752\n",
            "Epoch 35/100\n",
            "128/128 [==============================] - 0s 3ms/step - loss: 0.4842 - accuracy: 0.7727\n",
            "Epoch 36/100\n",
            "128/128 [==============================] - 0s 3ms/step - loss: 0.4841 - accuracy: 0.7712\n",
            "Epoch 37/100\n",
            "128/128 [==============================] - 0s 3ms/step - loss: 0.4839 - accuracy: 0.7700\n",
            "Epoch 38/100\n",
            "128/128 [==============================] - 0s 3ms/step - loss: 0.4822 - accuracy: 0.7734\n",
            "Epoch 39/100\n",
            "128/128 [==============================] - 0s 3ms/step - loss: 0.4824 - accuracy: 0.7732\n",
            "Epoch 40/100\n",
            "128/128 [==============================] - 0s 3ms/step - loss: 0.4813 - accuracy: 0.7774\n",
            "Epoch 41/100\n",
            "128/128 [==============================] - 0s 3ms/step - loss: 0.4802 - accuracy: 0.7761\n",
            "Epoch 42/100\n",
            "128/128 [==============================] - 0s 3ms/step - loss: 0.4803 - accuracy: 0.7705\n",
            "Epoch 43/100\n",
            "128/128 [==============================] - 1s 5ms/step - loss: 0.4794 - accuracy: 0.7788\n",
            "Epoch 44/100\n",
            "128/128 [==============================] - 0s 3ms/step - loss: 0.4790 - accuracy: 0.7725\n",
            "Epoch 45/100\n",
            "128/128 [==============================] - 0s 3ms/step - loss: 0.4781 - accuracy: 0.7749\n",
            "Epoch 46/100\n",
            "128/128 [==============================] - 0s 3ms/step - loss: 0.4762 - accuracy: 0.7747\n",
            "Epoch 47/100\n",
            "128/128 [==============================] - 0s 3ms/step - loss: 0.4761 - accuracy: 0.7781\n",
            "Epoch 48/100\n",
            "128/128 [==============================] - 0s 3ms/step - loss: 0.4753 - accuracy: 0.7737\n",
            "Epoch 49/100\n",
            "128/128 [==============================] - 0s 3ms/step - loss: 0.4763 - accuracy: 0.7759\n",
            "Epoch 50/100\n",
            "128/128 [==============================] - 0s 3ms/step - loss: 0.4741 - accuracy: 0.7776\n",
            "Epoch 51/100\n",
            "128/128 [==============================] - 0s 3ms/step - loss: 0.4746 - accuracy: 0.7761\n",
            "Epoch 52/100\n",
            "128/128 [==============================] - 0s 3ms/step - loss: 0.4744 - accuracy: 0.7742\n",
            "Epoch 53/100\n",
            "128/128 [==============================] - 0s 4ms/step - loss: 0.4740 - accuracy: 0.7759\n",
            "Epoch 54/100\n",
            "128/128 [==============================] - 0s 3ms/step - loss: 0.4739 - accuracy: 0.7749\n",
            "Epoch 55/100\n",
            "128/128 [==============================] - 0s 3ms/step - loss: 0.4737 - accuracy: 0.7734\n",
            "Epoch 56/100\n",
            "128/128 [==============================] - 0s 3ms/step - loss: 0.4708 - accuracy: 0.7771\n",
            "Epoch 57/100\n",
            "128/128 [==============================] - 0s 3ms/step - loss: 0.4714 - accuracy: 0.7749\n",
            "Epoch 58/100\n",
            "128/128 [==============================] - 0s 3ms/step - loss: 0.4714 - accuracy: 0.7779\n",
            "Epoch 59/100\n",
            "128/128 [==============================] - 0s 3ms/step - loss: 0.4706 - accuracy: 0.7771\n",
            "Epoch 60/100\n",
            "128/128 [==============================] - 0s 3ms/step - loss: 0.4704 - accuracy: 0.7742\n",
            "Epoch 61/100\n",
            "128/128 [==============================] - 0s 3ms/step - loss: 0.4698 - accuracy: 0.7776\n",
            "Epoch 62/100\n",
            "128/128 [==============================] - 0s 3ms/step - loss: 0.4691 - accuracy: 0.7766\n",
            "Epoch 63/100\n",
            "128/128 [==============================] - 0s 3ms/step - loss: 0.4709 - accuracy: 0.7774\n",
            "Epoch 64/100\n",
            "128/128 [==============================] - 0s 3ms/step - loss: 0.4685 - accuracy: 0.7769\n",
            "Epoch 65/100\n",
            "128/128 [==============================] - 0s 3ms/step - loss: 0.4680 - accuracy: 0.7771\n",
            "Epoch 66/100\n",
            "128/128 [==============================] - 0s 3ms/step - loss: 0.4688 - accuracy: 0.7786\n",
            "Epoch 67/100\n",
            "128/128 [==============================] - 0s 3ms/step - loss: 0.4682 - accuracy: 0.7806\n",
            "Epoch 68/100\n",
            "128/128 [==============================] - 0s 3ms/step - loss: 0.4688 - accuracy: 0.7752\n",
            "Epoch 69/100\n",
            "128/128 [==============================] - 0s 3ms/step - loss: 0.4679 - accuracy: 0.7769\n",
            "Epoch 70/100\n",
            "128/128 [==============================] - 0s 3ms/step - loss: 0.4665 - accuracy: 0.7754\n",
            "Epoch 71/100\n",
            "128/128 [==============================] - 0s 3ms/step - loss: 0.4697 - accuracy: 0.7749\n",
            "Epoch 72/100\n",
            "128/128 [==============================] - 0s 3ms/step - loss: 0.4684 - accuracy: 0.7761\n",
            "Epoch 73/100\n",
            "128/128 [==============================] - 0s 3ms/step - loss: 0.4671 - accuracy: 0.7739\n",
            "Epoch 74/100\n",
            "128/128 [==============================] - 0s 3ms/step - loss: 0.4654 - accuracy: 0.7811\n",
            "Epoch 75/100\n",
            "128/128 [==============================] - 0s 3ms/step - loss: 0.4669 - accuracy: 0.7776\n",
            "Epoch 76/100\n",
            "128/128 [==============================] - 0s 3ms/step - loss: 0.4660 - accuracy: 0.7788\n",
            "Epoch 77/100\n",
            "128/128 [==============================] - 0s 3ms/step - loss: 0.4643 - accuracy: 0.7806\n",
            "Epoch 78/100\n",
            "128/128 [==============================] - 0s 3ms/step - loss: 0.4662 - accuracy: 0.7796\n",
            "Epoch 79/100\n",
            "128/128 [==============================] - 0s 3ms/step - loss: 0.4667 - accuracy: 0.7808\n",
            "Epoch 80/100\n",
            "128/128 [==============================] - 0s 3ms/step - loss: 0.4657 - accuracy: 0.7752\n",
            "Epoch 81/100\n",
            "128/128 [==============================] - 0s 3ms/step - loss: 0.4649 - accuracy: 0.7791\n",
            "Epoch 82/100\n",
            "128/128 [==============================] - 0s 3ms/step - loss: 0.4657 - accuracy: 0.7734\n",
            "Epoch 83/100\n",
            "128/128 [==============================] - 0s 3ms/step - loss: 0.4662 - accuracy: 0.7801\n",
            "Epoch 84/100\n",
            "128/128 [==============================] - 0s 3ms/step - loss: 0.4639 - accuracy: 0.7815\n",
            "Epoch 85/100\n",
            "128/128 [==============================] - 0s 3ms/step - loss: 0.4642 - accuracy: 0.7815\n",
            "Epoch 86/100\n",
            "128/128 [==============================] - 0s 3ms/step - loss: 0.4639 - accuracy: 0.7786\n",
            "Epoch 87/100\n",
            "128/128 [==============================] - 0s 3ms/step - loss: 0.4634 - accuracy: 0.7803\n",
            "Epoch 88/100\n",
            "128/128 [==============================] - 0s 3ms/step - loss: 0.4635 - accuracy: 0.7833\n",
            "Epoch 89/100\n",
            "128/128 [==============================] - 0s 3ms/step - loss: 0.4635 - accuracy: 0.7825\n",
            "Epoch 90/100\n",
            "128/128 [==============================] - 0s 3ms/step - loss: 0.4612 - accuracy: 0.7803\n",
            "Epoch 91/100\n",
            "128/128 [==============================] - 0s 3ms/step - loss: 0.4625 - accuracy: 0.7801\n",
            "Epoch 92/100\n",
            "128/128 [==============================] - 0s 3ms/step - loss: 0.4630 - accuracy: 0.7808\n",
            "Epoch 93/100\n",
            "128/128 [==============================] - 0s 3ms/step - loss: 0.4637 - accuracy: 0.7801\n",
            "Epoch 94/100\n",
            "128/128 [==============================] - 0s 3ms/step - loss: 0.4627 - accuracy: 0.7847\n",
            "Epoch 95/100\n",
            "128/128 [==============================] - 0s 3ms/step - loss: 0.4632 - accuracy: 0.7820\n",
            "Epoch 96/100\n",
            "128/128 [==============================] - 0s 3ms/step - loss: 0.4617 - accuracy: 0.7813\n",
            "Epoch 97/100\n",
            "128/128 [==============================] - 0s 3ms/step - loss: 0.4620 - accuracy: 0.7815\n",
            "Epoch 98/100\n",
            "128/128 [==============================] - 0s 3ms/step - loss: 0.4614 - accuracy: 0.7811\n",
            "Epoch 99/100\n",
            "128/128 [==============================] - 0s 3ms/step - loss: 0.4604 - accuracy: 0.7798\n",
            "Epoch 100/100\n",
            "128/128 [==============================] - 0s 3ms/step - loss: 0.4604 - accuracy: 0.7828\n",
            "32/32 [==============================] - 0s 1ms/step\n",
            "              precision    recall  f1-score   support\n",
            "\n",
            "           0       0.93      0.80      0.86       796\n",
            "           1       0.50      0.78      0.61       204\n",
            "\n",
            "    accuracy                           0.80      1000\n",
            "   macro avg       0.72      0.79      0.74      1000\n",
            "weighted avg       0.85      0.80      0.81      1000\n",
            "\n"
          ]
        }
      ]
    },
    {
      "cell_type": "code",
      "source": [
        "y_pred1=model4v1.predict(X_test)"
      ],
      "metadata": {
        "colab": {
          "base_uri": "https://localhost:8080/"
        },
        "id": "krcFHX1coivo",
        "outputId": "0a065778-3c39-4e4a-970e-4f3d105eabf1"
      },
      "execution_count": 48,
      "outputs": [
        {
          "output_type": "stream",
          "name": "stdout",
          "text": [
            "32/32 [==============================] - 0s 2ms/step\n"
          ]
        }
      ]
    },
    {
      "cell_type": "code",
      "source": [
        "X_train,y_train=get_batch(df_class_0,df_class_1,2037,4074)\n",
        "model4v2=get_model(X_train,y_train,X_test,y_test)"
      ],
      "metadata": {
        "colab": {
          "base_uri": "https://localhost:8080/"
        },
        "id": "_W8y1PcznqbZ",
        "outputId": "321a1eec-5151-4836-e218-f4ac38e8d6d0"
      },
      "execution_count": 46,
      "outputs": [
        {
          "output_type": "stream",
          "name": "stdout",
          "text": [
            "Epoch 1/100\n",
            "128/128 [==============================] - 1s 6ms/step - loss: 0.6657 - accuracy: 0.6065\n",
            "Epoch 2/100\n",
            "128/128 [==============================] - 0s 3ms/step - loss: 0.6384 - accuracy: 0.6448\n",
            "Epoch 3/100\n",
            "128/128 [==============================] - 0s 3ms/step - loss: 0.6252 - accuracy: 0.6546\n",
            "Epoch 4/100\n",
            "128/128 [==============================] - 0s 3ms/step - loss: 0.6183 - accuracy: 0.6647\n",
            "Epoch 5/100\n",
            "128/128 [==============================] - 0s 3ms/step - loss: 0.6098 - accuracy: 0.6649\n",
            "Epoch 6/100\n",
            "128/128 [==============================] - 0s 3ms/step - loss: 0.6019 - accuracy: 0.6681\n",
            "Epoch 7/100\n",
            "128/128 [==============================] - 0s 3ms/step - loss: 0.5947 - accuracy: 0.6804\n",
            "Epoch 8/100\n",
            "128/128 [==============================] - 0s 3ms/step - loss: 0.5878 - accuracy: 0.6919\n",
            "Epoch 9/100\n",
            "128/128 [==============================] - 0s 3ms/step - loss: 0.5829 - accuracy: 0.6888\n",
            "Epoch 10/100\n",
            "128/128 [==============================] - 0s 3ms/step - loss: 0.5788 - accuracy: 0.6890\n",
            "Epoch 11/100\n",
            "128/128 [==============================] - 0s 3ms/step - loss: 0.5752 - accuracy: 0.6973\n",
            "Epoch 12/100\n",
            "128/128 [==============================] - 1s 5ms/step - loss: 0.5727 - accuracy: 0.6996\n",
            "Epoch 13/100\n",
            "128/128 [==============================] - 1s 5ms/step - loss: 0.5685 - accuracy: 0.7035\n",
            "Epoch 14/100\n",
            "128/128 [==============================] - 0s 3ms/step - loss: 0.5623 - accuracy: 0.7160\n",
            "Epoch 15/100\n",
            "128/128 [==============================] - 0s 3ms/step - loss: 0.5566 - accuracy: 0.7197\n",
            "Epoch 16/100\n",
            "128/128 [==============================] - 0s 3ms/step - loss: 0.5485 - accuracy: 0.7202\n",
            "Epoch 17/100\n",
            "128/128 [==============================] - 0s 3ms/step - loss: 0.5414 - accuracy: 0.7268\n",
            "Epoch 18/100\n",
            "128/128 [==============================] - 0s 3ms/step - loss: 0.5332 - accuracy: 0.7302\n",
            "Epoch 19/100\n",
            "128/128 [==============================] - 0s 3ms/step - loss: 0.5242 - accuracy: 0.7371\n",
            "Epoch 20/100\n",
            "128/128 [==============================] - 0s 3ms/step - loss: 0.5173 - accuracy: 0.7432\n",
            "Epoch 21/100\n",
            "128/128 [==============================] - 0s 3ms/step - loss: 0.5120 - accuracy: 0.7432\n",
            "Epoch 22/100\n",
            "128/128 [==============================] - 0s 4ms/step - loss: 0.5064 - accuracy: 0.7486\n",
            "Epoch 23/100\n",
            "128/128 [==============================] - 0s 3ms/step - loss: 0.5013 - accuracy: 0.7504\n",
            "Epoch 24/100\n",
            "128/128 [==============================] - 0s 3ms/step - loss: 0.4988 - accuracy: 0.7538\n",
            "Epoch 25/100\n",
            "128/128 [==============================] - 0s 3ms/step - loss: 0.4947 - accuracy: 0.7565\n",
            "Epoch 26/100\n",
            "128/128 [==============================] - 0s 3ms/step - loss: 0.4928 - accuracy: 0.7577\n",
            "Epoch 27/100\n",
            "128/128 [==============================] - 0s 3ms/step - loss: 0.4901 - accuracy: 0.7560\n",
            "Epoch 28/100\n",
            "128/128 [==============================] - 0s 4ms/step - loss: 0.4898 - accuracy: 0.7545\n",
            "Epoch 29/100\n",
            "128/128 [==============================] - 1s 6ms/step - loss: 0.4891 - accuracy: 0.7541\n",
            "Epoch 30/100\n",
            "128/128 [==============================] - 0s 4ms/step - loss: 0.4873 - accuracy: 0.7649\n",
            "Epoch 31/100\n",
            "128/128 [==============================] - 1s 5ms/step - loss: 0.4858 - accuracy: 0.7604\n",
            "Epoch 32/100\n",
            "128/128 [==============================] - 1s 5ms/step - loss: 0.4862 - accuracy: 0.7577\n",
            "Epoch 33/100\n",
            "128/128 [==============================] - 1s 4ms/step - loss: 0.4842 - accuracy: 0.7602\n",
            "Epoch 34/100\n",
            "128/128 [==============================] - 1s 5ms/step - loss: 0.4827 - accuracy: 0.7656\n",
            "Epoch 35/100\n",
            "128/128 [==============================] - 0s 4ms/step - loss: 0.4830 - accuracy: 0.7624\n",
            "Epoch 36/100\n",
            "128/128 [==============================] - 0s 3ms/step - loss: 0.4821 - accuracy: 0.7609\n",
            "Epoch 37/100\n",
            "128/128 [==============================] - 0s 3ms/step - loss: 0.4808 - accuracy: 0.7624\n",
            "Epoch 38/100\n",
            "128/128 [==============================] - 0s 3ms/step - loss: 0.4812 - accuracy: 0.7680\n",
            "Epoch 39/100\n",
            "128/128 [==============================] - 0s 3ms/step - loss: 0.4812 - accuracy: 0.7661\n",
            "Epoch 40/100\n",
            "128/128 [==============================] - 0s 3ms/step - loss: 0.4791 - accuracy: 0.7644\n",
            "Epoch 41/100\n",
            "128/128 [==============================] - 0s 3ms/step - loss: 0.4788 - accuracy: 0.7690\n",
            "Epoch 42/100\n",
            "128/128 [==============================] - 0s 3ms/step - loss: 0.4796 - accuracy: 0.7639\n",
            "Epoch 43/100\n",
            "128/128 [==============================] - 0s 3ms/step - loss: 0.4768 - accuracy: 0.7678\n",
            "Epoch 44/100\n",
            "128/128 [==============================] - 0s 3ms/step - loss: 0.4775 - accuracy: 0.7663\n",
            "Epoch 45/100\n",
            "128/128 [==============================] - 0s 3ms/step - loss: 0.4777 - accuracy: 0.7680\n",
            "Epoch 46/100\n",
            "128/128 [==============================] - 0s 3ms/step - loss: 0.4763 - accuracy: 0.7673\n",
            "Epoch 47/100\n",
            "128/128 [==============================] - 0s 3ms/step - loss: 0.4765 - accuracy: 0.7698\n",
            "Epoch 48/100\n",
            "128/128 [==============================] - 0s 3ms/step - loss: 0.4764 - accuracy: 0.7656\n",
            "Epoch 49/100\n",
            "128/128 [==============================] - 0s 3ms/step - loss: 0.4757 - accuracy: 0.7705\n",
            "Epoch 50/100\n",
            "128/128 [==============================] - 0s 3ms/step - loss: 0.4770 - accuracy: 0.7695\n",
            "Epoch 51/100\n",
            "128/128 [==============================] - 0s 3ms/step - loss: 0.4754 - accuracy: 0.7703\n",
            "Epoch 52/100\n",
            "128/128 [==============================] - 0s 3ms/step - loss: 0.4762 - accuracy: 0.7678\n",
            "Epoch 53/100\n",
            "128/128 [==============================] - 0s 3ms/step - loss: 0.4769 - accuracy: 0.7693\n",
            "Epoch 54/100\n",
            "128/128 [==============================] - 0s 3ms/step - loss: 0.4737 - accuracy: 0.7715\n",
            "Epoch 55/100\n",
            "128/128 [==============================] - 0s 3ms/step - loss: 0.4724 - accuracy: 0.7774\n",
            "Epoch 56/100\n",
            "128/128 [==============================] - 0s 3ms/step - loss: 0.4716 - accuracy: 0.7698\n",
            "Epoch 57/100\n",
            "128/128 [==============================] - 0s 3ms/step - loss: 0.4731 - accuracy: 0.7710\n",
            "Epoch 58/100\n",
            "128/128 [==============================] - 0s 3ms/step - loss: 0.4727 - accuracy: 0.7720\n",
            "Epoch 59/100\n",
            "128/128 [==============================] - 0s 3ms/step - loss: 0.4720 - accuracy: 0.7732\n",
            "Epoch 60/100\n",
            "128/128 [==============================] - 0s 3ms/step - loss: 0.4714 - accuracy: 0.7752\n",
            "Epoch 61/100\n",
            "128/128 [==============================] - 0s 3ms/step - loss: 0.4704 - accuracy: 0.7734\n",
            "Epoch 62/100\n",
            "128/128 [==============================] - 1s 4ms/step - loss: 0.4740 - accuracy: 0.7690\n",
            "Epoch 63/100\n",
            "128/128 [==============================] - 1s 6ms/step - loss: 0.4703 - accuracy: 0.7761\n",
            "Epoch 64/100\n",
            "128/128 [==============================] - 0s 3ms/step - loss: 0.4709 - accuracy: 0.7749\n",
            "Epoch 65/100\n",
            "128/128 [==============================] - 0s 3ms/step - loss: 0.4699 - accuracy: 0.7791\n",
            "Epoch 66/100\n",
            "128/128 [==============================] - 0s 3ms/step - loss: 0.4709 - accuracy: 0.7766\n",
            "Epoch 67/100\n",
            "128/128 [==============================] - 0s 4ms/step - loss: 0.4682 - accuracy: 0.7771\n",
            "Epoch 68/100\n",
            "128/128 [==============================] - 1s 4ms/step - loss: 0.4697 - accuracy: 0.7710\n",
            "Epoch 69/100\n",
            "128/128 [==============================] - 1s 4ms/step - loss: 0.4691 - accuracy: 0.7791\n",
            "Epoch 70/100\n",
            "128/128 [==============================] - 0s 3ms/step - loss: 0.4684 - accuracy: 0.7779\n",
            "Epoch 71/100\n",
            "128/128 [==============================] - 0s 3ms/step - loss: 0.4681 - accuracy: 0.7771\n",
            "Epoch 72/100\n",
            "128/128 [==============================] - 0s 3ms/step - loss: 0.4690 - accuracy: 0.7781\n",
            "Epoch 73/100\n",
            "128/128 [==============================] - 1s 4ms/step - loss: 0.4676 - accuracy: 0.7761\n",
            "Epoch 74/100\n",
            "128/128 [==============================] - 1s 5ms/step - loss: 0.4681 - accuracy: 0.7752\n",
            "Epoch 75/100\n",
            "128/128 [==============================] - 1s 6ms/step - loss: 0.4685 - accuracy: 0.7759\n",
            "Epoch 76/100\n",
            "128/128 [==============================] - 0s 3ms/step - loss: 0.4664 - accuracy: 0.7786\n",
            "Epoch 77/100\n",
            "128/128 [==============================] - 0s 3ms/step - loss: 0.4654 - accuracy: 0.7793\n",
            "Epoch 78/100\n",
            "128/128 [==============================] - 0s 3ms/step - loss: 0.4644 - accuracy: 0.7781\n",
            "Epoch 79/100\n",
            "128/128 [==============================] - 0s 3ms/step - loss: 0.4658 - accuracy: 0.7779\n",
            "Epoch 80/100\n",
            "128/128 [==============================] - 0s 3ms/step - loss: 0.4646 - accuracy: 0.7813\n",
            "Epoch 81/100\n",
            "128/128 [==============================] - 0s 3ms/step - loss: 0.4658 - accuracy: 0.7813\n",
            "Epoch 82/100\n",
            "128/128 [==============================] - 0s 3ms/step - loss: 0.4637 - accuracy: 0.7823\n",
            "Epoch 83/100\n",
            "128/128 [==============================] - 1s 4ms/step - loss: 0.4652 - accuracy: 0.7788\n",
            "Epoch 84/100\n",
            "128/128 [==============================] - 1s 6ms/step - loss: 0.4626 - accuracy: 0.7796\n",
            "Epoch 85/100\n",
            "128/128 [==============================] - 0s 4ms/step - loss: 0.4658 - accuracy: 0.7769\n",
            "Epoch 86/100\n",
            "128/128 [==============================] - 0s 3ms/step - loss: 0.4634 - accuracy: 0.7769\n",
            "Epoch 87/100\n",
            "128/128 [==============================] - 0s 3ms/step - loss: 0.4616 - accuracy: 0.7791\n",
            "Epoch 88/100\n",
            "128/128 [==============================] - 0s 3ms/step - loss: 0.4638 - accuracy: 0.7823\n",
            "Epoch 89/100\n",
            "128/128 [==============================] - 0s 3ms/step - loss: 0.4608 - accuracy: 0.7818\n",
            "Epoch 90/100\n",
            "128/128 [==============================] - 0s 3ms/step - loss: 0.4611 - accuracy: 0.7818\n",
            "Epoch 91/100\n",
            "128/128 [==============================] - 0s 4ms/step - loss: 0.4599 - accuracy: 0.7845\n",
            "Epoch 92/100\n",
            "128/128 [==============================] - 0s 3ms/step - loss: 0.4617 - accuracy: 0.7791\n",
            "Epoch 93/100\n",
            "128/128 [==============================] - 0s 3ms/step - loss: 0.4600 - accuracy: 0.7830\n",
            "Epoch 94/100\n",
            "128/128 [==============================] - 0s 3ms/step - loss: 0.4603 - accuracy: 0.7838\n",
            "Epoch 95/100\n",
            "128/128 [==============================] - 0s 3ms/step - loss: 0.4630 - accuracy: 0.7757\n",
            "Epoch 96/100\n",
            "128/128 [==============================] - 0s 3ms/step - loss: 0.4600 - accuracy: 0.7872\n",
            "Epoch 97/100\n",
            "128/128 [==============================] - 0s 3ms/step - loss: 0.4598 - accuracy: 0.7823\n",
            "Epoch 98/100\n",
            "128/128 [==============================] - 0s 3ms/step - loss: 0.4573 - accuracy: 0.7842\n",
            "Epoch 99/100\n",
            "128/128 [==============================] - 0s 3ms/step - loss: 0.4590 - accuracy: 0.7818\n",
            "Epoch 100/100\n",
            "128/128 [==============================] - 0s 3ms/step - loss: 0.4574 - accuracy: 0.7811\n",
            "32/32 [==============================] - 0s 3ms/step\n",
            "              precision    recall  f1-score   support\n",
            "\n",
            "           0       0.94      0.75      0.83       796\n",
            "           1       0.45      0.81      0.58       204\n",
            "\n",
            "    accuracy                           0.76      1000\n",
            "   macro avg       0.70      0.78      0.71      1000\n",
            "weighted avg       0.84      0.76      0.78      1000\n",
            "\n"
          ]
        }
      ]
    },
    {
      "cell_type": "code",
      "source": [
        "y_pred2=model4v2.predict(X_test)"
      ],
      "metadata": {
        "colab": {
          "base_uri": "https://localhost:8080/"
        },
        "id": "7qekmsShopHI",
        "outputId": "d98b4435-c25d-4bf9-cc14-10e1197a6706"
      },
      "execution_count": 49,
      "outputs": [
        {
          "output_type": "stream",
          "name": "stdout",
          "text": [
            "32/32 [==============================] - 0s 2ms/step\n"
          ]
        }
      ]
    },
    {
      "cell_type": "code",
      "source": [
        "X_train,y_train=get_batch(df_class_0,df_class_1,4074,7963)\n",
        "model4v3=get_model(X_train,y_train,X_test,y_test)"
      ],
      "metadata": {
        "colab": {
          "base_uri": "https://localhost:8080/"
        },
        "id": "9HY6zrpRoOCw",
        "outputId": "4a86378d-0065-49c5-d574-17fc49a0fdd5"
      },
      "execution_count": 47,
      "outputs": [
        {
          "output_type": "stream",
          "name": "stdout",
          "text": [
            "Epoch 1/100\n",
            "186/186 [==============================] - 1s 3ms/step - loss: 0.6220 - accuracy: 0.6515\n",
            "Epoch 2/100\n",
            "186/186 [==============================] - 1s 3ms/step - loss: 0.5894 - accuracy: 0.6779\n",
            "Epoch 3/100\n",
            "186/186 [==============================] - 1s 3ms/step - loss: 0.5692 - accuracy: 0.7179\n",
            "Epoch 4/100\n",
            "186/186 [==============================] - 1s 3ms/step - loss: 0.5538 - accuracy: 0.7246\n",
            "Epoch 5/100\n",
            "186/186 [==============================] - 1s 3ms/step - loss: 0.5424 - accuracy: 0.7335\n",
            "Epoch 6/100\n",
            "186/186 [==============================] - 1s 3ms/step - loss: 0.5355 - accuracy: 0.7346\n",
            "Epoch 7/100\n",
            "186/186 [==============================] - 1s 3ms/step - loss: 0.5283 - accuracy: 0.7383\n",
            "Epoch 8/100\n",
            "186/186 [==============================] - 1s 3ms/step - loss: 0.5212 - accuracy: 0.7430\n",
            "Epoch 9/100\n",
            "186/186 [==============================] - 1s 3ms/step - loss: 0.5141 - accuracy: 0.7460\n",
            "Epoch 10/100\n",
            "186/186 [==============================] - 1s 3ms/step - loss: 0.5055 - accuracy: 0.7521\n",
            "Epoch 11/100\n",
            "186/186 [==============================] - 1s 3ms/step - loss: 0.4930 - accuracy: 0.7629\n",
            "Epoch 12/100\n",
            "186/186 [==============================] - 1s 3ms/step - loss: 0.4810 - accuracy: 0.7720\n",
            "Epoch 13/100\n",
            "186/186 [==============================] - 1s 3ms/step - loss: 0.4729 - accuracy: 0.7776\n",
            "Epoch 14/100\n",
            "186/186 [==============================] - 1s 3ms/step - loss: 0.4684 - accuracy: 0.7810\n",
            "Epoch 15/100\n",
            "186/186 [==============================] - 1s 3ms/step - loss: 0.4613 - accuracy: 0.7823\n",
            "Epoch 16/100\n",
            "186/186 [==============================] - 1s 3ms/step - loss: 0.4567 - accuracy: 0.7840\n",
            "Epoch 17/100\n",
            "186/186 [==============================] - 1s 3ms/step - loss: 0.4519 - accuracy: 0.7843\n",
            "Epoch 18/100\n",
            "186/186 [==============================] - 1s 3ms/step - loss: 0.4532 - accuracy: 0.7887\n",
            "Epoch 19/100\n",
            "186/186 [==============================] - 1s 3ms/step - loss: 0.4495 - accuracy: 0.7894\n",
            "Epoch 20/100\n",
            "186/186 [==============================] - 1s 3ms/step - loss: 0.4458 - accuracy: 0.7906\n",
            "Epoch 21/100\n",
            "186/186 [==============================] - 1s 3ms/step - loss: 0.4442 - accuracy: 0.7914\n",
            "Epoch 22/100\n",
            "186/186 [==============================] - 1s 3ms/step - loss: 0.4440 - accuracy: 0.7908\n",
            "Epoch 23/100\n",
            "186/186 [==============================] - 1s 3ms/step - loss: 0.4428 - accuracy: 0.7948\n",
            "Epoch 24/100\n",
            "186/186 [==============================] - 1s 3ms/step - loss: 0.4410 - accuracy: 0.7914\n",
            "Epoch 25/100\n",
            "186/186 [==============================] - 1s 3ms/step - loss: 0.4391 - accuracy: 0.7977\n",
            "Epoch 26/100\n",
            "186/186 [==============================] - 1s 3ms/step - loss: 0.4372 - accuracy: 0.7960\n",
            "Epoch 27/100\n",
            "186/186 [==============================] - 1s 3ms/step - loss: 0.4383 - accuracy: 0.7962\n",
            "Epoch 28/100\n",
            "186/186 [==============================] - 1s 3ms/step - loss: 0.4380 - accuracy: 0.7948\n",
            "Epoch 29/100\n",
            "186/186 [==============================] - 1s 3ms/step - loss: 0.4369 - accuracy: 0.7973\n",
            "Epoch 30/100\n",
            "186/186 [==============================] - 1s 3ms/step - loss: 0.4371 - accuracy: 0.7953\n",
            "Epoch 31/100\n",
            "186/186 [==============================] - 1s 3ms/step - loss: 0.4347 - accuracy: 0.7972\n",
            "Epoch 32/100\n",
            "186/186 [==============================] - 1s 3ms/step - loss: 0.4330 - accuracy: 0.7977\n",
            "Epoch 33/100\n",
            "186/186 [==============================] - 1s 3ms/step - loss: 0.4335 - accuracy: 0.7923\n",
            "Epoch 34/100\n",
            "186/186 [==============================] - 1s 3ms/step - loss: 0.4321 - accuracy: 0.7973\n",
            "Epoch 35/100\n",
            "186/186 [==============================] - 1s 3ms/step - loss: 0.4316 - accuracy: 0.7990\n",
            "Epoch 36/100\n",
            "186/186 [==============================] - 1s 3ms/step - loss: 0.4324 - accuracy: 0.8005\n",
            "Epoch 37/100\n",
            "186/186 [==============================] - 1s 3ms/step - loss: 0.4293 - accuracy: 0.8024\n",
            "Epoch 38/100\n",
            "186/186 [==============================] - 1s 3ms/step - loss: 0.4314 - accuracy: 0.7972\n",
            "Epoch 39/100\n",
            "186/186 [==============================] - 1s 3ms/step - loss: 0.4300 - accuracy: 0.8010\n",
            "Epoch 40/100\n",
            "186/186 [==============================] - 1s 3ms/step - loss: 0.4297 - accuracy: 0.8014\n",
            "Epoch 41/100\n",
            "186/186 [==============================] - 1s 3ms/step - loss: 0.4287 - accuracy: 0.8034\n",
            "Epoch 42/100\n",
            "186/186 [==============================] - 1s 3ms/step - loss: 0.4272 - accuracy: 0.8021\n",
            "Epoch 43/100\n",
            "186/186 [==============================] - 1s 3ms/step - loss: 0.4273 - accuracy: 0.7994\n",
            "Epoch 44/100\n",
            "186/186 [==============================] - 1s 3ms/step - loss: 0.4287 - accuracy: 0.7997\n",
            "Epoch 45/100\n",
            "186/186 [==============================] - 1s 3ms/step - loss: 0.4266 - accuracy: 0.8034\n",
            "Epoch 46/100\n",
            "186/186 [==============================] - 1s 3ms/step - loss: 0.4260 - accuracy: 0.8066\n",
            "Epoch 47/100\n",
            "186/186 [==============================] - 1s 3ms/step - loss: 0.4251 - accuracy: 0.7987\n",
            "Epoch 48/100\n",
            "186/186 [==============================] - 1s 3ms/step - loss: 0.4241 - accuracy: 0.8012\n",
            "Epoch 49/100\n",
            "186/186 [==============================] - 1s 3ms/step - loss: 0.4237 - accuracy: 0.8021\n",
            "Epoch 50/100\n",
            "186/186 [==============================] - 1s 3ms/step - loss: 0.4252 - accuracy: 0.8027\n",
            "Epoch 51/100\n",
            "186/186 [==============================] - 1s 3ms/step - loss: 0.4234 - accuracy: 0.8032\n",
            "Epoch 52/100\n",
            "186/186 [==============================] - 1s 3ms/step - loss: 0.4229 - accuracy: 0.8064\n",
            "Epoch 53/100\n",
            "186/186 [==============================] - 1s 3ms/step - loss: 0.4231 - accuracy: 0.8037\n",
            "Epoch 54/100\n",
            "186/186 [==============================] - 1s 3ms/step - loss: 0.4226 - accuracy: 0.8068\n",
            "Epoch 55/100\n",
            "186/186 [==============================] - 1s 3ms/step - loss: 0.4214 - accuracy: 0.8037\n",
            "Epoch 56/100\n",
            "186/186 [==============================] - 1s 5ms/step - loss: 0.4210 - accuracy: 0.8064\n",
            "Epoch 57/100\n",
            "186/186 [==============================] - 1s 5ms/step - loss: 0.4205 - accuracy: 0.8051\n",
            "Epoch 58/100\n",
            "186/186 [==============================] - 1s 4ms/step - loss: 0.4216 - accuracy: 0.8071\n",
            "Epoch 59/100\n",
            "186/186 [==============================] - 1s 4ms/step - loss: 0.4197 - accuracy: 0.8058\n",
            "Epoch 60/100\n",
            "186/186 [==============================] - 1s 5ms/step - loss: 0.4200 - accuracy: 0.8059\n",
            "Epoch 61/100\n",
            "186/186 [==============================] - 1s 6ms/step - loss: 0.4220 - accuracy: 0.8066\n",
            "Epoch 62/100\n",
            "186/186 [==============================] - 1s 4ms/step - loss: 0.4195 - accuracy: 0.8070\n",
            "Epoch 63/100\n",
            "186/186 [==============================] - 1s 5ms/step - loss: 0.4186 - accuracy: 0.8049\n",
            "Epoch 64/100\n",
            "186/186 [==============================] - 1s 4ms/step - loss: 0.4187 - accuracy: 0.8080\n",
            "Epoch 65/100\n",
            "186/186 [==============================] - 1s 3ms/step - loss: 0.4180 - accuracy: 0.8063\n",
            "Epoch 66/100\n",
            "186/186 [==============================] - 1s 6ms/step - loss: 0.4176 - accuracy: 0.8093\n",
            "Epoch 67/100\n",
            "186/186 [==============================] - 1s 7ms/step - loss: 0.4172 - accuracy: 0.8097\n",
            "Epoch 68/100\n",
            "186/186 [==============================] - 1s 5ms/step - loss: 0.4162 - accuracy: 0.8085\n",
            "Epoch 69/100\n",
            "186/186 [==============================] - 1s 5ms/step - loss: 0.4155 - accuracy: 0.8059\n",
            "Epoch 70/100\n",
            "186/186 [==============================] - 1s 7ms/step - loss: 0.4160 - accuracy: 0.8095\n",
            "Epoch 71/100\n",
            "186/186 [==============================] - 1s 7ms/step - loss: 0.4189 - accuracy: 0.8051\n",
            "Epoch 72/100\n",
            "186/186 [==============================] - 1s 6ms/step - loss: 0.4159 - accuracy: 0.8112\n",
            "Epoch 73/100\n",
            "186/186 [==============================] - 1s 5ms/step - loss: 0.4165 - accuracy: 0.8124\n",
            "Epoch 74/100\n",
            "186/186 [==============================] - 1s 4ms/step - loss: 0.4154 - accuracy: 0.8064\n",
            "Epoch 75/100\n",
            "186/186 [==============================] - 1s 4ms/step - loss: 0.4159 - accuracy: 0.8066\n",
            "Epoch 76/100\n",
            "186/186 [==============================] - 1s 3ms/step - loss: 0.4164 - accuracy: 0.8044\n",
            "Epoch 77/100\n",
            "186/186 [==============================] - 1s 3ms/step - loss: 0.4165 - accuracy: 0.8078\n",
            "Epoch 78/100\n",
            "186/186 [==============================] - 1s 3ms/step - loss: 0.4153 - accuracy: 0.8102\n",
            "Epoch 79/100\n",
            "186/186 [==============================] - 1s 3ms/step - loss: 0.4158 - accuracy: 0.8095\n",
            "Epoch 80/100\n",
            "186/186 [==============================] - 1s 5ms/step - loss: 0.4171 - accuracy: 0.8098\n",
            "Epoch 81/100\n",
            "186/186 [==============================] - 1s 5ms/step - loss: 0.4160 - accuracy: 0.8093\n",
            "Epoch 82/100\n",
            "186/186 [==============================] - 1s 4ms/step - loss: 0.4153 - accuracy: 0.8070\n",
            "Epoch 83/100\n",
            "186/186 [==============================] - 1s 3ms/step - loss: 0.4149 - accuracy: 0.8103\n",
            "Epoch 84/100\n",
            "186/186 [==============================] - 1s 3ms/step - loss: 0.4165 - accuracy: 0.8080\n",
            "Epoch 85/100\n",
            "186/186 [==============================] - 1s 3ms/step - loss: 0.4150 - accuracy: 0.8122\n",
            "Epoch 86/100\n",
            "186/186 [==============================] - 1s 5ms/step - loss: 0.4132 - accuracy: 0.8102\n",
            "Epoch 87/100\n",
            "186/186 [==============================] - 1s 4ms/step - loss: 0.4135 - accuracy: 0.8081\n",
            "Epoch 88/100\n",
            "186/186 [==============================] - 1s 4ms/step - loss: 0.4158 - accuracy: 0.8075\n",
            "Epoch 89/100\n",
            "186/186 [==============================] - 1s 5ms/step - loss: 0.4130 - accuracy: 0.8122\n",
            "Epoch 90/100\n",
            "186/186 [==============================] - 1s 4ms/step - loss: 0.4138 - accuracy: 0.8107\n",
            "Epoch 91/100\n",
            "186/186 [==============================] - 1s 5ms/step - loss: 0.4131 - accuracy: 0.8102\n",
            "Epoch 92/100\n",
            "186/186 [==============================] - 1s 5ms/step - loss: 0.4138 - accuracy: 0.8129\n",
            "Epoch 93/100\n",
            "186/186 [==============================] - 1s 5ms/step - loss: 0.4144 - accuracy: 0.8122\n",
            "Epoch 94/100\n",
            "186/186 [==============================] - 1s 4ms/step - loss: 0.4130 - accuracy: 0.8112\n",
            "Epoch 95/100\n",
            "186/186 [==============================] - 1s 5ms/step - loss: 0.4161 - accuracy: 0.8107\n",
            "Epoch 96/100\n",
            "186/186 [==============================] - 1s 4ms/step - loss: 0.4123 - accuracy: 0.8110\n",
            "Epoch 97/100\n",
            "186/186 [==============================] - 1s 6ms/step - loss: 0.4117 - accuracy: 0.8107\n",
            "Epoch 98/100\n",
            "186/186 [==============================] - 1s 5ms/step - loss: 0.4129 - accuracy: 0.8107\n",
            "Epoch 99/100\n",
            "186/186 [==============================] - 1s 5ms/step - loss: 0.4123 - accuracy: 0.8125\n",
            "Epoch 100/100\n",
            "186/186 [==============================] - 1s 6ms/step - loss: 0.4148 - accuracy: 0.8124\n",
            "32/32 [==============================] - 0s 3ms/step\n",
            "              precision    recall  f1-score   support\n",
            "\n",
            "           0       0.91      0.90      0.91       796\n",
            "           1       0.63      0.67      0.65       204\n",
            "\n",
            "    accuracy                           0.85      1000\n",
            "   macro avg       0.77      0.78      0.78      1000\n",
            "weighted avg       0.86      0.85      0.85      1000\n",
            "\n"
          ]
        }
      ]
    },
    {
      "cell_type": "code",
      "source": [
        "y_pred3=model4v3.predict(X_test)"
      ],
      "metadata": {
        "colab": {
          "base_uri": "https://localhost:8080/"
        },
        "id": "dl6s7R7IoZwX",
        "outputId": "edf146f4-0e44-41d3-c872-c4e9793d7bb7"
      },
      "execution_count": 50,
      "outputs": [
        {
          "output_type": "stream",
          "name": "stdout",
          "text": [
            "32/32 [==============================] - 0s 3ms/step\n"
          ]
        }
      ]
    },
    {
      "cell_type": "code",
      "source": [
        "y_pred_final=y_pred1.copy()\n",
        "\n",
        "for i in range(len(y_pred1)):\n",
        "    n_ones=y_pred1[i]+y_pred2[i]+y_pred3[i]\n",
        "    if n_ones>1:\n",
        "        y_pred_final[i]=1\n",
        "    else:\n",
        "        y_pred_final[i]=0"
      ],
      "metadata": {
        "id": "lyF7STiLozMn"
      },
      "execution_count": 51,
      "outputs": []
    },
    {
      "cell_type": "code",
      "source": [
        "print(classification_report(y_test,y_pred_final))"
      ],
      "metadata": {
        "colab": {
          "base_uri": "https://localhost:8080/"
        },
        "id": "YIqv5_c_o5sh",
        "outputId": "25ea6350-32e2-460e-c92c-8ba8c869ca9f"
      },
      "execution_count": 52,
      "outputs": [
        {
          "output_type": "stream",
          "name": "stdout",
          "text": [
            "              precision    recall  f1-score   support\n",
            "\n",
            "           0       0.96      0.67      0.79       796\n",
            "           1       0.41      0.89      0.56       204\n",
            "\n",
            "    accuracy                           0.72      1000\n",
            "   macro avg       0.69      0.78      0.68      1000\n",
            "weighted avg       0.85      0.72      0.75      1000\n",
            "\n"
          ]
        }
      ]
    },
    {
      "cell_type": "markdown",
      "source": [
        "# Comparison with Normal Neural Network\n",
        "\n",
        "![image.png](data:image/png;base64,iVBORw0KGgoAAAANSUhEUgAAAkMAAAC9CAYAAACwPnnbAAAAAXNSR0IArs4c6QAAAARnQU1BAACxjwv8YQUAAAAJcEhZcwAAEnQAABJ0Ad5mH3gAACvGSURBVHhe7Z1PS1vd9/bX75llIIRCCw6MUBDqRCcFxYEzG19BcOIo4Ehq34H6Dm6lIyGjTiSvQOvMgSh0UicWhELjQKhQAg4cfp+19p9kn332Sc6JiUb39YHcuRNPT5L9Z61rr7X2Of+3uLj4PwIAAAAAiJT/Z54BAAAAAKIEYggAAAAAUQMxBAAAAICogRgCAAAAQNSggBqAIVPbaVB1iujh5wFt7l+YdwdkbZsaKxWi+0s6+LJHjzwbGDK2ry2tkzrtHpoXHRZo678NmpswL+mBLhubtHdmXo6apS36Wp+jknn55J8PwAsAkSEAABiQ5k6d6nV+NC5ZYmRxQXtfzHEnLfPeE2GF0M2x/nz1gBACT8/C56/UaGxTzbweNyCGABgy1kE+OiokHO5qB4aoEBiAhY8zVJJI0PemeScDiUA2GmPtrAAYJRBDAADwqrmj28xIUI22RQR9uKLjG/MWABGCmiHwopBQ68b7azr4ckurjSpVzPvJ+hxTo9E+pvr3yUS9RKiOR51z3qmoyKj16XdcvvoRQRxQ97sHazhsrZBF0hw74dW9/7n+98rXZmOMaou3qo1uP7m/tUXH9V1KtorftqFjhBzHFam1McfeZfa5wfktT5Gq0mP2LqMN9Dwpn+vvrMdRVnvlJNVmWefLU0fVf550f98RTbrnC9TY5Z3nT07fNtPt8DY0r52+zTvPVT9T2jaG7FU/29J/bvp96PPI8TZEEBkCL4+JOdrgCUY8eW0dRml+g7bXzN8tU1Vq1GfoupF9nEx2bVDMMY1LIj7m6+cFc4QghluOI5705jh+fKNV2loyhzD56keMcUjUcJxSubbFn+Jg02P1A7q8N++lkHOxASqz4bfnMt+/seMlO1SbLVO7R1uMNyWaqxsj3mmXClX/c9pNnIpxGvqYOh3f8DF+6kelhPw+uKLZRJtx2/LLb52/y7nkO3xN9PlYon6fpLxkzIqrkzbQr9Wj8zt1LVNP8VYE49TJaf96o03L/lhU/cTChZxxW/9G9MnpS9NHbl8e/CQ1BtJjVn7fBs38tsceU0vGu/O5+eb5M5C3zfIyoG08+PlAlRV3bBewLT3nZpN2zb+Xz9Dix5xPPcZDCAkQQ+BFkljFHB4pwVD54E9SmXjOSvLwit8hevvOGEA2RMu8kmmdOBPybI++8aQtza92HejaKq8406vSi/3d4qv7pUl6y0+tX64JYIMxQE3QwudldgP8G91/a74/TS2nnHbrpEdbvABkVdqNjl3Q+W/+nRNlmjbv1D7xKvf+kr45K9fmDjtGbqXljtNjYbvI69RUpI37wH/t9Unzu4jcEs18HPM26wjpDAeUEWF8NJUyt84DXf9wWo3H46b3ebafkpEbFmY79nW3j9woxMX+Nz3PF72FAyP2oHtsk64k5Vee1MflnefPQc42K0I+25i0Zxf7pzxKumO7qG3pNzdfAhBD4AXSoqvEavaCbtv8ZI2f5b5Nf8z/avQqxRpNXVzqn4vP9veO//uWJs2Er31gw3x/TedFhU+Is1uSs1dWQivcIizQ4nte9ad+I3//H9fKaZcTsen073xp3P11HAZzsb/prCxrNMsO7+H3edd4K/5Qm51B6Y0xy0uLNDPBrZEQozkxfQcyaLXVuOsdPcvqJwfTRw//UiM7w8k+UNvbpKeitMaR553nz0KuNitCXtvo2zN3nhS1Lf3m5ssAYghEy/SbQApBHm6tDhuGyTI/tW+zjXchRJDp1JcIIv2ZjzCEPb7XS4r6PBoTcZOUQKIvJR3TqUthzErcd54hpAYjea5etQ+vHCf11nm4KUpBIhqSolLO3R7npShNP/nOM0T2McUETL55/kzkabPnIjLbAjEEouXPv0AKofOwIeSMldWjcK47o+qLhrky7JLH4bwaTNRGhetTfckPG8I3K3F/Zetji20l5dA9jzitSHFSb52Hl0bU6Oir+ru6ppKIEMe5m356nDPttTsuTb55/pz0abMx5DXaFogh8ArIEXoPkDdMrozpxAwtDlmsKGRlaARRPwedxKQMpmZTRjMrLfC68dJhWdg0ZaqGwsWmCS7pKKo2HDIioJRzd+eY6af3i9mLi7NzupbIaaqPTL/cXBVKv4xFOiwvwTYLYdqiLzltYyJ9PBrbMu79ADEEXjy1HUlftOjU3fKZB1VcKFGZ3qswW1zoH7fwebt4NGdtO7WDxV4YL0/qxkV/L15Furs7lrZofZ7P9vPoReXrH88F7Z1zA05V++wQatKRKgL1j6vRdqcdTTTQFcBqB1TEabIcSDTNr4NT9XaJSI7pJ2+3lzj3rR2bduv2pXu+hc/reiNDvwtI+uSc589BvjbzBaR/WYJs8tlGPl9NF7Vb8T8S22Lroz6NWy9ocJ0h8KKw6YsEqZ0pxljI1t1gKD+Jfy0NRWq3UdoAJa+5YbbMm1dJJETfLSZM/4bk34XgdzIkrweS/tzk3+3n+dea0f/Ov3bJWCL1Kits0r3fFURES+KaLULgGjbmnF38PvD7W/5+RbOJNsvZ58HvZEiN3eES7vsuvcZZr2tbZZE6X9bvS7XJIH1kf59c8qJ/uivfPH968rVZcqwp2/N3lduHOm2SzzYWaYf+tqXQ3BRy9OlzATEEXhT9jDsAAMRIXtuoxJBcP2iEIvwlgjQZAAAAAKIGYggAAAAAUQMxBAAAAICoQc0QAAAAAKIGkSEAAAAARA3EEAAAAACiBmIIAAAAAFEDMQQAAACAqIEYAgAAAEDUQAwBAAAAIGoghgAAAAAQNRBDAAAAAIgaiCEAAAAARA3EEAAAAACiBmIIAAAAAFEDMQQAAACAqIEYAgAAAEDUQAwBAAAAIGoghgAAAAAQNRBDAAAAAIgaiCEAAAAARA3EEAAAAACiBmIIAAAAAFEDMQQAAACAqIEYAgAAAEDUQAwBAAAAIGoghgAAAAAQNRBDAAAAAIgaiCEAAAAARA3EEAAAAACiBmIIAAAAAFHzf4uLi/8z/w/AANRou1GlinlF9ECXjU3aOzMvQYBhttkCbf23QXMT5qVwf0kHX/boQr3wP8sjcWw81HYaVJ0yL5iHnwe0uT9YK/jnap3UaffQvGD8vyeJc74sfP5KG/Ml84q5Oab6TtO8KMjaNjVWnBEeOtfSFn2tz1H3E2GnelFozPpt28Om+P3+mHk3bCCGwODYSeAYHz2JYGgyGWqbGaGTMP7mvb4iRx/3doyM0dNgxWOLjuu7pFrNONPihtmci5y2Nv1LOc6l+r0cnxhNjffAnMiLdq7kzJ2sPpmha2d+wU4NRmrMmrnjLgB02zrzS5HXLj0fSJOBgal9YgMmg9sxYM2dA7q8L9Hcp5p5B7gMtc3WZoldOF1+dx1Ik45+PhBNlGnavBNi4fOy+rfXP2Jyw8zaKgshcYKOoT7cpQNus9L8Kpvs/Cx8XteiyjXuZ3t0ekP9z8UOeplX3g+/z6MSQvZ3t04cEcJttnnSIppapq0l814e+Fzr86Xkubg19875XBNztLpm3pLz15Oip/n9kkd/iWY+Lph3QF9SY5YFjllEuJFQ3bYVWv7cbdvazngLIQFiCAxIjWZDxlw5G36emi3kWOJgFG1WorKXA5t+UyK6b9Mf8zpNjVYlVH1zGt2quPaBG+v+ms4Tv9u0BxvwWetAc5DVzs1f7IzpLU32cOxKFFOLTqOKyrGA/DijfveV4zxVNGdRBnFBcVIp8794oLY0t8vhFX8C98A7CJ1hkhqzS5M8yonu/npj+Oycru+5N9+Y5ZgVwOfjK4QEiCEwGIGJICHrxgrRsazy+jiDKBl2mx3u0vEN+4SVBn01q7BO+L+ZbXhsVCgZUYqBBZos81P7tts2bKi/NqpEJ8eFHeiff70icGmR2sGusH8eOWmEOEgLSEmfbNDM72O6dB1oHlptFd3Jauee51JCKuDIQZjQmD27pTt+ypwz5UmecYwVrSRzrUGNzmN7gMXf6IAYAkNA8vQN2nhzSvVEnhhkM5w2a+7Uqc5CqjS/oQyMztX3qoOINyrko4RovUyn9WTBc14uflyrdEB1xzXpOnXQi1ijQimk3qSxTO1GnTb3s+OYmZgIRGUl6VRVSsb8fxjbR36ECmQRHrNNulIp4fVEelOnj80LZuGdLAFLNLdI9I3nWl09pDSA584YCSKIIfBI7MruoHDxY7wMr80kEmQLGLsGphsp8ok3KpRE2m3j/TUdPEa8Sy1K45IepqrOaneWrlSUL5C+ESKOCrlM24hoT+Hejwva+9Id87YPZn/pKN/Dv5DAkrknYsmrGwPZ9Bizshg7vmGhU++2/zqdqihfIgIr7Z2IVnPfNXVtUZHU9CiBGAKDYUKklRVJMcjKrjvM9Urgjm4jjzykGHKbSWRDtr92d3KIcxDjlF6taWKPCl3QbZufWLxU6ZjqbjFnVv1DP1Rxrl3tymOX/vToy9ijQjq1OEfVlBCdpvJEloDphR7z3fbnudDK6kuJxuqoUbLoGvSi35hV0Wmn/Tf3KdGXF3/F6o0/EENgQHSIVK4pceQVQy6+F4d7hVVXigHaTKUSeMX13xYflUTVXwQiEMrhsPnyaykQFeIeUMXN6TYIF/YyqqZIVrx5w/m6L4ORH0SFTGoxUExrdkamdjcWbn/Tl4E5Zq/H5V8HCvRgkDGr+tIRT1m1XVkF8M8ExBAYGLWFkld564ktlOYaLkiZBSnaZmr3kzAxQ4tepEc7dn9Lvt0Z5Tt21AopDo9IXcag5ohLFpxyIbjWSTptokWSkCOcrxw392X7OHiNIdQKMWf60gOJOh9pN7VF+1tqbBZqfyV4GtyXd8nLHUAIDUzRMavT9m+TKchQn/P/qbqtMbJHuOgieBxiyNyrj/LESV5sC6Qo0mbmomaZV3W1f3cJHKsvTicOH87AdY6WzHbp9FWoj2z9iUXqUDLSL/Y8A1xY8DWidz2aF0zmBS97tn/O84TmSIcefRY7OcastSsdehybu8+fCYghAAAAAEQN0mQAAAAAiBqIIQAAAABEDcQQAAAAAKIGYggAAAAAUQMxBAAAAICogRgCAAAAQNRADAEAAAAgaiCGAAAAABA1EEMAAAAAiBqIIQAAAABEDW7HAR5P5/5BuM9PPgrc06oH/r1+knjn7PRRl3G7N9BTMor7JHXv05R9rzn/c2O9V1yRe1r1InUei3N/vkLzBHRJ2Yystipmz/LMk+cAYgg8AnPDS7qk498zVJ0nGJZ+BG5+qI318IyyOl/ZuVmruVFlwvGa9+ITRPYmrY4hHkZbJBxHwMgH+j1WUuP9EW2jHevdQE41NU9AF9UnM3Tt2KSgnSpqz/rNk2cEaTIwMLWdDZr5fUB1NiZ/zHugN7VPbAhk1eoY/ebOAV3el2juU8288wjY2CzzKvjh93nHwNc+8JqNP/PIjUAcHvFnEpXeTJs3ImFtlYWQGGrHCB/u0sHPByrNr/IadzBsvx7zedKwAKsN5uxfHWZ8tk4cR3m2R5snLaKpZdpaMu+NmsA8AQ7SJ/WkmGl+vySeJTTzccG8U9ye9Z4nzwvEEBiY5k492jTLYNRoNmSAlYPm56nZgZ2xRRkbXnGd+v0yUaak7JmmMn/mw7+4ZKwWhtd0nlix1mhVhe0rNLum3ynE2rZeCTczFgVWgH2PXAgxCx9n1Pi8SqQGWSwuSpIl6WhHSeY8AQUoaM/6zZNnBmIIgKdiaZLe8tPd367pkDB/Y4XoWFbG/NfJx6yM7Wr351Ei9NzcOWazX6Fq46tZeZscP6/QvkWWIpss81P7tmu8JWzPbUEn0kbcA++KOmNuS5Vi+5ZOCRgW3qlep9vKNjUaje7jvy3+RnEx/YZF533bcYYyFiXCfPyISKWM7QLtmjFPQB8qZRaQjv0qZM/6z5PnBmIIgGdBalcatPHmlOpDyptnr3abtFuv0/FNiebq4jBYCEnKJvJaCWW462U65bYZtIh54fMyu+LeEQYlAMRhf7jivq6bB4uviTnaiFAQdZBarcYytRsSYR4sVnCxv+m0qdOuje1kVMIBUaFB0GJG6nySUT1Lb3uWZ548NxBDADw5djV8MLwakp6rXfk8KWqUgkV2GI1LepiqsiOykaL4kCLPjffXdPAYIcptvj7PbvUkzzm47RN9zQJVVs8TM7QYYR9M2wiCV5fyeEy7susNpjwRFRoAsR+yW8yrtevQx54VmifPB8QQAE/F2S3d8VNlRdIyyXqrTiplQMeQvdqVFZsYMmfnhiqOlLRQieZqMUUmLui2zU8sBKvkRcYCIf/edIui+0WV/vwbv2LR50K1xcQcVVNCdIg1bK02u+1wyhNRoaJY++EVvQu57Fn+efLcQAwB8GQ06eqGn/ydXWxwFt+XiG6u0isnlUroUwfRc7WrnUyyTkP4Q+17fkoVVr9umr8kapAuZg4X9jLctl9VLYqXdllapBlVJCoRNlOrwg99/RRbw6L/zcVfcRnperDHCuCXyMWPayVUWudeinZtVkUern94IiWr/Xug+zJ8LkSFiiBCSC5DIUIolErOYc8KzJPnBmIIgCdEbU/llfH65660kUsUqOveBELMaveT0COd0nu1awwWf+aqmzawOz5CAuw1oy4p4EXEWHCKcQ6F8bVjFby0i4quubUq+iFb9FVKTL025wt9pkkdROeYud1OeTxWVhwHKIIno7g2s/2zMH0ZOheiQkXoJ4Q0fe1ZkXnyzOCii2BgulcSDSDXnsDFzMKI8e9ceExwUlg+EhmSwsWs9rTn6nMNG30hNPPCEO8VqLuG3pJp8Dt91aOPHLIvAljgMyPAH4+ZY7FP+6fHtdS19LjYH671lA9rd4J4bVzEnhmy58nzATEEAAAAgKhBmgwAAAAAUQMxBAAAAICogRgCAAAAQNRADAEAAAAgaiCGAAAAABA1EEMAAAAAiBqIIQAAAABEDcQQAAAAAKIGYggAAAAAUQMxBAAAAICogRgCAAAAQNRADAEAAAAgaiCGAAAAABA1EEMAAAAAiBqIIQAAAABEDcQQAAAAAKIGYggAAAAAUQMxBAAAAICogRgCAAAAQNRADAEAAAAgaiCGAAAAABA1EEMAAAAAiBqIIQAAAABEDcQQAAAAAKIGYggAAAAAUQMxBAAAAICogRgCAAAAQNRADAEAAAAgaiCGAAAAABA1EEMAAAAAiBqIIQAAAABEzf8tLi7+z/w/AAAAMHIWPn+ljfmSecXcHFN9p2leFGRtmxorFfNC0zqp0+6heeFQ22lQdcq8YLKOi4JOu7XouL5Lodb32+vh5wFt7l+YV5YabTeq1O2BB7psbNLemXlpGGqfjwCIIQAAAE+GdrCOw1zaoq/1OSoN4By1g6WE87VONyF0HvEZrw8jXrgtjqnKfRESQwu09d8GzU04fzPiKSGIAu2a6t/Qe2PYH0iTDYIMikbDeWzz8Aohgy7Hcf75dtyj9Dm+fl4wrzUy4ZPnc47zzre9Zg6x5P7+MiHc477S1pL5kzmH/70EGfjZ5wQARAs7weUpicg4kYOzPdo8aRFNLXftSy4WaPF9iejmtHsu5mL/lPhs9PadtU1sx2oQQhqx6VUiFoo922JtlYWQiBdHJB3u0sHPByrNr3Zse+0Tt+v9JR0452ruHNDlfYnmPpmjhtrnowNiqCiiaD9cUb3Og0k9pOMrVPWdvxILWn13j72i2YTQMcKB1basYjrH/ZpNC5iclOY3+HzEal6fSwZvZcURMXm/vxzX4JUB8UDvHPuN6NMWTyfm8Ij/HX/e+0X9ukONZiWsenMVDLsCAOJl4eMMlViqXCVSU+ygFyXJUqKZj+nFVV/Kk0kbtDRJb/np7q+JXljH/h0WiaUi7X3pnxqsfeD+uL+mc0dkim1fVWmuCs0q/6Rt/cPvcz6rg2pvfp6aVT5lJH0+AiCGiiKKNqGoeXCdyzrEDhDBdHRqJdKkXfd1RzF7g5MV+MB5bFHpTsjz4sc1sZansk3o5vr+PMyt4v+y5wx0PnbHvr6g898PRBMztOgq+7VZPhMMDwAgzfQbdqb3bfpjXotD3eZF18zvY724ejNt3s8D26PmJT1MzNGGXczJIs6kX6wNXXinpBHdVryI+H9mYQc8FmiyzE/t267tV4tjiSgdd6NuvuhkVMZCFuMS9eG/TrJvGG6fjw6IoWHQarP7d1hapBlWxq1fvQVBWDE/EncACyJ+6n1WAv73z1L8HlZouco+vKIAAAAPFT1fpnajTpv7XVdZCGXfbHSbBQ4LIfp5kFiEKmfMS7RqIiLOTl1EFARRX5TAqZfptKcfkfRbgzbenHLbhouxFcPo8xEBMTQAuibGechKxPxNUSnz6wdqizjuQVoxPw19v39A8QdhQ3R646bKtIhqnbvRJAAASDJtIwh1p45kEPx0/klLlwqkahZbdOxH6SV64Ue2QQLxFRvvrxPZhjQ20pMUoT5D6/MRATFUEBkcuirerjD40bhMRlZUpMVJTWXw55+kmcr0lEHCXN//7Jbu+KlbgJhN85djUFSKbMiRLgDAq0HbvDmqphzsNJUniB7+FVkashOWhZybzj/cNfasQlVTn6k+ExTggm7b/DRVpSodU90tlXAXysZPVFZ0Qba75b6TmmTRM9w+Hx0QQ4WwxcHJ3Qsp7CD5kFyb+Fz8VUclanXyYXZRFCbn96c/1A4WRwdQhdQ6VaZSZCicBgBkoFPrgeixqTW8/pF410R+JIId2J1qHHO6NEDbX1tYre2srl9xcR02SKIWudwffu1nsrSjSVc3/MRi9CixALa7/LQvKNznzwTEUCG0SLBV8grJgfppJh4CRz+5+1lZJ7ee80rG3U1mdmQldnsJfM7ubjJfmEhuVq7/oF4UJO/3N0XVklNP7H7jz97xc+y6kFpC0yrihMJpAEAWJrVeWXHEjQgedf2ab6lFmna+QmDReHZO18qeJbdnL3xe5qOdmkezYJurObaLP3N9vsSfeYTFW4hQm7Gv0Ndv6kZ3mt91Afu64+dqO+b6RDZlVrDPnwtcdLEwkh91rrYpIVru83UWFHf+rjARGuoKn5bwlT516sq8EFK70JKfqS569XfV5F/t+cwxfa+lUeD7y4BNCCVJrwXyvfa41O4zAABI49u88JWNmY4NCtvOrMVh+srS6eNivfp0yt+4JPxHzjZL+Yl8fi6zz58JiCHweMxkkF0c4zS4AQAAgDwgTQYejc0jn0IIAQAAeIFADIHHEcgjAwAAAC8JpMnAQNibIQqx5t4BAAC8DiCGAAAAABA1SJMBAAAAIGoghgAAAAAQNRBDAAAAAIgaiCEAAAAARA3EEAAAAACiBmIIAAAAAFGDrfUAPDne/eGy7vmWi8C9mQL3iHOvC6WI/D5yw7hPUqpNPXrdH2vc7sv01KTaru89FQOk7onl0TmnP9+6RH2NtM69M7Pu+5Z3nuSzZ0Pp8xECMQTAU2INuGMItMEZRBCFbs5r3nPEjjJC768d8ZM+Jh6sIHEcgHEKwxIo2ujfJRyMfo/o8uSaZlbivo9farwH5sSjMOfr3nhaj/e3kQvQLl27cUxV7ouQGMo5T3Las5H3+RBAmkyQjml8pa0lGSQNaqj/1x3YkNf/bfHQcJBBoY6zj20eXiHs+TKOU+fxPivjfGJMu3/nx074E3PR5/vr7xL6Teb3uJ+t2s49l33o3wWS1D6xARAR4hiA5s4BXd6XaO5TwT5dm+XVGBuY764xadLRzweiiTJNm3cu9jepnhA99pgZWoytj9ZW2cCLUXaM/+EuHXB7lOZXA2O+KDValdXvzVX3/DzflBitsyNomfdihe3F8pREZBzhf7ZHmyfcMFPLQ7EZao5Ri65wVfwAInKqRCwUe4qQnPMklz17gj4fBhBDDjO1ZWo3dEfO1L6yZmbVKh3mOg1x/h+uqF7nwaQecnyFqkGhY1btnWOvaDYlYnjQ1Fk1y2e55+sIMBm8DbPStOc5ptZUNS3S8pDj+zd/icWu0Oyaft3Bd75yLlb3ssrtnkv+IKsJZ+ADQ41m2Sg8/D5PRmOU4eHnqdnkGMpFicpe/H/6DTvj+zb9Ma9Bl9oHbqz7azpPjE0jYEJjviALn5fTApWdSFKMxou9qXNSqLCNW5RBzHb3Y2GLlsQ43oefR10nDhwuaO9L/9RgvnmSz56NvM+HBMRQhxKV2qcdB16aYPHRUbuOwxFFm1DUPLjOffFgOjoVAmzSbkCNS9ixe9wFnf92VvYhhS7nUSJtjlaLGu883//wiocuv/Mh6Zr9CZK+W32oLUCHpUl6y093f7umQ0X8VoiOpT/5r5NFVknsZI9vuLVXGvT1szYonXB0s7fzVYKJ7ug2KsG6QJNlfmrfdttGBD0vWuiEFxj88u27xxhmGxXq2hGQJC3UJdq8QTO/j9VCqvTGxjMHw0aFujapS2l+IxG93oaNyiDnPMlpz0bd58MCYsih9csRCUVW1q02rwUdlhZphpVx4nw9cAeToNIaJk+rBEjIaRnB8jjjbfC/P3+ySqMkIhXpVYB2qCEeqC1fDvTARPzenHb6ehCaO3UVvbSGXuf/+0Tl1rb5OH52UzkRogx3vUyn9eEU0QajQiAbFT2XaHydNveHEMfMjArx4rETCdcPSfe4iwiQTb55ktOeDbvPhwjE0AAk63v4IYVg5m+KSplfD1EQ9BBmg6jqvt+fufhxzb/AifCoFFlyxdX8fqmOWe4YFBMRS4VXQRK7MnIjgoOh+nKFe0ZqADopzx5GXoyR7CDx8vyxIe2m63gGF6JJEBUqwrSNIAwxnd4rKuRzsf9NRyXeL7LVAlnkmyf57Nko+nyYQAwVRAaHrop3VhoNEQUOKtKSruUYBQ//iqnrXN9fODunazYWNlWmIlR+JEGJPjf8vEFzFOMOpZyc3dIdP1VWdAGju7Nl4Z0KOBdKW8mKTSI83e3Buh5AUmel+fV0YaKEuu1W2ij76IJu2/w0VdU1em4bBEL+RUBUKB9//rGlmZijasrBTlNZLjlQ0J51KFwrZMaCs9EAWHLOk5z2bGR9PmQghgqhU0V9V392kHg1N4OgiplDu35MMfP1jyLGO+f3V5j6H5Uq0/8umfZz6qKsqJIHhFAPmnTFQkWiMkdeMeHie4kqBNJWKqzMQjNQLK/TlOkIpDI+vhgXIaQigKFttPGgNwekRUu4yJNRtRIi9EO7Ky2ICuVFR5zZlpx7diLLnuVqf+6BAlEhjbWFcaeKs8g3T/LZs8J9/kxADBXiD7Vlt5RbSyPOKpVmsjU3VS9dUaPtolviD49IbVOsuc6QzyMr/MLGN+/3N6i6pArN7vCgTQ14s3ooT6acNMhGpRZ5lbTujIvajrmeRyDErGvGmIAg1gbL35Jvd3w4jh1CqEtoPvEckIvBtU7SbaONv5C9KQBRoQKc7dGpKvp3xI2MT3X9mm8pe5an/eXfF4sKSX1Llc8YnnOAyTlPctmzgn3+XOCii4JxFvoiXTJRnHSPiAXutG4qQvKjMpEMUnvBfb7e+ffmfcH82y6eM0qdOwvznWS7omHwC8QV+P6MTqtlfZ53Loeor+zaj444sfQQKXYMST+Fom6pMcZ4x9o+DJJ13ldNej5ljtdOX2X1kZkDvdox1d8ukrKO7zIU/pjMtGd929+eq0c7htp/jC7299T0tAeJdsk5T3Las9x9/kxADIEByXYCfY0TAAAAMEYgTQYGwxTSpS64xeiaFQAAAOBlADEEBsMUiae2pi5t0brUrGB7PQAAgBcC0mTgEYRrhsYtFwwAAAD0AmIIAAAAAFGDNBkAAAAAogZiCAAAAABRAzEEAAAAgKiBGAIAAABA1EQlhuRigHKfp8w7eudAnSNwn6inZly+BwAAAPDSQWRohECwAAAAAOMPttYXRN1qopzvfk5Fji3KKM8NRo1/fabH3Lokff+g1P3GQvcvU/S4J9orR82fId0nyT9Xr3b1j431Hn4Ln7+qm352eMy9wgLjO9muuIdikE675R+v+e5RGbZnQ+3zEYDIEABPidzUUAyHGIJ6XT2Ob0o0V/9KW95d6fsjRoiFULt7rnr9mFoTc7SRikiKgbLH2EeMQkjEoxh4cQCmHU5aVJrfGCB9bs4li5JOmx7Q5X2Fqg3nDt2C6nc+lty+itMRi4PdmKfueGxc0sNUlRo7iRbLhTjYxsrbxNg++PlAlZUGbXt3uRdHbo+xjziFkNiNBjU+XLHtMW+lyDlPctqzYfb5qBg/MSRqtZHtGKRRk6kn07Gdh2eEGPVvnGP8SdLBGCz3WP0IfB/v2M45nfeVohbH5ByXTpvpQdf5e8ZvV5PeOU9yJVoQ1cbuZybbTLdXuh07be0O4CJtBqj2aY5KErlxVkTNHXGgbEA+FTQMa7O8GmOR892VNE06YmdAE2WaNu8Ah7VVmpsQYegIwcNd5UBL86uBMd+DpUWameB19bkbnb2gvfMWP7+lyc745zle434fs5Xws8D2YpltV+vEiRyc7dEmO1qaWi5oMxZo8X2J6OY0EYW42D8l1QPviorbGBB/UyU6YUHSayzmnCe57NlQ+3x0jJ8YarXZvJeoHIppWtq32vgoR1ylt47iP75Jr8qaO44aNe+lkHPV54g655IOlT+IMvZCfiJw6jN0bVSuXomYz5RO7nwXfi0DxbxWj0RaK72yP/hJGar6rqvQ+ZGt6Psgv5NXBPY8oZVs85eYkgrN+qLRd75F2gwwNZplo5C6ua0yPPw8NZsYt/lIz5XpN3JvuDb9Ma9Bl9oHbqzUffNqtKrC94ExnwPf6S68k1sY39Gt/QzrWBKiNU4WPs7wiG3RVSIiww56UQZxiWY+DiBgypN8BgdzE+m7v346Byix/qV/RCzfPMlnz0bS5yNg/MSQuQGoRUdErKNeoMkyN/4/beatKv3m5DCbO8fc7BVaLhjyth122jmXXeGFDKQo5q6zv/hxze8UN6QLn5f5X7FwcFT1xf63DFU9pJSGiLXEiiDwOw+v+FvxOx+SrtmfIMXaDISMtA7zEx3LKikRTcgBr9REFEtKwIauRThXp3h8Nv1aMgldu5G7UOTvtaPtR2cxJZgFFZ2I3SgYTeC59E2tlDc60VJbF+HO1444qngR2Qg3V6SFul4Qzvw+Vgup0psi8Uy2N01e4KrouxnPZoEmUTjf4at+cto/M0MQPTnnSU57Ntw+Hx1jWDP0h9rcQNYoqYbsONdpKncKRTNUqfn3RRtYf06IB2pLv7oM5Y7sNsR75YmcC7pt85NZ7YRV9ZBR0TgXk2pJRCrS7V2ozYCHTo9uvDmlx9TuqKinyeWLgdc5fi8qx6KpGwl0o4FxpzKV4a6X6ZTbZNDakYv9zW79A7e/rYtwz2dtWDURkc2q7YoIla5fpja31+b+gHFMFYm345lFjo1UJxZ8TdrttLt+2Lqix1xmJRbyzZOc9mwYfT4ixlAMaTGgxYw44BZd8sB1V2xKiRpV6qv9hqSd3J01OWl+lxSaG1EyYbyhCJ8QRtgZI+o+HlUPlAO/hkoMiC9rUtEulSJzo0DP0WavBbsy8o12cVRfrnDPSA2A4xR6G3mzouZeH5cQ9VOjUs/vr+ngkUXk2lF0U8W6eJT7JFUYmowAKwctq+eJGVqMUJBO2wjCY9PpKmLBNp9MOUJnYdA78qkj8Ow/3i/GK0ZzkG+e5LNnQ+vzETGGYsggkRERPDdXtPf3Tg9aJYBM1MGk00I7BNSjqJOplJUg6IorM8FGtnVdR7DU9sLQ9x/R53bSKLaqXx6hWqqzc7rm72dTZSpF5kexnrzNXjhmzFZWdAGju0U1VWeSA3HEIpy724NZ5HzR9WSl+fXeUR/zXcYlRP00mKgrL0DUri53nAZC/n3hVa6kxNztxhKpk6iDfIZNw/z5l1mpGB2qLSbmqJpysHpxaEsg8sFOWBZy7qUkJAqq7BkvCnruVDJjARsNAuScJznt2XD7fHSMpRiyxmP64wyRNJTUsMgKSuqtOg5jsHRYGBPR8IXJI526HgRZky2ZDsvigoVgqpbE1BEVR6e6/N0XYUz9j0qV6X/X+uVKodG02eumSVemqP4oEW7OSpkydudfIJ2i0y/plKSeP302IahIn9+nrx+9OSBdzJyZjlaRBxH66UiDNvhpAaXnbDfVH5zDzCAC+KWjI8487hI78BizOeP6h2c9erS/dcyJ2hbB1p32tK3WFgbmHMg5T/LZs8J9/kyMpRhSxkOU5DyZhpJGL9HciqwCbCGWddbVIeR98wmTomgjmF3MrdJMUjfQawWjipmdgmqexLIaonstGItholFuLZA420CaTKE+u0KzOzxoUwN+NG322rF9vu6MidqOpHb9NIpGReSEQDpFGyx3bAh2x0ePOjNxMHKxtUCR6avn8IjUBoWaIy5NhCe0SUEbfyG9KcAa+cqiK1TNIsE18qHP5D5YV1Glo7ic8dkenaqif0fcmPH48PNbapHWq/1t9Nrfnq03pnAPpOpJLdxH/8lFAsNzDjA550kue1awz5+L8bwCtTSUH/4Up20MeCIFZo81LzXubi/JZ4avPioOo3vlzezj3KuUqjSTf+Vn8x3unOMskspIXHXT/U2K8Ocmroya+I36t51/5PNK2LFwJMb7PPk+3ADrGd9fp9X4U51UQJd8bQY8UmPWHYcedtynxo3B/t3FOzY1Bpm4+0ecoRhs85LJbI9OX2X0UdD+hI4t8JkRYO2KJWxfmH7tH2hXIdt+Gnw/EhF+2ydItEvOMZvTnuXu82cCt+NQGKcecDi6A11xBTRoMwAAAK+D8S2gfkpM7jkUVrX1S8ADbQYAAOCVADEk2J01/jbLJZ3Xx1bxAGgzAAAArwSkyTqE61/GLa85XqDNAAAAvHwghgAAAAAQNUiTAQAAACBqIIYAAAAAEDUQQwAAAACIGoghAAAAAEQNxBAAAAAAogZiCAAAAABRAzEEAAAAgKiBGAIAAABA1EAMAQAAACBqIIYAAAAAEDUQQwAAAACIGoghAAAAAEQNxBAAAAAAogZiCAAAAAARQ/T/AT0Y1C9szj2NAAAAAElFTkSuQmCC)"
      ],
      "metadata": {
        "id": "jbvwFr22qMi3"
      }
    },
    {
      "cell_type": "markdown",
      "source": [
        "# Method 5 : Use of Focal Loss"
      ],
      "metadata": {
        "id": "_8YOXB6CqQvQ"
      }
    },
    {
      "cell_type": "code",
      "source": [
        "import tensorflow_addons as tfa"
      ],
      "metadata": {
        "id": "wXLEuLZeqn65"
      },
      "execution_count": 58,
      "outputs": []
    },
    {
      "cell_type": "code",
      "source": [
        "X_train, X_test, y_train, y_test=train_test_split(df2.drop('Exited',axis='columns'),df2['Exited'],train_size=0.9,stratify=df2['Exited'])"
      ],
      "metadata": {
        "id": "PoXrwRrqqcB3"
      },
      "execution_count": 53,
      "outputs": []
    },
    {
      "cell_type": "code",
      "source": [
        "import tensorflow as tf\n",
        "from tensorflow import keras\n",
        "\n",
        "model5=tf.keras.Sequential([\n",
        "    keras.layers.Dense(13,input_dim=13,activation='relu'),\n",
        "    keras.layers.Dense(6,activation='relu'),\n",
        "    keras.layers.Dense(3,activation='relu'),\n",
        "    keras.layers.Dense(1,activation='sigmoid')\n",
        "])\n",
        "\n",
        "model5.compile(\n",
        "    loss=tfa.losses.SigmoidFocalCrossEntropy(alpha=0.25,gamma=2),\n",
        "    metrics=['accuracy'],\n",
        "    optimizer='adam'\n",
        ")\n",
        "\n",
        "model5.fit(X_train,y_train,epochs=100)"
      ],
      "metadata": {
        "colab": {
          "base_uri": "https://localhost:8080/"
        },
        "id": "UHqaOtKEpALZ",
        "outputId": "10385bfd-a004-40f2-8d9b-c55c25f5e931"
      },
      "execution_count": 60,
      "outputs": [
        {
          "output_type": "stream",
          "name": "stdout",
          "text": [
            "Epoch 1/100\n",
            "282/282 [==============================] - 2s 4ms/step - loss: 0.0665 - accuracy: 0.7882\n",
            "Epoch 2/100\n",
            "282/282 [==============================] - 1s 3ms/step - loss: 0.0467 - accuracy: 0.7963\n",
            "Epoch 3/100\n",
            "282/282 [==============================] - 1s 3ms/step - loss: 0.0458 - accuracy: 0.7963\n",
            "Epoch 4/100\n",
            "282/282 [==============================] - 1s 3ms/step - loss: 0.0450 - accuracy: 0.7963\n",
            "Epoch 5/100\n",
            "282/282 [==============================] - 1s 3ms/step - loss: 0.0441 - accuracy: 0.7963\n",
            "Epoch 6/100\n",
            "282/282 [==============================] - 1s 3ms/step - loss: 0.0431 - accuracy: 0.7963\n",
            "Epoch 7/100\n",
            "282/282 [==============================] - 1s 3ms/step - loss: 0.0417 - accuracy: 0.7963\n",
            "Epoch 8/100\n",
            "282/282 [==============================] - 1s 3ms/step - loss: 0.0403 - accuracy: 0.7963\n",
            "Epoch 9/100\n",
            "282/282 [==============================] - 1s 3ms/step - loss: 0.0391 - accuracy: 0.8009\n",
            "Epoch 10/100\n",
            "282/282 [==============================] - 1s 3ms/step - loss: 0.0381 - accuracy: 0.8091\n",
            "Epoch 11/100\n",
            "282/282 [==============================] - 1s 3ms/step - loss: 0.0374 - accuracy: 0.8176\n",
            "Epoch 12/100\n",
            "282/282 [==============================] - 1s 3ms/step - loss: 0.0370 - accuracy: 0.8212\n",
            "Epoch 13/100\n",
            "282/282 [==============================] - 1s 3ms/step - loss: 0.0366 - accuracy: 0.8261\n",
            "Epoch 14/100\n",
            "282/282 [==============================] - 1s 3ms/step - loss: 0.0363 - accuracy: 0.8313\n",
            "Epoch 15/100\n",
            "282/282 [==============================] - 1s 3ms/step - loss: 0.0360 - accuracy: 0.8323\n",
            "Epoch 16/100\n",
            "282/282 [==============================] - 1s 3ms/step - loss: 0.0359 - accuracy: 0.8334\n",
            "Epoch 17/100\n",
            "282/282 [==============================] - 1s 3ms/step - loss: 0.0357 - accuracy: 0.8373\n",
            "Epoch 18/100\n",
            "282/282 [==============================] - 1s 3ms/step - loss: 0.0355 - accuracy: 0.8367\n",
            "Epoch 19/100\n",
            "282/282 [==============================] - 1s 3ms/step - loss: 0.0354 - accuracy: 0.8376\n",
            "Epoch 20/100\n",
            "282/282 [==============================] - 1s 3ms/step - loss: 0.0353 - accuracy: 0.8388\n",
            "Epoch 21/100\n",
            "282/282 [==============================] - 1s 3ms/step - loss: 0.0352 - accuracy: 0.8409\n",
            "Epoch 22/100\n",
            "282/282 [==============================] - 1s 3ms/step - loss: 0.0351 - accuracy: 0.8423\n",
            "Epoch 23/100\n",
            "282/282 [==============================] - 1s 3ms/step - loss: 0.0350 - accuracy: 0.8406\n",
            "Epoch 24/100\n",
            "282/282 [==============================] - 1s 3ms/step - loss: 0.0349 - accuracy: 0.8460\n",
            "Epoch 25/100\n",
            "282/282 [==============================] - 1s 3ms/step - loss: 0.0348 - accuracy: 0.8439\n",
            "Epoch 26/100\n",
            "282/282 [==============================] - 1s 3ms/step - loss: 0.0347 - accuracy: 0.8461\n",
            "Epoch 27/100\n",
            "282/282 [==============================] - 1s 3ms/step - loss: 0.0346 - accuracy: 0.8468\n",
            "Epoch 28/100\n",
            "282/282 [==============================] - 1s 3ms/step - loss: 0.0346 - accuracy: 0.8467\n",
            "Epoch 29/100\n",
            "282/282 [==============================] - 1s 3ms/step - loss: 0.0344 - accuracy: 0.8493\n",
            "Epoch 30/100\n",
            "282/282 [==============================] - 1s 3ms/step - loss: 0.0344 - accuracy: 0.8486\n",
            "Epoch 31/100\n",
            "282/282 [==============================] - 1s 4ms/step - loss: 0.0344 - accuracy: 0.8502\n",
            "Epoch 32/100\n",
            "282/282 [==============================] - 1s 4ms/step - loss: 0.0342 - accuracy: 0.8487\n",
            "Epoch 33/100\n",
            "282/282 [==============================] - 1s 4ms/step - loss: 0.0342 - accuracy: 0.8492\n",
            "Epoch 34/100\n",
            "282/282 [==============================] - 1s 3ms/step - loss: 0.0341 - accuracy: 0.8489\n",
            "Epoch 35/100\n",
            "282/282 [==============================] - 1s 3ms/step - loss: 0.0340 - accuracy: 0.8496\n",
            "Epoch 36/100\n",
            "282/282 [==============================] - 1s 4ms/step - loss: 0.0340 - accuracy: 0.8496\n",
            "Epoch 37/100\n",
            "282/282 [==============================] - 1s 4ms/step - loss: 0.0338 - accuracy: 0.8518\n",
            "Epoch 38/100\n",
            "282/282 [==============================] - 1s 3ms/step - loss: 0.0339 - accuracy: 0.8517\n",
            "Epoch 39/100\n",
            "282/282 [==============================] - 1s 3ms/step - loss: 0.0337 - accuracy: 0.8516\n",
            "Epoch 40/100\n",
            "282/282 [==============================] - 1s 3ms/step - loss: 0.0337 - accuracy: 0.8506\n",
            "Epoch 41/100\n",
            "282/282 [==============================] - 1s 3ms/step - loss: 0.0336 - accuracy: 0.8501\n",
            "Epoch 42/100\n",
            "282/282 [==============================] - 1s 3ms/step - loss: 0.0337 - accuracy: 0.8524\n",
            "Epoch 43/100\n",
            "282/282 [==============================] - 1s 3ms/step - loss: 0.0335 - accuracy: 0.8519\n",
            "Epoch 44/100\n",
            "282/282 [==============================] - 1s 3ms/step - loss: 0.0334 - accuracy: 0.8542\n",
            "Epoch 45/100\n",
            "282/282 [==============================] - 1s 4ms/step - loss: 0.0335 - accuracy: 0.8530\n",
            "Epoch 46/100\n",
            "282/282 [==============================] - 1s 3ms/step - loss: 0.0334 - accuracy: 0.8531\n",
            "Epoch 47/100\n",
            "282/282 [==============================] - 1s 3ms/step - loss: 0.0334 - accuracy: 0.8528\n",
            "Epoch 48/100\n",
            "282/282 [==============================] - 1s 3ms/step - loss: 0.0333 - accuracy: 0.8527\n",
            "Epoch 49/100\n",
            "282/282 [==============================] - 1s 3ms/step - loss: 0.0333 - accuracy: 0.8543\n",
            "Epoch 50/100\n",
            "282/282 [==============================] - 1s 4ms/step - loss: 0.0333 - accuracy: 0.8534\n",
            "Epoch 51/100\n",
            "282/282 [==============================] - 1s 3ms/step - loss: 0.0332 - accuracy: 0.8536\n",
            "Epoch 52/100\n",
            "282/282 [==============================] - 1s 3ms/step - loss: 0.0333 - accuracy: 0.8549\n",
            "Epoch 53/100\n",
            "282/282 [==============================] - 1s 3ms/step - loss: 0.0332 - accuracy: 0.8543\n",
            "Epoch 54/100\n",
            "282/282 [==============================] - 1s 3ms/step - loss: 0.0332 - accuracy: 0.8518\n",
            "Epoch 55/100\n",
            "282/282 [==============================] - 1s 3ms/step - loss: 0.0332 - accuracy: 0.8526\n",
            "Epoch 56/100\n",
            "282/282 [==============================] - 1s 3ms/step - loss: 0.0331 - accuracy: 0.8522\n",
            "Epoch 57/100\n",
            "282/282 [==============================] - 1s 3ms/step - loss: 0.0331 - accuracy: 0.8532\n",
            "Epoch 58/100\n",
            "282/282 [==============================] - 1s 4ms/step - loss: 0.0331 - accuracy: 0.8557\n",
            "Epoch 59/100\n",
            "282/282 [==============================] - 1s 3ms/step - loss: 0.0332 - accuracy: 0.8539\n",
            "Epoch 60/100\n",
            "282/282 [==============================] - 1s 3ms/step - loss: 0.0331 - accuracy: 0.8538\n",
            "Epoch 61/100\n",
            "282/282 [==============================] - 1s 3ms/step - loss: 0.0331 - accuracy: 0.8543\n",
            "Epoch 62/100\n",
            "282/282 [==============================] - 1s 3ms/step - loss: 0.0331 - accuracy: 0.8549\n",
            "Epoch 63/100\n",
            "282/282 [==============================] - 1s 4ms/step - loss: 0.0331 - accuracy: 0.8544\n",
            "Epoch 64/100\n",
            "282/282 [==============================] - 1s 3ms/step - loss: 0.0329 - accuracy: 0.8550\n",
            "Epoch 65/100\n",
            "282/282 [==============================] - 1s 3ms/step - loss: 0.0330 - accuracy: 0.8539\n",
            "Epoch 66/100\n",
            "282/282 [==============================] - 1s 3ms/step - loss: 0.0330 - accuracy: 0.8537\n",
            "Epoch 67/100\n",
            "282/282 [==============================] - 1s 3ms/step - loss: 0.0330 - accuracy: 0.8547\n",
            "Epoch 68/100\n",
            "282/282 [==============================] - 1s 3ms/step - loss: 0.0329 - accuracy: 0.8543\n",
            "Epoch 69/100\n",
            "282/282 [==============================] - 1s 3ms/step - loss: 0.0329 - accuracy: 0.8547\n",
            "Epoch 70/100\n",
            "282/282 [==============================] - 1s 3ms/step - loss: 0.0329 - accuracy: 0.8540\n",
            "Epoch 71/100\n",
            "282/282 [==============================] - 1s 3ms/step - loss: 0.0328 - accuracy: 0.8550\n",
            "Epoch 72/100\n",
            "282/282 [==============================] - 1s 3ms/step - loss: 0.0328 - accuracy: 0.8540\n",
            "Epoch 73/100\n",
            "282/282 [==============================] - 1s 4ms/step - loss: 0.0329 - accuracy: 0.8533\n",
            "Epoch 74/100\n",
            "282/282 [==============================] - 1s 3ms/step - loss: 0.0328 - accuracy: 0.8559\n",
            "Epoch 75/100\n",
            "282/282 [==============================] - 1s 3ms/step - loss: 0.0328 - accuracy: 0.8554\n",
            "Epoch 76/100\n",
            "282/282 [==============================] - 1s 3ms/step - loss: 0.0328 - accuracy: 0.8548\n",
            "Epoch 77/100\n",
            "282/282 [==============================] - 1s 4ms/step - loss: 0.0328 - accuracy: 0.8542\n",
            "Epoch 78/100\n",
            "282/282 [==============================] - 1s 3ms/step - loss: 0.0328 - accuracy: 0.8538\n",
            "Epoch 79/100\n",
            "282/282 [==============================] - 1s 3ms/step - loss: 0.0327 - accuracy: 0.8560\n",
            "Epoch 80/100\n",
            "282/282 [==============================] - 1s 3ms/step - loss: 0.0328 - accuracy: 0.8546\n",
            "Epoch 81/100\n",
            "282/282 [==============================] - 1s 3ms/step - loss: 0.0329 - accuracy: 0.8559\n",
            "Epoch 82/100\n",
            "282/282 [==============================] - 1s 3ms/step - loss: 0.0327 - accuracy: 0.8557\n",
            "Epoch 83/100\n",
            "282/282 [==============================] - 1s 4ms/step - loss: 0.0327 - accuracy: 0.8549\n",
            "Epoch 84/100\n",
            "282/282 [==============================] - 1s 4ms/step - loss: 0.0328 - accuracy: 0.8548\n",
            "Epoch 85/100\n",
            "282/282 [==============================] - 1s 3ms/step - loss: 0.0327 - accuracy: 0.8546\n",
            "Epoch 86/100\n",
            "282/282 [==============================] - 1s 3ms/step - loss: 0.0327 - accuracy: 0.8552\n",
            "Epoch 87/100\n",
            "282/282 [==============================] - 1s 3ms/step - loss: 0.0327 - accuracy: 0.8562\n",
            "Epoch 88/100\n",
            "282/282 [==============================] - 1s 4ms/step - loss: 0.0327 - accuracy: 0.8553\n",
            "Epoch 89/100\n",
            "282/282 [==============================] - 1s 4ms/step - loss: 0.0327 - accuracy: 0.8558\n",
            "Epoch 90/100\n",
            "282/282 [==============================] - 1s 3ms/step - loss: 0.0327 - accuracy: 0.8544\n",
            "Epoch 91/100\n",
            "282/282 [==============================] - 1s 3ms/step - loss: 0.0327 - accuracy: 0.8557\n",
            "Epoch 92/100\n",
            "282/282 [==============================] - 1s 3ms/step - loss: 0.0327 - accuracy: 0.8558\n",
            "Epoch 93/100\n",
            "282/282 [==============================] - 1s 3ms/step - loss: 0.0327 - accuracy: 0.8551\n",
            "Epoch 94/100\n",
            "282/282 [==============================] - 1s 3ms/step - loss: 0.0327 - accuracy: 0.8558\n",
            "Epoch 95/100\n",
            "282/282 [==============================] - 1s 3ms/step - loss: 0.0327 - accuracy: 0.8556\n",
            "Epoch 96/100\n",
            "282/282 [==============================] - 1s 3ms/step - loss: 0.0326 - accuracy: 0.8570\n",
            "Epoch 97/100\n",
            "282/282 [==============================] - 1s 3ms/step - loss: 0.0327 - accuracy: 0.8548\n",
            "Epoch 98/100\n",
            "282/282 [==============================] - 1s 3ms/step - loss: 0.0326 - accuracy: 0.8564\n",
            "Epoch 99/100\n",
            "282/282 [==============================] - 1s 3ms/step - loss: 0.0325 - accuracy: 0.8577\n",
            "Epoch 100/100\n",
            "282/282 [==============================] - 1s 3ms/step - loss: 0.0327 - accuracy: 0.8566\n"
          ]
        },
        {
          "output_type": "execute_result",
          "data": {
            "text/plain": [
              "<keras.callbacks.History at 0x7fd1525e8890>"
            ]
          },
          "metadata": {},
          "execution_count": 60
        }
      ]
    },
    {
      "cell_type": "code",
      "source": [
        "y_pred5=model5.predict(X_test)\n",
        "y_pred5=np.round(y_pred5)\n",
        "\n",
        "print(classification_report(y_test,y_pred5))"
      ],
      "metadata": {
        "colab": {
          "base_uri": "https://localhost:8080/"
        },
        "id": "2JgbzVOHq-qK",
        "outputId": "b1691d82-0c6b-459d-828b-a91eb201c35f"
      },
      "execution_count": 62,
      "outputs": [
        {
          "output_type": "stream",
          "name": "stdout",
          "text": [
            "32/32 [==============================] - 0s 2ms/step\n",
            "              precision    recall  f1-score   support\n",
            "\n",
            "           0       0.85      0.99      0.91       796\n",
            "           1       0.90      0.31      0.46       204\n",
            "\n",
            "    accuracy                           0.85      1000\n",
            "   macro avg       0.87      0.65      0.69      1000\n",
            "weighted avg       0.86      0.85      0.82      1000\n",
            "\n"
          ]
        }
      ]
    },
    {
      "cell_type": "markdown",
      "source": [
        "# Comparison with Normal Neural Network\n",
        "\n",
        "![image.png](data:image/png;base64,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)"
      ],
      "metadata": {
        "id": "vsYFmGh8sWJy"
      }
    }
  ]
}