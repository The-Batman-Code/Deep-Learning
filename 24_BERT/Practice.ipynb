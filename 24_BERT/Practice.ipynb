{
  "cells": [
    {
      "attachments": {},
      "cell_type": "markdown",
      "metadata": {},
      "source": [
        "# Import libraries"
      ]
    },
    {
      "cell_type": "code",
      "execution_count": 1,
      "metadata": {},
      "outputs": [],
      "source": [
        "import tensorflow_hub as hub\n",
        "import tensorflow_text as text"
      ]
    },
    {
      "cell_type": "code",
      "execution_count": 3,
      "metadata": {},
      "outputs": [],
      "source": [
        "encoder_url='https://tfhub.dev/tensorflow/bert_en_uncased_L-12_H-768_A-12/4'\n",
        "preprocess_url='https://tfhub.dev/tensorflow/bert_en_uncased_preprocess/3'"
      ]
    },
    {
      "cell_type": "code",
      "execution_count": 4,
      "metadata": {},
      "outputs": [
        {
          "name": "stdout",
          "output_type": "stream",
          "text": [
            "WARNING:tensorflow:Please fix your imports. Module tensorflow.python.training.tracking.data_structures has been moved to tensorflow.python.trackable.data_structures. The old module will be deleted in version 2.11.\n"
          ]
        }
      ],
      "source": [
        "bert_preprocess_model=hub.KerasLayer(preprocess_url)\n"
      ]
    },
    {
      "cell_type": "code",
      "execution_count": 5,
      "metadata": {},
      "outputs": [
        {
          "data": {
            "text/plain": [
              "dict_keys(['input_type_ids', 'input_mask', 'input_word_ids'])"
            ]
          },
          "execution_count": 5,
          "metadata": {},
          "output_type": "execute_result"
        }
      ],
      "source": [
        "text_test=['nice movie indeed','I love python programming']\n",
        "text_preprocessed=bert_preprocess_model(text_test)\n",
        "text_preprocessed.keys()"
      ]
    },
    {
      "attachments": {},
      "cell_type": "markdown",
      "metadata": {},
      "source": [
        "# Masks for each sentence"
      ]
    },
    {
      "cell_type": "code",
      "execution_count": 6,
      "metadata": {},
      "outputs": [
        {
          "data": {
            "text/plain": [
              "<tf.Tensor: shape=(2, 128), dtype=int32, numpy=\n",
              "array([[1, 1, 1, 1, 1, 0, 0, 0, 0, 0, 0, 0, 0, 0, 0, 0, 0, 0, 0, 0, 0, 0,\n",
              "        0, 0, 0, 0, 0, 0, 0, 0, 0, 0, 0, 0, 0, 0, 0, 0, 0, 0, 0, 0, 0, 0,\n",
              "        0, 0, 0, 0, 0, 0, 0, 0, 0, 0, 0, 0, 0, 0, 0, 0, 0, 0, 0, 0, 0, 0,\n",
              "        0, 0, 0, 0, 0, 0, 0, 0, 0, 0, 0, 0, 0, 0, 0, 0, 0, 0, 0, 0, 0, 0,\n",
              "        0, 0, 0, 0, 0, 0, 0, 0, 0, 0, 0, 0, 0, 0, 0, 0, 0, 0, 0, 0, 0, 0,\n",
              "        0, 0, 0, 0, 0, 0, 0, 0, 0, 0, 0, 0, 0, 0, 0, 0, 0, 0],\n",
              "       [1, 1, 1, 1, 1, 1, 0, 0, 0, 0, 0, 0, 0, 0, 0, 0, 0, 0, 0, 0, 0, 0,\n",
              "        0, 0, 0, 0, 0, 0, 0, 0, 0, 0, 0, 0, 0, 0, 0, 0, 0, 0, 0, 0, 0, 0,\n",
              "        0, 0, 0, 0, 0, 0, 0, 0, 0, 0, 0, 0, 0, 0, 0, 0, 0, 0, 0, 0, 0, 0,\n",
              "        0, 0, 0, 0, 0, 0, 0, 0, 0, 0, 0, 0, 0, 0, 0, 0, 0, 0, 0, 0, 0, 0,\n",
              "        0, 0, 0, 0, 0, 0, 0, 0, 0, 0, 0, 0, 0, 0, 0, 0, 0, 0, 0, 0, 0, 0,\n",
              "        0, 0, 0, 0, 0, 0, 0, 0, 0, 0, 0, 0, 0, 0, 0, 0, 0, 0]])>"
            ]
          },
          "execution_count": 6,
          "metadata": {},
          "output_type": "execute_result"
        }
      ],
      "source": [
        "text_preprocessed['input_mask']\n",
        "# CLS [sentence] SEP"
      ]
    },
    {
      "attachments": {},
      "cell_type": "markdown",
      "metadata": {},
      "source": [
        "# Word ID for each word in the sentence"
      ]
    },
    {
      "cell_type": "code",
      "execution_count": 8,
      "metadata": {},
      "outputs": [
        {
          "data": {
            "text/plain": [
              "<tf.Tensor: shape=(2, 128), dtype=int32, numpy=\n",
              "array([[  101,  3835,  3185,  5262,   102,     0,     0,     0,     0,\n",
              "            0,     0,     0,     0,     0,     0,     0,     0,     0,\n",
              "            0,     0,     0,     0,     0,     0,     0,     0,     0,\n",
              "            0,     0,     0,     0,     0,     0,     0,     0,     0,\n",
              "            0,     0,     0,     0,     0,     0,     0,     0,     0,\n",
              "            0,     0,     0,     0,     0,     0,     0,     0,     0,\n",
              "            0,     0,     0,     0,     0,     0,     0,     0,     0,\n",
              "            0,     0,     0,     0,     0,     0,     0,     0,     0,\n",
              "            0,     0,     0,     0,     0,     0,     0,     0,     0,\n",
              "            0,     0,     0,     0,     0,     0,     0,     0,     0,\n",
              "            0,     0,     0,     0,     0,     0,     0,     0,     0,\n",
              "            0,     0,     0,     0,     0,     0,     0,     0,     0,\n",
              "            0,     0,     0,     0,     0,     0,     0,     0,     0,\n",
              "            0,     0,     0,     0,     0,     0,     0,     0,     0,\n",
              "            0,     0],\n",
              "       [  101,  1045,  2293, 18750,  4730,   102,     0,     0,     0,\n",
              "            0,     0,     0,     0,     0,     0,     0,     0,     0,\n",
              "            0,     0,     0,     0,     0,     0,     0,     0,     0,\n",
              "            0,     0,     0,     0,     0,     0,     0,     0,     0,\n",
              "            0,     0,     0,     0,     0,     0,     0,     0,     0,\n",
              "            0,     0,     0,     0,     0,     0,     0,     0,     0,\n",
              "            0,     0,     0,     0,     0,     0,     0,     0,     0,\n",
              "            0,     0,     0,     0,     0,     0,     0,     0,     0,\n",
              "            0,     0,     0,     0,     0,     0,     0,     0,     0,\n",
              "            0,     0,     0,     0,     0,     0,     0,     0,     0,\n",
              "            0,     0,     0,     0,     0,     0,     0,     0,     0,\n",
              "            0,     0,     0,     0,     0,     0,     0,     0,     0,\n",
              "            0,     0,     0,     0,     0,     0,     0,     0,     0,\n",
              "            0,     0,     0,     0,     0,     0,     0,     0,     0,\n",
              "            0,     0]])>"
            ]
          },
          "execution_count": 8,
          "metadata": {},
          "output_type": "execute_result"
        }
      ],
      "source": [
        "text_preprocessed['input_word_ids']\n",
        "# CLS [sentence] SEP"
      ]
    },
    {
      "cell_type": "code",
      "execution_count": 10,
      "metadata": {},
      "outputs": [
        {
          "data": {
            "text/plain": [
              "dict_keys(['sequence_output', 'pooled_output', 'encoder_outputs', 'default'])"
            ]
          },
          "execution_count": 10,
          "metadata": {},
          "output_type": "execute_result"
        }
      ],
      "source": [
        "bert_model=hub.KerasLayer(encoder_url)\n",
        "bert_results=bert_model(text_preprocessed)\n",
        "bert_results.keys()\n"
      ]
    },
    {
      "attachments": {},
      "cell_type": "markdown",
      "metadata": {},
      "source": [
        "# Embedding for the entire sentence"
      ]
    },
    {
      "cell_type": "code",
      "execution_count": 11,
      "metadata": {},
      "outputs": [
        {
          "data": {
            "text/plain": [
              "<tf.Tensor: shape=(2, 768), dtype=float32, numpy=\n",
              "array([[-0.7917743 , -0.21411934,  0.4976949 , ...,  0.24465166,\n",
              "        -0.4733449 ,  0.81758726],\n",
              "       [-0.9171231 , -0.4793518 , -0.78656983, ..., -0.6175176 ,\n",
              "        -0.7102687 ,  0.92184293]], dtype=float32)>"
            ]
          },
          "execution_count": 11,
          "metadata": {},
          "output_type": "execute_result"
        }
      ],
      "source": [
        "bert_results['pooled_output']"
      ]
    },
    {
      "attachments": {},
      "cell_type": "markdown",
      "metadata": {},
      "source": [
        "# Each sentence has padding and each word is represented by a vector"
      ]
    },
    {
      "cell_type": "code",
      "execution_count": 13,
      "metadata": {},
      "outputs": [
        {
          "data": {
            "text/plain": [
              "<tf.Tensor: shape=(2, 128, 768), dtype=float32, numpy=\n",
              "array([[[ 0.07292042,  0.08567819,  0.14476846, ..., -0.09677091,\n",
              "          0.08722158,  0.07711089],\n",
              "        [ 0.17839484, -0.19006062,  0.50349456, ..., -0.05869824,\n",
              "          0.3271712 , -0.15578577],\n",
              "        [ 0.18701512, -0.43388787, -0.4887515 , ..., -0.1550272 ,\n",
              "          0.0014518 , -0.24471004],\n",
              "        ...,\n",
              "        [ 0.12083051,  0.12884259,  0.46453547, ...,  0.0737555 ,\n",
              "          0.17441949,  0.16522136],\n",
              "        [ 0.07967859, -0.01190698,  0.50225425, ...,  0.13777778,\n",
              "          0.2100223 ,  0.00624579],\n",
              "        [-0.07212703, -0.28303495,  0.5903335 , ...,  0.4755193 ,\n",
              "          0.16668479, -0.08920302]],\n",
              "\n",
              "       [[-0.07900573,  0.36335123, -0.2110158 , ..., -0.17183736,\n",
              "          0.1629973 ,  0.67242646],\n",
              "        [ 0.2788349 ,  0.4371635 , -0.35764754, ..., -0.04463583,\n",
              "          0.38315123,  0.5887979 ],\n",
              "        [ 1.2037661 ,  1.072702  ,  0.48408687, ...,  0.24921006,\n",
              "          0.4073092 ,  0.404818  ],\n",
              "        ...,\n",
              "        [ 0.08630008,  0.19353858,  0.4754004 , ...,  0.18880144,\n",
              "         -0.06474108,  0.31318593],\n",
              "        [ 0.1588703 ,  0.28572655,  0.3734078 , ...,  0.09309138,\n",
              "         -0.04969546,  0.3876112 ],\n",
              "        [-0.08079822, -0.09572795,  0.26809826, ...,  0.13979587,\n",
              "         -0.06315868,  0.27288383]]], dtype=float32)>"
            ]
          },
          "execution_count": 13,
          "metadata": {},
          "output_type": "execute_result"
        }
      ],
      "source": [
        "bert_results['sequence_output']\n",
        "# [sentence] 0 0 0 0 0 <-- 128 as it is a contexualized sentence"
      ]
    },
    {
      "cell_type": "code",
      "execution_count": 20,
      "metadata": {},
      "outputs": [
        {
          "data": {
            "text/plain": [
              "12"
            ]
          },
          "execution_count": 20,
          "metadata": {},
          "output_type": "execute_result"
        }
      ],
      "source": [
        "len(bert_results['encoder_outputs'])\n",
        "# small BASE BERT with 12 encoders\n"
      ]
    },
    {
      "attachments": {},
      "cell_type": "markdown",
      "metadata": {},
      "source": [
        "# Encoder output for all encoders"
      ]
    },
    {
      "cell_type": "code",
      "execution_count": 19,
      "metadata": {},
      "outputs": [
        {
          "data": {
            "text/plain": [
              "<tf.Tensor: shape=(2, 128, 768), dtype=float32, numpy=\n",
              "array([[[ 0.12901427,  0.00644756, -0.03614959, ...,  0.04999617,\n",
              "          0.06149195, -0.02657554],\n",
              "        [ 1.1753383 ,  1.2140788 ,  1.156998  , ...,  0.11634377,\n",
              "         -0.3585539 , -0.4049023 ],\n",
              "        [ 0.03859045,  0.5386999 , -0.21089773, ...,  0.21858215,\n",
              "          0.7260168 , -1.1158609 ],\n",
              "        ...,\n",
              "        [-0.07587016, -0.2542193 ,  0.7075512 , ...,  0.5054201 ,\n",
              "         -0.18878648,  0.15028323],\n",
              "        [-0.16066599, -0.28089675,  0.5759705 , ...,  0.5275856 ,\n",
              "         -0.11141355,  0.0288752 ],\n",
              "        [-0.04428156, -0.20279586,  0.59093523, ...,  0.8133835 ,\n",
              "         -0.3907579 , -0.02601741]],\n",
              "\n",
              "       [[ 0.18903571,  0.02752551, -0.06513739, ..., -0.00620209,\n",
              "          0.15053877,  0.03165431],\n",
              "        [ 0.59161484,  0.75891393, -0.07240683, ...,  0.6190397 ,\n",
              "          0.8292891 ,  0.16161966],\n",
              "        [ 1.4460826 ,  0.4460267 ,  0.40990284, ...,  0.48255897,\n",
              "          0.6269113 ,  0.13463378],\n",
              "        ...,\n",
              "        [ 0.15147904, -0.21573831,  0.7032905 , ..., -0.12537214,\n",
              "         -0.13787255,  0.27722058],\n",
              "        [ 0.05143794, -0.24052702,  0.5356915 , ..., -0.07915016,\n",
              "         -0.03307912,  0.17380953],\n",
              "        [ 0.20934714, -0.1564528 ,  0.60395473, ...,  0.3290354 ,\n",
              "         -0.35827172,  0.08100445]]], dtype=float32)>"
            ]
          },
          "execution_count": 19,
          "metadata": {},
          "output_type": "execute_result"
        }
      ],
      "source": [
        "bert_results['encoder_outputs'][0]\n"
      ]
    },
    {
      "cell_type": "code",
      "execution_count": 24,
      "metadata": {},
      "outputs": [
        {
          "data": {
            "text/plain": [
              "<tf.Tensor: shape=(2, 128, 768), dtype=bool, numpy=\n",
              "array([[[ True,  True,  True, ...,  True,  True,  True],\n",
              "        [ True,  True,  True, ...,  True,  True,  True],\n",
              "        [ True,  True,  True, ...,  True,  True,  True],\n",
              "        ...,\n",
              "        [ True,  True,  True, ...,  True,  True,  True],\n",
              "        [ True,  True,  True, ...,  True,  True,  True],\n",
              "        [ True,  True,  True, ...,  True,  True,  True]],\n",
              "\n",
              "       [[ True,  True,  True, ...,  True,  True,  True],\n",
              "        [ True,  True,  True, ...,  True,  True,  True],\n",
              "        [ True,  True,  True, ...,  True,  True,  True],\n",
              "        ...,\n",
              "        [ True,  True,  True, ...,  True,  True,  True],\n",
              "        [ True,  True,  True, ...,  True,  True,  True],\n",
              "        [ True,  True,  True, ...,  True,  True,  True]]])>"
            ]
          },
          "execution_count": 24,
          "metadata": {},
          "output_type": "execute_result"
        }
      ],
      "source": [
        "bert_results['encoder_outputs'][-1]==bert_results['sequence_output']\n",
        "# Encoder output for last encoder is same as sequence output\n"
      ]
    },
    {
      "cell_type": "code",
      "execution_count": null,
      "metadata": {},
      "outputs": [],
      "source": []
    }
  ],
  "metadata": {
    "accelerator": "GPU",
    "colab": {
      "provenance": []
    },
    "gpuClass": "standard",
    "kernelspec": {
      "display_name": "Python 3.10.6 64-bit",
      "language": "python",
      "name": "python3"
    },
    "language_info": {
      "codemirror_mode": {
        "name": "ipython",
        "version": 3
      },
      "file_extension": ".py",
      "mimetype": "text/x-python",
      "name": "python",
      "nbconvert_exporter": "python",
      "pygments_lexer": "ipython3",
      "version": "3.10.9"
    },
    "orig_nbformat": 4,
    "vscode": {
      "interpreter": {
        "hash": "52634da84371cba311ea128a5ea7cdc41ff074b781779e754b270ff9f8153cee"
      }
    }
  },
  "nbformat": 4,
  "nbformat_minor": 0
}
