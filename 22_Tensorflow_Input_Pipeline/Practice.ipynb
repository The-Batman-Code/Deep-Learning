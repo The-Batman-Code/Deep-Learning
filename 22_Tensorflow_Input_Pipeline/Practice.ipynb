{
  "cells": [
    {
      "attachments": {},
      "cell_type": "markdown",
      "metadata": {},
      "source": [
        "# Import libraries"
      ]
    },
    {
      "cell_type": "code",
      "execution_count": 2,
      "metadata": {},
      "outputs": [],
      "source": [
        "import tensorflow as tf"
      ]
    },
    {
      "cell_type": "code",
      "execution_count": 3,
      "metadata": {},
      "outputs": [],
      "source": [
        "daily_sales_numbers=[21,22,-108,31,-1,32,34,31]"
      ]
    },
    {
      "attachments": {},
      "cell_type": "markdown",
      "metadata": {},
      "source": [
        "# Part 1:"
      ]
    },
    {
      "attachments": {},
      "cell_type": "markdown",
      "metadata": {},
      "source": [
        "# Converting List to tensor object"
      ]
    },
    {
      "cell_type": "code",
      "execution_count": 4,
      "metadata": {},
      "outputs": [
        {
          "data": {
            "text/plain": [
              "<TensorSliceDataset element_spec=TensorSpec(shape=(), dtype=tf.int32, name=None)>"
            ]
          },
          "execution_count": 4,
          "metadata": {},
          "output_type": "execute_result"
        }
      ],
      "source": [
        "tf_dataset=tf.data.Dataset.from_tensor_slices(daily_sales_numbers)\n",
        "tf_dataset"
      ]
    },
    {
      "cell_type": "code",
      "execution_count": 5,
      "metadata": {},
      "outputs": [
        {
          "name": "stdout",
          "output_type": "stream",
          "text": [
            "21\n",
            "22\n",
            "-108\n",
            "31\n",
            "-1\n",
            "32\n",
            "34\n",
            "31\n"
          ]
        }
      ],
      "source": [
        "for sales in tf_dataset:\n",
        "    print(sales.numpy())"
      ]
    },
    {
      "attachments": {},
      "cell_type": "markdown",
      "metadata": {},
      "source": [
        "# Using take function"
      ]
    },
    {
      "cell_type": "code",
      "execution_count": 6,
      "metadata": {},
      "outputs": [
        {
          "name": "stdout",
          "output_type": "stream",
          "text": [
            "21\n",
            "22\n",
            "-108\n"
          ]
        }
      ],
      "source": [
        "for sales in tf_dataset.take(3):\n",
        "    print(sales.numpy())"
      ]
    },
    {
      "attachments": {},
      "cell_type": "markdown",
      "metadata": {},
      "source": [
        "# Filtering values"
      ]
    },
    {
      "cell_type": "code",
      "execution_count": 7,
      "metadata": {},
      "outputs": [
        {
          "name": "stdout",
          "output_type": "stream",
          "text": [
            "21\n",
            "22\n",
            "31\n",
            "32\n",
            "34\n",
            "31\n"
          ]
        }
      ],
      "source": [
        "tf_dataset=tf_dataset.filter(lambda x:x>0)\n",
        "for sales in tf_dataset:\n",
        "    print(sales.numpy())"
      ]
    },
    {
      "attachments": {},
      "cell_type": "markdown",
      "metadata": {},
      "source": [
        "# Using map function"
      ]
    },
    {
      "cell_type": "code",
      "execution_count": 8,
      "metadata": {},
      "outputs": [
        {
          "name": "stdout",
          "output_type": "stream",
          "text": [
            "1512\n",
            "1584\n",
            "2232\n",
            "2304\n",
            "2448\n",
            "2232\n"
          ]
        }
      ],
      "source": [
        "tf_dataset=tf_dataset.map(lambda x: x*72)\n",
        "for sales in tf_dataset:\n",
        "    print(sales.numpy())"
      ]
    },
    {
      "attachments": {},
      "cell_type": "markdown",
      "metadata": {},
      "source": [
        "# Using shuffle function"
      ]
    },
    {
      "cell_type": "code",
      "execution_count": 9,
      "metadata": {},
      "outputs": [
        {
          "name": "stdout",
          "output_type": "stream",
          "text": [
            "1512\n",
            "1584\n",
            "2448\n",
            "2304\n",
            "2232\n",
            "2232\n"
          ]
        }
      ],
      "source": [
        "tf_dataset=tf_dataset.shuffle(3)\n",
        "for sales in tf_dataset:\n",
        "    print(sales.numpy())"
      ]
    },
    {
      "attachments": {},
      "cell_type": "markdown",
      "metadata": {},
      "source": [
        "# Using batch function"
      ]
    },
    {
      "cell_type": "code",
      "execution_count": 10,
      "metadata": {},
      "outputs": [
        {
          "name": "stdout",
          "output_type": "stream",
          "text": [
            "[1512 2232]\n",
            "[2448 2232]\n",
            "[2304 1584]\n"
          ]
        }
      ],
      "source": [
        "for sales_batch in tf_dataset.batch(2):\n",
        "    print(sales_batch.numpy())"
      ]
    },
    {
      "attachments": {},
      "cell_type": "markdown",
      "metadata": {},
      "source": [
        "# Doing the above task in one line using pipeline"
      ]
    },
    {
      "cell_type": "code",
      "execution_count": 11,
      "metadata": {},
      "outputs": [
        {
          "name": "stdout",
          "output_type": "stream",
          "text": [
            "[1512 1584]\n",
            "[2232 2304]\n",
            "[2232 2448]\n"
          ]
        }
      ],
      "source": [
        "tf_dataset=tf.data.Dataset.from_tensor_slices(daily_sales_numbers)\n",
        "tf_dataset=tf_dataset.filter(lambda x:x>0).map(lambda y:y*72).shuffle(2).batch(2)\n",
        "for sales in tf_dataset:\n",
        "    print(sales.numpy())"
      ]
    },
    {
      "attachments": {},
      "cell_type": "markdown",
      "metadata": {},
      "source": [
        "# Part 2: "
      ]
    },
    {
      "attachments": {},
      "cell_type": "markdown",
      "metadata": {},
      "source": [
        "# Reading paths of images"
      ]
    },
    {
      "cell_type": "code",
      "execution_count": 12,
      "metadata": {},
      "outputs": [
        {
          "name": "stdout",
          "output_type": "stream",
          "text": [
            "b'D:\\\\Downloads\\\\cats\\\\00SCI-CATS1-videoSixteenByNineJumbo1600-v2.jpg'\n",
            "b'D:\\\\Downloads\\\\cats\\\\00tb-cats1-mediumSquareAt3X.jpg'\n",
            "b'D:\\\\Downloads\\\\cats\\\\01-cat-questions-nationalgeographic_1228126_3x2.jpg'\n",
            "b'D:\\\\Downloads\\\\cats\\\\07CAT-STRIPES-mediumSquareAt3X-v2.jpg'\n",
            "b'D:\\\\Downloads\\\\cats\\\\08_22_Winery_Cats_HERO_GettyImages_475462958_1920x1280.jpg'\n"
          ]
        }
      ],
      "source": [
        "images_ds=tf.data.Dataset.list_files('D:/Downloads/*/*', shuffle=False)\n",
        "for file in images_ds.take(5):\n",
        "    print(file.numpy())"
      ]
    },
    {
      "cell_type": "code",
      "execution_count": 13,
      "metadata": {},
      "outputs": [
        {
          "name": "stdout",
          "output_type": "stream",
          "text": [
            "b'D:\\\\Downloads\\\\cats\\\\1521-WIRED-Cat.jpeg'\n",
            "b'D:\\\\Downloads\\\\cats\\\\maxresdefault (1).jpg'\n",
            "b'D:\\\\Downloads\\\\dogs\\\\small-dog-owners-1.jpg'\n",
            "b'D:\\\\Downloads\\\\dogs\\\\15-Amazing-Dog-FactsTEASER.jpg'\n",
            "b'D:\\\\Downloads\\\\dogs\\\\angry_chihuahua.png'\n"
          ]
        }
      ],
      "source": [
        "images_ds=tf.data.Dataset.list_files('D:/Downloads/*/*', shuffle=True)\n",
        "for file in images_ds.take(5):\n",
        "    print(file.numpy())"
      ]
    },
    {
      "cell_type": "code",
      "execution_count": 14,
      "metadata": {},
      "outputs": [],
      "source": [
        "class_names=['Cat','Dog']"
      ]
    },
    {
      "attachments": {},
      "cell_type": "markdown",
      "metadata": {},
      "source": [
        "# Splitting data into train and test sets"
      ]
    },
    {
      "cell_type": "code",
      "execution_count": 15,
      "metadata": {},
      "outputs": [
        {
          "data": {
            "text/plain": [
              "197"
            ]
          },
          "execution_count": 15,
          "metadata": {},
          "output_type": "execute_result"
        }
      ],
      "source": [
        "image_count=len(images_ds)\n",
        "image_count"
      ]
    },
    {
      "cell_type": "code",
      "execution_count": 16,
      "metadata": {},
      "outputs": [],
      "source": [
        "train_size=int(image_count*0.8)\n",
        "\n",
        "train_ds=images_ds.take(train_size)\n",
        "test_ds=images_ds.skip(train_size)"
      ]
    },
    {
      "cell_type": "code",
      "execution_count": 17,
      "metadata": {},
      "outputs": [
        {
          "data": {
            "text/plain": [
              "157"
            ]
          },
          "execution_count": 17,
          "metadata": {},
          "output_type": "execute_result"
        }
      ],
      "source": [
        "len(train_ds)"
      ]
    },
    {
      "attachments": {},
      "cell_type": "markdown",
      "metadata": {},
      "source": [
        "# Function to get label from file path"
      ]
    },
    {
      "cell_type": "code",
      "execution_count": 18,
      "metadata": {},
      "outputs": [],
      "source": [
        "def get_label(file_path):\n",
        "    import os\n",
        "    return tf.strings.split(file_path, os.path.sep)[-2]"
      ]
    },
    {
      "attachments": {},
      "cell_type": "markdown",
      "metadata": {},
      "source": [
        "# Function to read images and resize them"
      ]
    },
    {
      "cell_type": "code",
      "execution_count": 19,
      "metadata": {},
      "outputs": [],
      "source": [
        "def process_image(file_path):\n",
        "    label=get_label(file_path)\n",
        "    \n",
        "    img=tf.io.read_file(file_path)\n",
        "    img=tf.image.decode_jpeg(img)\n",
        "    img=tf.image.resize(img, [128,128])\n",
        "    \n",
        "    return img,label"
      ]
    },
    {
      "cell_type": "code",
      "execution_count": 20,
      "metadata": {},
      "outputs": [
        {
          "name": "stdout",
          "output_type": "stream",
          "text": [
            "tf.Tensor(b'dogs', shape=(), dtype=string)\n",
            "tf.Tensor(\n",
            "[[[218.35938 218.07812 255.     ]\n",
            "  [218.5791  218.7373  255.     ]\n",
            "  [218.20312 217.60938 255.     ]\n",
            "  ...\n",
            "  [219.      219.79688 255.     ]\n",
            "  [219.      219.      255.     ]\n",
            "  [219.      219.      255.     ]]\n",
            "\n",
            " [[218.71924 219.15771 255.     ]\n",
            "  [218.7373  219.21191 255.     ]\n",
            "  [218.95557 219.8667  255.     ]\n",
            "  ...\n",
            "  [218.66699 219.00098 255.     ]\n",
            "  [218.2627  217.78809 255.     ]\n",
            "  [218.35938 218.07812 255.     ]]\n",
            "\n",
            " [[218.36816 218.10449 255.     ]\n",
            "  [218.10449 217.31348 255.     ]\n",
            "  [218.77832 219.33496 255.     ]\n",
            "  ...\n",
            "  [218.20312 217.60938 255.     ]\n",
            "  [218.92188 219.76562 255.     ]\n",
            "  [218.63184 218.89551 255.     ]]\n",
            "\n",
            " ...\n",
            "\n",
            " [[218.3794  218.13818 255.     ]\n",
            "  [218.92188 219.76562 255.     ]\n",
            "  [218.9751  219.9253  255.     ]\n",
            "  ...\n",
            "  [205.79395 200.01318 250.79688]\n",
            "  [221.27783 219.69873 254.875  ]\n",
            "  [222.      221.      255.     ]]\n",
            "\n",
            " [[218.5791  218.7373  255.     ]\n",
            "  [218.7373  219.21191 255.     ]\n",
            "  [218.33301 217.99902 255.     ]\n",
            "  ...\n",
            "  [203.875   199.65625 250.21875]\n",
            "  [207.80664 202.80664 251.     ]\n",
            "  [223.1582  221.5791  255.     ]]\n",
            "\n",
            " [[218.854   219.56201 255.     ]\n",
            "  [218.4209  218.2627  255.     ]\n",
            "  [218.44434 218.33301 255.     ]\n",
            "  ...\n",
            "  [204.5752  198.40088 250.55566]\n",
            "  [207.      202.      251.     ]\n",
            "  [222.      221.      255.     ]]], shape=(128, 128, 3), dtype=float32)\n",
            "tf.Tensor(b'cats', shape=(), dtype=string)\n",
            "tf.Tensor(\n",
            "[[[ 51.14453   85.14453   49.64453 ]\n",
            "  [ 45.        78.        48.789062]\n",
            "  [ 43.54004   76.54004   47.487305]\n",
            "  ...\n",
            "  [ 87.21094  125.3291    83.60547 ]\n",
            "  [ 75.4209   103.20996   63.31543 ]\n",
            "  [ 67.53906   91.53906   43.039062]]\n",
            "\n",
            " [[ 50.933594  84.93359   49.433594]\n",
            "  [ 45.0791    78.762695  46.395508]\n",
            "  [ 53.        86.1709    54.8291  ]\n",
            "  ...\n",
            "  [ 78.61719  109.11719   64.958984]\n",
            "  [ 57.933594  85.56641   41.617188]\n",
            "  [ 57.104492  83.762695  42.433594]]\n",
            "\n",
            " [[ 46.25      80.25      44.75    ]\n",
            "  [ 50.        83.        52.      ]\n",
            "  [ 48.472656  81.47266   50.472656]\n",
            "  ...\n",
            "  [ 55.222656  83.09082   45.48633 ]\n",
            "  [ 48.945312  76.41797   40.      ]\n",
            "  [ 44.945312  70.06348   37.708984]]\n",
            "\n",
            " ...\n",
            "\n",
            " [[232.43164  215.66797  208.66797 ]\n",
            "  [233.14551  215.5      211.14551 ]\n",
            "  [234.64551  218.10449  211.85449 ]\n",
            "  ...\n",
            "  [223.0498   202.28613  197.84082 ]\n",
            "  [230.36816  210.07715  204.36816 ]\n",
            "  [232.72266  215.72266  207.72266 ]]\n",
            "\n",
            " [[238.       225.       216.      ]\n",
            "  [237.80371  224.80371  215.80371 ]\n",
            "  [237.       224.       215.      ]\n",
            "  ...\n",
            "  [236.       219.       209.      ]\n",
            "  [236.8291   219.8291   209.8291  ]\n",
            "  [238.3291   221.3291   211.3291  ]]\n",
            "\n",
            " [[223.13184  205.13184  205.0791  ]\n",
            "  [222.46094  204.46094  204.4082  ]\n",
            "  [221.21094  202.54004  203.88184 ]\n",
            "  ...\n",
            "  [234.18457  218.18457  202.93457 ]\n",
            "  [232.10547  215.10547  208.10547 ]\n",
            "  [229.9082   212.9082   205.13184 ]]], shape=(128, 128, 3), dtype=float32)\n",
            "tf.Tensor(b'cats', shape=(), dtype=string)\n",
            "tf.Tensor(\n",
            "[[[234.58594   238.58594   247.58594  ]\n",
            "  [235.54688   239.59796   248.4447   ]\n",
            "  [234.        238.        247.       ]\n",
            "  ...\n",
            "  [ 21.322693   20.393005   18.393005 ]\n",
            "  [ 18.352173   18.759033   14.582947 ]\n",
            "  [ 17.985168   17.63861    13.31189  ]]\n",
            "\n",
            " [[234.7392    238.7392    247.7392   ]\n",
            "  [233.875     237.875     246.875    ]\n",
            "  [234.38586   238.38586   247.38586  ]\n",
            "  ...\n",
            "  [ 19.207886   18.207886   15.473511 ]\n",
            "  [ 20.283081   20.548706   15.915894 ]\n",
            "  [ 20.515625   19.515625   16.991577 ]]\n",
            "\n",
            " [[234.02264   238.02264   247.02264  ]\n",
            "  [234.75781   238.75781   247.75781  ]\n",
            "  [234.11731   238.11731   247.11731  ]\n",
            "  ...\n",
            "  [ 19.655762   19.655762   17.655762 ]\n",
            "  [ 18.945312   17.945312   13.9453125]\n",
            "  [ 16.780457   17.608582   15.194519 ]]\n",
            "\n",
            " ...\n",
            "\n",
            " [[118.62738   109.0188    115.84454  ]\n",
            "  [112.81555   107.044495  109.52887  ]\n",
            "  [118.21515   109.14868   114.34808  ]\n",
            "  ...\n",
            "  [ 28.886536   29.00769    31.00769  ]\n",
            "  [ 26.68988    26.68988    28.68988  ]\n",
            "  [ 29.487427   28.649902   28.931946 ]]\n",
            "\n",
            " [[117.62799   109.87018   113.93207  ]\n",
            "  [115.78125   106.53906   112.265625 ]\n",
            "  [116.21094   109.28125   116.07031  ]\n",
            "  ...\n",
            "  [ 28.664062   28.664062   30.664062 ]\n",
            "  [ 29.741516   29.983704   31.983704 ]\n",
            "  [ 25.629211   24.457336   25.777649 ]]\n",
            "\n",
            " [[117.98218   111.69171   117.18109  ]\n",
            "  [110.018005  103.96692   108.12018  ]\n",
            "  [117.12964   108.29608   113.2406   ]\n",
            "  ...\n",
            "  [ 29.803894   29.803894   31.803894 ]\n",
            "  [ 26.897827   26.897827   26.897827 ]\n",
            "  [ 26.120178   27.20752    28.945496 ]]], shape=(128, 128, 3), dtype=float32)\n"
          ]
        }
      ],
      "source": [
        "train_ds = train_ds.map(process_image)\n",
        "for img,label in train_ds.take(3):\n",
        "    print(label)\n",
        "    print(img)"
      ]
    },
    {
      "attachments": {},
      "cell_type": "markdown",
      "metadata": {},
      "source": [
        "# Scaling images"
      ]
    },
    {
      "cell_type": "code",
      "execution_count": 21,
      "metadata": {},
      "outputs": [],
      "source": [
        "def scale(image,label):\n",
        "    return image/255, label"
      ]
    },
    {
      "cell_type": "code",
      "execution_count": 26,
      "metadata": {},
      "outputs": [
        {
          "name": "stdout",
          "output_type": "stream",
          "text": [
            "****Image:  [1.7305979e-10 1.5543790e-10 1.8140700e-10]\n",
            "****Label:  b'cats'\n",
            "****Image:  [1.3894091e-10 1.6212763e-10 1.9087916e-10]\n",
            "****Label:  b'cats'\n",
            "****Image:  [2.3557697e-10 2.3557697e-10 2.3557697e-10]\n",
            "****Label:  b'dogs'\n",
            "****Image:  [2.1222767e-10 1.6770921e-10 1.8996842e-10]\n",
            "****Label:  b'dogs'\n",
            "****Image:  [5.300699e-11 4.465977e-11 3.631256e-11]\n",
            "****Label:  b'cats'\n"
          ]
        }
      ],
      "source": [
        "train_ds = train_ds.map(scale)\n",
        "for image, label in train_ds.take(5):\n",
        "    print(\"****Image: \",image.numpy()[0][0])\n",
        "    print(\"****Label: \",label.numpy())"
      ]
    }
  ],
  "metadata": {
    "accelerator": "GPU",
    "colab": {
      "provenance": []
    },
    "gpuClass": "standard",
    "kernelspec": {
      "display_name": "Python 3.10.6 64-bit",
      "language": "python",
      "name": "python3"
    },
    "language_info": {
      "codemirror_mode": {
        "name": "ipython",
        "version": 3
      },
      "file_extension": ".py",
      "mimetype": "text/x-python",
      "name": "python",
      "nbconvert_exporter": "python",
      "pygments_lexer": "ipython3",
      "version": "3.10.9"
    },
    "orig_nbformat": 4,
    "vscode": {
      "interpreter": {
        "hash": "52634da84371cba311ea128a5ea7cdc41ff074b781779e754b270ff9f8153cee"
      }
    }
  },
  "nbformat": 4,
  "nbformat_minor": 0
}
